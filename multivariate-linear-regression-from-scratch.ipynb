{
 "cells": [
  {
   "cell_type": "markdown",
   "id": "d0663d1e",
   "metadata": {
    "papermill": {
     "duration": 0.009747,
     "end_time": "2022-12-01T20:50:05.680393",
     "exception": false,
     "start_time": "2022-12-01T20:50:05.670646",
     "status": "completed"
    },
    "tags": []
   },
   "source": [
    "# Introduction  <a id='introduction'></a>\n",
    "\n",
    "This notebook contains Python code for a multivariate linear regression task. Multivariate linear regression means linear regression with more than one variable. In addition to Python, we will also use Pandas, Numpy, and Matplotlib libraries. \n",
    "\n",
    "This notebook is greatly inspired by the famous Machine Learning course by [Andrew Ng](https://www.andrewng.org/). As always, all the mistakes, if any, are made by me.\n",
    "\n",
    "Finally, thanks to [@Mohan S Acharya](https://www.kaggle.com/mohansacharya) for this dataset.\n",
    "\n",
    "\n",
    "# Table of Contents\n",
    "* [Introduction](#introduction)\n",
    "* [Helper functios](#functions)\n",
    "* [The Hypothesis](#hypothesis)\n",
    "* [The Cost Function](#cost)\n",
    "* [Gradient Descent](#gradient)\n",
    "* [Feature Normalization](#normalization)\n",
    "* [Loading Data](#getdata)\n",
    "* [Model Training](#training)\n",
    "* [Model Validation](#validation)\n",
    "* [Conclusion](#conclusion)\n",
    "* [References](#references)"
   ]
  },
  {
   "cell_type": "code",
   "execution_count": 1,
   "id": "26a264b5",
   "metadata": {
    "_cell_guid": "b1076dfc-b9ad-4769-8c92-a6c4dae69d19",
    "_uuid": "8f2839f25d086af736a60e9eeb907d3b93b6e0e5",
    "execution": {
     "iopub.execute_input": "2022-12-01T20:50:05.698045Z",
     "iopub.status.busy": "2022-12-01T20:50:05.696649Z",
     "iopub.status.idle": "2022-12-01T20:50:06.916927Z",
     "shell.execute_reply": "2022-12-01T20:50:06.915861Z"
    },
    "papermill": {
     "duration": 1.231796,
     "end_time": "2022-12-01T20:50:06.919791",
     "exception": false,
     "start_time": "2022-12-01T20:50:05.687995",
     "status": "completed"
    },
    "tags": []
   },
   "outputs": [
    {
     "name": "stdout",
     "output_type": "stream",
     "text": [
      "/kaggle/input/graduate-admissions/Admission_Predict.csv\n",
      "/kaggle/input/graduate-admissions/Admission_Predict_Ver1.1.csv\n"
     ]
    }
   ],
   "source": [
    "# This Python 3 environment comes with many helpful analytics libraries installed\n",
    "# It is defined by the kaggle/python Docker image: https://github.com/kaggle/docker-python\n",
    "# For example, here's several helpful packages to load\n",
    "\n",
    "import numpy as np # linear algebra\n",
    "import pandas as pd # data processing, CSV file I/O (e.g. pd.read_csv)\n",
    "\n",
    "# Input data files are available in the read-only \"../input/\" directory\n",
    "# For example, running this (by clicking run or pressing Shift+Enter) will list all files under the input directory\n",
    "\n",
    "import os\n",
    "for dirname, _, filenames in os.walk('/kaggle/input'):\n",
    "    for filename in filenames:\n",
    "        print(os.path.join(dirname, filename))\n",
    "\n",
    "# You can write up to 20GB to the current directory (/kaggle/working/) that gets preserved as output when you create a version using \"Save & Run All\" \n",
    "# You can also write temporary files to /kaggle/temp/, but they won't be saved outside of the current session\n",
    "\n",
    "from sklearn.model_selection import train_test_split\n",
    "import matplotlib.pyplot as plt"
   ]
  },
  {
   "cell_type": "markdown",
   "id": "99f4fea2",
   "metadata": {
    "papermill": {
     "duration": 0.006018,
     "end_time": "2022-12-01T20:50:06.932268",
     "exception": false,
     "start_time": "2022-12-01T20:50:06.926250",
     "status": "completed"
    },
    "tags": []
   },
   "source": [
    "# Helper Functions   <a id='functions'></a>   "
   ]
  },
  {
   "cell_type": "markdown",
   "id": "383e701d",
   "metadata": {
    "papermill": {
     "duration": 0.005723,
     "end_time": "2022-12-01T20:50:06.944154",
     "exception": false,
     "start_time": "2022-12-01T20:50:06.938431",
     "status": "completed"
    },
    "tags": []
   },
   "source": [
    "<div class=\"alert alert-block alert-info\">\n",
    "<b>Tip:</b> Tip: We will use some helper functions throughout the notebook. Collecting them in one place is a good idea, making the code more organized. First, we will define and explain those functions and then use them in our code.\n",
    "</div>"
   ]
  },
  {
   "cell_type": "markdown",
   "id": "fafa5f88",
   "metadata": {
    "papermill": {
     "duration": 0.005705,
     "end_time": "2022-12-01T20:50:06.955924",
     "exception": false,
     "start_time": "2022-12-01T20:50:06.950219",
     "status": "completed"
    },
    "tags": []
   },
   "source": [
    "# The  Hypothesis   <a id='hypothesis'></a>   "
   ]
  },
  {
   "cell_type": "markdown",
   "id": "f2e70a28",
   "metadata": {
    "papermill": {
     "duration": 0.005771,
     "end_time": "2022-12-01T20:50:06.967638",
     "exception": false,
     "start_time": "2022-12-01T20:50:06.961867",
     "status": "completed"
    },
    "tags": []
   },
   "source": [
    "The Hypotehsis Content"
   ]
  },
  {
   "cell_type": "code",
   "execution_count": 2,
   "id": "6051a82c",
   "metadata": {
    "execution": {
     "iopub.execute_input": "2022-12-01T20:50:06.982402Z",
     "iopub.status.busy": "2022-12-01T20:50:06.981593Z",
     "iopub.status.idle": "2022-12-01T20:50:06.987209Z",
     "shell.execute_reply": "2022-12-01T20:50:06.986226Z"
    },
    "papermill": {
     "duration": 0.015942,
     "end_time": "2022-12-01T20:50:06.989513",
     "exception": false,
     "start_time": "2022-12-01T20:50:06.973571",
     "status": "completed"
    },
    "tags": []
   },
   "outputs": [],
   "source": [
    "# The hypothesis\n",
    "def h(x, theta):\n",
    "    \"\"\"\n",
    "    calculates the predicted values (or predicted targets) for a given set of input and theta vectors.\n",
    "    :param x: inputs (feature values) - data frame of floats \n",
    "    :param theta: theta vector (weights) - Numpy array of floats\n",
    "    :return: predicted targets - Numpy array of floats\n",
    "    \n",
    "    \"\"\"\n",
    "    return np.dot(x, theta)"
   ]
  },
  {
   "cell_type": "markdown",
   "id": "8f903c9e",
   "metadata": {
    "papermill": {
     "duration": 0.005789,
     "end_time": "2022-12-01T20:50:07.003246",
     "exception": false,
     "start_time": "2022-12-01T20:50:06.997457",
     "status": "completed"
    },
    "tags": []
   },
   "source": [
    "# The  Cost Function   <a id='cost'></a> "
   ]
  },
  {
   "cell_type": "markdown",
   "id": "3b7f42a5",
   "metadata": {
    "papermill": {
     "duration": 0.005781,
     "end_time": "2022-12-01T20:50:07.015114",
     "exception": false,
     "start_time": "2022-12-01T20:50:07.009333",
     "status": "completed"
    },
    "tags": []
   },
   "source": [
    "The Cost function Content"
   ]
  },
  {
   "cell_type": "code",
   "execution_count": 3,
   "id": "fb22f42e",
   "metadata": {
    "execution": {
     "iopub.execute_input": "2022-12-01T20:50:07.029845Z",
     "iopub.status.busy": "2022-12-01T20:50:07.029003Z",
     "iopub.status.idle": "2022-12-01T20:50:07.036141Z",
     "shell.execute_reply": "2022-12-01T20:50:07.035152Z"
    },
    "papermill": {
     "duration": 0.017354,
     "end_time": "2022-12-01T20:50:07.038417",
     "exception": false,
     "start_time": "2022-12-01T20:50:07.021063",
     "status": "completed"
    },
    "tags": []
   },
   "outputs": [],
   "source": [
    "# The cost function\n",
    "\n",
    "def J(X,y,theta):\n",
    "    \"\"\"\n",
    "     Calculates the total error using squared error function.\n",
    "    :param X: inputs (feature values) - data frame of floats\n",
    "    :param y: outputs (actual target values) - Numpy array of floats\n",
    "    :param theta: theta vector (weights) - Numpy array of floats\n",
    "    :return: total error - float\n",
    "    \n",
    "    \"\"\"\n",
    "    # Calculate number of examples\n",
    "    m = len(X)\n",
    "    \n",
    "    # Calculate the constant\n",
    "    c = 1/(2 * m)\n",
    "       \n",
    "    # Calculate the array of errors\n",
    "    temp_0 = h(X, theta) - y.reshape(-1)\n",
    "\n",
    "    # Calculate the transpose of array of errors\n",
    "    temp_1 = temp_0.transpose()\n",
    "\n",
    "    # Calculate the dot product \n",
    "    temp_2 = np.dot(temp_1, temp_0) \n",
    "\n",
    "    return  c * temp_2"
   ]
  },
  {
   "cell_type": "markdown",
   "id": "0a57406d",
   "metadata": {
    "papermill": {
     "duration": 0.006205,
     "end_time": "2022-12-01T20:50:07.050932",
     "exception": false,
     "start_time": "2022-12-01T20:50:07.044727",
     "status": "completed"
    },
    "tags": []
   },
   "source": [
    "# Gradient Descent   <a id='gradient'></a> "
   ]
  },
  {
   "cell_type": "markdown",
   "id": "ccdc19df",
   "metadata": {
    "papermill": {
     "duration": 0.005729,
     "end_time": "2022-12-01T20:50:07.062761",
     "exception": false,
     "start_time": "2022-12-01T20:50:07.057032",
     "status": "completed"
    },
    "tags": []
   },
   "source": [
    "The gradient Descent content"
   ]
  },
  {
   "cell_type": "code",
   "execution_count": 4,
   "id": "f8a38ce0",
   "metadata": {
    "execution": {
     "iopub.execute_input": "2022-12-01T20:50:07.077458Z",
     "iopub.status.busy": "2022-12-01T20:50:07.076651Z",
     "iopub.status.idle": "2022-12-01T20:50:07.083795Z",
     "shell.execute_reply": "2022-12-01T20:50:07.082926Z"
    },
    "papermill": {
     "duration": 0.017194,
     "end_time": "2022-12-01T20:50:07.086002",
     "exception": false,
     "start_time": "2022-12-01T20:50:07.068808",
     "status": "completed"
    },
    "tags": []
   },
   "outputs": [],
   "source": [
    "# Gradient descent function\n",
    "def gradient(X, y, theta, alpha):\n",
    "    \"\"\"\n",
    "     calculates the gradient descent.\n",
    "    :param X: inputs (feature values) - data frame of floats\n",
    "    :param y: outputs (actual target values) - Numpy array of floats\n",
    "    :param theta: theta vector (weights) - Numpy array of floats\n",
    "    :param alpha: learning rate\n",
    "    :return: new theta - Numpy array of floats\n",
    "    \n",
    "    \"\"\"\n",
    "    # Calculate number of examples\n",
    "    m = len(X)\n",
    "    \n",
    "    # Calculate the constant\n",
    "    c =  alpha / m\n",
    "        \n",
    "    # calculate the transpose of X\n",
    "    temp_0 = X.transpose()\n",
    "        \n",
    "    # Calculate the array of errors\n",
    "    temp_1 = h(X, theta) - y.reshape(-1) \n",
    "        \n",
    "    # Calculate the dot product \n",
    "    temp_2 = np.dot(temp_0, temp_1)\n",
    "        \n",
    "    return theta - (c * temp_2)"
   ]
  },
  {
   "cell_type": "markdown",
   "id": "10d963e6",
   "metadata": {
    "papermill": {
     "duration": 0.005814,
     "end_time": "2022-12-01T20:50:07.097960",
     "exception": false,
     "start_time": "2022-12-01T20:50:07.092146",
     "status": "completed"
    },
    "tags": []
   },
   "source": [
    "# Feature Normalization  <a id='normalization'></a>"
   ]
  },
  {
   "cell_type": "markdown",
   "id": "15607fe9",
   "metadata": {
    "papermill": {
     "duration": 0.005682,
     "end_time": "2022-12-01T20:50:07.109722",
     "exception": false,
     "start_time": "2022-12-01T20:50:07.104040",
     "status": "completed"
    },
    "tags": []
   },
   "source": [
    "feature normalization content"
   ]
  },
  {
   "cell_type": "code",
   "execution_count": 5,
   "id": "101b61dc",
   "metadata": {
    "execution": {
     "iopub.execute_input": "2022-12-01T20:50:07.124426Z",
     "iopub.status.busy": "2022-12-01T20:50:07.123647Z",
     "iopub.status.idle": "2022-12-01T20:50:07.129230Z",
     "shell.execute_reply": "2022-12-01T20:50:07.128364Z"
    },
    "papermill": {
     "duration": 0.015699,
     "end_time": "2022-12-01T20:50:07.131407",
     "exception": false,
     "start_time": "2022-12-01T20:50:07.115708",
     "status": "completed"
    },
    "tags": []
   },
   "outputs": [],
   "source": [
    "# Standardization\n",
    "def normalize(X):\n",
    "    \"\"\"\n",
    "     Applies standardization to the dataframe.\n",
    "    :param X: unnormalized features - data frame of floats\n",
    "    :return: normalized features - data frame of floats\n",
    "    \n",
    "    \"\"\"\n",
    "    for column in X.columns:\n",
    "        X[column] = (X[column] - X[column].mean()) / X[column].std()\n",
    "        \n",
    "    return X"
   ]
  },
  {
   "cell_type": "markdown",
   "id": "ff464000",
   "metadata": {
    "papermill": {
     "duration": 0.005777,
     "end_time": "2022-12-01T20:50:07.143328",
     "exception": false,
     "start_time": "2022-12-01T20:50:07.137551",
     "status": "completed"
    },
    "tags": []
   },
   "source": [
    "# Loading Data   <a id='getdata'></a> "
   ]
  },
  {
   "cell_type": "code",
   "execution_count": 6,
   "id": "d83bf070",
   "metadata": {
    "execution": {
     "iopub.execute_input": "2022-12-01T20:50:07.157890Z",
     "iopub.status.busy": "2022-12-01T20:50:07.157095Z",
     "iopub.status.idle": "2022-12-01T20:50:07.209930Z",
     "shell.execute_reply": "2022-12-01T20:50:07.208466Z"
    },
    "papermill": {
     "duration": 0.063221,
     "end_time": "2022-12-01T20:50:07.212554",
     "exception": false,
     "start_time": "2022-12-01T20:50:07.149333",
     "status": "completed"
    },
    "tags": []
   },
   "outputs": [
    {
     "data": {
      "text/html": [
       "<div>\n",
       "<style scoped>\n",
       "    .dataframe tbody tr th:only-of-type {\n",
       "        vertical-align: middle;\n",
       "    }\n",
       "\n",
       "    .dataframe tbody tr th {\n",
       "        vertical-align: top;\n",
       "    }\n",
       "\n",
       "    .dataframe thead th {\n",
       "        text-align: right;\n",
       "    }\n",
       "</style>\n",
       "<table border=\"1\" class=\"dataframe\">\n",
       "  <thead>\n",
       "    <tr style=\"text-align: right;\">\n",
       "      <th></th>\n",
       "      <th>GRE Score</th>\n",
       "      <th>TOEFL Score</th>\n",
       "      <th>University Rating</th>\n",
       "      <th>SOP</th>\n",
       "      <th>LOR</th>\n",
       "      <th>CGPA</th>\n",
       "      <th>Research</th>\n",
       "    </tr>\n",
       "  </thead>\n",
       "  <tbody>\n",
       "    <tr>\n",
       "      <th>249</th>\n",
       "      <td>321</td>\n",
       "      <td>111</td>\n",
       "      <td>3</td>\n",
       "      <td>3.5</td>\n",
       "      <td>4.0</td>\n",
       "      <td>8.83</td>\n",
       "      <td>1</td>\n",
       "    </tr>\n",
       "    <tr>\n",
       "      <th>433</th>\n",
       "      <td>316</td>\n",
       "      <td>111</td>\n",
       "      <td>4</td>\n",
       "      <td>4.0</td>\n",
       "      <td>5.0</td>\n",
       "      <td>8.54</td>\n",
       "      <td>0</td>\n",
       "    </tr>\n",
       "    <tr>\n",
       "      <th>19</th>\n",
       "      <td>303</td>\n",
       "      <td>102</td>\n",
       "      <td>3</td>\n",
       "      <td>3.5</td>\n",
       "      <td>3.0</td>\n",
       "      <td>8.50</td>\n",
       "      <td>0</td>\n",
       "    </tr>\n",
       "    <tr>\n",
       "      <th>322</th>\n",
       "      <td>314</td>\n",
       "      <td>107</td>\n",
       "      <td>2</td>\n",
       "      <td>2.5</td>\n",
       "      <td>4.0</td>\n",
       "      <td>8.27</td>\n",
       "      <td>0</td>\n",
       "    </tr>\n",
       "    <tr>\n",
       "      <th>332</th>\n",
       "      <td>308</td>\n",
       "      <td>106</td>\n",
       "      <td>3</td>\n",
       "      <td>3.5</td>\n",
       "      <td>2.5</td>\n",
       "      <td>8.21</td>\n",
       "      <td>1</td>\n",
       "    </tr>\n",
       "  </tbody>\n",
       "</table>\n",
       "</div>"
      ],
      "text/plain": [
       "     GRE Score  TOEFL Score  University Rating  SOP  LOR   CGPA  Research\n",
       "249        321          111                  3  3.5   4.0  8.83         1\n",
       "433        316          111                  4  4.0   5.0  8.54         0\n",
       "19         303          102                  3  3.5   3.0  8.50         0\n",
       "322        314          107                  2  2.5   4.0  8.27         0\n",
       "332        308          106                  3  3.5   2.5  8.21         1"
      ]
     },
     "execution_count": 6,
     "metadata": {},
     "output_type": "execute_result"
    }
   ],
   "source": [
    "# Get the data. Note that there are two versions. We will use the one\n",
    "# with the most rows.\n",
    "\n",
    "train_data = pd.read_csv(\"/kaggle/input/graduate-admissions/Admission_Predict_Ver1.1.csv\")\n",
    "\n",
    "# Set X and y\n",
    "X = train_data.drop(['Chance of Admit ', 'Serial No.'], axis=1) # Chance of Admit is the target variable and Serial No. is the order. So we drop them.\n",
    "y = pd.DataFrame(data = train_data['Chance of Admit ']).to_numpy()\n",
    "\n",
    "# By multiplying y by 100, we can find the probabilities as a percentage.\n",
    "y = y * 100\n",
    "\n",
    "\n",
    "# X = normalize(X)\n",
    "\n",
    "# Break off validation set from training data\n",
    "X_train, X_valid, y_train, y_valid = train_test_split(X, y, train_size=0.8, test_size=0.2,\n",
    "                                                                random_state=42)\n",
    "\n",
    "X_train.head()"
   ]
  },
  {
   "cell_type": "code",
   "execution_count": 7,
   "id": "f4fc1b0d",
   "metadata": {
    "execution": {
     "iopub.execute_input": "2022-12-01T20:50:07.228066Z",
     "iopub.status.busy": "2022-12-01T20:50:07.227248Z",
     "iopub.status.idle": "2022-12-01T20:50:07.242605Z",
     "shell.execute_reply": "2022-12-01T20:50:07.241601Z"
    },
    "papermill": {
     "duration": 0.025783,
     "end_time": "2022-12-01T20:50:07.244815",
     "exception": false,
     "start_time": "2022-12-01T20:50:07.219032",
     "status": "completed"
    },
    "tags": []
   },
   "outputs": [
    {
     "data": {
      "text/html": [
       "<div>\n",
       "<style scoped>\n",
       "    .dataframe tbody tr th:only-of-type {\n",
       "        vertical-align: middle;\n",
       "    }\n",
       "\n",
       "    .dataframe tbody tr th {\n",
       "        vertical-align: top;\n",
       "    }\n",
       "\n",
       "    .dataframe thead th {\n",
       "        text-align: right;\n",
       "    }\n",
       "</style>\n",
       "<table border=\"1\" class=\"dataframe\">\n",
       "  <thead>\n",
       "    <tr style=\"text-align: right;\">\n",
       "      <th></th>\n",
       "      <th>GRE Score</th>\n",
       "      <th>TOEFL Score</th>\n",
       "      <th>University Rating</th>\n",
       "      <th>SOP</th>\n",
       "      <th>LOR</th>\n",
       "      <th>CGPA</th>\n",
       "      <th>Research</th>\n",
       "    </tr>\n",
       "  </thead>\n",
       "  <tbody>\n",
       "    <tr>\n",
       "      <th>249</th>\n",
       "      <td>321</td>\n",
       "      <td>111</td>\n",
       "      <td>3</td>\n",
       "      <td>3.5</td>\n",
       "      <td>4.0</td>\n",
       "      <td>8.83</td>\n",
       "      <td>1</td>\n",
       "    </tr>\n",
       "    <tr>\n",
       "      <th>433</th>\n",
       "      <td>316</td>\n",
       "      <td>111</td>\n",
       "      <td>4</td>\n",
       "      <td>4.0</td>\n",
       "      <td>5.0</td>\n",
       "      <td>8.54</td>\n",
       "      <td>0</td>\n",
       "    </tr>\n",
       "    <tr>\n",
       "      <th>19</th>\n",
       "      <td>303</td>\n",
       "      <td>102</td>\n",
       "      <td>3</td>\n",
       "      <td>3.5</td>\n",
       "      <td>3.0</td>\n",
       "      <td>8.50</td>\n",
       "      <td>0</td>\n",
       "    </tr>\n",
       "    <tr>\n",
       "      <th>322</th>\n",
       "      <td>314</td>\n",
       "      <td>107</td>\n",
       "      <td>2</td>\n",
       "      <td>2.5</td>\n",
       "      <td>4.0</td>\n",
       "      <td>8.27</td>\n",
       "      <td>0</td>\n",
       "    </tr>\n",
       "    <tr>\n",
       "      <th>332</th>\n",
       "      <td>308</td>\n",
       "      <td>106</td>\n",
       "      <td>3</td>\n",
       "      <td>3.5</td>\n",
       "      <td>2.5</td>\n",
       "      <td>8.21</td>\n",
       "      <td>1</td>\n",
       "    </tr>\n",
       "  </tbody>\n",
       "</table>\n",
       "</div>"
      ],
      "text/plain": [
       "     GRE Score  TOEFL Score  University Rating  SOP  LOR   CGPA  Research\n",
       "249        321          111                  3  3.5   4.0  8.83         1\n",
       "433        316          111                  4  4.0   5.0  8.54         0\n",
       "19         303          102                  3  3.5   3.0  8.50         0\n",
       "322        314          107                  2  2.5   4.0  8.27         0\n",
       "332        308          106                  3  3.5   2.5  8.21         1"
      ]
     },
     "execution_count": 7,
     "metadata": {},
     "output_type": "execute_result"
    }
   ],
   "source": [
    "X_train.head()"
   ]
  },
  {
   "cell_type": "markdown",
   "id": "75ec9866",
   "metadata": {
    "papermill": {
     "duration": 0.006294,
     "end_time": "2022-12-01T20:50:07.257794",
     "exception": false,
     "start_time": "2022-12-01T20:50:07.251500",
     "status": "completed"
    },
    "tags": []
   },
   "source": [
    "# Model Training   <a id='training'></a> "
   ]
  },
  {
   "cell_type": "markdown",
   "id": "6646242f",
   "metadata": {
    "papermill": {
     "duration": 0.006144,
     "end_time": "2022-12-01T20:50:07.270508",
     "exception": false,
     "start_time": "2022-12-01T20:50:07.264364",
     "status": "completed"
    },
    "tags": []
   },
   "source": [
    "Model training content"
   ]
  },
  {
   "cell_type": "code",
   "execution_count": 8,
   "id": "7268bf96",
   "metadata": {
    "execution": {
     "iopub.execute_input": "2022-12-01T20:50:07.286220Z",
     "iopub.status.busy": "2022-12-01T20:50:07.285360Z",
     "iopub.status.idle": "2022-12-01T20:50:07.383669Z",
     "shell.execute_reply": "2022-12-01T20:50:07.381854Z"
    },
    "papermill": {
     "duration": 0.112788,
     "end_time": "2022-12-01T20:50:07.389744",
     "exception": false,
     "start_time": "2022-12-01T20:50:07.276956",
     "status": "completed"
    },
    "tags": []
   },
   "outputs": [
    {
     "name": "stdout",
     "output_type": "stream",
     "text": [
      "initial Cost: 2720.69125\n",
      "\n",
      "Iteration: 1\n",
      "Calculated cost: 2160.024877767896\n",
      "cost difference: 560.6663722321036\n",
      "\n",
      "Iteration: 2\n",
      "Calculated cost: 1718.004746434205\n",
      "cost difference: 442.0201313336913\n",
      "\n",
      "Iteration: 3\n",
      "Calculated cost: 1369.523332880695\n",
      "cost difference: 348.4814135535098\n",
      "\n",
      "Iteration: 4\n",
      "Calculated cost: 1094.7862845744328\n",
      "cost difference: 274.7370483062623\n",
      "\n",
      "Iteration: 5\n",
      "Calculated cost: 878.1880640694122\n",
      "cost difference: 216.59822050502055\n",
      "\n",
      "Iteration: 6\n",
      "Calculated cost: 707.4255258814094\n",
      "cost difference: 170.76253818800285\n",
      "\n",
      "Iteration: 7\n",
      "Calculated cost: 572.7990752781235\n",
      "cost difference: 134.6264506032859\n",
      "\n",
      "Iteration: 8\n",
      "Calculated cost: 466.6617135232154\n",
      "cost difference: 106.13736175490811\n",
      "\n",
      "Iteration: 9\n",
      "Calculated cost: 382.98467433443534\n",
      "cost difference: 83.67703918878004\n",
      "\n",
      "Iteration: 10\n",
      "Calculated cost: 317.01497891066623\n",
      "cost difference: 65.96969542376911\n",
      "\n",
      "Iteration: 11\n",
      "Calculated cost: 265.0054580258627\n",
      "cost difference: 52.00952088480352\n",
      "\n",
      "Iteration: 12\n",
      "Calculated cost: 224.00190595006748\n",
      "cost difference: 41.00355207579523\n",
      "\n",
      "Iteration: 13\n",
      "Calculated cost: 191.67527615016746\n",
      "cost difference: 32.32662979990002\n",
      "\n",
      "Iteration: 14\n",
      "Calculated cost: 166.18938717867528\n",
      "cost difference: 25.485888971492187\n",
      "\n",
      "Iteration: 15\n",
      "Calculated cost: 146.09662420258488\n",
      "cost difference: 20.0927629760904\n",
      "\n",
      "Iteration: 16\n",
      "Calculated cost: 130.25571182800385\n",
      "cost difference: 15.840912374581023\n",
      "\n",
      "Iteration: 17\n",
      "Calculated cost: 117.76688756631488\n",
      "cost difference: 12.488824261688976\n",
      "\n",
      "Iteration: 18\n",
      "Calculated cost: 107.92079367594674\n",
      "cost difference: 9.846093890368138\n",
      "\n",
      "Iteration: 19\n",
      "Calculated cost: 100.15818434270615\n",
      "cost difference: 7.76260933324059\n",
      "\n",
      "Iteration: 20\n",
      "Calculated cost: 94.03815949267587\n",
      "cost difference: 6.120024850030276\n",
      "\n",
      "Iteration: 21\n",
      "Calculated cost: 89.21312086003661\n",
      "cost difference: 4.825038632639263\n",
      "\n",
      "Iteration: 22\n",
      "Calculated cost: 85.40902776857081\n",
      "cost difference: 3.804093091465802\n",
      "\n",
      "Iteration: 23\n",
      "Calculated cost: 82.4098311190555\n",
      "cost difference: 2.999196649515312\n",
      "\n",
      "Iteration: 24\n",
      "Calculated cost: 80.04520140450168\n",
      "cost difference: 2.364629714553814\n",
      "\n",
      "Iteration: 25\n",
      "Calculated cost: 78.18085368201687\n",
      "cost difference: 1.8643477224848084\n",
      "\n",
      "Iteration: 26\n",
      "Calculated cost: 76.71091994196262\n",
      "cost difference: 1.469933740054259\n",
      "\n",
      "Iteration: 27\n",
      "Calculated cost: 75.55193561099652\n",
      "cost difference: 1.158984330966092\n",
      "\n",
      "Iteration: 28\n",
      "Calculated cost: 74.63809861135212\n",
      "cost difference: 0.9138369996444027\n",
      "\n",
      "Iteration: 29\n",
      "Calculated cost: 73.91753168223474\n",
      "cost difference: 0.720566929117382\n",
      "\n",
      "Iteration: 30\n",
      "Calculated cost: 73.3493356563399\n",
      "cost difference: 0.5681960258948351\n",
      "\n",
      "Iteration: 31\n",
      "Calculated cost: 72.9012663121999\n",
      "cost difference: 0.4480693441400092\n",
      "\n",
      "Iteration: 32\n",
      "Calculated cost: 72.54790284331473\n",
      "cost difference: 0.35336346888516346\n",
      "\n",
      "Iteration: 33\n",
      "Calculated cost: 72.2692039097575\n",
      "cost difference: 0.2786989335572372\n",
      "\n",
      "Iteration: 34\n",
      "Calculated cost: 72.04936925333952\n",
      "cost difference: 0.21983465641797295\n",
      "\n",
      "Iteration: 35\n",
      "Calculated cost: 71.87594221399013\n",
      "cost difference: 0.17342703934939152\n",
      "\n",
      "Iteration: 36\n",
      "Calculated cost: 71.73910216863702\n",
      "cost difference: 0.1368400453531109\n",
      "\n",
      "Iteration: 37\n",
      "Calculated cost: 71.6311067018188\n",
      "cost difference: 0.10799546681822392\n",
      "\n",
      "Iteration: 38\n",
      "Calculated cost: 71.54585182229829\n",
      "cost difference: 0.08525487952050526\n",
      "\n",
      "Iteration: 39\n",
      "Calculated cost: 71.47852524517428\n",
      "cost difference: 0.0673265771240068\n",
      "\n",
      "Iteration: 40\n",
      "Calculated cost: 71.42533304528041\n",
      "cost difference: 0.05319219989387136\n",
      "\n",
      "Iteration: 41\n",
      "Calculated cost: 71.38328415528291\n",
      "cost difference: 0.04204888999750267\n",
      "\n",
      "Iteration: 42\n",
      "Calculated cost: 71.3500204675749\n",
      "cost difference: 0.0332636877080148\n",
      "\n",
      "Iteration: 43\n",
      "Calculated cost: 71.32368288944294\n",
      "cost difference: 0.02633757813195814\n",
      "\n",
      "Iteration: 44\n",
      "Calculated cost: 71.30280574319391\n",
      "cost difference: 0.020877146249020484\n",
      "\n",
      "Iteration: 45\n",
      "Calculated cost: 71.28623351297607\n",
      "cost difference: 0.016572230217846595\n",
      "\n",
      "Iteration: 46\n",
      "Calculated cost: 71.27305520936142\n",
      "cost difference: 0.013178303614651554\n",
      "\n",
      "Iteration: 47\n",
      "Calculated cost: 71.26255262347641\n",
      "cost difference: 0.010502585885006965\n",
      "\n",
      "Iteration: 48\n",
      "Calculated cost: 71.25415953142196\n",
      "cost difference: 0.008393092054447493\n",
      "\n",
      "Iteration: 49\n",
      "Calculated cost: 71.24742953171834\n",
      "cost difference: 0.00672999970362298\n",
      "\n",
      "Iteration: 50\n",
      "Calculated cost: 71.24201068888306\n",
      "cost difference: 0.005418842835283044\n",
      "\n",
      "Iteration: 51\n",
      "Calculated cost: 71.23762554285048\n",
      "cost difference: 0.004385146032575449\n",
      "\n",
      " Calculated theta: [0.00063072 0.20499924 0.07055318 0.00243594 0.00253937 0.00255498\n",
      " 0.00573387 0.00051217]\n"
     ]
    }
   ],
   "source": [
    "# Initialize\n",
    "\n",
    "# Make a list of ones\n",
    "ones_train = [1] * len(X_train)\n",
    "ones_valid = [1] * len(X_valid)\n",
    "\n",
    "# Insert ones to the fist column since\n",
    "# X_0 for all training examples should\n",
    "# be one.\n",
    "X_train.insert(0, \"X_0\", ones_train, True)\n",
    "X_valid.insert(0, \"X_0\", ones_valid, True)\n",
    "\n",
    "# Select zero vector for initial theta\n",
    "zero_list= [0] * len(X_train.axes[1])\n",
    "theta = np.asarray(zero_list)\n",
    "\n",
    "# set learning rate \n",
    "alpha = 0.000001\n",
    "\n",
    "# Set convergence threshold\n",
    "threshold = 0.005\n",
    "\n",
    "# Initial cost value.\n",
    "# Will also be used in the first iteration\n",
    "# of the while loop. If the initial cost\n",
    "# is smaller then convergence threshold then\n",
    "# while loop will not be executed.\n",
    "cost_diff = J(X_train, y_train, theta)\n",
    "print(\"initial Cost: {}\".format(cost_diff))\n",
    "\n",
    "# We will count the number of iterations.\n",
    "my_iter = 0\n",
    "\n",
    "# Create a dictionary of cost values for debugging\n",
    "cost_dict = {} # will be used for storing the cost value of each iteration.\n",
    "\n",
    "# Add initial cost value to the dictionary\n",
    "my_key = \"I_\" + str(my_iter)\n",
    "cost_dict[my_key] = cost_diff\n",
    "\n",
    "# Start gradient descent\n",
    "while cost_diff >= threshold:\n",
    "    \n",
    "    # calculate initial cost value\n",
    "    initial_cost = J(X_train, y_train, theta)\n",
    "    \n",
    "    # calculate and assign the new theta values\n",
    "    theta = gradient(X_train, y_train, theta, alpha)\n",
    "    \n",
    "    # calculate the consecutive cost value\n",
    "    new_cost = J(X_train, y_train, theta)\n",
    "        \n",
    "    # calculate the difference between the consecutive\n",
    "    # cost values\n",
    "    cost_diff = initial_cost - new_cost\n",
    "    \n",
    "    # Update the dictionary\n",
    "    my_key = \"I_\" + str(my_iter)\n",
    "    cost_dict[my_key] = new_cost\n",
    "    \n",
    "    my_iter += 1\n",
    "    \n",
    "    print()\n",
    "    print(\"Iteration: {}\".format(my_iter))\n",
    "    print(\"Calculated cost: {}\".format(new_cost))\n",
    "    print(\"cost difference: {}\".format(cost_diff))\n",
    "\n",
    "print(\"\\n Calculated theta: {}\".format(theta))\n",
    "  \n"
   ]
  },
  {
   "cell_type": "code",
   "execution_count": 9,
   "id": "39ab2887",
   "metadata": {
    "execution": {
     "iopub.execute_input": "2022-12-01T20:50:07.413404Z",
     "iopub.status.busy": "2022-12-01T20:50:07.412626Z",
     "iopub.status.idle": "2022-12-01T20:50:08.207986Z",
     "shell.execute_reply": "2022-12-01T20:50:08.206348Z"
    },
    "papermill": {
     "duration": 0.811,
     "end_time": "2022-12-01T20:50:08.210908",
     "exception": false,
     "start_time": "2022-12-01T20:50:07.399908",
     "status": "completed"
    },
    "tags": []
   },
   "outputs": [
    {
     "data": {
      "text/plain": [
       "[<matplotlib.lines.Line2D at 0x7f67bfbc5510>]"
      ]
     },
     "execution_count": 9,
     "metadata": {},
     "output_type": "execute_result"
    },
    {
     "data": {
      "image/png": "[encoded data removed]",
      "text/plain": [
       "<Figure size 1440x720 with 1 Axes>"
      ]
     },
     "metadata": {
      "needs_background": "light"
     },
     "output_type": "display_data"
    }
   ],
   "source": [
    "# Plot Debugging Curve\n",
    "Y1=[x for x in cost_dict.values()]\n",
    "\n",
    "X1=[x for x in cost_dict.keys()]\n",
    "\n",
    "fig = plt.figure(figsize=[20, 10])\n",
    "plt.xlabel('Iterations')\n",
    "plt.ylabel('J(θ)')\n",
    "plt.title('Debugging Curve')\n",
    "plt.plot(X1,Y1, color='tab:blue')\n"
   ]
  },
  {
   "cell_type": "markdown",
   "id": "e078b1a3",
   "metadata": {
    "papermill": {
     "duration": 0.007861,
     "end_time": "2022-12-01T20:50:08.227520",
     "exception": false,
     "start_time": "2022-12-01T20:50:08.219659",
     "status": "completed"
    },
    "tags": []
   },
   "source": [
    "# Model Validation   <a id='validation'></a> "
   ]
  },
  {
   "cell_type": "markdown",
   "id": "62a2e8e5",
   "metadata": {
    "papermill": {
     "duration": 0.007736,
     "end_time": "2022-12-01T20:50:08.243575",
     "exception": false,
     "start_time": "2022-12-01T20:50:08.235839",
     "status": "completed"
    },
    "tags": []
   },
   "source": [
    "model validation content"
   ]
  },
  {
   "cell_type": "code",
   "execution_count": 10,
   "id": "3f2eda6d",
   "metadata": {
    "execution": {
     "iopub.execute_input": "2022-12-01T20:50:08.264313Z",
     "iopub.status.busy": "2022-12-01T20:50:08.262781Z",
     "iopub.status.idle": "2022-12-01T20:50:08.272657Z",
     "shell.execute_reply": "2022-12-01T20:50:08.271428Z"
    },
    "papermill": {
     "duration": 0.02247,
     "end_time": "2022-12-01T20:50:08.275041",
     "exception": false,
     "start_time": "2022-12-01T20:50:08.252571",
     "status": "completed"
    },
    "tags": []
   },
   "outputs": [
    {
     "name": "stdout",
     "output_type": "stream",
     "text": [
      "\n",
      " theta: [0.00063072 0.20499924 0.07055318 0.00243594 0.00253937 0.00255498\n",
      " 0.00573387 0.00051217]\n",
      "\n",
      "Cost of test data: 73.71831848274627\n"
     ]
    }
   ],
   "source": [
    "print(\"\\n theta: {}\\n\".format(theta))\n",
    "\n",
    "# calculate the cost value for the test set\n",
    "cost_test = J(X_valid, y_valid, theta)\n",
    "print(\"Cost of test data: {}\".format(cost_test))"
   ]
  },
  {
   "cell_type": "markdown",
   "id": "96bcfc17",
   "metadata": {
    "papermill": {
     "duration": 0.007701,
     "end_time": "2022-12-01T20:50:08.291011",
     "exception": false,
     "start_time": "2022-12-01T20:50:08.283310",
     "status": "completed"
    },
    "tags": []
   },
   "source": [
    "# Conclusion   <a id='conclusion'></a> "
   ]
  },
  {
   "cell_type": "markdown",
   "id": "846cc944",
   "metadata": {
    "papermill": {
     "duration": 0.007685,
     "end_time": "2022-12-01T20:50:08.306838",
     "exception": false,
     "start_time": "2022-12-01T20:50:08.299153",
     "status": "completed"
    },
    "tags": []
   },
   "source": [
    "Conclusion content"
   ]
  },
  {
   "cell_type": "markdown",
   "id": "c711e6a8",
   "metadata": {
    "papermill": {
     "duration": 0.007866,
     "end_time": "2022-12-01T20:50:08.323211",
     "exception": false,
     "start_time": "2022-12-01T20:50:08.315345",
     "status": "completed"
    },
    "tags": []
   },
   "source": [
    "# References   <a id='references'></a>\n",
    "* [Machine Learning Specialization - Deeplearning.AI](https://www.deeplearning.ai/program/machine-learning-specialization/)\n",
    "* [Andrew Ng](https://en.wikipedia.org/wiki/Andrew_Ng)\n",
    "* [@Mohan S Acharya](https://www.kaggle.com/mohansacharya)\n",
    "* [10-simple-hacks-to-speed-up-your-data-analysis - Parul Pandey](https://www.kaggle.com/parulpandey/10-simple-hacks-to-speed-up-your-data-analysis)\n",
    "* [Univariate Linear Regression From Scratch - Kaggle](https://www.kaggle.com/code/erkanhatipoglu/univariate-linear-regression-from-scratch)\n",
    "* [Univariate Linear Regression From Scratch - Towards AI](https://pub.towardsai.net/univariate-linear-regression-from-scratch-68065fe8eb09)"
   ]
  }
 ],
 "metadata": {
  "kernelspec": {
   "display_name": "Python 3",
   "language": "python",
   "name": "python3"
  },
  "language_info": {
   "codemirror_mode": {
    "name": "ipython",
    "version": 3
   },
   "file_extension": ".py",
   "mimetype": "text/x-python",
   "name": "python",
   "nbconvert_exporter": "python",
   "pygments_lexer": "ipython3",
   "version": "3.7.12"
  },
  "papermill": {
   "default_parameters": {},
   "duration": 13.20176,
   "end_time": "2022-12-01T20:50:09.456892",
   "environment_variables": {},
   "exception": null,
   "input_path": "__notebook__.ipynb",
   "output_path": "__notebook__.ipynb",
   "parameters": {},
   "start_time": "2022-12-01T20:49:56.255132",
   "version": "2.3.4"
  }
 },
 "nbformat": 4,
 "nbformat_minor": 5
}
