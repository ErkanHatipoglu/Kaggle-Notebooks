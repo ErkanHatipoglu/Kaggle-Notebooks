{
 "cells": [
  {
   "cell_type": "markdown",
   "id": "0aabeec3",
   "metadata": {
    "papermill": {
     "duration": 0.006595,
     "end_time": "2023-03-19T21:36:19.949681",
     "exception": false,
     "start_time": "2023-03-19T21:36:19.943086",
     "status": "completed"
    },
    "tags": []
   },
   "source": [
    "# Introduction  <a id='introduction'></a>\n",
    "\n",
    "Introduction Text!\n",
    "\n",
    "This notebook is greatly inspired by the famous Machine Learning course by [Andrew Ng](https://www.andrewng.org/). All the mistakes, if any, are made by me.\n",
    "\n",
    "Finally, thanks to [@Mohan S Acharya](https://www.kaggle.com/mohansacharya) for this dataset.\n",
    "\n",
    "\n",
    "# Table of Contents\n",
    "* [Introduction](#introduction)\n",
    "* [Helper functions](#functions)\n",
    "* [The Normal Equation](#normal)\n",
    "* [The Hypothesis](#hypothesis)\n",
    "* [The Cost Function](#cost)\n",
    "* [Loading Data](#getdata)\n",
    "* [Model Training](#training)\n",
    "* [Model Validation](#validation)\n",
    "* [Conclusion](#conclusion)\n",
    "* [References](#references)"
   ]
  },
  {
   "cell_type": "code",
   "execution_count": 1,
   "id": "ad17c7de",
   "metadata": {
    "_cell_guid": "b1076dfc-b9ad-4769-8c92-a6c4dae69d19",
    "_uuid": "8f2839f25d086af736a60e9eeb907d3b93b6e0e5",
    "execution": {
     "iopub.execute_input": "2023-03-19T21:36:19.961230Z",
     "iopub.status.busy": "2023-03-19T21:36:19.960498Z",
     "iopub.status.idle": "2023-03-19T21:36:20.816822Z",
     "shell.execute_reply": "2023-03-19T21:36:20.815374Z"
    },
    "papermill": {
     "duration": 0.864971,
     "end_time": "2023-03-19T21:36:20.819522",
     "exception": false,
     "start_time": "2023-03-19T21:36:19.954551",
     "status": "completed"
    },
    "tags": []
   },
   "outputs": [
    {
     "name": "stdout",
     "output_type": "stream",
     "text": [
      "/kaggle/input/graduate-admissions/Admission_Predict.csv\n",
      "/kaggle/input/graduate-admissions/Admission_Predict_Ver1.1.csv\n"
     ]
    }
   ],
   "source": [
    "# This Python 3 environment comes with many helpful analytics libraries installed\n",
    "# It is defined by the kaggle/python Docker image: https://github.com/kaggle/docker-python\n",
    "# For example, here's several helpful packages to load\n",
    "\n",
    "import numpy as np # linear algebra\n",
    "import pandas as pd # data processing, CSV file I/O (e.g. pd.read_csv)\n",
    "\n",
    "# Input data files are available in the read-only \"../input/\" directory\n",
    "# For example, running this (by clicking run or pressing Shift+Enter) will list all files under the input directory\n",
    "\n",
    "import os\n",
    "for dirname, _, filenames in os.walk('/kaggle/input'):\n",
    "    for filename in filenames:\n",
    "        print(os.path.join(dirname, filename))\n",
    "\n",
    "# You can write up to 20GB to the current directory (/kaggle/working/) that gets preserved as output when you create a version using \"Save & Run All\" \n",
    "# You can also write temporary files to /kaggle/temp/, but they won't be saved outside of the current session\n",
    "\n",
    "from sklearn.model_selection import train_test_split"
   ]
  },
  {
   "cell_type": "markdown",
   "id": "fd76f9e9",
   "metadata": {
    "papermill": {
     "duration": 0.005673,
     "end_time": "2023-03-19T21:36:20.830547",
     "exception": false,
     "start_time": "2023-03-19T21:36:20.824874",
     "status": "completed"
    },
    "tags": []
   },
   "source": [
    "# Helper Functions   <a id='functions'></a>   "
   ]
  },
  {
   "cell_type": "markdown",
   "id": "0c288b18",
   "metadata": {
    "papermill": {
     "duration": 0.004632,
     "end_time": "2023-03-19T21:36:20.840740",
     "exception": false,
     "start_time": "2023-03-19T21:36:20.836108",
     "status": "completed"
    },
    "tags": []
   },
   "source": [
    "<div class=\"alert alert-block alert-info\">\n",
    "<b>Tip:</b> We will use some helper functions throughout the notebook. Collecting them in one place is a good idea, making the code more organized. First, we will define and explain those functions and then use them in our code.\n",
    "</div>"
   ]
  },
  {
   "cell_type": "markdown",
   "id": "699dfd26",
   "metadata": {
    "papermill": {
     "duration": 0.004385,
     "end_time": "2023-03-19T21:36:20.849916",
     "exception": false,
     "start_time": "2023-03-19T21:36:20.845531",
     "status": "completed"
    },
    "tags": []
   },
   "source": [
    "# The Normal Equation   <a id='normal'></a> "
   ]
  },
  {
   "cell_type": "markdown",
   "id": "a493cc72",
   "metadata": {
    "papermill": {
     "duration": 0.004413,
     "end_time": "2023-03-19T21:36:20.859038",
     "exception": false,
     "start_time": "2023-03-19T21:36:20.854625",
     "status": "completed"
    },
    "tags": []
   },
   "source": [
    "The Normal Equation Text!"
   ]
  },
  {
   "cell_type": "code",
   "execution_count": 2,
   "id": "c2217374",
   "metadata": {
    "execution": {
     "iopub.execute_input": "2023-03-19T21:36:20.870874Z",
     "iopub.status.busy": "2023-03-19T21:36:20.870297Z",
     "iopub.status.idle": "2023-03-19T21:36:20.876182Z",
     "shell.execute_reply": "2023-03-19T21:36:20.875392Z"
    },
    "papermill": {
     "duration": 0.01463,
     "end_time": "2023-03-19T21:36:20.878602",
     "exception": false,
     "start_time": "2023-03-19T21:36:20.863972",
     "status": "completed"
    },
    "tags": []
   },
   "outputs": [],
   "source": [
    "# The normal equation\n",
    "\n",
    "def calculate_theta(X,y):\n",
    "    \"\"\"\n",
    "     Calculates the theta vector using the normal equation.\n",
    "    \n",
    "    :param X: inputs (feature values) - data frame of floats\n",
    "    :param y: outputs (actual target values) - Numpy array of floats\n",
    "    \n",
    "    :return: new theta - Numpy array of floats\n",
    "    \n",
    "    \"\"\"\n",
    "    # Calculate transpose of X\n",
    "    X_transpose = X.transpose()\n",
    "    \n",
    "    # Calculate the dot product between X_transpose and X\n",
    "    temp_0 = np.dot(X_transpose, X)\n",
    "        \n",
    "    # Calculate the inverse of temp_0\n",
    "    temp_1 = np.linalg.inv(temp_0)\n",
    "\n",
    "    # Calculate the dot product between temp_1 and X_transpose\n",
    "    temp_2 = np.dot(temp_1, X_transpose)\n",
    "\n",
    "    # Calculate the dot product between temp_2 and y\n",
    "    theta = np.dot(temp_2, y) \n",
    "\n",
    "    return  theta.reshape(-1)"
   ]
  },
  {
   "cell_type": "markdown",
   "id": "43088952",
   "metadata": {
    "papermill": {
     "duration": 0.004498,
     "end_time": "2023-03-19T21:36:20.888008",
     "exception": false,
     "start_time": "2023-03-19T21:36:20.883510",
     "status": "completed"
    },
    "tags": []
   },
   "source": [
    "# The  Hypothesis   <a id='hypothesis'></a>   "
   ]
  },
  {
   "cell_type": "markdown",
   "id": "fdb7e7db",
   "metadata": {
    "execution": {
     "iopub.execute_input": "2023-03-19T20:08:10.723871Z",
     "iopub.status.busy": "2023-03-19T20:08:10.723267Z",
     "iopub.status.idle": "2023-03-19T20:08:10.730032Z",
     "shell.execute_reply": "2023-03-19T20:08:10.728533Z",
     "shell.execute_reply.started": "2023-03-19T20:08:10.723828Z"
    },
    "papermill": {
     "duration": 0.004488,
     "end_time": "2023-03-19T21:36:20.897183",
     "exception": false,
     "start_time": "2023-03-19T21:36:20.892695",
     "status": "completed"
    },
    "tags": []
   },
   "source": [
    "The Hypothesis Text!"
   ]
  },
  {
   "cell_type": "code",
   "execution_count": 3,
   "id": "40ae30b0",
   "metadata": {
    "execution": {
     "iopub.execute_input": "2023-03-19T21:36:20.908633Z",
     "iopub.status.busy": "2023-03-19T21:36:20.908096Z",
     "iopub.status.idle": "2023-03-19T21:36:20.913306Z",
     "shell.execute_reply": "2023-03-19T21:36:20.911898Z"
    },
    "papermill": {
     "duration": 0.013558,
     "end_time": "2023-03-19T21:36:20.915417",
     "exception": false,
     "start_time": "2023-03-19T21:36:20.901859",
     "status": "completed"
    },
    "tags": []
   },
   "outputs": [],
   "source": [
    "# The hypothesis\n",
    "def h(x, theta):\n",
    "    \"\"\"\n",
    "     Calculates the predicted values (or predicted targets) for a given set of input and theta vectors.\n",
    "    \n",
    "    :param x: inputs (feature values) - data frame of floats \n",
    "    :param theta: theta vector (weights) - Numpy array of floats\n",
    "    \n",
    "    :return: predicted targets - Numpy array of floats\n",
    "    \n",
    "    \"\"\"\n",
    "    # The hypothesis is a column vector of m x 1\n",
    "    return np.dot(x, theta)"
   ]
  },
  {
   "cell_type": "markdown",
   "id": "d734bb62",
   "metadata": {
    "papermill": {
     "duration": 0.004603,
     "end_time": "2023-03-19T21:36:20.924901",
     "exception": false,
     "start_time": "2023-03-19T21:36:20.920298",
     "status": "completed"
    },
    "tags": []
   },
   "source": [
    "# The  Cost Function   <a id='cost'></a> "
   ]
  },
  {
   "cell_type": "markdown",
   "id": "eeaeb048",
   "metadata": {
    "papermill": {
     "duration": 0.004369,
     "end_time": "2023-03-19T21:36:20.934640",
     "exception": false,
     "start_time": "2023-03-19T21:36:20.930271",
     "status": "completed"
    },
    "tags": []
   },
   "source": [
    "The cost Function Text!"
   ]
  },
  {
   "cell_type": "code",
   "execution_count": 4,
   "id": "7745f430",
   "metadata": {
    "execution": {
     "iopub.execute_input": "2023-03-19T21:36:20.945368Z",
     "iopub.status.busy": "2023-03-19T21:36:20.945041Z",
     "iopub.status.idle": "2023-03-19T21:36:20.951580Z",
     "shell.execute_reply": "2023-03-19T21:36:20.950500Z"
    },
    "papermill": {
     "duration": 0.01426,
     "end_time": "2023-03-19T21:36:20.953521",
     "exception": false,
     "start_time": "2023-03-19T21:36:20.939261",
     "status": "completed"
    },
    "tags": []
   },
   "outputs": [],
   "source": [
    "# The cost function\n",
    "\n",
    "def J(X,y,theta):\n",
    "    \"\"\"\n",
    "     Calculates the total error using squared error function.\n",
    "    \n",
    "    :param X: inputs (feature values) - data frame of floats\n",
    "    :param y: outputs (actual target values) - Numpy array of floats\n",
    "    :param theta: theta vector (weights) - Numpy array of floats\n",
    "    \n",
    "    :return: total error - float\n",
    "    \n",
    "    \"\"\"\n",
    "    # Calculate number of examples\n",
    "    m = len(X)\n",
    "    \n",
    "    # Calculate the constant\n",
    "    c = 1/(2 * m)\n",
    "       \n",
    "    # Calculate the array of errors\n",
    "    temp_0 = h(X, theta) - y.reshape(-1)\n",
    "\n",
    "    # Calculate the transpose of array of errors\n",
    "    temp_1 = temp_0.transpose()\n",
    "\n",
    "    # Calculate the dot product \n",
    "    temp_2 = np.dot(temp_1, temp_0) \n",
    "\n",
    "    return  c * temp_2"
   ]
  },
  {
   "cell_type": "markdown",
   "id": "31e0753b",
   "metadata": {
    "papermill": {
     "duration": 0.004667,
     "end_time": "2023-03-19T21:36:20.963264",
     "exception": false,
     "start_time": "2023-03-19T21:36:20.958597",
     "status": "completed"
    },
    "tags": []
   },
   "source": [
    "# Loading Data   <a id='getdata'></a> "
   ]
  },
  {
   "cell_type": "markdown",
   "id": "4345fbc8",
   "metadata": {
    "papermill": {
     "duration": 0.004883,
     "end_time": "2023-03-19T21:36:20.973020",
     "exception": false,
     "start_time": "2023-03-19T21:36:20.968137",
     "status": "completed"
    },
    "tags": []
   },
   "source": [
    "First of all, we will load the CSV file in this part. Since there are two different versions of the dataset, we will load the one with more data. We will then create our training DataFrame and target vector. Next, we will normalize some columns of the training DataFrame using min-max scaling. Finally, we will split our data into training and validation DataFrames so that we can validate the results."
   ]
  },
  {
   "cell_type": "code",
   "execution_count": 5,
   "id": "267e69d5",
   "metadata": {
    "execution": {
     "iopub.execute_input": "2023-03-19T21:36:20.984387Z",
     "iopub.status.busy": "2023-03-19T21:36:20.983774Z",
     "iopub.status.idle": "2023-03-19T21:36:21.032366Z",
     "shell.execute_reply": "2023-03-19T21:36:21.031100Z"
    },
    "papermill": {
     "duration": 0.056694,
     "end_time": "2023-03-19T21:36:21.034445",
     "exception": false,
     "start_time": "2023-03-19T21:36:20.977751",
     "status": "completed"
    },
    "tags": []
   },
   "outputs": [
    {
     "data": {
      "text/html": [
       "<div>\n",
       "<style scoped>\n",
       "    .dataframe tbody tr th:only-of-type {\n",
       "        vertical-align: middle;\n",
       "    }\n",
       "\n",
       "    .dataframe tbody tr th {\n",
       "        vertical-align: top;\n",
       "    }\n",
       "\n",
       "    .dataframe thead th {\n",
       "        text-align: right;\n",
       "    }\n",
       "</style>\n",
       "<table border=\"1\" class=\"dataframe\">\n",
       "  <thead>\n",
       "    <tr style=\"text-align: right;\">\n",
       "      <th></th>\n",
       "      <th>GRE Score</th>\n",
       "      <th>TOEFL Score</th>\n",
       "      <th>University Rating</th>\n",
       "      <th>SOP</th>\n",
       "      <th>LOR</th>\n",
       "      <th>CGPA</th>\n",
       "      <th>Research</th>\n",
       "    </tr>\n",
       "  </thead>\n",
       "  <tbody>\n",
       "    <tr>\n",
       "      <th>107</th>\n",
       "      <td>338</td>\n",
       "      <td>117</td>\n",
       "      <td>4</td>\n",
       "      <td>3.5</td>\n",
       "      <td>4.5</td>\n",
       "      <td>9.46</td>\n",
       "      <td>1</td>\n",
       "    </tr>\n",
       "    <tr>\n",
       "      <th>336</th>\n",
       "      <td>319</td>\n",
       "      <td>110</td>\n",
       "      <td>3</td>\n",
       "      <td>3.0</td>\n",
       "      <td>2.5</td>\n",
       "      <td>8.79</td>\n",
       "      <td>0</td>\n",
       "    </tr>\n",
       "    <tr>\n",
       "      <th>71</th>\n",
       "      <td>336</td>\n",
       "      <td>112</td>\n",
       "      <td>5</td>\n",
       "      <td>5.0</td>\n",
       "      <td>5.0</td>\n",
       "      <td>9.76</td>\n",
       "      <td>1</td>\n",
       "    </tr>\n",
       "    <tr>\n",
       "      <th>474</th>\n",
       "      <td>308</td>\n",
       "      <td>105</td>\n",
       "      <td>4</td>\n",
       "      <td>3.0</td>\n",
       "      <td>2.5</td>\n",
       "      <td>7.95</td>\n",
       "      <td>1</td>\n",
       "    </tr>\n",
       "    <tr>\n",
       "      <th>6</th>\n",
       "      <td>321</td>\n",
       "      <td>109</td>\n",
       "      <td>3</td>\n",
       "      <td>3.0</td>\n",
       "      <td>4.0</td>\n",
       "      <td>8.20</td>\n",
       "      <td>1</td>\n",
       "    </tr>\n",
       "  </tbody>\n",
       "</table>\n",
       "</div>"
      ],
      "text/plain": [
       "     GRE Score  TOEFL Score  University Rating  SOP  LOR   CGPA  Research\n",
       "107        338          117                  4  3.5   4.5  9.46         1\n",
       "336        319          110                  3  3.0   2.5  8.79         0\n",
       "71         336          112                  5  5.0   5.0  9.76         1\n",
       "474        308          105                  4  3.0   2.5  7.95         1\n",
       "6          321          109                  3  3.0   4.0  8.20         1"
      ]
     },
     "execution_count": 5,
     "metadata": {},
     "output_type": "execute_result"
    }
   ],
   "source": [
    "# Get the data. Note that there are two versions. We will use the one\n",
    "# with the most rows.\n",
    "\n",
    "train_data = pd.read_csv(\"/kaggle/input/graduate-admissions/Admission_Predict_Ver1.1.csv\")\n",
    "\n",
    "# Set X and y\n",
    "X = train_data.drop(['Chance of Admit ', 'Serial No.'], axis=1) # Chance of Admit is the target variable and Serial No. is the order. So we drop them.\n",
    "y = pd.DataFrame(data = train_data['Chance of Admit ']).to_numpy()\n",
    "\n",
    "# Instead of finding probabilities, we want to calculate the percentages.\n",
    "y = y * 100\n",
    "\n",
    "# Break off validation set from training data\n",
    "X_train, X_valid, y_train, y_valid = train_test_split(X, y, train_size=0.8, test_size=0.2, random_state = 0)\n",
    "\n",
    "X_train.head()"
   ]
  },
  {
   "cell_type": "markdown",
   "id": "b2d0f60e",
   "metadata": {
    "papermill": {
     "duration": 0.004605,
     "end_time": "2023-03-19T21:36:21.044188",
     "exception": false,
     "start_time": "2023-03-19T21:36:21.039583",
     "status": "completed"
    },
    "tags": []
   },
   "source": [
    "# Model Training   <a id='training'></a> "
   ]
  },
  {
   "cell_type": "markdown",
   "id": "fdc48e0e",
   "metadata": {
    "papermill": {
     "duration": 0.004527,
     "end_time": "2023-03-19T21:36:21.053536",
     "exception": false,
     "start_time": "2023-03-19T21:36:21.049009",
     "status": "completed"
    },
    "tags": []
   },
   "source": [
    "Model Training Text!"
   ]
  },
  {
   "cell_type": "code",
   "execution_count": 6,
   "id": "5990b4b8",
   "metadata": {
    "execution": {
     "iopub.execute_input": "2023-03-19T21:36:21.065619Z",
     "iopub.status.busy": "2023-03-19T21:36:21.064407Z",
     "iopub.status.idle": "2023-03-19T21:36:21.089646Z",
     "shell.execute_reply": "2023-03-19T21:36:21.088828Z"
    },
    "papermill": {
     "duration": 0.033271,
     "end_time": "2023-03-19T21:36:21.091568",
     "exception": false,
     "start_time": "2023-03-19T21:36:21.058297",
     "status": "completed"
    },
    "tags": []
   },
   "outputs": [
    {
     "name": "stdout",
     "output_type": "stream",
     "text": [
      "[-1.34416734e+02  2.14141419e-01  2.77038677e-01  5.55692827e-01\n",
      "  5.10313673e-02  2.04133847e+00  1.15053979e+01  2.41256700e+00]\n",
      "Cost_train: 17.100414719720018\n"
     ]
    }
   ],
   "source": [
    "# Initialize\n",
    "\n",
    "# Calculate the number of examles\n",
    "m_train = len(X_train)\n",
    "m_valid = len(X_valid)\n",
    "\n",
    "# Calculate the number of features\n",
    "# including X_0\n",
    "n = len(X_train.axes[1]) + 1\n",
    "\n",
    "# Create a list of ones\n",
    "ones_train = [1] * m_train\n",
    "ones_valid = [1] * m_valid\n",
    "\n",
    "# Insert ones to the fist column since\n",
    "# X_0 for all training examples should\n",
    "# be one.\n",
    "X_train.insert(0, \"X_0\", ones_train, True)\n",
    "X_valid.insert(0, \"X_0\", ones_valid, True)\n",
    "\n",
    "# Find the theta vector using the normal equation\n",
    "theta_train = calculate_theta(X_train,y_train)\n",
    "print(theta_train)\n",
    "\n",
    "# Calculate and display the cost value on the training dataset\n",
    "cost_train = J(X_train, y_train, theta_train)\n",
    "print(\"Cost_train: {}\".format(cost_train))"
   ]
  },
  {
   "cell_type": "markdown",
   "id": "a53e7810",
   "metadata": {
    "papermill": {
     "duration": 0.012816,
     "end_time": "2023-03-19T21:36:21.112584",
     "exception": false,
     "start_time": "2023-03-19T21:36:21.099768",
     "status": "completed"
    },
    "tags": []
   },
   "source": [
    "# Model Validation   <a id='validation'></a> "
   ]
  },
  {
   "cell_type": "markdown",
   "id": "313ba079",
   "metadata": {
    "papermill": {
     "duration": 0.011692,
     "end_time": "2023-03-19T21:36:21.133203",
     "exception": false,
     "start_time": "2023-03-19T21:36:21.121511",
     "status": "completed"
    },
    "tags": []
   },
   "source": [
    "Model Validation Text"
   ]
  },
  {
   "cell_type": "code",
   "execution_count": 7,
   "id": "33087b00",
   "metadata": {
    "execution": {
     "iopub.execute_input": "2023-03-19T21:36:21.167683Z",
     "iopub.status.busy": "2023-03-19T21:36:21.167108Z",
     "iopub.status.idle": "2023-03-19T21:36:21.174284Z",
     "shell.execute_reply": "2023-03-19T21:36:21.173368Z"
    },
    "papermill": {
     "duration": 0.042971,
     "end_time": "2023-03-19T21:36:21.185569",
     "exception": false,
     "start_time": "2023-03-19T21:36:21.142598",
     "status": "completed"
    },
    "tags": []
   },
   "outputs": [
    {
     "name": "stdout",
     "output_type": "stream",
     "text": [
      "[-1.34416734e+02  2.14141419e-01  2.77038677e-01  5.55692827e-01\n",
      "  5.10313673e-02  2.04133847e+00  1.15053979e+01  2.41256700e+00]\n",
      "Cost_valid: 20.39840017300976\n"
     ]
    }
   ],
   "source": [
    "print(theta_train)\n",
    "cost_valid = J(X_valid, y_valid, theta_train)\n",
    "print(\"Cost_valid: {}\".format(cost_valid))"
   ]
  },
  {
   "cell_type": "markdown",
   "id": "1ec46972",
   "metadata": {
    "papermill": {
     "duration": 0.006153,
     "end_time": "2023-03-19T21:36:21.199063",
     "exception": false,
     "start_time": "2023-03-19T21:36:21.192910",
     "status": "completed"
    },
    "tags": []
   },
   "source": [
    "# Conclusion   <a id='conclusion'></a> "
   ]
  },
  {
   "cell_type": "markdown",
   "id": "6a98dc0d",
   "metadata": {
    "papermill": {
     "duration": 0.004838,
     "end_time": "2023-03-19T21:36:21.210142",
     "exception": false,
     "start_time": "2023-03-19T21:36:21.205304",
     "status": "completed"
    },
    "tags": []
   },
   "source": [
    "Conclusion Text!"
   ]
  },
  {
   "cell_type": "markdown",
   "id": "2c180d4a",
   "metadata": {
    "papermill": {
     "duration": 0.004773,
     "end_time": "2023-03-19T21:36:21.219870",
     "exception": false,
     "start_time": "2023-03-19T21:36:21.215097",
     "status": "completed"
    },
    "tags": []
   },
   "source": [
    "# References   <a id='references'></a>\n",
    "* [Machine Learning Specialization - Deeplearning.AI](https://www.deeplearning.ai/program/machine-learning-specialization/)\n",
    "* [Andrew Ng](https://en.wikipedia.org/wiki/Andrew_Ng)\n",
    "* [@Mohan S Acharya](https://www.kaggle.com/mohansacharya)\n",
    "* [Multivariate Linear Regression From Scratch - Kaggle](https://www.kaggle.com/code/erkanhatipoglu/multivariate-linear-regression-from-scratch)\n",
    "* [Univariate Linear Regression From Scratch - Kaggle](https://www.kaggle.com/code/erkanhatipoglu/univariate-linear-regression-from-scratch)\n",
    "* [Univariate Linear Regression From Scratch - Towards AI](https://pub.towardsai.net/univariate-linear-regression-from-scratch-68065fe8eb09)\n",
    "* [Towards AI](https://pub.towardsai.net/)"
   ]
  }
 ],
 "metadata": {
  "kernelspec": {
   "display_name": "Python 3",
   "language": "python",
   "name": "python3"
  },
  "language_info": {
   "codemirror_mode": {
    "name": "ipython",
    "version": 3
   },
   "file_extension": ".py",
   "mimetype": "text/x-python",
   "name": "python",
   "nbconvert_exporter": "python",
   "pygments_lexer": "ipython3",
   "version": "3.7.12"
  },
  "papermill": {
   "default_parameters": {},
   "duration": 10.340053,
   "end_time": "2023-03-19T21:36:21.946666",
   "environment_variables": {},
   "exception": null,
   "input_path": "__notebook__.ipynb",
   "output_path": "__notebook__.ipynb",
   "parameters": {},
   "start_time": "2023-03-19T21:36:11.606613",
   "version": "2.4.0"
  }
 },
 "nbformat": 4,
 "nbformat_minor": 5
}
