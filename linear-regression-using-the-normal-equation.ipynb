{
 "cells": [
  {
   "cell_type": "markdown",
   "id": "24ade3e2",
   "metadata": {
    "papermill": {
     "duration": 0.00451,
     "end_time": "2023-03-19T20:54:58.646195",
     "exception": false,
     "start_time": "2023-03-19T20:54:58.641685",
     "status": "completed"
    },
    "tags": []
   },
   "source": [
    "# Introduction  <a id='introduction'></a>\n",
    "\n",
    "Introduction Text!\n",
    "\n",
    "This notebook is greatly inspired by the famous Machine Learning course by [Andrew Ng](https://www.andrewng.org/). All the mistakes, if any, are made by me.\n",
    "\n",
    "Finally, thanks to [@Mohan S Acharya](https://www.kaggle.com/mohansacharya) for this dataset.\n",
    "\n",
    "\n",
    "# Table of Contents\n",
    "* [Introduction](#introduction)\n",
    "* [Helper functions](#functions)\n",
    "* [The Normal Equation](#normal)\n",
    "* [The Hypothesis](#hypothesis)\n",
    "* [The Cost Function](#cost)\n",
    "* [Loading Data](#getdata)\n",
    "* [Model Training](#training)\n",
    "* [Model Validation](#validation)\n",
    "* [Conclusion](#conclusion)\n",
    "* [References](#references)"
   ]
  },
  {
   "cell_type": "code",
   "execution_count": 1,
   "id": "276b27a4",
   "metadata": {
    "_cell_guid": "b1076dfc-b9ad-4769-8c92-a6c4dae69d19",
    "_uuid": "8f2839f25d086af736a60e9eeb907d3b93b6e0e5",
    "execution": {
     "iopub.execute_input": "2023-03-19T20:54:58.655945Z",
     "iopub.status.busy": "2023-03-19T20:54:58.655235Z",
     "iopub.status.idle": "2023-03-19T20:54:58.680630Z",
     "shell.execute_reply": "2023-03-19T20:54:58.679201Z"
    },
    "papermill": {
     "duration": 0.033598,
     "end_time": "2023-03-19T20:54:58.683554",
     "exception": false,
     "start_time": "2023-03-19T20:54:58.649956",
     "status": "completed"
    },
    "tags": []
   },
   "outputs": [
    {
     "name": "stdout",
     "output_type": "stream",
     "text": [
      "/kaggle/input/graduate-admissions/Admission_Predict.csv\n",
      "/kaggle/input/graduate-admissions/Admission_Predict_Ver1.1.csv\n"
     ]
    }
   ],
   "source": [
    "# This Python 3 environment comes with many helpful analytics libraries installed\n",
    "# It is defined by the kaggle/python Docker image: https://github.com/kaggle/docker-python\n",
    "# For example, here's several helpful packages to load\n",
    "\n",
    "import numpy as np # linear algebra\n",
    "import pandas as pd # data processing, CSV file I/O (e.g. pd.read_csv)\n",
    "\n",
    "# Input data files are available in the read-only \"../input/\" directory\n",
    "# For example, running this (by clicking run or pressing Shift+Enter) will list all files under the input directory\n",
    "\n",
    "import os\n",
    "for dirname, _, filenames in os.walk('/kaggle/input'):\n",
    "    for filename in filenames:\n",
    "        print(os.path.join(dirname, filename))\n",
    "\n",
    "# You can write up to 20GB to the current directory (/kaggle/working/) that gets preserved as output when you create a version using \"Save & Run All\" \n",
    "# You can also write temporary files to /kaggle/temp/, but they won't be saved outside of the current session"
   ]
  },
  {
   "cell_type": "markdown",
   "id": "d224d56c",
   "metadata": {
    "papermill": {
     "duration": 0.004213,
     "end_time": "2023-03-19T20:54:58.692544",
     "exception": false,
     "start_time": "2023-03-19T20:54:58.688331",
     "status": "completed"
    },
    "tags": []
   },
   "source": [
    "# Helper Functions   <a id='functions'></a>   "
   ]
  },
  {
   "cell_type": "markdown",
   "id": "64831b6b",
   "metadata": {
    "papermill": {
     "duration": 0.004122,
     "end_time": "2023-03-19T20:54:58.700962",
     "exception": false,
     "start_time": "2023-03-19T20:54:58.696840",
     "status": "completed"
    },
    "tags": []
   },
   "source": [
    "<div class=\"alert alert-block alert-info\">\n",
    "<b>Tip:</b> We will use some helper functions throughout the notebook. Collecting them in one place is a good idea, making the code more organized. First, we will define and explain those functions and then use them in our code.\n",
    "</div>"
   ]
  },
  {
   "cell_type": "markdown",
   "id": "7cd2f0d0",
   "metadata": {
    "papermill": {
     "duration": 0.004277,
     "end_time": "2023-03-19T20:54:58.709669",
     "exception": false,
     "start_time": "2023-03-19T20:54:58.705392",
     "status": "completed"
    },
    "tags": []
   },
   "source": [
    "# The Normal Equation   <a id='normal'></a> "
   ]
  },
  {
   "cell_type": "markdown",
   "id": "b6361d90",
   "metadata": {
    "papermill": {
     "duration": 0.003505,
     "end_time": "2023-03-19T20:54:58.717021",
     "exception": false,
     "start_time": "2023-03-19T20:54:58.713516",
     "status": "completed"
    },
    "tags": []
   },
   "source": [
    "The Normal Equation Text!"
   ]
  },
  {
   "cell_type": "markdown",
   "id": "dbbb7490",
   "metadata": {
    "papermill": {
     "duration": 0.003518,
     "end_time": "2023-03-19T20:54:58.724271",
     "exception": false,
     "start_time": "2023-03-19T20:54:58.720753",
     "status": "completed"
    },
    "tags": []
   },
   "source": [
    "# The  Hypothesis   <a id='hypothesis'></a>   "
   ]
  },
  {
   "cell_type": "markdown",
   "id": "7e282890",
   "metadata": {
    "execution": {
     "iopub.execute_input": "2023-03-19T20:08:10.723871Z",
     "iopub.status.busy": "2023-03-19T20:08:10.723267Z",
     "iopub.status.idle": "2023-03-19T20:08:10.730032Z",
     "shell.execute_reply": "2023-03-19T20:08:10.728533Z",
     "shell.execute_reply.started": "2023-03-19T20:08:10.723828Z"
    },
    "papermill": {
     "duration": 0.003898,
     "end_time": "2023-03-19T20:54:58.731911",
     "exception": false,
     "start_time": "2023-03-19T20:54:58.728013",
     "status": "completed"
    },
    "tags": []
   },
   "source": [
    "The Hypothesis Text!"
   ]
  },
  {
   "cell_type": "code",
   "execution_count": 2,
   "id": "aab186b0",
   "metadata": {
    "execution": {
     "iopub.execute_input": "2023-03-19T20:54:58.741704Z",
     "iopub.status.busy": "2023-03-19T20:54:58.741330Z",
     "iopub.status.idle": "2023-03-19T20:54:58.746914Z",
     "shell.execute_reply": "2023-03-19T20:54:58.745950Z"
    },
    "papermill": {
     "duration": 0.013219,
     "end_time": "2023-03-19T20:54:58.749404",
     "exception": false,
     "start_time": "2023-03-19T20:54:58.736185",
     "status": "completed"
    },
    "tags": []
   },
   "outputs": [],
   "source": [
    "# The hypothesis\n",
    "def h(x, theta):\n",
    "    \"\"\"\n",
    "     Calculates the predicted values (or predicted targets) for a given set of input and theta vectors.\n",
    "    \n",
    "    :param x: inputs (feature values) - data frame of floats \n",
    "    :param theta: theta vector (weights) - Numpy array of floats\n",
    "    \n",
    "    :return: predicted targets - Numpy array of floats\n",
    "    \n",
    "    \"\"\"\n",
    "    # The hypothesis is a column vector of m x 1\n",
    "    return np.dot(x, theta)"
   ]
  },
  {
   "cell_type": "markdown",
   "id": "7861eee8",
   "metadata": {
    "papermill": {
     "duration": 0.003651,
     "end_time": "2023-03-19T20:54:58.757117",
     "exception": false,
     "start_time": "2023-03-19T20:54:58.753466",
     "status": "completed"
    },
    "tags": []
   },
   "source": [
    "# The  Cost Function   <a id='cost'></a> "
   ]
  },
  {
   "cell_type": "markdown",
   "id": "95f2740d",
   "metadata": {
    "papermill": {
     "duration": 0.00353,
     "end_time": "2023-03-19T20:54:58.764613",
     "exception": false,
     "start_time": "2023-03-19T20:54:58.761083",
     "status": "completed"
    },
    "tags": []
   },
   "source": [
    "The cost Function Text!"
   ]
  },
  {
   "cell_type": "markdown",
   "id": "c022a90a",
   "metadata": {
    "papermill": {
     "duration": 0.003405,
     "end_time": "2023-03-19T20:54:58.771879",
     "exception": false,
     "start_time": "2023-03-19T20:54:58.768474",
     "status": "completed"
    },
    "tags": []
   },
   "source": [
    "# Loading Data   <a id='getdata'></a> "
   ]
  },
  {
   "cell_type": "markdown",
   "id": "5a98f2f4",
   "metadata": {
    "papermill": {
     "duration": 0.003609,
     "end_time": "2023-03-19T20:54:58.779251",
     "exception": false,
     "start_time": "2023-03-19T20:54:58.775642",
     "status": "completed"
    },
    "tags": []
   },
   "source": [
    "Loading Data Text!"
   ]
  },
  {
   "cell_type": "markdown",
   "id": "c1031746",
   "metadata": {
    "papermill": {
     "duration": 0.003552,
     "end_time": "2023-03-19T20:54:58.786746",
     "exception": false,
     "start_time": "2023-03-19T20:54:58.783194",
     "status": "completed"
    },
    "tags": []
   },
   "source": [
    "# Model Training   <a id='training'></a> "
   ]
  },
  {
   "cell_type": "markdown",
   "id": "98deb5cb",
   "metadata": {
    "papermill": {
     "duration": 0.003646,
     "end_time": "2023-03-19T20:54:58.794658",
     "exception": false,
     "start_time": "2023-03-19T20:54:58.791012",
     "status": "completed"
    },
    "tags": []
   },
   "source": [
    "Model Training Text!"
   ]
  },
  {
   "cell_type": "markdown",
   "id": "4f25ec32",
   "metadata": {
    "papermill": {
     "duration": 0.003469,
     "end_time": "2023-03-19T20:54:58.801928",
     "exception": false,
     "start_time": "2023-03-19T20:54:58.798459",
     "status": "completed"
    },
    "tags": []
   },
   "source": [
    "# Model Validation   <a id='validation'></a> "
   ]
  },
  {
   "cell_type": "markdown",
   "id": "62d084ad",
   "metadata": {
    "papermill": {
     "duration": 0.004637,
     "end_time": "2023-03-19T20:54:58.812192",
     "exception": false,
     "start_time": "2023-03-19T20:54:58.807555",
     "status": "completed"
    },
    "tags": []
   },
   "source": [
    "Model Validation Text"
   ]
  },
  {
   "cell_type": "markdown",
   "id": "d9cbddc5",
   "metadata": {
    "papermill": {
     "duration": 0.003591,
     "end_time": "2023-03-19T20:54:58.819804",
     "exception": false,
     "start_time": "2023-03-19T20:54:58.816213",
     "status": "completed"
    },
    "tags": []
   },
   "source": [
    "# Conclusion   <a id='conclusion'></a> "
   ]
  },
  {
   "cell_type": "markdown",
   "id": "b7be019f",
   "metadata": {
    "papermill": {
     "duration": 0.003556,
     "end_time": "2023-03-19T20:54:58.827187",
     "exception": false,
     "start_time": "2023-03-19T20:54:58.823631",
     "status": "completed"
    },
    "tags": []
   },
   "source": [
    "Conclusion Text!"
   ]
  },
  {
   "cell_type": "markdown",
   "id": "4e5ee927",
   "metadata": {
    "papermill": {
     "duration": 0.003469,
     "end_time": "2023-03-19T20:54:58.834418",
     "exception": false,
     "start_time": "2023-03-19T20:54:58.830949",
     "status": "completed"
    },
    "tags": []
   },
   "source": [
    "# References   <a id='references'></a>\n",
    "* [Machine Learning Specialization - Deeplearning.AI](https://www.deeplearning.ai/program/machine-learning-specialization/)\n",
    "* [Andrew Ng](https://en.wikipedia.org/wiki/Andrew_Ng)\n",
    "* [@Mohan S Acharya](https://www.kaggle.com/mohansacharya)\n",
    "* [Multivariate Linear Regression From Scratch - Kaggle](https://www.kaggle.com/code/erkanhatipoglu/multivariate-linear-regression-from-scratch)\n",
    "* [Univariate Linear Regression From Scratch - Kaggle](https://www.kaggle.com/code/erkanhatipoglu/univariate-linear-regression-from-scratch)\n",
    "* [Univariate Linear Regression From Scratch - Towards AI](https://pub.towardsai.net/univariate-linear-regression-from-scratch-68065fe8eb09)\n",
    "* [Towards AI](https://pub.towardsai.net/)"
   ]
  }
 ],
 "metadata": {
  "kernelspec": {
   "display_name": "Python 3",
   "language": "python",
   "name": "python3"
  },
  "language_info": {
   "codemirror_mode": {
    "name": "ipython",
    "version": 3
   },
   "file_extension": ".py",
   "mimetype": "text/x-python",
   "name": "python",
   "nbconvert_exporter": "python",
   "pygments_lexer": "ipython3",
   "version": "3.7.12"
  },
  "papermill": {
   "default_parameters": {},
   "duration": 11.898893,
   "end_time": "2023-03-19T20:54:59.460953",
   "environment_variables": {},
   "exception": null,
   "input_path": "__notebook__.ipynb",
   "output_path": "__notebook__.ipynb",
   "parameters": {},
   "start_time": "2023-03-19T20:54:47.562060",
   "version": "2.4.0"
  }
 },
 "nbformat": 4,
 "nbformat_minor": 5
}
