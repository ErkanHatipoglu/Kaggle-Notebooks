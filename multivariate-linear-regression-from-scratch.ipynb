{
 "cells": [
  {
   "cell_type": "markdown",
   "id": "b8b679fa",
   "metadata": {
    "papermill": {
     "duration": 0.007664,
     "end_time": "2022-12-08T21:33:50.908738",
     "exception": false,
     "start_time": "2022-12-08T21:33:50.901074",
     "status": "completed"
    },
    "tags": []
   },
   "source": [
    "# Introduction  <a id='introduction'></a>\n",
    "\n",
    "This notebook contains Python code for a multivariate linear regression task. Multivariate linear regression means linear regression with more than one variable. In addition to Python, we will also use Pandas, Numpy, and Matplotlib libraries. \n",
    "\n",
    "In my [Univariate Linear Regression from Scratch](https://www.kaggle.com/code/erkanhatipoglu/univariate-linear-regression-from-scratch) notebook, we have already seen basic Machine Learning concepts such as the hypothesis, cost function, and gradient descent. We will not explain those concepts in this notebook. Anyone interested may refer to my Kaggle notebook [Univariate Linear Regression from Scratch](https://www.kaggle.com/code/erkanhatipoglu/univariate-linear-regression-from-scratch) or my Medium blog post [Univariate Linear Regression from Scratch](https://medium.com/towards-artificial-intelligence/univariate-linear-regression-from-scratch-68065fe8eb09) published in [Towards AI](https://pub.towardsai.net/) for a more detailed explanation. We will use a gradient descent solution and not discuss the 'normal equation.'\n",
    "\n",
    "This notebook is greatly inspired by the famous Machine Learning course by [Andrew Ng](https://www.andrewng.org/). All the mistakes, if any, are made by me.\n",
    "\n",
    "Finally, thanks to [@Mohan S Acharya](https://www.kaggle.com/mohansacharya) for this dataset.\n",
    "\n",
    "\n",
    "# Table of Contents\n",
    "* [Introduction](#introduction)\n",
    "* [Helper functios](#functions)\n",
    "* [The Hypothesis](#hypothesis)\n",
    "* [The Cost Function](#cost)\n",
    "* [Gradient Descent](#gradient)\n",
    "* [Feature Normalization](#normalization)\n",
    "* [Loading Data](#getdata)\n",
    "* [Model Training](#training)\n",
    "* [Model Validation](#validation)\n",
    "* [Conclusion](#conclusion)\n",
    "* [References](#references)"
   ]
  },
  {
   "cell_type": "code",
   "execution_count": 1,
   "id": "9b7a2d42",
   "metadata": {
    "_cell_guid": "b1076dfc-b9ad-4769-8c92-a6c4dae69d19",
    "_uuid": "8f2839f25d086af736a60e9eeb907d3b93b6e0e5",
    "execution": {
     "iopub.execute_input": "2022-12-08T21:33:50.924615Z",
     "iopub.status.busy": "2022-12-08T21:33:50.924003Z",
     "iopub.status.idle": "2022-12-08T21:33:51.978888Z",
     "shell.execute_reply": "2022-12-08T21:33:51.977703Z"
    },
    "papermill": {
     "duration": 1.066304,
     "end_time": "2022-12-08T21:33:51.981723",
     "exception": false,
     "start_time": "2022-12-08T21:33:50.915419",
     "status": "completed"
    },
    "tags": []
   },
   "outputs": [
    {
     "name": "stdout",
     "output_type": "stream",
     "text": [
      "/kaggle/input/graduate-admissions/Admission_Predict.csv\n",
      "/kaggle/input/graduate-admissions/Admission_Predict_Ver1.1.csv\n"
     ]
    }
   ],
   "source": [
    "# This Python 3 environment comes with many helpful analytics libraries installed\n",
    "# It is defined by the kaggle/python Docker image: https://github.com/kaggle/docker-python\n",
    "# For example, here's several helpful packages to load\n",
    "\n",
    "import numpy as np # linear algebra\n",
    "import pandas as pd # data processing, CSV file I/O (e.g. pd.read_csv)\n",
    "\n",
    "# Input data files are available in the read-only \"../input/\" directory\n",
    "# For example, running this (by clicking run or pressing Shift+Enter) will list all files under the input directory\n",
    "\n",
    "import os\n",
    "for dirname, _, filenames in os.walk('/kaggle/input'):\n",
    "    for filename in filenames:\n",
    "        print(os.path.join(dirname, filename))\n",
    "\n",
    "# You can write up to 20GB to the current directory (/kaggle/working/) that gets preserved as output when you create a version using \"Save & Run All\" \n",
    "# You can also write temporary files to /kaggle/temp/, but they won't be saved outside of the current session\n",
    "\n",
    "from sklearn.model_selection import train_test_split\n",
    "import matplotlib.pyplot as plt"
   ]
  },
  {
   "cell_type": "markdown",
   "id": "9eb42333",
   "metadata": {
    "papermill": {
     "duration": 0.006385,
     "end_time": "2022-12-08T21:33:51.995488",
     "exception": false,
     "start_time": "2022-12-08T21:33:51.989103",
     "status": "completed"
    },
    "tags": []
   },
   "source": [
    "# Helper Functions   <a id='functions'></a>   "
   ]
  },
  {
   "cell_type": "markdown",
   "id": "1db18e22",
   "metadata": {
    "papermill": {
     "duration": 0.006759,
     "end_time": "2022-12-08T21:33:52.009746",
     "exception": false,
     "start_time": "2022-12-08T21:33:52.002987",
     "status": "completed"
    },
    "tags": []
   },
   "source": [
    "<div class=\"alert alert-block alert-info\">\n",
    "<b>Tip:</b> Tip: We will use some helper functions throughout the notebook. Collecting them in one place is a good idea, making the code more organized. First, we will define and explain those functions and then use them in our code.\n",
    "</div>"
   ]
  },
  {
   "cell_type": "markdown",
   "id": "b827ea9b",
   "metadata": {
    "papermill": {
     "duration": 0.00647,
     "end_time": "2022-12-08T21:33:52.023705",
     "exception": false,
     "start_time": "2022-12-08T21:33:52.017235",
     "status": "completed"
    },
    "tags": []
   },
   "source": [
    "# The  Hypothesis   <a id='hypothesis'></a>   "
   ]
  },
  {
   "cell_type": "markdown",
   "id": "7032cc7f",
   "metadata": {
    "papermill": {
     "duration": 0.006873,
     "end_time": "2022-12-08T21:33:52.037979",
     "exception": false,
     "start_time": "2022-12-08T21:33:52.031106",
     "status": "completed"
    },
    "tags": []
   },
   "source": [
    "The hypothesis for a linear regression task with multiple variables is of the form: \n",
    "\n",
    "\n",
    "$\\hat{y} = h_\\theta(x) = \\theta_0 + \\theta_1 x_1 + \\theta_2 x_2 + ... + \\theta_n x_n$\n",
    "\n",
    "\n",
    "Where $\\hat{y} = h_\\theta(x)$ is the predicted target. The hypothesis will calculate the predicted values (or predicted targets) for a given set of inputs and $\\theta$ values ($\\theta_i$, where $i = 0,1,2,...,n$). \n",
    "\n",
    "\n",
    "Using vector notation, this equation can be rewritten as: \n",
    "\n",
    "\n",
    "$ h_\\theta(x) = \\begin{bmatrix}\\theta_{0} & \\theta_{1} & \\cdots & \\theta_{n}\n",
    "\\end{bmatrix} \\begin{bmatrix}x_{0}\\\\\n",
    "x_{1}\\\\\n",
    "\\vdots\\\\\n",
    "x_{n}\n",
    "\\end{bmatrix}= \\boldsymbol{\\theta}^T\\boldsymbol{x}$\n",
    "\n",
    "assuming $ \\boldsymbol{\\theta}$ and $\\boldsymbol{x}$ are column vectors and $x_0 = 1$.\n",
    "\n",
    "Each row in our dataset represents a sample such that:\n",
    "\n",
    "$ \\boldsymbol{X} = \\begin{bmatrix}x_{0}^{(1)} & x_{1}^{(1)} & \\cdots  & x_{n}^{(1)} \\\\\n",
    "x_{0}^{(2)} & x_{1}^{(2)} & \\cdots  & x_{n}^{(2)}\\\\\n",
    "\\vdots & \\vdots & \\vdots  & \\vdots\\\\\n",
    "x_{0}^{(m)} & x_{1}^{(m)} & \\cdots  & x_{n}^{(m)}\n",
    "\\end{bmatrix} and;$ \n",
    "\n",
    "$ \\boldsymbol{\\theta} = \\begin{bmatrix}\\theta_{0} \\\\\n",
    "\\theta_{1}\\\\\n",
    "\\vdots \\\\\n",
    "\\theta_{n}\n",
    "\\end{bmatrix}$\n",
    "\n",
    "Where $ \\boldsymbol{X} $ is the training or test dataset, $ \\boldsymbol{\\theta} $ is the $ \\theta $ vector, m is the number of samples, and n is the number of features. As a result, we can calculate the hypothesis as a column vector of $ (m x 1) $ as follows: \n",
    "\n",
    "$ h_\\theta(x) = \\boldsymbol{X}\\boldsymbol{\\theta} $"
   ]
  },
  {
   "cell_type": "code",
   "execution_count": 2,
   "id": "d0b47131",
   "metadata": {
    "execution": {
     "iopub.execute_input": "2022-12-08T21:33:52.055288Z",
     "iopub.status.busy": "2022-12-08T21:33:52.054472Z",
     "iopub.status.idle": "2022-12-08T21:33:52.059974Z",
     "shell.execute_reply": "2022-12-08T21:33:52.059111Z"
    },
    "papermill": {
     "duration": 0.017049,
     "end_time": "2022-12-08T21:33:52.062325",
     "exception": false,
     "start_time": "2022-12-08T21:33:52.045276",
     "status": "completed"
    },
    "tags": []
   },
   "outputs": [],
   "source": [
    "# The hypothesis\n",
    "def h(x, theta):\n",
    "    \"\"\"\n",
    "    calculates the predicted values (or predicted targets) for a given set of input and theta vectors.\n",
    "    :param x: inputs (feature values) - data frame of floats \n",
    "    :param theta: theta vector (weights) - Numpy array of floats\n",
    "    :return: predicted targets - Numpy array of floats\n",
    "    \n",
    "    \"\"\"\n",
    "    # The hypothesis is a column vector of m x 1\n",
    "    return np.dot(x, theta)"
   ]
  },
  {
   "cell_type": "markdown",
   "id": "ced90000",
   "metadata": {
    "papermill": {
     "duration": 0.006275,
     "end_time": "2022-12-08T21:33:52.077091",
     "exception": false,
     "start_time": "2022-12-08T21:33:52.070816",
     "status": "completed"
    },
    "tags": []
   },
   "source": [
    "# The  Cost Function   <a id='cost'></a> "
   ]
  },
  {
   "cell_type": "markdown",
   "id": "6d971237",
   "metadata": {
    "papermill": {
     "duration": 0.007936,
     "end_time": "2022-12-08T21:33:52.093122",
     "exception": false,
     "start_time": "2022-12-08T21:33:52.085186",
     "status": "completed"
    },
    "tags": []
   },
   "source": [
    "We will use the squared error cost function as in the univariate linear regression case. Therefore, the cost function is:\n",
    "\n",
    "$ J(\\theta) = \\frac{1}{2m}\\sum_{i=1}^{m} (h_{\\theta}(x^{(i)})-y^i)^2 $\n",
    "\n",
    "where $m$ is the number of examples, $h_\\theta()$ is the hypothesis function, $ x^i $ is the $i^{th}$ training example, and $y^i$ is the actual output of $i^{th}$ training example. And the vectorized form of the cost function is as follows:\n",
    "\n",
    "$ J(\\theta) = \\frac{1}{2m}( X\\theta - \\vec y)^T(X\\theta - \\vec y) $\n",
    "\n",
    "where $m$ is the number of examples, $X$ is the training or test dataset, $ \\boldsymbol{\\theta} $ is the $ \\theta $ vector, $\\vec y$ is the vector of corresponding $y$ values, and $()^T$ is the transpose of the matrix. "
   ]
  },
  {
   "cell_type": "code",
   "execution_count": 3,
   "id": "32c69d56",
   "metadata": {
    "execution": {
     "iopub.execute_input": "2022-12-08T21:33:52.113185Z",
     "iopub.status.busy": "2022-12-08T21:33:52.112549Z",
     "iopub.status.idle": "2022-12-08T21:33:52.122903Z",
     "shell.execute_reply": "2022-12-08T21:33:52.121422Z"
    },
    "papermill": {
     "duration": 0.023599,
     "end_time": "2022-12-08T21:33:52.125788",
     "exception": false,
     "start_time": "2022-12-08T21:33:52.102189",
     "status": "completed"
    },
    "tags": []
   },
   "outputs": [],
   "source": [
    "# The cost function\n",
    "\n",
    "def J(X,y,theta):\n",
    "    \"\"\"\n",
    "     Calculates the total error using squared error function.\n",
    "    :param X: inputs (feature values) - data frame of floats\n",
    "    :param y: outputs (actual target values) - Numpy array of floats\n",
    "    :param theta: theta vector (weights) - Numpy array of floats\n",
    "    :return: total error - float\n",
    "    \n",
    "    \"\"\"\n",
    "    # Calculate number of examples\n",
    "    m = len(X)\n",
    "    \n",
    "    # Calculate the constant\n",
    "    c = 1/(2 * m)\n",
    "       \n",
    "    # Calculate the array of errors\n",
    "    temp_0 = h(X, theta) - y.reshape(-1)\n",
    "\n",
    "    # Calculate the transpose of array of errors\n",
    "    temp_1 = temp_0.transpose()\n",
    "\n",
    "    # Calculate the dot product \n",
    "    temp_2 = np.dot(temp_1, temp_0) \n",
    "\n",
    "    return  c * temp_2"
   ]
  },
  {
   "cell_type": "markdown",
   "id": "d5b348d0",
   "metadata": {
    "papermill": {
     "duration": 0.008362,
     "end_time": "2022-12-08T21:33:52.144883",
     "exception": false,
     "start_time": "2022-12-08T21:33:52.136521",
     "status": "completed"
    },
    "tags": []
   },
   "source": [
    "# Gradient Descent   <a id='gradient'></a> "
   ]
  },
  {
   "cell_type": "markdown",
   "id": "49f406d8",
   "metadata": {
    "papermill": {
     "duration": 0.006686,
     "end_time": "2022-12-08T21:33:52.162872",
     "exception": false,
     "start_time": "2022-12-08T21:33:52.156186",
     "status": "completed"
    },
    "tags": []
   },
   "source": [
    "The gradient descent calculation is similar to what we have seen in the [univariate version](https://www.kaggle.com/code/erkanhatipoglu/univariate-linear-regression-from-scratch?kernelSessionId=106646889):\n",
    "\n",
    "$  \\text{repeat  until  convergence:  \\{} $\n",
    "\n",
    "$\\theta_0 := \\theta_0 - \\alpha\\frac{1}{m}\\sum_{i=1}^{m} (h_{\\theta}(x^{(i)})-y^{(i)}).x_0^{(i)}$\n",
    "\n",
    "$\\theta_1 := \\theta_1 - \\alpha\\frac{1}{m}\\sum_{i=1}^{m} (h_{\\theta}(x^{(i)})-y^{(i)}).x_1^{(i)}$\n",
    "\n",
    "$\\theta_2 := \\theta_2 - \\alpha\\frac{1}{m}\\sum_{i=1}^{m} (h_{\\theta}(x^{(i)})-y^{(i)}).x_2^{(i)}$\n",
    "\n",
    "$\\cdots $\n",
    "\n",
    "$\\theta_n := \\theta_n - \\alpha\\frac{1}{m}\\sum_{i=1}^{m} (h_{\\theta}(x^{(i)})-y^{(i)}).x_n^{(i)}$\n",
    "\n",
    "$  \\text{ \\}}$\n",
    "\n",
    "where\n",
    "\n",
    "$n$ is the number of features,\n",
    "\n",
    "$\\theta_j$ (for $j = 0,1,2,\\cdots,n$) is the corresponding weights for each feature, \n",
    "\n",
    "$\\alpha$ is the learning rate, \n",
    "\n",
    "$m$ is the number of examples, \n",
    "\n",
    "$h_{\\theta}(x^{(i)})$ is the result of the hypothesis function for the $i^{th}$ training example, \n",
    "\n",
    "$y^{(i)}$ is the actual value for the $i^{th}$ training example,\n",
    "\n",
    "and $x_k^{(i)}$ (for $k = 0,1,2,\\cdots,n$) is the value of the $k^{th}$ feature for the $i^{th}$ training example.\n"
   ]
  },
  {
   "cell_type": "markdown",
   "id": "c056797d",
   "metadata": {
    "papermill": {
     "duration": 0.006155,
     "end_time": "2022-12-08T21:33:52.176149",
     "exception": false,
     "start_time": "2022-12-08T21:33:52.169994",
     "status": "completed"
    },
    "tags": []
   },
   "source": [
    "\n",
    "Therefore, the vectorized form of the gradient descent is as follows: \n",
    "\n",
    "$ \\boldsymbol{\\theta} := \\boldsymbol{\\theta} - \\frac{\\alpha}{m} \\boldsymbol{X}^T (\\boldsymbol{X}\\boldsymbol{\\theta} - \\vec y) $\n",
    "\n",
    "where $ \\boldsymbol{\\theta} $ is the $ \\theta $ vector, $\\alpha$ is the learning rate, $m$ is the number of examples, $X$ is the training or test dataset, $()^T$ is the transpose of the matrix, and $\\vec y$ is the vector of corresponding $y$ values."
   ]
  },
  {
   "cell_type": "code",
   "execution_count": 4,
   "id": "a2b77fe6",
   "metadata": {
    "execution": {
     "iopub.execute_input": "2022-12-08T21:33:52.191285Z",
     "iopub.status.busy": "2022-12-08T21:33:52.190873Z",
     "iopub.status.idle": "2022-12-08T21:33:52.198261Z",
     "shell.execute_reply": "2022-12-08T21:33:52.197329Z"
    },
    "papermill": {
     "duration": 0.017526,
     "end_time": "2022-12-08T21:33:52.200402",
     "exception": false,
     "start_time": "2022-12-08T21:33:52.182876",
     "status": "completed"
    },
    "tags": []
   },
   "outputs": [],
   "source": [
    "# Gradient descent function\n",
    "def gradient(X, y, theta, alpha):\n",
    "    \"\"\"\n",
    "     calculates the gradient descent.\n",
    "    :param X: inputs (feature values) - data frame of floats\n",
    "    :param y: outputs (actual target values) - Numpy array of floats\n",
    "    :param theta: theta vector (weights) - Numpy array of floats\n",
    "    :param alpha: learning rate\n",
    "    :return: new theta - Numpy array of floats\n",
    "    \n",
    "    \"\"\"\n",
    "    # Calculate number of examples\n",
    "    m = len(X)\n",
    "    \n",
    "    # Calculate the constant\n",
    "    c =  alpha / m\n",
    "        \n",
    "    # calculate the transpose of X\n",
    "    temp_0 = X.transpose()\n",
    "        \n",
    "    # Calculate the array of errors\n",
    "    temp_1 = h(X, theta) - y.reshape(-1) \n",
    "        \n",
    "    # Calculate the dot product \n",
    "    temp_2 = np.dot(temp_0, temp_1)\n",
    "        \n",
    "    return theta - (c * temp_2)"
   ]
  },
  {
   "cell_type": "markdown",
   "id": "e9caab7b",
   "metadata": {
    "papermill": {
     "duration": 0.006108,
     "end_time": "2022-12-08T21:33:52.213178",
     "exception": false,
     "start_time": "2022-12-08T21:33:52.207070",
     "status": "completed"
    },
    "tags": []
   },
   "source": [
    "# Feature Normalization  <a id='normalization'></a>"
   ]
  },
  {
   "cell_type": "markdown",
   "id": "bc0ad0ed",
   "metadata": {
    "papermill": {
     "duration": 0.006471,
     "end_time": "2022-12-08T21:33:52.226082",
     "exception": false,
     "start_time": "2022-12-08T21:33:52.219611",
     "status": "completed"
    },
    "tags": []
   },
   "source": [
    "feature normalization content"
   ]
  },
  {
   "cell_type": "code",
   "execution_count": 5,
   "id": "fe7b6a86",
   "metadata": {
    "execution": {
     "iopub.execute_input": "2022-12-08T21:33:52.241228Z",
     "iopub.status.busy": "2022-12-08T21:33:52.240394Z",
     "iopub.status.idle": "2022-12-08T21:33:52.248056Z",
     "shell.execute_reply": "2022-12-08T21:33:52.246846Z"
    },
    "papermill": {
     "duration": 0.017681,
     "end_time": "2022-12-08T21:33:52.250384",
     "exception": false,
     "start_time": "2022-12-08T21:33:52.232703",
     "status": "completed"
    },
    "tags": []
   },
   "outputs": [],
   "source": [
    "# Normalization and Standardization\n",
    "def normalize(X):\n",
    "    \"\"\"\n",
    "     Applies standardization to the dataframe.\n",
    "    :param X: unnormalized features - data frame of floats\n",
    "    :return: normalized features - data frame of floats\n",
    "    \n",
    "    \"\"\"\n",
    "    columns = ['GRE Score', 'TOEFL Score', 'CGPA']\n",
    "    for column in columns:\n",
    "        \n",
    "        # Use this if you want feature scaling.\n",
    "        # Note that you must play with the learning rate\n",
    "        # and convergence threshold for better results.        \n",
    "        # X[column] = X[column] / (X[column].max() - X[column].min())\n",
    "                \n",
    "        # Use this if you want Z-Score Normalization (or Standardization).\n",
    "        # Note that you must play with the learning rate\n",
    "        # and convergence threshold for better results.        \n",
    "        # X[column] = (X[column] - X[column].mean()) / X[column].std()\n",
    "          \n",
    "        # Use this if you want Min-Max Scaling (or Normalization).\n",
    "        # Note that you must play with the learning rate\n",
    "        # and convergence threshold for better results.  \n",
    "        # X[column] = (X[column] - X[column].mean()) / (X[column].max() - X[column].min()) or\n",
    "        # X[column] = (X[column] - X[column].min()) / (X[column].max() - X[column].min())\n",
    "        \n",
    "        # We will use Min-Max Scaling.\n",
    "        X[column] = (X[column] - X[column].min()) / (X[column].max() - X[column].min())\n",
    "        \n",
    "    return X"
   ]
  },
  {
   "cell_type": "markdown",
   "id": "1c6bfd46",
   "metadata": {
    "papermill": {
     "duration": 0.006242,
     "end_time": "2022-12-08T21:33:52.264307",
     "exception": false,
     "start_time": "2022-12-08T21:33:52.258065",
     "status": "completed"
    },
    "tags": []
   },
   "source": [
    "# Loading Data   <a id='getdata'></a> "
   ]
  },
  {
   "cell_type": "code",
   "execution_count": 6,
   "id": "b1ca3d45",
   "metadata": {
    "execution": {
     "iopub.execute_input": "2022-12-08T21:33:52.280345Z",
     "iopub.status.busy": "2022-12-08T21:33:52.279708Z",
     "iopub.status.idle": "2022-12-08T21:33:52.332012Z",
     "shell.execute_reply": "2022-12-08T21:33:52.330824Z"
    },
    "papermill": {
     "duration": 0.06298,
     "end_time": "2022-12-08T21:33:52.334606",
     "exception": false,
     "start_time": "2022-12-08T21:33:52.271626",
     "status": "completed"
    },
    "tags": []
   },
   "outputs": [
    {
     "data": {
      "text/html": [
       "<div>\n",
       "<style scoped>\n",
       "    .dataframe tbody tr th:only-of-type {\n",
       "        vertical-align: middle;\n",
       "    }\n",
       "\n",
       "    .dataframe tbody tr th {\n",
       "        vertical-align: top;\n",
       "    }\n",
       "\n",
       "    .dataframe thead th {\n",
       "        text-align: right;\n",
       "    }\n",
       "</style>\n",
       "<table border=\"1\" class=\"dataframe\">\n",
       "  <thead>\n",
       "    <tr style=\"text-align: right;\">\n",
       "      <th></th>\n",
       "      <th>GRE Score</th>\n",
       "      <th>TOEFL Score</th>\n",
       "      <th>University Rating</th>\n",
       "      <th>SOP</th>\n",
       "      <th>LOR</th>\n",
       "      <th>CGPA</th>\n",
       "      <th>Research</th>\n",
       "    </tr>\n",
       "  </thead>\n",
       "  <tbody>\n",
       "    <tr>\n",
       "      <th>107</th>\n",
       "      <td>0.96</td>\n",
       "      <td>0.892857</td>\n",
       "      <td>4</td>\n",
       "      <td>3.5</td>\n",
       "      <td>4.5</td>\n",
       "      <td>0.852564</td>\n",
       "      <td>1</td>\n",
       "    </tr>\n",
       "    <tr>\n",
       "      <th>336</th>\n",
       "      <td>0.58</td>\n",
       "      <td>0.642857</td>\n",
       "      <td>3</td>\n",
       "      <td>3.0</td>\n",
       "      <td>2.5</td>\n",
       "      <td>0.637821</td>\n",
       "      <td>0</td>\n",
       "    </tr>\n",
       "    <tr>\n",
       "      <th>71</th>\n",
       "      <td>0.92</td>\n",
       "      <td>0.714286</td>\n",
       "      <td>5</td>\n",
       "      <td>5.0</td>\n",
       "      <td>5.0</td>\n",
       "      <td>0.948718</td>\n",
       "      <td>1</td>\n",
       "    </tr>\n",
       "    <tr>\n",
       "      <th>474</th>\n",
       "      <td>0.36</td>\n",
       "      <td>0.464286</td>\n",
       "      <td>4</td>\n",
       "      <td>3.0</td>\n",
       "      <td>2.5</td>\n",
       "      <td>0.368590</td>\n",
       "      <td>1</td>\n",
       "    </tr>\n",
       "    <tr>\n",
       "      <th>6</th>\n",
       "      <td>0.62</td>\n",
       "      <td>0.607143</td>\n",
       "      <td>3</td>\n",
       "      <td>3.0</td>\n",
       "      <td>4.0</td>\n",
       "      <td>0.448718</td>\n",
       "      <td>1</td>\n",
       "    </tr>\n",
       "  </tbody>\n",
       "</table>\n",
       "</div>"
      ],
      "text/plain": [
       "     GRE Score  TOEFL Score  University Rating  SOP  LOR       CGPA  Research\n",
       "107       0.96     0.892857                  4  3.5   4.5  0.852564         1\n",
       "336       0.58     0.642857                  3  3.0   2.5  0.637821         0\n",
       "71        0.92     0.714286                  5  5.0   5.0  0.948718         1\n",
       "474       0.36     0.464286                  4  3.0   2.5  0.368590         1\n",
       "6         0.62     0.607143                  3  3.0   4.0  0.448718         1"
      ]
     },
     "execution_count": 6,
     "metadata": {},
     "output_type": "execute_result"
    }
   ],
   "source": [
    "# Get the data. Note that there are two versions. We will use the one\n",
    "# with the most rows.\n",
    "\n",
    "train_data = pd.read_csv(\"/kaggle/input/graduate-admissions/Admission_Predict_Ver1.1.csv\")\n",
    "\n",
    "# Set X and y\n",
    "X = train_data.drop(['Chance of Admit ', 'Serial No.'], axis=1) # Chance of Admit is the target variable and Serial No. is the order. So we drop them.\n",
    "y = pd.DataFrame(data = train_data['Chance of Admit ']).to_numpy()\n",
    "\n",
    "# \n",
    "X = normalize(X)\n",
    "\n",
    "# Instead of finding probabilities, we want to calculate the percentages.\n",
    "y = y * 100\n",
    "\n",
    "# Break off validation set from training data\n",
    "X_train, X_valid, y_train, y_valid = train_test_split(X, y, train_size=0.8, test_size=0.2, random_state = 0)\n",
    "\n",
    "X_train.head()"
   ]
  },
  {
   "cell_type": "code",
   "execution_count": 7,
   "id": "11554009",
   "metadata": {
    "execution": {
     "iopub.execute_input": "2022-12-08T21:33:52.350616Z",
     "iopub.status.busy": "2022-12-08T21:33:52.349993Z",
     "iopub.status.idle": "2022-12-08T21:33:52.363797Z",
     "shell.execute_reply": "2022-12-08T21:33:52.362793Z"
    },
    "papermill": {
     "duration": 0.024416,
     "end_time": "2022-12-08T21:33:52.366126",
     "exception": false,
     "start_time": "2022-12-08T21:33:52.341710",
     "status": "completed"
    },
    "tags": []
   },
   "outputs": [
    {
     "data": {
      "text/html": [
       "<div>\n",
       "<style scoped>\n",
       "    .dataframe tbody tr th:only-of-type {\n",
       "        vertical-align: middle;\n",
       "    }\n",
       "\n",
       "    .dataframe tbody tr th {\n",
       "        vertical-align: top;\n",
       "    }\n",
       "\n",
       "    .dataframe thead th {\n",
       "        text-align: right;\n",
       "    }\n",
       "</style>\n",
       "<table border=\"1\" class=\"dataframe\">\n",
       "  <thead>\n",
       "    <tr style=\"text-align: right;\">\n",
       "      <th></th>\n",
       "      <th>GRE Score</th>\n",
       "      <th>TOEFL Score</th>\n",
       "      <th>University Rating</th>\n",
       "      <th>SOP</th>\n",
       "      <th>LOR</th>\n",
       "      <th>CGPA</th>\n",
       "      <th>Research</th>\n",
       "    </tr>\n",
       "  </thead>\n",
       "  <tbody>\n",
       "    <tr>\n",
       "      <th>107</th>\n",
       "      <td>0.96</td>\n",
       "      <td>0.892857</td>\n",
       "      <td>4</td>\n",
       "      <td>3.5</td>\n",
       "      <td>4.5</td>\n",
       "      <td>0.852564</td>\n",
       "      <td>1</td>\n",
       "    </tr>\n",
       "    <tr>\n",
       "      <th>336</th>\n",
       "      <td>0.58</td>\n",
       "      <td>0.642857</td>\n",
       "      <td>3</td>\n",
       "      <td>3.0</td>\n",
       "      <td>2.5</td>\n",
       "      <td>0.637821</td>\n",
       "      <td>0</td>\n",
       "    </tr>\n",
       "    <tr>\n",
       "      <th>71</th>\n",
       "      <td>0.92</td>\n",
       "      <td>0.714286</td>\n",
       "      <td>5</td>\n",
       "      <td>5.0</td>\n",
       "      <td>5.0</td>\n",
       "      <td>0.948718</td>\n",
       "      <td>1</td>\n",
       "    </tr>\n",
       "    <tr>\n",
       "      <th>474</th>\n",
       "      <td>0.36</td>\n",
       "      <td>0.464286</td>\n",
       "      <td>4</td>\n",
       "      <td>3.0</td>\n",
       "      <td>2.5</td>\n",
       "      <td>0.368590</td>\n",
       "      <td>1</td>\n",
       "    </tr>\n",
       "    <tr>\n",
       "      <th>6</th>\n",
       "      <td>0.62</td>\n",
       "      <td>0.607143</td>\n",
       "      <td>3</td>\n",
       "      <td>3.0</td>\n",
       "      <td>4.0</td>\n",
       "      <td>0.448718</td>\n",
       "      <td>1</td>\n",
       "    </tr>\n",
       "  </tbody>\n",
       "</table>\n",
       "</div>"
      ],
      "text/plain": [
       "     GRE Score  TOEFL Score  University Rating  SOP  LOR       CGPA  Research\n",
       "107       0.96     0.892857                  4  3.5   4.5  0.852564         1\n",
       "336       0.58     0.642857                  3  3.0   2.5  0.637821         0\n",
       "71        0.92     0.714286                  5  5.0   5.0  0.948718         1\n",
       "474       0.36     0.464286                  4  3.0   2.5  0.368590         1\n",
       "6         0.62     0.607143                  3  3.0   4.0  0.448718         1"
      ]
     },
     "execution_count": 7,
     "metadata": {},
     "output_type": "execute_result"
    }
   ],
   "source": [
    "X_train.head()"
   ]
  },
  {
   "cell_type": "markdown",
   "id": "f0401dd2",
   "metadata": {
    "papermill": {
     "duration": 0.00664,
     "end_time": "2022-12-08T21:33:52.379912",
     "exception": false,
     "start_time": "2022-12-08T21:33:52.373272",
     "status": "completed"
    },
    "tags": []
   },
   "source": [
    "# Model Training   <a id='training'></a> "
   ]
  },
  {
   "cell_type": "markdown",
   "id": "b7a4efc7",
   "metadata": {
    "papermill": {
     "duration": 0.006625,
     "end_time": "2022-12-08T21:33:52.393536",
     "exception": false,
     "start_time": "2022-12-08T21:33:52.386911",
     "status": "completed"
    },
    "tags": []
   },
   "source": [
    "Model training content"
   ]
  },
  {
   "cell_type": "code",
   "execution_count": 8,
   "id": "f25d8b28",
   "metadata": {
    "execution": {
     "iopub.execute_input": "2022-12-08T21:33:52.409768Z",
     "iopub.status.busy": "2022-12-08T21:33:52.409119Z",
     "iopub.status.idle": "2022-12-08T21:33:52.445372Z",
     "shell.execute_reply": "2022-12-08T21:33:52.443895Z"
    },
    "papermill": {
     "duration": 0.047724,
     "end_time": "2022-12-08T21:33:52.448288",
     "exception": false,
     "start_time": "2022-12-08T21:33:52.400564",
     "status": "completed"
    },
    "tags": []
   },
   "outputs": [
    {
     "name": "stdout",
     "output_type": "stream",
     "text": [
      "initial Cost: 2741.2200000000003\n",
      "\n",
      "Iteration: 1\n",
      "Calculated cost: 1067.5218455163504\n",
      "cost difference: 1673.69815448365\n",
      "\n",
      "Iteration: 2\n",
      "Calculated cost: 441.4027552894599\n",
      "cost difference: 626.1190902268904\n",
      "\n",
      "Iteration: 3\n",
      "Calculated cost: 207.14342207180104\n",
      "cost difference: 234.25933321765885\n",
      "\n",
      "Iteration: 4\n",
      "Calculated cost: 119.46415705222425\n",
      "cost difference: 87.67926501957679\n",
      "\n",
      "Iteration: 5\n",
      "Calculated cost: 86.61514326275682\n",
      "cost difference: 32.849013789467435\n",
      "\n",
      "Iteration: 6\n",
      "Calculated cost: 74.27625739370298\n",
      "cost difference: 12.33888586905384\n",
      "\n",
      "Iteration: 7\n",
      "Calculated cost: 69.60964323759569\n",
      "cost difference: 4.666614156107286\n",
      "\n",
      "Iteration: 8\n",
      "Calculated cost: 67.81314477935642\n",
      "cost difference: 1.7964984582392702\n",
      "\n",
      "Iteration: 9\n",
      "Calculated cost: 67.09045624634138\n",
      "cost difference: 0.7226885330150452\n",
      "\n",
      "Iteration: 10\n",
      "Calculated cost: 66.76964628705318\n",
      "cost difference: 0.3208099592881979\n",
      "\n",
      "Iteration: 11\n",
      "Calculated cost: 66.59936932898684\n",
      "cost difference: 0.17027695806633858\n",
      "\n",
      "Iteration: 12\n",
      "Calculated cost: 66.48560497895659\n",
      "cost difference: 0.11376435003025165\n",
      "\n",
      "Iteration: 13\n",
      "Calculated cost: 66.39318223186052\n",
      "cost difference: 0.0924227470960659\n",
      "\n",
      " Calculated theta: [2.0628018  1.15110461 1.15356522 6.03970529 6.62400568 6.85725413\n",
      " 1.21680563 1.26173615]\n"
     ]
    }
   ],
   "source": [
    "# Initialize\n",
    "\n",
    "\n",
    "# Calculate the number of examles\n",
    "m_train = len(X_train)\n",
    "m_valid = len(X_valid)\n",
    "\n",
    "# Calculate the number of features\n",
    "# including X_0\n",
    "n = len(X_train.axes[1]) + 1\n",
    "\n",
    "# Make a list of ones\n",
    "ones_train = [1] * m_train\n",
    "ones_valid = [1] * m_valid\n",
    "\n",
    "# Insert ones to the fist column since\n",
    "# X_0 for all training examples should\n",
    "# be one.\n",
    "X_train.insert(0, \"X_0\", ones_train, True)\n",
    "X_valid.insert(0, \"X_0\", ones_valid, True)\n",
    "\n",
    "# Select zero vector for initial theta\n",
    "zero_list= [0] * n\n",
    "theta = np.asarray(zero_list)\n",
    "\n",
    "# set learning rate \n",
    "alpha = 0.01\n",
    "\n",
    "# Set convergence threshold\n",
    "threshold = 0.1\n",
    "\n",
    "# Initial cost value.\n",
    "# Will also be used in the first iteration\n",
    "# of the while loop. If the initial cost\n",
    "# is smaller then convergence threshold then\n",
    "# while loop will not be executed.\n",
    "cost_diff = J(X_train, y_train, theta)\n",
    "print(\"initial Cost: {}\".format(cost_diff))\n",
    "\n",
    "# We will count the number of iterations.\n",
    "my_iter = 0\n",
    "\n",
    "# Create a dictionary of cost values for debugging\n",
    "cost_dict = {} # will be used for storing the cost value of each iteration.\n",
    "\n",
    "# Add initial cost value to the dictionary\n",
    "my_key = \"I_\" + str(my_iter)\n",
    "cost_dict[my_key] = cost_diff\n",
    "\n",
    "# Start gradient descent\n",
    "while cost_diff >= threshold:\n",
    "    \n",
    "    # calculate initial cost value\n",
    "    initial_cost = J(X_train, y_train, theta)\n",
    "    \n",
    "    # calculate and assign the new theta values\n",
    "    theta = gradient(X_train, y_train, theta, alpha)\n",
    "    \n",
    "    # calculate the consecutive cost value\n",
    "    new_cost = J(X_train, y_train, theta)\n",
    "        \n",
    "    # calculate the difference between the consecutive\n",
    "    # cost values\n",
    "    cost_diff = initial_cost - new_cost\n",
    "    \n",
    "    # Update the dictionary\n",
    "    my_key = \"I_\" + str(my_iter)\n",
    "    cost_dict[my_key] = new_cost\n",
    "    \n",
    "    my_iter += 1\n",
    "    \n",
    "    print()\n",
    "    print(\"Iteration: {}\".format(my_iter))\n",
    "    print(\"Calculated cost: {}\".format(new_cost))\n",
    "    print(\"cost difference: {}\".format(cost_diff))\n",
    "\n",
    "print(\"\\n Calculated theta: {}\".format(theta))\n",
    "  \n"
   ]
  },
  {
   "cell_type": "code",
   "execution_count": 9,
   "id": "833c4ee0",
   "metadata": {
    "execution": {
     "iopub.execute_input": "2022-12-08T21:33:52.465016Z",
     "iopub.status.busy": "2022-12-08T21:33:52.464612Z",
     "iopub.status.idle": "2022-12-08T21:33:52.780158Z",
     "shell.execute_reply": "2022-12-08T21:33:52.778896Z"
    },
    "papermill": {
     "duration": 0.32782,
     "end_time": "2022-12-08T21:33:52.783534",
     "exception": false,
     "start_time": "2022-12-08T21:33:52.455714",
     "status": "completed"
    },
    "tags": []
   },
   "outputs": [
    {
     "data": {
      "text/plain": [
       "[<matplotlib.lines.Line2D at 0x7f0a4da23590>]"
      ]
     },
     "execution_count": 9,
     "metadata": {},
     "output_type": "execute_result"
    },
    {
     "data": {
      "image/png": "[encoded data removed]",
      "text/plain": [
       "<Figure size 1440x720 with 1 Axes>"
      ]
     },
     "metadata": {
      "needs_background": "light"
     },
     "output_type": "display_data"
    }
   ],
   "source": [
    "# Plot Debugging Curve\n",
    "Y1=[x for x in cost_dict.values()]\n",
    "\n",
    "X1=[x for x in cost_dict.keys()]\n",
    "\n",
    "fig = plt.figure(figsize=[20, 10])\n",
    "plt.xlabel('Iterations')\n",
    "plt.ylabel('J(θ)')\n",
    "plt.title('Debugging Curve')\n",
    "plt.plot(X1,Y1, color='tab:blue')\n"
   ]
  },
  {
   "cell_type": "markdown",
   "id": "acdece3e",
   "metadata": {
    "papermill": {
     "duration": 0.007423,
     "end_time": "2022-12-08T21:33:52.798992",
     "exception": false,
     "start_time": "2022-12-08T21:33:52.791569",
     "status": "completed"
    },
    "tags": []
   },
   "source": [
    "# Model Validation   <a id='validation'></a> "
   ]
  },
  {
   "cell_type": "markdown",
   "id": "efa57fa5",
   "metadata": {
    "papermill": {
     "duration": 0.007862,
     "end_time": "2022-12-08T21:33:52.814695",
     "exception": false,
     "start_time": "2022-12-08T21:33:52.806833",
     "status": "completed"
    },
    "tags": []
   },
   "source": [
    "model validation content"
   ]
  },
  {
   "cell_type": "code",
   "execution_count": 10,
   "id": "a9615e43",
   "metadata": {
    "execution": {
     "iopub.execute_input": "2022-12-08T21:33:52.833087Z",
     "iopub.status.busy": "2022-12-08T21:33:52.832699Z",
     "iopub.status.idle": "2022-12-08T21:33:52.840312Z",
     "shell.execute_reply": "2022-12-08T21:33:52.839198Z"
    },
    "papermill": {
     "duration": 0.020777,
     "end_time": "2022-12-08T21:33:52.844048",
     "exception": false,
     "start_time": "2022-12-08T21:33:52.823271",
     "status": "completed"
    },
    "tags": []
   },
   "outputs": [
    {
     "name": "stdout",
     "output_type": "stream",
     "text": [
      "\n",
      " theta: [2.0628018  1.15110461 1.15356522 6.03970529 6.62400568 6.85725413\n",
      " 1.21680563 1.26173615]\n",
      "\n",
      "Cost of test data: 75.80753779030002\n"
     ]
    }
   ],
   "source": [
    "print(\"\\n theta: {}\\n\".format(theta))\n",
    "\n",
    "# calculate the cost value for the test set\n",
    "cost_test = J(X_valid, y_valid, theta)\n",
    "print(\"Cost of test data: {}\".format(cost_test))"
   ]
  },
  {
   "cell_type": "markdown",
   "id": "9106a7ee",
   "metadata": {
    "papermill": {
     "duration": 0.007866,
     "end_time": "2022-12-08T21:33:52.860116",
     "exception": false,
     "start_time": "2022-12-08T21:33:52.852250",
     "status": "completed"
    },
    "tags": []
   },
   "source": [
    "# Conclusion   <a id='conclusion'></a> "
   ]
  },
  {
   "cell_type": "markdown",
   "id": "a495f934",
   "metadata": {
    "papermill": {
     "duration": 0.008708,
     "end_time": "2022-12-08T21:33:52.876989",
     "exception": false,
     "start_time": "2022-12-08T21:33:52.868281",
     "status": "completed"
    },
    "tags": []
   },
   "source": [
    "Conclusion content"
   ]
  },
  {
   "cell_type": "markdown",
   "id": "27da00dd",
   "metadata": {
    "papermill": {
     "duration": 0.008052,
     "end_time": "2022-12-08T21:33:52.893111",
     "exception": false,
     "start_time": "2022-12-08T21:33:52.885059",
     "status": "completed"
    },
    "tags": []
   },
   "source": [
    "# References   <a id='references'></a>\n",
    "* [Machine Learning Specialization - Deeplearning.AI](https://www.deeplearning.ai/program/machine-learning-specialization/)\n",
    "* [Andrew Ng](https://en.wikipedia.org/wiki/Andrew_Ng)\n",
    "* [@Mohan S Acharya](https://www.kaggle.com/mohansacharya)\n",
    "* [10-simple-hacks-to-speed-up-your-data-analysis - Parul Pandey](https://www.kaggle.com/parulpandey/10-simple-hacks-to-speed-up-your-data-analysis)\n",
    "* [Univariate Linear Regression From Scratch - Kaggle](https://www.kaggle.com/code/erkanhatipoglu/univariate-linear-regression-from-scratch)\n",
    "* [Univariate Linear Regression From Scratch - Towards AI](https://pub.towardsai.net/univariate-linear-regression-from-scratch-68065fe8eb09)\n",
    "* [Towards AI](https://pub.towardsai.net/)"
   ]
  }
 ],
 "metadata": {
  "kernelspec": {
   "display_name": "Python 3",
   "language": "python",
   "name": "python3"
  },
  "language_info": {
   "codemirror_mode": {
    "name": "ipython",
    "version": 3
   },
   "file_extension": ".py",
   "mimetype": "text/x-python",
   "name": "python",
   "nbconvert_exporter": "python",
   "pygments_lexer": "ipython3",
   "version": "3.7.12"
  },
  "papermill": {
   "default_parameters": {},
   "duration": 11.652184,
   "end_time": "2022-12-08T21:33:53.624050",
   "environment_variables": {},
   "exception": null,
   "input_path": "__notebook__.ipynb",
   "output_path": "__notebook__.ipynb",
   "parameters": {},
   "start_time": "2022-12-08T21:33:41.971866",
   "version": "2.3.4"
  }
 },
 "nbformat": 4,
 "nbformat_minor": 5
}
