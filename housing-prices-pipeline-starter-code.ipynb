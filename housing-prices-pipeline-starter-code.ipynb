{
 "cells": [
  {
   "cell_type": "markdown",
   "metadata": {
    "papermill": {
     "duration": 0.01514,
     "end_time": "2023-03-24T20:21:11.780198",
     "exception": false,
     "start_time": "2023-03-24T20:21:11.765058",
     "status": "completed"
    },
    "tags": []
   },
   "source": [
    "# Introduction  <a id='introduction'></a>\n",
    "\n",
    "This is a starter code for those who want to work with sklearn pipelines. The public score for this notebook is **13873.48**, which is within the top **1%** for this competition.However, the score may change for each version due to the indeterministic nature of the model. The reader may quickly get a better score by applying a grid search, EDA, and feature engineering concepts.\n",
    "\n",
    "Kagglers interested in an improved version of this notebook by using grid search may refer to my notebook [Housing Prices: GridSearchCV Example](https://www.kaggle.com/erkanhatipoglu/housing-prices-gridsearchcv-example).\n",
    "\n",
    "Kagglers interested in more advanced subjects of sklearn pipelines may refer to my notebook [Introduction to Sklearn Pipelines with Titanic](https://www.kaggle.com/erkanhatipoglu/introduction-to-sklearn-pipelines-with-titanic).\n",
    "\n",
    "Thank you for reading.\n",
    "\n",
    "\n",
    "# Table of Contents\n",
    "* [Introduction](#introduction)\n",
    "* [Helper Functions](#functions)\n",
    "* [Preprocessing](#preprocessing) \n",
    "* [Validation](#validation) \n",
    "* [Cross-validation using full training set](#cross-validation)    \n",
    "* [Prediction](#prediction) \n",
    "* [Saving and submission](#saving)  \n",
    "* [References](#references)"
   ]
  },
  {
   "cell_type": "code",
   "execution_count": 1,
   "metadata": {
    "_cell_guid": "b1076dfc-b9ad-4769-8c92-a6c4dae69d19",
    "_uuid": "8f2839f25d086af736a60e9eeb907d3b93b6e0e5",
    "execution": {
     "iopub.execute_input": "2023-03-24T20:21:11.811854Z",
     "iopub.status.busy": "2023-03-24T20:21:11.811132Z",
     "iopub.status.idle": "2023-03-24T20:21:15.113602Z",
     "shell.execute_reply": "2023-03-24T20:21:15.112987Z",
     "shell.execute_reply.started": "2022-09-27T07:32:46.948024Z"
    },
    "papermill": {
     "duration": 3.319142,
     "end_time": "2023-03-24T20:21:15.113735",
     "exception": false,
     "start_time": "2023-03-24T20:21:11.794593",
     "status": "completed"
    },
    "scrolled": true,
    "tags": []
   },
   "outputs": [
    {
     "name": "stdout",
     "output_type": "stream",
     "text": [
      "/kaggle/input/home-data-for-ml-course/sample_submission.csv\n",
      "/kaggle/input/home-data-for-ml-course/sample_submission.csv.gz\n",
      "/kaggle/input/home-data-for-ml-course/train.csv.gz\n",
      "/kaggle/input/home-data-for-ml-course/data_description.txt\n",
      "/kaggle/input/home-data-for-ml-course/test.csv.gz\n",
      "/kaggle/input/home-data-for-ml-course/train.csv\n",
      "/kaggle/input/home-data-for-ml-course/test.csv\n"
     ]
    }
   ],
   "source": [
    "# This Python 3 environment comes with many helpful analytics libraries installed\n",
    "# It is defined by the kaggle/python Docker image: https://github.com/kaggle/docker-python\n",
    "# For example, here's several helpful packages to load\n",
    "\n",
    "import numpy as np # linear algebra\n",
    "import pandas as pd # data processing, CSV file I/O (e.g. pd.read_csv)\n",
    "\n",
    "# Input data files are available in the read-only \"../input/\" directory\n",
    "# For example, running this (by clicking run or pressing Shift+Enter) will list all files\n",
    "# under the input directory\n",
    "\n",
    "import os\n",
    "for dirname, _, filenames in os.walk('/kaggle/input'):\n",
    "    for filename in filenames:\n",
    "        print(os.path.join(dirname, filename))\n",
    "\n",
    "# You can write up to 5GB to the current directory (/kaggle/working/) that gets preserved as\n",
    "# output when you create a version using \"Save & Run All\" \n",
    "# You can also write temporary files to /kaggle/temp/, but they won't be saved outside of the\n",
    "# current session\n",
    "\n",
    "\n",
    "from sklearn.model_selection import train_test_split, cross_val_score\n",
    "from sklearn.metrics import mean_absolute_error, mean_squared_error, make_scorer\n",
    "from sklearn.impute import SimpleImputer\n",
    "from sklearn.preprocessing import LabelEncoder, StandardScaler,OneHotEncoder, OrdinalEncoder\n",
    "from sklearn.compose import ColumnTransformer\n",
    "from sklearn.pipeline import Pipeline, FeatureUnion, make_pipeline\n",
    "import matplotlib.pyplot as plt\n",
    "%matplotlib inline\n",
    "from xgboost import XGBRegressor\n",
    "pd.set_option('display.max_columns', None)\n",
    "import category_encoders as ce\n",
    "from sklearn.feature_selection import SelectKBest, f_classif, f_regression\n",
    "from pandas_profiling import ProfileReport"
   ]
  },
  {
   "cell_type": "markdown",
   "metadata": {
    "papermill": {
     "duration": 0.014591,
     "end_time": "2023-03-24T20:21:15.143906",
     "exception": false,
     "start_time": "2023-03-24T20:21:15.129315",
     "status": "completed"
    },
    "tags": []
   },
   "source": [
    "# Helper functions   <a id='functions'></a>   "
   ]
  },
  {
   "cell_type": "markdown",
   "metadata": {
    "papermill": {
     "duration": 0.014685,
     "end_time": "2023-03-24T20:21:15.173558",
     "exception": false,
     "start_time": "2023-03-24T20:21:15.158873",
     "status": "completed"
    },
    "tags": []
   },
   "source": [
    "<div class=\"alert alert-block alert-info\">\n",
    "<b>Tip:</b> We will use some helper functions throughout the notebook. Collecting them in one place is a good idea, making the code more organized.\n",
    "</div>"
   ]
  },
  {
   "cell_type": "code",
   "execution_count": 2,
   "metadata": {
    "execution": {
     "iopub.execute_input": "2023-03-24T20:21:15.310401Z",
     "iopub.status.busy": "2023-03-24T20:21:15.306322Z",
     "iopub.status.idle": "2023-03-24T20:21:15.314553Z",
     "shell.execute_reply": "2023-03-24T20:21:15.313872Z",
     "shell.execute_reply.started": "2022-09-27T07:32:50.310808Z"
    },
    "papermill": {
     "duration": 0.124917,
     "end_time": "2023-03-24T20:21:15.314673",
     "exception": false,
     "start_time": "2023-03-24T20:21:15.189756",
     "status": "completed"
    },
    "scrolled": true,
    "tags": []
   },
   "outputs": [],
   "source": [
    "def save_file (predictions):\n",
    "    \"\"\"Save submission file.\"\"\"\n",
    "    # Save test predictions to file\n",
    "    output = pd.DataFrame({'Id': sample_submission_file.Id,\n",
    "                       'SalePrice': predictions})\n",
    "    output.to_csv('submission.csv', index=False)\n",
    "    print (\"Submission file is saved\")"
   ]
  },
  {
   "cell_type": "code",
   "execution_count": 3,
   "metadata": {
    "execution": {
     "iopub.execute_input": "2023-03-24T20:21:15.355402Z",
     "iopub.status.busy": "2023-03-24T20:21:15.354783Z",
     "iopub.status.idle": "2023-03-24T20:21:15.446296Z",
     "shell.execute_reply": "2023-03-24T20:21:15.446930Z",
     "shell.execute_reply.started": "2022-09-27T07:32:50.423881Z"
    },
    "papermill": {
     "duration": 0.117337,
     "end_time": "2023-03-24T20:21:15.447096",
     "exception": false,
     "start_time": "2023-03-24T20:21:15.329759",
     "status": "completed"
    },
    "scrolled": true,
    "tags": []
   },
   "outputs": [
    {
     "name": "stdout",
     "output_type": "stream",
     "text": [
      "Data is OK\n"
     ]
    }
   ],
   "source": [
    "# Read the data\n",
    "train_data = pd.read_csv('/kaggle/input/home-data-for-ml-course/train.csv',\n",
    "                         index_col='Id')\n",
    "X_test = pd.read_csv('/kaggle/input/home-data-for-ml-course/test.csv',\n",
    "                     index_col='Id')\n",
    "X = train_data.copy()\n",
    "\n",
    "# Remove rows with missing target, separate target from predictors\n",
    "X.dropna(axis=0, subset=['SalePrice'], inplace=True)\n",
    "y = X.SalePrice  \n",
    "\n",
    "X.drop(['SalePrice', 'Utilities'], axis=1, inplace=True)\n",
    "X_test.drop(['Utilities'], axis=1, inplace=True)\n",
    "\n",
    "# Break off validation set from training data\n",
    "X_train, X_valid, y_train, y_valid = train_test_split(X, y, train_size=0.8, test_size=0.2,\n",
    "                                                                random_state=0)\n",
    "\n",
    "sample_submission_file = pd.read_csv(\"/kaggle/input/home-data-for-ml-course/sample_submission.csv\")\n",
    "\n",
    "print('Data is OK')"
   ]
  },
  {
   "cell_type": "markdown",
   "metadata": {
    "papermill": {
     "duration": 0.021329,
     "end_time": "2023-03-24T20:21:15.487682",
     "exception": false,
     "start_time": "2023-03-24T20:21:15.466353",
     "status": "completed"
    },
    "tags": []
   },
   "source": [
    "# Preprocessing  <a id='preprocessing'></a>"
   ]
  },
  {
   "cell_type": "code",
   "execution_count": 4,
   "metadata": {
    "execution": {
     "iopub.execute_input": "2023-03-24T20:21:15.531736Z",
     "iopub.status.busy": "2023-03-24T20:21:15.530954Z",
     "iopub.status.idle": "2023-03-24T20:21:15.543176Z",
     "shell.execute_reply": "2023-03-24T20:21:15.542607Z",
     "shell.execute_reply.started": "2022-09-27T07:32:50.550099Z"
    },
    "papermill": {
     "duration": 0.036228,
     "end_time": "2023-03-24T20:21:15.543298",
     "exception": false,
     "start_time": "2023-03-24T20:21:15.507070",
     "status": "completed"
    },
    "scrolled": true,
    "tags": []
   },
   "outputs": [
    {
     "name": "stdout",
     "output_type": "stream",
     "text": [
      "Number of missing values in each column:\n",
      "LotFrontage      212\n",
      "Alley           1097\n",
      "MasVnrType         6\n",
      "MasVnrArea         6\n",
      "BsmtQual          28\n",
      "BsmtCond          28\n",
      "BsmtExposure      28\n",
      "BsmtFinType1      28\n",
      "BsmtFinType2      29\n",
      "Electrical         1\n",
      "FireplaceQu      551\n",
      "GarageType        58\n",
      "GarageYrBlt       58\n",
      "GarageFinish      58\n",
      "GarageQual        58\n",
      "GarageCond        58\n",
      "PoolQC          1164\n",
      "Fence            954\n",
      "MiscFeature     1119\n",
      "dtype: int64\n"
     ]
    }
   ],
   "source": [
    "# Select object columns\n",
    "categorical_cols = [cname for cname in X_train.columns if X_train[cname].dtype == \"object\"]\n",
    "\n",
    "# Select numeric columns\n",
    "numerical_cols = [cname for cname in X_train.columns if X_train[cname].dtype in ['int64',\n",
    "                                                                                 'float64']]\n",
    "\n",
    "# Number of missing values in each column of training data\n",
    "missing_val_count_by_column_train = (X_train.isnull().sum())\n",
    "print(\"Number of missing values in each column:\")\n",
    "print(missing_val_count_by_column_train[missing_val_count_by_column_train > 0])"
   ]
  },
  {
   "cell_type": "code",
   "execution_count": 5,
   "metadata": {
    "execution": {
     "iopub.execute_input": "2023-03-24T20:21:15.584127Z",
     "iopub.status.busy": "2023-03-24T20:21:15.581806Z",
     "iopub.status.idle": "2023-03-24T20:21:15.588144Z",
     "shell.execute_reply": "2023-03-24T20:21:15.587473Z",
     "shell.execute_reply.started": "2022-09-27T07:32:50.574325Z"
    },
    "papermill": {
     "duration": 0.029406,
     "end_time": "2023-03-24T20:21:15.588269",
     "exception": false,
     "start_time": "2023-03-24T20:21:15.558863",
     "status": "completed"
    },
    "scrolled": true,
    "tags": []
   },
   "outputs": [
    {
     "name": "stdout",
     "output_type": "stream",
     "text": [
      "Number of missing values in numerical columns:\n",
      "LotFrontage    212\n",
      "MasVnrArea       6\n",
      "GarageYrBlt     58\n",
      "dtype: int64\n"
     ]
    }
   ],
   "source": [
    "# Number of missing values in numerical columns\n",
    "missing_val_count_by_column_numeric = (X_train[numerical_cols].isnull().sum())\n",
    "print(\"Number of missing values in numerical columns:\")\n",
    "print(missing_val_count_by_column_numeric[missing_val_count_by_column_numeric > 0])"
   ]
  },
  {
   "cell_type": "code",
   "execution_count": 6,
   "metadata": {
    "execution": {
     "iopub.execute_input": "2023-03-24T20:21:15.624546Z",
     "iopub.status.busy": "2023-03-24T20:21:15.623942Z",
     "iopub.status.idle": "2023-03-24T20:21:15.630529Z",
     "shell.execute_reply": "2023-03-24T20:21:15.631010Z",
     "shell.execute_reply.started": "2022-09-27T07:32:50.588486Z"
    },
    "papermill": {
     "duration": 0.025915,
     "end_time": "2023-03-24T20:21:15.631206",
     "exception": false,
     "start_time": "2023-03-24T20:21:15.605291",
     "status": "completed"
    },
    "scrolled": true,
    "tags": []
   },
   "outputs": [],
   "source": [
    "# Imputation lists\n",
    "\n",
    "# imputation to null values of these numerical columns need to be 'constant'\n",
    "constant_num_cols = ['GarageYrBlt', 'MasVnrArea']\n",
    "\n",
    "# imputation to null values of these numerical columns need to be 'mean'\n",
    "mean_num_cols = list(set(numerical_cols).difference(set(constant_num_cols)))\n",
    "\n",
    "# imputation to null values of these categorical columns need to be 'constant'\n",
    "constant_categorical_cols = ['Alley', 'MasVnrType', 'BsmtQual', 'BsmtCond', 'BsmtExposure',\n",
    "                             'BsmtFinType1', 'BsmtFinType2', 'FireplaceQu','GarageType',\n",
    "                             'GarageFinish', 'GarageQual', 'GarageCond', 'PoolQC', 'Fence',\n",
    "                             'MiscFeature']\n",
    "\n",
    "# imputation to null values of these categorical columns need to be 'most_frequent'\n",
    "mf_categorical_cols = list(set(categorical_cols).difference(set(constant_categorical_cols)))\n",
    "\n",
    "my_cols = constant_num_cols + mean_num_cols + constant_categorical_cols + mf_categorical_cols"
   ]
  },
  {
   "cell_type": "code",
   "execution_count": 7,
   "metadata": {
    "execution": {
     "iopub.execute_input": "2023-03-24T20:21:15.667612Z",
     "iopub.status.busy": "2023-03-24T20:21:15.666729Z",
     "iopub.status.idle": "2023-03-24T20:21:15.677288Z",
     "shell.execute_reply": "2023-03-24T20:21:15.676667Z",
     "shell.execute_reply.started": "2022-09-27T07:32:50.599870Z"
    },
    "papermill": {
     "duration": 0.029497,
     "end_time": "2023-03-24T20:21:15.677401",
     "exception": false,
     "start_time": "2023-03-24T20:21:15.647904",
     "status": "completed"
    },
    "scrolled": true,
    "tags": []
   },
   "outputs": [],
   "source": [
    "# Define transformers\n",
    "# Preprocessing for numerical data\n",
    "\n",
    "numerical_transformer_m = Pipeline(steps=[\n",
    "    ('imputer', SimpleImputer(strategy='mean')),\n",
    "    ('scaler', StandardScaler())])\n",
    "\n",
    "numerical_transformer_c = Pipeline(steps=[\n",
    "    ('imputer', SimpleImputer(strategy='constant', fill_value=0)),\n",
    "    ('scaler', StandardScaler())])\n",
    "\n",
    "\n",
    "# Preprocessing for categorical data for most frequent\n",
    "categorical_transformer_mf = Pipeline(steps=[\n",
    "    ('imputer', SimpleImputer(strategy='most_frequent')),\n",
    "    ('onehot', OneHotEncoder(handle_unknown = 'ignore', sparse = False))\n",
    "])\n",
    "\n",
    "# Preprocessing for categorical data for constant\n",
    "categorical_transformer_c = Pipeline(steps=[\n",
    "    ('imputer', SimpleImputer(strategy='constant', fill_value='NA')),\n",
    "    ('onehot', OneHotEncoder(handle_unknown = 'ignore', sparse = False))\n",
    "])\n",
    "\n",
    "\n",
    "# Bundle preprocessing for numerical and categorical data\n",
    "preprocessor = ColumnTransformer(\n",
    "    transformers=[\n",
    "        ('num_mean', numerical_transformer_m, mean_num_cols),\n",
    "        ('num_constant', numerical_transformer_c, constant_num_cols),\n",
    "        ('cat_mf', categorical_transformer_mf, mf_categorical_cols),\n",
    "        ('cat_c', categorical_transformer_c, constant_categorical_cols)\n",
    "    ])"
   ]
  },
  {
   "cell_type": "code",
   "execution_count": 8,
   "metadata": {
    "execution": {
     "iopub.execute_input": "2023-03-24T20:21:15.715794Z",
     "iopub.status.busy": "2023-03-24T20:21:15.714864Z",
     "iopub.status.idle": "2023-03-24T20:21:15.716654Z",
     "shell.execute_reply": "2023-03-24T20:21:15.717166Z",
     "shell.execute_reply.started": "2022-09-27T07:32:50.614258Z"
    },
    "papermill": {
     "duration": 0.024222,
     "end_time": "2023-03-24T20:21:15.717331",
     "exception": false,
     "start_time": "2023-03-24T20:21:15.693109",
     "status": "completed"
    },
    "scrolled": true,
    "tags": []
   },
   "outputs": [],
   "source": [
    "# Define Model\n",
    "model = XGBRegressor(learning_rate = 0.1,\n",
    "                     n_estimators=500,\n",
    "                     max_depth=5,\n",
    "                     min_child_weight=1,\n",
    "                     gamma=0,\n",
    "                     subsample=0.8,\n",
    "                     colsample_bytree=0.8,\n",
    "                     reg_alpha = 0,\n",
    "                     reg_lambda = 1,\n",
    "                     random_state=0)"
   ]
  },
  {
   "cell_type": "markdown",
   "metadata": {
    "papermill": {
     "duration": 0.016048,
     "end_time": "2023-03-24T20:21:15.748947",
     "exception": false,
     "start_time": "2023-03-24T20:21:15.732899",
     "status": "completed"
    },
    "tags": []
   },
   "source": [
    "# Validation with early_stopping_rounds  <a id='validation'></a>"
   ]
  },
  {
   "cell_type": "markdown",
   "metadata": {
    "papermill": {
     "duration": 0.014972,
     "end_time": "2023-03-24T20:21:15.779724",
     "exception": false,
     "start_time": "2023-03-24T20:21:15.764752",
     "status": "completed"
    },
    "tags": []
   },
   "source": [
    "<div class=\"alert alert-block alert-danger\">  \n",
    "<p>If we want to use early_stopping_rounds with our pipeline, we cannot use the validation set (X_valid) directly. This is because sklearn pipelines do not process the eval_set used with early_stopping_rounds. As a result, we need to process our validation set before using early_stopping_rounds.</p>\n",
    "    \n",
    "<p>There is a great danger here. If we forget to process our validation set and if processed data has the same number of columns as the unprocessed data, we may not see an error. Validation with unprocessed data may mislead us.</p>    \n",
    "    \n",
    "<p>To process the eval_set, we need to fit_transform X_valid by using our preprocessor, a pipeline consisting of transformers (which do not have a predictor).</p>\n",
    "</div>"
   ]
  },
  {
   "cell_type": "code",
   "execution_count": 9,
   "metadata": {
    "execution": {
     "iopub.execute_input": "2023-03-24T20:21:15.819864Z",
     "iopub.status.busy": "2023-03-24T20:21:15.819019Z",
     "iopub.status.idle": "2023-03-24T20:21:15.897582Z",
     "shell.execute_reply": "2023-03-24T20:21:15.897007Z",
     "shell.execute_reply.started": "2022-09-27T07:32:50.629468Z"
    },
    "papermill": {
     "duration": 0.102788,
     "end_time": "2023-03-24T20:21:15.897694",
     "exception": false,
     "start_time": "2023-03-24T20:21:15.794906",
     "status": "completed"
    },
    "scrolled": true,
    "tags": []
   },
   "outputs": [],
   "source": [
    "# Preprocessing of validation data\n",
    "X_valid_eval = preprocessor.fit(X_train, y_train).transform (X_valid)"
   ]
  },
  {
   "cell_type": "code",
   "execution_count": 10,
   "metadata": {
    "execution": {
     "iopub.execute_input": "2023-03-24T20:21:15.932666Z",
     "iopub.status.busy": "2023-03-24T20:21:15.932090Z",
     "iopub.status.idle": "2023-03-24T20:21:15.938881Z",
     "shell.execute_reply": "2023-03-24T20:21:15.939385Z",
     "shell.execute_reply.started": "2022-09-27T07:32:50.740368Z"
    },
    "papermill": {
     "duration": 0.026203,
     "end_time": "2023-03-24T20:21:15.939572",
     "exception": false,
     "start_time": "2023-03-24T20:21:15.913369",
     "status": "completed"
    },
    "scrolled": true,
    "tags": []
   },
   "outputs": [
    {
     "name": "stdout",
     "output_type": "stream",
     "text": [
      "We have 296 features after transformation\n"
     ]
    }
   ],
   "source": [
    "# Display the number of remaining columns after transformation \n",
    "print(\"We have\", X_valid_eval.shape[1], \"features after transformation\")"
   ]
  },
  {
   "cell_type": "code",
   "execution_count": 11,
   "metadata": {
    "execution": {
     "iopub.execute_input": "2023-03-24T20:21:15.977282Z",
     "iopub.status.busy": "2023-03-24T20:21:15.976648Z",
     "iopub.status.idle": "2023-03-24T20:21:15.980574Z",
     "shell.execute_reply": "2023-03-24T20:21:15.979900Z",
     "shell.execute_reply.started": "2022-09-27T07:32:50.747293Z"
    },
    "papermill": {
     "duration": 0.025018,
     "end_time": "2023-03-24T20:21:15.980695",
     "exception": false,
     "start_time": "2023-03-24T20:21:15.955677",
     "status": "completed"
    },
    "scrolled": true,
    "tags": []
   },
   "outputs": [],
   "source": [
    "# Define XGBRegressor fitting parameters for the pipeline\n",
    "fit_params = {\"model__early_stopping_rounds\": 50,\n",
    "              \"model__eval_set\": [(X_valid_eval, y_valid)],\n",
    "              \"model__verbose\": False,\n",
    "              \"model__eval_metric\" : \"mae\"}"
   ]
  },
  {
   "cell_type": "code",
   "execution_count": 12,
   "metadata": {
    "execution": {
     "iopub.execute_input": "2023-03-24T20:21:16.023909Z",
     "iopub.status.busy": "2023-03-24T20:21:16.023206Z",
     "iopub.status.idle": "2023-03-24T20:21:17.613357Z",
     "shell.execute_reply": "2023-03-24T20:21:17.614163Z",
     "shell.execute_reply.started": "2022-09-27T07:32:50.761098Z"
    },
    "papermill": {
     "duration": 1.617754,
     "end_time": "2023-03-24T20:21:17.614308",
     "exception": false,
     "start_time": "2023-03-24T20:21:15.996554",
     "status": "completed"
    },
    "scrolled": true,
    "tags": []
   },
   "outputs": [
    {
     "name": "stdout",
     "output_type": "stream",
     "text": [
      "Score: 15833.756715539384\n"
     ]
    }
   ],
   "source": [
    "# Create and Evaluate the Pipeline\n",
    "# Bundle preprocessing and modeling code in a pipeline\n",
    "my_pipeline = Pipeline(steps=[('preprocessor', preprocessor),\n",
    "                              ('model', model)\n",
    "                             ])\n",
    "\n",
    "# Preprocessing of training data, fit model \n",
    "my_pipeline.fit(X_train, y_train, **fit_params)\n",
    "\n",
    "# Get predictions\n",
    "preds = my_pipeline.predict(X_valid)\n",
    "\n",
    "# Evaluate the model\n",
    "score = mean_absolute_error(y_valid,preds)\n",
    "\n",
    "print(\"Score: {}\".format(score))\n"
   ]
  },
  {
   "cell_type": "markdown",
   "metadata": {
    "papermill": {
     "duration": 0.019166,
     "end_time": "2023-03-24T20:21:17.654225",
     "exception": false,
     "start_time": "2023-03-24T20:21:17.635059",
     "status": "completed"
    },
    "tags": []
   },
   "source": [
    "# Cross-validation using full training set <a id='cross-validation'></a>"
   ]
  },
  {
   "cell_type": "code",
   "execution_count": 13,
   "metadata": {
    "execution": {
     "iopub.execute_input": "2023-03-24T20:21:17.705973Z",
     "iopub.status.busy": "2023-03-24T20:21:17.705320Z",
     "iopub.status.idle": "2023-03-24T20:21:17.708335Z",
     "shell.execute_reply": "2023-03-24T20:21:17.708806Z",
     "shell.execute_reply.started": "2022-09-27T07:32:52.519253Z"
    },
    "papermill": {
     "duration": 0.03347,
     "end_time": "2023-03-24T20:21:17.708955",
     "exception": false,
     "start_time": "2023-03-24T20:21:17.675485",
     "status": "completed"
    },
    "scrolled": true,
    "tags": []
   },
   "outputs": [],
   "source": [
    "# Preprocessing of training data, fit model \n",
    "X_cv = X[my_cols].copy()\n",
    "X_sub = X_test[my_cols].copy()"
   ]
  },
  {
   "cell_type": "code",
   "execution_count": 14,
   "metadata": {
    "execution": {
     "iopub.execute_input": "2023-03-24T20:21:17.764067Z",
     "iopub.status.busy": "2023-03-24T20:21:17.763444Z",
     "iopub.status.idle": "2023-03-24T20:21:28.588292Z",
     "shell.execute_reply": "2023-03-24T20:21:28.589376Z",
     "shell.execute_reply.started": "2022-09-27T07:32:52.534254Z"
    },
    "papermill": {
     "duration": 10.861228,
     "end_time": "2023-03-24T20:21:28.589550",
     "exception": false,
     "start_time": "2023-03-24T20:21:17.728322",
     "status": "completed"
    },
    "scrolled": true,
    "tags": []
   },
   "outputs": [
    {
     "name": "stdout",
     "output_type": "stream",
     "text": [
      "MAE score:\n",
      " [14745.56727579 15845.26411333 16570.59832513 13274.38312018\n",
      " 15557.00219392]\n",
      "MAE mean: 15198.56300567209\n",
      "MAE std: 1125.7757552165335\n"
     ]
    }
   ],
   "source": [
    "# Multiply by -1 since sklearn calculates *negative* MAE\n",
    "scores = -1 * cross_val_score(my_pipeline, X_cv, y,\n",
    "                              cv=5,\n",
    "                              scoring='neg_mean_absolute_error')\n",
    "\n",
    "print(\"MAE score:\\n\", scores)\n",
    "print(\"MAE mean: {}\".format(scores.mean()))\n",
    "print(\"MAE std: {}\".format(scores.std()))"
   ]
  },
  {
   "cell_type": "markdown",
   "metadata": {
    "papermill": {
     "duration": 0.019782,
     "end_time": "2023-03-24T20:21:28.630497",
     "exception": false,
     "start_time": "2023-03-24T20:21:28.610715",
     "status": "completed"
    },
    "tags": []
   },
   "source": [
    "# Prediction   <a id='prediction'></a>"
   ]
  },
  {
   "cell_type": "code",
   "execution_count": 15,
   "metadata": {
    "execution": {
     "iopub.execute_input": "2023-03-24T20:21:28.689173Z",
     "iopub.status.busy": "2023-03-24T20:21:28.688506Z",
     "iopub.status.idle": "2023-03-24T20:21:31.367564Z",
     "shell.execute_reply": "2023-03-24T20:21:31.368388Z",
     "shell.execute_reply.started": "2022-09-27T07:33:07.454588Z"
    },
    "papermill": {
     "duration": 2.717953,
     "end_time": "2023-03-24T20:21:31.368557",
     "exception": false,
     "start_time": "2023-03-24T20:21:28.650604",
     "status": "completed"
    },
    "scrolled": true,
    "tags": []
   },
   "outputs": [],
   "source": [
    "# Fit model\n",
    "my_pipeline.fit(X_cv, y)\n",
    "\n",
    "# Get predictions\n",
    "preds = my_pipeline.predict(X_sub)"
   ]
  },
  {
   "cell_type": "markdown",
   "metadata": {
    "papermill": {
     "duration": 0.019436,
     "end_time": "2023-03-24T20:21:31.408323",
     "exception": false,
     "start_time": "2023-03-24T20:21:31.388887",
     "status": "completed"
    },
    "tags": []
   },
   "source": [
    "# Saving and submission   <a id='saving'></a>"
   ]
  },
  {
   "cell_type": "code",
   "execution_count": 16,
   "metadata": {
    "execution": {
     "iopub.execute_input": "2023-03-24T20:21:31.454062Z",
     "iopub.status.busy": "2023-03-24T20:21:31.452130Z",
     "iopub.status.idle": "2023-03-24T20:21:31.691029Z",
     "shell.execute_reply": "2023-03-24T20:21:31.690426Z",
     "shell.execute_reply.started": "2022-09-27T07:33:11.121360Z"
    },
    "papermill": {
     "duration": 0.263428,
     "end_time": "2023-03-24T20:21:31.691153",
     "exception": false,
     "start_time": "2023-03-24T20:21:31.427725",
     "status": "completed"
    },
    "scrolled": true,
    "tags": []
   },
   "outputs": [
    {
     "name": "stdout",
     "output_type": "stream",
     "text": [
      "Submission file is saved\n"
     ]
    }
   ],
   "source": [
    "# Use predefined utility function\n",
    "save_file(preds)"
   ]
  },
  {
   "cell_type": "markdown",
   "metadata": {
    "papermill": {
     "duration": 0.01623,
     "end_time": "2023-03-24T20:21:31.724191",
     "exception": false,
     "start_time": "2023-03-24T20:21:31.707961",
     "status": "completed"
    },
    "tags": []
   },
   "source": [
    "# References   <a id='references'></a>\n",
    "* [10-simple-hacks-to-speed-up-your-data-analysis - Parul Pandey](https://www.kaggle.com/parulpandey/10-simple-hacks-to-speed-up-your-data-analysis)\n",
    "* [Dataset Transformations - Scikit-learn](https://scikit-learn.org/stable/data_transforms.html)\n",
    "* [Intermediate Machine Learning Course - Pipelines](https://www.kaggle.com/alexisbcook/pipelines)\n",
    "* [Kaggle Learn](https://www.kaggle.com/learn/overview)"
   ]
  }
 ],
 "metadata": {
  "kernelspec": {
   "display_name": "Python 3",
   "language": "python",
   "name": "python3"
  },
  "language_info": {
   "codemirror_mode": {
    "name": "ipython",
    "version": 3
   },
   "file_extension": ".py",
   "mimetype": "text/x-python",
   "name": "python",
   "nbconvert_exporter": "python",
   "pygments_lexer": "ipython3",
   "version": "3.7.6"
  },
  "papermill": {
   "duration": 24.590846,
   "end_time": "2023-03-24T20:21:31.850547",
   "environment_variables": {},
   "exception": null,
   "input_path": "__notebook__.ipynb",
   "output_path": "__notebook__.ipynb",
   "parameters": {},
   "start_time": "2023-03-24T20:21:07.259701",
   "version": "2.1.0"
  }
 },
 "nbformat": 4,
 "nbformat_minor": 4
}
