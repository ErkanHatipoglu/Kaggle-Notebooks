{
 "cells": [
  {
   "cell_type": "markdown",
   "id": "a264e2e2",
   "metadata": {
    "papermill": {
     "duration": 0.006506,
     "end_time": "2023-03-22T21:03:11.047102",
     "exception": false,
     "start_time": "2023-03-22T21:03:11.040596",
     "status": "completed"
    },
    "tags": []
   },
   "source": [
    "# Introduction  <a id='introduction'></a>\n",
    "\n",
    "In [Multivariate Linear Regression From Scratch](https://www.kaggle.com/code/erkanhatipoglu/multivariate-linear-regression-from-scratch) notebook, we have seen how to utilize the gradient descent algorithm to solve a multiple linear regression task. We have used the negative gradient of the cost function j(θ) and taken tiny steps to calculate the θ vector that minimizes j(θ) to find the best linear fit for our data. Yet, we may have an alternative analytical solution called the 'normal equation' for a linear regression task.\n",
    "\n",
    "We will first explain the 'normal equation' and compare it with gradient descent to identify the advantages and limitations. Then, we will use the dataset we used in the [Multivariate Linear Regression From Scratch](https://www.kaggle.com/code/erkanhatipoglu/multivariate-linear-regression-from-scratch) notebook to find the θ vector using the 'normal equation.' We will then validate our data with the same validation data we used earlier and compare the results. Interested Kagglers may refer to the [References](#references) section for my works on linear regression for more detailed explanations.  \n",
    "\n",
    "This notebook is greatly inspired by the famous Machine Learning course by [Andrew Ng](https://www.andrewng.org/). All the mistakes, if any, are made by me.\n",
    "\n",
    "Finally, thanks to [@Mohan S Acharya](https://www.kaggle.com/mohansacharya) for this dataset.\n",
    "\n",
    "\n",
    "# Table of Contents\n",
    "* [Introduction](#introduction)\n",
    "* [Helper functions](#functions)\n",
    "* [The Normal Equation](#normal)\n",
    "* [The Hypothesis](#hypothesis)\n",
    "* [The Cost Function](#cost)\n",
    "* [Loading Data](#getdata)\n",
    "* [Model Training](#training)\n",
    "* [Model Validation](#validation)\n",
    "* [Conclusion](#conclusion)\n",
    "* [References](#references)"
   ]
  },
  {
   "cell_type": "code",
   "execution_count": 1,
   "id": "407e2fcf",
   "metadata": {
    "_cell_guid": "b1076dfc-b9ad-4769-8c92-a6c4dae69d19",
    "_uuid": "8f2839f25d086af736a60e9eeb907d3b93b6e0e5",
    "execution": {
     "iopub.execute_input": "2023-03-22T21:03:11.060725Z",
     "iopub.status.busy": "2023-03-22T21:03:11.060296Z",
     "iopub.status.idle": "2023-03-22T21:03:12.276298Z",
     "shell.execute_reply": "2023-03-22T21:03:12.274514Z"
    },
    "papermill": {
     "duration": 1.226357,
     "end_time": "2023-03-22T21:03:12.279325",
     "exception": false,
     "start_time": "2023-03-22T21:03:11.052968",
     "status": "completed"
    },
    "tags": []
   },
   "outputs": [
    {
     "name": "stdout",
     "output_type": "stream",
     "text": [
      "/kaggle/input/graduate-admissions/Admission_Predict.csv\n",
      "/kaggle/input/graduate-admissions/Admission_Predict_Ver1.1.csv\n"
     ]
    }
   ],
   "source": [
    "# This Python 3 environment comes with many helpful analytics libraries installed\n",
    "# It is defined by the kaggle/python Docker image: https://github.com/kaggle/docker-python\n",
    "# For example, here's several helpful packages to load\n",
    "\n",
    "import numpy as np # linear algebra\n",
    "import pandas as pd # data processing, CSV file I/O (e.g. pd.read_csv)\n",
    "\n",
    "# Input data files are available in the read-only \"../input/\" directory\n",
    "# For example, running this (by clicking run or pressing Shift+Enter) will list all files under the input directory\n",
    "\n",
    "import os\n",
    "for dirname, _, filenames in os.walk('/kaggle/input'):\n",
    "    for filename in filenames:\n",
    "        print(os.path.join(dirname, filename))\n",
    "\n",
    "# You can write up to 20GB to the current directory (/kaggle/working/) that gets preserved as output when you create a version using \"Save & Run All\" \n",
    "# You can also write temporary files to /kaggle/temp/, but they won't be saved outside of the current session\n",
    "\n",
    "from sklearn.model_selection import train_test_split\n",
    "from numpy import linalg\n",
    "import matplotlib.pyplot as plt"
   ]
  },
  {
   "cell_type": "markdown",
   "id": "82562f66",
   "metadata": {
    "papermill": {
     "duration": 0.00541,
     "end_time": "2023-03-22T21:03:12.290523",
     "exception": false,
     "start_time": "2023-03-22T21:03:12.285113",
     "status": "completed"
    },
    "tags": []
   },
   "source": [
    "# Helper Functions   <a id='functions'></a>   "
   ]
  },
  {
   "cell_type": "markdown",
   "id": "25c60851",
   "metadata": {
    "papermill": {
     "duration": 0.005157,
     "end_time": "2023-03-22T21:03:12.301131",
     "exception": false,
     "start_time": "2023-03-22T21:03:12.295974",
     "status": "completed"
    },
    "tags": []
   },
   "source": [
    "<div class=\"alert alert-block alert-info\">\n",
    "<b>Tip:</b> We will use some helper functions throughout the notebook. Collecting them in one place is a good idea, making the code more organized. First, we will define and explain those functions and then use them in our code.\n",
    "</div>"
   ]
  },
  {
   "cell_type": "markdown",
   "id": "81b8496f",
   "metadata": {
    "papermill": {
     "duration": 0.005286,
     "end_time": "2023-03-22T21:03:12.311934",
     "exception": false,
     "start_time": "2023-03-22T21:03:12.306648",
     "status": "completed"
    },
    "tags": []
   },
   "source": [
    "# The Normal Equation   <a id='normal'></a> "
   ]
  },
  {
   "cell_type": "markdown",
   "id": "950eeb09",
   "metadata": {
    "papermill": {
     "duration": 0.005689,
     "end_time": "2023-03-22T21:03:12.323168",
     "exception": false,
     "start_time": "2023-03-22T21:03:12.317479",
     "status": "completed"
    },
    "tags": []
   },
   "source": [
    "As we all know, gradient descent is an iterative algorithm that must be conducted repeatedly until convergence. Especially for a small number of features, alternatively, we may use a much faster method called the 'normal equation.' The idea is as follows:\n",
    "\n",
    "We know that for a function of f(θ), the θ values that make the derivative of f(θ) zero are the maximum or minimum point for f(θ). For our specific squared error cost function, it turns out that this is the minimum point. We can understand this by the following figure:"
   ]
  },
  {
   "cell_type": "code",
   "execution_count": 2,
   "id": "17c25125",
   "metadata": {
    "_kg_hide-input": true,
    "execution": {
     "iopub.execute_input": "2023-03-22T21:03:12.337661Z",
     "iopub.status.busy": "2023-03-22T21:03:12.337333Z",
     "iopub.status.idle": "2023-03-22T21:03:12.704138Z",
     "shell.execute_reply": "2023-03-22T21:03:12.702998Z"
    },
    "papermill": {
     "duration": 0.377873,
     "end_time": "2023-03-22T21:03:12.707452",
     "exception": false,
     "start_time": "2023-03-22T21:03:12.329579",
     "status": "completed"
    },
    "tags": []
   },
   "outputs": [
    {
     "data": {
      "image/png": "[encoded data removed]",
      "text/plain": [
       "<Figure size 500x500 with 1 Axes>"
      ]
     },
     "metadata": {},
     "output_type": "display_data"
    }
   ],
   "source": [
    "x = np.arange(-20, 20, 0.25)\n",
    "y = (x-5)**2\n",
    "\n",
    "plt.figure(figsize=(5, 5))\n",
    "\n",
    "plt.xlabel(r'$\\theta_1$')\n",
    "plt.ylabel(r'$\\theta_2$')\n",
    "plt.title(r'j($\\theta$)')\n",
    "\n",
    "plt.xlim(0, 10)\n",
    "plt.ylim(-1, 10)\n",
    "\n",
    "plt.plot(x, y, label='j(θ)')\n",
    "\n",
    "p1 = [4.5, 5.5]\n",
    "p2 = [0, 0]\n",
    "\n",
    "plt.plot(p1, p2, label=r'$\\frac{\\partial j(θ)}{\\partial θ}$')\n",
    "\n",
    "plt.legend()\n",
    "\n",
    "plt.show()"
   ]
  },
  {
   "cell_type": "markdown",
   "id": "d958e5a3",
   "metadata": {
    "papermill": {
     "duration": 0.006328,
     "end_time": "2023-03-22T21:03:12.721162",
     "exception": false,
     "start_time": "2023-03-22T21:03:12.714834",
     "status": "completed"
    },
    "tags": []
   },
   "source": [
    "Suppose we have a squared error cost function j(θ), as the plot above shows. As can be seen, the derivate of j(θ) at the global minimum is zero. So if we find the θ values that make the derivative of the cost function j(θ) zero, we can use them for the optimal solution. We know that j(θ) in vectorized form can be written as follows:\n",
    "\n",
    "$ J(\\theta) = \\frac{1}{2m}( X\\theta - \\vec y)^T(X\\theta - \\vec y) $\n",
    "\n",
    "Therefore,\n",
    "\n",
    "$\\frac{\\partial J(\\theta)}{\\partial \\theta} = \\frac{\\partial}{\\partial \\theta} \\frac{1}{2m}( X\\theta - \\vec y)^T(X\\theta - \\vec y) := 0 $\n",
    "\n",
    "If we solve the equation above for θ, we get the following:\n",
    "\n",
    "$ \\boldsymbol{\\theta} := (\\boldsymbol{X}^T \\boldsymbol{X})^{-1} \\boldsymbol{X}^T \\boldsymbol{\\vec y}  $\n",
    "\n",
    "We must calculate the inverse of matrix $\\boldsymbol{X}^T \\boldsymbol{X}$, which has dimensions (n+1 X n+1), to find the θ values. Unfortunately, not every matrix has an inverse. So we must be careful while taking the inverse. Too many (m>=n, where m is the number of examples and n is the number of features) or redundant features may cause $\\boldsymbol{X}^T \\boldsymbol{X}$ to be non-invertible. If we run across a non-invertible matrix case, we may attempt to decrease the features or get more data to solve the issue. \n",
    "\n",
    "Also, the [NumPy library](https://numpy.org/doc/stable/index.html) has a function called [pinv()](https://numpy.org/doc/stable/reference/generated/numpy.linalg.pinv.html) that will compute the pseudo-inverse of $\\boldsymbol{X}^T \\boldsymbol{X}$ so that even if $\\boldsymbol{X}^T \\boldsymbol{X}$ is non-invertible, we may have a solution. \n",
    "\n",
    "We get the following table if we compare the 'normal equation' approach with the gradient descent approach [[1](https://www.deeplearning.ai/program/machine-learning-specialization/)].\n",
    "\n",
    "|Gradient Descent                           |Normal Equation                                                                 |\n",
    "|:------------------------------------------|:-------------------------------------------------------------------------------|\n",
    "|Need to choose alpha                       |No need to choose alpha                                                         |\n",
    "|Needs many iterations                      |No need to iterate                                                              |\n",
    "|$O(n^2)$                                   |$O(n^3)$, need to calculate $(\\boldsymbol{X}^T \\boldsymbol{X})^{-1}$            |\n",
    "|Works well when n is large                 |Slow if n is very large                                                         |"
   ]
  },
  {
   "cell_type": "code",
   "execution_count": 3,
   "id": "a407d3b9",
   "metadata": {
    "execution": {
     "iopub.execute_input": "2023-03-22T21:03:12.735192Z",
     "iopub.status.busy": "2023-03-22T21:03:12.734816Z",
     "iopub.status.idle": "2023-03-22T21:03:12.742197Z",
     "shell.execute_reply": "2023-03-22T21:03:12.740785Z"
    },
    "papermill": {
     "duration": 0.016824,
     "end_time": "2023-03-22T21:03:12.744158",
     "exception": false,
     "start_time": "2023-03-22T21:03:12.727334",
     "status": "completed"
    },
    "tags": []
   },
   "outputs": [],
   "source": [
    "# The normal equation\n",
    "\n",
    "def calculate_theta(X,y):\n",
    "    \"\"\"\n",
    "     Calculates the theta vector using the normal equation.\n",
    "    \n",
    "    :param X: inputs (feature values) - data frame of floats\n",
    "    :param y: outputs (actual target values) - Numpy array of floats\n",
    "    \n",
    "    :return: new theta - Numpy array of floats\n",
    "    \n",
    "    \"\"\"\n",
    "    # Calculate transpose of X\n",
    "    X_transpose = X.transpose()\n",
    "    \n",
    "    # Calculate the dot product between X_transpose and X\n",
    "    temp_0 = np.dot(X_transpose, X)\n",
    "        \n",
    "    # Calculate the inverse of temp_0\n",
    "    try:\n",
    "        temp_1 = linalg.inv(temp_0)\n",
    "     \n",
    "    except:\n",
    "        print(\"\\033[93mWarning: Non-invertible Matrix! pinv() will be used\\033[0m\")\n",
    "        temp_1 = linalg.pinv(temp_0)\n",
    "\n",
    "    # Calculate the dot product between temp_1 and X_transpose\n",
    "    temp_2 = np.dot(temp_1, X_transpose)\n",
    "\n",
    "    # Calculate the dot product between temp_2 and y\n",
    "    theta = np.dot(temp_2, y) \n",
    "\n",
    "    return  theta.reshape(-1)"
   ]
  },
  {
   "cell_type": "markdown",
   "id": "06bc7c6d",
   "metadata": {
    "papermill": {
     "duration": 0.005649,
     "end_time": "2023-03-22T21:03:12.755962",
     "exception": false,
     "start_time": "2023-03-22T21:03:12.750313",
     "status": "completed"
    },
    "tags": []
   },
   "source": [
    "# The  Hypothesis   <a id='hypothesis'></a>   "
   ]
  },
  {
   "cell_type": "markdown",
   "id": "ac85baf1",
   "metadata": {
    "execution": {
     "iopub.execute_input": "2023-03-19T20:08:10.723871Z",
     "iopub.status.busy": "2023-03-19T20:08:10.723267Z",
     "iopub.status.idle": "2023-03-19T20:08:10.730032Z",
     "shell.execute_reply": "2023-03-19T20:08:10.728533Z",
     "shell.execute_reply.started": "2023-03-19T20:08:10.723828Z"
    },
    "papermill": {
     "duration": 0.005591,
     "end_time": "2023-03-22T21:03:12.768191",
     "exception": false,
     "start_time": "2023-03-22T21:03:12.762600",
     "status": "completed"
    },
    "tags": []
   },
   "source": [
    "The vectorized form of the hypothesis for linear regression is:\n",
    "\n",
    "$ h_\\theta(x) = \\boldsymbol{X}\\boldsymbol{\\theta} $\n",
    "\n",
    "You can refer to [Multivariate Linear Regression From Scratch](https://www.kaggle.com/code/erkanhatipoglu/multivariate-linear-regression-from-scratch) notebook for more detailed information."
   ]
  },
  {
   "cell_type": "code",
   "execution_count": 4,
   "id": "1f37c1b5",
   "metadata": {
    "execution": {
     "iopub.execute_input": "2023-03-22T21:03:12.781789Z",
     "iopub.status.busy": "2023-03-22T21:03:12.781433Z",
     "iopub.status.idle": "2023-03-22T21:03:12.786602Z",
     "shell.execute_reply": "2023-03-22T21:03:12.785292Z"
    },
    "papermill": {
     "duration": 0.014617,
     "end_time": "2023-03-22T21:03:12.788653",
     "exception": false,
     "start_time": "2023-03-22T21:03:12.774036",
     "status": "completed"
    },
    "tags": []
   },
   "outputs": [],
   "source": [
    "# The hypothesis\n",
    "def h(x, theta):\n",
    "    \"\"\"\n",
    "     Calculates the predicted values (or predicted targets) for a given set of input and theta vectors.\n",
    "    \n",
    "    :param x: inputs (feature values) - data frame of floats \n",
    "    :param theta: theta vector (weights) - Numpy array of floats\n",
    "    \n",
    "    :return: predicted targets - Numpy array of floats\n",
    "    \n",
    "    \"\"\"\n",
    "    # The hypothesis is a column vector of m x 1\n",
    "    return np.dot(x, theta)"
   ]
  },
  {
   "cell_type": "markdown",
   "id": "e8f23049",
   "metadata": {
    "papermill": {
     "duration": 0.005823,
     "end_time": "2023-03-22T21:03:12.800755",
     "exception": false,
     "start_time": "2023-03-22T21:03:12.794932",
     "status": "completed"
    },
    "tags": []
   },
   "source": [
    "# The  Cost Function   <a id='cost'></a> "
   ]
  },
  {
   "cell_type": "markdown",
   "id": "3fa35fce",
   "metadata": {
    "papermill": {
     "duration": 0.005914,
     "end_time": "2023-03-22T21:03:12.812802",
     "exception": false,
     "start_time": "2023-03-22T21:03:12.806888",
     "status": "completed"
    },
    "tags": []
   },
   "source": [
    "The cost Function Text!"
   ]
  },
  {
   "cell_type": "code",
   "execution_count": 5,
   "id": "891d8a0c",
   "metadata": {
    "execution": {
     "iopub.execute_input": "2023-03-22T21:03:12.827524Z",
     "iopub.status.busy": "2023-03-22T21:03:12.826510Z",
     "iopub.status.idle": "2023-03-22T21:03:12.832091Z",
     "shell.execute_reply": "2023-03-22T21:03:12.831398Z"
    },
    "papermill": {
     "duration": 0.015154,
     "end_time": "2023-03-22T21:03:12.834275",
     "exception": false,
     "start_time": "2023-03-22T21:03:12.819121",
     "status": "completed"
    },
    "tags": []
   },
   "outputs": [],
   "source": [
    "# The cost function\n",
    "\n",
    "def J(X,y,theta):\n",
    "    \"\"\"\n",
    "     Calculates the total error using squared error function.\n",
    "    \n",
    "    :param X: inputs (feature values) - data frame of floats\n",
    "    :param y: outputs (actual target values) - Numpy array of floats\n",
    "    :param theta: theta vector (weights) - Numpy array of floats\n",
    "    \n",
    "    :return: total error - float\n",
    "    \n",
    "    \"\"\"\n",
    "    # Calculate number of examples\n",
    "    m = len(X)\n",
    "    \n",
    "    # Calculate the constant\n",
    "    c = 1/(2 * m)\n",
    "       \n",
    "    # Calculate the array of errors\n",
    "    temp_0 = h(X, theta) - y.reshape(-1)\n",
    "\n",
    "    # Calculate the transpose of array of errors\n",
    "    temp_1 = temp_0.transpose()\n",
    "\n",
    "    # Calculate the dot product \n",
    "    temp_2 = np.dot(temp_1, temp_0) \n",
    "\n",
    "    return  c * temp_2"
   ]
  },
  {
   "cell_type": "markdown",
   "id": "9fc8da54",
   "metadata": {
    "papermill": {
     "duration": 0.005795,
     "end_time": "2023-03-22T21:03:12.846360",
     "exception": false,
     "start_time": "2023-03-22T21:03:12.840565",
     "status": "completed"
    },
    "tags": []
   },
   "source": [
    "# Loading Data   <a id='getdata'></a> "
   ]
  },
  {
   "cell_type": "markdown",
   "id": "6470ee81",
   "metadata": {
    "papermill": {
     "duration": 0.005751,
     "end_time": "2023-03-22T21:03:12.858487",
     "exception": false,
     "start_time": "2023-03-22T21:03:12.852736",
     "status": "completed"
    },
    "tags": []
   },
   "source": [
    "First of all, we will load the CSV file in this part. Since there are two different versions of the dataset, we will load the one with more data. We will then create our training DataFrame and target vector. Next, we will normalize some columns of the training DataFrame using min-max scaling. Finally, we will split our data into training and validation DataFrames so that we can validate the results."
   ]
  },
  {
   "cell_type": "code",
   "execution_count": 6,
   "id": "f63bfd1c",
   "metadata": {
    "execution": {
     "iopub.execute_input": "2023-03-22T21:03:12.873104Z",
     "iopub.status.busy": "2023-03-22T21:03:12.872114Z",
     "iopub.status.idle": "2023-03-22T21:03:12.916733Z",
     "shell.execute_reply": "2023-03-22T21:03:12.915780Z"
    },
    "papermill": {
     "duration": 0.054089,
     "end_time": "2023-03-22T21:03:12.918678",
     "exception": false,
     "start_time": "2023-03-22T21:03:12.864589",
     "status": "completed"
    },
    "tags": []
   },
   "outputs": [
    {
     "data": {
      "text/html": [
       "<div>\n",
       "<style scoped>\n",
       "    .dataframe tbody tr th:only-of-type {\n",
       "        vertical-align: middle;\n",
       "    }\n",
       "\n",
       "    .dataframe tbody tr th {\n",
       "        vertical-align: top;\n",
       "    }\n",
       "\n",
       "    .dataframe thead th {\n",
       "        text-align: right;\n",
       "    }\n",
       "</style>\n",
       "<table border=\"1\" class=\"dataframe\">\n",
       "  <thead>\n",
       "    <tr style=\"text-align: right;\">\n",
       "      <th></th>\n",
       "      <th>GRE Score</th>\n",
       "      <th>TOEFL Score</th>\n",
       "      <th>University Rating</th>\n",
       "      <th>SOP</th>\n",
       "      <th>LOR</th>\n",
       "      <th>CGPA</th>\n",
       "      <th>Research</th>\n",
       "    </tr>\n",
       "  </thead>\n",
       "  <tbody>\n",
       "    <tr>\n",
       "      <th>107</th>\n",
       "      <td>338</td>\n",
       "      <td>117</td>\n",
       "      <td>4</td>\n",
       "      <td>3.5</td>\n",
       "      <td>4.5</td>\n",
       "      <td>9.46</td>\n",
       "      <td>1</td>\n",
       "    </tr>\n",
       "    <tr>\n",
       "      <th>336</th>\n",
       "      <td>319</td>\n",
       "      <td>110</td>\n",
       "      <td>3</td>\n",
       "      <td>3.0</td>\n",
       "      <td>2.5</td>\n",
       "      <td>8.79</td>\n",
       "      <td>0</td>\n",
       "    </tr>\n",
       "    <tr>\n",
       "      <th>71</th>\n",
       "      <td>336</td>\n",
       "      <td>112</td>\n",
       "      <td>5</td>\n",
       "      <td>5.0</td>\n",
       "      <td>5.0</td>\n",
       "      <td>9.76</td>\n",
       "      <td>1</td>\n",
       "    </tr>\n",
       "    <tr>\n",
       "      <th>474</th>\n",
       "      <td>308</td>\n",
       "      <td>105</td>\n",
       "      <td>4</td>\n",
       "      <td>3.0</td>\n",
       "      <td>2.5</td>\n",
       "      <td>7.95</td>\n",
       "      <td>1</td>\n",
       "    </tr>\n",
       "    <tr>\n",
       "      <th>6</th>\n",
       "      <td>321</td>\n",
       "      <td>109</td>\n",
       "      <td>3</td>\n",
       "      <td>3.0</td>\n",
       "      <td>4.0</td>\n",
       "      <td>8.20</td>\n",
       "      <td>1</td>\n",
       "    </tr>\n",
       "  </tbody>\n",
       "</table>\n",
       "</div>"
      ],
      "text/plain": [
       "     GRE Score  TOEFL Score  University Rating  SOP  LOR   CGPA  Research\n",
       "107        338          117                  4  3.5   4.5  9.46         1\n",
       "336        319          110                  3  3.0   2.5  8.79         0\n",
       "71         336          112                  5  5.0   5.0  9.76         1\n",
       "474        308          105                  4  3.0   2.5  7.95         1\n",
       "6          321          109                  3  3.0   4.0  8.20         1"
      ]
     },
     "execution_count": 6,
     "metadata": {},
     "output_type": "execute_result"
    }
   ],
   "source": [
    "# Get the data. Note that there are two versions. We will use the one\n",
    "# with the most rows.\n",
    "\n",
    "train_data = pd.read_csv(\"/kaggle/input/graduate-admissions/Admission_Predict_Ver1.1.csv\")\n",
    "\n",
    "# Set X and y\n",
    "X = train_data.drop(['Chance of Admit ', 'Serial No.'], axis=1) # Chance of Admit is the target variable and Serial No. is the order. So we drop them.\n",
    "y = pd.DataFrame(data = train_data['Chance of Admit ']).to_numpy()\n",
    "\n",
    "# Instead of finding probabilities, we want to calculate the percentages.\n",
    "y = y * 100\n",
    "\n",
    "# Break off validation set from training data\n",
    "X_train, X_valid, y_train, y_valid = train_test_split(X, y, train_size=0.8, test_size=0.2, random_state = 0)\n",
    "\n",
    "X_train.head()"
   ]
  },
  {
   "cell_type": "markdown",
   "id": "6680a5fe",
   "metadata": {
    "papermill": {
     "duration": 0.005825,
     "end_time": "2023-03-22T21:03:12.930791",
     "exception": false,
     "start_time": "2023-03-22T21:03:12.924966",
     "status": "completed"
    },
    "tags": []
   },
   "source": [
    "# Model Training   <a id='training'></a> "
   ]
  },
  {
   "cell_type": "markdown",
   "id": "62412d8a",
   "metadata": {
    "papermill": {
     "duration": 0.005923,
     "end_time": "2023-03-22T21:03:12.942914",
     "exception": false,
     "start_time": "2023-03-22T21:03:12.936991",
     "status": "completed"
    },
    "tags": []
   },
   "source": [
    "Model Training Text!"
   ]
  },
  {
   "cell_type": "code",
   "execution_count": 7,
   "id": "b2dfa59b",
   "metadata": {
    "execution": {
     "iopub.execute_input": "2023-03-22T21:03:12.957156Z",
     "iopub.status.busy": "2023-03-22T21:03:12.956644Z",
     "iopub.status.idle": "2023-03-22T21:03:12.971691Z",
     "shell.execute_reply": "2023-03-22T21:03:12.970373Z"
    },
    "papermill": {
     "duration": 0.025768,
     "end_time": "2023-03-22T21:03:12.974922",
     "exception": false,
     "start_time": "2023-03-22T21:03:12.949154",
     "status": "completed"
    },
    "tags": []
   },
   "outputs": [
    {
     "name": "stdout",
     "output_type": "stream",
     "text": [
      "\n",
      "Calculated\u001b[1m θ\u001b[0m: [-1.34416734e+02  2.14141419e-01  2.77038677e-01  5.55692827e-01\n",
      "  5.10313673e-02  2.04133847e+00  1.15053979e+01  2.41256700e+00]\n",
      "\n",
      "The training cost is: 17.100414719720018\n"
     ]
    }
   ],
   "source": [
    "# Initialize\n",
    "\n",
    "# Calculate the number of examles\n",
    "m_train = len(X_train)\n",
    "m_valid = len(X_valid)\n",
    "\n",
    "# Calculate the number of features\n",
    "# including X_0\n",
    "n = len(X_train.axes[1]) + 1\n",
    "\n",
    "# Create a list of ones\n",
    "ones_train = [1] * m_train\n",
    "ones_valid = [1] * m_valid\n",
    "\n",
    "# Insert ones to the fist column since\n",
    "# X_0 for all training examples should\n",
    "# be one.\n",
    "X_train.insert(0, \"X_0\", ones_train, True)\n",
    "X_valid.insert(0, \"X_0\", ones_valid, True)\n",
    "\n",
    "# Find the theta vector using the normal equation\n",
    "theta_train = calculate_theta(X_train,y_train)\n",
    "print(\"\\nCalculated\\033[1m θ\\033[0m: {}\\n\".format(theta_train))\n",
    "\n",
    "# Calculate and display the cost value on the training dataset\n",
    "cost_train = J(X_train, y_train, theta_train)\n",
    "print(\"The training cost is: {}\".format(cost_train))"
   ]
  },
  {
   "cell_type": "markdown",
   "id": "6eaab8c9",
   "metadata": {
    "papermill": {
     "duration": 0.007682,
     "end_time": "2023-03-22T21:03:12.990901",
     "exception": false,
     "start_time": "2023-03-22T21:03:12.983219",
     "status": "completed"
    },
    "tags": []
   },
   "source": [
    "# Model Validation   <a id='validation'></a> "
   ]
  },
  {
   "cell_type": "markdown",
   "id": "44fb9641",
   "metadata": {
    "papermill": {
     "duration": 0.007604,
     "end_time": "2023-03-22T21:03:13.006397",
     "exception": false,
     "start_time": "2023-03-22T21:03:12.998793",
     "status": "completed"
    },
    "tags": []
   },
   "source": [
    "Model Validation Text"
   ]
  },
  {
   "cell_type": "code",
   "execution_count": 8,
   "id": "a768b732",
   "metadata": {
    "execution": {
     "iopub.execute_input": "2023-03-22T21:03:13.024493Z",
     "iopub.status.busy": "2023-03-22T21:03:13.023877Z",
     "iopub.status.idle": "2023-03-22T21:03:13.032249Z",
     "shell.execute_reply": "2023-03-22T21:03:13.031121Z"
    },
    "papermill": {
     "duration": 0.02247,
     "end_time": "2023-03-22T21:03:13.036802",
     "exception": false,
     "start_time": "2023-03-22T21:03:13.014332",
     "status": "completed"
    },
    "tags": []
   },
   "outputs": [
    {
     "name": "stdout",
     "output_type": "stream",
     "text": [
      "\n",
      "Calculated\u001b[1m θ\u001b[0m: [-1.34416734e+02  2.14141419e-01  2.77038677e-01  5.55692827e-01\n",
      "  5.10313673e-02  2.04133847e+00  1.15053979e+01  2.41256700e+00]\n",
      "\n",
      "The validation cost is: 20.39840017300976\n"
     ]
    }
   ],
   "source": [
    "print(\"\\nCalculated\\033[1m θ\\033[0m: {}\\n\".format(theta_train))\n",
    "\n",
    "cost_valid = J(X_valid, y_valid, theta_train)\n",
    "print(\"The validation cost is: {}\".format(cost_valid))"
   ]
  },
  {
   "cell_type": "markdown",
   "id": "8280d7be",
   "metadata": {
    "papermill": {
     "duration": 0.008151,
     "end_time": "2023-03-22T21:03:13.054648",
     "exception": false,
     "start_time": "2023-03-22T21:03:13.046497",
     "status": "completed"
    },
    "tags": []
   },
   "source": [
    "The cost of the validation dataset seems slightly bigger (worse) than the training dataset, which is expected. We can also see the validation results below:"
   ]
  },
  {
   "cell_type": "code",
   "execution_count": 9,
   "id": "52541d50",
   "metadata": {
    "execution": {
     "iopub.execute_input": "2023-03-22T21:03:13.073880Z",
     "iopub.status.busy": "2023-03-22T21:03:13.073394Z",
     "iopub.status.idle": "2023-03-22T21:03:13.087950Z",
     "shell.execute_reply": "2023-03-22T21:03:13.086898Z"
    },
    "papermill": {
     "duration": 0.026787,
     "end_time": "2023-03-22T21:03:13.089986",
     "exception": false,
     "start_time": "2023-03-22T21:03:13.063199",
     "status": "completed"
    },
    "tags": []
   },
   "outputs": [
    {
     "data": {
      "text/html": [
       "<div>\n",
       "<style scoped>\n",
       "    .dataframe tbody tr th:only-of-type {\n",
       "        vertical-align: middle;\n",
       "    }\n",
       "\n",
       "    .dataframe tbody tr th {\n",
       "        vertical-align: top;\n",
       "    }\n",
       "\n",
       "    .dataframe thead th {\n",
       "        text-align: right;\n",
       "    }\n",
       "</style>\n",
       "<table border=\"1\" class=\"dataframe\">\n",
       "  <thead>\n",
       "    <tr style=\"text-align: right;\">\n",
       "      <th></th>\n",
       "      <th>Actual CoA</th>\n",
       "      <th>Predicted CoA</th>\n",
       "    </tr>\n",
       "  </thead>\n",
       "  <tbody>\n",
       "    <tr>\n",
       "      <th>90</th>\n",
       "      <td>64.0</td>\n",
       "      <td>66.062520</td>\n",
       "    </tr>\n",
       "    <tr>\n",
       "      <th>254</th>\n",
       "      <td>85.0</td>\n",
       "      <td>83.467888</td>\n",
       "    </tr>\n",
       "    <tr>\n",
       "      <th>283</th>\n",
       "      <td>80.0</td>\n",
       "      <td>77.803235</td>\n",
       "    </tr>\n",
       "    <tr>\n",
       "      <th>445</th>\n",
       "      <td>91.0</td>\n",
       "      <td>88.054515</td>\n",
       "    </tr>\n",
       "    <tr>\n",
       "      <th>461</th>\n",
       "      <td>68.0</td>\n",
       "      <td>60.126564</td>\n",
       "    </tr>\n",
       "  </tbody>\n",
       "</table>\n",
       "</div>"
      ],
      "text/plain": [
       "     Actual CoA  Predicted CoA\n",
       "90         64.0      66.062520\n",
       "254        85.0      83.467888\n",
       "283        80.0      77.803235\n",
       "445        91.0      88.054515\n",
       "461        68.0      60.126564"
      ]
     },
     "execution_count": 9,
     "metadata": {},
     "output_type": "execute_result"
    }
   ],
   "source": [
    "# Compare actual results with predicted results\n",
    "result = pd.DataFrame(index=X_valid.index)\n",
    "result['Actual CoA'] = y_valid\n",
    "result['Predicted CoA'] = h(X_valid, theta_train)\n",
    "result.head()"
   ]
  },
  {
   "cell_type": "markdown",
   "id": "ed7e71e3",
   "metadata": {
    "papermill": {
     "duration": 0.006468,
     "end_time": "2023-03-22T21:03:13.103461",
     "exception": false,
     "start_time": "2023-03-22T21:03:13.096993",
     "status": "completed"
    },
    "tags": []
   },
   "source": [
    "# Conclusion   <a id='conclusion'></a> "
   ]
  },
  {
   "cell_type": "markdown",
   "id": "a6cb9407",
   "metadata": {
    "papermill": {
     "duration": 0.006389,
     "end_time": "2023-03-22T21:03:13.116727",
     "exception": false,
     "start_time": "2023-03-22T21:03:13.110338",
     "status": "completed"
    },
    "tags": []
   },
   "source": [
    "Conclusion Text!"
   ]
  },
  {
   "cell_type": "markdown",
   "id": "729b23db",
   "metadata": {
    "papermill": {
     "duration": 0.006796,
     "end_time": "2023-03-22T21:03:13.130456",
     "exception": false,
     "start_time": "2023-03-22T21:03:13.123660",
     "status": "completed"
    },
    "tags": []
   },
   "source": [
    "# References   <a id='references'></a>\n",
    "[1] - [Machine Learning Specialization - Deeplearning.AI](https://www.deeplearning.ai/program/machine-learning-specialization/)\n",
    "\n",
    "[2] - [Andrew Ng](https://en.wikipedia.org/wiki/Andrew_Ng)\n",
    "\n",
    "[3] - [@Mohan S Acharya](https://www.kaggle.com/mohansacharya)\n",
    "\n",
    "[4] - [Multivariate Linear Regression From Scratch - Kaggle](https://www.kaggle.com/code/erkanhatipoglu/multivariate-linear-regression-from-scratch)\n",
    "\n",
    "[5] - [Univariate Linear Regression From Scratch - Kaggle](https://www.kaggle.com/code/erkanhatipoglu/univariate-linear-regression-from-scratch)\n",
    "\n",
    "[6] - [Univariate Linear Regression From Scratch - Towards AI](https://pub.towardsai.net/univariate-linear-regression-from-scratch-68065fe8eb09)\n",
    "\n",
    "[7] - [Multivariate Linear Regression From Scratch - Towards AI](https://medium.com/towards-artificial-intelligence/multivariate-linear-regression-from-scratch-c6702e26cce0https://medium.com/towards-artificial-intelligence/multivariate-linear-regression-from-scratch-c6702e26cce0)\n",
    "\n",
    "[8] - [Towards AI](https://pub.towardsai.net/)"
   ]
  }
 ],
 "metadata": {
  "kernelspec": {
   "display_name": "Python 3",
   "language": "python",
   "name": "python3"
  },
  "language_info": {
   "codemirror_mode": {
    "name": "ipython",
    "version": 3
   },
   "file_extension": ".py",
   "mimetype": "text/x-python",
   "name": "python",
   "nbconvert_exporter": "python",
   "pygments_lexer": "ipython3",
   "version": "3.7.12"
  },
  "papermill": {
   "default_parameters": {},
   "duration": 12.331507,
   "end_time": "2023-03-22T21:03:13.959208",
   "environment_variables": {},
   "exception": null,
   "input_path": "__notebook__.ipynb",
   "output_path": "__notebook__.ipynb",
   "parameters": {},
   "start_time": "2023-03-22T21:03:01.627701",
   "version": "2.4.0"
  }
 },
 "nbformat": 4,
 "nbformat_minor": 5
}
