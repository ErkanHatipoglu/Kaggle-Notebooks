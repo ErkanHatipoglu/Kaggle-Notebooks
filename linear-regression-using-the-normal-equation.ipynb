{
 "cells": [
  {
   "cell_type": "markdown",
   "id": "48c22695",
   "metadata": {
    "papermill": {
     "duration": 0.008013,
     "end_time": "2023-03-20T21:48:28.550183",
     "exception": false,
     "start_time": "2023-03-20T21:48:28.542170",
     "status": "completed"
    },
    "tags": []
   },
   "source": [
    "# Introduction  <a id='introduction'></a>\n",
    "\n",
    "In [Multivariate Linear Regression From Scratch](https://www.kaggle.com/code/erkanhatipoglu/multivariate-linear-regression-from-scratch) notebook, we have seen how to utilize the gradient descent algorithm to solve a multiple linear regression task. We have used the negative gradient of the cost function j(θ) and taken tiny steps to calculate the θ vector that minimizes j(θ) to find the best linear fit for our data. Yet, we may have an alternative analytical solution called the 'normal equation' for a linear regression task.\n",
    "\n",
    "We will first explain the 'normal equation' and compare it with gradient descent to identify the advantages and limitations. Then, we will use the dataset we used in the [Multivariate Linear Regression From Scratch](https://www.kaggle.com/code/erkanhatipoglu/multivariate-linear-regression-from-scratch) notebook to find the θ vector using the 'normal equation.' We will then validate our data with the same validation data we used earlier and compare the results. Interested Kagglers may refer to the [References](#references) section for my works on linear regression for more detailed explanations.  \n",
    "\n",
    "This notebook is greatly inspired by the famous Machine Learning course by [Andrew Ng](https://www.andrewng.org/). All the mistakes, if any, are made by me.\n",
    "\n",
    "Finally, thanks to [@Mohan S Acharya](https://www.kaggle.com/mohansacharya) for this dataset.\n",
    "\n",
    "\n",
    "# Table of Contents\n",
    "* [Introduction](#introduction)\n",
    "* [Helper functions](#functions)\n",
    "* [The Normal Equation](#normal)\n",
    "* [The Hypothesis](#hypothesis)\n",
    "* [The Cost Function](#cost)\n",
    "* [Loading Data](#getdata)\n",
    "* [Model Training](#training)\n",
    "* [Model Validation](#validation)\n",
    "* [Conclusion](#conclusion)\n",
    "* [References](#references)"
   ]
  },
  {
   "cell_type": "code",
   "execution_count": 1,
   "id": "e3260bfb",
   "metadata": {
    "_cell_guid": "b1076dfc-b9ad-4769-8c92-a6c4dae69d19",
    "_uuid": "8f2839f25d086af736a60e9eeb907d3b93b6e0e5",
    "execution": {
     "iopub.execute_input": "2023-03-20T21:48:28.564589Z",
     "iopub.status.busy": "2023-03-20T21:48:28.564123Z",
     "iopub.status.idle": "2023-03-20T21:48:29.783204Z",
     "shell.execute_reply": "2023-03-20T21:48:29.782228Z"
    },
    "papermill": {
     "duration": 1.229695,
     "end_time": "2023-03-20T21:48:29.785974",
     "exception": false,
     "start_time": "2023-03-20T21:48:28.556279",
     "status": "completed"
    },
    "tags": []
   },
   "outputs": [
    {
     "name": "stdout",
     "output_type": "stream",
     "text": [
      "/kaggle/input/graduate-admissions/Admission_Predict.csv\n",
      "/kaggle/input/graduate-admissions/Admission_Predict_Ver1.1.csv\n"
     ]
    }
   ],
   "source": [
    "# This Python 3 environment comes with many helpful analytics libraries installed\n",
    "# It is defined by the kaggle/python Docker image: https://github.com/kaggle/docker-python\n",
    "# For example, here's several helpful packages to load\n",
    "\n",
    "import numpy as np # linear algebra\n",
    "import pandas as pd # data processing, CSV file I/O (e.g. pd.read_csv)\n",
    "\n",
    "# Input data files are available in the read-only \"../input/\" directory\n",
    "# For example, running this (by clicking run or pressing Shift+Enter) will list all files under the input directory\n",
    "\n",
    "import os\n",
    "for dirname, _, filenames in os.walk('/kaggle/input'):\n",
    "    for filename in filenames:\n",
    "        print(os.path.join(dirname, filename))\n",
    "\n",
    "# You can write up to 20GB to the current directory (/kaggle/working/) that gets preserved as output when you create a version using \"Save & Run All\" \n",
    "# You can also write temporary files to /kaggle/temp/, but they won't be saved outside of the current session\n",
    "\n",
    "from sklearn.model_selection import train_test_split"
   ]
  },
  {
   "cell_type": "markdown",
   "id": "618af0c4",
   "metadata": {
    "papermill": {
     "duration": 0.005683,
     "end_time": "2023-03-20T21:48:29.797861",
     "exception": false,
     "start_time": "2023-03-20T21:48:29.792178",
     "status": "completed"
    },
    "tags": []
   },
   "source": [
    "# Helper Functions   <a id='functions'></a>   "
   ]
  },
  {
   "cell_type": "markdown",
   "id": "bf6ff7b6",
   "metadata": {
    "papermill": {
     "duration": 0.005817,
     "end_time": "2023-03-20T21:48:29.810736",
     "exception": false,
     "start_time": "2023-03-20T21:48:29.804919",
     "status": "completed"
    },
    "tags": []
   },
   "source": [
    "<div class=\"alert alert-block alert-info\">\n",
    "<b>Tip:</b> We will use some helper functions throughout the notebook. Collecting them in one place is a good idea, making the code more organized. First, we will define and explain those functions and then use them in our code.\n",
    "</div>"
   ]
  },
  {
   "cell_type": "markdown",
   "id": "b943188c",
   "metadata": {
    "papermill": {
     "duration": 0.00561,
     "end_time": "2023-03-20T21:48:29.822290",
     "exception": false,
     "start_time": "2023-03-20T21:48:29.816680",
     "status": "completed"
    },
    "tags": []
   },
   "source": [
    "# The Normal Equation   <a id='normal'></a> "
   ]
  },
  {
   "cell_type": "markdown",
   "id": "d5976d47",
   "metadata": {
    "papermill": {
     "duration": 0.005685,
     "end_time": "2023-03-20T21:48:29.835294",
     "exception": false,
     "start_time": "2023-03-20T21:48:29.829609",
     "status": "completed"
    },
    "tags": []
   },
   "source": [
    "The Normal Equation Text!"
   ]
  },
  {
   "cell_type": "code",
   "execution_count": 2,
   "id": "25ee1b03",
   "metadata": {
    "execution": {
     "iopub.execute_input": "2023-03-20T21:48:29.854999Z",
     "iopub.status.busy": "2023-03-20T21:48:29.853486Z",
     "iopub.status.idle": "2023-03-20T21:48:29.861133Z",
     "shell.execute_reply": "2023-03-20T21:48:29.860208Z"
    },
    "papermill": {
     "duration": 0.018952,
     "end_time": "2023-03-20T21:48:29.863614",
     "exception": false,
     "start_time": "2023-03-20T21:48:29.844662",
     "status": "completed"
    },
    "tags": []
   },
   "outputs": [],
   "source": [
    "# The normal equation\n",
    "\n",
    "def calculate_theta(X,y):\n",
    "    \"\"\"\n",
    "     Calculates the theta vector using the normal equation.\n",
    "    \n",
    "    :param X: inputs (feature values) - data frame of floats\n",
    "    :param y: outputs (actual target values) - Numpy array of floats\n",
    "    \n",
    "    :return: new theta - Numpy array of floats\n",
    "    \n",
    "    \"\"\"\n",
    "    # Calculate transpose of X\n",
    "    X_transpose = X.transpose()\n",
    "    \n",
    "    # Calculate the dot product between X_transpose and X\n",
    "    temp_0 = np.dot(X_transpose, X)\n",
    "        \n",
    "    # Calculate the inverse of temp_0\n",
    "    temp_1 = np.linalg.inv(temp_0)\n",
    "\n",
    "    # Calculate the dot product between temp_1 and X_transpose\n",
    "    temp_2 = np.dot(temp_1, X_transpose)\n",
    "\n",
    "    # Calculate the dot product between temp_2 and y\n",
    "    theta = np.dot(temp_2, y) \n",
    "\n",
    "    return  theta.reshape(-1)"
   ]
  },
  {
   "cell_type": "markdown",
   "id": "93457e35",
   "metadata": {
    "papermill": {
     "duration": 0.005697,
     "end_time": "2023-03-20T21:48:29.876470",
     "exception": false,
     "start_time": "2023-03-20T21:48:29.870773",
     "status": "completed"
    },
    "tags": []
   },
   "source": [
    "# The  Hypothesis   <a id='hypothesis'></a>   "
   ]
  },
  {
   "cell_type": "markdown",
   "id": "c826d5a8",
   "metadata": {
    "execution": {
     "iopub.execute_input": "2023-03-19T20:08:10.723871Z",
     "iopub.status.busy": "2023-03-19T20:08:10.723267Z",
     "iopub.status.idle": "2023-03-19T20:08:10.730032Z",
     "shell.execute_reply": "2023-03-19T20:08:10.728533Z",
     "shell.execute_reply.started": "2023-03-19T20:08:10.723828Z"
    },
    "papermill": {
     "duration": 0.00654,
     "end_time": "2023-03-20T21:48:29.889488",
     "exception": false,
     "start_time": "2023-03-20T21:48:29.882948",
     "status": "completed"
    },
    "tags": []
   },
   "source": [
    "The Hypothesis Text!"
   ]
  },
  {
   "cell_type": "code",
   "execution_count": 3,
   "id": "634d3119",
   "metadata": {
    "execution": {
     "iopub.execute_input": "2023-03-20T21:48:29.904338Z",
     "iopub.status.busy": "2023-03-20T21:48:29.903549Z",
     "iopub.status.idle": "2023-03-20T21:48:29.908685Z",
     "shell.execute_reply": "2023-03-20T21:48:29.907796Z"
    },
    "papermill": {
     "duration": 0.01521,
     "end_time": "2023-03-20T21:48:29.911134",
     "exception": false,
     "start_time": "2023-03-20T21:48:29.895924",
     "status": "completed"
    },
    "tags": []
   },
   "outputs": [],
   "source": [
    "# The hypothesis\n",
    "def h(x, theta):\n",
    "    \"\"\"\n",
    "     Calculates the predicted values (or predicted targets) for a given set of input and theta vectors.\n",
    "    \n",
    "    :param x: inputs (feature values) - data frame of floats \n",
    "    :param theta: theta vector (weights) - Numpy array of floats\n",
    "    \n",
    "    :return: predicted targets - Numpy array of floats\n",
    "    \n",
    "    \"\"\"\n",
    "    # The hypothesis is a column vector of m x 1\n",
    "    return np.dot(x, theta)"
   ]
  },
  {
   "cell_type": "markdown",
   "id": "79af4cae",
   "metadata": {
    "papermill": {
     "duration": 0.006119,
     "end_time": "2023-03-20T21:48:29.923263",
     "exception": false,
     "start_time": "2023-03-20T21:48:29.917144",
     "status": "completed"
    },
    "tags": []
   },
   "source": [
    "# The  Cost Function   <a id='cost'></a> "
   ]
  },
  {
   "cell_type": "markdown",
   "id": "9b35ba7f",
   "metadata": {
    "papermill": {
     "duration": 0.006673,
     "end_time": "2023-03-20T21:48:29.936056",
     "exception": false,
     "start_time": "2023-03-20T21:48:29.929383",
     "status": "completed"
    },
    "tags": []
   },
   "source": [
    "The cost Function Text!"
   ]
  },
  {
   "cell_type": "code",
   "execution_count": 4,
   "id": "021f7688",
   "metadata": {
    "execution": {
     "iopub.execute_input": "2023-03-20T21:48:29.950320Z",
     "iopub.status.busy": "2023-03-20T21:48:29.949506Z",
     "iopub.status.idle": "2023-03-20T21:48:29.956954Z",
     "shell.execute_reply": "2023-03-20T21:48:29.955770Z"
    },
    "papermill": {
     "duration": 0.017482,
     "end_time": "2023-03-20T21:48:29.959455",
     "exception": false,
     "start_time": "2023-03-20T21:48:29.941973",
     "status": "completed"
    },
    "tags": []
   },
   "outputs": [],
   "source": [
    "# The cost function\n",
    "\n",
    "def J(X,y,theta):\n",
    "    \"\"\"\n",
    "     Calculates the total error using squared error function.\n",
    "    \n",
    "    :param X: inputs (feature values) - data frame of floats\n",
    "    :param y: outputs (actual target values) - Numpy array of floats\n",
    "    :param theta: theta vector (weights) - Numpy array of floats\n",
    "    \n",
    "    :return: total error - float\n",
    "    \n",
    "    \"\"\"\n",
    "    # Calculate number of examples\n",
    "    m = len(X)\n",
    "    \n",
    "    # Calculate the constant\n",
    "    c = 1/(2 * m)\n",
    "       \n",
    "    # Calculate the array of errors\n",
    "    temp_0 = h(X, theta) - y.reshape(-1)\n",
    "\n",
    "    # Calculate the transpose of array of errors\n",
    "    temp_1 = temp_0.transpose()\n",
    "\n",
    "    # Calculate the dot product \n",
    "    temp_2 = np.dot(temp_1, temp_0) \n",
    "\n",
    "    return  c * temp_2"
   ]
  },
  {
   "cell_type": "markdown",
   "id": "fe2c621a",
   "metadata": {
    "papermill": {
     "duration": 0.005644,
     "end_time": "2023-03-20T21:48:29.971108",
     "exception": false,
     "start_time": "2023-03-20T21:48:29.965464",
     "status": "completed"
    },
    "tags": []
   },
   "source": [
    "# Loading Data   <a id='getdata'></a> "
   ]
  },
  {
   "cell_type": "markdown",
   "id": "0f0cca2a",
   "metadata": {
    "papermill": {
     "duration": 0.005739,
     "end_time": "2023-03-20T21:48:29.982898",
     "exception": false,
     "start_time": "2023-03-20T21:48:29.977159",
     "status": "completed"
    },
    "tags": []
   },
   "source": [
    "First of all, we will load the CSV file in this part. Since there are two different versions of the dataset, we will load the one with more data. We will then create our training DataFrame and target vector. Next, we will normalize some columns of the training DataFrame using min-max scaling. Finally, we will split our data into training and validation DataFrames so that we can validate the results."
   ]
  },
  {
   "cell_type": "code",
   "execution_count": 5,
   "id": "e5a275e2",
   "metadata": {
    "execution": {
     "iopub.execute_input": "2023-03-20T21:48:29.996712Z",
     "iopub.status.busy": "2023-03-20T21:48:29.996257Z",
     "iopub.status.idle": "2023-03-20T21:48:30.069240Z",
     "shell.execute_reply": "2023-03-20T21:48:30.067762Z"
    },
    "papermill": {
     "duration": 0.083499,
     "end_time": "2023-03-20T21:48:30.072321",
     "exception": false,
     "start_time": "2023-03-20T21:48:29.988822",
     "status": "completed"
    },
    "tags": []
   },
   "outputs": [
    {
     "data": {
      "text/html": [
       "<div>\n",
       "<style scoped>\n",
       "    .dataframe tbody tr th:only-of-type {\n",
       "        vertical-align: middle;\n",
       "    }\n",
       "\n",
       "    .dataframe tbody tr th {\n",
       "        vertical-align: top;\n",
       "    }\n",
       "\n",
       "    .dataframe thead th {\n",
       "        text-align: right;\n",
       "    }\n",
       "</style>\n",
       "<table border=\"1\" class=\"dataframe\">\n",
       "  <thead>\n",
       "    <tr style=\"text-align: right;\">\n",
       "      <th></th>\n",
       "      <th>GRE Score</th>\n",
       "      <th>TOEFL Score</th>\n",
       "      <th>University Rating</th>\n",
       "      <th>SOP</th>\n",
       "      <th>LOR</th>\n",
       "      <th>CGPA</th>\n",
       "      <th>Research</th>\n",
       "    </tr>\n",
       "  </thead>\n",
       "  <tbody>\n",
       "    <tr>\n",
       "      <th>107</th>\n",
       "      <td>338</td>\n",
       "      <td>117</td>\n",
       "      <td>4</td>\n",
       "      <td>3.5</td>\n",
       "      <td>4.5</td>\n",
       "      <td>9.46</td>\n",
       "      <td>1</td>\n",
       "    </tr>\n",
       "    <tr>\n",
       "      <th>336</th>\n",
       "      <td>319</td>\n",
       "      <td>110</td>\n",
       "      <td>3</td>\n",
       "      <td>3.0</td>\n",
       "      <td>2.5</td>\n",
       "      <td>8.79</td>\n",
       "      <td>0</td>\n",
       "    </tr>\n",
       "    <tr>\n",
       "      <th>71</th>\n",
       "      <td>336</td>\n",
       "      <td>112</td>\n",
       "      <td>5</td>\n",
       "      <td>5.0</td>\n",
       "      <td>5.0</td>\n",
       "      <td>9.76</td>\n",
       "      <td>1</td>\n",
       "    </tr>\n",
       "    <tr>\n",
       "      <th>474</th>\n",
       "      <td>308</td>\n",
       "      <td>105</td>\n",
       "      <td>4</td>\n",
       "      <td>3.0</td>\n",
       "      <td>2.5</td>\n",
       "      <td>7.95</td>\n",
       "      <td>1</td>\n",
       "    </tr>\n",
       "    <tr>\n",
       "      <th>6</th>\n",
       "      <td>321</td>\n",
       "      <td>109</td>\n",
       "      <td>3</td>\n",
       "      <td>3.0</td>\n",
       "      <td>4.0</td>\n",
       "      <td>8.20</td>\n",
       "      <td>1</td>\n",
       "    </tr>\n",
       "  </tbody>\n",
       "</table>\n",
       "</div>"
      ],
      "text/plain": [
       "     GRE Score  TOEFL Score  University Rating  SOP  LOR   CGPA  Research\n",
       "107        338          117                  4  3.5   4.5  9.46         1\n",
       "336        319          110                  3  3.0   2.5  8.79         0\n",
       "71         336          112                  5  5.0   5.0  9.76         1\n",
       "474        308          105                  4  3.0   2.5  7.95         1\n",
       "6          321          109                  3  3.0   4.0  8.20         1"
      ]
     },
     "execution_count": 5,
     "metadata": {},
     "output_type": "execute_result"
    }
   ],
   "source": [
    "# Get the data. Note that there are two versions. We will use the one\n",
    "# with the most rows.\n",
    "\n",
    "train_data = pd.read_csv(\"/kaggle/input/graduate-admissions/Admission_Predict_Ver1.1.csv\")\n",
    "\n",
    "# Set X and y\n",
    "X = train_data.drop(['Chance of Admit ', 'Serial No.'], axis=1) # Chance of Admit is the target variable and Serial No. is the order. So we drop them.\n",
    "y = pd.DataFrame(data = train_data['Chance of Admit ']).to_numpy()\n",
    "\n",
    "# Instead of finding probabilities, we want to calculate the percentages.\n",
    "y = y * 100\n",
    "\n",
    "# Break off validation set from training data\n",
    "X_train, X_valid, y_train, y_valid = train_test_split(X, y, train_size=0.8, test_size=0.2, random_state = 0)\n",
    "\n",
    "X_train.head()"
   ]
  },
  {
   "cell_type": "markdown",
   "id": "0abcfb2b",
   "metadata": {
    "papermill": {
     "duration": 0.00614,
     "end_time": "2023-03-20T21:48:30.084855",
     "exception": false,
     "start_time": "2023-03-20T21:48:30.078715",
     "status": "completed"
    },
    "tags": []
   },
   "source": [
    "# Model Training   <a id='training'></a> "
   ]
  },
  {
   "cell_type": "markdown",
   "id": "03df1283",
   "metadata": {
    "papermill": {
     "duration": 0.00591,
     "end_time": "2023-03-20T21:48:30.096966",
     "exception": false,
     "start_time": "2023-03-20T21:48:30.091056",
     "status": "completed"
    },
    "tags": []
   },
   "source": [
    "Model Training Text!"
   ]
  },
  {
   "cell_type": "code",
   "execution_count": 6,
   "id": "d46a1b64",
   "metadata": {
    "execution": {
     "iopub.execute_input": "2023-03-20T21:48:30.111891Z",
     "iopub.status.busy": "2023-03-20T21:48:30.111198Z",
     "iopub.status.idle": "2023-03-20T21:48:30.143962Z",
     "shell.execute_reply": "2023-03-20T21:48:30.141897Z"
    },
    "papermill": {
     "duration": 0.046241,
     "end_time": "2023-03-20T21:48:30.149505",
     "exception": false,
     "start_time": "2023-03-20T21:48:30.103264",
     "status": "completed"
    },
    "tags": []
   },
   "outputs": [
    {
     "name": "stdout",
     "output_type": "stream",
     "text": [
      "[-1.34416734e+02  2.14141419e-01  2.77038677e-01  5.55692827e-01\n",
      "  5.10313673e-02  2.04133847e+00  1.15053979e+01  2.41256700e+00]\n",
      "Cost_train: 17.100414719720018\n"
     ]
    }
   ],
   "source": [
    "# Initialize\n",
    "\n",
    "# Calculate the number of examles\n",
    "m_train = len(X_train)\n",
    "m_valid = len(X_valid)\n",
    "\n",
    "# Calculate the number of features\n",
    "# including X_0\n",
    "n = len(X_train.axes[1]) + 1\n",
    "\n",
    "# Create a list of ones\n",
    "ones_train = [1] * m_train\n",
    "ones_valid = [1] * m_valid\n",
    "\n",
    "# Insert ones to the fist column since\n",
    "# X_0 for all training examples should\n",
    "# be one.\n",
    "X_train.insert(0, \"X_0\", ones_train, True)\n",
    "X_valid.insert(0, \"X_0\", ones_valid, True)\n",
    "\n",
    "# Find the theta vector using the normal equation\n",
    "theta_train = calculate_theta(X_train,y_train)\n",
    "print(theta_train)\n",
    "\n",
    "# Calculate and display the cost value on the training dataset\n",
    "cost_train = J(X_train, y_train, theta_train)\n",
    "print(\"Cost_train: {}\".format(cost_train))"
   ]
  },
  {
   "cell_type": "markdown",
   "id": "d6d7ffc4",
   "metadata": {
    "papermill": {
     "duration": 0.015633,
     "end_time": "2023-03-20T21:48:30.182120",
     "exception": false,
     "start_time": "2023-03-20T21:48:30.166487",
     "status": "completed"
    },
    "tags": []
   },
   "source": [
    "# Model Validation   <a id='validation'></a> "
   ]
  },
  {
   "cell_type": "markdown",
   "id": "4732686a",
   "metadata": {
    "papermill": {
     "duration": 0.017096,
     "end_time": "2023-03-20T21:48:30.216485",
     "exception": false,
     "start_time": "2023-03-20T21:48:30.199389",
     "status": "completed"
    },
    "tags": []
   },
   "source": [
    "Model Validation Text"
   ]
  },
  {
   "cell_type": "code",
   "execution_count": 7,
   "id": "eb9b811d",
   "metadata": {
    "execution": {
     "iopub.execute_input": "2023-03-20T21:48:30.253158Z",
     "iopub.status.busy": "2023-03-20T21:48:30.252342Z",
     "iopub.status.idle": "2023-03-20T21:48:30.261847Z",
     "shell.execute_reply": "2023-03-20T21:48:30.260528Z"
    },
    "papermill": {
     "duration": 0.030939,
     "end_time": "2023-03-20T21:48:30.264675",
     "exception": false,
     "start_time": "2023-03-20T21:48:30.233736",
     "status": "completed"
    },
    "tags": []
   },
   "outputs": [
    {
     "name": "stdout",
     "output_type": "stream",
     "text": [
      "[-1.34416734e+02  2.14141419e-01  2.77038677e-01  5.55692827e-01\n",
      "  5.10313673e-02  2.04133847e+00  1.15053979e+01  2.41256700e+00]\n",
      "Cost_valid: 20.39840017300976\n"
     ]
    }
   ],
   "source": [
    "print(theta_train)\n",
    "cost_valid = J(X_valid, y_valid, theta_train)\n",
    "print(\"Cost_valid: {}\".format(cost_valid))"
   ]
  },
  {
   "cell_type": "markdown",
   "id": "968abaa5",
   "metadata": {
    "papermill": {
     "duration": 0.006432,
     "end_time": "2023-03-20T21:48:30.277669",
     "exception": false,
     "start_time": "2023-03-20T21:48:30.271237",
     "status": "completed"
    },
    "tags": []
   },
   "source": [
    "The cost of the validation dataset seems slightly bigger (worse) than the training dataset, which is expected. We can also see the validation results below:"
   ]
  },
  {
   "cell_type": "code",
   "execution_count": 8,
   "id": "d7b5c32d",
   "metadata": {
    "execution": {
     "iopub.execute_input": "2023-03-20T21:48:30.294177Z",
     "iopub.status.busy": "2023-03-20T21:48:30.293379Z",
     "iopub.status.idle": "2023-03-20T21:48:30.306794Z",
     "shell.execute_reply": "2023-03-20T21:48:30.305850Z"
    },
    "papermill": {
     "duration": 0.02623,
     "end_time": "2023-03-20T21:48:30.310209",
     "exception": false,
     "start_time": "2023-03-20T21:48:30.283979",
     "status": "completed"
    },
    "tags": []
   },
   "outputs": [
    {
     "data": {
      "text/html": [
       "<div>\n",
       "<style scoped>\n",
       "    .dataframe tbody tr th:only-of-type {\n",
       "        vertical-align: middle;\n",
       "    }\n",
       "\n",
       "    .dataframe tbody tr th {\n",
       "        vertical-align: top;\n",
       "    }\n",
       "\n",
       "    .dataframe thead th {\n",
       "        text-align: right;\n",
       "    }\n",
       "</style>\n",
       "<table border=\"1\" class=\"dataframe\">\n",
       "  <thead>\n",
       "    <tr style=\"text-align: right;\">\n",
       "      <th></th>\n",
       "      <th>Actual CoA</th>\n",
       "      <th>Predicted CoA</th>\n",
       "    </tr>\n",
       "  </thead>\n",
       "  <tbody>\n",
       "    <tr>\n",
       "      <th>90</th>\n",
       "      <td>64.0</td>\n",
       "      <td>66.062520</td>\n",
       "    </tr>\n",
       "    <tr>\n",
       "      <th>254</th>\n",
       "      <td>85.0</td>\n",
       "      <td>83.467888</td>\n",
       "    </tr>\n",
       "    <tr>\n",
       "      <th>283</th>\n",
       "      <td>80.0</td>\n",
       "      <td>77.803235</td>\n",
       "    </tr>\n",
       "    <tr>\n",
       "      <th>445</th>\n",
       "      <td>91.0</td>\n",
       "      <td>88.054515</td>\n",
       "    </tr>\n",
       "    <tr>\n",
       "      <th>461</th>\n",
       "      <td>68.0</td>\n",
       "      <td>60.126564</td>\n",
       "    </tr>\n",
       "  </tbody>\n",
       "</table>\n",
       "</div>"
      ],
      "text/plain": [
       "     Actual CoA  Predicted CoA\n",
       "90         64.0      66.062520\n",
       "254        85.0      83.467888\n",
       "283        80.0      77.803235\n",
       "445        91.0      88.054515\n",
       "461        68.0      60.126564"
      ]
     },
     "execution_count": 8,
     "metadata": {},
     "output_type": "execute_result"
    }
   ],
   "source": [
    "# Compare actual results with predicted results\n",
    "result = pd.DataFrame(index=X_valid.index)\n",
    "result['Actual CoA'] = y_valid\n",
    "result['Predicted CoA'] = h(X_valid, theta_train)\n",
    "result.head()"
   ]
  },
  {
   "cell_type": "markdown",
   "id": "48e73f79",
   "metadata": {
    "papermill": {
     "duration": 0.006564,
     "end_time": "2023-03-20T21:48:30.323610",
     "exception": false,
     "start_time": "2023-03-20T21:48:30.317046",
     "status": "completed"
    },
    "tags": []
   },
   "source": [
    "# Conclusion   <a id='conclusion'></a> "
   ]
  },
  {
   "cell_type": "markdown",
   "id": "0c63bcd2",
   "metadata": {
    "papermill": {
     "duration": 0.006165,
     "end_time": "2023-03-20T21:48:30.336587",
     "exception": false,
     "start_time": "2023-03-20T21:48:30.330422",
     "status": "completed"
    },
    "tags": []
   },
   "source": [
    "Conclusion Text!"
   ]
  },
  {
   "cell_type": "markdown",
   "id": "fc6c1820",
   "metadata": {
    "papermill": {
     "duration": 0.006235,
     "end_time": "2023-03-20T21:48:30.349396",
     "exception": false,
     "start_time": "2023-03-20T21:48:30.343161",
     "status": "completed"
    },
    "tags": []
   },
   "source": [
    "# References   <a id='references'></a>\n",
    "* [Machine Learning Specialization - Deeplearning.AI](https://www.deeplearning.ai/program/machine-learning-specialization/)\n",
    "* [Andrew Ng](https://en.wikipedia.org/wiki/Andrew_Ng)\n",
    "* [@Mohan S Acharya](https://www.kaggle.com/mohansacharya)\n",
    "* [Multivariate Linear Regression From Scratch - Kaggle](https://www.kaggle.com/code/erkanhatipoglu/multivariate-linear-regression-from-scratch)\n",
    "* [Univariate Linear Regression From Scratch - Kaggle](https://www.kaggle.com/code/erkanhatipoglu/univariate-linear-regression-from-scratch)\n",
    "* [Univariate Linear Regression From Scratch - Towards AI](https://pub.towardsai.net/univariate-linear-regression-from-scratch-68065fe8eb09)\n",
    "* [Towards AI](https://pub.towardsai.net/)"
   ]
  }
 ],
 "metadata": {
  "kernelspec": {
   "display_name": "Python 3",
   "language": "python",
   "name": "python3"
  },
  "language_info": {
   "codemirror_mode": {
    "name": "ipython",
    "version": 3
   },
   "file_extension": ".py",
   "mimetype": "text/x-python",
   "name": "python",
   "nbconvert_exporter": "python",
   "pygments_lexer": "ipython3",
   "version": "3.7.12"
  },
  "papermill": {
   "default_parameters": {},
   "duration": 13.766724,
   "end_time": "2023-03-20T21:48:31.178419",
   "environment_variables": {},
   "exception": null,
   "input_path": "__notebook__.ipynb",
   "output_path": "__notebook__.ipynb",
   "parameters": {},
   "start_time": "2023-03-20T21:48:17.411695",
   "version": "2.4.0"
  }
 },
 "nbformat": 4,
 "nbformat_minor": 5
}
