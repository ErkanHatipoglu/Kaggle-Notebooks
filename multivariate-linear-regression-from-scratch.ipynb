{
 "cells": [
  {
   "cell_type": "markdown",
   "id": "33e3bfa9",
   "metadata": {
    "papermill": {
     "duration": 0.007567,
     "end_time": "2022-12-02T20:12:50.984203",
     "exception": false,
     "start_time": "2022-12-02T20:12:50.976636",
     "status": "completed"
    },
    "tags": []
   },
   "source": [
    "# Introduction  <a id='introduction'></a>\n",
    "\n",
    "This notebook contains Python code for a multivariate linear regression task. Multivariate linear regression means linear regression with more than one variable. In addition to Python, we will also use Pandas, Numpy, and Matplotlib libraries. \n",
    "\n",
    "This notebook is greatly inspired by the famous Machine Learning course by [Andrew Ng](https://www.andrewng.org/). As always, all the mistakes, if any, are made by me.\n",
    "\n",
    "Finally, thanks to [@Mohan S Acharya](https://www.kaggle.com/mohansacharya) for this dataset.\n",
    "\n",
    "\n",
    "# Table of Contents\n",
    "* [Introduction](#introduction)\n",
    "* [Helper functios](#functions)\n",
    "* [The Hypothesis](#hypothesis)\n",
    "* [The Cost Function](#cost)\n",
    "* [Gradient Descent](#gradient)\n",
    "* [Feature Normalization](#normalization)\n",
    "* [Loading Data](#getdata)\n",
    "* [Model Training](#training)\n",
    "* [Model Validation](#validation)\n",
    "* [Conclusion](#conclusion)\n",
    "* [References](#references)"
   ]
  },
  {
   "cell_type": "code",
   "execution_count": 1,
   "id": "c1c45397",
   "metadata": {
    "_cell_guid": "b1076dfc-b9ad-4769-8c92-a6c4dae69d19",
    "_uuid": "8f2839f25d086af736a60e9eeb907d3b93b6e0e5",
    "execution": {
     "iopub.execute_input": "2022-12-02T20:12:50.999982Z",
     "iopub.status.busy": "2022-12-02T20:12:50.999379Z",
     "iopub.status.idle": "2022-12-02T20:12:52.156584Z",
     "shell.execute_reply": "2022-12-02T20:12:52.155600Z"
    },
    "papermill": {
     "duration": 1.168516,
     "end_time": "2022-12-02T20:12:52.159268",
     "exception": false,
     "start_time": "2022-12-02T20:12:50.990752",
     "status": "completed"
    },
    "tags": []
   },
   "outputs": [
    {
     "name": "stdout",
     "output_type": "stream",
     "text": [
      "/kaggle/input/graduate-admissions/Admission_Predict.csv\n",
      "/kaggle/input/graduate-admissions/Admission_Predict_Ver1.1.csv\n"
     ]
    }
   ],
   "source": [
    "# This Python 3 environment comes with many helpful analytics libraries installed\n",
    "# It is defined by the kaggle/python Docker image: https://github.com/kaggle/docker-python\n",
    "# For example, here's several helpful packages to load\n",
    "\n",
    "import numpy as np # linear algebra\n",
    "import pandas as pd # data processing, CSV file I/O (e.g. pd.read_csv)\n",
    "\n",
    "# Input data files are available in the read-only \"../input/\" directory\n",
    "# For example, running this (by clicking run or pressing Shift+Enter) will list all files under the input directory\n",
    "\n",
    "import os\n",
    "for dirname, _, filenames in os.walk('/kaggle/input'):\n",
    "    for filename in filenames:\n",
    "        print(os.path.join(dirname, filename))\n",
    "\n",
    "# You can write up to 20GB to the current directory (/kaggle/working/) that gets preserved as output when you create a version using \"Save & Run All\" \n",
    "# You can also write temporary files to /kaggle/temp/, but they won't be saved outside of the current session\n",
    "\n",
    "from sklearn.model_selection import train_test_split\n",
    "import matplotlib.pyplot as plt"
   ]
  },
  {
   "cell_type": "markdown",
   "id": "172e2f0e",
   "metadata": {
    "papermill": {
     "duration": 0.00617,
     "end_time": "2022-12-02T20:12:52.172008",
     "exception": false,
     "start_time": "2022-12-02T20:12:52.165838",
     "status": "completed"
    },
    "tags": []
   },
   "source": [
    "# Helper Functions   <a id='functions'></a>   "
   ]
  },
  {
   "cell_type": "markdown",
   "id": "5c98e8a3",
   "metadata": {
    "papermill": {
     "duration": 0.005911,
     "end_time": "2022-12-02T20:12:52.184185",
     "exception": false,
     "start_time": "2022-12-02T20:12:52.178274",
     "status": "completed"
    },
    "tags": []
   },
   "source": [
    "<div class=\"alert alert-block alert-info\">\n",
    "<b>Tip:</b> Tip: We will use some helper functions throughout the notebook. Collecting them in one place is a good idea, making the code more organized. First, we will define and explain those functions and then use them in our code.\n",
    "</div>"
   ]
  },
  {
   "cell_type": "markdown",
   "id": "4f7b7760",
   "metadata": {
    "papermill": {
     "duration": 0.00591,
     "end_time": "2022-12-02T20:12:52.196355",
     "exception": false,
     "start_time": "2022-12-02T20:12:52.190445",
     "status": "completed"
    },
    "tags": []
   },
   "source": [
    "# The  Hypothesis   <a id='hypothesis'></a>   "
   ]
  },
  {
   "cell_type": "markdown",
   "id": "ce684639",
   "metadata": {
    "papermill": {
     "duration": 0.005964,
     "end_time": "2022-12-02T20:12:52.208460",
     "exception": false,
     "start_time": "2022-12-02T20:12:52.202496",
     "status": "completed"
    },
    "tags": []
   },
   "source": [
    "The Hypotehsis Content"
   ]
  },
  {
   "cell_type": "code",
   "execution_count": 2,
   "id": "5400d784",
   "metadata": {
    "execution": {
     "iopub.execute_input": "2022-12-02T20:12:52.223538Z",
     "iopub.status.busy": "2022-12-02T20:12:52.222309Z",
     "iopub.status.idle": "2022-12-02T20:12:52.228502Z",
     "shell.execute_reply": "2022-12-02T20:12:52.227686Z"
    },
    "papermill": {
     "duration": 0.015944,
     "end_time": "2022-12-02T20:12:52.230726",
     "exception": false,
     "start_time": "2022-12-02T20:12:52.214782",
     "status": "completed"
    },
    "tags": []
   },
   "outputs": [],
   "source": [
    "# The hypothesis\n",
    "def h(x, theta):\n",
    "    \"\"\"\n",
    "    calculates the predicted values (or predicted targets) for a given set of input and theta vectors.\n",
    "    :param x: inputs (feature values) - data frame of floats \n",
    "    :param theta: theta vector (weights) - Numpy array of floats\n",
    "    :return: predicted targets - Numpy array of floats\n",
    "    \n",
    "    \"\"\"\n",
    "    return np.dot(x, theta)"
   ]
  },
  {
   "cell_type": "markdown",
   "id": "c0f7226e",
   "metadata": {
    "papermill": {
     "duration": 0.005981,
     "end_time": "2022-12-02T20:12:52.244521",
     "exception": false,
     "start_time": "2022-12-02T20:12:52.238540",
     "status": "completed"
    },
    "tags": []
   },
   "source": [
    "# The  Cost Function   <a id='cost'></a> "
   ]
  },
  {
   "cell_type": "markdown",
   "id": "e9936ff7",
   "metadata": {
    "papermill": {
     "duration": 0.005982,
     "end_time": "2022-12-02T20:12:52.256739",
     "exception": false,
     "start_time": "2022-12-02T20:12:52.250757",
     "status": "completed"
    },
    "tags": []
   },
   "source": [
    "The Cost function Content"
   ]
  },
  {
   "cell_type": "code",
   "execution_count": 3,
   "id": "059477ec",
   "metadata": {
    "execution": {
     "iopub.execute_input": "2022-12-02T20:12:52.271403Z",
     "iopub.status.busy": "2022-12-02T20:12:52.270631Z",
     "iopub.status.idle": "2022-12-02T20:12:52.276747Z",
     "shell.execute_reply": "2022-12-02T20:12:52.275932Z"
    },
    "papermill": {
     "duration": 0.015896,
     "end_time": "2022-12-02T20:12:52.278832",
     "exception": false,
     "start_time": "2022-12-02T20:12:52.262936",
     "status": "completed"
    },
    "tags": []
   },
   "outputs": [],
   "source": [
    "# The cost function\n",
    "\n",
    "def J(X,y,theta):\n",
    "    \"\"\"\n",
    "     Calculates the total error using squared error function.\n",
    "    :param X: inputs (feature values) - data frame of floats\n",
    "    :param y: outputs (actual target values) - Numpy array of floats\n",
    "    :param theta: theta vector (weights) - Numpy array of floats\n",
    "    :return: total error - float\n",
    "    \n",
    "    \"\"\"\n",
    "    # Calculate number of examples\n",
    "    m = len(X)\n",
    "    \n",
    "    # Calculate the constant\n",
    "    c = 1/(2 * m)\n",
    "       \n",
    "    # Calculate the array of errors\n",
    "    temp_0 = h(X, theta) - y.reshape(-1)\n",
    "\n",
    "    # Calculate the transpose of array of errors\n",
    "    temp_1 = temp_0.transpose()\n",
    "\n",
    "    # Calculate the dot product \n",
    "    temp_2 = np.dot(temp_1, temp_0) \n",
    "\n",
    "    return  c * temp_2"
   ]
  },
  {
   "cell_type": "markdown",
   "id": "04487360",
   "metadata": {
    "papermill": {
     "duration": 0.006475,
     "end_time": "2022-12-02T20:12:52.291676",
     "exception": false,
     "start_time": "2022-12-02T20:12:52.285201",
     "status": "completed"
    },
    "tags": []
   },
   "source": [
    "# Gradient Descent   <a id='gradient'></a> "
   ]
  },
  {
   "cell_type": "markdown",
   "id": "062fcb7c",
   "metadata": {
    "papermill": {
     "duration": 0.006091,
     "end_time": "2022-12-02T20:12:52.304072",
     "exception": false,
     "start_time": "2022-12-02T20:12:52.297981",
     "status": "completed"
    },
    "tags": []
   },
   "source": [
    "The gradient Descent content"
   ]
  },
  {
   "cell_type": "code",
   "execution_count": 4,
   "id": "9a6eb043",
   "metadata": {
    "execution": {
     "iopub.execute_input": "2022-12-02T20:12:52.319123Z",
     "iopub.status.busy": "2022-12-02T20:12:52.318448Z",
     "iopub.status.idle": "2022-12-02T20:12:52.324676Z",
     "shell.execute_reply": "2022-12-02T20:12:52.323641Z"
    },
    "papermill": {
     "duration": 0.016636,
     "end_time": "2022-12-02T20:12:52.327037",
     "exception": false,
     "start_time": "2022-12-02T20:12:52.310401",
     "status": "completed"
    },
    "tags": []
   },
   "outputs": [],
   "source": [
    "# Gradient descent function\n",
    "def gradient(X, y, theta, alpha):\n",
    "    \"\"\"\n",
    "     calculates the gradient descent.\n",
    "    :param X: inputs (feature values) - data frame of floats\n",
    "    :param y: outputs (actual target values) - Numpy array of floats\n",
    "    :param theta: theta vector (weights) - Numpy array of floats\n",
    "    :param alpha: learning rate\n",
    "    :return: new theta - Numpy array of floats\n",
    "    \n",
    "    \"\"\"\n",
    "    # Calculate number of examples\n",
    "    m = len(X)\n",
    "    \n",
    "    # Calculate the constant\n",
    "    c =  alpha / m\n",
    "        \n",
    "    # calculate the transpose of X\n",
    "    temp_0 = X.transpose()\n",
    "        \n",
    "    # Calculate the array of errors\n",
    "    temp_1 = h(X, theta) - y.reshape(-1) \n",
    "        \n",
    "    # Calculate the dot product \n",
    "    temp_2 = np.dot(temp_0, temp_1)\n",
    "        \n",
    "    return theta - (c * temp_2)"
   ]
  },
  {
   "cell_type": "markdown",
   "id": "af4e3bc1",
   "metadata": {
    "papermill": {
     "duration": 0.006067,
     "end_time": "2022-12-02T20:12:52.339745",
     "exception": false,
     "start_time": "2022-12-02T20:12:52.333678",
     "status": "completed"
    },
    "tags": []
   },
   "source": [
    "# Feature Normalization  <a id='normalization'></a>"
   ]
  },
  {
   "cell_type": "markdown",
   "id": "f3fa36b7",
   "metadata": {
    "papermill": {
     "duration": 0.006121,
     "end_time": "2022-12-02T20:12:52.352164",
     "exception": false,
     "start_time": "2022-12-02T20:12:52.346043",
     "status": "completed"
    },
    "tags": []
   },
   "source": [
    "feature normalization content"
   ]
  },
  {
   "cell_type": "code",
   "execution_count": 5,
   "id": "b87c5e89",
   "metadata": {
    "execution": {
     "iopub.execute_input": "2022-12-02T20:12:52.366940Z",
     "iopub.status.busy": "2022-12-02T20:12:52.366263Z",
     "iopub.status.idle": "2022-12-02T20:12:52.372694Z",
     "shell.execute_reply": "2022-12-02T20:12:52.371568Z"
    },
    "papermill": {
     "duration": 0.016832,
     "end_time": "2022-12-02T20:12:52.375277",
     "exception": false,
     "start_time": "2022-12-02T20:12:52.358445",
     "status": "completed"
    },
    "tags": []
   },
   "outputs": [],
   "source": [
    "# Standardization\n",
    "def normalize(X):\n",
    "    \"\"\"\n",
    "     Applies standardization to the dataframe.\n",
    "    :param X: unnormalized features - data frame of floats\n",
    "    :return: normalized features - data frame of floats\n",
    "    \n",
    "    \"\"\"\n",
    "    columns = ['GRE Score', 'TOEFL Score', 'CGPA']\n",
    "    for column in columns:\n",
    "        #\n",
    "        X[column] = (X[column] - X[column].mean()) / X[column].std()\n",
    "        # X[column] = (X[column] - X[column].mean()) / (X[column].max() - X[column].min())\n",
    "        \n",
    "    return X"
   ]
  },
  {
   "cell_type": "markdown",
   "id": "919f17b8",
   "metadata": {
    "papermill": {
     "duration": 0.006268,
     "end_time": "2022-12-02T20:12:52.388311",
     "exception": false,
     "start_time": "2022-12-02T20:12:52.382043",
     "status": "completed"
    },
    "tags": []
   },
   "source": [
    "# Loading Data   <a id='getdata'></a> "
   ]
  },
  {
   "cell_type": "code",
   "execution_count": 6,
   "id": "16f71836",
   "metadata": {
    "execution": {
     "iopub.execute_input": "2022-12-02T20:12:52.402870Z",
     "iopub.status.busy": "2022-12-02T20:12:52.402441Z",
     "iopub.status.idle": "2022-12-02T20:12:52.453079Z",
     "shell.execute_reply": "2022-12-02T20:12:52.451934Z"
    },
    "papermill": {
     "duration": 0.060823,
     "end_time": "2022-12-02T20:12:52.455566",
     "exception": false,
     "start_time": "2022-12-02T20:12:52.394743",
     "status": "completed"
    },
    "tags": []
   },
   "outputs": [
    {
     "data": {
      "text/html": [
       "<div>\n",
       "<style scoped>\n",
       "    .dataframe tbody tr th:only-of-type {\n",
       "        vertical-align: middle;\n",
       "    }\n",
       "\n",
       "    .dataframe tbody tr th {\n",
       "        vertical-align: top;\n",
       "    }\n",
       "\n",
       "    .dataframe thead th {\n",
       "        text-align: right;\n",
       "    }\n",
       "</style>\n",
       "<table border=\"1\" class=\"dataframe\">\n",
       "  <thead>\n",
       "    <tr style=\"text-align: right;\">\n",
       "      <th></th>\n",
       "      <th>GRE Score</th>\n",
       "      <th>TOEFL Score</th>\n",
       "      <th>University Rating</th>\n",
       "      <th>SOP</th>\n",
       "      <th>LOR</th>\n",
       "      <th>CGPA</th>\n",
       "      <th>Research</th>\n",
       "    </tr>\n",
       "  </thead>\n",
       "  <tbody>\n",
       "    <tr>\n",
       "      <th>249</th>\n",
       "      <td>0.400880</td>\n",
       "      <td>0.626123</td>\n",
       "      <td>3</td>\n",
       "      <td>3.5</td>\n",
       "      <td>4.0</td>\n",
       "      <td>0.419237</td>\n",
       "      <td>1</td>\n",
       "    </tr>\n",
       "    <tr>\n",
       "      <th>433</th>\n",
       "      <td>-0.041788</td>\n",
       "      <td>0.626123</td>\n",
       "      <td>4</td>\n",
       "      <td>4.0</td>\n",
       "      <td>5.0</td>\n",
       "      <td>-0.060250</td>\n",
       "      <td>0</td>\n",
       "    </tr>\n",
       "    <tr>\n",
       "      <th>19</th>\n",
       "      <td>-1.192724</td>\n",
       "      <td>-0.853685</td>\n",
       "      <td>3</td>\n",
       "      <td>3.5</td>\n",
       "      <td>3.0</td>\n",
       "      <td>-0.126386</td>\n",
       "      <td>0</td>\n",
       "    </tr>\n",
       "    <tr>\n",
       "      <th>322</th>\n",
       "      <td>-0.218855</td>\n",
       "      <td>-0.031569</td>\n",
       "      <td>2</td>\n",
       "      <td>2.5</td>\n",
       "      <td>4.0</td>\n",
       "      <td>-0.506669</td>\n",
       "      <td>0</td>\n",
       "    </tr>\n",
       "    <tr>\n",
       "      <th>332</th>\n",
       "      <td>-0.750057</td>\n",
       "      <td>-0.195992</td>\n",
       "      <td>3</td>\n",
       "      <td>3.5</td>\n",
       "      <td>2.5</td>\n",
       "      <td>-0.605873</td>\n",
       "      <td>1</td>\n",
       "    </tr>\n",
       "  </tbody>\n",
       "</table>\n",
       "</div>"
      ],
      "text/plain": [
       "     GRE Score  TOEFL Score  University Rating  SOP  LOR       CGPA  Research\n",
       "249   0.400880     0.626123                  3  3.5   4.0  0.419237         1\n",
       "433  -0.041788     0.626123                  4  4.0   5.0 -0.060250         0\n",
       "19   -1.192724    -0.853685                  3  3.5   3.0 -0.126386         0\n",
       "322  -0.218855    -0.031569                  2  2.5   4.0 -0.506669         0\n",
       "332  -0.750057    -0.195992                  3  3.5   2.5 -0.605873         1"
      ]
     },
     "execution_count": 6,
     "metadata": {},
     "output_type": "execute_result"
    }
   ],
   "source": [
    "# Get the data. Note that there are two versions. We will use the one\n",
    "# with the most rows.\n",
    "\n",
    "train_data = pd.read_csv(\"/kaggle/input/graduate-admissions/Admission_Predict_Ver1.1.csv\")\n",
    "\n",
    "# Set X and y\n",
    "X = train_data.drop(['Chance of Admit ', 'Serial No.'], axis=1) # Chance of Admit is the target variable and Serial No. is the order. So we drop them.\n",
    "y = pd.DataFrame(data = train_data['Chance of Admit ']).to_numpy()\n",
    "\n",
    "X = normalize(X)\n",
    "\n",
    "# Break off validation set from training data\n",
    "X_train, X_valid, y_train, y_valid = train_test_split(X, y, train_size=0.8, test_size=0.2,\n",
    "                                                                random_state=42)\n",
    "\n",
    "X_train.head()"
   ]
  },
  {
   "cell_type": "code",
   "execution_count": 7,
   "id": "0fb7d351",
   "metadata": {
    "execution": {
     "iopub.execute_input": "2022-12-02T20:12:52.471475Z",
     "iopub.status.busy": "2022-12-02T20:12:52.470400Z",
     "iopub.status.idle": "2022-12-02T20:12:52.484839Z",
     "shell.execute_reply": "2022-12-02T20:12:52.483840Z"
    },
    "papermill": {
     "duration": 0.024823,
     "end_time": "2022-12-02T20:12:52.487161",
     "exception": false,
     "start_time": "2022-12-02T20:12:52.462338",
     "status": "completed"
    },
    "tags": []
   },
   "outputs": [
    {
     "data": {
      "text/html": [
       "<div>\n",
       "<style scoped>\n",
       "    .dataframe tbody tr th:only-of-type {\n",
       "        vertical-align: middle;\n",
       "    }\n",
       "\n",
       "    .dataframe tbody tr th {\n",
       "        vertical-align: top;\n",
       "    }\n",
       "\n",
       "    .dataframe thead th {\n",
       "        text-align: right;\n",
       "    }\n",
       "</style>\n",
       "<table border=\"1\" class=\"dataframe\">\n",
       "  <thead>\n",
       "    <tr style=\"text-align: right;\">\n",
       "      <th></th>\n",
       "      <th>GRE Score</th>\n",
       "      <th>TOEFL Score</th>\n",
       "      <th>University Rating</th>\n",
       "      <th>SOP</th>\n",
       "      <th>LOR</th>\n",
       "      <th>CGPA</th>\n",
       "      <th>Research</th>\n",
       "    </tr>\n",
       "  </thead>\n",
       "  <tbody>\n",
       "    <tr>\n",
       "      <th>249</th>\n",
       "      <td>0.400880</td>\n",
       "      <td>0.626123</td>\n",
       "      <td>3</td>\n",
       "      <td>3.5</td>\n",
       "      <td>4.0</td>\n",
       "      <td>0.419237</td>\n",
       "      <td>1</td>\n",
       "    </tr>\n",
       "    <tr>\n",
       "      <th>433</th>\n",
       "      <td>-0.041788</td>\n",
       "      <td>0.626123</td>\n",
       "      <td>4</td>\n",
       "      <td>4.0</td>\n",
       "      <td>5.0</td>\n",
       "      <td>-0.060250</td>\n",
       "      <td>0</td>\n",
       "    </tr>\n",
       "    <tr>\n",
       "      <th>19</th>\n",
       "      <td>-1.192724</td>\n",
       "      <td>-0.853685</td>\n",
       "      <td>3</td>\n",
       "      <td>3.5</td>\n",
       "      <td>3.0</td>\n",
       "      <td>-0.126386</td>\n",
       "      <td>0</td>\n",
       "    </tr>\n",
       "    <tr>\n",
       "      <th>322</th>\n",
       "      <td>-0.218855</td>\n",
       "      <td>-0.031569</td>\n",
       "      <td>2</td>\n",
       "      <td>2.5</td>\n",
       "      <td>4.0</td>\n",
       "      <td>-0.506669</td>\n",
       "      <td>0</td>\n",
       "    </tr>\n",
       "    <tr>\n",
       "      <th>332</th>\n",
       "      <td>-0.750057</td>\n",
       "      <td>-0.195992</td>\n",
       "      <td>3</td>\n",
       "      <td>3.5</td>\n",
       "      <td>2.5</td>\n",
       "      <td>-0.605873</td>\n",
       "      <td>1</td>\n",
       "    </tr>\n",
       "  </tbody>\n",
       "</table>\n",
       "</div>"
      ],
      "text/plain": [
       "     GRE Score  TOEFL Score  University Rating  SOP  LOR       CGPA  Research\n",
       "249   0.400880     0.626123                  3  3.5   4.0  0.419237         1\n",
       "433  -0.041788     0.626123                  4  4.0   5.0 -0.060250         0\n",
       "19   -1.192724    -0.853685                  3  3.5   3.0 -0.126386         0\n",
       "322  -0.218855    -0.031569                  2  2.5   4.0 -0.506669         0\n",
       "332  -0.750057    -0.195992                  3  3.5   2.5 -0.605873         1"
      ]
     },
     "execution_count": 7,
     "metadata": {},
     "output_type": "execute_result"
    }
   ],
   "source": [
    "X_train.head()"
   ]
  },
  {
   "cell_type": "markdown",
   "id": "e4f54891",
   "metadata": {
    "papermill": {
     "duration": 0.006897,
     "end_time": "2022-12-02T20:12:52.501010",
     "exception": false,
     "start_time": "2022-12-02T20:12:52.494113",
     "status": "completed"
    },
    "tags": []
   },
   "source": [
    "# Model Training   <a id='training'></a> "
   ]
  },
  {
   "cell_type": "markdown",
   "id": "79e6de3c",
   "metadata": {
    "papermill": {
     "duration": 0.006656,
     "end_time": "2022-12-02T20:12:52.514727",
     "exception": false,
     "start_time": "2022-12-02T20:12:52.508071",
     "status": "completed"
    },
    "tags": []
   },
   "source": [
    "Model training content"
   ]
  },
  {
   "cell_type": "code",
   "execution_count": 8,
   "id": "96d3896a",
   "metadata": {
    "execution": {
     "iopub.execute_input": "2022-12-02T20:12:52.530566Z",
     "iopub.status.busy": "2022-12-02T20:12:52.529901Z",
     "iopub.status.idle": "2022-12-02T20:12:52.595355Z",
     "shell.execute_reply": "2022-12-02T20:12:52.594099Z"
    },
    "papermill": {
     "duration": 0.07706,
     "end_time": "2022-12-02T20:12:52.598688",
     "exception": false,
     "start_time": "2022-12-02T20:12:52.521628",
     "status": "completed"
    },
    "tags": []
   },
   "outputs": [
    {
     "name": "stdout",
     "output_type": "stream",
     "text": [
      "initial Cost: 0.272069125\n",
      "\n",
      "Iteration: 1\n",
      "Calculated cost: 0.21664352020919217\n",
      "cost difference: 0.05542560479080785\n",
      "\n",
      "Iteration: 2\n",
      "Calculated cost: 0.172829784837974\n",
      "cost difference: 0.04381373537121816\n",
      "\n",
      "Iteration: 3\n",
      "Calculated cost: 0.13819484296770715\n",
      "cost difference: 0.03463494187026686\n",
      "\n",
      "Iteration: 4\n",
      "Calculated cost: 0.11081543390865023\n",
      "cost difference: 0.02737940905905692\n",
      "\n",
      "Iteration: 5\n",
      "Calculated cost: 0.08917128786201854\n",
      "cost difference: 0.021644146046631688\n",
      "\n",
      "Iteration: 6\n",
      "Calculated cost: 0.07206068506341637\n",
      "cost difference: 0.017110602798602173\n",
      "\n",
      "Iteration: 7\n",
      "Calculated cost: 0.058533708275695824\n",
      "cost difference: 0.013526976787720545\n",
      "\n",
      "Iteration: 8\n",
      "Calculated cost: 0.04783948124801696\n",
      "cost difference: 0.010694227027678867\n",
      "\n",
      "Iteration: 9\n",
      "Calculated cost: 0.03938446258594737\n",
      "cost difference: 0.008455018662069588\n",
      "\n",
      "Iteration: 10\n",
      "Calculated cost: 0.032699478532517604\n",
      "cost difference: 0.0066849840534297655\n",
      "\n",
      "Iteration: 11\n",
      "Calculated cost: 0.027413663548943187\n",
      "cost difference: 0.005285814983574416\n",
      "\n",
      "Iteration: 12\n",
      "Calculated cost: 0.023233861266378785\n",
      "cost difference: 0.004179802282564402\n",
      "\n",
      "Iteration: 13\n",
      "Calculated cost: 0.01992834166762262\n",
      "cost difference: 0.003305519598756166\n",
      "\n",
      "Iteration: 14\n",
      "Calculated cost: 0.01731393009575972\n",
      "cost difference: 0.002614411571862898\n",
      "\n",
      "Iteration: 15\n",
      "Calculated cost: 0.015245833191188659\n",
      "cost difference: 0.0020680969045710623\n",
      "\n",
      "Iteration: 16\n",
      "Calculated cost: 0.013609596655038053\n",
      "cost difference: 0.0016362365361506058\n",
      "\n",
      "Iteration: 17\n",
      "Calculated cost: 0.012314748145857254\n",
      "cost difference: 0.0012948485091807994\n",
      "\n",
      "Iteration: 18\n",
      "Calculated cost: 0.011289772214490693\n",
      "cost difference: 0.0010249759313665611\n",
      "\n",
      "Iteration: 19\n",
      "Calculated cost: 0.010478138167969856\n",
      "cost difference: 0.0008116340465208361\n",
      "\n",
      "Iteration: 20\n",
      "Calculated cost: 0.009835160236510453\n",
      "cost difference: 0.0006429779314594038\n",
      "\n",
      "Iteration: 21\n",
      "Calculated cost: 0.009325515646643382\n",
      "cost difference: 0.0005096445898670702\n",
      "\n",
      "Iteration: 22\n",
      "Calculated cost: 0.008921282745848896\n",
      "cost difference: 0.0004042329007944868\n",
      "\n",
      "Iteration: 23\n",
      "Calculated cost: 0.008600390209489907\n",
      "cost difference: 0.0003208925363589882\n",
      "\n",
      "Iteration: 24\n",
      "Calculated cost: 0.008345391193747376\n",
      "cost difference: 0.0002549990157425311\n",
      "\n",
      "Iteration: 25\n",
      "Calculated cost: 0.00814249434686478\n",
      "cost difference: 0.00020289684688259632\n",
      "\n",
      "Iteration: 26\n",
      "Calculated cost: 0.007980797857791534\n",
      "cost difference: 0.00016169648907324655\n",
      "\n",
      "Iteration: 27\n",
      "Calculated cost: 0.007851683998701538\n",
      "cost difference: 0.00012911385908999547\n",
      "\n",
      "Iteration: 28\n",
      "Calculated cost: 0.007748340532237861\n",
      "cost difference: 0.00010334346646367724\n",
      "\n",
      "Iteration: 29\n",
      "Calculated cost: 0.007665382400831924\n",
      "cost difference: 8.295813140593664e-05\n",
      "\n",
      "Iteration: 30\n",
      "Calculated cost: 0.0075985526854524975\n",
      "cost difference: 6.682971537942672e-05\n",
      "\n",
      "Iteration: 31\n",
      "Calculated cost: 0.0075444862240328075\n",
      "cost difference: 5.4066461419689966e-05\n",
      "\n",
      "Iteration: 32\n",
      "Calculated cost: 0.007500522760155253\n",
      "cost difference: 4.3963463877554586e-05\n",
      "\n",
      "Iteration: 33\n",
      "Calculated cost: 0.007464559243651692\n",
      "cost difference: 3.596351650356124e-05\n",
      "\n",
      "Iteration: 34\n",
      "Calculated cost: 0.007434933079407391\n",
      "cost difference: 2.962616424430093e-05\n",
      "\n",
      "Iteration: 35\n",
      "Calculated cost: 0.0074103298396249045\n",
      "cost difference: 2.460323978248618e-05\n",
      "\n",
      "Iteration: 36\n",
      "Calculated cost: 0.007389710313587481\n",
      "cost difference: 2.061952603742319e-05\n",
      "\n",
      "Iteration: 37\n",
      "Calculated cost: 0.007372252843031948\n",
      "cost difference: 1.7457470555533143e-05\n",
      "\n",
      "Iteration: 38\n",
      "Calculated cost: 0.00735730774025527\n",
      "cost difference: 1.4945102776678376e-05\n",
      "\n",
      "Iteration: 39\n",
      "Calculated cost: 0.007344361257195035\n",
      "cost difference: 1.2946483060234833e-05\n",
      "\n",
      "Iteration: 40\n",
      "Calculated cost: 0.007333007104217302\n",
      "cost difference: 1.135415297773279e-05\n",
      "\n",
      "Iteration: 41\n",
      "Calculated cost: 0.0073229239366815226\n",
      "cost difference: 1.008316753577966e-05\n",
      "\n",
      "Iteration: 42\n",
      "Calculated cost: 0.007313857558822591\n",
      "cost difference: 9.066377858931926e-06\n",
      "\n",
      " Calculated theta: [0.02158655 0.00196927 0.00124646 0.06198721 0.0681911  0.07086177\n",
      " 0.00091025 0.01236203]\n"
     ]
    }
   ],
   "source": [
    "# Initialize\n",
    "\n",
    "# Make a list of ones\n",
    "m_train = len(X_train)\n",
    "m_valid = len(X_valid)\n",
    "n = len(X_train.axes[1]) + 1\n",
    "        \n",
    "ones_train = [1] * m_train\n",
    "ones_valid = [1] * m_valid\n",
    "\n",
    "# Insert ones to the fist column since\n",
    "# X_0 for all training examples should\n",
    "# be one.\n",
    "X_train.insert(0, \"X_0\", ones_train, True)\n",
    "X_valid.insert(0, \"X_0\", ones_valid, True)\n",
    "\n",
    "# Select zero vector for initial theta\n",
    "zero_list= [0] * n\n",
    "theta = np.asarray(zero_list)\n",
    "\n",
    "# set learning rate \n",
    "alpha = 0.003\n",
    "\n",
    "# Set convergence threshold\n",
    "threshold = 0.00001\n",
    "\n",
    "# Initial cost value.\n",
    "# Will also be used in the first iteration\n",
    "# of the while loop. If the initial cost\n",
    "# is smaller then convergence threshold then\n",
    "# while loop will not be executed.\n",
    "cost_diff = J(X_train, y_train, theta)\n",
    "print(\"initial Cost: {}\".format(cost_diff))\n",
    "\n",
    "# We will count the number of iterations.\n",
    "my_iter = 0\n",
    "\n",
    "# Create a dictionary of cost values for debugging\n",
    "cost_dict = {} # will be used for storing the cost value of each iteration.\n",
    "\n",
    "# Add initial cost value to the dictionary\n",
    "my_key = \"I_\" + str(my_iter)\n",
    "cost_dict[my_key] = cost_diff\n",
    "\n",
    "# Start gradient descent\n",
    "while cost_diff >= threshold:\n",
    "    \n",
    "    # calculate initial cost value\n",
    "    initial_cost = J(X_train, y_train, theta)\n",
    "    \n",
    "    # calculate and assign the new theta values\n",
    "    theta = gradient(X_train, y_train, theta, alpha)\n",
    "    \n",
    "    # calculate the consecutive cost value\n",
    "    new_cost = J(X_train, y_train, theta)\n",
    "        \n",
    "    # calculate the difference between the consecutive\n",
    "    # cost values\n",
    "    cost_diff = initial_cost - new_cost\n",
    "    \n",
    "    # Update the dictionary\n",
    "    my_key = \"I_\" + str(my_iter)\n",
    "    cost_dict[my_key] = new_cost\n",
    "    \n",
    "    my_iter += 1\n",
    "    \n",
    "    print()\n",
    "    print(\"Iteration: {}\".format(my_iter))\n",
    "    print(\"Calculated cost: {}\".format(new_cost))\n",
    "    print(\"cost difference: {}\".format(cost_diff))\n",
    "\n",
    "print(\"\\n Calculated theta: {}\".format(theta))\n",
    "  \n"
   ]
  },
  {
   "cell_type": "code",
   "execution_count": 9,
   "id": "a5455cc8",
   "metadata": {
    "execution": {
     "iopub.execute_input": "2022-12-02T20:12:52.615397Z",
     "iopub.status.busy": "2022-12-02T20:12:52.614970Z",
     "iopub.status.idle": "2022-12-02T20:12:53.139744Z",
     "shell.execute_reply": "2022-12-02T20:12:53.138541Z"
    },
    "papermill": {
     "duration": 0.536631,
     "end_time": "2022-12-02T20:12:53.142584",
     "exception": false,
     "start_time": "2022-12-02T20:12:52.605953",
     "status": "completed"
    },
    "tags": []
   },
   "outputs": [
    {
     "data": {
      "text/plain": [
       "[<matplotlib.lines.Line2D at 0x7fa87ddf7410>]"
      ]
     },
     "execution_count": 9,
     "metadata": {},
     "output_type": "execute_result"
    },
    {
     "data": {
      "image/png": "[encoded data removed]",
      "text/plain": [
       "<Figure size 1440x720 with 1 Axes>"
      ]
     },
     "metadata": {
      "needs_background": "light"
     },
     "output_type": "display_data"
    }
   ],
   "source": [
    "# Plot Debugging Curve\n",
    "Y1=[x for x in cost_dict.values()]\n",
    "\n",
    "X1=[x for x in cost_dict.keys()]\n",
    "\n",
    "fig = plt.figure(figsize=[20, 10])\n",
    "plt.xlabel('Iterations')\n",
    "plt.ylabel('J(θ)')\n",
    "plt.title('Debugging Curve')\n",
    "plt.plot(X1,Y1, color='tab:blue')\n"
   ]
  },
  {
   "cell_type": "markdown",
   "id": "cc6493f1",
   "metadata": {
    "papermill": {
     "duration": 0.007737,
     "end_time": "2022-12-02T20:12:53.158303",
     "exception": false,
     "start_time": "2022-12-02T20:12:53.150566",
     "status": "completed"
    },
    "tags": []
   },
   "source": [
    "# Model Validation   <a id='validation'></a> "
   ]
  },
  {
   "cell_type": "markdown",
   "id": "5cbb88ac",
   "metadata": {
    "papermill": {
     "duration": 0.007526,
     "end_time": "2022-12-02T20:12:53.173618",
     "exception": false,
     "start_time": "2022-12-02T20:12:53.166092",
     "status": "completed"
    },
    "tags": []
   },
   "source": [
    "model validation content"
   ]
  },
  {
   "cell_type": "code",
   "execution_count": 10,
   "id": "eb6d889b",
   "metadata": {
    "execution": {
     "iopub.execute_input": "2022-12-02T20:12:53.191113Z",
     "iopub.status.busy": "2022-12-02T20:12:53.190333Z",
     "iopub.status.idle": "2022-12-02T20:12:53.198216Z",
     "shell.execute_reply": "2022-12-02T20:12:53.197177Z"
    },
    "papermill": {
     "duration": 0.019392,
     "end_time": "2022-12-02T20:12:53.200589",
     "exception": false,
     "start_time": "2022-12-02T20:12:53.181197",
     "status": "completed"
    },
    "tags": []
   },
   "outputs": [
    {
     "name": "stdout",
     "output_type": "stream",
     "text": [
      "\n",
      " theta: [0.02158655 0.00196927 0.00124646 0.06198721 0.0681911  0.07086177\n",
      " 0.00091025 0.01236203]\n",
      "\n",
      "Cost of test data: 0.006407837109837248\n"
     ]
    }
   ],
   "source": [
    "print(\"\\n theta: {}\\n\".format(theta))\n",
    "\n",
    "# calculate the cost value for the test set\n",
    "cost_test = J(X_valid, y_valid, theta)\n",
    "print(\"Cost of test data: {}\".format(cost_test))"
   ]
  },
  {
   "cell_type": "code",
   "execution_count": 11,
   "id": "f184d34f",
   "metadata": {
    "execution": {
     "iopub.execute_input": "2022-12-02T20:12:53.218208Z",
     "iopub.status.busy": "2022-12-02T20:12:53.217839Z",
     "iopub.status.idle": "2022-12-02T20:12:53.230676Z",
     "shell.execute_reply": "2022-12-02T20:12:53.229815Z"
    },
    "papermill": {
     "duration": 0.024297,
     "end_time": "2022-12-02T20:12:53.232831",
     "exception": false,
     "start_time": "2022-12-02T20:12:53.208534",
     "status": "completed"
    },
    "tags": []
   },
   "outputs": [
    {
     "data": {
      "text/html": [
       "<div>\n",
       "<style scoped>\n",
       "    .dataframe tbody tr th:only-of-type {\n",
       "        vertical-align: middle;\n",
       "    }\n",
       "\n",
       "    .dataframe tbody tr th {\n",
       "        vertical-align: top;\n",
       "    }\n",
       "\n",
       "    .dataframe thead th {\n",
       "        text-align: right;\n",
       "    }\n",
       "</style>\n",
       "<table border=\"1\" class=\"dataframe\">\n",
       "  <thead>\n",
       "    <tr style=\"text-align: right;\">\n",
       "      <th></th>\n",
       "      <th>GRE Score</th>\n",
       "      <th>TOEFL Score</th>\n",
       "      <th>University Rating</th>\n",
       "      <th>SOP</th>\n",
       "      <th>LOR</th>\n",
       "      <th>CGPA</th>\n",
       "      <th>Research</th>\n",
       "    </tr>\n",
       "  </thead>\n",
       "  <tbody>\n",
       "    <tr>\n",
       "      <th>0</th>\n",
       "      <td>1.817417</td>\n",
       "      <td>1.777086</td>\n",
       "      <td>4</td>\n",
       "      <td>4.5</td>\n",
       "      <td>4.5</td>\n",
       "      <td>1.775029</td>\n",
       "      <td>1</td>\n",
       "    </tr>\n",
       "    <tr>\n",
       "      <th>1</th>\n",
       "      <td>0.666481</td>\n",
       "      <td>-0.031569</td>\n",
       "      <td>4</td>\n",
       "      <td>4.0</td>\n",
       "      <td>4.5</td>\n",
       "      <td>0.485373</td>\n",
       "      <td>1</td>\n",
       "    </tr>\n",
       "    <tr>\n",
       "      <th>2</th>\n",
       "      <td>-0.041788</td>\n",
       "      <td>-0.524839</td>\n",
       "      <td>3</td>\n",
       "      <td>3.0</td>\n",
       "      <td>3.5</td>\n",
       "      <td>-0.953088</td>\n",
       "      <td>1</td>\n",
       "    </tr>\n",
       "    <tr>\n",
       "      <th>3</th>\n",
       "      <td>0.489414</td>\n",
       "      <td>0.461700</td>\n",
       "      <td>3</td>\n",
       "      <td>3.5</td>\n",
       "      <td>2.5</td>\n",
       "      <td>0.154692</td>\n",
       "      <td>1</td>\n",
       "    </tr>\n",
       "    <tr>\n",
       "      <th>4</th>\n",
       "      <td>-0.218855</td>\n",
       "      <td>-0.689262</td>\n",
       "      <td>2</td>\n",
       "      <td>2.0</td>\n",
       "      <td>3.0</td>\n",
       "      <td>-0.605873</td>\n",
       "      <td>0</td>\n",
       "    </tr>\n",
       "  </tbody>\n",
       "</table>\n",
       "</div>"
      ],
      "text/plain": [
       "   GRE Score  TOEFL Score  University Rating  SOP  LOR       CGPA  Research\n",
       "0   1.817417     1.777086                  4  4.5   4.5  1.775029         1\n",
       "1   0.666481    -0.031569                  4  4.0   4.5  0.485373         1\n",
       "2  -0.041788    -0.524839                  3  3.0   3.5 -0.953088         1\n",
       "3   0.489414     0.461700                  3  3.5   2.5  0.154692         1\n",
       "4  -0.218855    -0.689262                  2  2.0   3.0 -0.605873         0"
      ]
     },
     "execution_count": 11,
     "metadata": {},
     "output_type": "execute_result"
    }
   ],
   "source": [
    "X.head()"
   ]
  },
  {
   "cell_type": "markdown",
   "id": "35fc2172",
   "metadata": {
    "papermill": {
     "duration": 0.007651,
     "end_time": "2022-12-02T20:12:53.248532",
     "exception": false,
     "start_time": "2022-12-02T20:12:53.240881",
     "status": "completed"
    },
    "tags": []
   },
   "source": [
    "# Conclusion   <a id='conclusion'></a> "
   ]
  },
  {
   "cell_type": "markdown",
   "id": "ef6ae575",
   "metadata": {
    "papermill": {
     "duration": 0.008133,
     "end_time": "2022-12-02T20:12:53.264725",
     "exception": false,
     "start_time": "2022-12-02T20:12:53.256592",
     "status": "completed"
    },
    "tags": []
   },
   "source": [
    "Conclusion content"
   ]
  },
  {
   "cell_type": "markdown",
   "id": "87021d96",
   "metadata": {
    "papermill": {
     "duration": 0.007668,
     "end_time": "2022-12-02T20:12:53.280414",
     "exception": false,
     "start_time": "2022-12-02T20:12:53.272746",
     "status": "completed"
    },
    "tags": []
   },
   "source": [
    "# References   <a id='references'></a>\n",
    "* [Machine Learning Specialization - Deeplearning.AI](https://www.deeplearning.ai/program/machine-learning-specialization/)\n",
    "* [Andrew Ng](https://en.wikipedia.org/wiki/Andrew_Ng)\n",
    "* [@Mohan S Acharya](https://www.kaggle.com/mohansacharya)\n",
    "* [10-simple-hacks-to-speed-up-your-data-analysis - Parul Pandey](https://www.kaggle.com/parulpandey/10-simple-hacks-to-speed-up-your-data-analysis)\n",
    "* [Univariate Linear Regression From Scratch - Kaggle](https://www.kaggle.com/code/erkanhatipoglu/univariate-linear-regression-from-scratch)\n",
    "* [Univariate Linear Regression From Scratch - Towards AI](https://pub.towardsai.net/univariate-linear-regression-from-scratch-68065fe8eb09)"
   ]
  }
 ],
 "metadata": {
  "kernelspec": {
   "display_name": "Python 3",
   "language": "python",
   "name": "python3"
  },
  "language_info": {
   "codemirror_mode": {
    "name": "ipython",
    "version": 3
   },
   "file_extension": ".py",
   "mimetype": "text/x-python",
   "name": "python",
   "nbconvert_exporter": "python",
   "pygments_lexer": "ipython3",
   "version": "3.7.12"
  },
  "papermill": {
   "default_parameters": {},
   "duration": 11.473983,
   "end_time": "2022-12-02T20:12:54.010831",
   "environment_variables": {},
   "exception": null,
   "input_path": "__notebook__.ipynb",
   "output_path": "__notebook__.ipynb",
   "parameters": {},
   "start_time": "2022-12-02T20:12:42.536848",
   "version": "2.3.4"
  }
 },
 "nbformat": 4,
 "nbformat_minor": 5
}
