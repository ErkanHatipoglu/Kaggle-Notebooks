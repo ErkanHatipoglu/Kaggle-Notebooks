{
 "cells": [
  {
   "cell_type": "markdown",
   "metadata": {
    "papermill": {
     "duration": 0.017915,
     "end_time": "2023-03-24T20:31:33.433527",
     "exception": false,
     "start_time": "2023-03-24T20:31:33.415612",
     "status": "completed"
    },
    "tags": []
   },
   "source": [
    "# Introduction  <a id='introduction'></a>\n",
    "\n",
    "This is a starter code for those who want to use function transformers within sklearn pipelines. We will use the Titanic dataset for this purpose.\n",
    "Kagglers interested in using early_stopping_rounds and cross-validation with pipelines may refer to my notebook [Housing Prices: Pipeline Starter Code](https://www.kaggle.com/erkanhatipoglu/housing-prices-pipeline-starter-code).\n",
    "\n",
    "Kagglers interested in using grid search may refer to my notebook [Housing Prices: GridSearchCV Example](https://www.kaggle.com/erkanhatipoglu/housing-prices-gridsearchcv-example).\n",
    "\n",
    "Kagglers interested in more advanced subjects of sklearn pipelines may refer to my notebook [Introduction to Sklearn Pipelines with Titanic](https://www.kaggle.com/erkanhatipoglu/introduction-to-sklearn-pipelines-with-titanic).\n",
    "\n",
    "Thank you for reading.\n",
    "\n",
    "\n",
    "\n",
    "# Table of Contents\n",
    "* [Introduction](#introduction)\n",
    "* [Helper Functions](#functions)\n",
    "* [Loading Data](#loading)\n",
    "* [Function Transformers](#functiontransformers) \n",
    "* [Preprocessing](#preprocessing) \n",
    "* [Cross-validation](#cross-validation)    \n",
    "* [Prediction](#prediction) \n",
    "* [Saving and submission](#saving)  \n",
    "* [References](#references)"
   ]
  },
  {
   "cell_type": "code",
   "execution_count": 1,
   "metadata": {
    "_cell_guid": "b1076dfc-b9ad-4769-8c92-a6c4dae69d19",
    "_uuid": "8f2839f25d086af736a60e9eeb907d3b93b6e0e5",
    "execution": {
     "iopub.execute_input": "2023-03-24T20:31:33.469421Z",
     "iopub.status.busy": "2023-03-24T20:31:33.468782Z",
     "iopub.status.idle": "2023-03-24T20:31:35.485600Z",
     "shell.execute_reply": "2023-03-24T20:31:35.484949Z",
     "shell.execute_reply.started": "2022-09-27T11:18:40.722899Z"
    },
    "papermill": {
     "duration": 2.03573,
     "end_time": "2023-03-24T20:31:35.485746",
     "exception": false,
     "start_time": "2023-03-24T20:31:33.450016",
     "status": "completed"
    },
    "tags": []
   },
   "outputs": [
    {
     "name": "stdout",
     "output_type": "stream",
     "text": [
      "/kaggle/input/titanic/train.csv\n",
      "/kaggle/input/titanic/test.csv\n",
      "/kaggle/input/titanic/gender_submission.csv\n"
     ]
    }
   ],
   "source": [
    "# This Python 3 environment comes with many helpful analytics libraries installed\n",
    "# It is defined by the kaggle/python Docker image: https://github.com/kaggle/docker-python\n",
    "# For example, here's several helpful packages to load\n",
    "\n",
    "import numpy as np # linear algebra\n",
    "import pandas as pd # data processing, CSV file I/O (e.g. pd.read_csv)\n",
    "\n",
    "# Input data files are available in the read-only \"../input/\" directory\n",
    "# For example, running this (by clicking run or pressing Shift+Enter) will list all files under the input directory\n",
    "\n",
    "import os\n",
    "for dirname, _, filenames in os.walk('/kaggle/input'):\n",
    "    for filename in filenames:\n",
    "        print(os.path.join(dirname, filename))\n",
    "\n",
    "# You can write up to 5GB to the current directory (/kaggle/working/) that gets preserved as output when you create a version using \"Save & Run All\" \n",
    "# You can also write temporary files to /kaggle/temp/, but they won't be saved outside of the current session\n",
    "\n",
    "from sklearn.model_selection import train_test_split, cross_val_score, GridSearchCV\n",
    "from sklearn.preprocessing import FunctionTransformer, OneHotEncoder\n",
    "from sklearn.pipeline import Pipeline\n",
    "from sklearn.compose import ColumnTransformer\n",
    "from xgboost import XGBClassifier\n",
    "from sklearn.ensemble import RandomForestClassifier\n",
    "from sklearn.metrics import accuracy_score\n",
    "pd.set_option('display.max_rows', None)"
   ]
  },
  {
   "cell_type": "markdown",
   "metadata": {
    "papermill": {
     "duration": 0.019032,
     "end_time": "2023-03-24T20:31:35.522953",
     "exception": false,
     "start_time": "2023-03-24T20:31:35.503921",
     "status": "completed"
    },
    "tags": []
   },
   "source": [
    "# Helper functions   <a id='functions'></a>   "
   ]
  },
  {
   "cell_type": "markdown",
   "metadata": {
    "papermill": {
     "duration": 0.016844,
     "end_time": "2023-03-24T20:31:35.557254",
     "exception": false,
     "start_time": "2023-03-24T20:31:35.540410",
     "status": "completed"
    },
    "tags": []
   },
   "source": [
    "<div class=\"alert alert-block alert-info\">\n",
    "<b>Tip:</b> We will use some utility functions throughout the notebook. Collecting them in one place is a good idea, making the code more organized.\n",
    "</div>"
   ]
  },
  {
   "cell_type": "code",
   "execution_count": 2,
   "metadata": {
    "execution": {
     "iopub.execute_input": "2023-03-24T20:31:35.605058Z",
     "iopub.status.busy": "2023-03-24T20:31:35.604037Z",
     "iopub.status.idle": "2023-03-24T20:31:35.623093Z",
     "shell.execute_reply": "2023-03-24T20:31:35.623901Z",
     "shell.execute_reply.started": "2022-09-27T11:18:42.889186Z"
    },
    "papermill": {
     "duration": 0.047419,
     "end_time": "2023-03-24T20:31:35.624111",
     "exception": false,
     "start_time": "2023-03-24T20:31:35.576692",
     "status": "completed"
    },
    "tags": []
   },
   "outputs": [
    {
     "name": "stdout",
     "output_type": "stream",
     "text": [
      "Functions loaded\n"
     ]
    }
   ],
   "source": [
    "def save_file (predictions):\n",
    "    \"\"\"Save submission file.\"\"\"\n",
    "    # Save test predictions to file\n",
    "    output = pd.DataFrame({'PassengerId': sample_sub_file.PassengerId,\n",
    "                       'Survived': predictions})\n",
    "    output.to_csv('submission.csv', index=False)\n",
    "    print (\"Submission file is saved\")\n",
    "    \n",
    "def transform_age(df):\n",
    "    ''' A function that transforms the Age column of the Titanic dataset.\n",
    "        'Age' feature is transformed into a categorical data of the passengers\n",
    "        such that masters and people whose age are smaller than 16 is defined\n",
    "        as child.'''\n",
    "    # Make a copy to avoid changing original data\n",
    "    X_temp = df.copy()\n",
    "    \n",
    "    # Create Age_new column\n",
    "    pd.DataFrame.insert(X_temp, len(X_temp.columns),\"Age_new\",\"\",False)    \n",
    "    \n",
    "    # Get the index values\n",
    "    index_values = X_temp.index.values.astype(int)\n",
    "    \n",
    "    for i in index_values:\n",
    "        age = X_temp.at[i, 'Age'].astype(float)\n",
    "        name = X_temp.loc[i,'Name']\n",
    "        if name.find('.'):\n",
    "            title = name.split('.')[0].split()[-1]\n",
    "\n",
    "        if np.isnan(age):\n",
    "            if title == \"Master\":\n",
    "                X_temp.loc[i,'Age_new'] = \"Child\"\n",
    "            else:\n",
    "                X_temp.loc[i,'Age_new'] = \"Adult\"\n",
    "        else:\n",
    "            if age < 16:\n",
    "                X_temp.loc[i,'Age_new'] = \"Child\"\n",
    "            else:\n",
    "                X_temp.loc[i,'Age_new'] = \"Adult\"\n",
    "        \n",
    "    drop = [\"Age\", \"Name\"]\n",
    "    X_temp.drop(drop, axis=1, inplace=True)\n",
    "    X_temp.rename(columns={'Age_new':'Age'}, inplace=True)\n",
    "    return X_temp\n",
    "\n",
    "def transform_family(df):\n",
    "    '''A funtion that calculates the family size by summing Parch and SibSp columns into the 'Fcount' column. Afterward Parch \n",
    "    and SibSp columns are dropped.'''\n",
    "    # Make a copy to avoid changing original data\n",
    "    X_temp = df.copy()\n",
    "    \n",
    "    # Create Fcount column\n",
    "    pd.DataFrame.insert(X_temp, len(X_temp.columns),\"Fcount\",\"\",False)    \n",
    "    \n",
    "    # Get the index values\n",
    "    index_values = X_temp.index.values.astype(int)\n",
    "    \n",
    "    for i in index_values:\n",
    "        X_temp.loc[i, 'Fcount'] = X_temp.loc[i, 'Parch'] + X_temp.loc[i,'SibSp']\n",
    "        \n",
    "    X_temp[\"Fcount\"] = X_temp[\"Fcount\"].astype('int64')\n",
    "    X_temp.drop(['Parch', 'SibSp'], axis=1, inplace=True)\n",
    "\n",
    "    return X_temp\n",
    "\n",
    "print(\"Functions loaded\")"
   ]
  },
  {
   "cell_type": "markdown",
   "metadata": {
    "papermill": {
     "duration": 0.020719,
     "end_time": "2023-03-24T20:31:35.670667",
     "exception": false,
     "start_time": "2023-03-24T20:31:35.649948",
     "status": "completed"
    },
    "tags": []
   },
   "source": [
    "## Loading Data   <a id='loading'></a>   "
   ]
  },
  {
   "cell_type": "markdown",
   "metadata": {
    "papermill": {
     "duration": 0.020387,
     "end_time": "2023-03-24T20:31:35.709497",
     "exception": false,
     "start_time": "2023-03-24T20:31:35.689110",
     "status": "completed"
    },
    "tags": []
   },
   "source": [
    "<div class=\"alert alert-block alert-info\">\n",
    "We will start with loading the data. After loading the data, we will drop the ticket column since we do not need it. Next, we will split our data into training and test data sets.\n",
    "</div> "
   ]
  },
  {
   "cell_type": "code",
   "execution_count": 3,
   "metadata": {
    "execution": {
     "iopub.execute_input": "2023-03-24T20:31:35.750366Z",
     "iopub.status.busy": "2023-03-24T20:31:35.748937Z",
     "iopub.status.idle": "2023-03-24T20:31:35.813081Z",
     "shell.execute_reply": "2023-03-24T20:31:35.813949Z",
     "shell.execute_reply.started": "2022-09-27T11:18:42.910223Z"
    },
    "papermill": {
     "duration": 0.085883,
     "end_time": "2023-03-24T20:31:35.814175",
     "exception": false,
     "start_time": "2023-03-24T20:31:35.728292",
     "status": "completed"
    },
    "tags": []
   },
   "outputs": [
    {
     "name": "stdout",
     "output_type": "stream",
     "text": [
      "['Survived'] column dropped from training data!\n",
      "['Ticket', 'Cabin', 'Embarked'] dropped from both training and test data!\n",
      "\n",
      "Shape of training data: (891, 7)\n",
      "Shape of target: (891,)\n",
      "Shape of test data: (418, 7)\n",
      "Shape of submission data: (418, 2)\n",
      "\n",
      "Shape of X_train data: (668, 7)\n",
      "Shape of X_valid: (223, 7)\n",
      "Shape of y_train: (668,)\n",
      "Shape of y_valid: (223,)\n",
      "\n",
      "Files Loaded\n"
     ]
    }
   ],
   "source": [
    "# Loading data\n",
    "train_data = pd.read_csv('/kaggle/input/titanic/train.csv', index_col='PassengerId')\n",
    "test_data = pd.read_csv('/kaggle/input/titanic/test.csv', index_col='PassengerId')\n",
    "sample_sub_file = pd.read_csv('/kaggle/input/titanic/gender_submission.csv')\n",
    "\n",
    "# Make a copy to avoid changing original data\n",
    "X = train_data.copy()\n",
    "y = X.Survived\n",
    "X_test = test_data.copy()\n",
    "\n",
    "# Remove target from predictors\n",
    "X.drop(['Survived'], axis=1, inplace=True)\n",
    "print(\"['Survived'] column dropped from training data!\")\n",
    "\n",
    "# Remove Ticket, Cabin, Embarked columns. We will not use them.\n",
    "cols_dropped = [\"Ticket\", \"Cabin\", \"Embarked\"]\n",
    "X.drop(cols_dropped, axis = 1, inplace = True)\n",
    "X_test.drop(cols_dropped, axis = 1, inplace = True)\n",
    "print(\"{} dropped from both training and test data!\".format(cols_dropped))\n",
    "\n",
    "print(\"\\nShape of training data: {}\".format(X.shape))\n",
    "print(\"Shape of target: {}\".format(y.shape))\n",
    "print(\"Shape of test data: {}\".format(X_test.shape))\n",
    "print(\"Shape of submission data: {}\".format(sample_sub_file.shape))\n",
    "\n",
    "# Split the data for validation\n",
    "X_train, X_valid, y_train, y_valid = train_test_split(X,y, random_state=2)\n",
    "\n",
    "print(\"\\nShape of X_train data: {}\".format(X_train.shape))\n",
    "print(\"Shape of X_valid: {}\".format(X_valid.shape))\n",
    "print(\"Shape of y_train: {}\".format(y_train.shape))\n",
    "print(\"Shape of y_valid: {}\".format(y_valid.shape))\n",
    "\n",
    "print(\"\\nFiles Loaded\")"
   ]
  },
  {
   "cell_type": "code",
   "execution_count": 4,
   "metadata": {
    "execution": {
     "iopub.execute_input": "2023-03-24T20:31:35.855605Z",
     "iopub.status.busy": "2023-03-24T20:31:35.854566Z",
     "iopub.status.idle": "2023-03-24T20:31:35.872812Z",
     "shell.execute_reply": "2023-03-24T20:31:35.873325Z",
     "shell.execute_reply.started": "2022-09-27T11:18:42.973407Z"
    },
    "papermill": {
     "duration": 0.040482,
     "end_time": "2023-03-24T20:31:35.873505",
     "exception": false,
     "start_time": "2023-03-24T20:31:35.833023",
     "status": "completed"
    },
    "tags": []
   },
   "outputs": [
    {
     "data": {
      "text/html": [
       "<div>\n",
       "<style scoped>\n",
       "    .dataframe tbody tr th:only-of-type {\n",
       "        vertical-align: middle;\n",
       "    }\n",
       "\n",
       "    .dataframe tbody tr th {\n",
       "        vertical-align: top;\n",
       "    }\n",
       "\n",
       "    .dataframe thead th {\n",
       "        text-align: right;\n",
       "    }\n",
       "</style>\n",
       "<table border=\"1\" class=\"dataframe\">\n",
       "  <thead>\n",
       "    <tr style=\"text-align: right;\">\n",
       "      <th></th>\n",
       "      <th>Pclass</th>\n",
       "      <th>Name</th>\n",
       "      <th>Sex</th>\n",
       "      <th>Age</th>\n",
       "      <th>SibSp</th>\n",
       "      <th>Parch</th>\n",
       "      <th>Fare</th>\n",
       "    </tr>\n",
       "    <tr>\n",
       "      <th>PassengerId</th>\n",
       "      <th></th>\n",
       "      <th></th>\n",
       "      <th></th>\n",
       "      <th></th>\n",
       "      <th></th>\n",
       "      <th></th>\n",
       "      <th></th>\n",
       "    </tr>\n",
       "  </thead>\n",
       "  <tbody>\n",
       "    <tr>\n",
       "      <th>200</th>\n",
       "      <td>2</td>\n",
       "      <td>Yrois, Miss. Henriette (\"Mrs Harbeck\")</td>\n",
       "      <td>female</td>\n",
       "      <td>24.0</td>\n",
       "      <td>0</td>\n",
       "      <td>0</td>\n",
       "      <td>13.000</td>\n",
       "    </tr>\n",
       "    <tr>\n",
       "      <th>130</th>\n",
       "      <td>3</td>\n",
       "      <td>Ekstrom, Mr. Johan</td>\n",
       "      <td>male</td>\n",
       "      <td>45.0</td>\n",
       "      <td>0</td>\n",
       "      <td>0</td>\n",
       "      <td>6.975</td>\n",
       "    </tr>\n",
       "    <tr>\n",
       "      <th>91</th>\n",
       "      <td>3</td>\n",
       "      <td>Christmann, Mr. Emil</td>\n",
       "      <td>male</td>\n",
       "      <td>29.0</td>\n",
       "      <td>0</td>\n",
       "      <td>0</td>\n",
       "      <td>8.050</td>\n",
       "    </tr>\n",
       "    <tr>\n",
       "      <th>231</th>\n",
       "      <td>1</td>\n",
       "      <td>Harris, Mrs. Henry Birkhardt (Irene Wallach)</td>\n",
       "      <td>female</td>\n",
       "      <td>35.0</td>\n",
       "      <td>1</td>\n",
       "      <td>0</td>\n",
       "      <td>83.475</td>\n",
       "    </tr>\n",
       "    <tr>\n",
       "      <th>127</th>\n",
       "      <td>3</td>\n",
       "      <td>McMahon, Mr. Martin</td>\n",
       "      <td>male</td>\n",
       "      <td>NaN</td>\n",
       "      <td>0</td>\n",
       "      <td>0</td>\n",
       "      <td>7.750</td>\n",
       "    </tr>\n",
       "  </tbody>\n",
       "</table>\n",
       "</div>"
      ],
      "text/plain": [
       "             Pclass                                          Name     Sex  \\\n",
       "PassengerId                                                                 \n",
       "200               2        Yrois, Miss. Henriette (\"Mrs Harbeck\")  female   \n",
       "130               3                            Ekstrom, Mr. Johan    male   \n",
       "91                3                          Christmann, Mr. Emil    male   \n",
       "231               1  Harris, Mrs. Henry Birkhardt (Irene Wallach)  female   \n",
       "127               3                           McMahon, Mr. Martin    male   \n",
       "\n",
       "              Age  SibSp  Parch    Fare  \n",
       "PassengerId                              \n",
       "200          24.0      0      0  13.000  \n",
       "130          45.0      0      0   6.975  \n",
       "91           29.0      0      0   8.050  \n",
       "231          35.0      1      0  83.475  \n",
       "127           NaN      0      0   7.750  "
      ]
     },
     "execution_count": 4,
     "metadata": {},
     "output_type": "execute_result"
    }
   ],
   "source": [
    "X_train.head()"
   ]
  },
  {
   "cell_type": "markdown",
   "metadata": {
    "papermill": {
     "duration": 0.017648,
     "end_time": "2023-03-24T20:31:35.908880",
     "exception": false,
     "start_time": "2023-03-24T20:31:35.891232",
     "status": "completed"
    },
    "tags": []
   },
   "source": [
    "# Function Transformers  <a id='functiontransformers'></a> "
   ]
  },
  {
   "cell_type": "markdown",
   "metadata": {
    "papermill": {
     "duration": 0.017842,
     "end_time": "2023-03-24T20:31:35.945116",
     "exception": false,
     "start_time": "2023-03-24T20:31:35.927274",
     "status": "completed"
    },
    "tags": []
   },
   "source": [
    "<div class=\"alert alert-block alert-info\">First, let's see how to define a 'function transformer.' We can then fit our dataset with the function transformers to see the result.\n",
    "</div>"
   ]
  },
  {
   "cell_type": "code",
   "execution_count": 5,
   "metadata": {
    "execution": {
     "iopub.execute_input": "2023-03-24T20:31:35.984884Z",
     "iopub.status.busy": "2023-03-24T20:31:35.983903Z",
     "iopub.status.idle": "2023-03-24T20:31:35.988599Z",
     "shell.execute_reply": "2023-03-24T20:31:35.989199Z",
     "shell.execute_reply.started": "2022-09-27T11:18:42.996904Z"
    },
    "papermill": {
     "duration": 0.026382,
     "end_time": "2023-03-24T20:31:35.989357",
     "exception": false,
     "start_time": "2023-03-24T20:31:35.962975",
     "status": "completed"
    },
    "tags": []
   },
   "outputs": [],
   "source": [
    "# Define the custom transformers for the pipeline\n",
    "age_transformer = FunctionTransformer(transform_age)\n",
    "family_transformer = FunctionTransformer(transform_family)"
   ]
  },
  {
   "cell_type": "code",
   "execution_count": 6,
   "metadata": {
    "execution": {
     "iopub.execute_input": "2023-03-24T20:31:36.029331Z",
     "iopub.status.busy": "2023-03-24T20:31:36.028285Z",
     "iopub.status.idle": "2023-03-24T20:31:36.679119Z",
     "shell.execute_reply": "2023-03-24T20:31:36.679701Z",
     "shell.execute_reply.started": "2022-09-27T11:18:43.003734Z"
    },
    "papermill": {
     "duration": 0.672735,
     "end_time": "2023-03-24T20:31:36.679862",
     "exception": false,
     "start_time": "2023-03-24T20:31:36.007127",
     "status": "completed"
    },
    "tags": []
   },
   "outputs": [],
   "source": [
    "X_temp = age_transformer.fit_transform(X)\n",
    "X_temp = family_transformer.fit_transform(X_temp)"
   ]
  },
  {
   "cell_type": "code",
   "execution_count": 7,
   "metadata": {
    "execution": {
     "iopub.execute_input": "2023-03-24T20:31:36.719500Z",
     "iopub.status.busy": "2023-03-24T20:31:36.718486Z",
     "iopub.status.idle": "2023-03-24T20:31:36.731791Z",
     "shell.execute_reply": "2023-03-24T20:31:36.731161Z",
     "shell.execute_reply.started": "2022-09-27T11:18:43.657940Z"
    },
    "papermill": {
     "duration": 0.034279,
     "end_time": "2023-03-24T20:31:36.731918",
     "exception": false,
     "start_time": "2023-03-24T20:31:36.697639",
     "status": "completed"
    },
    "tags": []
   },
   "outputs": [
    {
     "data": {
      "text/html": [
       "<div>\n",
       "<style scoped>\n",
       "    .dataframe tbody tr th:only-of-type {\n",
       "        vertical-align: middle;\n",
       "    }\n",
       "\n",
       "    .dataframe tbody tr th {\n",
       "        vertical-align: top;\n",
       "    }\n",
       "\n",
       "    .dataframe thead th {\n",
       "        text-align: right;\n",
       "    }\n",
       "</style>\n",
       "<table border=\"1\" class=\"dataframe\">\n",
       "  <thead>\n",
       "    <tr style=\"text-align: right;\">\n",
       "      <th></th>\n",
       "      <th>Pclass</th>\n",
       "      <th>Sex</th>\n",
       "      <th>Fare</th>\n",
       "      <th>Age</th>\n",
       "      <th>Fcount</th>\n",
       "    </tr>\n",
       "    <tr>\n",
       "      <th>PassengerId</th>\n",
       "      <th></th>\n",
       "      <th></th>\n",
       "      <th></th>\n",
       "      <th></th>\n",
       "      <th></th>\n",
       "    </tr>\n",
       "  </thead>\n",
       "  <tbody>\n",
       "    <tr>\n",
       "      <th>6</th>\n",
       "      <td>3</td>\n",
       "      <td>male</td>\n",
       "      <td>8.4583</td>\n",
       "      <td>Adult</td>\n",
       "      <td>0</td>\n",
       "    </tr>\n",
       "    <tr>\n",
       "      <th>7</th>\n",
       "      <td>1</td>\n",
       "      <td>male</td>\n",
       "      <td>51.8625</td>\n",
       "      <td>Adult</td>\n",
       "      <td>0</td>\n",
       "    </tr>\n",
       "    <tr>\n",
       "      <th>8</th>\n",
       "      <td>3</td>\n",
       "      <td>male</td>\n",
       "      <td>21.0750</td>\n",
       "      <td>Child</td>\n",
       "      <td>4</td>\n",
       "    </tr>\n",
       "    <tr>\n",
       "      <th>9</th>\n",
       "      <td>3</td>\n",
       "      <td>female</td>\n",
       "      <td>11.1333</td>\n",
       "      <td>Adult</td>\n",
       "      <td>2</td>\n",
       "    </tr>\n",
       "    <tr>\n",
       "      <th>10</th>\n",
       "      <td>2</td>\n",
       "      <td>female</td>\n",
       "      <td>30.0708</td>\n",
       "      <td>Child</td>\n",
       "      <td>1</td>\n",
       "    </tr>\n",
       "  </tbody>\n",
       "</table>\n",
       "</div>"
      ],
      "text/plain": [
       "             Pclass     Sex     Fare    Age  Fcount\n",
       "PassengerId                                        \n",
       "6                 3    male   8.4583  Adult       0\n",
       "7                 1    male  51.8625  Adult       0\n",
       "8                 3    male  21.0750  Child       4\n",
       "9                 3  female  11.1333  Adult       2\n",
       "10                2  female  30.0708  Child       1"
      ]
     },
     "execution_count": 7,
     "metadata": {},
     "output_type": "execute_result"
    }
   ],
   "source": [
    "X_temp[5:10]"
   ]
  },
  {
   "cell_type": "markdown",
   "metadata": {
    "papermill": {
     "duration": 0.017835,
     "end_time": "2023-03-24T20:31:36.768056",
     "exception": false,
     "start_time": "2023-03-24T20:31:36.750221",
     "status": "completed"
    },
    "tags": []
   },
   "source": [
    "## Preprocessing   <a id='preprocessing'></a>   "
   ]
  },
  {
   "cell_type": "markdown",
   "metadata": {
    "papermill": {
     "duration": 0.017833,
     "end_time": "2023-03-24T20:31:36.804258",
     "exception": false,
     "start_time": "2023-03-24T20:31:36.786425",
     "status": "completed"
    },
    "tags": []
   },
   "source": [
    "<div class=\"alert alert-block alert-info\">Although we have already defined the function transformers above, we will start from scratch and redefine them in this part for pipelines. This is for the convenience of those who want to copy and paste the code.\n",
    "</div>"
   ]
  },
  {
   "cell_type": "code",
   "execution_count": 8,
   "metadata": {
    "execution": {
     "iopub.execute_input": "2023-03-24T20:31:36.848932Z",
     "iopub.status.busy": "2023-03-24T20:31:36.844961Z",
     "iopub.status.idle": "2023-03-24T20:31:36.851869Z",
     "shell.execute_reply": "2023-03-24T20:31:36.851323Z",
     "shell.execute_reply.started": "2022-09-27T11:18:43.673472Z"
    },
    "papermill": {
     "duration": 0.029531,
     "end_time": "2023-03-24T20:31:36.852002",
     "exception": false,
     "start_time": "2023-03-24T20:31:36.822471",
     "status": "completed"
    },
    "tags": []
   },
   "outputs": [],
   "source": [
    "# Define transformers\n",
    "\n",
    "# Define the custom transformers for the pipeline\n",
    "age_transformer = FunctionTransformer(transform_age)\n",
    "family_transformer = FunctionTransformer(transform_family)\n",
    "\n",
    "# Define transformer for categorical columns using a pipeline\n",
    "cat_cols = [\"Sex\", \"Age\", \"Pclass\"]\n",
    "categorical_transformer = Pipeline(steps=[('onehot', OneHotEncoder(drop = 'first', sparse = False))\n",
    "])\n",
    "\n",
    "# Define column transformer for categorical data\n",
    "column_transformer = ColumnTransformer(transformers=[('cat', categorical_transformer, cat_cols)], remainder='passthrough')"
   ]
  },
  {
   "cell_type": "code",
   "execution_count": 9,
   "metadata": {
    "execution": {
     "iopub.execute_input": "2023-03-24T20:31:36.895678Z",
     "iopub.status.busy": "2023-03-24T20:31:36.894777Z",
     "iopub.status.idle": "2023-03-24T20:31:36.897512Z",
     "shell.execute_reply": "2023-03-24T20:31:36.896997Z",
     "shell.execute_reply.started": "2022-09-27T11:18:43.681235Z"
    },
    "papermill": {
     "duration": 0.026601,
     "end_time": "2023-03-24T20:31:36.897657",
     "exception": false,
     "start_time": "2023-03-24T20:31:36.871056",
     "status": "completed"
    },
    "tags": []
   },
   "outputs": [],
   "source": [
    "# Define Model\n",
    "model = XGBClassifier(seed=42)"
   ]
  },
  {
   "cell_type": "code",
   "execution_count": 10,
   "metadata": {
    "execution": {
     "iopub.execute_input": "2023-03-24T20:31:36.981722Z",
     "iopub.status.busy": "2023-03-24T20:31:36.942126Z",
     "iopub.status.idle": "2023-03-24T20:31:37.619557Z",
     "shell.execute_reply": "2023-03-24T20:31:37.620065Z",
     "shell.execute_reply.started": "2022-09-27T11:18:43.697577Z"
    },
    "papermill": {
     "duration": 0.704096,
     "end_time": "2023-03-24T20:31:37.620221",
     "exception": false,
     "start_time": "2023-03-24T20:31:36.916125",
     "status": "completed"
    },
    "tags": []
   },
   "outputs": [
    {
     "name": "stdout",
     "output_type": "stream",
     "text": [
      "We have 6 features left\n"
     ]
    }
   ],
   "source": [
    "# Define preprocessor\n",
    "preprocessor = Pipeline(steps=[('age', age_transformer),\n",
    "                              ('family', family_transformer),\n",
    "                              ('column', column_transformer)])\n",
    "\n",
    "# Make a copy to avoid changing original data \n",
    "X_valid_eval=X_valid.copy()\n",
    "\n",
    "# Preprocessing of validation data\n",
    "X_valid_eval = preprocessor.fit(X_train, y_train).transform (X_valid_eval)\n",
    "\n",
    "# Display the number of remaining columns after transformation \n",
    "print(\"We have\", X_valid_eval.shape[1], \"features left\")"
   ]
  },
  {
   "cell_type": "code",
   "execution_count": 11,
   "metadata": {
    "execution": {
     "iopub.execute_input": "2023-03-24T20:31:37.666269Z",
     "iopub.status.busy": "2023-03-24T20:31:37.665069Z",
     "iopub.status.idle": "2023-03-24T20:31:37.670077Z",
     "shell.execute_reply": "2023-03-24T20:31:37.669524Z",
     "shell.execute_reply.started": "2022-09-27T11:18:44.393246Z"
    },
    "papermill": {
     "duration": 0.031364,
     "end_time": "2023-03-24T20:31:37.670218",
     "exception": false,
     "start_time": "2023-03-24T20:31:37.638854",
     "status": "completed"
    },
    "tags": []
   },
   "outputs": [],
   "source": [
    "# Create and Evaluate the Pipeline\n",
    "# Bundle preprocessing and modeling code in a pipeline\n",
    "my_pipeline = Pipeline(steps=[('preprocessor', preprocessor),\n",
    "                              ('model', model)\n",
    "                             ])"
   ]
  },
  {
   "cell_type": "code",
   "execution_count": 12,
   "metadata": {
    "execution": {
     "iopub.execute_input": "2023-03-24T20:31:37.723983Z",
     "iopub.status.busy": "2023-03-24T20:31:37.722835Z",
     "iopub.status.idle": "2023-03-24T20:31:37.726101Z",
     "shell.execute_reply": "2023-03-24T20:31:37.725411Z",
     "shell.execute_reply.started": "2022-09-27T11:18:44.400318Z"
    },
    "papermill": {
     "duration": 0.035809,
     "end_time": "2023-03-24T20:31:37.726237",
     "exception": false,
     "start_time": "2023-03-24T20:31:37.690428",
     "status": "completed"
    },
    "tags": []
   },
   "outputs": [],
   "source": [
    "# Preprocessing of training data, fit model \n",
    "X_cv = X.copy()\n",
    "X_sub = X_test.copy()"
   ]
  },
  {
   "cell_type": "markdown",
   "metadata": {
    "papermill": {
     "duration": 0.019612,
     "end_time": "2023-03-24T20:31:37.772190",
     "exception": false,
     "start_time": "2023-03-24T20:31:37.752578",
     "status": "completed"
    },
    "tags": []
   },
   "source": [
    "# Cross-validation <a id='cross-validation'></a>"
   ]
  },
  {
   "cell_type": "code",
   "execution_count": 13,
   "metadata": {
    "execution": {
     "iopub.execute_input": "2023-03-24T20:31:37.817033Z",
     "iopub.status.busy": "2023-03-24T20:31:37.816321Z",
     "iopub.status.idle": "2023-03-24T20:31:41.593365Z",
     "shell.execute_reply": "2023-03-24T20:31:41.594601Z",
     "shell.execute_reply.started": "2022-09-27T11:18:44.413929Z"
    },
    "papermill": {
     "duration": 3.80369,
     "end_time": "2023-03-24T20:31:41.594932",
     "exception": false,
     "start_time": "2023-03-24T20:31:37.791242",
     "status": "completed"
    },
    "tags": []
   },
   "outputs": [
    {
     "name": "stdout",
     "output_type": "stream",
     "text": [
      "MAE score:\n",
      " [0.79888268 0.79775281 0.84831461 0.84269663 0.85393258]\n",
      "MAE mean: 0.8283158621555458\n",
      "MAE std: 0.024752313171335374\n"
     ]
    }
   ],
   "source": [
    "# Cross-validation\n",
    "scores = cross_val_score(my_pipeline, X_cv, y,\n",
    "                              cv=5,\n",
    "                              scoring='accuracy')\n",
    "\n",
    "print(\"MAE score:\\n\", scores)\n",
    "print(\"MAE mean: {}\".format(scores.mean()))\n",
    "print(\"MAE std: {}\".format(scores.std()))"
   ]
  },
  {
   "cell_type": "markdown",
   "metadata": {
    "papermill": {
     "duration": 0.023815,
     "end_time": "2023-03-24T20:31:41.643856",
     "exception": false,
     "start_time": "2023-03-24T20:31:41.620041",
     "status": "completed"
    },
    "tags": []
   },
   "source": [
    "# Prediction   <a id='prediction'></a>"
   ]
  },
  {
   "cell_type": "code",
   "execution_count": 14,
   "metadata": {
    "execution": {
     "iopub.execute_input": "2023-03-24T20:31:41.704895Z",
     "iopub.status.busy": "2023-03-24T20:31:41.704088Z",
     "iopub.status.idle": "2023-03-24T20:31:42.745362Z",
     "shell.execute_reply": "2023-03-24T20:31:42.746029Z",
     "shell.execute_reply.started": "2022-09-27T11:18:48.168318Z"
    },
    "papermill": {
     "duration": 1.077864,
     "end_time": "2023-03-24T20:31:42.746216",
     "exception": false,
     "start_time": "2023-03-24T20:31:41.668352",
     "status": "completed"
    },
    "tags": []
   },
   "outputs": [],
   "source": [
    "# Preprocessing of training data, fit model \n",
    "my_pipeline.fit(X_cv, y)\n",
    "\n",
    "# Get predictions\n",
    "preds = my_pipeline.predict(X_sub)"
   ]
  },
  {
   "cell_type": "markdown",
   "metadata": {
    "papermill": {
     "duration": 0.023916,
     "end_time": "2023-03-24T20:31:42.794430",
     "exception": false,
     "start_time": "2023-03-24T20:31:42.770514",
     "status": "completed"
    },
    "tags": []
   },
   "source": [
    "# Saving and submission   <a id='saving'></a>"
   ]
  },
  {
   "cell_type": "code",
   "execution_count": 15,
   "metadata": {
    "execution": {
     "iopub.execute_input": "2023-03-24T20:31:42.849541Z",
     "iopub.status.busy": "2023-03-24T20:31:42.848738Z",
     "iopub.status.idle": "2023-03-24T20:31:43.092079Z",
     "shell.execute_reply": "2023-03-24T20:31:43.092720Z",
     "shell.execute_reply.started": "2022-09-27T11:18:49.227411Z"
    },
    "papermill": {
     "duration": 0.274177,
     "end_time": "2023-03-24T20:31:43.092887",
     "exception": false,
     "start_time": "2023-03-24T20:31:42.818710",
     "status": "completed"
    },
    "tags": []
   },
   "outputs": [
    {
     "name": "stdout",
     "output_type": "stream",
     "text": [
      "Submission file is saved\n"
     ]
    }
   ],
   "source": [
    "# Use predefined utility function\n",
    "save_file(preds)"
   ]
  },
  {
   "cell_type": "markdown",
   "metadata": {
    "papermill": {
     "duration": 0.019303,
     "end_time": "2023-03-24T20:31:43.131297",
     "exception": false,
     "start_time": "2023-03-24T20:31:43.111994",
     "status": "completed"
    },
    "tags": []
   },
   "source": [
    "# References   <a id='references'></a>\n",
    "* [10-simple-hacks-to-speed-up-your-data-analysis - Parul Pandey](https://www.kaggle.com/parulpandey/10-simple-hacks-to-speed-up-your-data-analysis)\n",
    "* [Dataset Transformations - Scikit-learn](https://scikit-learn.org/stable/data_transforms.html)\n",
    "* [Intermediate Machine Learning Course - Pipelines](https://www.kaggle.com/alexisbcook/pipelines)\n",
    "* [Kaggle Learn](https://www.kaggle.com/learn/overview)"
   ]
  }
 ],
 "metadata": {
  "kernelspec": {
   "display_name": "Python 3",
   "language": "python",
   "name": "python3"
  },
  "language_info": {
   "codemirror_mode": {
    "name": "ipython",
    "version": 3
   },
   "file_extension": ".py",
   "mimetype": "text/x-python",
   "name": "python",
   "nbconvert_exporter": "python",
   "pygments_lexer": "ipython3",
   "version": "3.7.6"
  },
  "papermill": {
   "duration": 14.051258,
   "end_time": "2023-03-24T20:31:43.257740",
   "environment_variables": {},
   "exception": null,
   "input_path": "__notebook__.ipynb",
   "output_path": "__notebook__.ipynb",
   "parameters": {},
   "start_time": "2023-03-24T20:31:29.206482",
   "version": "2.1.0"
  }
 },
 "nbformat": 4,
 "nbformat_minor": 4
}
