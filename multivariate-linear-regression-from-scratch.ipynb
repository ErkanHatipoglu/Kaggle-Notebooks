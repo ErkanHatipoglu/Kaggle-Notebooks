{
 "cells": [
  {
   "cell_type": "markdown",
   "id": "7136c401",
   "metadata": {
    "papermill": {
     "duration": 0.007377,
     "end_time": "2022-11-28T18:06:21.699561",
     "exception": false,
     "start_time": "2022-11-28T18:06:21.692184",
     "status": "completed"
    },
    "tags": []
   },
   "source": [
    "# Introduction  <a id='introduction'></a>\n",
    "\n",
    "This notebook contains Python code for a multivariate linear regression task. Multivariate linear regression means linear regression with more than one variable. In addition to Python, we will also use Pandas, Numpy, and Matplotlib libraries. \n",
    "\n",
    "This notebook is greatly inspired by the famous Machine Learning course by [Andrew Ng](https://www.andrewng.org/). As always, all the mistakes, if any, are made by me.\n",
    "\n",
    "Finally, thanks to [@Mohan S Acharya](https://www.kaggle.com/mohansacharya) for this dataset.\n",
    "\n",
    "\n",
    "# Table of Contents\n",
    "* [Introduction](#introduction)\n",
    "* [Helper functios](#functions)\n",
    "* [The Hypothesis](#hypothesis)\n",
    "* [The Cost Function](#cost)\n",
    "* [Gradient Descent](#gradient)\n",
    "* [Feature Normalization](#normalization)\n",
    "* [Loading Data](#getdata)\n",
    "* [Model Training](#training)\n",
    "* [Model Validation](#validation)\n",
    "* [Conclusion](#conclusion)\n",
    "* [References](#references)"
   ]
  },
  {
   "cell_type": "code",
   "execution_count": 1,
   "id": "6eb1d762",
   "metadata": {
    "_cell_guid": "b1076dfc-b9ad-4769-8c92-a6c4dae69d19",
    "_uuid": "8f2839f25d086af736a60e9eeb907d3b93b6e0e5",
    "execution": {
     "iopub.execute_input": "2022-11-28T18:06:21.713890Z",
     "iopub.status.busy": "2022-11-28T18:06:21.713504Z",
     "iopub.status.idle": "2022-11-28T18:06:22.831620Z",
     "shell.execute_reply": "2022-11-28T18:06:22.830662Z"
    },
    "papermill": {
     "duration": 1.128423,
     "end_time": "2022-11-28T18:06:22.834254",
     "exception": false,
     "start_time": "2022-11-28T18:06:21.705831",
     "status": "completed"
    },
    "tags": []
   },
   "outputs": [
    {
     "name": "stdout",
     "output_type": "stream",
     "text": [
      "/kaggle/input/graduate-admissions/Admission_Predict.csv\n",
      "/kaggle/input/graduate-admissions/Admission_Predict_Ver1.1.csv\n"
     ]
    }
   ],
   "source": [
    "# This Python 3 environment comes with many helpful analytics libraries installed\n",
    "# It is defined by the kaggle/python Docker image: https://github.com/kaggle/docker-python\n",
    "# For example, here's several helpful packages to load\n",
    "\n",
    "import numpy as np # linear algebra\n",
    "import pandas as pd # data processing, CSV file I/O (e.g. pd.read_csv)\n",
    "\n",
    "# Input data files are available in the read-only \"../input/\" directory\n",
    "# For example, running this (by clicking run or pressing Shift+Enter) will list all files under the input directory\n",
    "\n",
    "import os\n",
    "for dirname, _, filenames in os.walk('/kaggle/input'):\n",
    "    for filename in filenames:\n",
    "        print(os.path.join(dirname, filename))\n",
    "\n",
    "# You can write up to 20GB to the current directory (/kaggle/working/) that gets preserved as output when you create a version using \"Save & Run All\" \n",
    "# You can also write temporary files to /kaggle/temp/, but they won't be saved outside of the current session\n",
    "\n",
    "from sklearn.model_selection import train_test_split"
   ]
  },
  {
   "cell_type": "markdown",
   "id": "6bfb3945",
   "metadata": {
    "papermill": {
     "duration": 0.005649,
     "end_time": "2022-11-28T18:06:22.846141",
     "exception": false,
     "start_time": "2022-11-28T18:06:22.840492",
     "status": "completed"
    },
    "tags": []
   },
   "source": [
    "# Helper Functions   <a id='functions'></a>   "
   ]
  },
  {
   "cell_type": "markdown",
   "id": "53579742",
   "metadata": {
    "papermill": {
     "duration": 0.00554,
     "end_time": "2022-11-28T18:06:22.857329",
     "exception": false,
     "start_time": "2022-11-28T18:06:22.851789",
     "status": "completed"
    },
    "tags": []
   },
   "source": [
    "<div class=\"alert alert-block alert-info\">\n",
    "<b>Tip:</b> Tip: We will use some helper functions throughout the notebook. Collecting them in one place is a good idea, making the code more organized. First, we will define and explain those functions and then use them in our code.\n",
    "</div>"
   ]
  },
  {
   "cell_type": "markdown",
   "id": "2fa8d46d",
   "metadata": {
    "papermill": {
     "duration": 0.005521,
     "end_time": "2022-11-28T18:06:22.870165",
     "exception": false,
     "start_time": "2022-11-28T18:06:22.864644",
     "status": "completed"
    },
    "tags": []
   },
   "source": [
    "# The  Hypothesis   <a id='hypothesis'></a>   "
   ]
  },
  {
   "cell_type": "markdown",
   "id": "61565978",
   "metadata": {
    "papermill": {
     "duration": 0.005651,
     "end_time": "2022-11-28T18:06:22.881645",
     "exception": false,
     "start_time": "2022-11-28T18:06:22.875994",
     "status": "completed"
    },
    "tags": []
   },
   "source": [
    "The Hypotehsis Content"
   ]
  },
  {
   "cell_type": "code",
   "execution_count": 2,
   "id": "20f2501c",
   "metadata": {
    "execution": {
     "iopub.execute_input": "2022-11-28T18:06:22.895468Z",
     "iopub.status.busy": "2022-11-28T18:06:22.894807Z",
     "iopub.status.idle": "2022-11-28T18:06:22.899295Z",
     "shell.execute_reply": "2022-11-28T18:06:22.898598Z"
    },
    "papermill": {
     "duration": 0.014008,
     "end_time": "2022-11-28T18:06:22.901454",
     "exception": false,
     "start_time": "2022-11-28T18:06:22.887446",
     "status": "completed"
    },
    "tags": []
   },
   "outputs": [],
   "source": [
    "# The hypothesis\n",
    "def h(x, theta):\n",
    "    \"\"\"\n",
    "    calculates the predicted values (or predicted targets) for a given set of input and theta vectors.\n",
    "    :param x: inputs (feature values) - data frame of floats \n",
    "    :param theta: theta vector (weights) - Numpy array of floats\n",
    "    :return: predicted targets - Numpy array of floats\n",
    "    \n",
    "    \"\"\"\n",
    "    return np.dot(x, theta)"
   ]
  },
  {
   "cell_type": "markdown",
   "id": "83a93bca",
   "metadata": {
    "papermill": {
     "duration": 0.005542,
     "end_time": "2022-11-28T18:06:22.914234",
     "exception": false,
     "start_time": "2022-11-28T18:06:22.908692",
     "status": "completed"
    },
    "tags": []
   },
   "source": [
    "# The  Cost Function   <a id='cost'></a> "
   ]
  },
  {
   "cell_type": "markdown",
   "id": "96493c19",
   "metadata": {
    "papermill": {
     "duration": 0.005501,
     "end_time": "2022-11-28T18:06:22.925396",
     "exception": false,
     "start_time": "2022-11-28T18:06:22.919895",
     "status": "completed"
    },
    "tags": []
   },
   "source": [
    "The Cost function Content"
   ]
  },
  {
   "cell_type": "code",
   "execution_count": 3,
   "id": "20462e6f",
   "metadata": {
    "execution": {
     "iopub.execute_input": "2022-11-28T18:06:22.938888Z",
     "iopub.status.busy": "2022-11-28T18:06:22.938252Z",
     "iopub.status.idle": "2022-11-28T18:06:22.943771Z",
     "shell.execute_reply": "2022-11-28T18:06:22.943062Z"
    },
    "papermill": {
     "duration": 0.01504,
     "end_time": "2022-11-28T18:06:22.946031",
     "exception": false,
     "start_time": "2022-11-28T18:06:22.930991",
     "status": "completed"
    },
    "tags": []
   },
   "outputs": [],
   "source": [
    "# The cost function\n",
    "\n",
    "def J(X,y,theta):\n",
    "    \"\"\"\n",
    "     Calculates the total error using squared error function.\n",
    "    :param X: inputs (feature values) - data frame of floats\n",
    "    :param y: outputs (actual target values) - Numpy array of floats\n",
    "    :param theta: theta vector (weights) - Numpy array of floats\n",
    "    :return: total error - float\n",
    "    \n",
    "    \"\"\"\n",
    "    # Calculate number of examples\n",
    "    m = len(X)\n",
    "    \n",
    "    # Calculate the constant\n",
    "    c = 1/(2 * m)\n",
    "       \n",
    "    # Calculate the array of errors\n",
    "    temp_0 = h(X, theta) - y.reshape(-1)\n",
    "\n",
    "    # Calculate the transpose of array of errors\n",
    "    temp_1 = temp_0.transpose()\n",
    "\n",
    "    # Calculate the dot product \n",
    "    temp_2 = np.dot(temp_1, temp_0) \n",
    "\n",
    "    return  c * temp_2"
   ]
  },
  {
   "cell_type": "markdown",
   "id": "d459606a",
   "metadata": {
    "papermill": {
     "duration": 0.005821,
     "end_time": "2022-11-28T18:06:22.957784",
     "exception": false,
     "start_time": "2022-11-28T18:06:22.951963",
     "status": "completed"
    },
    "tags": []
   },
   "source": [
    "# Gradient Descent   <a id='gradient'></a> "
   ]
  },
  {
   "cell_type": "markdown",
   "id": "487f7f86",
   "metadata": {
    "papermill": {
     "duration": 0.005609,
     "end_time": "2022-11-28T18:06:22.969240",
     "exception": false,
     "start_time": "2022-11-28T18:06:22.963631",
     "status": "completed"
    },
    "tags": []
   },
   "source": [
    "The gradient Descent content"
   ]
  },
  {
   "cell_type": "code",
   "execution_count": 4,
   "id": "c5b1d5ce",
   "metadata": {
    "execution": {
     "iopub.execute_input": "2022-11-28T18:06:22.982737Z",
     "iopub.status.busy": "2022-11-28T18:06:22.982375Z",
     "iopub.status.idle": "2022-11-28T18:06:22.989076Z",
     "shell.execute_reply": "2022-11-28T18:06:22.988341Z"
    },
    "papermill": {
     "duration": 0.015715,
     "end_time": "2022-11-28T18:06:22.990899",
     "exception": false,
     "start_time": "2022-11-28T18:06:22.975184",
     "status": "completed"
    },
    "tags": []
   },
   "outputs": [],
   "source": [
    "# Gradient descent function\n",
    "def gradient(X, y, theta, alpha):\n",
    "    \"\"\"\n",
    "     calculates the gradient descent.\n",
    "    :param X: inputs (feature values) - data frame of floats\n",
    "    :param y: outputs (actual target values) - Numpy array of floats\n",
    "    :param theta: theta vector (weights) - Numpy array of floats\n",
    "    :param alpha: learning rate\n",
    "    :return: new theta - Numpy array of floats\n",
    "    \n",
    "    \"\"\"\n",
    "    # Calculate number of examples\n",
    "    m = len(X)\n",
    "    \n",
    "    # Calculate the constant\n",
    "    c =  alpha/ m\n",
    "        \n",
    "    # calculate the transpose of X\n",
    "    temp_0 = X.transpose()\n",
    "        \n",
    "    # Calculate the array of errors\n",
    "    temp_1 = h(X, theta) - y.reshape(-1) \n",
    "        \n",
    "    # Calculate the dot product \n",
    "    temp_2 = np.dot(temp_0, temp_1)\n",
    "        \n",
    "    return theta - (c * temp_2)"
   ]
  },
  {
   "cell_type": "markdown",
   "id": "42b6d136",
   "metadata": {
    "papermill": {
     "duration": 0.005572,
     "end_time": "2022-11-28T18:06:23.002402",
     "exception": false,
     "start_time": "2022-11-28T18:06:22.996830",
     "status": "completed"
    },
    "tags": []
   },
   "source": [
    "# Feature Normalization  <a id='normalization'></a>"
   ]
  },
  {
   "cell_type": "code",
   "execution_count": 5,
   "id": "5b24afa1",
   "metadata": {
    "execution": {
     "iopub.execute_input": "2022-11-28T18:06:23.016466Z",
     "iopub.status.busy": "2022-11-28T18:06:23.015218Z",
     "iopub.status.idle": "2022-11-28T18:06:23.020716Z",
     "shell.execute_reply": "2022-11-28T18:06:23.019348Z"
    },
    "papermill": {
     "duration": 0.014512,
     "end_time": "2022-11-28T18:06:23.022626",
     "exception": false,
     "start_time": "2022-11-28T18:06:23.008114",
     "status": "completed"
    },
    "tags": []
   },
   "outputs": [],
   "source": [
    "# the feature normalization code"
   ]
  },
  {
   "cell_type": "markdown",
   "id": "fdeebf56",
   "metadata": {
    "papermill": {
     "duration": 0.005692,
     "end_time": "2022-11-28T18:06:23.034348",
     "exception": false,
     "start_time": "2022-11-28T18:06:23.028656",
     "status": "completed"
    },
    "tags": []
   },
   "source": [
    "# Loading Data   <a id='getdata'></a> "
   ]
  },
  {
   "cell_type": "code",
   "execution_count": 6,
   "id": "0e2a6788",
   "metadata": {
    "execution": {
     "iopub.execute_input": "2022-11-28T18:06:23.047629Z",
     "iopub.status.busy": "2022-11-28T18:06:23.047246Z",
     "iopub.status.idle": "2022-11-28T18:06:23.101385Z",
     "shell.execute_reply": "2022-11-28T18:06:23.099856Z"
    },
    "papermill": {
     "duration": 0.063407,
     "end_time": "2022-11-28T18:06:23.103500",
     "exception": false,
     "start_time": "2022-11-28T18:06:23.040093",
     "status": "completed"
    },
    "tags": []
   },
   "outputs": [
    {
     "data": {
      "text/html": [
       "<div>\n",
       "<style scoped>\n",
       "    .dataframe tbody tr th:only-of-type {\n",
       "        vertical-align: middle;\n",
       "    }\n",
       "\n",
       "    .dataframe tbody tr th {\n",
       "        vertical-align: top;\n",
       "    }\n",
       "\n",
       "    .dataframe thead th {\n",
       "        text-align: right;\n",
       "    }\n",
       "</style>\n",
       "<table border=\"1\" class=\"dataframe\">\n",
       "  <thead>\n",
       "    <tr style=\"text-align: right;\">\n",
       "      <th></th>\n",
       "      <th>GRE Score</th>\n",
       "      <th>TOEFL Score</th>\n",
       "      <th>University Rating</th>\n",
       "      <th>SOP</th>\n",
       "      <th>LOR</th>\n",
       "      <th>CGPA</th>\n",
       "      <th>Research</th>\n",
       "    </tr>\n",
       "  </thead>\n",
       "  <tbody>\n",
       "    <tr>\n",
       "      <th>249</th>\n",
       "      <td>321</td>\n",
       "      <td>111</td>\n",
       "      <td>3</td>\n",
       "      <td>3.5</td>\n",
       "      <td>4.0</td>\n",
       "      <td>8.83</td>\n",
       "      <td>1</td>\n",
       "    </tr>\n",
       "    <tr>\n",
       "      <th>433</th>\n",
       "      <td>316</td>\n",
       "      <td>111</td>\n",
       "      <td>4</td>\n",
       "      <td>4.0</td>\n",
       "      <td>5.0</td>\n",
       "      <td>8.54</td>\n",
       "      <td>0</td>\n",
       "    </tr>\n",
       "    <tr>\n",
       "      <th>19</th>\n",
       "      <td>303</td>\n",
       "      <td>102</td>\n",
       "      <td>3</td>\n",
       "      <td>3.5</td>\n",
       "      <td>3.0</td>\n",
       "      <td>8.50</td>\n",
       "      <td>0</td>\n",
       "    </tr>\n",
       "    <tr>\n",
       "      <th>322</th>\n",
       "      <td>314</td>\n",
       "      <td>107</td>\n",
       "      <td>2</td>\n",
       "      <td>2.5</td>\n",
       "      <td>4.0</td>\n",
       "      <td>8.27</td>\n",
       "      <td>0</td>\n",
       "    </tr>\n",
       "    <tr>\n",
       "      <th>332</th>\n",
       "      <td>308</td>\n",
       "      <td>106</td>\n",
       "      <td>3</td>\n",
       "      <td>3.5</td>\n",
       "      <td>2.5</td>\n",
       "      <td>8.21</td>\n",
       "      <td>1</td>\n",
       "    </tr>\n",
       "  </tbody>\n",
       "</table>\n",
       "</div>"
      ],
      "text/plain": [
       "     GRE Score  TOEFL Score  University Rating  SOP  LOR   CGPA  Research\n",
       "249        321          111                  3  3.5   4.0  8.83         1\n",
       "433        316          111                  4  4.0   5.0  8.54         0\n",
       "19         303          102                  3  3.5   3.0  8.50         0\n",
       "322        314          107                  2  2.5   4.0  8.27         0\n",
       "332        308          106                  3  3.5   2.5  8.21         1"
      ]
     },
     "execution_count": 6,
     "metadata": {},
     "output_type": "execute_result"
    }
   ],
   "source": [
    "# Get the data. Note that there are two versions. We will use the one\n",
    "# with the most rows.\n",
    "\n",
    "train_data = pd.read_csv(\"/kaggle/input/graduate-admissions/Admission_Predict_Ver1.1.csv\")\n",
    "\n",
    "# Set y and X\n",
    "\n",
    "y = pd.DataFrame(data = train_data['Chance of Admit ']).to_numpy()\n",
    "X = train_data.drop(['Chance of Admit ', 'Serial No.'], axis=1) # Chance of Admit is the target variable and Serial No. is the order. So we drop them.\n",
    "\n",
    "# Break off validation set from training data\n",
    "X_train, X_valid, y_train, y_valid = train_test_split(X, y, train_size=0.8, test_size=0.2,\n",
    "                                                                random_state=42)\n",
    "\n",
    "X_train.head()"
   ]
  },
  {
   "cell_type": "code",
   "execution_count": 7,
   "id": "56fa2329",
   "metadata": {
    "execution": {
     "iopub.execute_input": "2022-11-28T18:06:23.118854Z",
     "iopub.status.busy": "2022-11-28T18:06:23.118469Z",
     "iopub.status.idle": "2022-11-28T18:06:23.132534Z",
     "shell.execute_reply": "2022-11-28T18:06:23.131102Z"
    },
    "papermill": {
     "duration": 0.02528,
     "end_time": "2022-11-28T18:06:23.135183",
     "exception": false,
     "start_time": "2022-11-28T18:06:23.109903",
     "status": "completed"
    },
    "tags": []
   },
   "outputs": [
    {
     "data": {
      "text/html": [
       "<div>\n",
       "<style scoped>\n",
       "    .dataframe tbody tr th:only-of-type {\n",
       "        vertical-align: middle;\n",
       "    }\n",
       "\n",
       "    .dataframe tbody tr th {\n",
       "        vertical-align: top;\n",
       "    }\n",
       "\n",
       "    .dataframe thead th {\n",
       "        text-align: right;\n",
       "    }\n",
       "</style>\n",
       "<table border=\"1\" class=\"dataframe\">\n",
       "  <thead>\n",
       "    <tr style=\"text-align: right;\">\n",
       "      <th></th>\n",
       "      <th>GRE Score</th>\n",
       "      <th>TOEFL Score</th>\n",
       "      <th>University Rating</th>\n",
       "      <th>SOP</th>\n",
       "      <th>LOR</th>\n",
       "      <th>CGPA</th>\n",
       "      <th>Research</th>\n",
       "    </tr>\n",
       "  </thead>\n",
       "  <tbody>\n",
       "    <tr>\n",
       "      <th>249</th>\n",
       "      <td>321</td>\n",
       "      <td>111</td>\n",
       "      <td>3</td>\n",
       "      <td>3.5</td>\n",
       "      <td>4.0</td>\n",
       "      <td>8.83</td>\n",
       "      <td>1</td>\n",
       "    </tr>\n",
       "    <tr>\n",
       "      <th>433</th>\n",
       "      <td>316</td>\n",
       "      <td>111</td>\n",
       "      <td>4</td>\n",
       "      <td>4.0</td>\n",
       "      <td>5.0</td>\n",
       "      <td>8.54</td>\n",
       "      <td>0</td>\n",
       "    </tr>\n",
       "    <tr>\n",
       "      <th>19</th>\n",
       "      <td>303</td>\n",
       "      <td>102</td>\n",
       "      <td>3</td>\n",
       "      <td>3.5</td>\n",
       "      <td>3.0</td>\n",
       "      <td>8.50</td>\n",
       "      <td>0</td>\n",
       "    </tr>\n",
       "    <tr>\n",
       "      <th>322</th>\n",
       "      <td>314</td>\n",
       "      <td>107</td>\n",
       "      <td>2</td>\n",
       "      <td>2.5</td>\n",
       "      <td>4.0</td>\n",
       "      <td>8.27</td>\n",
       "      <td>0</td>\n",
       "    </tr>\n",
       "    <tr>\n",
       "      <th>332</th>\n",
       "      <td>308</td>\n",
       "      <td>106</td>\n",
       "      <td>3</td>\n",
       "      <td>3.5</td>\n",
       "      <td>2.5</td>\n",
       "      <td>8.21</td>\n",
       "      <td>1</td>\n",
       "    </tr>\n",
       "  </tbody>\n",
       "</table>\n",
       "</div>"
      ],
      "text/plain": [
       "     GRE Score  TOEFL Score  University Rating  SOP  LOR   CGPA  Research\n",
       "249        321          111                  3  3.5   4.0  8.83         1\n",
       "433        316          111                  4  4.0   5.0  8.54         0\n",
       "19         303          102                  3  3.5   3.0  8.50         0\n",
       "322        314          107                  2  2.5   4.0  8.27         0\n",
       "332        308          106                  3  3.5   2.5  8.21         1"
      ]
     },
     "execution_count": 7,
     "metadata": {},
     "output_type": "execute_result"
    }
   ],
   "source": [
    "X_train.head()"
   ]
  },
  {
   "cell_type": "code",
   "execution_count": 8,
   "id": "acd317d6",
   "metadata": {
    "execution": {
     "iopub.execute_input": "2022-11-28T18:06:23.149977Z",
     "iopub.status.busy": "2022-11-28T18:06:23.149621Z",
     "iopub.status.idle": "2022-11-28T18:06:23.156931Z",
     "shell.execute_reply": "2022-11-28T18:06:23.155432Z"
    },
    "papermill": {
     "duration": 0.017593,
     "end_time": "2022-11-28T18:06:23.159403",
     "exception": false,
     "start_time": "2022-11-28T18:06:23.141810",
     "status": "completed"
    },
    "tags": []
   },
   "outputs": [],
   "source": [
    "# Make a list of ones\n",
    "ones = [1] * len(X_train)\n",
    "\n",
    "# Insert ones to the fist column since\n",
    "# X_0 for all training examples should\n",
    "# be one\n",
    "X_train.insert(0, \"X_0\", ones, True)\n",
    "\n",
    "# Select zero vector for initial theta\n",
    "theta = [0] * len(X_train.axes[1])\n",
    "\n",
    "# set learning rate \n",
    "alpha = 0.00001"
   ]
  },
  {
   "cell_type": "code",
   "execution_count": 9,
   "id": "c94e3954",
   "metadata": {
    "execution": {
     "iopub.execute_input": "2022-11-28T18:06:23.173960Z",
     "iopub.status.busy": "2022-11-28T18:06:23.173575Z",
     "iopub.status.idle": "2022-11-28T18:06:23.183180Z",
     "shell.execute_reply": "2022-11-28T18:06:23.181724Z"
    },
    "papermill": {
     "duration": 0.019398,
     "end_time": "2022-11-28T18:06:23.185404",
     "exception": false,
     "start_time": "2022-11-28T18:06:23.166006",
     "status": "completed"
    },
    "tags": []
   },
   "outputs": [
    {
     "data": {
      "text/plain": [
       "0.272069125"
      ]
     },
     "execution_count": 9,
     "metadata": {},
     "output_type": "execute_result"
    }
   ],
   "source": [
    "# Calculate the cost value\n",
    "cost_value = J(X_train, y_train, theta) \n",
    "cost_value"
   ]
  },
  {
   "cell_type": "code",
   "execution_count": 10,
   "id": "cc06bae0",
   "metadata": {
    "execution": {
     "iopub.execute_input": "2022-11-28T18:06:23.200325Z",
     "iopub.status.busy": "2022-11-28T18:06:23.199938Z",
     "iopub.status.idle": "2022-11-28T18:06:23.207873Z",
     "shell.execute_reply": "2022-11-28T18:06:23.206846Z"
    },
    "papermill": {
     "duration": 0.017533,
     "end_time": "2022-11-28T18:06:23.209595",
     "exception": false,
     "start_time": "2022-11-28T18:06:23.192062",
     "status": "completed"
    },
    "tags": []
   },
   "outputs": [],
   "source": [
    "theta_2 = gradient(X_train, y_train, theta, alpha)"
   ]
  },
  {
   "cell_type": "code",
   "execution_count": 11,
   "id": "f4e849cf",
   "metadata": {
    "execution": {
     "iopub.execute_input": "2022-11-28T18:06:23.223760Z",
     "iopub.status.busy": "2022-11-28T18:06:23.223394Z",
     "iopub.status.idle": "2022-11-28T18:06:23.231582Z",
     "shell.execute_reply": "2022-11-28T18:06:23.230337Z"
    },
    "papermill": {
     "duration": 0.017997,
     "end_time": "2022-11-28T18:06:23.234063",
     "exception": false,
     "start_time": "2022-11-28T18:06:23.216066",
     "status": "completed"
    },
    "tags": []
   },
   "outputs": [
    {
     "data": {
      "text/plain": [
       "0.010997460428598102"
      ]
     },
     "execution_count": 11,
     "metadata": {},
     "output_type": "execute_result"
    }
   ],
   "source": [
    "cost_value_2 = J(X_train, y_train, theta_2) \n",
    "cost_value_2"
   ]
  },
  {
   "cell_type": "markdown",
   "id": "7ddeaf0c",
   "metadata": {
    "papermill": {
     "duration": 0.006015,
     "end_time": "2022-11-28T18:06:23.246806",
     "exception": false,
     "start_time": "2022-11-28T18:06:23.240791",
     "status": "completed"
    },
    "tags": []
   },
   "source": [
    "# Model Training   <a id='training'></a> "
   ]
  },
  {
   "cell_type": "markdown",
   "id": "0d0a7248",
   "metadata": {
    "papermill": {
     "duration": 0.006128,
     "end_time": "2022-11-28T18:06:23.259175",
     "exception": false,
     "start_time": "2022-11-28T18:06:23.253047",
     "status": "completed"
    },
    "tags": []
   },
   "source": [
    "Model training content"
   ]
  },
  {
   "cell_type": "code",
   "execution_count": 12,
   "id": "9e8d4634",
   "metadata": {
    "execution": {
     "iopub.execute_input": "2022-11-28T18:06:23.274038Z",
     "iopub.status.busy": "2022-11-28T18:06:23.273333Z",
     "iopub.status.idle": "2022-11-28T18:06:23.278092Z",
     "shell.execute_reply": "2022-11-28T18:06:23.276625Z"
    },
    "papermill": {
     "duration": 0.015007,
     "end_time": "2022-11-28T18:06:23.280553",
     "exception": false,
     "start_time": "2022-11-28T18:06:23.265546",
     "status": "completed"
    },
    "tags": []
   },
   "outputs": [],
   "source": [
    "# Model training code"
   ]
  },
  {
   "cell_type": "markdown",
   "id": "f39d64aa",
   "metadata": {
    "papermill": {
     "duration": 0.006198,
     "end_time": "2022-11-28T18:06:23.293552",
     "exception": false,
     "start_time": "2022-11-28T18:06:23.287354",
     "status": "completed"
    },
    "tags": []
   },
   "source": [
    "# Model Validation   <a id='validation'></a> "
   ]
  },
  {
   "cell_type": "markdown",
   "id": "dc91238e",
   "metadata": {
    "papermill": {
     "duration": 0.006089,
     "end_time": "2022-11-28T18:06:23.306164",
     "exception": false,
     "start_time": "2022-11-28T18:06:23.300075",
     "status": "completed"
    },
    "tags": []
   },
   "source": []
  },
  {
   "cell_type": "markdown",
   "id": "635dbd91",
   "metadata": {
    "papermill": {
     "duration": 0.006032,
     "end_time": "2022-11-28T18:06:23.318552",
     "exception": false,
     "start_time": "2022-11-28T18:06:23.312520",
     "status": "completed"
    },
    "tags": []
   },
   "source": [
    "model validation content"
   ]
  },
  {
   "cell_type": "code",
   "execution_count": 13,
   "id": "827bca38",
   "metadata": {
    "execution": {
     "iopub.execute_input": "2022-11-28T18:06:23.333123Z",
     "iopub.status.busy": "2022-11-28T18:06:23.332717Z",
     "iopub.status.idle": "2022-11-28T18:06:23.336261Z",
     "shell.execute_reply": "2022-11-28T18:06:23.335577Z"
    },
    "papermill": {
     "duration": 0.013031,
     "end_time": "2022-11-28T18:06:23.337986",
     "exception": false,
     "start_time": "2022-11-28T18:06:23.324955",
     "status": "completed"
    },
    "tags": []
   },
   "outputs": [],
   "source": [
    "# Model validation code"
   ]
  },
  {
   "cell_type": "markdown",
   "id": "3819b905",
   "metadata": {
    "papermill": {
     "duration": 0.006223,
     "end_time": "2022-11-28T18:06:23.350812",
     "exception": false,
     "start_time": "2022-11-28T18:06:23.344589",
     "status": "completed"
    },
    "tags": []
   },
   "source": [
    "# Conclusion   <a id='conclusion'></a> "
   ]
  },
  {
   "cell_type": "markdown",
   "id": "489fdafe",
   "metadata": {
    "papermill": {
     "duration": 0.006086,
     "end_time": "2022-11-28T18:06:23.363650",
     "exception": false,
     "start_time": "2022-11-28T18:06:23.357564",
     "status": "completed"
    },
    "tags": []
   },
   "source": [
    "Conclusion content"
   ]
  },
  {
   "cell_type": "markdown",
   "id": "9c9fc84f",
   "metadata": {
    "papermill": {
     "duration": 0.006114,
     "end_time": "2022-11-28T18:06:23.376175",
     "exception": false,
     "start_time": "2022-11-28T18:06:23.370061",
     "status": "completed"
    },
    "tags": []
   },
   "source": [
    "# References   <a id='references'></a>\n",
    "* [Machine Learning Specialization - Deeplearning.AI](https://www.deeplearning.ai/program/machine-learning-specialization/)\n",
    "* [Andrew Ng](https://en.wikipedia.org/wiki/Andrew_Ng)\n",
    "* [@Mohan S Acharya](https://www.kaggle.com/mohansacharya)\n",
    "* [10-simple-hacks-to-speed-up-your-data-analysis - Parul Pandey](https://www.kaggle.com/parulpandey/10-simple-hacks-to-speed-up-your-data-analysis)\n",
    "* [Univariate Linear Regression From Scratch - Kaggle](https://www.kaggle.com/code/erkanhatipoglu/univariate-linear-regression-from-scratch)\n",
    "* [Univariate Linear Regression From Scratch - Towards AI](https://pub.towardsai.net/univariate-linear-regression-from-scratch-68065fe8eb09)"
   ]
  }
 ],
 "metadata": {
  "kernelspec": {
   "display_name": "Python 3",
   "language": "python",
   "name": "python3"
  },
  "language_info": {
   "codemirror_mode": {
    "name": "ipython",
    "version": 3
   },
   "file_extension": ".py",
   "mimetype": "text/x-python",
   "name": "python",
   "nbconvert_exporter": "python",
   "pygments_lexer": "ipython3",
   "version": "3.7.12"
  },
  "papermill": {
   "default_parameters": {},
   "duration": 10.435458,
   "end_time": "2022-11-28T18:06:24.103682",
   "environment_variables": {},
   "exception": null,
   "input_path": "__notebook__.ipynb",
   "output_path": "__notebook__.ipynb",
   "parameters": {},
   "start_time": "2022-11-28T18:06:13.668224",
   "version": "2.3.4"
  }
 },
 "nbformat": 4,
 "nbformat_minor": 5
}
