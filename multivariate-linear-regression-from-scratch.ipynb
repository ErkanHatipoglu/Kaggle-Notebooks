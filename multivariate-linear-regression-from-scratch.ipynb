{
 "cells": [
  {
   "cell_type": "markdown",
   "id": "b7156519",
   "metadata": {
    "papermill": {
     "duration": 0.007459,
     "end_time": "2022-11-20T06:54:19.486551",
     "exception": false,
     "start_time": "2022-11-20T06:54:19.479092",
     "status": "completed"
    },
    "tags": []
   },
   "source": [
    "# Introduction  <a id='introduction'></a>\n",
    "\n",
    "This notebook contains Python code for a multivariate linear regression task. Multivariate linear regression means linear regression with more than one variable. In addition to Python, we will also use Pandas, Numpy, and Matplotlib libraries. \n",
    "\n",
    "This notebook is greatly inspired by the famous Machine Learning course by [Andrew Ng](https://www.andrewng.org/). As always, all the mistakes, if any, are made by me.\n",
    "\n",
    "Finally, thanks to [@Mohan S Acharya](https://www.kaggle.com/mohansacharya) for this dataset.\n",
    "\n",
    "\n",
    "# Table of Contents\n",
    "* [Introduction](#introduction)\n",
    "* [Helper functios](#functions)\n",
    "* [The Hypothesis](#hypothesis)\n",
    "* [The Cost Function](#cost)\n",
    "* [Gradient Descent](#gradient)\n",
    "* [Loading Data](#getdata)\n",
    "* [Model Training](#training)\n",
    "* [Model Validation](#validation)\n",
    "* [Conclusion](#conclusion)\n",
    "* [References](#references)"
   ]
  },
  {
   "cell_type": "code",
   "execution_count": 1,
   "id": "ede4b3f4",
   "metadata": {
    "_cell_guid": "b1076dfc-b9ad-4769-8c92-a6c4dae69d19",
    "_uuid": "8f2839f25d086af736a60e9eeb907d3b93b6e0e5",
    "execution": {
     "iopub.execute_input": "2022-11-20T06:54:19.503265Z",
     "iopub.status.busy": "2022-11-20T06:54:19.502302Z",
     "iopub.status.idle": "2022-11-20T06:54:20.703981Z",
     "shell.execute_reply": "2022-11-20T06:54:20.702800Z"
    },
    "papermill": {
     "duration": 1.214622,
     "end_time": "2022-11-20T06:54:20.706955",
     "exception": false,
     "start_time": "2022-11-20T06:54:19.492333",
     "status": "completed"
    },
    "tags": []
   },
   "outputs": [
    {
     "name": "stdout",
     "output_type": "stream",
     "text": [
      "/kaggle/input/graduate-admissions/Admission_Predict.csv\n",
      "/kaggle/input/graduate-admissions/Admission_Predict_Ver1.1.csv\n"
     ]
    }
   ],
   "source": [
    "# This Python 3 environment comes with many helpful analytics libraries installed\n",
    "# It is defined by the kaggle/python Docker image: https://github.com/kaggle/docker-python\n",
    "# For example, here's several helpful packages to load\n",
    "\n",
    "import numpy as np # linear algebra\n",
    "import pandas as pd # data processing, CSV file I/O (e.g. pd.read_csv)\n",
    "\n",
    "# Input data files are available in the read-only \"../input/\" directory\n",
    "# For example, running this (by clicking run or pressing Shift+Enter) will list all files under the input directory\n",
    "\n",
    "import os\n",
    "for dirname, _, filenames in os.walk('/kaggle/input'):\n",
    "    for filename in filenames:\n",
    "        print(os.path.join(dirname, filename))\n",
    "\n",
    "# You can write up to 20GB to the current directory (/kaggle/working/) that gets preserved as output when you create a version using \"Save & Run All\" \n",
    "# You can also write temporary files to /kaggle/temp/, but they won't be saved outside of the current session\n",
    "\n",
    "from sklearn.model_selection import train_test_split"
   ]
  },
  {
   "cell_type": "markdown",
   "id": "d5d39234",
   "metadata": {
    "papermill": {
     "duration": 0.005566,
     "end_time": "2022-11-20T06:54:20.719203",
     "exception": false,
     "start_time": "2022-11-20T06:54:20.713637",
     "status": "completed"
    },
    "tags": []
   },
   "source": [
    "# Helper Functions   <a id='functions'></a>   "
   ]
  },
  {
   "cell_type": "markdown",
   "id": "2baf64f0",
   "metadata": {
    "papermill": {
     "duration": 0.005477,
     "end_time": "2022-11-20T06:54:20.730418",
     "exception": false,
     "start_time": "2022-11-20T06:54:20.724941",
     "status": "completed"
    },
    "tags": []
   },
   "source": [
    "<div class=\"alert alert-block alert-info\">\n",
    "<b>Tip:</b> Tip: We will use some helper functions throughout the notebook. Collecting them in one place is a good idea, making the code more organized. First, we will define and explain those functions and then use them in our code.\n",
    "</div>"
   ]
  },
  {
   "cell_type": "markdown",
   "id": "f486a1ec",
   "metadata": {
    "papermill": {
     "duration": 0.005281,
     "end_time": "2022-11-20T06:54:20.741386",
     "exception": false,
     "start_time": "2022-11-20T06:54:20.736105",
     "status": "completed"
    },
    "tags": []
   },
   "source": [
    "# The  Hypothesis   <a id='hypothesis'></a>   "
   ]
  },
  {
   "cell_type": "markdown",
   "id": "a43b2c0c",
   "metadata": {
    "papermill": {
     "duration": 0.005636,
     "end_time": "2022-11-20T06:54:20.752728",
     "exception": false,
     "start_time": "2022-11-20T06:54:20.747092",
     "status": "completed"
    },
    "tags": []
   },
   "source": [
    "The Hypotehsis Content"
   ]
  },
  {
   "cell_type": "code",
   "execution_count": 2,
   "id": "dc6f0310",
   "metadata": {
    "execution": {
     "iopub.execute_input": "2022-11-20T06:54:20.766000Z",
     "iopub.status.busy": "2022-11-20T06:54:20.765514Z",
     "iopub.status.idle": "2022-11-20T06:54:20.770285Z",
     "shell.execute_reply": "2022-11-20T06:54:20.769329Z"
    },
    "papermill": {
     "duration": 0.013909,
     "end_time": "2022-11-20T06:54:20.772377",
     "exception": false,
     "start_time": "2022-11-20T06:54:20.758468",
     "status": "completed"
    },
    "tags": []
   },
   "outputs": [],
   "source": [
    "# The hypothesis code"
   ]
  },
  {
   "cell_type": "markdown",
   "id": "fdfb7a23",
   "metadata": {
    "papermill": {
     "duration": 0.005395,
     "end_time": "2022-11-20T06:54:20.783519",
     "exception": false,
     "start_time": "2022-11-20T06:54:20.778124",
     "status": "completed"
    },
    "tags": []
   },
   "source": [
    "# The  Cost Function   <a id='cost'></a> "
   ]
  },
  {
   "cell_type": "markdown",
   "id": "92061690",
   "metadata": {
    "papermill": {
     "duration": 0.005425,
     "end_time": "2022-11-20T06:54:20.796277",
     "exception": false,
     "start_time": "2022-11-20T06:54:20.790852",
     "status": "completed"
    },
    "tags": []
   },
   "source": [
    "The Costy function Content"
   ]
  },
  {
   "cell_type": "code",
   "execution_count": 3,
   "id": "b9a13729",
   "metadata": {
    "execution": {
     "iopub.execute_input": "2022-11-20T06:54:20.810644Z",
     "iopub.status.busy": "2022-11-20T06:54:20.809869Z",
     "iopub.status.idle": "2022-11-20T06:54:20.814398Z",
     "shell.execute_reply": "2022-11-20T06:54:20.813133Z"
    },
    "papermill": {
     "duration": 0.014524,
     "end_time": "2022-11-20T06:54:20.816974",
     "exception": false,
     "start_time": "2022-11-20T06:54:20.802450",
     "status": "completed"
    },
    "tags": []
   },
   "outputs": [],
   "source": [
    "# The cost function Code"
   ]
  },
  {
   "cell_type": "markdown",
   "id": "f7746689",
   "metadata": {
    "papermill": {
     "duration": 0.005455,
     "end_time": "2022-11-20T06:54:20.828258",
     "exception": false,
     "start_time": "2022-11-20T06:54:20.822803",
     "status": "completed"
    },
    "tags": []
   },
   "source": [
    "# Gradient Descent   <a id='gradient'></a> "
   ]
  },
  {
   "cell_type": "markdown",
   "id": "45cf68c5",
   "metadata": {
    "papermill": {
     "duration": 0.005424,
     "end_time": "2022-11-20T06:54:20.839467",
     "exception": false,
     "start_time": "2022-11-20T06:54:20.834043",
     "status": "completed"
    },
    "tags": []
   },
   "source": [
    "The gradient Descent content"
   ]
  },
  {
   "cell_type": "code",
   "execution_count": 4,
   "id": "6269842a",
   "metadata": {
    "execution": {
     "iopub.execute_input": "2022-11-20T06:54:20.853919Z",
     "iopub.status.busy": "2022-11-20T06:54:20.852727Z",
     "iopub.status.idle": "2022-11-20T06:54:20.857994Z",
     "shell.execute_reply": "2022-11-20T06:54:20.856713Z"
    },
    "papermill": {
     "duration": 0.01522,
     "end_time": "2022-11-20T06:54:20.860585",
     "exception": false,
     "start_time": "2022-11-20T06:54:20.845365",
     "status": "completed"
    },
    "tags": []
   },
   "outputs": [],
   "source": [
    "# the gradient descent code"
   ]
  },
  {
   "cell_type": "markdown",
   "id": "0b2b9492",
   "metadata": {
    "papermill": {
     "duration": 0.0054,
     "end_time": "2022-11-20T06:54:20.871842",
     "exception": false,
     "start_time": "2022-11-20T06:54:20.866442",
     "status": "completed"
    },
    "tags": []
   },
   "source": [
    "# Loading Data   <a id='getdata'></a> "
   ]
  },
  {
   "cell_type": "code",
   "execution_count": 5,
   "id": "21fc5f11",
   "metadata": {
    "execution": {
     "iopub.execute_input": "2022-11-20T06:54:20.885193Z",
     "iopub.status.busy": "2022-11-20T06:54:20.884802Z",
     "iopub.status.idle": "2022-11-20T06:54:20.943869Z",
     "shell.execute_reply": "2022-11-20T06:54:20.942258Z"
    },
    "papermill": {
     "duration": 0.06896,
     "end_time": "2022-11-20T06:54:20.946538",
     "exception": false,
     "start_time": "2022-11-20T06:54:20.877578",
     "status": "completed"
    },
    "tags": []
   },
   "outputs": [
    {
     "data": {
      "text/html": [
       "<div>\n",
       "<style scoped>\n",
       "    .dataframe tbody tr th:only-of-type {\n",
       "        vertical-align: middle;\n",
       "    }\n",
       "\n",
       "    .dataframe tbody tr th {\n",
       "        vertical-align: top;\n",
       "    }\n",
       "\n",
       "    .dataframe thead th {\n",
       "        text-align: right;\n",
       "    }\n",
       "</style>\n",
       "<table border=\"1\" class=\"dataframe\">\n",
       "  <thead>\n",
       "    <tr style=\"text-align: right;\">\n",
       "      <th></th>\n",
       "      <th>GRE Score</th>\n",
       "      <th>TOEFL Score</th>\n",
       "      <th>University Rating</th>\n",
       "      <th>SOP</th>\n",
       "      <th>LOR</th>\n",
       "      <th>CGPA</th>\n",
       "      <th>Research</th>\n",
       "    </tr>\n",
       "  </thead>\n",
       "  <tbody>\n",
       "    <tr>\n",
       "      <th>249</th>\n",
       "      <td>321</td>\n",
       "      <td>111</td>\n",
       "      <td>3</td>\n",
       "      <td>3.5</td>\n",
       "      <td>4.0</td>\n",
       "      <td>8.83</td>\n",
       "      <td>1</td>\n",
       "    </tr>\n",
       "    <tr>\n",
       "      <th>433</th>\n",
       "      <td>316</td>\n",
       "      <td>111</td>\n",
       "      <td>4</td>\n",
       "      <td>4.0</td>\n",
       "      <td>5.0</td>\n",
       "      <td>8.54</td>\n",
       "      <td>0</td>\n",
       "    </tr>\n",
       "    <tr>\n",
       "      <th>19</th>\n",
       "      <td>303</td>\n",
       "      <td>102</td>\n",
       "      <td>3</td>\n",
       "      <td>3.5</td>\n",
       "      <td>3.0</td>\n",
       "      <td>8.50</td>\n",
       "      <td>0</td>\n",
       "    </tr>\n",
       "    <tr>\n",
       "      <th>322</th>\n",
       "      <td>314</td>\n",
       "      <td>107</td>\n",
       "      <td>2</td>\n",
       "      <td>2.5</td>\n",
       "      <td>4.0</td>\n",
       "      <td>8.27</td>\n",
       "      <td>0</td>\n",
       "    </tr>\n",
       "    <tr>\n",
       "      <th>332</th>\n",
       "      <td>308</td>\n",
       "      <td>106</td>\n",
       "      <td>3</td>\n",
       "      <td>3.5</td>\n",
       "      <td>2.5</td>\n",
       "      <td>8.21</td>\n",
       "      <td>1</td>\n",
       "    </tr>\n",
       "  </tbody>\n",
       "</table>\n",
       "</div>"
      ],
      "text/plain": [
       "     GRE Score  TOEFL Score  University Rating  SOP  LOR   CGPA  Research\n",
       "249        321          111                  3  3.5   4.0  8.83         1\n",
       "433        316          111                  4  4.0   5.0  8.54         0\n",
       "19         303          102                  3  3.5   3.0  8.50         0\n",
       "322        314          107                  2  2.5   4.0  8.27         0\n",
       "332        308          106                  3  3.5   2.5  8.21         1"
      ]
     },
     "execution_count": 5,
     "metadata": {},
     "output_type": "execute_result"
    }
   ],
   "source": [
    "# Get the data. Note that there are two versions. We will use the one\n",
    "# with the most rows.\n",
    "\n",
    "train_data = pd.read_csv(\"/kaggle/input/graduate-admissions/Admission_Predict_Ver1.1.csv\")\n",
    "\n",
    "# Set y and X\n",
    "\n",
    "y = pd.DataFrame(data = train_data['Chance of Admit ']).to_numpy()\n",
    "X = train_data.drop(['Chance of Admit ', 'Serial No.'], axis=1) # Chance of Admit is the target variable and Serial No. is the order. So we drop them.\n",
    "\n",
    "# Break off validation set from training data\n",
    "X_train, X_valid, y_train, y_valid = train_test_split(X, y, train_size=0.8, test_size=0.2,\n",
    "                                                                random_state=42)\n",
    "\n",
    "X_train.head()"
   ]
  },
  {
   "cell_type": "code",
   "execution_count": 6,
   "id": "68fb8b61",
   "metadata": {
    "execution": {
     "iopub.execute_input": "2022-11-20T06:54:20.960297Z",
     "iopub.status.busy": "2022-11-20T06:54:20.959913Z",
     "iopub.status.idle": "2022-11-20T06:54:20.966905Z",
     "shell.execute_reply": "2022-11-20T06:54:20.965594Z"
    },
    "papermill": {
     "duration": 0.016975,
     "end_time": "2022-11-20T06:54:20.969448",
     "exception": false,
     "start_time": "2022-11-20T06:54:20.952473",
     "status": "completed"
    },
    "tags": []
   },
   "outputs": [
    {
     "data": {
      "text/plain": [
       "(100, 7)"
      ]
     },
     "execution_count": 6,
     "metadata": {},
     "output_type": "execute_result"
    }
   ],
   "source": [
    "X_valid.shape"
   ]
  },
  {
   "cell_type": "code",
   "execution_count": 7,
   "id": "45795622",
   "metadata": {
    "execution": {
     "iopub.execute_input": "2022-11-20T06:54:20.983598Z",
     "iopub.status.busy": "2022-11-20T06:54:20.983219Z",
     "iopub.status.idle": "2022-11-20T06:54:20.997255Z",
     "shell.execute_reply": "2022-11-20T06:54:20.996009Z"
    },
    "papermill": {
     "duration": 0.024104,
     "end_time": "2022-11-20T06:54:20.999809",
     "exception": false,
     "start_time": "2022-11-20T06:54:20.975705",
     "status": "completed"
    },
    "tags": []
   },
   "outputs": [
    {
     "data": {
      "text/html": [
       "<div>\n",
       "<style scoped>\n",
       "    .dataframe tbody tr th:only-of-type {\n",
       "        vertical-align: middle;\n",
       "    }\n",
       "\n",
       "    .dataframe tbody tr th {\n",
       "        vertical-align: top;\n",
       "    }\n",
       "\n",
       "    .dataframe thead th {\n",
       "        text-align: right;\n",
       "    }\n",
       "</style>\n",
       "<table border=\"1\" class=\"dataframe\">\n",
       "  <thead>\n",
       "    <tr style=\"text-align: right;\">\n",
       "      <th></th>\n",
       "      <th>GRE Score</th>\n",
       "      <th>TOEFL Score</th>\n",
       "      <th>University Rating</th>\n",
       "      <th>SOP</th>\n",
       "      <th>LOR</th>\n",
       "      <th>CGPA</th>\n",
       "      <th>Research</th>\n",
       "    </tr>\n",
       "  </thead>\n",
       "  <tbody>\n",
       "    <tr>\n",
       "      <th>361</th>\n",
       "      <td>334</td>\n",
       "      <td>116</td>\n",
       "      <td>4</td>\n",
       "      <td>4.0</td>\n",
       "      <td>3.5</td>\n",
       "      <td>9.54</td>\n",
       "      <td>1</td>\n",
       "    </tr>\n",
       "    <tr>\n",
       "      <th>73</th>\n",
       "      <td>314</td>\n",
       "      <td>108</td>\n",
       "      <td>4</td>\n",
       "      <td>4.5</td>\n",
       "      <td>4.0</td>\n",
       "      <td>9.04</td>\n",
       "      <td>1</td>\n",
       "    </tr>\n",
       "    <tr>\n",
       "      <th>374</th>\n",
       "      <td>315</td>\n",
       "      <td>105</td>\n",
       "      <td>2</td>\n",
       "      <td>2.0</td>\n",
       "      <td>2.5</td>\n",
       "      <td>7.65</td>\n",
       "      <td>0</td>\n",
       "    </tr>\n",
       "    <tr>\n",
       "      <th>155</th>\n",
       "      <td>312</td>\n",
       "      <td>109</td>\n",
       "      <td>3</td>\n",
       "      <td>3.0</td>\n",
       "      <td>3.0</td>\n",
       "      <td>8.69</td>\n",
       "      <td>0</td>\n",
       "    </tr>\n",
       "    <tr>\n",
       "      <th>104</th>\n",
       "      <td>326</td>\n",
       "      <td>112</td>\n",
       "      <td>3</td>\n",
       "      <td>3.5</td>\n",
       "      <td>3.0</td>\n",
       "      <td>9.05</td>\n",
       "      <td>1</td>\n",
       "    </tr>\n",
       "  </tbody>\n",
       "</table>\n",
       "</div>"
      ],
      "text/plain": [
       "     GRE Score  TOEFL Score  University Rating  SOP  LOR   CGPA  Research\n",
       "361        334          116                  4  4.0   3.5  9.54         1\n",
       "73         314          108                  4  4.5   4.0  9.04         1\n",
       "374        315          105                  2  2.0   2.5  7.65         0\n",
       "155        312          109                  3  3.0   3.0  8.69         0\n",
       "104        326          112                  3  3.5   3.0  9.05         1"
      ]
     },
     "execution_count": 7,
     "metadata": {},
     "output_type": "execute_result"
    }
   ],
   "source": [
    "X_valid.head()"
   ]
  },
  {
   "cell_type": "markdown",
   "id": "58b29f5f",
   "metadata": {
    "papermill": {
     "duration": 0.005872,
     "end_time": "2022-11-20T06:54:21.012116",
     "exception": false,
     "start_time": "2022-11-20T06:54:21.006244",
     "status": "completed"
    },
    "tags": []
   },
   "source": [
    "# Model Training   <a id='training'></a> "
   ]
  },
  {
   "cell_type": "markdown",
   "id": "cca88625",
   "metadata": {
    "papermill": {
     "duration": 0.005743,
     "end_time": "2022-11-20T06:54:21.024027",
     "exception": false,
     "start_time": "2022-11-20T06:54:21.018284",
     "status": "completed"
    },
    "tags": []
   },
   "source": [
    "Model training content"
   ]
  },
  {
   "cell_type": "code",
   "execution_count": 8,
   "id": "e47b8d6f",
   "metadata": {
    "execution": {
     "iopub.execute_input": "2022-11-20T06:54:21.038223Z",
     "iopub.status.busy": "2022-11-20T06:54:21.037821Z",
     "iopub.status.idle": "2022-11-20T06:54:21.042359Z",
     "shell.execute_reply": "2022-11-20T06:54:21.041237Z"
    },
    "papermill": {
     "duration": 0.014642,
     "end_time": "2022-11-20T06:54:21.044821",
     "exception": false,
     "start_time": "2022-11-20T06:54:21.030179",
     "status": "completed"
    },
    "tags": []
   },
   "outputs": [],
   "source": [
    "# Model training code"
   ]
  },
  {
   "cell_type": "markdown",
   "id": "0ab17a65",
   "metadata": {
    "papermill": {
     "duration": 0.005983,
     "end_time": "2022-11-20T06:54:21.056986",
     "exception": false,
     "start_time": "2022-11-20T06:54:21.051003",
     "status": "completed"
    },
    "tags": []
   },
   "source": [
    "# Model Validation   <a id='validation'></a> "
   ]
  },
  {
   "cell_type": "markdown",
   "id": "9bd88edb",
   "metadata": {
    "papermill": {
     "duration": 0.005808,
     "end_time": "2022-11-20T06:54:21.068909",
     "exception": false,
     "start_time": "2022-11-20T06:54:21.063101",
     "status": "completed"
    },
    "tags": []
   },
   "source": []
  },
  {
   "cell_type": "markdown",
   "id": "475a53f0",
   "metadata": {
    "papermill": {
     "duration": 0.005826,
     "end_time": "2022-11-20T06:54:21.080910",
     "exception": false,
     "start_time": "2022-11-20T06:54:21.075084",
     "status": "completed"
    },
    "tags": []
   },
   "source": [
    "model validation content"
   ]
  },
  {
   "cell_type": "code",
   "execution_count": 9,
   "id": "55e53f84",
   "metadata": {
    "execution": {
     "iopub.execute_input": "2022-11-20T06:54:21.095357Z",
     "iopub.status.busy": "2022-11-20T06:54:21.094946Z",
     "iopub.status.idle": "2022-11-20T06:54:21.100164Z",
     "shell.execute_reply": "2022-11-20T06:54:21.099073Z"
    },
    "papermill": {
     "duration": 0.015012,
     "end_time": "2022-11-20T06:54:21.102264",
     "exception": false,
     "start_time": "2022-11-20T06:54:21.087252",
     "status": "completed"
    },
    "tags": []
   },
   "outputs": [],
   "source": [
    "# Model validation code"
   ]
  },
  {
   "cell_type": "markdown",
   "id": "17984534",
   "metadata": {
    "papermill": {
     "duration": 0.006069,
     "end_time": "2022-11-20T06:54:21.114697",
     "exception": false,
     "start_time": "2022-11-20T06:54:21.108628",
     "status": "completed"
    },
    "tags": []
   },
   "source": [
    "# Conclusion   <a id='conclusion'></a> "
   ]
  },
  {
   "cell_type": "markdown",
   "id": "7dbe8780",
   "metadata": {
    "papermill": {
     "duration": 0.00595,
     "end_time": "2022-11-20T06:54:21.126824",
     "exception": false,
     "start_time": "2022-11-20T06:54:21.120874",
     "status": "completed"
    },
    "tags": []
   },
   "source": [
    "Conclusion content"
   ]
  },
  {
   "cell_type": "markdown",
   "id": "6b5111ff",
   "metadata": {
    "papermill": {
     "duration": 0.005721,
     "end_time": "2022-11-20T06:54:21.138609",
     "exception": false,
     "start_time": "2022-11-20T06:54:21.132888",
     "status": "completed"
    },
    "tags": []
   },
   "source": [
    "# References   <a id='references'></a>\n",
    "* [Machine Learning Specialization - Deeplearning.AI](https://www.deeplearning.ai/program/machine-learning-specialization/)\n",
    "* [Andrew Ng](https://en.wikipedia.org/wiki/Andrew_Ng)\n",
    "* [@Mohan S Acharya](https://www.kaggle.com/mohansacharya)\n",
    "* [10-simple-hacks-to-speed-up-your-data-analysis - Parul Pandey](https://www.kaggle.com/parulpandey/10-simple-hacks-to-speed-up-your-data-analysis)\n",
    "* [Univariate Linear Regression From Scratch - Kaggle](https://www.kaggle.com/code/erkanhatipoglu/univariate-linear-regression-from-scratch)\n",
    "* [Univariate Linear Regression From Scratch - Towards AI](https://pub.towardsai.net/univariate-linear-regression-from-scratch-68065fe8eb09)"
   ]
  }
 ],
 "metadata": {
  "kernelspec": {
   "display_name": "Python 3",
   "language": "python",
   "name": "python3"
  },
  "language_info": {
   "codemirror_mode": {
    "name": "ipython",
    "version": 3
   },
   "file_extension": ".py",
   "mimetype": "text/x-python",
   "name": "python",
   "nbconvert_exporter": "python",
   "pygments_lexer": "ipython3",
   "version": "3.7.12"
  },
  "papermill": {
   "default_parameters": {},
   "duration": 11.539002,
   "end_time": "2022-11-20T06:54:21.866519",
   "environment_variables": {},
   "exception": null,
   "input_path": "__notebook__.ipynb",
   "output_path": "__notebook__.ipynb",
   "parameters": {},
   "start_time": "2022-11-20T06:54:10.327517",
   "version": "2.3.4"
  }
 },
 "nbformat": 4,
 "nbformat_minor": 5
}
