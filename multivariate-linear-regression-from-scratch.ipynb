{
 "cells": [
  {
   "cell_type": "markdown",
   "id": "c1858893",
   "metadata": {
    "papermill": {
     "duration": 0.00769,
     "end_time": "2022-12-03T11:06:18.803660",
     "exception": false,
     "start_time": "2022-12-03T11:06:18.795970",
     "status": "completed"
    },
    "tags": []
   },
   "source": [
    "# Introduction  <a id='introduction'></a>\n",
    "\n",
    "This notebook contains Python code for a multivariate linear regression task. Multivariate linear regression means linear regression with more than one variable. In addition to Python, we will also use Pandas, Numpy, and Matplotlib libraries. \n",
    "\n",
    "This notebook is greatly inspired by the famous Machine Learning course by [Andrew Ng](https://www.andrewng.org/). As always, all the mistakes, if any, are made by me.\n",
    "\n",
    "Finally, thanks to [@Mohan S Acharya](https://www.kaggle.com/mohansacharya) for this dataset.\n",
    "\n",
    "\n",
    "# Table of Contents\n",
    "* [Introduction](#introduction)\n",
    "* [Helper functios](#functions)\n",
    "* [The Hypothesis](#hypothesis)\n",
    "* [The Cost Function](#cost)\n",
    "* [Gradient Descent](#gradient)\n",
    "* [Feature Normalization](#normalization)\n",
    "* [Loading Data](#getdata)\n",
    "* [Model Training](#training)\n",
    "* [Model Validation](#validation)\n",
    "* [Conclusion](#conclusion)\n",
    "* [References](#references)"
   ]
  },
  {
   "cell_type": "code",
   "execution_count": 1,
   "id": "9c94857e",
   "metadata": {
    "_cell_guid": "b1076dfc-b9ad-4769-8c92-a6c4dae69d19",
    "_uuid": "8f2839f25d086af736a60e9eeb907d3b93b6e0e5",
    "execution": {
     "iopub.execute_input": "2022-12-03T11:06:18.819483Z",
     "iopub.status.busy": "2022-12-03T11:06:18.818845Z",
     "iopub.status.idle": "2022-12-03T11:06:20.020322Z",
     "shell.execute_reply": "2022-12-03T11:06:20.019019Z"
    },
    "papermill": {
     "duration": 1.212846,
     "end_time": "2022-12-03T11:06:20.023444",
     "exception": false,
     "start_time": "2022-12-03T11:06:18.810598",
     "status": "completed"
    },
    "tags": []
   },
   "outputs": [
    {
     "name": "stdout",
     "output_type": "stream",
     "text": [
      "/kaggle/input/graduate-admissions/Admission_Predict.csv\n",
      "/kaggle/input/graduate-admissions/Admission_Predict_Ver1.1.csv\n"
     ]
    }
   ],
   "source": [
    "# This Python 3 environment comes with many helpful analytics libraries installed\n",
    "# It is defined by the kaggle/python Docker image: https://github.com/kaggle/docker-python\n",
    "# For example, here's several helpful packages to load\n",
    "\n",
    "import numpy as np # linear algebra\n",
    "import pandas as pd # data processing, CSV file I/O (e.g. pd.read_csv)\n",
    "\n",
    "# Input data files are available in the read-only \"../input/\" directory\n",
    "# For example, running this (by clicking run or pressing Shift+Enter) will list all files under the input directory\n",
    "\n",
    "import os\n",
    "for dirname, _, filenames in os.walk('/kaggle/input'):\n",
    "    for filename in filenames:\n",
    "        print(os.path.join(dirname, filename))\n",
    "\n",
    "# You can write up to 20GB to the current directory (/kaggle/working/) that gets preserved as output when you create a version using \"Save & Run All\" \n",
    "# You can also write temporary files to /kaggle/temp/, but they won't be saved outside of the current session\n",
    "\n",
    "from sklearn.model_selection import train_test_split\n",
    "import matplotlib.pyplot as plt"
   ]
  },
  {
   "cell_type": "markdown",
   "id": "acecd728",
   "metadata": {
    "papermill": {
     "duration": 0.006291,
     "end_time": "2022-12-03T11:06:20.036381",
     "exception": false,
     "start_time": "2022-12-03T11:06:20.030090",
     "status": "completed"
    },
    "tags": []
   },
   "source": [
    "# Helper Functions   <a id='functions'></a>   "
   ]
  },
  {
   "cell_type": "markdown",
   "id": "274404ee",
   "metadata": {
    "papermill": {
     "duration": 0.006073,
     "end_time": "2022-12-03T11:06:20.048954",
     "exception": false,
     "start_time": "2022-12-03T11:06:20.042881",
     "status": "completed"
    },
    "tags": []
   },
   "source": [
    "<div class=\"alert alert-block alert-info\">\n",
    "<b>Tip:</b> Tip: We will use some helper functions throughout the notebook. Collecting them in one place is a good idea, making the code more organized. First, we will define and explain those functions and then use them in our code.\n",
    "</div>"
   ]
  },
  {
   "cell_type": "markdown",
   "id": "d78c4eb6",
   "metadata": {
    "papermill": {
     "duration": 0.006005,
     "end_time": "2022-12-03T11:06:20.061419",
     "exception": false,
     "start_time": "2022-12-03T11:06:20.055414",
     "status": "completed"
    },
    "tags": []
   },
   "source": [
    "# The  Hypothesis   <a id='hypothesis'></a>   "
   ]
  },
  {
   "cell_type": "markdown",
   "id": "1c6d9298",
   "metadata": {
    "papermill": {
     "duration": 0.006722,
     "end_time": "2022-12-03T11:06:20.074540",
     "exception": false,
     "start_time": "2022-12-03T11:06:20.067818",
     "status": "completed"
    },
    "tags": []
   },
   "source": [
    "The Hypotehsis Content"
   ]
  },
  {
   "cell_type": "code",
   "execution_count": 2,
   "id": "20ce12f5",
   "metadata": {
    "execution": {
     "iopub.execute_input": "2022-12-03T11:06:20.089736Z",
     "iopub.status.busy": "2022-12-03T11:06:20.089262Z",
     "iopub.status.idle": "2022-12-03T11:06:20.095650Z",
     "shell.execute_reply": "2022-12-03T11:06:20.094121Z"
    },
    "papermill": {
     "duration": 0.016952,
     "end_time": "2022-12-03T11:06:20.098078",
     "exception": false,
     "start_time": "2022-12-03T11:06:20.081126",
     "status": "completed"
    },
    "tags": []
   },
   "outputs": [],
   "source": [
    "# The hypothesis\n",
    "def h(x, theta):\n",
    "    \"\"\"\n",
    "    calculates the predicted values (or predicted targets) for a given set of input and theta vectors.\n",
    "    :param x: inputs (feature values) - data frame of floats \n",
    "    :param theta: theta vector (weights) - Numpy array of floats\n",
    "    :return: predicted targets - Numpy array of floats\n",
    "    \n",
    "    \"\"\"\n",
    "    return np.dot(x, theta)"
   ]
  },
  {
   "cell_type": "markdown",
   "id": "df377443",
   "metadata": {
    "papermill": {
     "duration": 0.006042,
     "end_time": "2022-12-03T11:06:20.112107",
     "exception": false,
     "start_time": "2022-12-03T11:06:20.106065",
     "status": "completed"
    },
    "tags": []
   },
   "source": [
    "# The  Cost Function   <a id='cost'></a> "
   ]
  },
  {
   "cell_type": "markdown",
   "id": "a2aee509",
   "metadata": {
    "papermill": {
     "duration": 0.006316,
     "end_time": "2022-12-03T11:06:20.124735",
     "exception": false,
     "start_time": "2022-12-03T11:06:20.118419",
     "status": "completed"
    },
    "tags": []
   },
   "source": [
    "The Cost function Content"
   ]
  },
  {
   "cell_type": "code",
   "execution_count": 3,
   "id": "ae9e51fe",
   "metadata": {
    "execution": {
     "iopub.execute_input": "2022-12-03T11:06:20.139319Z",
     "iopub.status.busy": "2022-12-03T11:06:20.138911Z",
     "iopub.status.idle": "2022-12-03T11:06:20.145858Z",
     "shell.execute_reply": "2022-12-03T11:06:20.144622Z"
    },
    "papermill": {
     "duration": 0.017066,
     "end_time": "2022-12-03T11:06:20.148117",
     "exception": false,
     "start_time": "2022-12-03T11:06:20.131051",
     "status": "completed"
    },
    "tags": []
   },
   "outputs": [],
   "source": [
    "# The cost function\n",
    "\n",
    "def J(X,y,theta):\n",
    "    \"\"\"\n",
    "     Calculates the total error using squared error function.\n",
    "    :param X: inputs (feature values) - data frame of floats\n",
    "    :param y: outputs (actual target values) - Numpy array of floats\n",
    "    :param theta: theta vector (weights) - Numpy array of floats\n",
    "    :return: total error - float\n",
    "    \n",
    "    \"\"\"\n",
    "    # Calculate number of examples\n",
    "    m = len(X)\n",
    "    \n",
    "    # Calculate the constant\n",
    "    c = 1/(2 * m)\n",
    "       \n",
    "    # Calculate the array of errors\n",
    "    temp_0 = h(X, theta) - y.reshape(-1)\n",
    "\n",
    "    # Calculate the transpose of array of errors\n",
    "    temp_1 = temp_0.transpose()\n",
    "\n",
    "    # Calculate the dot product \n",
    "    temp_2 = np.dot(temp_1, temp_0) \n",
    "\n",
    "    return  c * temp_2"
   ]
  },
  {
   "cell_type": "markdown",
   "id": "354efcbc",
   "metadata": {
    "papermill": {
     "duration": 0.006388,
     "end_time": "2022-12-03T11:06:20.161305",
     "exception": false,
     "start_time": "2022-12-03T11:06:20.154917",
     "status": "completed"
    },
    "tags": []
   },
   "source": [
    "# Gradient Descent   <a id='gradient'></a> "
   ]
  },
  {
   "cell_type": "markdown",
   "id": "3b6cc246",
   "metadata": {
    "papermill": {
     "duration": 0.006113,
     "end_time": "2022-12-03T11:06:20.173867",
     "exception": false,
     "start_time": "2022-12-03T11:06:20.167754",
     "status": "completed"
    },
    "tags": []
   },
   "source": [
    "The gradient Descent content"
   ]
  },
  {
   "cell_type": "code",
   "execution_count": 4,
   "id": "ea91ad96",
   "metadata": {
    "execution": {
     "iopub.execute_input": "2022-12-03T11:06:20.189147Z",
     "iopub.status.busy": "2022-12-03T11:06:20.188020Z",
     "iopub.status.idle": "2022-12-03T11:06:20.194871Z",
     "shell.execute_reply": "2022-12-03T11:06:20.194014Z"
    },
    "papermill": {
     "duration": 0.016831,
     "end_time": "2022-12-03T11:06:20.197119",
     "exception": false,
     "start_time": "2022-12-03T11:06:20.180288",
     "status": "completed"
    },
    "tags": []
   },
   "outputs": [],
   "source": [
    "# Gradient descent function\n",
    "def gradient(X, y, theta, alpha):\n",
    "    \"\"\"\n",
    "     calculates the gradient descent.\n",
    "    :param X: inputs (feature values) - data frame of floats\n",
    "    :param y: outputs (actual target values) - Numpy array of floats\n",
    "    :param theta: theta vector (weights) - Numpy array of floats\n",
    "    :param alpha: learning rate\n",
    "    :return: new theta - Numpy array of floats\n",
    "    \n",
    "    \"\"\"\n",
    "    # Calculate number of examples\n",
    "    m = len(X)\n",
    "    \n",
    "    # Calculate the constant\n",
    "    c =  alpha / m\n",
    "        \n",
    "    # calculate the transpose of X\n",
    "    temp_0 = X.transpose()\n",
    "        \n",
    "    # Calculate the array of errors\n",
    "    temp_1 = h(X, theta) - y.reshape(-1) \n",
    "        \n",
    "    # Calculate the dot product \n",
    "    temp_2 = np.dot(temp_0, temp_1)\n",
    "        \n",
    "    return theta - (c * temp_2)"
   ]
  },
  {
   "cell_type": "markdown",
   "id": "ac2ab09a",
   "metadata": {
    "papermill": {
     "duration": 0.005926,
     "end_time": "2022-12-03T11:06:20.209359",
     "exception": false,
     "start_time": "2022-12-03T11:06:20.203433",
     "status": "completed"
    },
    "tags": []
   },
   "source": [
    "# Feature Normalization  <a id='normalization'></a>"
   ]
  },
  {
   "cell_type": "markdown",
   "id": "61d5570d",
   "metadata": {
    "papermill": {
     "duration": 0.005802,
     "end_time": "2022-12-03T11:06:20.221450",
     "exception": false,
     "start_time": "2022-12-03T11:06:20.215648",
     "status": "completed"
    },
    "tags": []
   },
   "source": [
    "feature normalization content"
   ]
  },
  {
   "cell_type": "code",
   "execution_count": 5,
   "id": "9e1c0c66",
   "metadata": {
    "execution": {
     "iopub.execute_input": "2022-12-03T11:06:20.236367Z",
     "iopub.status.busy": "2022-12-03T11:06:20.235078Z",
     "iopub.status.idle": "2022-12-03T11:06:20.241470Z",
     "shell.execute_reply": "2022-12-03T11:06:20.240706Z"
    },
    "papermill": {
     "duration": 0.015936,
     "end_time": "2022-12-03T11:06:20.243581",
     "exception": false,
     "start_time": "2022-12-03T11:06:20.227645",
     "status": "completed"
    },
    "tags": []
   },
   "outputs": [],
   "source": [
    "# Standardization\n",
    "def normalize(X):\n",
    "    \"\"\"\n",
    "     Applies standardization to the dataframe.\n",
    "    :param X: unnormalized features - data frame of floats\n",
    "    :return: normalized features - data frame of floats\n",
    "    \n",
    "    \"\"\"\n",
    "    columns = ['GRE Score', 'TOEFL Score', 'CGPA']\n",
    "    for column in columns:\n",
    "        #\n",
    "        X[column] = (X[column] - X[column].mean()) / X[column].std()\n",
    "        # X[column] = (X[column] - X[column].mean()) / (X[column].max() - X[column].min())\n",
    "        \n",
    "    return X"
   ]
  },
  {
   "cell_type": "markdown",
   "id": "024de0fd",
   "metadata": {
    "papermill": {
     "duration": 0.005925,
     "end_time": "2022-12-03T11:06:20.255848",
     "exception": false,
     "start_time": "2022-12-03T11:06:20.249923",
     "status": "completed"
    },
    "tags": []
   },
   "source": [
    "# Loading Data   <a id='getdata'></a> "
   ]
  },
  {
   "cell_type": "code",
   "execution_count": 6,
   "id": "27f1e273",
   "metadata": {
    "execution": {
     "iopub.execute_input": "2022-12-03T11:06:20.270464Z",
     "iopub.status.busy": "2022-12-03T11:06:20.269744Z",
     "iopub.status.idle": "2022-12-03T11:06:20.346195Z",
     "shell.execute_reply": "2022-12-03T11:06:20.344908Z"
    },
    "papermill": {
     "duration": 0.087057,
     "end_time": "2022-12-03T11:06:20.348999",
     "exception": false,
     "start_time": "2022-12-03T11:06:20.261942",
     "status": "completed"
    },
    "tags": []
   },
   "outputs": [
    {
     "data": {
      "text/html": [
       "<div>\n",
       "<style scoped>\n",
       "    .dataframe tbody tr th:only-of-type {\n",
       "        vertical-align: middle;\n",
       "    }\n",
       "\n",
       "    .dataframe tbody tr th {\n",
       "        vertical-align: top;\n",
       "    }\n",
       "\n",
       "    .dataframe thead th {\n",
       "        text-align: right;\n",
       "    }\n",
       "</style>\n",
       "<table border=\"1\" class=\"dataframe\">\n",
       "  <thead>\n",
       "    <tr style=\"text-align: right;\">\n",
       "      <th></th>\n",
       "      <th>GRE Score</th>\n",
       "      <th>TOEFL Score</th>\n",
       "      <th>University Rating</th>\n",
       "      <th>SOP</th>\n",
       "      <th>LOR</th>\n",
       "      <th>CGPA</th>\n",
       "      <th>Research</th>\n",
       "    </tr>\n",
       "  </thead>\n",
       "  <tbody>\n",
       "    <tr>\n",
       "      <th>107</th>\n",
       "      <td>1.905951</td>\n",
       "      <td>1.612663</td>\n",
       "      <td>4</td>\n",
       "      <td>3.5</td>\n",
       "      <td>4.5</td>\n",
       "      <td>1.460882</td>\n",
       "      <td>1</td>\n",
       "    </tr>\n",
       "    <tr>\n",
       "      <th>336</th>\n",
       "      <td>0.223813</td>\n",
       "      <td>0.461700</td>\n",
       "      <td>3</td>\n",
       "      <td>3.0</td>\n",
       "      <td>2.5</td>\n",
       "      <td>0.353101</td>\n",
       "      <td>0</td>\n",
       "    </tr>\n",
       "    <tr>\n",
       "      <th>71</th>\n",
       "      <td>1.728884</td>\n",
       "      <td>0.790547</td>\n",
       "      <td>5</td>\n",
       "      <td>5.0</td>\n",
       "      <td>5.0</td>\n",
       "      <td>1.956903</td>\n",
       "      <td>1</td>\n",
       "    </tr>\n",
       "    <tr>\n",
       "      <th>474</th>\n",
       "      <td>-0.750057</td>\n",
       "      <td>-0.360416</td>\n",
       "      <td>4</td>\n",
       "      <td>3.0</td>\n",
       "      <td>2.5</td>\n",
       "      <td>-1.035759</td>\n",
       "      <td>1</td>\n",
       "    </tr>\n",
       "    <tr>\n",
       "      <th>6</th>\n",
       "      <td>0.400880</td>\n",
       "      <td>0.297277</td>\n",
       "      <td>3</td>\n",
       "      <td>3.0</td>\n",
       "      <td>4.0</td>\n",
       "      <td>-0.622407</td>\n",
       "      <td>1</td>\n",
       "    </tr>\n",
       "  </tbody>\n",
       "</table>\n",
       "</div>"
      ],
      "text/plain": [
       "     GRE Score  TOEFL Score  University Rating  SOP  LOR       CGPA  Research\n",
       "107   1.905951     1.612663                  4  3.5   4.5  1.460882         1\n",
       "336   0.223813     0.461700                  3  3.0   2.5  0.353101         0\n",
       "71    1.728884     0.790547                  5  5.0   5.0  1.956903         1\n",
       "474  -0.750057    -0.360416                  4  3.0   2.5 -1.035759         1\n",
       "6     0.400880     0.297277                  3  3.0   4.0 -0.622407         1"
      ]
     },
     "execution_count": 6,
     "metadata": {},
     "output_type": "execute_result"
    }
   ],
   "source": [
    "# Get the data. Note that there are two versions. We will use the one\n",
    "# with the most rows.\n",
    "\n",
    "train_data = pd.read_csv(\"/kaggle/input/graduate-admissions/Admission_Predict_Ver1.1.csv\")\n",
    "\n",
    "# Set X and y\n",
    "X = train_data.drop(['Chance of Admit ', 'Serial No.'], axis=1) # Chance of Admit is the target variable and Serial No. is the order. So we drop them.\n",
    "y = pd.DataFrame(data = train_data['Chance of Admit ']).to_numpy()\n",
    "y = y * 100\n",
    "\n",
    "X = normalize(X)\n",
    "\n",
    "# Break off validation set from training data\n",
    "X_train, X_valid, y_train, y_valid = train_test_split(X, y, train_size=0.8, test_size=0.2, random_state = 0)\n",
    "\n",
    "X_train.head()"
   ]
  },
  {
   "cell_type": "code",
   "execution_count": 7,
   "id": "18946616",
   "metadata": {
    "execution": {
     "iopub.execute_input": "2022-12-03T11:06:20.364651Z",
     "iopub.status.busy": "2022-12-03T11:06:20.364206Z",
     "iopub.status.idle": "2022-12-03T11:06:20.380783Z",
     "shell.execute_reply": "2022-12-03T11:06:20.379753Z"
    },
    "papermill": {
     "duration": 0.027163,
     "end_time": "2022-12-03T11:06:20.383017",
     "exception": false,
     "start_time": "2022-12-03T11:06:20.355854",
     "status": "completed"
    },
    "tags": []
   },
   "outputs": [
    {
     "data": {
      "text/html": [
       "<div>\n",
       "<style scoped>\n",
       "    .dataframe tbody tr th:only-of-type {\n",
       "        vertical-align: middle;\n",
       "    }\n",
       "\n",
       "    .dataframe tbody tr th {\n",
       "        vertical-align: top;\n",
       "    }\n",
       "\n",
       "    .dataframe thead th {\n",
       "        text-align: right;\n",
       "    }\n",
       "</style>\n",
       "<table border=\"1\" class=\"dataframe\">\n",
       "  <thead>\n",
       "    <tr style=\"text-align: right;\">\n",
       "      <th></th>\n",
       "      <th>GRE Score</th>\n",
       "      <th>TOEFL Score</th>\n",
       "      <th>University Rating</th>\n",
       "      <th>SOP</th>\n",
       "      <th>LOR</th>\n",
       "      <th>CGPA</th>\n",
       "      <th>Research</th>\n",
       "    </tr>\n",
       "  </thead>\n",
       "  <tbody>\n",
       "    <tr>\n",
       "      <th>107</th>\n",
       "      <td>1.905951</td>\n",
       "      <td>1.612663</td>\n",
       "      <td>4</td>\n",
       "      <td>3.5</td>\n",
       "      <td>4.5</td>\n",
       "      <td>1.460882</td>\n",
       "      <td>1</td>\n",
       "    </tr>\n",
       "    <tr>\n",
       "      <th>336</th>\n",
       "      <td>0.223813</td>\n",
       "      <td>0.461700</td>\n",
       "      <td>3</td>\n",
       "      <td>3.0</td>\n",
       "      <td>2.5</td>\n",
       "      <td>0.353101</td>\n",
       "      <td>0</td>\n",
       "    </tr>\n",
       "    <tr>\n",
       "      <th>71</th>\n",
       "      <td>1.728884</td>\n",
       "      <td>0.790547</td>\n",
       "      <td>5</td>\n",
       "      <td>5.0</td>\n",
       "      <td>5.0</td>\n",
       "      <td>1.956903</td>\n",
       "      <td>1</td>\n",
       "    </tr>\n",
       "    <tr>\n",
       "      <th>474</th>\n",
       "      <td>-0.750057</td>\n",
       "      <td>-0.360416</td>\n",
       "      <td>4</td>\n",
       "      <td>3.0</td>\n",
       "      <td>2.5</td>\n",
       "      <td>-1.035759</td>\n",
       "      <td>1</td>\n",
       "    </tr>\n",
       "    <tr>\n",
       "      <th>6</th>\n",
       "      <td>0.400880</td>\n",
       "      <td>0.297277</td>\n",
       "      <td>3</td>\n",
       "      <td>3.0</td>\n",
       "      <td>4.0</td>\n",
       "      <td>-0.622407</td>\n",
       "      <td>1</td>\n",
       "    </tr>\n",
       "  </tbody>\n",
       "</table>\n",
       "</div>"
      ],
      "text/plain": [
       "     GRE Score  TOEFL Score  University Rating  SOP  LOR       CGPA  Research\n",
       "107   1.905951     1.612663                  4  3.5   4.5  1.460882         1\n",
       "336   0.223813     0.461700                  3  3.0   2.5  0.353101         0\n",
       "71    1.728884     0.790547                  5  5.0   5.0  1.956903         1\n",
       "474  -0.750057    -0.360416                  4  3.0   2.5 -1.035759         1\n",
       "6     0.400880     0.297277                  3  3.0   4.0 -0.622407         1"
      ]
     },
     "execution_count": 7,
     "metadata": {},
     "output_type": "execute_result"
    }
   ],
   "source": [
    "X_train.head()"
   ]
  },
  {
   "cell_type": "markdown",
   "id": "5faf192c",
   "metadata": {
    "papermill": {
     "duration": 0.006344,
     "end_time": "2022-12-03T11:06:20.396126",
     "exception": false,
     "start_time": "2022-12-03T11:06:20.389782",
     "status": "completed"
    },
    "tags": []
   },
   "source": [
    "# Model Training   <a id='training'></a> "
   ]
  },
  {
   "cell_type": "markdown",
   "id": "c5ae9c9e",
   "metadata": {
    "papermill": {
     "duration": 0.006322,
     "end_time": "2022-12-03T11:06:20.409231",
     "exception": false,
     "start_time": "2022-12-03T11:06:20.402909",
     "status": "completed"
    },
    "tags": []
   },
   "source": [
    "Model training content"
   ]
  },
  {
   "cell_type": "code",
   "execution_count": 8,
   "id": "769583e8",
   "metadata": {
    "execution": {
     "iopub.execute_input": "2022-12-03T11:06:20.425100Z",
     "iopub.status.busy": "2022-12-03T11:06:20.424024Z",
     "iopub.status.idle": "2022-12-03T11:06:20.476719Z",
     "shell.execute_reply": "2022-12-03T11:06:20.475245Z"
    },
    "papermill": {
     "duration": 0.063512,
     "end_time": "2022-12-03T11:06:20.479388",
     "exception": false,
     "start_time": "2022-12-03T11:06:20.415876",
     "status": "completed"
    },
    "tags": []
   },
   "outputs": [
    {
     "name": "stdout",
     "output_type": "stream",
     "text": [
      "initial Cost: 2741.2200000000003\n",
      "\n",
      "Iteration: 1\n",
      "Calculated cost: 1098.200795486207\n",
      "cost difference: 1643.0192045137933\n",
      "\n",
      "Iteration: 2\n",
      "Calculated cost: 466.3562645737862\n",
      "cost difference: 631.8445309124209\n",
      "\n",
      "Iteration: 3\n",
      "Calculated cost: 223.28872399492204\n",
      "cost difference: 243.06754057886414\n",
      "\n",
      "Iteration: 4\n",
      "Calculated cost: 129.70176027830527\n",
      "cost difference: 93.58696371661676\n",
      "\n",
      "Iteration: 5\n",
      "Calculated cost: 93.5916855744227\n",
      "cost difference: 36.110074703882574\n",
      "\n",
      "Iteration: 6\n",
      "Calculated cost: 79.58513993333773\n",
      "cost difference: 14.00654564108497\n",
      "\n",
      "Iteration: 7\n",
      "Calculated cost: 74.08170094655813\n",
      "cost difference: 5.503438986779599\n",
      "\n",
      "Iteration: 8\n",
      "Calculated cost: 71.852101592665\n",
      "cost difference: 2.2295993538931356\n",
      "\n",
      "Iteration: 9\n",
      "Calculated cost: 70.88558461158395\n",
      "cost difference: 0.9665169810810426\n",
      "\n",
      "Iteration: 10\n",
      "Calculated cost: 70.40884042513471\n",
      "cost difference: 0.4767441864492383\n",
      "\n",
      "Iteration: 11\n",
      "Calculated cost: 70.1243384247827\n",
      "cost difference: 0.28450200035200623\n",
      "\n",
      "Iteration: 12\n",
      "Calculated cost: 69.91748407678048\n",
      "cost difference: 0.20685434800222424\n",
      "\n",
      "Iteration: 13\n",
      "Calculated cost: 69.74402768068816\n",
      "cost difference: 0.17345639609231966\n",
      "\n",
      "Iteration: 14\n",
      "Calculated cost: 69.58677534185848\n",
      "cost difference: 0.1572523388296787\n",
      "\n",
      "Iteration: 15\n",
      "Calculated cost: 69.4389449143814\n",
      "cost difference: 0.1478304274770892\n",
      "\n",
      "Iteration: 16\n",
      "Calculated cost: 69.2977662861136\n",
      "cost difference: 0.14117862826779515\n",
      "\n",
      "Iteration: 17\n",
      "Calculated cost: 69.16202037922781\n",
      "cost difference: 0.1357459068857878\n",
      "\n",
      "Iteration: 18\n",
      "Calculated cost: 69.03109251162549\n",
      "cost difference: 0.130927867602324\n",
      "\n",
      "Iteration: 19\n",
      "Calculated cost: 68.90460801511375\n",
      "cost difference: 0.1264844965117362\n",
      "\n",
      "Iteration: 20\n",
      "Calculated cost: 68.78229173875734\n",
      "cost difference: 0.12231627635641473\n",
      "\n",
      "Iteration: 21\n",
      "Calculated cost: 68.66391365146346\n",
      "cost difference: 0.11837808729387689\n",
      "\n",
      "Iteration: 22\n",
      "Calculated cost: 68.54926756749623\n",
      "cost difference: 0.11464608396723008\n",
      "\n",
      "Iteration: 23\n",
      "Calculated cost: 68.43816262582921\n",
      "cost difference: 0.11110494166702267\n",
      "\n",
      "Iteration: 24\n",
      "Calculated cost: 68.33041969094442\n",
      "cost difference: 0.10774293488478293\n",
      "\n",
      "Iteration: 25\n",
      "Calculated cost: 68.22586966278034\n",
      "cost difference: 0.1045500281640841\n",
      "\n",
      "Iteration: 26\n",
      "Calculated cost: 68.12435253678527\n",
      "cost difference: 0.10151712599507334\n",
      "\n",
      "Iteration: 27\n",
      "Calculated cost: 68.02571676760877\n",
      "cost difference: 0.09863576917649652\n",
      "\n",
      " Calculated theta: [ 2.39896475  0.1154608  -0.08728455  6.04120367  6.77904965  7.17415769\n",
      " -0.0507925   1.38983112]\n"
     ]
    }
   ],
   "source": [
    "# Initialize\n",
    "\n",
    "# Make a list of ones\n",
    "m_train = len(X_train)\n",
    "m_valid = len(X_valid)\n",
    "n = len(X_train.axes[1]) + 1\n",
    "        \n",
    "ones_train = [1] * m_train\n",
    "ones_valid = [1] * m_valid\n",
    "\n",
    "# Insert ones to the fist column since\n",
    "# X_0 for all training examples should\n",
    "# be one.\n",
    "X_train.insert(0, \"X_0\", ones_train, True)\n",
    "X_valid.insert(0, \"X_0\", ones_valid, True)\n",
    "\n",
    "# Select zero vector for initial theta\n",
    "zero_list= [0] * n\n",
    "theta = np.asarray(zero_list)\n",
    "\n",
    "# set learning rate \n",
    "alpha = 0.01\n",
    "\n",
    "# Set convergence threshold\n",
    "threshold = 0.1\n",
    "\n",
    "# Initial cost value.\n",
    "# Will also be used in the first iteration\n",
    "# of the while loop. If the initial cost\n",
    "# is smaller then convergence threshold then\n",
    "# while loop will not be executed.\n",
    "cost_diff = J(X_train, y_train, theta)\n",
    "print(\"initial Cost: {}\".format(cost_diff))\n",
    "\n",
    "# We will count the number of iterations.\n",
    "my_iter = 0\n",
    "\n",
    "# Create a dictionary of cost values for debugging\n",
    "cost_dict = {} # will be used for storing the cost value of each iteration.\n",
    "\n",
    "# Add initial cost value to the dictionary\n",
    "my_key = \"I_\" + str(my_iter)\n",
    "cost_dict[my_key] = cost_diff\n",
    "\n",
    "# Start gradient descent\n",
    "while cost_diff >= threshold:\n",
    "    \n",
    "    # calculate initial cost value\n",
    "    initial_cost = J(X_train, y_train, theta)\n",
    "    \n",
    "    # calculate and assign the new theta values\n",
    "    theta = gradient(X_train, y_train, theta, alpha)\n",
    "    \n",
    "    # calculate the consecutive cost value\n",
    "    new_cost = J(X_train, y_train, theta)\n",
    "        \n",
    "    # calculate the difference between the consecutive\n",
    "    # cost values\n",
    "    cost_diff = initial_cost - new_cost\n",
    "    \n",
    "    # Update the dictionary\n",
    "    my_key = \"I_\" + str(my_iter)\n",
    "    cost_dict[my_key] = new_cost\n",
    "    \n",
    "    my_iter += 1\n",
    "    \n",
    "    print()\n",
    "    print(\"Iteration: {}\".format(my_iter))\n",
    "    print(\"Calculated cost: {}\".format(new_cost))\n",
    "    print(\"cost difference: {}\".format(cost_diff))\n",
    "\n",
    "print(\"\\n Calculated theta: {}\".format(theta))\n",
    "  \n"
   ]
  },
  {
   "cell_type": "code",
   "execution_count": 9,
   "id": "4ada0850",
   "metadata": {
    "execution": {
     "iopub.execute_input": "2022-12-03T11:06:20.496053Z",
     "iopub.status.busy": "2022-12-03T11:06:20.494852Z",
     "iopub.status.idle": "2022-12-03T11:06:20.912537Z",
     "shell.execute_reply": "2022-12-03T11:06:20.911624Z"
    },
    "papermill": {
     "duration": 0.428782,
     "end_time": "2022-12-03T11:06:20.915431",
     "exception": false,
     "start_time": "2022-12-03T11:06:20.486649",
     "status": "completed"
    },
    "tags": []
   },
   "outputs": [
    {
     "data": {
      "text/plain": [
       "[<matplotlib.lines.Line2D at 0x7fa6a9fb3d10>]"
      ]
     },
     "execution_count": 9,
     "metadata": {},
     "output_type": "execute_result"
    },
    {
     "data": {
      "image/png": "[encoded data removed]",
      "text/plain": [
       "<Figure size 1440x720 with 1 Axes>"
      ]
     },
     "metadata": {
      "needs_background": "light"
     },
     "output_type": "display_data"
    }
   ],
   "source": [
    "# Plot Debugging Curve\n",
    "Y1=[x for x in cost_dict.values()]\n",
    "\n",
    "X1=[x for x in cost_dict.keys()]\n",
    "\n",
    "fig = plt.figure(figsize=[20, 10])\n",
    "plt.xlabel('Iterations')\n",
    "plt.ylabel('J(θ)')\n",
    "plt.title('Debugging Curve')\n",
    "plt.plot(X1,Y1, color='tab:blue')\n"
   ]
  },
  {
   "cell_type": "markdown",
   "id": "f0bfb5aa",
   "metadata": {
    "papermill": {
     "duration": 0.007864,
     "end_time": "2022-12-03T11:06:20.933739",
     "exception": false,
     "start_time": "2022-12-03T11:06:20.925875",
     "status": "completed"
    },
    "tags": []
   },
   "source": [
    "# Model Validation   <a id='validation'></a> "
   ]
  },
  {
   "cell_type": "markdown",
   "id": "cf17c2f4",
   "metadata": {
    "papermill": {
     "duration": 0.007396,
     "end_time": "2022-12-03T11:06:20.949757",
     "exception": false,
     "start_time": "2022-12-03T11:06:20.942361",
     "status": "completed"
    },
    "tags": []
   },
   "source": [
    "model validation content"
   ]
  },
  {
   "cell_type": "code",
   "execution_count": 10,
   "id": "b9db9a7b",
   "metadata": {
    "execution": {
     "iopub.execute_input": "2022-12-03T11:06:20.966880Z",
     "iopub.status.busy": "2022-12-03T11:06:20.966420Z",
     "iopub.status.idle": "2022-12-03T11:06:20.974458Z",
     "shell.execute_reply": "2022-12-03T11:06:20.972910Z"
    },
    "papermill": {
     "duration": 0.019933,
     "end_time": "2022-12-03T11:06:20.977194",
     "exception": false,
     "start_time": "2022-12-03T11:06:20.957261",
     "status": "completed"
    },
    "tags": []
   },
   "outputs": [
    {
     "name": "stdout",
     "output_type": "stream",
     "text": [
      "\n",
      " theta: [ 2.39896475  0.1154608  -0.08728455  6.04120367  6.77904965  7.17415769\n",
      " -0.0507925   1.38983112]\n",
      "\n",
      "Cost of test data: 76.5767101224091\n"
     ]
    }
   ],
   "source": [
    "print(\"\\n theta: {}\\n\".format(theta))\n",
    "\n",
    "# calculate the cost value for the test set\n",
    "cost_test = J(X_valid, y_valid, theta)\n",
    "print(\"Cost of test data: {}\".format(cost_test))"
   ]
  },
  {
   "cell_type": "markdown",
   "id": "1a05871b",
   "metadata": {
    "papermill": {
     "duration": 0.007207,
     "end_time": "2022-12-03T11:06:20.992212",
     "exception": false,
     "start_time": "2022-12-03T11:06:20.985005",
     "status": "completed"
    },
    "tags": []
   },
   "source": [
    "# Conclusion   <a id='conclusion'></a> "
   ]
  },
  {
   "cell_type": "markdown",
   "id": "ab46cda5",
   "metadata": {
    "papermill": {
     "duration": 0.007572,
     "end_time": "2022-12-03T11:06:21.010740",
     "exception": false,
     "start_time": "2022-12-03T11:06:21.003168",
     "status": "completed"
    },
    "tags": []
   },
   "source": [
    "Conclusion content"
   ]
  },
  {
   "cell_type": "markdown",
   "id": "6257bc3c",
   "metadata": {
    "papermill": {
     "duration": 0.007327,
     "end_time": "2022-12-03T11:06:21.025792",
     "exception": false,
     "start_time": "2022-12-03T11:06:21.018465",
     "status": "completed"
    },
    "tags": []
   },
   "source": [
    "# References   <a id='references'></a>\n",
    "* [Machine Learning Specialization - Deeplearning.AI](https://www.deeplearning.ai/program/machine-learning-specialization/)\n",
    "* [Andrew Ng](https://en.wikipedia.org/wiki/Andrew_Ng)\n",
    "* [@Mohan S Acharya](https://www.kaggle.com/mohansacharya)\n",
    "* [10-simple-hacks-to-speed-up-your-data-analysis - Parul Pandey](https://www.kaggle.com/parulpandey/10-simple-hacks-to-speed-up-your-data-analysis)\n",
    "* [Univariate Linear Regression From Scratch - Kaggle](https://www.kaggle.com/code/erkanhatipoglu/univariate-linear-regression-from-scratch)\n",
    "* [Univariate Linear Regression From Scratch - Towards AI](https://pub.towardsai.net/univariate-linear-regression-from-scratch-68065fe8eb09)"
   ]
  }
 ],
 "metadata": {
  "kernelspec": {
   "display_name": "Python 3",
   "language": "python",
   "name": "python3"
  },
  "language_info": {
   "codemirror_mode": {
    "name": "ipython",
    "version": 3
   },
   "file_extension": ".py",
   "mimetype": "text/x-python",
   "name": "python",
   "nbconvert_exporter": "python",
   "pygments_lexer": "ipython3",
   "version": "3.7.12"
  },
  "papermill": {
   "default_parameters": {},
   "duration": 13.530789,
   "end_time": "2022-12-03T11:06:21.857796",
   "environment_variables": {},
   "exception": null,
   "input_path": "__notebook__.ipynb",
   "output_path": "__notebook__.ipynb",
   "parameters": {},
   "start_time": "2022-12-03T11:06:08.327007",
   "version": "2.3.4"
  }
 },
 "nbformat": 4,
 "nbformat_minor": 5
}
