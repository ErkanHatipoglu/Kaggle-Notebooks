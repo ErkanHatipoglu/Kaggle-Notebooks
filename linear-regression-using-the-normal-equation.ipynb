{
 "cells": [
  {
   "cell_type": "markdown",
   "id": "aec67b09",
   "metadata": {
    "papermill": {
     "duration": 0.005811,
     "end_time": "2023-03-19T20:52:36.087629",
     "exception": false,
     "start_time": "2023-03-19T20:52:36.081818",
     "status": "completed"
    },
    "tags": []
   },
   "source": [
    "# Introduction  <a id='introduction'></a>\n",
    "\n",
    "Introduction Text!\n",
    "\n",
    "This notebook is greatly inspired by the famous Machine Learning course by [Andrew Ng](https://www.andrewng.org/). All the mistakes, if any, are made by me.\n",
    "\n",
    "Finally, thanks to [@Mohan S Acharya](https://www.kaggle.com/mohansacharya) for this dataset.\n",
    "\n",
    "\n",
    "# Table of Contents\n",
    "* [Introduction](#introduction)\n",
    "* [Helper functions](#functions)\n",
    "* [The Normal Equation](#normal)\n",
    "* [The Hypothesis](#hypothesis)\n",
    "* [The Cost Function](#cost)\n",
    "* [Loading Data](#getdata)\n",
    "* [Model Training](#training)\n",
    "* [Model Validation](#validation)\n",
    "* [Conclusion](#conclusion)\n",
    "* [References](#references)"
   ]
  },
  {
   "cell_type": "code",
   "execution_count": 1,
   "id": "99455fe3",
   "metadata": {
    "_cell_guid": "b1076dfc-b9ad-4769-8c92-a6c4dae69d19",
    "_uuid": "8f2839f25d086af736a60e9eeb907d3b93b6e0e5",
    "execution": {
     "iopub.execute_input": "2023-03-19T20:52:36.098328Z",
     "iopub.status.busy": "2023-03-19T20:52:36.097884Z",
     "iopub.status.idle": "2023-03-19T20:52:36.128623Z",
     "shell.execute_reply": "2023-03-19T20:52:36.127465Z"
    },
    "papermill": {
     "duration": 0.040378,
     "end_time": "2023-03-19T20:52:36.132424",
     "exception": false,
     "start_time": "2023-03-19T20:52:36.092046",
     "status": "completed"
    },
    "tags": []
   },
   "outputs": [
    {
     "name": "stdout",
     "output_type": "stream",
     "text": [
      "/kaggle/input/graduate-admissions/Admission_Predict.csv\n",
      "/kaggle/input/graduate-admissions/Admission_Predict_Ver1.1.csv\n"
     ]
    }
   ],
   "source": [
    "# This Python 3 environment comes with many helpful analytics libraries installed\n",
    "# It is defined by the kaggle/python Docker image: https://github.com/kaggle/docker-python\n",
    "# For example, here's several helpful packages to load\n",
    "\n",
    "import numpy as np # linear algebra\n",
    "import pandas as pd # data processing, CSV file I/O (e.g. pd.read_csv)\n",
    "\n",
    "# Input data files are available in the read-only \"../input/\" directory\n",
    "# For example, running this (by clicking run or pressing Shift+Enter) will list all files under the input directory\n",
    "\n",
    "import os\n",
    "for dirname, _, filenames in os.walk('/kaggle/input'):\n",
    "    for filename in filenames:\n",
    "        print(os.path.join(dirname, filename))\n",
    "\n",
    "# You can write up to 20GB to the current directory (/kaggle/working/) that gets preserved as output when you create a version using \"Save & Run All\" \n",
    "# You can also write temporary files to /kaggle/temp/, but they won't be saved outside of the current session"
   ]
  },
  {
   "cell_type": "markdown",
   "id": "50d37d14",
   "metadata": {
    "papermill": {
     "duration": 0.004056,
     "end_time": "2023-03-19T20:52:36.141844",
     "exception": false,
     "start_time": "2023-03-19T20:52:36.137788",
     "status": "completed"
    },
    "tags": []
   },
   "source": [
    "# Helper Functions   <a id='functions'></a>   "
   ]
  },
  {
   "cell_type": "markdown",
   "id": "e2d08f9e",
   "metadata": {
    "papermill": {
     "duration": 0.003846,
     "end_time": "2023-03-19T20:52:36.149933",
     "exception": false,
     "start_time": "2023-03-19T20:52:36.146087",
     "status": "completed"
    },
    "tags": []
   },
   "source": [
    "<div class=\"alert alert-block alert-info\">\n",
    "<b>Tip:</b> We will use some helper functions throughout the notebook. Collecting them in one place is a good idea, making the code more organized. First, we will define and explain those functions and then use them in our code.\n",
    "</div>"
   ]
  },
  {
   "cell_type": "markdown",
   "id": "96f2d9e2",
   "metadata": {
    "papermill": {
     "duration": 0.003838,
     "end_time": "2023-03-19T20:52:36.157877",
     "exception": false,
     "start_time": "2023-03-19T20:52:36.154039",
     "status": "completed"
    },
    "tags": []
   },
   "source": [
    "# The Normal Equation   <a id='normal'></a> "
   ]
  },
  {
   "cell_type": "markdown",
   "id": "31e449fc",
   "metadata": {
    "papermill": {
     "duration": 0.003711,
     "end_time": "2023-03-19T20:52:36.165616",
     "exception": false,
     "start_time": "2023-03-19T20:52:36.161905",
     "status": "completed"
    },
    "tags": []
   },
   "source": [
    "The Normal Equation Text!"
   ]
  },
  {
   "cell_type": "markdown",
   "id": "d422da8a",
   "metadata": {
    "papermill": {
     "duration": 0.003687,
     "end_time": "2023-03-19T20:52:36.173216",
     "exception": false,
     "start_time": "2023-03-19T20:52:36.169529",
     "status": "completed"
    },
    "tags": []
   },
   "source": [
    "# The  Hypothesis   <a id='hypothesis'></a>   "
   ]
  },
  {
   "cell_type": "markdown",
   "id": "a89a108f",
   "metadata": {
    "execution": {
     "iopub.execute_input": "2023-03-19T20:08:10.723871Z",
     "iopub.status.busy": "2023-03-19T20:08:10.723267Z",
     "iopub.status.idle": "2023-03-19T20:08:10.730032Z",
     "shell.execute_reply": "2023-03-19T20:08:10.728533Z",
     "shell.execute_reply.started": "2023-03-19T20:08:10.723828Z"
    },
    "papermill": {
     "duration": 0.003704,
     "end_time": "2023-03-19T20:52:36.180905",
     "exception": false,
     "start_time": "2023-03-19T20:52:36.177201",
     "status": "completed"
    },
    "tags": []
   },
   "source": [
    "The Hypothesis Text!"
   ]
  },
  {
   "cell_type": "markdown",
   "id": "0fb3addd",
   "metadata": {
    "papermill": {
     "duration": 0.003728,
     "end_time": "2023-03-19T20:52:36.188567",
     "exception": false,
     "start_time": "2023-03-19T20:52:36.184839",
     "status": "completed"
    },
    "tags": []
   },
   "source": [
    "# The  Cost Function   <a id='cost'></a> "
   ]
  },
  {
   "cell_type": "markdown",
   "id": "dbeb2a27",
   "metadata": {
    "papermill": {
     "duration": 0.003832,
     "end_time": "2023-03-19T20:52:36.196355",
     "exception": false,
     "start_time": "2023-03-19T20:52:36.192523",
     "status": "completed"
    },
    "tags": []
   },
   "source": [
    "The cost Function Text!"
   ]
  },
  {
   "cell_type": "markdown",
   "id": "642ba810",
   "metadata": {
    "papermill": {
     "duration": 0.003735,
     "end_time": "2023-03-19T20:52:36.204194",
     "exception": false,
     "start_time": "2023-03-19T20:52:36.200459",
     "status": "completed"
    },
    "tags": []
   },
   "source": [
    "# Loading Data   <a id='getdata'></a> "
   ]
  },
  {
   "cell_type": "markdown",
   "id": "d4bea974",
   "metadata": {
    "papermill": {
     "duration": 0.003683,
     "end_time": "2023-03-19T20:52:36.211820",
     "exception": false,
     "start_time": "2023-03-19T20:52:36.208137",
     "status": "completed"
    },
    "tags": []
   },
   "source": [
    "Loading Data Text!"
   ]
  },
  {
   "cell_type": "markdown",
   "id": "e527ad73",
   "metadata": {
    "papermill": {
     "duration": 0.003712,
     "end_time": "2023-03-19T20:52:36.219591",
     "exception": false,
     "start_time": "2023-03-19T20:52:36.215879",
     "status": "completed"
    },
    "tags": []
   },
   "source": [
    "# Model Training   <a id='training'></a> "
   ]
  },
  {
   "cell_type": "markdown",
   "id": "8c38c532",
   "metadata": {
    "papermill": {
     "duration": 0.003666,
     "end_time": "2023-03-19T20:52:36.227163",
     "exception": false,
     "start_time": "2023-03-19T20:52:36.223497",
     "status": "completed"
    },
    "tags": []
   },
   "source": [
    "Model Training Text!"
   ]
  },
  {
   "cell_type": "markdown",
   "id": "30ea2714",
   "metadata": {
    "papermill": {
     "duration": 0.003814,
     "end_time": "2023-03-19T20:52:36.234931",
     "exception": false,
     "start_time": "2023-03-19T20:52:36.231117",
     "status": "completed"
    },
    "tags": []
   },
   "source": [
    "# Model Validation   <a id='validation'></a> "
   ]
  },
  {
   "cell_type": "markdown",
   "id": "adc8eeb9",
   "metadata": {
    "papermill": {
     "duration": 0.003718,
     "end_time": "2023-03-19T20:52:36.242648",
     "exception": false,
     "start_time": "2023-03-19T20:52:36.238930",
     "status": "completed"
    },
    "tags": []
   },
   "source": [
    "Model Validation Text"
   ]
  },
  {
   "cell_type": "markdown",
   "id": "d6813c98",
   "metadata": {
    "papermill": {
     "duration": 0.003744,
     "end_time": "2023-03-19T20:52:36.250366",
     "exception": false,
     "start_time": "2023-03-19T20:52:36.246622",
     "status": "completed"
    },
    "tags": []
   },
   "source": [
    "# Conclusion   <a id='conclusion'></a> "
   ]
  },
  {
   "cell_type": "markdown",
   "id": "81a77d66",
   "metadata": {
    "papermill": {
     "duration": 0.003758,
     "end_time": "2023-03-19T20:52:36.258166",
     "exception": false,
     "start_time": "2023-03-19T20:52:36.254408",
     "status": "completed"
    },
    "tags": []
   },
   "source": [
    "Conclusion Text!"
   ]
  },
  {
   "cell_type": "markdown",
   "id": "fe630037",
   "metadata": {
    "papermill": {
     "duration": 0.00377,
     "end_time": "2023-03-19T20:52:36.266167",
     "exception": false,
     "start_time": "2023-03-19T20:52:36.262397",
     "status": "completed"
    },
    "tags": []
   },
   "source": [
    "# References   <a id='references'></a>\n",
    "* [Machine Learning Specialization - Deeplearning.AI](https://www.deeplearning.ai/program/machine-learning-specialization/)\n",
    "* [Andrew Ng](https://en.wikipedia.org/wiki/Andrew_Ng)\n",
    "* [@Mohan S Acharya](https://www.kaggle.com/mohansacharya)\n",
    "* [Multivariate Linear Regression From Scratch - Kaggle](https://www.kaggle.com/code/erkanhatipoglu/multivariate-linear-regression-from-scratch)\n",
    "* [Univariate Linear Regression From Scratch - Kaggle](https://www.kaggle.com/code/erkanhatipoglu/univariate-linear-regression-from-scratch)\n",
    "* [Univariate Linear Regression From Scratch - Towards AI](https://pub.towardsai.net/univariate-linear-regression-from-scratch-68065fe8eb09)\n",
    "* [Towards AI](https://pub.towardsai.net/)"
   ]
  }
 ],
 "metadata": {
  "kernelspec": {
   "display_name": "Python 3",
   "language": "python",
   "name": "python3"
  },
  "language_info": {
   "codemirror_mode": {
    "name": "ipython",
    "version": 3
   },
   "file_extension": ".py",
   "mimetype": "text/x-python",
   "name": "python",
   "nbconvert_exporter": "python",
   "pygments_lexer": "ipython3",
   "version": "3.7.12"
  },
  "papermill": {
   "default_parameters": {},
   "duration": 11.128406,
   "end_time": "2023-03-19T20:52:36.891530",
   "environment_variables": {},
   "exception": null,
   "input_path": "__notebook__.ipynb",
   "output_path": "__notebook__.ipynb",
   "parameters": {},
   "start_time": "2023-03-19T20:52:25.763124",
   "version": "2.4.0"
  }
 },
 "nbformat": 4,
 "nbformat_minor": 5
}
