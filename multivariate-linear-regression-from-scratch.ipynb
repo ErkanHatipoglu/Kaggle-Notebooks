{
 "cells": [
  {
   "cell_type": "markdown",
   "id": "57a8784b",
   "metadata": {
    "papermill": {
     "duration": 0.007303,
     "end_time": "2022-11-28T13:39:32.778631",
     "exception": false,
     "start_time": "2022-11-28T13:39:32.771328",
     "status": "completed"
    },
    "tags": []
   },
   "source": [
    "# Introduction  <a id='introduction'></a>\n",
    "\n",
    "This notebook contains Python code for a multivariate linear regression task. Multivariate linear regression means linear regression with more than one variable. In addition to Python, we will also use Pandas, Numpy, and Matplotlib libraries. \n",
    "\n",
    "This notebook is greatly inspired by the famous Machine Learning course by [Andrew Ng](https://www.andrewng.org/). As always, all the mistakes, if any, are made by me.\n",
    "\n",
    "Finally, thanks to [@Mohan S Acharya](https://www.kaggle.com/mohansacharya) for this dataset.\n",
    "\n",
    "\n",
    "# Table of Contents\n",
    "* [Introduction](#introduction)\n",
    "* [Helper functios](#functions)\n",
    "* [The Hypothesis](#hypothesis)\n",
    "* [The Cost Function](#cost)\n",
    "* [Gradient Descent](#gradient)\n",
    "* [Feature Normalization](#normalization)\n",
    "* [Loading Data](#getdata)\n",
    "* [Model Training](#training)\n",
    "* [Model Validation](#validation)\n",
    "* [Conclusion](#conclusion)\n",
    "* [References](#references)"
   ]
  },
  {
   "cell_type": "code",
   "execution_count": 1,
   "id": "ede3c332",
   "metadata": {
    "_cell_guid": "b1076dfc-b9ad-4769-8c92-a6c4dae69d19",
    "_uuid": "8f2839f25d086af736a60e9eeb907d3b93b6e0e5",
    "execution": {
     "iopub.execute_input": "2022-11-28T13:39:32.793195Z",
     "iopub.status.busy": "2022-11-28T13:39:32.792717Z",
     "iopub.status.idle": "2022-11-28T13:39:33.932750Z",
     "shell.execute_reply": "2022-11-28T13:39:33.931840Z"
    },
    "papermill": {
     "duration": 1.150516,
     "end_time": "2022-11-28T13:39:33.935431",
     "exception": false,
     "start_time": "2022-11-28T13:39:32.784915",
     "status": "completed"
    },
    "tags": []
   },
   "outputs": [
    {
     "name": "stdout",
     "output_type": "stream",
     "text": [
      "/kaggle/input/graduate-admissions/Admission_Predict.csv\n",
      "/kaggle/input/graduate-admissions/Admission_Predict_Ver1.1.csv\n"
     ]
    }
   ],
   "source": [
    "# This Python 3 environment comes with many helpful analytics libraries installed\n",
    "# It is defined by the kaggle/python Docker image: https://github.com/kaggle/docker-python\n",
    "# For example, here's several helpful packages to load\n",
    "\n",
    "import numpy as np # linear algebra\n",
    "import pandas as pd # data processing, CSV file I/O (e.g. pd.read_csv)\n",
    "\n",
    "# Input data files are available in the read-only \"../input/\" directory\n",
    "# For example, running this (by clicking run or pressing Shift+Enter) will list all files under the input directory\n",
    "\n",
    "import os\n",
    "for dirname, _, filenames in os.walk('/kaggle/input'):\n",
    "    for filename in filenames:\n",
    "        print(os.path.join(dirname, filename))\n",
    "\n",
    "# You can write up to 20GB to the current directory (/kaggle/working/) that gets preserved as output when you create a version using \"Save & Run All\" \n",
    "# You can also write temporary files to /kaggle/temp/, but they won't be saved outside of the current session\n",
    "\n",
    "from sklearn.model_selection import train_test_split"
   ]
  },
  {
   "cell_type": "markdown",
   "id": "d4e95b11",
   "metadata": {
    "papermill": {
     "duration": 0.006099,
     "end_time": "2022-11-28T13:39:33.948916",
     "exception": false,
     "start_time": "2022-11-28T13:39:33.942817",
     "status": "completed"
    },
    "tags": []
   },
   "source": [
    "# Helper Functions   <a id='functions'></a>   "
   ]
  },
  {
   "cell_type": "markdown",
   "id": "ef4820e3",
   "metadata": {
    "papermill": {
     "duration": 0.006681,
     "end_time": "2022-11-28T13:39:33.962062",
     "exception": false,
     "start_time": "2022-11-28T13:39:33.955381",
     "status": "completed"
    },
    "tags": []
   },
   "source": [
    "<div class=\"alert alert-block alert-info\">\n",
    "<b>Tip:</b> Tip: We will use some helper functions throughout the notebook. Collecting them in one place is a good idea, making the code more organized. First, we will define and explain those functions and then use them in our code.\n",
    "</div>"
   ]
  },
  {
   "cell_type": "markdown",
   "id": "6e61ec01",
   "metadata": {
    "papermill": {
     "duration": 0.005974,
     "end_time": "2022-11-28T13:39:33.974352",
     "exception": false,
     "start_time": "2022-11-28T13:39:33.968378",
     "status": "completed"
    },
    "tags": []
   },
   "source": [
    "# The  Hypothesis   <a id='hypothesis'></a>   "
   ]
  },
  {
   "cell_type": "markdown",
   "id": "2fdd1e92",
   "metadata": {
    "papermill": {
     "duration": 0.005948,
     "end_time": "2022-11-28T13:39:33.986499",
     "exception": false,
     "start_time": "2022-11-28T13:39:33.980551",
     "status": "completed"
    },
    "tags": []
   },
   "source": [
    "The Hypotehsis Content"
   ]
  },
  {
   "cell_type": "code",
   "execution_count": 2,
   "id": "0fbf6cf7",
   "metadata": {
    "execution": {
     "iopub.execute_input": "2022-11-28T13:39:34.001106Z",
     "iopub.status.busy": "2022-11-28T13:39:34.000476Z",
     "iopub.status.idle": "2022-11-28T13:39:34.005446Z",
     "shell.execute_reply": "2022-11-28T13:39:34.004546Z"
    },
    "papermill": {
     "duration": 0.015045,
     "end_time": "2022-11-28T13:39:34.007751",
     "exception": false,
     "start_time": "2022-11-28T13:39:33.992706",
     "status": "completed"
    },
    "tags": []
   },
   "outputs": [],
   "source": [
    "# The hypothesis\n",
    "def h(x, theta):\n",
    "    \"\"\"\n",
    "    calculates the predicted values (or predicted targets) for a given set of input and theta vectors.\n",
    "    :param x: inputs (feature values) - data frame of floats \n",
    "    :param theta: theta vector (weights) - Numpy array of floats\n",
    "    :return: predicted targets - Numpy array of floats\n",
    "    \n",
    "    \"\"\"\n",
    "    return np.dot(x, theta)"
   ]
  },
  {
   "cell_type": "markdown",
   "id": "fdfa9417",
   "metadata": {
    "papermill": {
     "duration": 0.00585,
     "end_time": "2022-11-28T13:39:34.021466",
     "exception": false,
     "start_time": "2022-11-28T13:39:34.015616",
     "status": "completed"
    },
    "tags": []
   },
   "source": [
    "# The  Cost Function   <a id='cost'></a> "
   ]
  },
  {
   "cell_type": "markdown",
   "id": "a6c4e524",
   "metadata": {
    "papermill": {
     "duration": 0.005826,
     "end_time": "2022-11-28T13:39:34.033391",
     "exception": false,
     "start_time": "2022-11-28T13:39:34.027565",
     "status": "completed"
    },
    "tags": []
   },
   "source": [
    "The Cost function Content"
   ]
  },
  {
   "cell_type": "code",
   "execution_count": 3,
   "id": "41d898dc",
   "metadata": {
    "execution": {
     "iopub.execute_input": "2022-11-28T13:39:34.047157Z",
     "iopub.status.busy": "2022-11-28T13:39:34.046715Z",
     "iopub.status.idle": "2022-11-28T13:39:34.053559Z",
     "shell.execute_reply": "2022-11-28T13:39:34.052324Z"
    },
    "papermill": {
     "duration": 0.016615,
     "end_time": "2022-11-28T13:39:34.056033",
     "exception": false,
     "start_time": "2022-11-28T13:39:34.039418",
     "status": "completed"
    },
    "tags": []
   },
   "outputs": [],
   "source": [
    "# The cost function Code\n",
    "\n",
    "def J(X,y,theta):\n",
    "    \"\"\"\n",
    "     Cost function.\n",
    "     Calculates the total error.\n",
    "    :param X: inputs (feature values) - data frame of floats\n",
    "    :param y: outputs (actual target values) - Numpy array of floats\n",
    "    :param theta: theta vector (weights) - Numpy array of floats\n",
    "    :return: total error - float\n",
    "    \n",
    "    \"\"\"\n",
    "    # Calculate number of examples\n",
    "    m = len(X)\n",
    "    \n",
    "    # Calculate the constant\n",
    "    c = 1/(2 * m)\n",
    "       \n",
    "    # Calculate the array of errors\n",
    "    temp_0 = h(X, theta) - y.reshape(-1)\n",
    "\n",
    "    # Calculate the transpose of array of errors\n",
    "    temp_1 = temp_0.transpose()\n",
    "\n",
    "    # Calculate the dot product \n",
    "    temp_2 = np.dot(temp_1, temp_0) \n",
    "\n",
    "    return  c * temp_2"
   ]
  },
  {
   "cell_type": "markdown",
   "id": "e7ffcf79",
   "metadata": {
    "papermill": {
     "duration": 0.006064,
     "end_time": "2022-11-28T13:39:34.068844",
     "exception": false,
     "start_time": "2022-11-28T13:39:34.062780",
     "status": "completed"
    },
    "tags": []
   },
   "source": [
    "# Gradient Descent   <a id='gradient'></a> "
   ]
  },
  {
   "cell_type": "markdown",
   "id": "0c1a6806",
   "metadata": {
    "papermill": {
     "duration": 0.005936,
     "end_time": "2022-11-28T13:39:34.081250",
     "exception": false,
     "start_time": "2022-11-28T13:39:34.075314",
     "status": "completed"
    },
    "tags": []
   },
   "source": [
    "The gradient Descent content"
   ]
  },
  {
   "cell_type": "code",
   "execution_count": 4,
   "id": "4c1260d9",
   "metadata": {
    "execution": {
     "iopub.execute_input": "2022-11-28T13:39:34.096566Z",
     "iopub.status.busy": "2022-11-28T13:39:34.096160Z",
     "iopub.status.idle": "2022-11-28T13:39:34.101772Z",
     "shell.execute_reply": "2022-11-28T13:39:34.100576Z"
    },
    "papermill": {
     "duration": 0.016353,
     "end_time": "2022-11-28T13:39:34.104389",
     "exception": false,
     "start_time": "2022-11-28T13:39:34.088036",
     "status": "completed"
    },
    "tags": []
   },
   "outputs": [],
   "source": [
    "# the gradient descent code"
   ]
  },
  {
   "cell_type": "markdown",
   "id": "701b1382",
   "metadata": {
    "papermill": {
     "duration": 0.005953,
     "end_time": "2022-11-28T13:39:34.116797",
     "exception": false,
     "start_time": "2022-11-28T13:39:34.110844",
     "status": "completed"
    },
    "tags": []
   },
   "source": [
    "# Feature Normalization  <a id='normalization'></a>"
   ]
  },
  {
   "cell_type": "code",
   "execution_count": 5,
   "id": "225585b2",
   "metadata": {
    "execution": {
     "iopub.execute_input": "2022-11-28T13:39:34.131068Z",
     "iopub.status.busy": "2022-11-28T13:39:34.130662Z",
     "iopub.status.idle": "2022-11-28T13:39:34.135689Z",
     "shell.execute_reply": "2022-11-28T13:39:34.134442Z"
    },
    "papermill": {
     "duration": 0.01469,
     "end_time": "2022-11-28T13:39:34.137874",
     "exception": false,
     "start_time": "2022-11-28T13:39:34.123184",
     "status": "completed"
    },
    "tags": []
   },
   "outputs": [],
   "source": [
    "# the feature normalization code"
   ]
  },
  {
   "cell_type": "markdown",
   "id": "e15c1399",
   "metadata": {
    "papermill": {
     "duration": 0.005972,
     "end_time": "2022-11-28T13:39:34.150134",
     "exception": false,
     "start_time": "2022-11-28T13:39:34.144162",
     "status": "completed"
    },
    "tags": []
   },
   "source": [
    "# Loading Data   <a id='getdata'></a> "
   ]
  },
  {
   "cell_type": "code",
   "execution_count": 6,
   "id": "044a76f6",
   "metadata": {
    "execution": {
     "iopub.execute_input": "2022-11-28T13:39:34.165714Z",
     "iopub.status.busy": "2022-11-28T13:39:34.164820Z",
     "iopub.status.idle": "2022-11-28T13:39:34.216892Z",
     "shell.execute_reply": "2022-11-28T13:39:34.215693Z"
    },
    "papermill": {
     "duration": 0.062381,
     "end_time": "2022-11-28T13:39:34.219272",
     "exception": false,
     "start_time": "2022-11-28T13:39:34.156891",
     "status": "completed"
    },
    "tags": []
   },
   "outputs": [
    {
     "data": {
      "text/html": [
       "<div>\n",
       "<style scoped>\n",
       "    .dataframe tbody tr th:only-of-type {\n",
       "        vertical-align: middle;\n",
       "    }\n",
       "\n",
       "    .dataframe tbody tr th {\n",
       "        vertical-align: top;\n",
       "    }\n",
       "\n",
       "    .dataframe thead th {\n",
       "        text-align: right;\n",
       "    }\n",
       "</style>\n",
       "<table border=\"1\" class=\"dataframe\">\n",
       "  <thead>\n",
       "    <tr style=\"text-align: right;\">\n",
       "      <th></th>\n",
       "      <th>GRE Score</th>\n",
       "      <th>TOEFL Score</th>\n",
       "      <th>University Rating</th>\n",
       "      <th>SOP</th>\n",
       "      <th>LOR</th>\n",
       "      <th>CGPA</th>\n",
       "      <th>Research</th>\n",
       "    </tr>\n",
       "  </thead>\n",
       "  <tbody>\n",
       "    <tr>\n",
       "      <th>249</th>\n",
       "      <td>321</td>\n",
       "      <td>111</td>\n",
       "      <td>3</td>\n",
       "      <td>3.5</td>\n",
       "      <td>4.0</td>\n",
       "      <td>8.83</td>\n",
       "      <td>1</td>\n",
       "    </tr>\n",
       "    <tr>\n",
       "      <th>433</th>\n",
       "      <td>316</td>\n",
       "      <td>111</td>\n",
       "      <td>4</td>\n",
       "      <td>4.0</td>\n",
       "      <td>5.0</td>\n",
       "      <td>8.54</td>\n",
       "      <td>0</td>\n",
       "    </tr>\n",
       "    <tr>\n",
       "      <th>19</th>\n",
       "      <td>303</td>\n",
       "      <td>102</td>\n",
       "      <td>3</td>\n",
       "      <td>3.5</td>\n",
       "      <td>3.0</td>\n",
       "      <td>8.50</td>\n",
       "      <td>0</td>\n",
       "    </tr>\n",
       "    <tr>\n",
       "      <th>322</th>\n",
       "      <td>314</td>\n",
       "      <td>107</td>\n",
       "      <td>2</td>\n",
       "      <td>2.5</td>\n",
       "      <td>4.0</td>\n",
       "      <td>8.27</td>\n",
       "      <td>0</td>\n",
       "    </tr>\n",
       "    <tr>\n",
       "      <th>332</th>\n",
       "      <td>308</td>\n",
       "      <td>106</td>\n",
       "      <td>3</td>\n",
       "      <td>3.5</td>\n",
       "      <td>2.5</td>\n",
       "      <td>8.21</td>\n",
       "      <td>1</td>\n",
       "    </tr>\n",
       "  </tbody>\n",
       "</table>\n",
       "</div>"
      ],
      "text/plain": [
       "     GRE Score  TOEFL Score  University Rating  SOP  LOR   CGPA  Research\n",
       "249        321          111                  3  3.5   4.0  8.83         1\n",
       "433        316          111                  4  4.0   5.0  8.54         0\n",
       "19         303          102                  3  3.5   3.0  8.50         0\n",
       "322        314          107                  2  2.5   4.0  8.27         0\n",
       "332        308          106                  3  3.5   2.5  8.21         1"
      ]
     },
     "execution_count": 6,
     "metadata": {},
     "output_type": "execute_result"
    }
   ],
   "source": [
    "# Get the data. Note that there are two versions. We will use the one\n",
    "# with the most rows.\n",
    "\n",
    "train_data = pd.read_csv(\"/kaggle/input/graduate-admissions/Admission_Predict_Ver1.1.csv\")\n",
    "\n",
    "# Set y and X\n",
    "\n",
    "y = pd.DataFrame(data = train_data['Chance of Admit ']).to_numpy()\n",
    "X = train_data.drop(['Chance of Admit ', 'Serial No.'], axis=1) # Chance of Admit is the target variable and Serial No. is the order. So we drop them.\n",
    "\n",
    "# Break off validation set from training data\n",
    "X_train, X_valid, y_train, y_valid = train_test_split(X, y, train_size=0.8, test_size=0.2,\n",
    "                                                                random_state=42)\n",
    "\n",
    "X_train.head()"
   ]
  },
  {
   "cell_type": "code",
   "execution_count": 7,
   "id": "1435569b",
   "metadata": {
    "execution": {
     "iopub.execute_input": "2022-11-28T13:39:34.234060Z",
     "iopub.status.busy": "2022-11-28T13:39:34.233622Z",
     "iopub.status.idle": "2022-11-28T13:39:34.248587Z",
     "shell.execute_reply": "2022-11-28T13:39:34.247168Z"
    },
    "papermill": {
     "duration": 0.025394,
     "end_time": "2022-11-28T13:39:34.251235",
     "exception": false,
     "start_time": "2022-11-28T13:39:34.225841",
     "status": "completed"
    },
    "tags": []
   },
   "outputs": [
    {
     "data": {
      "text/html": [
       "<div>\n",
       "<style scoped>\n",
       "    .dataframe tbody tr th:only-of-type {\n",
       "        vertical-align: middle;\n",
       "    }\n",
       "\n",
       "    .dataframe tbody tr th {\n",
       "        vertical-align: top;\n",
       "    }\n",
       "\n",
       "    .dataframe thead th {\n",
       "        text-align: right;\n",
       "    }\n",
       "</style>\n",
       "<table border=\"1\" class=\"dataframe\">\n",
       "  <thead>\n",
       "    <tr style=\"text-align: right;\">\n",
       "      <th></th>\n",
       "      <th>GRE Score</th>\n",
       "      <th>TOEFL Score</th>\n",
       "      <th>University Rating</th>\n",
       "      <th>SOP</th>\n",
       "      <th>LOR</th>\n",
       "      <th>CGPA</th>\n",
       "      <th>Research</th>\n",
       "    </tr>\n",
       "  </thead>\n",
       "  <tbody>\n",
       "    <tr>\n",
       "      <th>249</th>\n",
       "      <td>321</td>\n",
       "      <td>111</td>\n",
       "      <td>3</td>\n",
       "      <td>3.5</td>\n",
       "      <td>4.0</td>\n",
       "      <td>8.83</td>\n",
       "      <td>1</td>\n",
       "    </tr>\n",
       "    <tr>\n",
       "      <th>433</th>\n",
       "      <td>316</td>\n",
       "      <td>111</td>\n",
       "      <td>4</td>\n",
       "      <td>4.0</td>\n",
       "      <td>5.0</td>\n",
       "      <td>8.54</td>\n",
       "      <td>0</td>\n",
       "    </tr>\n",
       "    <tr>\n",
       "      <th>19</th>\n",
       "      <td>303</td>\n",
       "      <td>102</td>\n",
       "      <td>3</td>\n",
       "      <td>3.5</td>\n",
       "      <td>3.0</td>\n",
       "      <td>8.50</td>\n",
       "      <td>0</td>\n",
       "    </tr>\n",
       "    <tr>\n",
       "      <th>322</th>\n",
       "      <td>314</td>\n",
       "      <td>107</td>\n",
       "      <td>2</td>\n",
       "      <td>2.5</td>\n",
       "      <td>4.0</td>\n",
       "      <td>8.27</td>\n",
       "      <td>0</td>\n",
       "    </tr>\n",
       "    <tr>\n",
       "      <th>332</th>\n",
       "      <td>308</td>\n",
       "      <td>106</td>\n",
       "      <td>3</td>\n",
       "      <td>3.5</td>\n",
       "      <td>2.5</td>\n",
       "      <td>8.21</td>\n",
       "      <td>1</td>\n",
       "    </tr>\n",
       "  </tbody>\n",
       "</table>\n",
       "</div>"
      ],
      "text/plain": [
       "     GRE Score  TOEFL Score  University Rating  SOP  LOR   CGPA  Research\n",
       "249        321          111                  3  3.5   4.0  8.83         1\n",
       "433        316          111                  4  4.0   5.0  8.54         0\n",
       "19         303          102                  3  3.5   3.0  8.50         0\n",
       "322        314          107                  2  2.5   4.0  8.27         0\n",
       "332        308          106                  3  3.5   2.5  8.21         1"
      ]
     },
     "execution_count": 7,
     "metadata": {},
     "output_type": "execute_result"
    }
   ],
   "source": [
    "X_train.head()"
   ]
  },
  {
   "cell_type": "code",
   "execution_count": 8,
   "id": "cbf1a0c6",
   "metadata": {
    "execution": {
     "iopub.execute_input": "2022-11-28T13:39:34.267055Z",
     "iopub.status.busy": "2022-11-28T13:39:34.266542Z",
     "iopub.status.idle": "2022-11-28T13:39:34.273998Z",
     "shell.execute_reply": "2022-11-28T13:39:34.272858Z"
    },
    "papermill": {
     "duration": 0.017704,
     "end_time": "2022-11-28T13:39:34.276266",
     "exception": false,
     "start_time": "2022-11-28T13:39:34.258562",
     "status": "completed"
    },
    "tags": []
   },
   "outputs": [],
   "source": [
    "# Make an list of ones\n",
    "ones = [1] * len(X_train)\n",
    "\n",
    "# Insert ones to the fist column since\n",
    "# X_0 for all training examples should\n",
    "# be one\n",
    "X_train.insert(0, \"X_0\", ones, True)\n",
    "\n",
    "# Select zero vector for initial theta\n",
    "theta = [0] * len(X_train.axes[1])\n"
   ]
  },
  {
   "cell_type": "code",
   "execution_count": 9,
   "id": "e3e85cef",
   "metadata": {
    "execution": {
     "iopub.execute_input": "2022-11-28T13:39:34.291511Z",
     "iopub.status.busy": "2022-11-28T13:39:34.291142Z",
     "iopub.status.idle": "2022-11-28T13:39:34.298736Z",
     "shell.execute_reply": "2022-11-28T13:39:34.297615Z"
    },
    "papermill": {
     "duration": 0.018243,
     "end_time": "2022-11-28T13:39:34.301206",
     "exception": false,
     "start_time": "2022-11-28T13:39:34.282963",
     "status": "completed"
    },
    "tags": []
   },
   "outputs": [
    {
     "data": {
      "text/plain": [
       "0.272069125"
      ]
     },
     "execution_count": 9,
     "metadata": {},
     "output_type": "execute_result"
    }
   ],
   "source": [
    "# Calculate the cost value\n",
    "cost_value = J(X_train, y_train, theta) \n",
    "cost_value"
   ]
  },
  {
   "cell_type": "markdown",
   "id": "648d0c47",
   "metadata": {
    "papermill": {
     "duration": 0.006374,
     "end_time": "2022-11-28T13:39:34.314414",
     "exception": false,
     "start_time": "2022-11-28T13:39:34.308040",
     "status": "completed"
    },
    "tags": []
   },
   "source": [
    "# Model Training   <a id='training'></a> "
   ]
  },
  {
   "cell_type": "markdown",
   "id": "e22afeac",
   "metadata": {
    "papermill": {
     "duration": 0.006578,
     "end_time": "2022-11-28T13:39:34.327597",
     "exception": false,
     "start_time": "2022-11-28T13:39:34.321019",
     "status": "completed"
    },
    "tags": []
   },
   "source": [
    "Model training content"
   ]
  },
  {
   "cell_type": "code",
   "execution_count": 10,
   "id": "f2d5cd52",
   "metadata": {
    "execution": {
     "iopub.execute_input": "2022-11-28T13:39:34.343029Z",
     "iopub.status.busy": "2022-11-28T13:39:34.342661Z",
     "iopub.status.idle": "2022-11-28T13:39:34.347139Z",
     "shell.execute_reply": "2022-11-28T13:39:34.345855Z"
    },
    "papermill": {
     "duration": 0.014948,
     "end_time": "2022-11-28T13:39:34.349447",
     "exception": false,
     "start_time": "2022-11-28T13:39:34.334499",
     "status": "completed"
    },
    "tags": []
   },
   "outputs": [],
   "source": [
    "# Model training code"
   ]
  },
  {
   "cell_type": "markdown",
   "id": "fb9e7c2d",
   "metadata": {
    "papermill": {
     "duration": 0.006457,
     "end_time": "2022-11-28T13:39:34.362929",
     "exception": false,
     "start_time": "2022-11-28T13:39:34.356472",
     "status": "completed"
    },
    "tags": []
   },
   "source": [
    "# Model Validation   <a id='validation'></a> "
   ]
  },
  {
   "cell_type": "markdown",
   "id": "fcc66dc6",
   "metadata": {
    "papermill": {
     "duration": 0.00642,
     "end_time": "2022-11-28T13:39:34.376210",
     "exception": false,
     "start_time": "2022-11-28T13:39:34.369790",
     "status": "completed"
    },
    "tags": []
   },
   "source": []
  },
  {
   "cell_type": "markdown",
   "id": "b027089c",
   "metadata": {
    "papermill": {
     "duration": 0.006492,
     "end_time": "2022-11-28T13:39:34.389723",
     "exception": false,
     "start_time": "2022-11-28T13:39:34.383231",
     "status": "completed"
    },
    "tags": []
   },
   "source": [
    "model validation content"
   ]
  },
  {
   "cell_type": "code",
   "execution_count": 11,
   "id": "5c002ed4",
   "metadata": {
    "execution": {
     "iopub.execute_input": "2022-11-28T13:39:34.405151Z",
     "iopub.status.busy": "2022-11-28T13:39:34.404742Z",
     "iopub.status.idle": "2022-11-28T13:39:34.409108Z",
     "shell.execute_reply": "2022-11-28T13:39:34.408278Z"
    },
    "papermill": {
     "duration": 0.014738,
     "end_time": "2022-11-28T13:39:34.411268",
     "exception": false,
     "start_time": "2022-11-28T13:39:34.396530",
     "status": "completed"
    },
    "tags": []
   },
   "outputs": [],
   "source": [
    "# Model validation code"
   ]
  },
  {
   "cell_type": "markdown",
   "id": "0a148484",
   "metadata": {
    "papermill": {
     "duration": 0.007096,
     "end_time": "2022-11-28T13:39:34.425330",
     "exception": false,
     "start_time": "2022-11-28T13:39:34.418234",
     "status": "completed"
    },
    "tags": []
   },
   "source": [
    "# Conclusion   <a id='conclusion'></a> "
   ]
  },
  {
   "cell_type": "markdown",
   "id": "43d141a1",
   "metadata": {
    "papermill": {
     "duration": 0.006441,
     "end_time": "2022-11-28T13:39:34.438741",
     "exception": false,
     "start_time": "2022-11-28T13:39:34.432300",
     "status": "completed"
    },
    "tags": []
   },
   "source": [
    "Conclusion content"
   ]
  },
  {
   "cell_type": "markdown",
   "id": "30a5473a",
   "metadata": {
    "papermill": {
     "duration": 0.006541,
     "end_time": "2022-11-28T13:39:34.452178",
     "exception": false,
     "start_time": "2022-11-28T13:39:34.445637",
     "status": "completed"
    },
    "tags": []
   },
   "source": [
    "# References   <a id='references'></a>\n",
    "* [Machine Learning Specialization - Deeplearning.AI](https://www.deeplearning.ai/program/machine-learning-specialization/)\n",
    "* [Andrew Ng](https://en.wikipedia.org/wiki/Andrew_Ng)\n",
    "* [@Mohan S Acharya](https://www.kaggle.com/mohansacharya)\n",
    "* [10-simple-hacks-to-speed-up-your-data-analysis - Parul Pandey](https://www.kaggle.com/parulpandey/10-simple-hacks-to-speed-up-your-data-analysis)\n",
    "* [Univariate Linear Regression From Scratch - Kaggle](https://www.kaggle.com/code/erkanhatipoglu/univariate-linear-regression-from-scratch)\n",
    "* [Univariate Linear Regression From Scratch - Towards AI](https://pub.towardsai.net/univariate-linear-regression-from-scratch-68065fe8eb09)"
   ]
  }
 ],
 "metadata": {
  "kernelspec": {
   "display_name": "Python 3",
   "language": "python",
   "name": "python3"
  },
  "language_info": {
   "codemirror_mode": {
    "name": "ipython",
    "version": 3
   },
   "file_extension": ".py",
   "mimetype": "text/x-python",
   "name": "python",
   "nbconvert_exporter": "python",
   "pygments_lexer": "ipython3",
   "version": "3.7.12"
  },
  "papermill": {
   "default_parameters": {},
   "duration": 11.130408,
   "end_time": "2022-11-28T13:39:35.181885",
   "environment_variables": {},
   "exception": null,
   "input_path": "__notebook__.ipynb",
   "output_path": "__notebook__.ipynb",
   "parameters": {},
   "start_time": "2022-11-28T13:39:24.051477",
   "version": "2.3.4"
  }
 },
 "nbformat": 4,
 "nbformat_minor": 5
}
