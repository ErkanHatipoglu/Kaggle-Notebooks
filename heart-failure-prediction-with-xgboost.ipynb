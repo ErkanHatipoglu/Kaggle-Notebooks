{
 "cells": [
  {
   "cell_type": "markdown",
   "metadata": {
    "papermill": {
     "duration": 0.021611,
     "end_time": "2023-03-24T19:49:09.052777",
     "exception": false,
     "start_time": "2023-03-24T19:49:09.031166",
     "status": "completed"
    },
    "tags": []
   },
   "source": [
    "# Introduction  <a id='introduction'></a>\n",
    "\n",
    "This is a starter code for Heart Failure Prediction using XGBoost. By forking the notebook, the reader may quickly try different approaches and concepts (EDA, Feature Engineering, other models, etc.). I have tried to keep this notebook as basic as possible.\n",
    "\n",
    "Sklearn has several functions to calculate and display accuracy, recall, precision, and F1 scores. However, I will not use those functions and will calculate those results manually for demonstration purposes. \n",
    "\n",
    "We need to increase the recall score for this dataset task since we do not want to misclassify heart failure cases. In other words, we want the number of true positives to be as high as possible while the number of false negatives is as small as possible. It is better to falsely treat a patient than to leave another patient to die because of misclassification.\n",
    "\n",
    "It seems that the time column needs to be dropped since it is not a predictor. It turns out that we cannot get a time value for new patients after deployment. Please refer to [this thread](https://www.kaggle.com/andrewmvd/heart-failure-clinical-data/discussion/178372) and [Attribute Information](https://archive.ics.uci.edu/ml/datasets/Heart+failure+clinical+records) for further discussions on the subject.\n",
    "\n",
    "I also want to thank [@Larxel](https://www.kaggle.com/andrewmvd) for this dataset.\n",
    "\n",
    "Thank you for reading.\n",
    "\n",
    "\n",
    "# Table of Contents\n",
    "* [Introduction](#introduction)\n",
    "* [Helper Functions](#functions)\n",
    "* [Getting the Data](#getdata)\n",
    "* [Preprocessing](#preprocessing) \n",
    "* [Pipeline and Validation with early_stopping_rounds](#pipeline) \n",
    "* [Grid Search](#gridsearch)\n",
    "* [Cross-validation](#cross-validation)\n",
    "* [Prediction](#prediction)\n",
    "* [Conclusion](#conclusion) \n",
    "* [References](#references)"
   ]
  },
  {
   "cell_type": "code",
   "execution_count": 1,
   "metadata": {
    "_cell_guid": "b1076dfc-b9ad-4769-8c92-a6c4dae69d19",
    "_uuid": "8f2839f25d086af736a60e9eeb907d3b93b6e0e5",
    "execution": {
     "iopub.execute_input": "2023-03-24T19:49:09.100774Z",
     "iopub.status.busy": "2023-03-24T19:49:09.100008Z",
     "iopub.status.idle": "2023-03-24T19:49:11.832128Z",
     "shell.execute_reply": "2023-03-24T19:49:11.831532Z",
     "shell.execute_reply.started": "2022-09-27T11:38:14.090919Z"
    },
    "papermill": {
     "duration": 2.759298,
     "end_time": "2023-03-24T19:49:11.832278",
     "exception": false,
     "start_time": "2023-03-24T19:49:09.072980",
     "status": "completed"
    },
    "scrolled": true,
    "tags": []
   },
   "outputs": [
    {
     "name": "stdout",
     "output_type": "stream",
     "text": [
      "/kaggle/input/heart-failure-clinical-data/heart_failure_clinical_records_dataset.csv\n"
     ]
    }
   ],
   "source": [
    "# This Python 3 environment comes with many helpful analytics libraries installed\n",
    "# It is defined by the kaggle/python Docker image: https://github.com/kaggle/docker-python\n",
    "# For example, here's several helpful packages to load\n",
    "\n",
    "import numpy as np # linear algebra\n",
    "import pandas as pd # data processing, CSV file I/O (e.g. pd.read_csv)\n",
    "\n",
    "# Input data files are available in the read-only \"../input/\" directory\n",
    "# For example, running this (by clicking run or pressing Shift+Enter) will list all files under the input directory\n",
    "\n",
    "import os\n",
    "for dirname, _, filenames in os.walk('/kaggle/input'):\n",
    "    for filename in filenames:\n",
    "        print(os.path.join(dirname, filename))\n",
    "\n",
    "# You can write up to 5GB to the current directory (/kaggle/working/) that gets preserved as output when you create a version using \"Save & Run All\" \n",
    "# You can also write temporary files to /kaggle/temp/, but they won't be saved outside of the current session\n",
    "\n",
    "from pandas_profiling import ProfileReport\n",
    "from sklearn.model_selection import train_test_split, cross_val_score, GridSearchCV\n",
    "from sklearn.pipeline import Pipeline\n",
    "from sklearn.preprocessing import StandardScaler\n",
    "from sklearn.compose import ColumnTransformer\n",
    "from xgboost import XGBClassifier\n",
    "from sklearn.metrics import accuracy_score, confusion_matrix, precision_score, classification_report, recall_score\n",
    "import pandas_profiling\n",
    "from sklearn.feature_selection import SelectKBest"
   ]
  },
  {
   "cell_type": "markdown",
   "metadata": {
    "papermill": {
     "duration": 0.019452,
     "end_time": "2023-03-24T19:49:11.873887",
     "exception": false,
     "start_time": "2023-03-24T19:49:11.854435",
     "status": "completed"
    },
    "tags": []
   },
   "source": [
    "# Helper Functions <a id='functions'></a>  "
   ]
  },
  {
   "cell_type": "markdown",
   "metadata": {
    "papermill": {
     "duration": 0.019515,
     "end_time": "2023-03-24T19:49:11.913240",
     "exception": false,
     "start_time": "2023-03-24T19:49:11.893725",
     "status": "completed"
    },
    "tags": []
   },
   "source": [
    "<div class=\"alert alert-block alert-info\">\n",
    "<b>Tip:</b> We will use some helper functions throughout the notebook. Collecting them in one place is a good idea, making the code more organized.\n",
    "</div>"
   ]
  },
  {
   "cell_type": "code",
   "execution_count": 2,
   "metadata": {
    "_cell_guid": "79c7e3d0-c299-4dcb-8224-4455121ee9b0",
    "_uuid": "d629ff2d2480ee46fbb7e2d37f6b5fab8052498a",
    "execution": {
     "iopub.execute_input": "2023-03-24T19:49:11.962091Z",
     "iopub.status.busy": "2023-03-24T19:49:11.961380Z",
     "iopub.status.idle": "2023-03-24T19:49:11.974688Z",
     "shell.execute_reply": "2023-03-24T19:49:11.975229Z",
     "shell.execute_reply.started": "2022-09-27T11:38:16.930207Z"
    },
    "papermill": {
     "duration": 0.042406,
     "end_time": "2023-03-24T19:49:11.975422",
     "exception": false,
     "start_time": "2023-03-24T19:49:11.933016",
     "status": "completed"
    },
    "scrolled": true,
    "tags": []
   },
   "outputs": [],
   "source": [
    "def calculate_cf (y_valid, preds):\n",
    "    ''' A function that calculates the confusion matrix, accuracy, precision, recall,\n",
    "    and f1_score. Accuracy, precision, recall, and f1_score can be easily obtained by\n",
    "    using sklearn features.This function is only for demontration purposes.'''\n",
    "    \n",
    "    # Calculating confusion_matrix\n",
    "    CM = confusion_matrix(y_valid, preds)\n",
    "\n",
    "    # Calculate True Positives(TP), False Positives(FP)\n",
    "    # False Negative(FN) and True Negatives(TN) from confusion_matrix\n",
    "    true_negatives = CM[0][0]\n",
    "    false_negatives = CM[1][0]\n",
    "    true_positives = CM[1][1]\n",
    "    false_positives = CM[0][1]\n",
    "\n",
    "    # You can easily get these values in sklearn using \n",
    "    # accuracy_score, precision_score, classification_report, etc.\n",
    "    # I calculate these values for demonstration purposes.\n",
    "    accuracy = (true_positives + true_negatives)/(true_positives + false_positives + false_negatives + true_negatives)\n",
    "    precision = (true_positives) / (true_positives + false_positives)\n",
    "    recall = (true_positives) / (true_positives + false_negatives)\n",
    "    f1_score = 2 * (precision * recall) / (precision + recall)\n",
    "    \n",
    "    return true_negatives, false_negatives, true_positives, false_positives,accuracy, precision, recall, f1_score\n",
    "\n",
    "def display_results (y_valid, preds):\n",
    "    ''' A function that displays the results'''\n",
    "    # get the results\n",
    "    true_negatives, false_negatives, true_positives, false_positives,accuracy, precision, recall, f1_score = calculate_cf (y_valid, preds)\n",
    "    \n",
    "    blank= \" \"\n",
    "    star = \"*\"\n",
    "    print(blank*50 + \"Death Event\") \n",
    "    print(blank*30 + star*55)\n",
    "    print(blank*35 + \"Positive\" + blank * 30 + \"Negative\")\n",
    "    print(blank * 30 + star*18 + blank * 19 + star*18)\n",
    "    print(\"Predicted\" + blank*7 + \"Positive\" + blank  * 11 + str(true_positives)+ \" (TP)\" + blank * 32 + str(false_positives) + \" (FP)\")\n",
    "    print(\"Class\" + blank*11 + \"Negative\" + blank  * 11 + str(false_negatives)+ \" (FN)\" + blank * 31 + str(true_negatives) + \" (TN)\")\n",
    "    print()\n",
    "    print(\"Accuracy = (TP+TN)/(TP+FP+FN+TN) = {:.2f}\".format(accuracy))\n",
    "    print(\"Precision = (TP)/(TP+FP) = {:.2f}\".format(precision))\n",
    "    print(\"Recall = (TP)/(TP+FN) = {:.2f}\".format(recall))\n",
    "    print(\"F1 score = 2 * (Precision*Recall)/(Precision+Recall) = {:.2f}\".format(f1_score))"
   ]
  },
  {
   "cell_type": "markdown",
   "metadata": {
    "papermill": {
     "duration": 0.019608,
     "end_time": "2023-03-24T19:49:12.015128",
     "exception": false,
     "start_time": "2023-03-24T19:49:11.995520",
     "status": "completed"
    },
    "tags": []
   },
   "source": [
    "# Getting the Data  <a id='getdata'></a>"
   ]
  },
  {
   "cell_type": "code",
   "execution_count": 3,
   "metadata": {
    "execution": {
     "iopub.execute_input": "2023-03-24T19:49:12.058062Z",
     "iopub.status.busy": "2023-03-24T19:49:12.057398Z",
     "iopub.status.idle": "2023-03-24T19:49:12.077751Z",
     "shell.execute_reply": "2023-03-24T19:49:12.078727Z",
     "shell.execute_reply.started": "2022-09-27T11:38:16.952013Z"
    },
    "papermill": {
     "duration": 0.043868,
     "end_time": "2023-03-24T19:49:12.078936",
     "exception": false,
     "start_time": "2023-03-24T19:49:12.035068",
     "status": "completed"
    },
    "scrolled": true,
    "tags": []
   },
   "outputs": [
    {
     "name": "stdout",
     "output_type": "stream",
     "text": [
      "Data is OK\n"
     ]
    }
   ],
   "source": [
    "# Read the data\n",
    "train_data = pd.read_csv('/kaggle/input/heart-failure-clinical-data/heart_failure_clinical_records_dataset.csv')\n",
    "\n",
    "# Make a copy to avoid changing original data\n",
    "X = train_data.copy()\n",
    "\n",
    "print('Data is OK')"
   ]
  },
  {
   "cell_type": "code",
   "execution_count": 4,
   "metadata": {
    "execution": {
     "iopub.execute_input": "2023-03-24T19:49:12.130939Z",
     "iopub.status.busy": "2023-03-24T19:49:12.129876Z",
     "iopub.status.idle": "2023-03-24T19:49:12.145699Z",
     "shell.execute_reply": "2023-03-24T19:49:12.146277Z",
     "shell.execute_reply.started": "2022-09-27T11:38:16.985963Z"
    },
    "papermill": {
     "duration": 0.046499,
     "end_time": "2023-03-24T19:49:12.146443",
     "exception": false,
     "start_time": "2023-03-24T19:49:12.099944",
     "status": "completed"
    },
    "scrolled": true,
    "tags": []
   },
   "outputs": [
    {
     "data": {
      "text/html": [
       "<div>\n",
       "<style scoped>\n",
       "    .dataframe tbody tr th:only-of-type {\n",
       "        vertical-align: middle;\n",
       "    }\n",
       "\n",
       "    .dataframe tbody tr th {\n",
       "        vertical-align: top;\n",
       "    }\n",
       "\n",
       "    .dataframe thead th {\n",
       "        text-align: right;\n",
       "    }\n",
       "</style>\n",
       "<table border=\"1\" class=\"dataframe\">\n",
       "  <thead>\n",
       "    <tr style=\"text-align: right;\">\n",
       "      <th></th>\n",
       "      <th>age</th>\n",
       "      <th>anaemia</th>\n",
       "      <th>creatinine_phosphokinase</th>\n",
       "      <th>diabetes</th>\n",
       "      <th>ejection_fraction</th>\n",
       "      <th>high_blood_pressure</th>\n",
       "      <th>platelets</th>\n",
       "      <th>serum_creatinine</th>\n",
       "      <th>serum_sodium</th>\n",
       "      <th>sex</th>\n",
       "      <th>smoking</th>\n",
       "      <th>time</th>\n",
       "      <th>DEATH_EVENT</th>\n",
       "    </tr>\n",
       "  </thead>\n",
       "  <tbody>\n",
       "    <tr>\n",
       "      <th>0</th>\n",
       "      <td>75.0</td>\n",
       "      <td>0</td>\n",
       "      <td>582</td>\n",
       "      <td>0</td>\n",
       "      <td>20</td>\n",
       "      <td>1</td>\n",
       "      <td>265000.00</td>\n",
       "      <td>1.9</td>\n",
       "      <td>130</td>\n",
       "      <td>1</td>\n",
       "      <td>0</td>\n",
       "      <td>4</td>\n",
       "      <td>1</td>\n",
       "    </tr>\n",
       "    <tr>\n",
       "      <th>1</th>\n",
       "      <td>55.0</td>\n",
       "      <td>0</td>\n",
       "      <td>7861</td>\n",
       "      <td>0</td>\n",
       "      <td>38</td>\n",
       "      <td>0</td>\n",
       "      <td>263358.03</td>\n",
       "      <td>1.1</td>\n",
       "      <td>136</td>\n",
       "      <td>1</td>\n",
       "      <td>0</td>\n",
       "      <td>6</td>\n",
       "      <td>1</td>\n",
       "    </tr>\n",
       "    <tr>\n",
       "      <th>2</th>\n",
       "      <td>65.0</td>\n",
       "      <td>0</td>\n",
       "      <td>146</td>\n",
       "      <td>0</td>\n",
       "      <td>20</td>\n",
       "      <td>0</td>\n",
       "      <td>162000.00</td>\n",
       "      <td>1.3</td>\n",
       "      <td>129</td>\n",
       "      <td>1</td>\n",
       "      <td>1</td>\n",
       "      <td>7</td>\n",
       "      <td>1</td>\n",
       "    </tr>\n",
       "    <tr>\n",
       "      <th>3</th>\n",
       "      <td>50.0</td>\n",
       "      <td>1</td>\n",
       "      <td>111</td>\n",
       "      <td>0</td>\n",
       "      <td>20</td>\n",
       "      <td>0</td>\n",
       "      <td>210000.00</td>\n",
       "      <td>1.9</td>\n",
       "      <td>137</td>\n",
       "      <td>1</td>\n",
       "      <td>0</td>\n",
       "      <td>7</td>\n",
       "      <td>1</td>\n",
       "    </tr>\n",
       "    <tr>\n",
       "      <th>4</th>\n",
       "      <td>65.0</td>\n",
       "      <td>1</td>\n",
       "      <td>160</td>\n",
       "      <td>1</td>\n",
       "      <td>20</td>\n",
       "      <td>0</td>\n",
       "      <td>327000.00</td>\n",
       "      <td>2.7</td>\n",
       "      <td>116</td>\n",
       "      <td>0</td>\n",
       "      <td>0</td>\n",
       "      <td>8</td>\n",
       "      <td>1</td>\n",
       "    </tr>\n",
       "  </tbody>\n",
       "</table>\n",
       "</div>"
      ],
      "text/plain": [
       "    age  anaemia  creatinine_phosphokinase  diabetes  ejection_fraction  \\\n",
       "0  75.0        0                       582         0                 20   \n",
       "1  55.0        0                      7861         0                 38   \n",
       "2  65.0        0                       146         0                 20   \n",
       "3  50.0        1                       111         0                 20   \n",
       "4  65.0        1                       160         1                 20   \n",
       "\n",
       "   high_blood_pressure  platelets  serum_creatinine  serum_sodium  sex  \\\n",
       "0                    1  265000.00               1.9           130    1   \n",
       "1                    0  263358.03               1.1           136    1   \n",
       "2                    0  162000.00               1.3           129    1   \n",
       "3                    0  210000.00               1.9           137    1   \n",
       "4                    0  327000.00               2.7           116    0   \n",
       "\n",
       "   smoking  time  DEATH_EVENT  \n",
       "0        0     4            1  \n",
       "1        0     6            1  \n",
       "2        1     7            1  \n",
       "3        0     7            1  \n",
       "4        0     8            1  "
      ]
     },
     "execution_count": 4,
     "metadata": {},
     "output_type": "execute_result"
    }
   ],
   "source": [
    "X.head()"
   ]
  },
  {
   "cell_type": "code",
   "execution_count": 5,
   "metadata": {
    "execution": {
     "iopub.execute_input": "2023-03-24T19:49:12.193590Z",
     "iopub.status.busy": "2023-03-24T19:49:12.192582Z",
     "iopub.status.idle": "2023-03-24T19:49:12.211980Z",
     "shell.execute_reply": "2023-03-24T19:49:12.211169Z",
     "shell.execute_reply.started": "2022-09-27T11:38:17.015044Z"
    },
    "papermill": {
     "duration": 0.044007,
     "end_time": "2023-03-24T19:49:12.212159",
     "exception": false,
     "start_time": "2023-03-24T19:49:12.168152",
     "status": "completed"
    },
    "scrolled": true,
    "tags": []
   },
   "outputs": [
    {
     "name": "stdout",
     "output_type": "stream",
     "text": [
      "<class 'pandas.core.frame.DataFrame'>\n",
      "RangeIndex: 299 entries, 0 to 298\n",
      "Data columns (total 13 columns):\n",
      " #   Column                    Non-Null Count  Dtype  \n",
      "---  ------                    --------------  -----  \n",
      " 0   age                       299 non-null    float64\n",
      " 1   anaemia                   299 non-null    int64  \n",
      " 2   creatinine_phosphokinase  299 non-null    int64  \n",
      " 3   diabetes                  299 non-null    int64  \n",
      " 4   ejection_fraction         299 non-null    int64  \n",
      " 5   high_blood_pressure       299 non-null    int64  \n",
      " 6   platelets                 299 non-null    float64\n",
      " 7   serum_creatinine          299 non-null    float64\n",
      " 8   serum_sodium              299 non-null    int64  \n",
      " 9   sex                       299 non-null    int64  \n",
      " 10  smoking                   299 non-null    int64  \n",
      " 11  time                      299 non-null    int64  \n",
      " 12  DEATH_EVENT               299 non-null    int64  \n",
      "dtypes: float64(3), int64(10)\n",
      "memory usage: 30.5 KB\n"
     ]
    }
   ],
   "source": [
    "X.info()"
   ]
  },
  {
   "cell_type": "code",
   "execution_count": 6,
   "metadata": {
    "execution": {
     "iopub.execute_input": "2023-03-24T19:49:12.259090Z",
     "iopub.status.busy": "2023-03-24T19:49:12.258105Z",
     "iopub.status.idle": "2023-03-24T19:49:12.307867Z",
     "shell.execute_reply": "2023-03-24T19:49:12.307270Z",
     "shell.execute_reply.started": "2022-09-27T11:38:17.033930Z"
    },
    "papermill": {
     "duration": 0.074067,
     "end_time": "2023-03-24T19:49:12.307998",
     "exception": false,
     "start_time": "2023-03-24T19:49:12.233931",
     "status": "completed"
    },
    "scrolled": true,
    "tags": []
   },
   "outputs": [
    {
     "data": {
      "text/html": [
       "<div>\n",
       "<style scoped>\n",
       "    .dataframe tbody tr th:only-of-type {\n",
       "        vertical-align: middle;\n",
       "    }\n",
       "\n",
       "    .dataframe tbody tr th {\n",
       "        vertical-align: top;\n",
       "    }\n",
       "\n",
       "    .dataframe thead th {\n",
       "        text-align: right;\n",
       "    }\n",
       "</style>\n",
       "<table border=\"1\" class=\"dataframe\">\n",
       "  <thead>\n",
       "    <tr style=\"text-align: right;\">\n",
       "      <th></th>\n",
       "      <th>age</th>\n",
       "      <th>anaemia</th>\n",
       "      <th>creatinine_phosphokinase</th>\n",
       "      <th>diabetes</th>\n",
       "      <th>ejection_fraction</th>\n",
       "      <th>high_blood_pressure</th>\n",
       "      <th>platelets</th>\n",
       "      <th>serum_creatinine</th>\n",
       "      <th>serum_sodium</th>\n",
       "      <th>sex</th>\n",
       "      <th>smoking</th>\n",
       "      <th>time</th>\n",
       "      <th>DEATH_EVENT</th>\n",
       "    </tr>\n",
       "  </thead>\n",
       "  <tbody>\n",
       "    <tr>\n",
       "      <th>count</th>\n",
       "      <td>299.000000</td>\n",
       "      <td>299.000000</td>\n",
       "      <td>299.000000</td>\n",
       "      <td>299.000000</td>\n",
       "      <td>299.000000</td>\n",
       "      <td>299.000000</td>\n",
       "      <td>299.000000</td>\n",
       "      <td>299.00000</td>\n",
       "      <td>299.000000</td>\n",
       "      <td>299.000000</td>\n",
       "      <td>299.00000</td>\n",
       "      <td>299.000000</td>\n",
       "      <td>299.00000</td>\n",
       "    </tr>\n",
       "    <tr>\n",
       "      <th>mean</th>\n",
       "      <td>60.833893</td>\n",
       "      <td>0.431438</td>\n",
       "      <td>581.839465</td>\n",
       "      <td>0.418060</td>\n",
       "      <td>38.083612</td>\n",
       "      <td>0.351171</td>\n",
       "      <td>263358.029264</td>\n",
       "      <td>1.39388</td>\n",
       "      <td>136.625418</td>\n",
       "      <td>0.648829</td>\n",
       "      <td>0.32107</td>\n",
       "      <td>130.260870</td>\n",
       "      <td>0.32107</td>\n",
       "    </tr>\n",
       "    <tr>\n",
       "      <th>std</th>\n",
       "      <td>11.894809</td>\n",
       "      <td>0.496107</td>\n",
       "      <td>970.287881</td>\n",
       "      <td>0.494067</td>\n",
       "      <td>11.834841</td>\n",
       "      <td>0.478136</td>\n",
       "      <td>97804.236869</td>\n",
       "      <td>1.03451</td>\n",
       "      <td>4.412477</td>\n",
       "      <td>0.478136</td>\n",
       "      <td>0.46767</td>\n",
       "      <td>77.614208</td>\n",
       "      <td>0.46767</td>\n",
       "    </tr>\n",
       "    <tr>\n",
       "      <th>min</th>\n",
       "      <td>40.000000</td>\n",
       "      <td>0.000000</td>\n",
       "      <td>23.000000</td>\n",
       "      <td>0.000000</td>\n",
       "      <td>14.000000</td>\n",
       "      <td>0.000000</td>\n",
       "      <td>25100.000000</td>\n",
       "      <td>0.50000</td>\n",
       "      <td>113.000000</td>\n",
       "      <td>0.000000</td>\n",
       "      <td>0.00000</td>\n",
       "      <td>4.000000</td>\n",
       "      <td>0.00000</td>\n",
       "    </tr>\n",
       "    <tr>\n",
       "      <th>25%</th>\n",
       "      <td>51.000000</td>\n",
       "      <td>0.000000</td>\n",
       "      <td>116.500000</td>\n",
       "      <td>0.000000</td>\n",
       "      <td>30.000000</td>\n",
       "      <td>0.000000</td>\n",
       "      <td>212500.000000</td>\n",
       "      <td>0.90000</td>\n",
       "      <td>134.000000</td>\n",
       "      <td>0.000000</td>\n",
       "      <td>0.00000</td>\n",
       "      <td>73.000000</td>\n",
       "      <td>0.00000</td>\n",
       "    </tr>\n",
       "    <tr>\n",
       "      <th>50%</th>\n",
       "      <td>60.000000</td>\n",
       "      <td>0.000000</td>\n",
       "      <td>250.000000</td>\n",
       "      <td>0.000000</td>\n",
       "      <td>38.000000</td>\n",
       "      <td>0.000000</td>\n",
       "      <td>262000.000000</td>\n",
       "      <td>1.10000</td>\n",
       "      <td>137.000000</td>\n",
       "      <td>1.000000</td>\n",
       "      <td>0.00000</td>\n",
       "      <td>115.000000</td>\n",
       "      <td>0.00000</td>\n",
       "    </tr>\n",
       "    <tr>\n",
       "      <th>75%</th>\n",
       "      <td>70.000000</td>\n",
       "      <td>1.000000</td>\n",
       "      <td>582.000000</td>\n",
       "      <td>1.000000</td>\n",
       "      <td>45.000000</td>\n",
       "      <td>1.000000</td>\n",
       "      <td>303500.000000</td>\n",
       "      <td>1.40000</td>\n",
       "      <td>140.000000</td>\n",
       "      <td>1.000000</td>\n",
       "      <td>1.00000</td>\n",
       "      <td>203.000000</td>\n",
       "      <td>1.00000</td>\n",
       "    </tr>\n",
       "    <tr>\n",
       "      <th>max</th>\n",
       "      <td>95.000000</td>\n",
       "      <td>1.000000</td>\n",
       "      <td>7861.000000</td>\n",
       "      <td>1.000000</td>\n",
       "      <td>80.000000</td>\n",
       "      <td>1.000000</td>\n",
       "      <td>850000.000000</td>\n",
       "      <td>9.40000</td>\n",
       "      <td>148.000000</td>\n",
       "      <td>1.000000</td>\n",
       "      <td>1.00000</td>\n",
       "      <td>285.000000</td>\n",
       "      <td>1.00000</td>\n",
       "    </tr>\n",
       "  </tbody>\n",
       "</table>\n",
       "</div>"
      ],
      "text/plain": [
       "              age     anaemia  creatinine_phosphokinase    diabetes  \\\n",
       "count  299.000000  299.000000                299.000000  299.000000   \n",
       "mean    60.833893    0.431438                581.839465    0.418060   \n",
       "std     11.894809    0.496107                970.287881    0.494067   \n",
       "min     40.000000    0.000000                 23.000000    0.000000   \n",
       "25%     51.000000    0.000000                116.500000    0.000000   \n",
       "50%     60.000000    0.000000                250.000000    0.000000   \n",
       "75%     70.000000    1.000000                582.000000    1.000000   \n",
       "max     95.000000    1.000000               7861.000000    1.000000   \n",
       "\n",
       "       ejection_fraction  high_blood_pressure      platelets  \\\n",
       "count         299.000000           299.000000     299.000000   \n",
       "mean           38.083612             0.351171  263358.029264   \n",
       "std            11.834841             0.478136   97804.236869   \n",
       "min            14.000000             0.000000   25100.000000   \n",
       "25%            30.000000             0.000000  212500.000000   \n",
       "50%            38.000000             0.000000  262000.000000   \n",
       "75%            45.000000             1.000000  303500.000000   \n",
       "max            80.000000             1.000000  850000.000000   \n",
       "\n",
       "       serum_creatinine  serum_sodium         sex    smoking        time  \\\n",
       "count         299.00000    299.000000  299.000000  299.00000  299.000000   \n",
       "mean            1.39388    136.625418    0.648829    0.32107  130.260870   \n",
       "std             1.03451      4.412477    0.478136    0.46767   77.614208   \n",
       "min             0.50000    113.000000    0.000000    0.00000    4.000000   \n",
       "25%             0.90000    134.000000    0.000000    0.00000   73.000000   \n",
       "50%             1.10000    137.000000    1.000000    0.00000  115.000000   \n",
       "75%             1.40000    140.000000    1.000000    1.00000  203.000000   \n",
       "max             9.40000    148.000000    1.000000    1.00000  285.000000   \n",
       "\n",
       "       DEATH_EVENT  \n",
       "count    299.00000  \n",
       "mean       0.32107  \n",
       "std        0.46767  \n",
       "min        0.00000  \n",
       "25%        0.00000  \n",
       "50%        0.00000  \n",
       "75%        1.00000  \n",
       "max        1.00000  "
      ]
     },
     "execution_count": 6,
     "metadata": {},
     "output_type": "execute_result"
    }
   ],
   "source": [
    "X.describe()"
   ]
  },
  {
   "cell_type": "markdown",
   "metadata": {
    "papermill": {
     "duration": 0.021243,
     "end_time": "2023-03-24T19:49:12.351058",
     "exception": false,
     "start_time": "2023-03-24T19:49:12.329815",
     "status": "completed"
    },
    "tags": []
   },
   "source": [
    "# Preprocessing  <a id='preprocessing'></a>"
   ]
  },
  {
   "cell_type": "code",
   "execution_count": 7,
   "metadata": {
    "execution": {
     "iopub.execute_input": "2023-03-24T19:49:12.406294Z",
     "iopub.status.busy": "2023-03-24T19:49:12.397003Z",
     "iopub.status.idle": "2023-03-24T19:49:12.409523Z",
     "shell.execute_reply": "2023-03-24T19:49:12.410024Z",
     "shell.execute_reply.started": "2022-09-27T11:38:17.089726Z"
    },
    "papermill": {
     "duration": 0.037494,
     "end_time": "2023-03-24T19:49:12.410169",
     "exception": false,
     "start_time": "2023-03-24T19:49:12.372675",
     "status": "completed"
    },
    "tags": []
   },
   "outputs": [
    {
     "name": "stdout",
     "output_type": "stream",
     "text": [
      "Shapes:\n",
      "X: (299, 11)\n",
      "y: (299,)\n",
      "\n",
      "X_train: (239, 11)\n",
      "X_valid: (60, 11)\n",
      "y_train: (239,)\n",
      "y_valid: (60,)\n",
      "\n"
     ]
    }
   ],
   "source": [
    "# get the target, separate target and time from predictors\n",
    "y = X.DEATH_EVENT              \n",
    "X.drop(['DEATH_EVENT', 'time'], axis=1, inplace=True)\n",
    "\n",
    "# Break off validation set from training data\n",
    "X_train, X_valid, y_train, y_valid = train_test_split(X, y, train_size=0.8, test_size=0.2,\n",
    "                                                                random_state=0)\n",
    "# Display results\n",
    "print (\"Shapes:\")\n",
    "print (\"X: {}\".format(X.shape))\n",
    "print (\"y: {}\".format(y.shape))\n",
    "print()\n",
    "print (\"X_train: {}\".format(X_train.shape))\n",
    "print (\"X_valid: {}\".format(X_valid.shape))\n",
    "print (\"y_train: {}\".format(y_train.shape))\n",
    "print (\"y_valid: {}\\n\".format(y_valid.shape))"
   ]
  },
  {
   "cell_type": "code",
   "execution_count": 8,
   "metadata": {
    "execution": {
     "iopub.execute_input": "2023-03-24T19:49:12.457911Z",
     "iopub.status.busy": "2023-03-24T19:49:12.456932Z",
     "iopub.status.idle": "2023-03-24T19:49:12.464178Z",
     "shell.execute_reply": "2023-03-24T19:49:12.464682Z",
     "shell.execute_reply.started": "2022-09-27T11:38:17.103249Z"
    },
    "papermill": {
     "duration": 0.032776,
     "end_time": "2023-03-24T19:49:12.464836",
     "exception": false,
     "start_time": "2023-03-24T19:49:12.432060",
     "status": "completed"
    },
    "tags": []
   },
   "outputs": [
    {
     "data": {
      "text/plain": [
       "['age',\n",
       " 'anaemia',\n",
       " 'creatinine_phosphokinase',\n",
       " 'diabetes',\n",
       " 'ejection_fraction',\n",
       " 'high_blood_pressure',\n",
       " 'platelets',\n",
       " 'serum_creatinine',\n",
       " 'serum_sodium',\n",
       " 'sex',\n",
       " 'smoking']"
      ]
     },
     "execution_count": 8,
     "metadata": {},
     "output_type": "execute_result"
    }
   ],
   "source": [
    "# Select numeric columns\n",
    "numerical_cols = [cname for cname in X_train.columns if X_train[cname].dtype in ['int64', 'float64']]\n",
    "numerical_cols"
   ]
  },
  {
   "cell_type": "markdown",
   "metadata": {
    "papermill": {
     "duration": 0.022329,
     "end_time": "2023-03-24T19:49:12.509316",
     "exception": false,
     "start_time": "2023-03-24T19:49:12.486987",
     "status": "completed"
    },
    "tags": []
   },
   "source": [
    "# Pipeline and Validation with early_stopping_rounds <a id='pipeline'></a>"
   ]
  },
  {
   "cell_type": "code",
   "execution_count": 9,
   "metadata": {
    "execution": {
     "iopub.execute_input": "2023-03-24T19:49:12.558018Z",
     "iopub.status.busy": "2023-03-24T19:49:12.557020Z",
     "iopub.status.idle": "2023-03-24T19:49:12.562923Z",
     "shell.execute_reply": "2023-03-24T19:49:12.563442Z",
     "shell.execute_reply.started": "2022-09-27T11:38:17.120557Z"
    },
    "papermill": {
     "duration": 0.031808,
     "end_time": "2023-03-24T19:49:12.563595",
     "exception": false,
     "start_time": "2023-03-24T19:49:12.531787",
     "status": "completed"
    },
    "tags": []
   },
   "outputs": [],
   "source": [
    "# Define transformers\n",
    "# Preprocessing for numerical data\n",
    "\n",
    "numerical_transformer = Pipeline(steps=[('scaler', StandardScaler())])\n",
    "\n",
    "# Bundle preprocessing for numerical and categorical data\n",
    "col_trans = ColumnTransformer(\n",
    "    transformers=[('numerical', numerical_transformer, numerical_cols)])\n",
    "\n",
    "select = SelectKBest(k=11)\n",
    "\n",
    "preprocessor= Pipeline(steps=[('column_tarnsformer', col_trans), ('selection', select)])"
   ]
  },
  {
   "cell_type": "code",
   "execution_count": 10,
   "metadata": {
    "execution": {
     "iopub.execute_input": "2023-03-24T19:49:12.614709Z",
     "iopub.status.busy": "2023-03-24T19:49:12.614041Z",
     "iopub.status.idle": "2023-03-24T19:49:12.617444Z",
     "shell.execute_reply": "2023-03-24T19:49:12.616893Z",
     "shell.execute_reply.started": "2022-09-27T11:38:17.129571Z"
    },
    "papermill": {
     "duration": 0.031393,
     "end_time": "2023-03-24T19:49:12.617572",
     "exception": false,
     "start_time": "2023-03-24T19:49:12.586179",
     "status": "completed"
    },
    "tags": []
   },
   "outputs": [],
   "source": [
    "# Define Model\n",
    "model = XGBClassifier(learning_rate = 0.08,\n",
    "                            n_estimators=500,\n",
    "                            max_depth=5,\n",
    "                            min_child_weight=1,\n",
    "                            gamma=0,\n",
    "                            subsample=0.8,\n",
    "                            colsample_bytree=0.8,\n",
    "                            reg_alpha = 0,\n",
    "                            reg_lambda = 1,\n",
    "                            random_state=42)"
   ]
  },
  {
   "cell_type": "markdown",
   "metadata": {
    "papermill": {
     "duration": 0.02606,
     "end_time": "2023-03-24T19:49:12.666231",
     "exception": false,
     "start_time": "2023-03-24T19:49:12.640171",
     "status": "completed"
    },
    "tags": []
   },
   "source": [
    "<div class=\"alert alert-block alert-danger\">  \n",
    "<p>If we want to use early_stopping_rounds with our pipeline, we cannot use the validation set (X_valid) directly. This is because sklearn pipelines do not process the eval_set used with early_stopping_rounds. As a result, we need to process our validation set before using early_stopping_rounds.</p> \n",
    "\n",
    "<p>There is a great danger here. If we forget to process our validation set and if processed data has the same number of columns as the unprocessed data, we may not see an error. Validation with unprocessed data may mislead us.</p>\n",
    "\n",
    "<p>To process the eval_set, we need to fit_transform X_valid by using our preprocessor, a pipeline consisting of transformers that do not have an estimator.</p>\n",
    "</div>"
   ]
  },
  {
   "cell_type": "code",
   "execution_count": 11,
   "metadata": {
    "execution": {
     "iopub.execute_input": "2023-03-24T19:49:12.734998Z",
     "iopub.status.busy": "2023-03-24T19:49:12.734324Z",
     "iopub.status.idle": "2023-03-24T19:49:12.742954Z",
     "shell.execute_reply": "2023-03-24T19:49:12.743519Z",
     "shell.execute_reply.started": "2022-09-27T11:38:17.140666Z"
    },
    "papermill": {
     "duration": 0.048753,
     "end_time": "2023-03-24T19:49:12.743674",
     "exception": false,
     "start_time": "2023-03-24T19:49:12.694921",
     "status": "completed"
    },
    "tags": []
   },
   "outputs": [],
   "source": [
    "# Preprocessing of validation data\n",
    "X_valid_eval = preprocessor.fit(X_train, y_train).transform (X_valid)"
   ]
  },
  {
   "cell_type": "code",
   "execution_count": 12,
   "metadata": {
    "execution": {
     "iopub.execute_input": "2023-03-24T19:49:12.791717Z",
     "iopub.status.busy": "2023-03-24T19:49:12.791016Z",
     "iopub.status.idle": "2023-03-24T19:49:12.797422Z",
     "shell.execute_reply": "2023-03-24T19:49:12.796576Z",
     "shell.execute_reply.started": "2022-09-27T11:38:17.167910Z"
    },
    "papermill": {
     "duration": 0.03144,
     "end_time": "2023-03-24T19:49:12.797596",
     "exception": false,
     "start_time": "2023-03-24T19:49:12.766156",
     "status": "completed"
    },
    "tags": []
   },
   "outputs": [
    {
     "name": "stdout",
     "output_type": "stream",
     "text": [
      "We have 11 features after transformation\n"
     ]
    }
   ],
   "source": [
    "# Display the number of remaining columns after transformation \n",
    "print(\"We have\", X_valid_eval.shape[1], \"features after transformation\")"
   ]
  },
  {
   "cell_type": "code",
   "execution_count": 13,
   "metadata": {
    "execution": {
     "iopub.execute_input": "2023-03-24T19:49:12.851198Z",
     "iopub.status.busy": "2023-03-24T19:49:12.850308Z",
     "iopub.status.idle": "2023-03-24T19:49:12.853608Z",
     "shell.execute_reply": "2023-03-24T19:49:12.852916Z",
     "shell.execute_reply.started": "2022-09-27T11:38:17.175303Z"
    },
    "papermill": {
     "duration": 0.03176,
     "end_time": "2023-03-24T19:49:12.853737",
     "exception": false,
     "start_time": "2023-03-24T19:49:12.821977",
     "status": "completed"
    },
    "tags": []
   },
   "outputs": [],
   "source": [
    "# Define XGBClassifier fitting parameters for the pipeline\n",
    "fit_params = {\"model__early_stopping_rounds\": 50,\n",
    "              \"model__eval_set\": [(X_valid_eval, y_valid)],\n",
    "              \"model__verbose\": True,\n",
    "              \"model__eval_metric\" : \"error\"}"
   ]
  },
  {
   "cell_type": "code",
   "execution_count": 14,
   "metadata": {
    "execution": {
     "iopub.execute_input": "2023-03-24T19:49:12.914099Z",
     "iopub.status.busy": "2023-03-24T19:49:12.913345Z",
     "iopub.status.idle": "2023-03-24T19:49:13.227630Z",
     "shell.execute_reply": "2023-03-24T19:49:13.212474Z",
     "shell.execute_reply.started": "2022-09-27T11:38:17.185183Z"
    },
    "papermill": {
     "duration": 0.35123,
     "end_time": "2023-03-24T19:49:13.227795",
     "exception": false,
     "start_time": "2023-03-24T19:49:12.876565",
     "status": "completed"
    },
    "tags": []
   },
   "outputs": [
    {
     "name": "stdout",
     "output_type": "stream",
     "text": [
      "[0]\tvalidation_0-error:0.26667\n",
      "Will train until validation_0-error hasn't improved in 50 rounds.\n",
      "[1]\tvalidation_0-error:0.26667\n",
      "[2]\tvalidation_0-error:0.28333\n",
      "[3]\tvalidation_0-error:0.31667\n",
      "[4]\tvalidation_0-error:0.28333\n",
      "[5]\tvalidation_0-error:0.31667\n",
      "[6]\tvalidation_0-error:0.28333\n",
      "[7]\tvalidation_0-error:0.26667\n",
      "[8]\tvalidation_0-error:0.30000\n",
      "[9]\tvalidation_0-error:0.28333\n",
      "[10]\tvalidation_0-error:0.26667\n",
      "[11]\tvalidation_0-error:0.26667\n",
      "[12]\tvalidation_0-error:0.30000\n",
      "[13]\tvalidation_0-error:0.31667\n",
      "[14]\tvalidation_0-error:0.31667\n",
      "[15]\tvalidation_0-error:0.31667\n",
      "[16]\tvalidation_0-error:0.30000\n",
      "[17]\tvalidation_0-error:0.25000\n",
      "[18]\tvalidation_0-error:0.28333\n",
      "[19]\tvalidation_0-error:0.31667\n",
      "[20]\tvalidation_0-error:0.31667\n",
      "[21]\tvalidation_0-error:0.30000\n",
      "[22]\tvalidation_0-error:0.26667\n",
      "[23]\tvalidation_0-error:0.30000\n",
      "[24]\tvalidation_0-error:0.26667\n",
      "[25]\tvalidation_0-error:0.31667\n",
      "[26]\tvalidation_0-error:0.30000\n",
      "[27]\tvalidation_0-error:0.28333\n",
      "[28]\tvalidation_0-error:0.26667\n",
      "[29]\tvalidation_0-error:0.26667\n",
      "[30]\tvalidation_0-error:0.26667\n",
      "[31]\tvalidation_0-error:0.26667\n",
      "[32]\tvalidation_0-error:0.28333\n",
      "[33]\tvalidation_0-error:0.28333\n",
      "[34]\tvalidation_0-error:0.28333\n",
      "[35]\tvalidation_0-error:0.30000\n",
      "[36]\tvalidation_0-error:0.31667\n",
      "[37]\tvalidation_0-error:0.31667\n",
      "[38]\tvalidation_0-error:0.31667\n",
      "[39]\tvalidation_0-error:0.31667\n",
      "[40]\tvalidation_0-error:0.31667\n",
      "[41]\tvalidation_0-error:0.31667\n",
      "[42]\tvalidation_0-error:0.31667\n",
      "[43]\tvalidation_0-error:0.31667\n",
      "[44]\tvalidation_0-error:0.31667\n",
      "[45]\tvalidation_0-error:0.31667\n",
      "[46]\tvalidation_0-error:0.31667\n",
      "[47]\tvalidation_0-error:0.31667\n",
      "[48]\tvalidation_0-error:0.33333\n",
      "[49]\tvalidation_0-error:0.31667\n",
      "[50]\tvalidation_0-error:0.31667\n",
      "[51]\tvalidation_0-error:0.31667\n",
      "[52]\tvalidation_0-error:0.31667\n",
      "[53]\tvalidation_0-error:0.33333\n",
      "[54]\tvalidation_0-error:0.31667\n",
      "[55]\tvalidation_0-error:0.31667\n",
      "[56]\tvalidation_0-error:0.31667\n",
      "[57]\tvalidation_0-error:0.31667\n",
      "[58]\tvalidation_0-error:0.31667\n",
      "[59]\tvalidation_0-error:0.31667\n",
      "[60]\tvalidation_0-error:0.31667\n",
      "[61]\tvalidation_0-error:0.31667\n",
      "[62]\tvalidation_0-error:0.31667\n",
      "[63]\tvalidation_0-error:0.31667\n",
      "[64]\tvalidation_0-error:0.31667\n",
      "[65]\tvalidation_0-error:0.31667\n",
      "[66]\tvalidation_0-error:0.31667\n",
      "[67]\tvalidation_0-error:0.31667\n",
      "Stopping. Best iteration:\n",
      "[17]\tvalidation_0-error:0.25000\n",
      "\n",
      "Score: 0.75\n",
      "Best number of trees: 18\n"
     ]
    }
   ],
   "source": [
    "# Create and Evaluate the Pipeline\n",
    "# Bundle preprocessing and modeling code in a pipeline\n",
    "my_pipeline = Pipeline(steps=[('preprocessor', preprocessor),\n",
    "                              ('model', model)\n",
    "                             ])\n",
    "\n",
    "# Preprocessing of training data, fit model \n",
    "my_pipeline.fit(X_train, y_train, **fit_params)\n",
    "\n",
    "# Get predictions\n",
    "preds = my_pipeline.predict(X_valid)\n",
    "\n",
    "# Evaluate the model\n",
    "score = accuracy_score(y_valid,preds)\n",
    "\n",
    "# Get best estimator count\n",
    "# https://stackoverflow.com/questions/51955256/xgboost-best-iteration\n",
    "# thanks to @Alessandro Ceccarelli, @Eran Moshe\n",
    "rounds = model.get_booster().best_ntree_limit\n",
    "\n",
    "# Display the result\n",
    "print(\"Score: {}\".format(score))\n",
    "print(\"Best number of trees: {}\".format(rounds))\n"
   ]
  },
  {
   "cell_type": "code",
   "execution_count": 15,
   "metadata": {
    "execution": {
     "iopub.execute_input": "2023-03-24T19:49:13.350768Z",
     "iopub.status.busy": "2023-03-24T19:49:13.348087Z",
     "iopub.status.idle": "2023-03-24T19:49:13.357652Z",
     "shell.execute_reply": "2023-03-24T19:49:13.358857Z",
     "shell.execute_reply.started": "2022-09-27T11:38:17.410221Z"
    },
    "papermill": {
     "duration": 0.073895,
     "end_time": "2023-03-24T19:49:13.359198",
     "exception": false,
     "start_time": "2023-03-24T19:49:13.285303",
     "status": "completed"
    },
    "tags": []
   },
   "outputs": [
    {
     "name": "stdout",
     "output_type": "stream",
     "text": [
      "                                                  Death Event\n",
      "                              *******************************************************\n",
      "                                   Positive                              Negative\n",
      "                              ******************                   ******************\n",
      "Predicted       Positive           11 (TP)                                3 (FP)\n",
      "Class           Negative           12 (FN)                               34 (TN)\n",
      "\n",
      "Accuracy = (TP+TN)/(TP+FP+FN+TN) = 0.75\n",
      "Precision = (TP)/(TP+FP) = 0.79\n",
      "Recall = (TP)/(TP+FN) = 0.48\n",
      "F1 score = 2 * (Precision*Recall)/(Precision+Recall) = 0.59\n"
     ]
    }
   ],
   "source": [
    "# Display results\n",
    "display_results (y_valid, preds)"
   ]
  },
  {
   "cell_type": "markdown",
   "metadata": {
    "papermill": {
     "duration": 0.044377,
     "end_time": "2023-03-24T19:49:13.455139",
     "exception": false,
     "start_time": "2023-03-24T19:49:13.410762",
     "status": "completed"
    },
    "tags": []
   },
   "source": [
    "# Grid Search  <a id='gridsearch'></a>"
   ]
  },
  {
   "cell_type": "code",
   "execution_count": 16,
   "metadata": {
    "execution": {
     "iopub.execute_input": "2023-03-24T19:49:13.561226Z",
     "iopub.status.busy": "2023-03-24T19:49:13.560251Z",
     "iopub.status.idle": "2023-03-24T19:49:13.563768Z",
     "shell.execute_reply": "2023-03-24T19:49:13.563168Z",
     "shell.execute_reply.started": "2022-09-27T11:38:17.421061Z"
    },
    "papermill": {
     "duration": 0.055888,
     "end_time": "2023-03-24T19:49:13.563895",
     "exception": false,
     "start_time": "2023-03-24T19:49:13.508007",
     "status": "completed"
    },
    "tags": []
   },
   "outputs": [],
   "source": [
    "# Define model parameters for grid search\n",
    "param_grid = {'model__learning_rate': [0.01, 0.05, 0.08, 0.1],\n",
    "              'model__n_estimators': [rounds],\n",
    "              'model__max_depth': [3, 4, 5, 6],\n",
    "              'model__min_child_weight': [1, 2, 3, 4],\n",
    "              'model__gamma': [0],\n",
    "              'model__subsample': [0.60, 0.70, 0.80, 0.90],\n",
    "              'model__colsample_bytree': [0.60, 0.70, 0.80, 0.90],\n",
    "              'model__random_state' : [42]}"
   ]
  },
  {
   "cell_type": "code",
   "execution_count": 17,
   "metadata": {
    "execution": {
     "iopub.execute_input": "2023-03-24T19:49:13.660469Z",
     "iopub.status.busy": "2023-03-24T19:49:13.659457Z",
     "iopub.status.idle": "2023-03-24T19:50:10.176183Z",
     "shell.execute_reply": "2023-03-24T19:50:10.177005Z",
     "shell.execute_reply.started": "2022-09-27T11:38:17.440231Z"
    },
    "papermill": {
     "duration": 56.569199,
     "end_time": "2023-03-24T19:50:10.177227",
     "exception": false,
     "start_time": "2023-03-24T19:49:13.608028",
     "status": "completed"
    },
    "tags": []
   },
   "outputs": [
    {
     "data": {
      "text/plain": [
       "GridSearchCV(cv=5,\n",
       "             estimator=Pipeline(steps=[('preprocessor',\n",
       "                                        Pipeline(steps=[('column_tarnsformer',\n",
       "                                                         ColumnTransformer(transformers=[('numerical',\n",
       "                                                                                          Pipeline(steps=[('scaler',\n",
       "                                                                                                           StandardScaler())]),\n",
       "                                                                                          ['age',\n",
       "                                                                                           'anaemia',\n",
       "                                                                                           'creatinine_phosphokinase',\n",
       "                                                                                           'diabetes',\n",
       "                                                                                           'ejection_fraction',\n",
       "                                                                                           'high_blood_pressure',\n",
       "                                                                                           'platelets',\n",
       "                                                                                           'serum_creatinine',\n",
       "                                                                                           'serum_sodium',\n",
       "                                                                                           'sex',\n",
       "                                                                                           'smoking'])]...\n",
       "                                                      tree_method='exact',\n",
       "                                                      validate_parameters=1,\n",
       "                                                      verbosity=None))]),\n",
       "             n_jobs=-1,\n",
       "             param_grid={'model__colsample_bytree': [0.6, 0.7, 0.8, 0.9],\n",
       "                         'model__gamma': [0],\n",
       "                         'model__learning_rate': [0.01, 0.05, 0.08, 0.1],\n",
       "                         'model__max_depth': [3, 4, 5, 6],\n",
       "                         'model__min_child_weight': [1, 2, 3, 4],\n",
       "                         'model__n_estimators': [18],\n",
       "                         'model__random_state': [42],\n",
       "                         'model__subsample': [0.6, 0.7, 0.8, 0.9]},\n",
       "             scoring='recall')"
      ]
     },
     "execution_count": 17,
     "metadata": {},
     "output_type": "execute_result"
    }
   ],
   "source": [
    "# Perform grid search\n",
    "# Use model parameters defined above. We use scoring as recall to minimize \n",
    "# False Negatives\n",
    "search = GridSearchCV(my_pipeline, param_grid, cv=5, n_jobs=-1,scoring='recall')\n",
    "search.fit(X, y)"
   ]
  },
  {
   "cell_type": "markdown",
   "metadata": {
    "papermill": {
     "duration": 0.044114,
     "end_time": "2023-03-24T19:50:10.267040",
     "exception": false,
     "start_time": "2023-03-24T19:50:10.222926",
     "status": "completed"
    },
    "tags": []
   },
   "source": [
    "# Cross-validation   <a id='cross-validation'></a>"
   ]
  },
  {
   "cell_type": "code",
   "execution_count": 18,
   "metadata": {
    "execution": {
     "iopub.execute_input": "2023-03-24T19:50:10.364806Z",
     "iopub.status.busy": "2023-03-24T19:50:10.363991Z",
     "iopub.status.idle": "2023-03-24T19:54:31.858612Z",
     "shell.execute_reply": "2023-03-24T19:54:31.859416Z",
     "shell.execute_reply.started": "2022-09-27T11:39:09.442092Z"
    },
    "papermill": {
     "duration": 261.548495,
     "end_time": "2023-03-24T19:54:31.859667",
     "exception": false,
     "start_time": "2023-03-24T19:50:10.311172",
     "status": "completed"
    },
    "tags": []
   },
   "outputs": [
    {
     "name": "stdout",
     "output_type": "stream",
     "text": [
      "Accuracy:\n",
      " [0.66666667 0.71666667 0.73333333 0.78333333 0.72881356]\n",
      "Accuracy mean: 0.7257627118644068\n",
      "Accuracy std: 0.03729900543501551\n"
     ]
    }
   ],
   "source": [
    "# Preprocessing of training data, fit model \n",
    "X_cv = X.copy()\n",
    "y_cv = y.copy()\n",
    "\n",
    "# X_cv = X_train.copy()\n",
    "# y_cv = y_train.copy()\n",
    "\n",
    "# get scores\n",
    "scores = cross_val_score(search, X_cv, y_cv,\n",
    "                              cv=5,\n",
    "                              scoring='accuracy')\n",
    "\n",
    "print(\"Accuracy:\\n\", scores)\n",
    "print(\"Accuracy mean: {}\".format(scores.mean()))\n",
    "print(\"Accuracy std: {}\".format(scores.std()))"
   ]
  },
  {
   "cell_type": "markdown",
   "metadata": {
    "papermill": {
     "duration": 0.057542,
     "end_time": "2023-03-24T19:54:31.981220",
     "exception": false,
     "start_time": "2023-03-24T19:54:31.923678",
     "status": "completed"
    },
    "tags": []
   },
   "source": [
    "# Prediction  <a id='prediction'></a>"
   ]
  },
  {
   "cell_type": "code",
   "execution_count": 19,
   "metadata": {
    "execution": {
     "iopub.execute_input": "2023-03-24T19:54:32.084037Z",
     "iopub.status.busy": "2023-03-24T19:54:32.083120Z",
     "iopub.status.idle": "2023-03-24T19:54:32.093019Z",
     "shell.execute_reply": "2023-03-24T19:54:32.094008Z",
     "shell.execute_reply.started": "2022-09-27T11:43:08.025031Z"
    },
    "papermill": {
     "duration": 0.066834,
     "end_time": "2023-03-24T19:54:32.094293",
     "exception": false,
     "start_time": "2023-03-24T19:54:32.027459",
     "status": "completed"
    },
    "tags": []
   },
   "outputs": [
    {
     "name": "stdout",
     "output_type": "stream",
     "text": [
      "Score: 0.8333333333333334\n"
     ]
    }
   ],
   "source": [
    "# Get predictions\n",
    "preds = search.predict(X_valid)\n",
    "\n",
    "# Evaluate the model\n",
    "score = accuracy_score(y_valid,preds)\n",
    "\n",
    "print(\"Score: {}\".format(score))"
   ]
  },
  {
   "cell_type": "code",
   "execution_count": 20,
   "metadata": {
    "execution": {
     "iopub.execute_input": "2023-03-24T19:54:32.223106Z",
     "iopub.status.busy": "2023-03-24T19:54:32.221938Z",
     "iopub.status.idle": "2023-03-24T19:54:32.225877Z",
     "shell.execute_reply": "2023-03-24T19:54:32.226453Z",
     "shell.execute_reply.started": "2022-09-27T11:43:08.039347Z"
    },
    "papermill": {
     "duration": 0.073031,
     "end_time": "2023-03-24T19:54:32.226680",
     "exception": false,
     "start_time": "2023-03-24T19:54:32.153649",
     "status": "completed"
    },
    "tags": []
   },
   "outputs": [
    {
     "name": "stdout",
     "output_type": "stream",
     "text": [
      "                                                  Death Event\n",
      "                              *******************************************************\n",
      "                                   Positive                              Negative\n",
      "                              ******************                   ******************\n",
      "Predicted       Positive           16 (TP)                                3 (FP)\n",
      "Class           Negative           7 (FN)                               34 (TN)\n",
      "\n",
      "Accuracy = (TP+TN)/(TP+FP+FN+TN) = 0.83\n",
      "Precision = (TP)/(TP+FP) = 0.84\n",
      "Recall = (TP)/(TP+FN) = 0.70\n",
      "F1 score = 2 * (Precision*Recall)/(Precision+Recall) = 0.76\n"
     ]
    }
   ],
   "source": [
    "display_results (y_valid, preds)"
   ]
  },
  {
   "cell_type": "markdown",
   "metadata": {
    "papermill": {
     "duration": 0.045392,
     "end_time": "2023-03-24T19:54:32.330184",
     "exception": false,
     "start_time": "2023-03-24T19:54:32.284792",
     "status": "completed"
    },
    "tags": []
   },
   "source": [
    "# Conclusion  <a id='conclusion'></a>"
   ]
  },
  {
   "cell_type": "markdown",
   "metadata": {
    "papermill": {
     "duration": 0.044833,
     "end_time": "2023-03-24T19:54:32.420348",
     "exception": false,
     "start_time": "2023-03-24T19:54:32.375515",
     "status": "completed"
    },
    "tags": []
   },
   "source": [
    "<div class=\"alert alert-block alert-warning\">  \n",
    "<b>Warning:</b> Below, for the XGBClassifier(random_state=0) example, we need to change both L10 and L16 for the model and L7 for the train_test_split.  \n",
    "</div>"
   ]
  },
  {
   "cell_type": "markdown",
   "metadata": {
    "papermill": {
     "duration": 0.044816,
     "end_time": "2023-03-24T19:54:32.510321",
     "exception": false,
     "start_time": "2023-03-24T19:54:32.465505",
     "status": "completed"
    },
    "tags": []
   },
   "source": [
    "We had used `scoring='recall'` for our grGridSearchCV, and improved our scores as below:\n",
    "\n",
    "### Using train_test_split(random_state=0)\n",
    "\n",
    "* Accuracy:  from 0.77 to 0.85\n",
    "* Precision: from 0.76 to 0.94\n",
    "* Recall:    from 0.57 to 0.65\n",
    "* F1 score:  from 0.65 to 0.77\n",
    "\n",
    "If we had shuffled our validation set with different random_state values we would have got different results such as:\n",
    "\n",
    "\n",
    "### Using train_test_split(random_state=1)\n",
    "*(change L7)*\n",
    "\n",
    "* Accuracy:  from 0.85 to 0.92\n",
    "* Precision: from 0.73 to 0.85\n",
    "* Recall:    from 0.57 to 0.79\n",
    "* F1 score:  from 0.64 to 0.81\n",
    "\n",
    "### Using train_test_split(random_state=42)\n",
    "*(change L7)*\n",
    "\n",
    "* Accuracy:  from 0.72 to 0.80\n",
    "* Precision: from 0.72 to 0.84\n",
    "* Recall:    from 0.52 to 0.64\n",
    "* F1 score:  from 0.60 to 0.73\n",
    "\n",
    "\n",
    "If we had changed our model with different random_state values we would have got different results such as:\n",
    "\n",
    "### Using XGBClassifier(random_state=0)\n",
    "*(change L7, L10, L16)*\n",
    "\n",
    "* Accuracy:  from 0.75 to 0.92\n",
    "* Precision: from 0.79 to 0.95\n",
    "* Recall:    from 0.48 to 0.83\n",
    "* F1 score:  from 0.59 to 0.88"
   ]
  },
  {
   "cell_type": "markdown",
   "metadata": {
    "papermill": {
     "duration": 0.044736,
     "end_time": "2023-03-24T19:54:32.600006",
     "exception": false,
     "start_time": "2023-03-24T19:54:32.555270",
     "status": "completed"
    },
    "tags": []
   },
   "source": [
    "# References   <a id='references'></a>\n",
    "* [@Larxel](https://www.kaggle.com/andrewmvd)\n",
    "* [Do not use time as a feature (Discussion Thread)](https://www.kaggle.com/andrewmvd/heart-failure-clinical-data/discussion/178372)\n",
    "* [Machine learning can predict survival of patients with heart failure from serum creatinine and ejection fraction alone (Research Article)](https://bmcmedinformdecismak.biomedcentral.com/articles/10.1186/s12911-020-1023-5)\n",
    "* [10-simple-hacks-to-speed-up-your-data-analysis - Parul Pandey](https://www.kaggle.com/parulpandey/10-simple-hacks-to-speed-up-your-data-analysis)\n",
    "* [Dataset Transformations - Scikit-learn](https://scikit-learn.org/stable/data_transforms.html)\n",
    "* [Intermediate Machine Learning Course - Pipelines](https://www.kaggle.com/alexisbcook/pipelines)\n",
    "* [Kaggle Learn](https://www.kaggle.com/learn/overview)"
   ]
  }
 ],
 "metadata": {
  "kernelspec": {
   "display_name": "Python 3",
   "language": "python",
   "name": "python3"
  },
  "language_info": {
   "codemirror_mode": {
    "name": "ipython",
    "version": 3
   },
   "file_extension": ".py",
   "mimetype": "text/x-python",
   "name": "python",
   "nbconvert_exporter": "python",
   "pygments_lexer": "ipython3",
   "version": "3.7.6"
  },
  "papermill": {
   "duration": 328.997617,
   "end_time": "2023-03-24T19:54:33.737830",
   "environment_variables": {},
   "exception": null,
   "input_path": "__notebook__.ipynb",
   "output_path": "__notebook__.ipynb",
   "parameters": {},
   "start_time": "2023-03-24T19:49:04.740213",
   "version": "2.1.0"
  }
 },
 "nbformat": 4,
 "nbformat_minor": 4
}
