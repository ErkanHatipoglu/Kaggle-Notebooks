{
 "cells": [
  {
   "cell_type": "markdown",
   "id": "c2d7dbe5",
   "metadata": {
    "papermill": {
     "duration": 0.006362,
     "end_time": "2022-12-01T20:53:36.059786",
     "exception": false,
     "start_time": "2022-12-01T20:53:36.053424",
     "status": "completed"
    },
    "tags": []
   },
   "source": [
    "# Introduction  <a id='introduction'></a>\n",
    "\n",
    "This notebook contains Python code for a multivariate linear regression task. Multivariate linear regression means linear regression with more than one variable. In addition to Python, we will also use Pandas, Numpy, and Matplotlib libraries. \n",
    "\n",
    "This notebook is greatly inspired by the famous Machine Learning course by [Andrew Ng](https://www.andrewng.org/). As always, all the mistakes, if any, are made by me.\n",
    "\n",
    "Finally, thanks to [@Mohan S Acharya](https://www.kaggle.com/mohansacharya) for this dataset.\n",
    "\n",
    "\n",
    "# Table of Contents\n",
    "* [Introduction](#introduction)\n",
    "* [Helper functios](#functions)\n",
    "* [The Hypothesis](#hypothesis)\n",
    "* [The Cost Function](#cost)\n",
    "* [Gradient Descent](#gradient)\n",
    "* [Feature Normalization](#normalization)\n",
    "* [Loading Data](#getdata)\n",
    "* [Model Training](#training)\n",
    "* [Model Validation](#validation)\n",
    "* [Conclusion](#conclusion)\n",
    "* [References](#references)"
   ]
  },
  {
   "cell_type": "code",
   "execution_count": 1,
   "id": "5d3fd339",
   "metadata": {
    "_cell_guid": "b1076dfc-b9ad-4769-8c92-a6c4dae69d19",
    "_uuid": "8f2839f25d086af736a60e9eeb907d3b93b6e0e5",
    "execution": {
     "iopub.execute_input": "2022-12-01T20:53:36.072646Z",
     "iopub.status.busy": "2022-12-01T20:53:36.072174Z",
     "iopub.status.idle": "2022-12-01T20:53:37.047519Z",
     "shell.execute_reply": "2022-12-01T20:53:37.046417Z"
    },
    "papermill": {
     "duration": 0.985166,
     "end_time": "2022-12-01T20:53:37.050397",
     "exception": false,
     "start_time": "2022-12-01T20:53:36.065231",
     "status": "completed"
    },
    "tags": []
   },
   "outputs": [
    {
     "name": "stdout",
     "output_type": "stream",
     "text": [
      "/kaggle/input/graduate-admissions/Admission_Predict.csv\n",
      "/kaggle/input/graduate-admissions/Admission_Predict_Ver1.1.csv\n"
     ]
    }
   ],
   "source": [
    "# This Python 3 environment comes with many helpful analytics libraries installed\n",
    "# It is defined by the kaggle/python Docker image: https://github.com/kaggle/docker-python\n",
    "# For example, here's several helpful packages to load\n",
    "\n",
    "import numpy as np # linear algebra\n",
    "import pandas as pd # data processing, CSV file I/O (e.g. pd.read_csv)\n",
    "\n",
    "# Input data files are available in the read-only \"../input/\" directory\n",
    "# For example, running this (by clicking run or pressing Shift+Enter) will list all files under the input directory\n",
    "\n",
    "import os\n",
    "for dirname, _, filenames in os.walk('/kaggle/input'):\n",
    "    for filename in filenames:\n",
    "        print(os.path.join(dirname, filename))\n",
    "\n",
    "# You can write up to 20GB to the current directory (/kaggle/working/) that gets preserved as output when you create a version using \"Save & Run All\" \n",
    "# You can also write temporary files to /kaggle/temp/, but they won't be saved outside of the current session\n",
    "\n",
    "from sklearn.model_selection import train_test_split\n",
    "import matplotlib.pyplot as plt"
   ]
  },
  {
   "cell_type": "markdown",
   "id": "838f845a",
   "metadata": {
    "papermill": {
     "duration": 0.005272,
     "end_time": "2022-12-01T20:53:37.061368",
     "exception": false,
     "start_time": "2022-12-01T20:53:37.056096",
     "status": "completed"
    },
    "tags": []
   },
   "source": [
    "# Helper Functions   <a id='functions'></a>   "
   ]
  },
  {
   "cell_type": "markdown",
   "id": "a9330570",
   "metadata": {
    "papermill": {
     "duration": 0.005066,
     "end_time": "2022-12-01T20:53:37.071811",
     "exception": false,
     "start_time": "2022-12-01T20:53:37.066745",
     "status": "completed"
    },
    "tags": []
   },
   "source": [
    "<div class=\"alert alert-block alert-info\">\n",
    "<b>Tip:</b> Tip: We will use some helper functions throughout the notebook. Collecting them in one place is a good idea, making the code more organized. First, we will define and explain those functions and then use them in our code.\n",
    "</div>"
   ]
  },
  {
   "cell_type": "markdown",
   "id": "a24ed31b",
   "metadata": {
    "papermill": {
     "duration": 0.005051,
     "end_time": "2022-12-01T20:53:37.082381",
     "exception": false,
     "start_time": "2022-12-01T20:53:37.077330",
     "status": "completed"
    },
    "tags": []
   },
   "source": [
    "# The  Hypothesis   <a id='hypothesis'></a>   "
   ]
  },
  {
   "cell_type": "markdown",
   "id": "94feab45",
   "metadata": {
    "papermill": {
     "duration": 0.005266,
     "end_time": "2022-12-01T20:53:37.093026",
     "exception": false,
     "start_time": "2022-12-01T20:53:37.087760",
     "status": "completed"
    },
    "tags": []
   },
   "source": [
    "The Hypotehsis Content"
   ]
  },
  {
   "cell_type": "code",
   "execution_count": 2,
   "id": "95016cbf",
   "metadata": {
    "execution": {
     "iopub.execute_input": "2022-12-01T20:53:37.105681Z",
     "iopub.status.busy": "2022-12-01T20:53:37.104730Z",
     "iopub.status.idle": "2022-12-01T20:53:37.109722Z",
     "shell.execute_reply": "2022-12-01T20:53:37.109101Z"
    },
    "papermill": {
     "duration": 0.013239,
     "end_time": "2022-12-01T20:53:37.111558",
     "exception": false,
     "start_time": "2022-12-01T20:53:37.098319",
     "status": "completed"
    },
    "tags": []
   },
   "outputs": [],
   "source": [
    "# The hypothesis\n",
    "def h(x, theta):\n",
    "    \"\"\"\n",
    "    calculates the predicted values (or predicted targets) for a given set of input and theta vectors.\n",
    "    :param x: inputs (feature values) - data frame of floats \n",
    "    :param theta: theta vector (weights) - Numpy array of floats\n",
    "    :return: predicted targets - Numpy array of floats\n",
    "    \n",
    "    \"\"\"\n",
    "    return np.dot(x, theta)"
   ]
  },
  {
   "cell_type": "markdown",
   "id": "b18590d2",
   "metadata": {
    "papermill": {
     "duration": 0.005188,
     "end_time": "2022-12-01T20:53:37.124570",
     "exception": false,
     "start_time": "2022-12-01T20:53:37.119382",
     "status": "completed"
    },
    "tags": []
   },
   "source": [
    "# The  Cost Function   <a id='cost'></a> "
   ]
  },
  {
   "cell_type": "markdown",
   "id": "0329a5b1",
   "metadata": {
    "papermill": {
     "duration": 0.005265,
     "end_time": "2022-12-01T20:53:37.135354",
     "exception": false,
     "start_time": "2022-12-01T20:53:37.130089",
     "status": "completed"
    },
    "tags": []
   },
   "source": [
    "The Cost function Content"
   ]
  },
  {
   "cell_type": "code",
   "execution_count": 3,
   "id": "a482e9f9",
   "metadata": {
    "execution": {
     "iopub.execute_input": "2022-12-01T20:53:37.148456Z",
     "iopub.status.busy": "2022-12-01T20:53:37.147878Z",
     "iopub.status.idle": "2022-12-01T20:53:37.153580Z",
     "shell.execute_reply": "2022-12-01T20:53:37.152898Z"
    },
    "papermill": {
     "duration": 0.014602,
     "end_time": "2022-12-01T20:53:37.155485",
     "exception": false,
     "start_time": "2022-12-01T20:53:37.140883",
     "status": "completed"
    },
    "tags": []
   },
   "outputs": [],
   "source": [
    "# The cost function\n",
    "\n",
    "def J(X,y,theta):\n",
    "    \"\"\"\n",
    "     Calculates the total error using squared error function.\n",
    "    :param X: inputs (feature values) - data frame of floats\n",
    "    :param y: outputs (actual target values) - Numpy array of floats\n",
    "    :param theta: theta vector (weights) - Numpy array of floats\n",
    "    :return: total error - float\n",
    "    \n",
    "    \"\"\"\n",
    "    # Calculate number of examples\n",
    "    m = len(X)\n",
    "    \n",
    "    # Calculate the constant\n",
    "    c = 1/(2 * m)\n",
    "       \n",
    "    # Calculate the array of errors\n",
    "    temp_0 = h(X, theta) - y.reshape(-1)\n",
    "\n",
    "    # Calculate the transpose of array of errors\n",
    "    temp_1 = temp_0.transpose()\n",
    "\n",
    "    # Calculate the dot product \n",
    "    temp_2 = np.dot(temp_1, temp_0) \n",
    "\n",
    "    return  c * temp_2"
   ]
  },
  {
   "cell_type": "markdown",
   "id": "34477f81",
   "metadata": {
    "papermill": {
     "duration": 0.005085,
     "end_time": "2022-12-01T20:53:37.166207",
     "exception": false,
     "start_time": "2022-12-01T20:53:37.161122",
     "status": "completed"
    },
    "tags": []
   },
   "source": [
    "# Gradient Descent   <a id='gradient'></a> "
   ]
  },
  {
   "cell_type": "markdown",
   "id": "02d24308",
   "metadata": {
    "papermill": {
     "duration": 0.005068,
     "end_time": "2022-12-01T20:53:37.176664",
     "exception": false,
     "start_time": "2022-12-01T20:53:37.171596",
     "status": "completed"
    },
    "tags": []
   },
   "source": [
    "The gradient Descent content"
   ]
  },
  {
   "cell_type": "code",
   "execution_count": 4,
   "id": "52356239",
   "metadata": {
    "execution": {
     "iopub.execute_input": "2022-12-01T20:53:37.190217Z",
     "iopub.status.busy": "2022-12-01T20:53:37.189705Z",
     "iopub.status.idle": "2022-12-01T20:53:37.195903Z",
     "shell.execute_reply": "2022-12-01T20:53:37.194927Z"
    },
    "papermill": {
     "duration": 0.015088,
     "end_time": "2022-12-01T20:53:37.197824",
     "exception": false,
     "start_time": "2022-12-01T20:53:37.182736",
     "status": "completed"
    },
    "tags": []
   },
   "outputs": [],
   "source": [
    "# Gradient descent function\n",
    "def gradient(X, y, theta, alpha):\n",
    "    \"\"\"\n",
    "     calculates the gradient descent.\n",
    "    :param X: inputs (feature values) - data frame of floats\n",
    "    :param y: outputs (actual target values) - Numpy array of floats\n",
    "    :param theta: theta vector (weights) - Numpy array of floats\n",
    "    :param alpha: learning rate\n",
    "    :return: new theta - Numpy array of floats\n",
    "    \n",
    "    \"\"\"\n",
    "    # Calculate number of examples\n",
    "    m = len(X)\n",
    "    \n",
    "    # Calculate the constant\n",
    "    c =  alpha / m\n",
    "        \n",
    "    # calculate the transpose of X\n",
    "    temp_0 = X.transpose()\n",
    "        \n",
    "    # Calculate the array of errors\n",
    "    temp_1 = h(X, theta) - y.reshape(-1) \n",
    "        \n",
    "    # Calculate the dot product \n",
    "    temp_2 = np.dot(temp_0, temp_1)\n",
    "        \n",
    "    return theta - (c * temp_2)"
   ]
  },
  {
   "cell_type": "markdown",
   "id": "9e79c00b",
   "metadata": {
    "papermill": {
     "duration": 0.00521,
     "end_time": "2022-12-01T20:53:37.208701",
     "exception": false,
     "start_time": "2022-12-01T20:53:37.203491",
     "status": "completed"
    },
    "tags": []
   },
   "source": [
    "# Feature Normalization  <a id='normalization'></a>"
   ]
  },
  {
   "cell_type": "markdown",
   "id": "04f89b47",
   "metadata": {
    "papermill": {
     "duration": 0.005254,
     "end_time": "2022-12-01T20:53:37.219593",
     "exception": false,
     "start_time": "2022-12-01T20:53:37.214339",
     "status": "completed"
    },
    "tags": []
   },
   "source": [
    "feature normalization content"
   ]
  },
  {
   "cell_type": "code",
   "execution_count": 5,
   "id": "a62e7ad3",
   "metadata": {
    "execution": {
     "iopub.execute_input": "2022-12-01T20:53:37.232530Z",
     "iopub.status.busy": "2022-12-01T20:53:37.231837Z",
     "iopub.status.idle": "2022-12-01T20:53:37.238061Z",
     "shell.execute_reply": "2022-12-01T20:53:37.236463Z"
    },
    "papermill": {
     "duration": 0.015208,
     "end_time": "2022-12-01T20:53:37.240306",
     "exception": false,
     "start_time": "2022-12-01T20:53:37.225098",
     "status": "completed"
    },
    "tags": []
   },
   "outputs": [],
   "source": [
    "# Standardization\n",
    "def normalize(X):\n",
    "    \"\"\"\n",
    "     Applies standardization to the dataframe.\n",
    "    :param X: unnormalized features - data frame of floats\n",
    "    :return: normalized features - data frame of floats\n",
    "    \n",
    "    \"\"\"\n",
    "    for column in X.columns:\n",
    "        X[column] = (X[column] - X[column].mean()) / X[column].std()\n",
    "        \n",
    "    return X"
   ]
  },
  {
   "cell_type": "markdown",
   "id": "cb45d753",
   "metadata": {
    "papermill": {
     "duration": 0.005299,
     "end_time": "2022-12-01T20:53:37.251578",
     "exception": false,
     "start_time": "2022-12-01T20:53:37.246279",
     "status": "completed"
    },
    "tags": []
   },
   "source": [
    "# Loading Data   <a id='getdata'></a> "
   ]
  },
  {
   "cell_type": "code",
   "execution_count": 6,
   "id": "954df9bf",
   "metadata": {
    "execution": {
     "iopub.execute_input": "2022-12-01T20:53:37.264300Z",
     "iopub.status.busy": "2022-12-01T20:53:37.263899Z",
     "iopub.status.idle": "2022-12-01T20:53:37.304532Z",
     "shell.execute_reply": "2022-12-01T20:53:37.303464Z"
    },
    "papermill": {
     "duration": 0.049468,
     "end_time": "2022-12-01T20:53:37.306483",
     "exception": false,
     "start_time": "2022-12-01T20:53:37.257015",
     "status": "completed"
    },
    "tags": []
   },
   "outputs": [
    {
     "data": {
      "text/html": [
       "<div>\n",
       "<style scoped>\n",
       "    .dataframe tbody tr th:only-of-type {\n",
       "        vertical-align: middle;\n",
       "    }\n",
       "\n",
       "    .dataframe tbody tr th {\n",
       "        vertical-align: top;\n",
       "    }\n",
       "\n",
       "    .dataframe thead th {\n",
       "        text-align: right;\n",
       "    }\n",
       "</style>\n",
       "<table border=\"1\" class=\"dataframe\">\n",
       "  <thead>\n",
       "    <tr style=\"text-align: right;\">\n",
       "      <th></th>\n",
       "      <th>GRE Score</th>\n",
       "      <th>TOEFL Score</th>\n",
       "      <th>University Rating</th>\n",
       "      <th>SOP</th>\n",
       "      <th>LOR</th>\n",
       "      <th>CGPA</th>\n",
       "      <th>Research</th>\n",
       "    </tr>\n",
       "  </thead>\n",
       "  <tbody>\n",
       "    <tr>\n",
       "      <th>249</th>\n",
       "      <td>321</td>\n",
       "      <td>111</td>\n",
       "      <td>3</td>\n",
       "      <td>3.5</td>\n",
       "      <td>4.0</td>\n",
       "      <td>8.83</td>\n",
       "      <td>1</td>\n",
       "    </tr>\n",
       "    <tr>\n",
       "      <th>433</th>\n",
       "      <td>316</td>\n",
       "      <td>111</td>\n",
       "      <td>4</td>\n",
       "      <td>4.0</td>\n",
       "      <td>5.0</td>\n",
       "      <td>8.54</td>\n",
       "      <td>0</td>\n",
       "    </tr>\n",
       "    <tr>\n",
       "      <th>19</th>\n",
       "      <td>303</td>\n",
       "      <td>102</td>\n",
       "      <td>3</td>\n",
       "      <td>3.5</td>\n",
       "      <td>3.0</td>\n",
       "      <td>8.50</td>\n",
       "      <td>0</td>\n",
       "    </tr>\n",
       "    <tr>\n",
       "      <th>322</th>\n",
       "      <td>314</td>\n",
       "      <td>107</td>\n",
       "      <td>2</td>\n",
       "      <td>2.5</td>\n",
       "      <td>4.0</td>\n",
       "      <td>8.27</td>\n",
       "      <td>0</td>\n",
       "    </tr>\n",
       "    <tr>\n",
       "      <th>332</th>\n",
       "      <td>308</td>\n",
       "      <td>106</td>\n",
       "      <td>3</td>\n",
       "      <td>3.5</td>\n",
       "      <td>2.5</td>\n",
       "      <td>8.21</td>\n",
       "      <td>1</td>\n",
       "    </tr>\n",
       "  </tbody>\n",
       "</table>\n",
       "</div>"
      ],
      "text/plain": [
       "     GRE Score  TOEFL Score  University Rating  SOP  LOR   CGPA  Research\n",
       "249        321          111                  3  3.5   4.0  8.83         1\n",
       "433        316          111                  4  4.0   5.0  8.54         0\n",
       "19         303          102                  3  3.5   3.0  8.50         0\n",
       "322        314          107                  2  2.5   4.0  8.27         0\n",
       "332        308          106                  3  3.5   2.5  8.21         1"
      ]
     },
     "execution_count": 6,
     "metadata": {},
     "output_type": "execute_result"
    }
   ],
   "source": [
    "# Get the data. Note that there are two versions. We will use the one\n",
    "# with the most rows.\n",
    "\n",
    "train_data = pd.read_csv(\"/kaggle/input/graduate-admissions/Admission_Predict_Ver1.1.csv\")\n",
    "\n",
    "# Set X and y\n",
    "X = train_data.drop(['Chance of Admit ', 'Serial No.'], axis=1) # Chance of Admit is the target variable and Serial No. is the order. So we drop them.\n",
    "y = pd.DataFrame(data = train_data['Chance of Admit ']).to_numpy()\n",
    "\n",
    "# X = normalize(X)\n",
    "\n",
    "# Break off validation set from training data\n",
    "X_train, X_valid, y_train, y_valid = train_test_split(X, y, train_size=0.8, test_size=0.2,\n",
    "                                                                random_state=42)\n",
    "\n",
    "X_train.head()"
   ]
  },
  {
   "cell_type": "code",
   "execution_count": 7,
   "id": "8a69070c",
   "metadata": {
    "execution": {
     "iopub.execute_input": "2022-12-01T20:53:37.319965Z",
     "iopub.status.busy": "2022-12-01T20:53:37.319539Z",
     "iopub.status.idle": "2022-12-01T20:53:37.331891Z",
     "shell.execute_reply": "2022-12-01T20:53:37.330937Z"
    },
    "papermill": {
     "duration": 0.021298,
     "end_time": "2022-12-01T20:53:37.333681",
     "exception": false,
     "start_time": "2022-12-01T20:53:37.312383",
     "status": "completed"
    },
    "tags": []
   },
   "outputs": [
    {
     "data": {
      "text/html": [
       "<div>\n",
       "<style scoped>\n",
       "    .dataframe tbody tr th:only-of-type {\n",
       "        vertical-align: middle;\n",
       "    }\n",
       "\n",
       "    .dataframe tbody tr th {\n",
       "        vertical-align: top;\n",
       "    }\n",
       "\n",
       "    .dataframe thead th {\n",
       "        text-align: right;\n",
       "    }\n",
       "</style>\n",
       "<table border=\"1\" class=\"dataframe\">\n",
       "  <thead>\n",
       "    <tr style=\"text-align: right;\">\n",
       "      <th></th>\n",
       "      <th>GRE Score</th>\n",
       "      <th>TOEFL Score</th>\n",
       "      <th>University Rating</th>\n",
       "      <th>SOP</th>\n",
       "      <th>LOR</th>\n",
       "      <th>CGPA</th>\n",
       "      <th>Research</th>\n",
       "    </tr>\n",
       "  </thead>\n",
       "  <tbody>\n",
       "    <tr>\n",
       "      <th>249</th>\n",
       "      <td>321</td>\n",
       "      <td>111</td>\n",
       "      <td>3</td>\n",
       "      <td>3.5</td>\n",
       "      <td>4.0</td>\n",
       "      <td>8.83</td>\n",
       "      <td>1</td>\n",
       "    </tr>\n",
       "    <tr>\n",
       "      <th>433</th>\n",
       "      <td>316</td>\n",
       "      <td>111</td>\n",
       "      <td>4</td>\n",
       "      <td>4.0</td>\n",
       "      <td>5.0</td>\n",
       "      <td>8.54</td>\n",
       "      <td>0</td>\n",
       "    </tr>\n",
       "    <tr>\n",
       "      <th>19</th>\n",
       "      <td>303</td>\n",
       "      <td>102</td>\n",
       "      <td>3</td>\n",
       "      <td>3.5</td>\n",
       "      <td>3.0</td>\n",
       "      <td>8.50</td>\n",
       "      <td>0</td>\n",
       "    </tr>\n",
       "    <tr>\n",
       "      <th>322</th>\n",
       "      <td>314</td>\n",
       "      <td>107</td>\n",
       "      <td>2</td>\n",
       "      <td>2.5</td>\n",
       "      <td>4.0</td>\n",
       "      <td>8.27</td>\n",
       "      <td>0</td>\n",
       "    </tr>\n",
       "    <tr>\n",
       "      <th>332</th>\n",
       "      <td>308</td>\n",
       "      <td>106</td>\n",
       "      <td>3</td>\n",
       "      <td>3.5</td>\n",
       "      <td>2.5</td>\n",
       "      <td>8.21</td>\n",
       "      <td>1</td>\n",
       "    </tr>\n",
       "  </tbody>\n",
       "</table>\n",
       "</div>"
      ],
      "text/plain": [
       "     GRE Score  TOEFL Score  University Rating  SOP  LOR   CGPA  Research\n",
       "249        321          111                  3  3.5   4.0  8.83         1\n",
       "433        316          111                  4  4.0   5.0  8.54         0\n",
       "19         303          102                  3  3.5   3.0  8.50         0\n",
       "322        314          107                  2  2.5   4.0  8.27         0\n",
       "332        308          106                  3  3.5   2.5  8.21         1"
      ]
     },
     "execution_count": 7,
     "metadata": {},
     "output_type": "execute_result"
    }
   ],
   "source": [
    "X_train.head()"
   ]
  },
  {
   "cell_type": "markdown",
   "id": "bfd4d207",
   "metadata": {
    "papermill": {
     "duration": 0.005446,
     "end_time": "2022-12-01T20:53:37.345142",
     "exception": false,
     "start_time": "2022-12-01T20:53:37.339696",
     "status": "completed"
    },
    "tags": []
   },
   "source": [
    "# Model Training   <a id='training'></a> "
   ]
  },
  {
   "cell_type": "markdown",
   "id": "18a99531",
   "metadata": {
    "papermill": {
     "duration": 0.005302,
     "end_time": "2022-12-01T20:53:37.356183",
     "exception": false,
     "start_time": "2022-12-01T20:53:37.350881",
     "status": "completed"
    },
    "tags": []
   },
   "source": [
    "Model training content"
   ]
  },
  {
   "cell_type": "code",
   "execution_count": 8,
   "id": "561daf59",
   "metadata": {
    "execution": {
     "iopub.execute_input": "2022-12-01T20:53:37.369460Z",
     "iopub.status.busy": "2022-12-01T20:53:37.369072Z",
     "iopub.status.idle": "2022-12-01T20:53:37.422331Z",
     "shell.execute_reply": "2022-12-01T20:53:37.418940Z"
    },
    "papermill": {
     "duration": 0.065072,
     "end_time": "2022-12-01T20:53:37.426805",
     "exception": false,
     "start_time": "2022-12-01T20:53:37.361733",
     "status": "completed"
    },
    "tags": []
   },
   "outputs": [
    {
     "name": "stdout",
     "output_type": "stream",
     "text": [
      "initial Cost: 0.272069125\n",
      "\n",
      "Iteration: 1\n",
      "Calculated cost: 0.21600248777678965\n",
      "cost difference: 0.05606663722321037\n",
      "\n",
      "Iteration: 2\n",
      "Calculated cost: 0.17180047464342052\n",
      "cost difference: 0.044202013133369134\n",
      "\n",
      "Iteration: 3\n",
      "Calculated cost: 0.1369523332880695\n",
      "cost difference: 0.034848141355351026\n",
      "\n",
      "Iteration: 4\n",
      "Calculated cost: 0.10947862845744326\n",
      "cost difference: 0.027473704830626236\n",
      "\n",
      "Iteration: 5\n",
      "Calculated cost: 0.08781880640694123\n",
      "cost difference: 0.02165982205050203\n",
      "\n",
      "Iteration: 6\n",
      "Calculated cost: 0.07074255258814093\n",
      "cost difference: 0.017076253818800305\n",
      "\n",
      "Iteration: 7\n",
      "Calculated cost: 0.05727990752781233\n",
      "cost difference: 0.013462645060328592\n",
      "\n",
      "Iteration: 8\n",
      "Calculated cost: 0.046666171352321505\n",
      "cost difference: 0.010613736175490829\n",
      "\n",
      "Iteration: 9\n",
      "Calculated cost: 0.0382984674334435\n",
      "cost difference: 0.008367703918878006\n",
      "\n",
      "Iteration: 10\n",
      "Calculated cost: 0.0317014978910666\n",
      "cost difference: 0.0065969695423769015\n",
      "\n",
      "Iteration: 11\n",
      "Calculated cost: 0.026500545802586248\n",
      "cost difference: 0.00520095208848035\n",
      "\n",
      "Iteration: 12\n",
      "Calculated cost: 0.022400190595006735\n",
      "cost difference: 0.004100355207579513\n",
      "\n",
      "Iteration: 13\n",
      "Calculated cost: 0.019167527615016736\n",
      "cost difference: 0.0032326629799899996\n",
      "\n",
      "Iteration: 14\n",
      "Calculated cost: 0.016618938717867515\n",
      "cost difference: 0.0025485888971492204\n",
      "\n",
      "Iteration: 15\n",
      "Calculated cost: 0.014609662420258483\n",
      "cost difference: 0.002009276297609032\n",
      "\n",
      "Iteration: 16\n",
      "Calculated cost: 0.013025571182800372\n",
      "cost difference: 0.0015840912374581115\n",
      "\n",
      "Iteration: 17\n",
      "Calculated cost: 0.01177668875663148\n",
      "cost difference: 0.0012488824261688916\n",
      "\n",
      "Iteration: 18\n",
      "Calculated cost: 0.010792079367594663\n",
      "cost difference: 0.0009846093890368175\n",
      "\n",
      "Iteration: 19\n",
      "Calculated cost: 0.010015818434270605\n",
      "cost difference: 0.0007762609333240578\n",
      "\n",
      "Iteration: 20\n",
      "Calculated cost: 0.009403815949267584\n",
      "cost difference: 0.0006120024850030208\n",
      "\n",
      "Iteration: 21\n",
      "Calculated cost: 0.00892131208600366\n",
      "cost difference: 0.00048250386326392433\n",
      "\n",
      "Iteration: 22\n",
      "Calculated cost: 0.008540902776857076\n",
      "cost difference: 0.0003804093091465833\n",
      "\n",
      "Iteration: 23\n",
      "Calculated cost: 0.008240983111905544\n",
      "cost difference: 0.00029991966495153226\n",
      "\n",
      "Iteration: 24\n",
      "Calculated cost: 0.008004520140450165\n",
      "cost difference: 0.00023646297145537946\n",
      "\n",
      "Iteration: 25\n",
      "Calculated cost: 0.007818085368201687\n",
      "cost difference: 0.00018643477224847792\n",
      "\n",
      "Iteration: 26\n",
      "Calculated cost: 0.00767109199419626\n",
      "cost difference: 0.0001469933740054271\n",
      "\n",
      "Iteration: 27\n",
      "Calculated cost: 0.0075551935610996546\n",
      "cost difference: 0.00011589843309660515\n",
      "\n",
      "Iteration: 28\n",
      "Calculated cost: 0.0074638098611352136\n",
      "cost difference: 9.138369996444101e-05\n",
      "\n",
      "Iteration: 29\n",
      "Calculated cost: 0.007391753168223472\n",
      "cost difference: 7.20566929117419e-05\n",
      "\n",
      "Iteration: 30\n",
      "Calculated cost: 0.007334933565633988\n",
      "cost difference: 5.681960258948401e-05\n",
      "\n",
      "Iteration: 31\n",
      "Calculated cost: 0.0072901266312199895\n",
      "cost difference: 4.48069344139981e-05\n",
      "\n",
      "Iteration: 32\n",
      "Calculated cost: 0.007254790284331474\n",
      "cost difference: 3.53363468885157e-05\n",
      "\n",
      "Iteration: 33\n",
      "Calculated cost: 0.007226920390975748\n",
      "cost difference: 2.786989335572601e-05\n",
      "\n",
      "Iteration: 34\n",
      "Calculated cost: 0.00720493692533395\n",
      "cost difference: 2.1983465641797414e-05\n",
      "\n",
      "Iteration: 35\n",
      "Calculated cost: 0.007187594221399012\n",
      "cost difference: 1.734270393493817e-05\n",
      "\n",
      "Iteration: 36\n",
      "Calculated cost: 0.007173910216863702\n",
      "cost difference: 1.3684004535310414e-05\n",
      "\n",
      "Iteration: 37\n",
      "Calculated cost: 0.007163110670181877\n",
      "cost difference: 1.0799546681824514e-05\n",
      "\n",
      "Iteration: 38\n",
      "Calculated cost: 0.007154585182229829\n",
      "cost difference: 8.525487952048237e-06\n",
      "\n",
      " Calculated theta: [6.29421079e-06 2.03316319e-03 6.97163686e-04 2.31572979e-05\n",
      " 2.43392376e-05 2.46143887e-05 5.64358936e-05 4.71761167e-06]\n"
     ]
    }
   ],
   "source": [
    "# Initialize\n",
    "\n",
    "# Make a list of ones\n",
    "ones_train = [1] * len(X_train)\n",
    "ones_valid = [1] * len(X_valid)\n",
    "\n",
    "# Insert ones to the fist column since\n",
    "# X_0 for all training examples should\n",
    "# be one.\n",
    "X_train.insert(0, \"X_0\", ones_train, True)\n",
    "X_valid.insert(0, \"X_0\", ones_valid, True)\n",
    "\n",
    "# Select zero vector for initial theta\n",
    "zero_list= [0] * len(X_train.axes[1])\n",
    "theta = np.asarray(zero_list)\n",
    "\n",
    "# set learning rate \n",
    "alpha = 0.000001\n",
    "\n",
    "# Set convergence threshold\n",
    "threshold = 0.00001\n",
    "\n",
    "# Initial cost value.\n",
    "# Will also be used in the first iteration\n",
    "# of the while loop. If the initial cost\n",
    "# is smaller then convergence threshold then\n",
    "# while loop will not be executed.\n",
    "cost_diff = J(X_train, y_train, theta)\n",
    "print(\"initial Cost: {}\".format(cost_diff))\n",
    "\n",
    "# We will count the number of iterations.\n",
    "my_iter = 0\n",
    "\n",
    "# Create a dictionary of cost values for debugging\n",
    "cost_dict = {} # will be used for storing the cost value of each iteration.\n",
    "\n",
    "# Add initial cost value to the dictionary\n",
    "my_key = \"I_\" + str(my_iter)\n",
    "cost_dict[my_key] = cost_diff\n",
    "\n",
    "# Start gradient descent\n",
    "while cost_diff >= threshold:\n",
    "    \n",
    "    # calculate initial cost value\n",
    "    initial_cost = J(X_train, y_train, theta)\n",
    "    \n",
    "    # calculate and assign the new theta values\n",
    "    theta = gradient(X_train, y_train, theta, alpha)\n",
    "    \n",
    "    # calculate the consecutive cost value\n",
    "    new_cost = J(X_train, y_train, theta)\n",
    "        \n",
    "    # calculate the difference between the consecutive\n",
    "    # cost values\n",
    "    cost_diff = initial_cost - new_cost\n",
    "    \n",
    "    # Update the dictionary\n",
    "    my_key = \"I_\" + str(my_iter)\n",
    "    cost_dict[my_key] = new_cost\n",
    "    \n",
    "    my_iter += 1\n",
    "    \n",
    "    print()\n",
    "    print(\"Iteration: {}\".format(my_iter))\n",
    "    print(\"Calculated cost: {}\".format(new_cost))\n",
    "    print(\"cost difference: {}\".format(cost_diff))\n",
    "\n",
    "print(\"\\n Calculated theta: {}\".format(theta))\n",
    "  \n"
   ]
  },
  {
   "cell_type": "code",
   "execution_count": 9,
   "id": "72c45578",
   "metadata": {
    "execution": {
     "iopub.execute_input": "2022-12-01T20:53:37.440822Z",
     "iopub.status.busy": "2022-12-01T20:53:37.440461Z",
     "iopub.status.idle": "2022-12-01T20:53:37.763713Z",
     "shell.execute_reply": "2022-12-01T20:53:37.762650Z"
    },
    "papermill": {
     "duration": 0.332372,
     "end_time": "2022-12-01T20:53:37.765902",
     "exception": false,
     "start_time": "2022-12-01T20:53:37.433530",
     "status": "completed"
    },
    "tags": []
   },
   "outputs": [
    {
     "data": {
      "text/plain": [
       "[<matplotlib.lines.Line2D at 0x7f95ed0de290>]"
      ]
     },
     "execution_count": 9,
     "metadata": {},
     "output_type": "execute_result"
    },
    {
     "data": {
      "image/png": "[encoded data removed]",
      "text/plain": [
       "<Figure size 1440x720 with 1 Axes>"
      ]
     },
     "metadata": {
      "needs_background": "light"
     },
     "output_type": "display_data"
    }
   ],
   "source": [
    "# Plot Debugging Curve\n",
    "Y1=[x for x in cost_dict.values()]\n",
    "\n",
    "X1=[x for x in cost_dict.keys()]\n",
    "\n",
    "fig = plt.figure(figsize=[20, 10])\n",
    "plt.xlabel('Iterations')\n",
    "plt.ylabel('J(θ)')\n",
    "plt.title('Debugging Curve')\n",
    "plt.plot(X1,Y1, color='tab:blue')\n"
   ]
  },
  {
   "cell_type": "markdown",
   "id": "2c4dab67",
   "metadata": {
    "papermill": {
     "duration": 0.006091,
     "end_time": "2022-12-01T20:53:37.778658",
     "exception": false,
     "start_time": "2022-12-01T20:53:37.772567",
     "status": "completed"
    },
    "tags": []
   },
   "source": [
    "# Model Validation   <a id='validation'></a> "
   ]
  },
  {
   "cell_type": "markdown",
   "id": "3bcb04f4",
   "metadata": {
    "papermill": {
     "duration": 0.006304,
     "end_time": "2022-12-01T20:53:37.791372",
     "exception": false,
     "start_time": "2022-12-01T20:53:37.785068",
     "status": "completed"
    },
    "tags": []
   },
   "source": [
    "model validation content"
   ]
  },
  {
   "cell_type": "code",
   "execution_count": 10,
   "id": "e2a1b600",
   "metadata": {
    "execution": {
     "iopub.execute_input": "2022-12-01T20:53:37.805389Z",
     "iopub.status.busy": "2022-12-01T20:53:37.805043Z",
     "iopub.status.idle": "2022-12-01T20:53:37.811651Z",
     "shell.execute_reply": "2022-12-01T20:53:37.810548Z"
    },
    "papermill": {
     "duration": 0.015993,
     "end_time": "2022-12-01T20:53:37.813617",
     "exception": false,
     "start_time": "2022-12-01T20:53:37.797624",
     "status": "completed"
    },
    "tags": []
   },
   "outputs": [
    {
     "name": "stdout",
     "output_type": "stream",
     "text": [
      "\n",
      " theta: [6.29421079e-06 2.03316319e-03 6.97163686e-04 2.31572979e-05\n",
      " 2.43392376e-05 2.46143887e-05 5.64358936e-05 4.71761167e-06]\n",
      "\n",
      "Cost of test data: 0.007346981344506076\n"
     ]
    }
   ],
   "source": [
    "print(\"\\n theta: {}\\n\".format(theta))\n",
    "\n",
    "# calculate the cost value for the test set\n",
    "cost_test = J(X_valid, y_valid, theta)\n",
    "print(\"Cost of test data: {}\".format(cost_test))"
   ]
  },
  {
   "cell_type": "markdown",
   "id": "4e927624",
   "metadata": {
    "papermill": {
     "duration": 0.006289,
     "end_time": "2022-12-01T20:53:37.829672",
     "exception": false,
     "start_time": "2022-12-01T20:53:37.823383",
     "status": "completed"
    },
    "tags": []
   },
   "source": [
    "# Conclusion   <a id='conclusion'></a> "
   ]
  },
  {
   "cell_type": "markdown",
   "id": "3a0f2618",
   "metadata": {
    "papermill": {
     "duration": 0.005944,
     "end_time": "2022-12-01T20:53:37.841913",
     "exception": false,
     "start_time": "2022-12-01T20:53:37.835969",
     "status": "completed"
    },
    "tags": []
   },
   "source": [
    "Conclusion content"
   ]
  },
  {
   "cell_type": "markdown",
   "id": "4f7b1890",
   "metadata": {
    "papermill": {
     "duration": 0.005974,
     "end_time": "2022-12-01T20:53:37.854168",
     "exception": false,
     "start_time": "2022-12-01T20:53:37.848194",
     "status": "completed"
    },
    "tags": []
   },
   "source": [
    "# References   <a id='references'></a>\n",
    "* [Machine Learning Specialization - Deeplearning.AI](https://www.deeplearning.ai/program/machine-learning-specialization/)\n",
    "* [Andrew Ng](https://en.wikipedia.org/wiki/Andrew_Ng)\n",
    "* [@Mohan S Acharya](https://www.kaggle.com/mohansacharya)\n",
    "* [10-simple-hacks-to-speed-up-your-data-analysis - Parul Pandey](https://www.kaggle.com/parulpandey/10-simple-hacks-to-speed-up-your-data-analysis)\n",
    "* [Univariate Linear Regression From Scratch - Kaggle](https://www.kaggle.com/code/erkanhatipoglu/univariate-linear-regression-from-scratch)\n",
    "* [Univariate Linear Regression From Scratch - Towards AI](https://pub.towardsai.net/univariate-linear-regression-from-scratch-68065fe8eb09)"
   ]
  }
 ],
 "metadata": {
  "kernelspec": {
   "display_name": "Python 3",
   "language": "python",
   "name": "python3"
  },
  "language_info": {
   "codemirror_mode": {
    "name": "ipython",
    "version": 3
   },
   "file_extension": ".py",
   "mimetype": "text/x-python",
   "name": "python",
   "nbconvert_exporter": "python",
   "pygments_lexer": "ipython3",
   "version": "3.7.12"
  },
  "papermill": {
   "default_parameters": {},
   "duration": 9.769077,
   "end_time": "2022-12-01T20:53:38.582468",
   "environment_variables": {},
   "exception": null,
   "input_path": "__notebook__.ipynb",
   "output_path": "__notebook__.ipynb",
   "parameters": {},
   "start_time": "2022-12-01T20:53:28.813391",
   "version": "2.3.4"
  }
 },
 "nbformat": 4,
 "nbformat_minor": 5
}
