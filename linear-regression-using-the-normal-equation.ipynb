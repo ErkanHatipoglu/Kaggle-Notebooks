{
 "cells": [
  {
   "cell_type": "markdown",
   "id": "585968cd",
   "metadata": {
    "papermill": {
     "duration": 0.006849,
     "end_time": "2023-03-19T21:30:18.491879",
     "exception": false,
     "start_time": "2023-03-19T21:30:18.485030",
     "status": "completed"
    },
    "tags": []
   },
   "source": [
    "# Introduction  <a id='introduction'></a>\n",
    "\n",
    "Introduction Text!\n",
    "\n",
    "This notebook is greatly inspired by the famous Machine Learning course by [Andrew Ng](https://www.andrewng.org/). All the mistakes, if any, are made by me.\n",
    "\n",
    "Finally, thanks to [@Mohan S Acharya](https://www.kaggle.com/mohansacharya) for this dataset.\n",
    "\n",
    "\n",
    "# Table of Contents\n",
    "* [Introduction](#introduction)\n",
    "* [Helper functions](#functions)\n",
    "* [The Normal Equation](#normal)\n",
    "* [The Hypothesis](#hypothesis)\n",
    "* [The Cost Function](#cost)\n",
    "* [Loading Data](#getdata)\n",
    "* [Model Training](#training)\n",
    "* [Model Validation](#validation)\n",
    "* [Conclusion](#conclusion)\n",
    "* [References](#references)"
   ]
  },
  {
   "cell_type": "code",
   "execution_count": 1,
   "id": "83bf8efe",
   "metadata": {
    "_cell_guid": "b1076dfc-b9ad-4769-8c92-a6c4dae69d19",
    "_uuid": "8f2839f25d086af736a60e9eeb907d3b93b6e0e5",
    "execution": {
     "iopub.execute_input": "2023-03-19T21:30:18.504788Z",
     "iopub.status.busy": "2023-03-19T21:30:18.504371Z",
     "iopub.status.idle": "2023-03-19T21:30:19.412156Z",
     "shell.execute_reply": "2023-03-19T21:30:19.410832Z"
    },
    "papermill": {
     "duration": 0.917851,
     "end_time": "2023-03-19T21:30:19.415071",
     "exception": false,
     "start_time": "2023-03-19T21:30:18.497220",
     "status": "completed"
    },
    "tags": []
   },
   "outputs": [
    {
     "name": "stdout",
     "output_type": "stream",
     "text": [
      "/kaggle/input/graduate-admissions/Admission_Predict.csv\n",
      "/kaggle/input/graduate-admissions/Admission_Predict_Ver1.1.csv\n"
     ]
    }
   ],
   "source": [
    "# This Python 3 environment comes with many helpful analytics libraries installed\n",
    "# It is defined by the kaggle/python Docker image: https://github.com/kaggle/docker-python\n",
    "# For example, here's several helpful packages to load\n",
    "\n",
    "import numpy as np # linear algebra\n",
    "import pandas as pd # data processing, CSV file I/O (e.g. pd.read_csv)\n",
    "\n",
    "# Input data files are available in the read-only \"../input/\" directory\n",
    "# For example, running this (by clicking run or pressing Shift+Enter) will list all files under the input directory\n",
    "\n",
    "import os\n",
    "for dirname, _, filenames in os.walk('/kaggle/input'):\n",
    "    for filename in filenames:\n",
    "        print(os.path.join(dirname, filename))\n",
    "\n",
    "# You can write up to 20GB to the current directory (/kaggle/working/) that gets preserved as output when you create a version using \"Save & Run All\" \n",
    "# You can also write temporary files to /kaggle/temp/, but they won't be saved outside of the current session\n",
    "\n",
    "from sklearn.model_selection import train_test_split"
   ]
  },
  {
   "cell_type": "markdown",
   "id": "65400a28",
   "metadata": {
    "papermill": {
     "duration": 0.004896,
     "end_time": "2023-03-19T21:30:19.425466",
     "exception": false,
     "start_time": "2023-03-19T21:30:19.420570",
     "status": "completed"
    },
    "tags": []
   },
   "source": [
    "# Helper Functions   <a id='functions'></a>   "
   ]
  },
  {
   "cell_type": "markdown",
   "id": "2423f439",
   "metadata": {
    "papermill": {
     "duration": 0.004729,
     "end_time": "2023-03-19T21:30:19.435224",
     "exception": false,
     "start_time": "2023-03-19T21:30:19.430495",
     "status": "completed"
    },
    "tags": []
   },
   "source": [
    "<div class=\"alert alert-block alert-info\">\n",
    "<b>Tip:</b> We will use some helper functions throughout the notebook. Collecting them in one place is a good idea, making the code more organized. First, we will define and explain those functions and then use them in our code.\n",
    "</div>"
   ]
  },
  {
   "cell_type": "markdown",
   "id": "ff895854",
   "metadata": {
    "papermill": {
     "duration": 0.004736,
     "end_time": "2023-03-19T21:30:19.444938",
     "exception": false,
     "start_time": "2023-03-19T21:30:19.440202",
     "status": "completed"
    },
    "tags": []
   },
   "source": [
    "# The Normal Equation   <a id='normal'></a> "
   ]
  },
  {
   "cell_type": "markdown",
   "id": "24f3de99",
   "metadata": {
    "papermill": {
     "duration": 0.004809,
     "end_time": "2023-03-19T21:30:19.454696",
     "exception": false,
     "start_time": "2023-03-19T21:30:19.449887",
     "status": "completed"
    },
    "tags": []
   },
   "source": [
    "The Normal Equation Text!"
   ]
  },
  {
   "cell_type": "code",
   "execution_count": 2,
   "id": "1703c4cd",
   "metadata": {
    "execution": {
     "iopub.execute_input": "2023-03-19T21:30:19.466810Z",
     "iopub.status.busy": "2023-03-19T21:30:19.465933Z",
     "iopub.status.idle": "2023-03-19T21:30:19.472964Z",
     "shell.execute_reply": "2023-03-19T21:30:19.472108Z"
    },
    "papermill": {
     "duration": 0.0156,
     "end_time": "2023-03-19T21:30:19.475212",
     "exception": false,
     "start_time": "2023-03-19T21:30:19.459612",
     "status": "completed"
    },
    "tags": []
   },
   "outputs": [],
   "source": [
    "# The normal equation\n",
    "\n",
    "def calculate_theta(X,y):\n",
    "    \"\"\"\n",
    "     Calculates the theta vector using the normal equation.\n",
    "    \n",
    "    :param X: inputs (feature values) - data frame of floats\n",
    "    :param y: outputs (actual target values) - Numpy array of floats\n",
    "    \n",
    "    :return: new theta - Numpy array of floats\n",
    "    \n",
    "    \"\"\"\n",
    "    # Calculate transpose of X\n",
    "    X_transpose = X.transpose()\n",
    "    \n",
    "    # Calculate the dot product between X_transpose and X\n",
    "    temp_0 = np.dot(X_transpose, X)\n",
    "        \n",
    "    # Calculate the inverse of temp_0\n",
    "    temp_1 = np.linalg.inv(temp_0)\n",
    "\n",
    "    # Calculate the dot product between temp_1 and X_transpose\n",
    "    temp_2 = np.dot(temp_1, X_transpose)\n",
    "\n",
    "    # Calculate the dot product between temp_2 and y\n",
    "    theta = np.dot(temp_2, y) \n",
    "\n",
    "    return  theta.reshape(-1)"
   ]
  },
  {
   "cell_type": "markdown",
   "id": "55b9382d",
   "metadata": {
    "papermill": {
     "duration": 0.005187,
     "end_time": "2023-03-19T21:30:19.485535",
     "exception": false,
     "start_time": "2023-03-19T21:30:19.480348",
     "status": "completed"
    },
    "tags": []
   },
   "source": [
    "# The  Hypothesis   <a id='hypothesis'></a>   "
   ]
  },
  {
   "cell_type": "markdown",
   "id": "a73d5495",
   "metadata": {
    "execution": {
     "iopub.execute_input": "2023-03-19T20:08:10.723871Z",
     "iopub.status.busy": "2023-03-19T20:08:10.723267Z",
     "iopub.status.idle": "2023-03-19T20:08:10.730032Z",
     "shell.execute_reply": "2023-03-19T20:08:10.728533Z",
     "shell.execute_reply.started": "2023-03-19T20:08:10.723828Z"
    },
    "papermill": {
     "duration": 0.004694,
     "end_time": "2023-03-19T21:30:19.495284",
     "exception": false,
     "start_time": "2023-03-19T21:30:19.490590",
     "status": "completed"
    },
    "tags": []
   },
   "source": [
    "The Hypothesis Text!"
   ]
  },
  {
   "cell_type": "code",
   "execution_count": 3,
   "id": "c8bcc978",
   "metadata": {
    "execution": {
     "iopub.execute_input": "2023-03-19T21:30:19.507563Z",
     "iopub.status.busy": "2023-03-19T21:30:19.507161Z",
     "iopub.status.idle": "2023-03-19T21:30:19.512340Z",
     "shell.execute_reply": "2023-03-19T21:30:19.511208Z"
    },
    "papermill": {
     "duration": 0.014185,
     "end_time": "2023-03-19T21:30:19.514715",
     "exception": false,
     "start_time": "2023-03-19T21:30:19.500530",
     "status": "completed"
    },
    "tags": []
   },
   "outputs": [],
   "source": [
    "# The hypothesis\n",
    "def h(x, theta):\n",
    "    \"\"\"\n",
    "     Calculates the predicted values (or predicted targets) for a given set of input and theta vectors.\n",
    "    \n",
    "    :param x: inputs (feature values) - data frame of floats \n",
    "    :param theta: theta vector (weights) - Numpy array of floats\n",
    "    \n",
    "    :return: predicted targets - Numpy array of floats\n",
    "    \n",
    "    \"\"\"\n",
    "    # The hypothesis is a column vector of m x 1\n",
    "    return np.dot(x, theta)"
   ]
  },
  {
   "cell_type": "markdown",
   "id": "da24a2c7",
   "metadata": {
    "papermill": {
     "duration": 0.004776,
     "end_time": "2023-03-19T21:30:19.524494",
     "exception": false,
     "start_time": "2023-03-19T21:30:19.519718",
     "status": "completed"
    },
    "tags": []
   },
   "source": [
    "# The  Cost Function   <a id='cost'></a> "
   ]
  },
  {
   "cell_type": "markdown",
   "id": "cfa84171",
   "metadata": {
    "papermill": {
     "duration": 0.004742,
     "end_time": "2023-03-19T21:30:19.534124",
     "exception": false,
     "start_time": "2023-03-19T21:30:19.529382",
     "status": "completed"
    },
    "tags": []
   },
   "source": [
    "The cost Function Text!"
   ]
  },
  {
   "cell_type": "code",
   "execution_count": 4,
   "id": "c95e97c5",
   "metadata": {
    "execution": {
     "iopub.execute_input": "2023-03-19T21:30:19.545804Z",
     "iopub.status.busy": "2023-03-19T21:30:19.545381Z",
     "iopub.status.idle": "2023-03-19T21:30:19.552090Z",
     "shell.execute_reply": "2023-03-19T21:30:19.550885Z"
    },
    "papermill": {
     "duration": 0.0153,
     "end_time": "2023-03-19T21:30:19.554313",
     "exception": false,
     "start_time": "2023-03-19T21:30:19.539013",
     "status": "completed"
    },
    "tags": []
   },
   "outputs": [],
   "source": [
    "# The cost function\n",
    "\n",
    "def J(X,y,theta):\n",
    "    \"\"\"\n",
    "     Calculates the total error using squared error function.\n",
    "    \n",
    "    :param X: inputs (feature values) - data frame of floats\n",
    "    :param y: outputs (actual target values) - Numpy array of floats\n",
    "    :param theta: theta vector (weights) - Numpy array of floats\n",
    "    \n",
    "    :return: total error - float\n",
    "    \n",
    "    \"\"\"\n",
    "    # Calculate number of examples\n",
    "    m = len(X)\n",
    "    \n",
    "    # Calculate the constant\n",
    "    c = 1/(2 * m)\n",
    "       \n",
    "    # Calculate the array of errors\n",
    "    temp_0 = h(X, theta) - y.reshape(-1)\n",
    "\n",
    "    # Calculate the transpose of array of errors\n",
    "    temp_1 = temp_0.transpose()\n",
    "\n",
    "    # Calculate the dot product \n",
    "    temp_2 = np.dot(temp_1, temp_0) \n",
    "\n",
    "    return  c * temp_2"
   ]
  },
  {
   "cell_type": "markdown",
   "id": "da75acbd",
   "metadata": {
    "papermill": {
     "duration": 0.004781,
     "end_time": "2023-03-19T21:30:19.564158",
     "exception": false,
     "start_time": "2023-03-19T21:30:19.559377",
     "status": "completed"
    },
    "tags": []
   },
   "source": [
    "# Loading Data   <a id='getdata'></a> "
   ]
  },
  {
   "cell_type": "markdown",
   "id": "8816538f",
   "metadata": {
    "papermill": {
     "duration": 0.004909,
     "end_time": "2023-03-19T21:30:19.574996",
     "exception": false,
     "start_time": "2023-03-19T21:30:19.570087",
     "status": "completed"
    },
    "tags": []
   },
   "source": [
    "First of all, we will load the CSV file in this part. Since there are two different versions of the dataset, we will load the one with more data. We will then create our training DataFrame and target vector. Next, we will normalize some columns of the training DataFrame using min-max scaling. Finally, we will split our data into training and validation DataFrames so that we can validate the results."
   ]
  },
  {
   "cell_type": "code",
   "execution_count": 5,
   "id": "ab7912f6",
   "metadata": {
    "execution": {
     "iopub.execute_input": "2023-03-19T21:30:19.586606Z",
     "iopub.status.busy": "2023-03-19T21:30:19.586190Z",
     "iopub.status.idle": "2023-03-19T21:30:19.635220Z",
     "shell.execute_reply": "2023-03-19T21:30:19.633936Z"
    },
    "papermill": {
     "duration": 0.058192,
     "end_time": "2023-03-19T21:30:19.638141",
     "exception": false,
     "start_time": "2023-03-19T21:30:19.579949",
     "status": "completed"
    },
    "tags": []
   },
   "outputs": [
    {
     "data": {
      "text/html": [
       "<div>\n",
       "<style scoped>\n",
       "    .dataframe tbody tr th:only-of-type {\n",
       "        vertical-align: middle;\n",
       "    }\n",
       "\n",
       "    .dataframe tbody tr th {\n",
       "        vertical-align: top;\n",
       "    }\n",
       "\n",
       "    .dataframe thead th {\n",
       "        text-align: right;\n",
       "    }\n",
       "</style>\n",
       "<table border=\"1\" class=\"dataframe\">\n",
       "  <thead>\n",
       "    <tr style=\"text-align: right;\">\n",
       "      <th></th>\n",
       "      <th>GRE Score</th>\n",
       "      <th>TOEFL Score</th>\n",
       "      <th>University Rating</th>\n",
       "      <th>SOP</th>\n",
       "      <th>LOR</th>\n",
       "      <th>CGPA</th>\n",
       "      <th>Research</th>\n",
       "    </tr>\n",
       "  </thead>\n",
       "  <tbody>\n",
       "    <tr>\n",
       "      <th>107</th>\n",
       "      <td>338</td>\n",
       "      <td>117</td>\n",
       "      <td>4</td>\n",
       "      <td>3.5</td>\n",
       "      <td>4.5</td>\n",
       "      <td>9.46</td>\n",
       "      <td>1</td>\n",
       "    </tr>\n",
       "    <tr>\n",
       "      <th>336</th>\n",
       "      <td>319</td>\n",
       "      <td>110</td>\n",
       "      <td>3</td>\n",
       "      <td>3.0</td>\n",
       "      <td>2.5</td>\n",
       "      <td>8.79</td>\n",
       "      <td>0</td>\n",
       "    </tr>\n",
       "    <tr>\n",
       "      <th>71</th>\n",
       "      <td>336</td>\n",
       "      <td>112</td>\n",
       "      <td>5</td>\n",
       "      <td>5.0</td>\n",
       "      <td>5.0</td>\n",
       "      <td>9.76</td>\n",
       "      <td>1</td>\n",
       "    </tr>\n",
       "    <tr>\n",
       "      <th>474</th>\n",
       "      <td>308</td>\n",
       "      <td>105</td>\n",
       "      <td>4</td>\n",
       "      <td>3.0</td>\n",
       "      <td>2.5</td>\n",
       "      <td>7.95</td>\n",
       "      <td>1</td>\n",
       "    </tr>\n",
       "    <tr>\n",
       "      <th>6</th>\n",
       "      <td>321</td>\n",
       "      <td>109</td>\n",
       "      <td>3</td>\n",
       "      <td>3.0</td>\n",
       "      <td>4.0</td>\n",
       "      <td>8.20</td>\n",
       "      <td>1</td>\n",
       "    </tr>\n",
       "  </tbody>\n",
       "</table>\n",
       "</div>"
      ],
      "text/plain": [
       "     GRE Score  TOEFL Score  University Rating  SOP  LOR   CGPA  Research\n",
       "107        338          117                  4  3.5   4.5  9.46         1\n",
       "336        319          110                  3  3.0   2.5  8.79         0\n",
       "71         336          112                  5  5.0   5.0  9.76         1\n",
       "474        308          105                  4  3.0   2.5  7.95         1\n",
       "6          321          109                  3  3.0   4.0  8.20         1"
      ]
     },
     "execution_count": 5,
     "metadata": {},
     "output_type": "execute_result"
    }
   ],
   "source": [
    "# Get the data. Note that there are two versions. We will use the one\n",
    "# with the most rows.\n",
    "\n",
    "train_data = pd.read_csv(\"/kaggle/input/graduate-admissions/Admission_Predict_Ver1.1.csv\")\n",
    "\n",
    "# Set X and y\n",
    "X = train_data.drop(['Chance of Admit ', 'Serial No.'], axis=1) # Chance of Admit is the target variable and Serial No. is the order. So we drop them.\n",
    "y = pd.DataFrame(data = train_data['Chance of Admit ']).to_numpy()\n",
    "\n",
    "# Instead of finding probabilities, we want to calculate the percentages.\n",
    "y = y * 100\n",
    "\n",
    "# Break off validation set from training data\n",
    "X_train, X_valid, y_train, y_valid = train_test_split(X, y, train_size=0.8, test_size=0.2, random_state = 0)\n",
    "\n",
    "X_train.head()"
   ]
  },
  {
   "cell_type": "markdown",
   "id": "58140a4c",
   "metadata": {
    "papermill": {
     "duration": 0.005318,
     "end_time": "2023-03-19T21:30:19.649088",
     "exception": false,
     "start_time": "2023-03-19T21:30:19.643770",
     "status": "completed"
    },
    "tags": []
   },
   "source": [
    "# Model Training   <a id='training'></a> "
   ]
  },
  {
   "cell_type": "markdown",
   "id": "23dc1777",
   "metadata": {
    "papermill": {
     "duration": 0.005132,
     "end_time": "2023-03-19T21:30:19.659718",
     "exception": false,
     "start_time": "2023-03-19T21:30:19.654586",
     "status": "completed"
    },
    "tags": []
   },
   "source": [
    "Model Training Text!"
   ]
  },
  {
   "cell_type": "code",
   "execution_count": 6,
   "id": "9ede874c",
   "metadata": {
    "execution": {
     "iopub.execute_input": "2023-03-19T21:30:19.672807Z",
     "iopub.status.busy": "2023-03-19T21:30:19.672046Z",
     "iopub.status.idle": "2023-03-19T21:30:19.689030Z",
     "shell.execute_reply": "2023-03-19T21:30:19.687362Z"
    },
    "papermill": {
     "duration": 0.028645,
     "end_time": "2023-03-19T21:30:19.693723",
     "exception": false,
     "start_time": "2023-03-19T21:30:19.665078",
     "status": "completed"
    },
    "tags": []
   },
   "outputs": [
    {
     "name": "stdout",
     "output_type": "stream",
     "text": [
      "[-0.30622847  0.33000528  1.79903096  0.81915373  1.80119468 13.5125661\n",
      "  5.61217317]\n",
      "Cost_train: 23.023913187168564\n"
     ]
    }
   ],
   "source": [
    "# Find the theta vector using the normal equation\n",
    "theta_train = calculate_theta(X_train,y_train)\n",
    "print(theta_train)\n",
    "\n",
    "# Calculate and display the cost value on the training dataset\n",
    "cost_train = J(X_train, y_train, theta_train)\n",
    "print(\"Cost_train: {}\".format(cost_train))"
   ]
  },
  {
   "cell_type": "markdown",
   "id": "9b4a58cd",
   "metadata": {
    "papermill": {
     "duration": 0.01404,
     "end_time": "2023-03-19T21:30:19.722036",
     "exception": false,
     "start_time": "2023-03-19T21:30:19.707996",
     "status": "completed"
    },
    "tags": []
   },
   "source": [
    "# Model Validation   <a id='validation'></a> "
   ]
  },
  {
   "cell_type": "markdown",
   "id": "8ebab844",
   "metadata": {
    "papermill": {
     "duration": 0.013877,
     "end_time": "2023-03-19T21:30:19.749857",
     "exception": false,
     "start_time": "2023-03-19T21:30:19.735980",
     "status": "completed"
    },
    "tags": []
   },
   "source": [
    "Model Validation Text"
   ]
  },
  {
   "cell_type": "markdown",
   "id": "1b8a37c7",
   "metadata": {
    "papermill": {
     "duration": 0.013393,
     "end_time": "2023-03-19T21:30:19.777153",
     "exception": false,
     "start_time": "2023-03-19T21:30:19.763760",
     "status": "completed"
    },
    "tags": []
   },
   "source": [
    "# Conclusion   <a id='conclusion'></a> "
   ]
  },
  {
   "cell_type": "markdown",
   "id": "e32eeb54",
   "metadata": {
    "papermill": {
     "duration": 0.012896,
     "end_time": "2023-03-19T21:30:19.804140",
     "exception": false,
     "start_time": "2023-03-19T21:30:19.791244",
     "status": "completed"
    },
    "tags": []
   },
   "source": [
    "Conclusion Text!"
   ]
  },
  {
   "cell_type": "markdown",
   "id": "fb8f06ed",
   "metadata": {
    "papermill": {
     "duration": 0.005071,
     "end_time": "2023-03-19T21:30:19.814728",
     "exception": false,
     "start_time": "2023-03-19T21:30:19.809657",
     "status": "completed"
    },
    "tags": []
   },
   "source": [
    "# References   <a id='references'></a>\n",
    "* [Machine Learning Specialization - Deeplearning.AI](https://www.deeplearning.ai/program/machine-learning-specialization/)\n",
    "* [Andrew Ng](https://en.wikipedia.org/wiki/Andrew_Ng)\n",
    "* [@Mohan S Acharya](https://www.kaggle.com/mohansacharya)\n",
    "* [Multivariate Linear Regression From Scratch - Kaggle](https://www.kaggle.com/code/erkanhatipoglu/multivariate-linear-regression-from-scratch)\n",
    "* [Univariate Linear Regression From Scratch - Kaggle](https://www.kaggle.com/code/erkanhatipoglu/univariate-linear-regression-from-scratch)\n",
    "* [Univariate Linear Regression From Scratch - Towards AI](https://pub.towardsai.net/univariate-linear-regression-from-scratch-68065fe8eb09)\n",
    "* [Towards AI](https://pub.towardsai.net/)"
   ]
  }
 ],
 "metadata": {
  "kernelspec": {
   "display_name": "Python 3",
   "language": "python",
   "name": "python3"
  },
  "language_info": {
   "codemirror_mode": {
    "name": "ipython",
    "version": 3
   },
   "file_extension": ".py",
   "mimetype": "text/x-python",
   "name": "python",
   "nbconvert_exporter": "python",
   "pygments_lexer": "ipython3",
   "version": "3.7.12"
  },
  "papermill": {
   "default_parameters": {},
   "duration": 11.393378,
   "end_time": "2023-03-19T21:30:20.542295",
   "environment_variables": {},
   "exception": null,
   "input_path": "__notebook__.ipynb",
   "output_path": "__notebook__.ipynb",
   "parameters": {},
   "start_time": "2023-03-19T21:30:09.148917",
   "version": "2.4.0"
  }
 },
 "nbformat": 4,
 "nbformat_minor": 5
}
