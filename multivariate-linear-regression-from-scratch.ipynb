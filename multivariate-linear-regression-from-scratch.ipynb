{
 "cells": [
  {
   "cell_type": "markdown",
   "id": "a5f45fe2",
   "metadata": {
    "papermill": {
     "duration": 0.008063,
     "end_time": "2022-11-28T11:33:08.530524",
     "exception": false,
     "start_time": "2022-11-28T11:33:08.522461",
     "status": "completed"
    },
    "tags": []
   },
   "source": [
    "# Introduction  <a id='introduction'></a>\n",
    "\n",
    "This notebook contains Python code for a multivariate linear regression task. Multivariate linear regression means linear regression with more than one variable. In addition to Python, we will also use Pandas, Numpy, and Matplotlib libraries. \n",
    "\n",
    "This notebook is greatly inspired by the famous Machine Learning course by [Andrew Ng](https://www.andrewng.org/). As always, all the mistakes, if any, are made by me.\n",
    "\n",
    "Finally, thanks to [@Mohan S Acharya](https://www.kaggle.com/mohansacharya) for this dataset.\n",
    "\n",
    "\n",
    "# Table of Contents\n",
    "* [Introduction](#introduction)\n",
    "* [Helper functios](#functions)\n",
    "* [The Hypothesis](#hypothesis)\n",
    "* [The Cost Function](#cost)\n",
    "* [Gradient Descent](#gradient)\n",
    "* [Loading Data](#getdata)\n",
    "* [Model Training](#training)\n",
    "* [Model Validation](#validation)\n",
    "* [Conclusion](#conclusion)\n",
    "* [References](#references)"
   ]
  },
  {
   "cell_type": "code",
   "execution_count": 1,
   "id": "b09ecbde",
   "metadata": {
    "_cell_guid": "b1076dfc-b9ad-4769-8c92-a6c4dae69d19",
    "_uuid": "8f2839f25d086af736a60e9eeb907d3b93b6e0e5",
    "execution": {
     "iopub.execute_input": "2022-11-28T11:33:08.545343Z",
     "iopub.status.busy": "2022-11-28T11:33:08.544732Z",
     "iopub.status.idle": "2022-11-28T11:33:09.530855Z",
     "shell.execute_reply": "2022-11-28T11:33:09.529845Z"
    },
    "papermill": {
     "duration": 0.996929,
     "end_time": "2022-11-28T11:33:09.533756",
     "exception": false,
     "start_time": "2022-11-28T11:33:08.536827",
     "status": "completed"
    },
    "tags": []
   },
   "outputs": [
    {
     "name": "stdout",
     "output_type": "stream",
     "text": [
      "/kaggle/input/graduate-admissions/Admission_Predict.csv\n",
      "/kaggle/input/graduate-admissions/Admission_Predict_Ver1.1.csv\n"
     ]
    }
   ],
   "source": [
    "# This Python 3 environment comes with many helpful analytics libraries installed\n",
    "# It is defined by the kaggle/python Docker image: https://github.com/kaggle/docker-python\n",
    "# For example, here's several helpful packages to load\n",
    "\n",
    "import numpy as np # linear algebra\n",
    "import pandas as pd # data processing, CSV file I/O (e.g. pd.read_csv)\n",
    "\n",
    "# Input data files are available in the read-only \"../input/\" directory\n",
    "# For example, running this (by clicking run or pressing Shift+Enter) will list all files under the input directory\n",
    "\n",
    "import os\n",
    "for dirname, _, filenames in os.walk('/kaggle/input'):\n",
    "    for filename in filenames:\n",
    "        print(os.path.join(dirname, filename))\n",
    "\n",
    "# You can write up to 20GB to the current directory (/kaggle/working/) that gets preserved as output when you create a version using \"Save & Run All\" \n",
    "# You can also write temporary files to /kaggle/temp/, but they won't be saved outside of the current session\n",
    "\n",
    "from sklearn.model_selection import train_test_split"
   ]
  },
  {
   "cell_type": "markdown",
   "id": "5c2bc1a2",
   "metadata": {
    "papermill": {
     "duration": 0.006388,
     "end_time": "2022-11-28T11:33:09.548374",
     "exception": false,
     "start_time": "2022-11-28T11:33:09.541986",
     "status": "completed"
    },
    "tags": []
   },
   "source": [
    "# Helper Functions   <a id='functions'></a>   "
   ]
  },
  {
   "cell_type": "markdown",
   "id": "c52cbd78",
   "metadata": {
    "papermill": {
     "duration": 0.005675,
     "end_time": "2022-11-28T11:33:09.560100",
     "exception": false,
     "start_time": "2022-11-28T11:33:09.554425",
     "status": "completed"
    },
    "tags": []
   },
   "source": [
    "<div class=\"alert alert-block alert-info\">\n",
    "<b>Tip:</b> Tip: We will use some helper functions throughout the notebook. Collecting them in one place is a good idea, making the code more organized. First, we will define and explain those functions and then use them in our code.\n",
    "</div>"
   ]
  },
  {
   "cell_type": "markdown",
   "id": "b6605883",
   "metadata": {
    "papermill": {
     "duration": 0.005598,
     "end_time": "2022-11-28T11:33:09.571512",
     "exception": false,
     "start_time": "2022-11-28T11:33:09.565914",
     "status": "completed"
    },
    "tags": []
   },
   "source": [
    "# The  Hypothesis   <a id='hypothesis'></a>   "
   ]
  },
  {
   "cell_type": "markdown",
   "id": "443d15f0",
   "metadata": {
    "papermill": {
     "duration": 0.005575,
     "end_time": "2022-11-28T11:33:09.583091",
     "exception": false,
     "start_time": "2022-11-28T11:33:09.577516",
     "status": "completed"
    },
    "tags": []
   },
   "source": [
    "The Hypotehsis Content"
   ]
  },
  {
   "cell_type": "code",
   "execution_count": 2,
   "id": "f488c837",
   "metadata": {
    "execution": {
     "iopub.execute_input": "2022-11-28T11:33:09.596748Z",
     "iopub.status.busy": "2022-11-28T11:33:09.596317Z",
     "iopub.status.idle": "2022-11-28T11:33:09.601620Z",
     "shell.execute_reply": "2022-11-28T11:33:09.600830Z"
    },
    "papermill": {
     "duration": 0.014511,
     "end_time": "2022-11-28T11:33:09.603652",
     "exception": false,
     "start_time": "2022-11-28T11:33:09.589141",
     "status": "completed"
    },
    "tags": []
   },
   "outputs": [],
   "source": [
    "# The hypothesis\n",
    "def h(x, theta):\n",
    "    \"\"\"\n",
    "    calculates the predicted values (or predicted targets) for a given set of input and theta vectors.\n",
    "    :param x: inputs (feature values) - data frame of floats \n",
    "    :param theta: theta vector (weights) - Numpy array of floats\n",
    "    :return: predicted targets - Numpy array of floats\n",
    "    \n",
    "    \"\"\"\n",
    "    return np.dot(x, theta)"
   ]
  },
  {
   "cell_type": "markdown",
   "id": "4c4bee10",
   "metadata": {
    "papermill": {
     "duration": 0.007297,
     "end_time": "2022-11-28T11:33:09.616900",
     "exception": false,
     "start_time": "2022-11-28T11:33:09.609603",
     "status": "completed"
    },
    "tags": []
   },
   "source": [
    "# The  Cost Function   <a id='cost'></a> "
   ]
  },
  {
   "cell_type": "markdown",
   "id": "92e38670",
   "metadata": {
    "papermill": {
     "duration": 0.005745,
     "end_time": "2022-11-28T11:33:09.628808",
     "exception": false,
     "start_time": "2022-11-28T11:33:09.623063",
     "status": "completed"
    },
    "tags": []
   },
   "source": [
    "The Cost function Content"
   ]
  },
  {
   "cell_type": "code",
   "execution_count": 3,
   "id": "8a214769",
   "metadata": {
    "execution": {
     "iopub.execute_input": "2022-11-28T11:33:09.642999Z",
     "iopub.status.busy": "2022-11-28T11:33:09.642384Z",
     "iopub.status.idle": "2022-11-28T11:33:09.647995Z",
     "shell.execute_reply": "2022-11-28T11:33:09.647242Z"
    },
    "papermill": {
     "duration": 0.015261,
     "end_time": "2022-11-28T11:33:09.650159",
     "exception": false,
     "start_time": "2022-11-28T11:33:09.634898",
     "status": "completed"
    },
    "tags": []
   },
   "outputs": [],
   "source": [
    "# The cost function Code\n",
    "\n",
    "def J(X,y,theta):\n",
    "    \"\"\"\n",
    "     Cost function.\n",
    "     Calculates the total error.\n",
    "    :param X: inputs (feature values) - data frame of floats\n",
    "    :param y: outputs (actual target values) - Numpy array of floats\n",
    "    :param theta: theta vector (weights) - Numpy array of floats\n",
    "    :return: total error - float\n",
    "    \n",
    "    \"\"\"\n",
    "    # Calculate number of examples\n",
    "    m = len(X)\n",
    "    \n",
    "    # Calculate the constant\n",
    "    c = 1/(2 * m)\n",
    "       \n",
    "    # Calculate the array of errors\n",
    "    temp_0 = h(X, theta) - y.reshape(-1)\n",
    "\n",
    "    # Calculate the transpose of array of errors\n",
    "    temp_1 = temp_0.transpose()\n",
    "\n",
    "    # Calculate the dot product \n",
    "    temp_2 = np.dot(temp_1, temp_0) \n",
    "\n",
    "    return  c * temp_2"
   ]
  },
  {
   "cell_type": "markdown",
   "id": "04c55a0e",
   "metadata": {
    "papermill": {
     "duration": 0.005659,
     "end_time": "2022-11-28T11:33:09.661756",
     "exception": false,
     "start_time": "2022-11-28T11:33:09.656097",
     "status": "completed"
    },
    "tags": []
   },
   "source": [
    "# Gradient Descent   <a id='gradient'></a> "
   ]
  },
  {
   "cell_type": "markdown",
   "id": "28340313",
   "metadata": {
    "papermill": {
     "duration": 0.005531,
     "end_time": "2022-11-28T11:33:09.673264",
     "exception": false,
     "start_time": "2022-11-28T11:33:09.667733",
     "status": "completed"
    },
    "tags": []
   },
   "source": [
    "The gradient Descent content"
   ]
  },
  {
   "cell_type": "code",
   "execution_count": 4,
   "id": "3f874ee0",
   "metadata": {
    "execution": {
     "iopub.execute_input": "2022-11-28T11:33:09.687253Z",
     "iopub.status.busy": "2022-11-28T11:33:09.686683Z",
     "iopub.status.idle": "2022-11-28T11:33:09.690432Z",
     "shell.execute_reply": "2022-11-28T11:33:09.689692Z"
    },
    "papermill": {
     "duration": 0.013578,
     "end_time": "2022-11-28T11:33:09.692717",
     "exception": false,
     "start_time": "2022-11-28T11:33:09.679139",
     "status": "completed"
    },
    "tags": []
   },
   "outputs": [],
   "source": [
    "# the gradient descent code"
   ]
  },
  {
   "cell_type": "markdown",
   "id": "68d7827b",
   "metadata": {
    "papermill": {
     "duration": 0.00585,
     "end_time": "2022-11-28T11:33:09.704882",
     "exception": false,
     "start_time": "2022-11-28T11:33:09.699032",
     "status": "completed"
    },
    "tags": []
   },
   "source": [
    "# Loading Data   <a id='getdata'></a> "
   ]
  },
  {
   "cell_type": "code",
   "execution_count": 5,
   "id": "6d21d345",
   "metadata": {
    "execution": {
     "iopub.execute_input": "2022-11-28T11:33:09.719003Z",
     "iopub.status.busy": "2022-11-28T11:33:09.718551Z",
     "iopub.status.idle": "2022-11-28T11:33:09.763510Z",
     "shell.execute_reply": "2022-11-28T11:33:09.762341Z"
    },
    "papermill": {
     "duration": 0.055026,
     "end_time": "2022-11-28T11:33:09.765902",
     "exception": false,
     "start_time": "2022-11-28T11:33:09.710876",
     "status": "completed"
    },
    "tags": []
   },
   "outputs": [
    {
     "data": {
      "text/html": [
       "<div>\n",
       "<style scoped>\n",
       "    .dataframe tbody tr th:only-of-type {\n",
       "        vertical-align: middle;\n",
       "    }\n",
       "\n",
       "    .dataframe tbody tr th {\n",
       "        vertical-align: top;\n",
       "    }\n",
       "\n",
       "    .dataframe thead th {\n",
       "        text-align: right;\n",
       "    }\n",
       "</style>\n",
       "<table border=\"1\" class=\"dataframe\">\n",
       "  <thead>\n",
       "    <tr style=\"text-align: right;\">\n",
       "      <th></th>\n",
       "      <th>GRE Score</th>\n",
       "      <th>TOEFL Score</th>\n",
       "      <th>University Rating</th>\n",
       "      <th>SOP</th>\n",
       "      <th>LOR</th>\n",
       "      <th>CGPA</th>\n",
       "      <th>Research</th>\n",
       "    </tr>\n",
       "  </thead>\n",
       "  <tbody>\n",
       "    <tr>\n",
       "      <th>249</th>\n",
       "      <td>321</td>\n",
       "      <td>111</td>\n",
       "      <td>3</td>\n",
       "      <td>3.5</td>\n",
       "      <td>4.0</td>\n",
       "      <td>8.83</td>\n",
       "      <td>1</td>\n",
       "    </tr>\n",
       "    <tr>\n",
       "      <th>433</th>\n",
       "      <td>316</td>\n",
       "      <td>111</td>\n",
       "      <td>4</td>\n",
       "      <td>4.0</td>\n",
       "      <td>5.0</td>\n",
       "      <td>8.54</td>\n",
       "      <td>0</td>\n",
       "    </tr>\n",
       "    <tr>\n",
       "      <th>19</th>\n",
       "      <td>303</td>\n",
       "      <td>102</td>\n",
       "      <td>3</td>\n",
       "      <td>3.5</td>\n",
       "      <td>3.0</td>\n",
       "      <td>8.50</td>\n",
       "      <td>0</td>\n",
       "    </tr>\n",
       "    <tr>\n",
       "      <th>322</th>\n",
       "      <td>314</td>\n",
       "      <td>107</td>\n",
       "      <td>2</td>\n",
       "      <td>2.5</td>\n",
       "      <td>4.0</td>\n",
       "      <td>8.27</td>\n",
       "      <td>0</td>\n",
       "    </tr>\n",
       "    <tr>\n",
       "      <th>332</th>\n",
       "      <td>308</td>\n",
       "      <td>106</td>\n",
       "      <td>3</td>\n",
       "      <td>3.5</td>\n",
       "      <td>2.5</td>\n",
       "      <td>8.21</td>\n",
       "      <td>1</td>\n",
       "    </tr>\n",
       "  </tbody>\n",
       "</table>\n",
       "</div>"
      ],
      "text/plain": [
       "     GRE Score  TOEFL Score  University Rating  SOP  LOR   CGPA  Research\n",
       "249        321          111                  3  3.5   4.0  8.83         1\n",
       "433        316          111                  4  4.0   5.0  8.54         0\n",
       "19         303          102                  3  3.5   3.0  8.50         0\n",
       "322        314          107                  2  2.5   4.0  8.27         0\n",
       "332        308          106                  3  3.5   2.5  8.21         1"
      ]
     },
     "execution_count": 5,
     "metadata": {},
     "output_type": "execute_result"
    }
   ],
   "source": [
    "# Get the data. Note that there are two versions. We will use the one\n",
    "# with the most rows.\n",
    "\n",
    "train_data = pd.read_csv(\"/kaggle/input/graduate-admissions/Admission_Predict_Ver1.1.csv\")\n",
    "\n",
    "# Set y and X\n",
    "\n",
    "y = pd.DataFrame(data = train_data['Chance of Admit ']).to_numpy()\n",
    "X = train_data.drop(['Chance of Admit ', 'Serial No.'], axis=1) # Chance of Admit is the target variable and Serial No. is the order. So we drop them.\n",
    "\n",
    "# Break off validation set from training data\n",
    "X_train, X_valid, y_train, y_valid = train_test_split(X, y, train_size=0.8, test_size=0.2,\n",
    "                                                                random_state=42)\n",
    "\n",
    "X_train.head()"
   ]
  },
  {
   "cell_type": "code",
   "execution_count": 6,
   "id": "494f4891",
   "metadata": {
    "execution": {
     "iopub.execute_input": "2022-11-28T11:33:09.780378Z",
     "iopub.status.busy": "2022-11-28T11:33:09.779979Z",
     "iopub.status.idle": "2022-11-28T11:33:09.794183Z",
     "shell.execute_reply": "2022-11-28T11:33:09.793356Z"
    },
    "papermill": {
     "duration": 0.023916,
     "end_time": "2022-11-28T11:33:09.796381",
     "exception": false,
     "start_time": "2022-11-28T11:33:09.772465",
     "status": "completed"
    },
    "tags": []
   },
   "outputs": [
    {
     "data": {
      "text/html": [
       "<div>\n",
       "<style scoped>\n",
       "    .dataframe tbody tr th:only-of-type {\n",
       "        vertical-align: middle;\n",
       "    }\n",
       "\n",
       "    .dataframe tbody tr th {\n",
       "        vertical-align: top;\n",
       "    }\n",
       "\n",
       "    .dataframe thead th {\n",
       "        text-align: right;\n",
       "    }\n",
       "</style>\n",
       "<table border=\"1\" class=\"dataframe\">\n",
       "  <thead>\n",
       "    <tr style=\"text-align: right;\">\n",
       "      <th></th>\n",
       "      <th>GRE Score</th>\n",
       "      <th>TOEFL Score</th>\n",
       "      <th>University Rating</th>\n",
       "      <th>SOP</th>\n",
       "      <th>LOR</th>\n",
       "      <th>CGPA</th>\n",
       "      <th>Research</th>\n",
       "    </tr>\n",
       "  </thead>\n",
       "  <tbody>\n",
       "    <tr>\n",
       "      <th>249</th>\n",
       "      <td>321</td>\n",
       "      <td>111</td>\n",
       "      <td>3</td>\n",
       "      <td>3.5</td>\n",
       "      <td>4.0</td>\n",
       "      <td>8.83</td>\n",
       "      <td>1</td>\n",
       "    </tr>\n",
       "    <tr>\n",
       "      <th>433</th>\n",
       "      <td>316</td>\n",
       "      <td>111</td>\n",
       "      <td>4</td>\n",
       "      <td>4.0</td>\n",
       "      <td>5.0</td>\n",
       "      <td>8.54</td>\n",
       "      <td>0</td>\n",
       "    </tr>\n",
       "    <tr>\n",
       "      <th>19</th>\n",
       "      <td>303</td>\n",
       "      <td>102</td>\n",
       "      <td>3</td>\n",
       "      <td>3.5</td>\n",
       "      <td>3.0</td>\n",
       "      <td>8.50</td>\n",
       "      <td>0</td>\n",
       "    </tr>\n",
       "    <tr>\n",
       "      <th>322</th>\n",
       "      <td>314</td>\n",
       "      <td>107</td>\n",
       "      <td>2</td>\n",
       "      <td>2.5</td>\n",
       "      <td>4.0</td>\n",
       "      <td>8.27</td>\n",
       "      <td>0</td>\n",
       "    </tr>\n",
       "    <tr>\n",
       "      <th>332</th>\n",
       "      <td>308</td>\n",
       "      <td>106</td>\n",
       "      <td>3</td>\n",
       "      <td>3.5</td>\n",
       "      <td>2.5</td>\n",
       "      <td>8.21</td>\n",
       "      <td>1</td>\n",
       "    </tr>\n",
       "  </tbody>\n",
       "</table>\n",
       "</div>"
      ],
      "text/plain": [
       "     GRE Score  TOEFL Score  University Rating  SOP  LOR   CGPA  Research\n",
       "249        321          111                  3  3.5   4.0  8.83         1\n",
       "433        316          111                  4  4.0   5.0  8.54         0\n",
       "19         303          102                  3  3.5   3.0  8.50         0\n",
       "322        314          107                  2  2.5   4.0  8.27         0\n",
       "332        308          106                  3  3.5   2.5  8.21         1"
      ]
     },
     "execution_count": 6,
     "metadata": {},
     "output_type": "execute_result"
    }
   ],
   "source": [
    "X_train.head()"
   ]
  },
  {
   "cell_type": "code",
   "execution_count": 7,
   "id": "f6ca135b",
   "metadata": {
    "execution": {
     "iopub.execute_input": "2022-11-28T11:33:09.811552Z",
     "iopub.status.busy": "2022-11-28T11:33:09.810594Z",
     "iopub.status.idle": "2022-11-28T11:33:09.816701Z",
     "shell.execute_reply": "2022-11-28T11:33:09.815852Z"
    },
    "papermill": {
     "duration": 0.016143,
     "end_time": "2022-11-28T11:33:09.819065",
     "exception": false,
     "start_time": "2022-11-28T11:33:09.802922",
     "status": "completed"
    },
    "tags": []
   },
   "outputs": [],
   "source": [
    "# Make an list of ones\n",
    "ones = [1] * len(X_train)\n",
    "\n",
    "# Insert ones to the fist column since\n",
    "# X_0 for all training examples should\n",
    "# be one\n",
    "X_train.insert(0, \"X_0\", ones, True)\n",
    "\n",
    "# Select zero vector for initial theta\n",
    "theta = [0] * len(X_train.axes[1])\n"
   ]
  },
  {
   "cell_type": "code",
   "execution_count": 8,
   "id": "fb2acabb",
   "metadata": {
    "execution": {
     "iopub.execute_input": "2022-11-28T11:33:09.834508Z",
     "iopub.status.busy": "2022-11-28T11:33:09.833298Z",
     "iopub.status.idle": "2022-11-28T11:33:09.841054Z",
     "shell.execute_reply": "2022-11-28T11:33:09.840061Z"
    },
    "papermill": {
     "duration": 0.017649,
     "end_time": "2022-11-28T11:33:09.843170",
     "exception": false,
     "start_time": "2022-11-28T11:33:09.825521",
     "status": "completed"
    },
    "tags": []
   },
   "outputs": [
    {
     "data": {
      "text/plain": [
       "0.272069125"
      ]
     },
     "execution_count": 8,
     "metadata": {},
     "output_type": "execute_result"
    }
   ],
   "source": [
    "# Calculate the cost value\n",
    "cost_value = J(X_train, y_train, theta) \n",
    "cost_value"
   ]
  },
  {
   "cell_type": "markdown",
   "id": "7beaac29",
   "metadata": {
    "papermill": {
     "duration": 0.006083,
     "end_time": "2022-11-28T11:33:09.855862",
     "exception": false,
     "start_time": "2022-11-28T11:33:09.849779",
     "status": "completed"
    },
    "tags": []
   },
   "source": [
    "# Model Training   <a id='training'></a> "
   ]
  },
  {
   "cell_type": "markdown",
   "id": "0c46e138",
   "metadata": {
    "papermill": {
     "duration": 0.006118,
     "end_time": "2022-11-28T11:33:09.868400",
     "exception": false,
     "start_time": "2022-11-28T11:33:09.862282",
     "status": "completed"
    },
    "tags": []
   },
   "source": [
    "Model training content"
   ]
  },
  {
   "cell_type": "code",
   "execution_count": 9,
   "id": "ec56f80b",
   "metadata": {
    "execution": {
     "iopub.execute_input": "2022-11-28T11:33:09.883101Z",
     "iopub.status.busy": "2022-11-28T11:33:09.882691Z",
     "iopub.status.idle": "2022-11-28T11:33:09.887932Z",
     "shell.execute_reply": "2022-11-28T11:33:09.886784Z"
    },
    "papermill": {
     "duration": 0.015157,
     "end_time": "2022-11-28T11:33:09.890169",
     "exception": false,
     "start_time": "2022-11-28T11:33:09.875012",
     "status": "completed"
    },
    "tags": []
   },
   "outputs": [],
   "source": [
    "# Model training code"
   ]
  },
  {
   "cell_type": "markdown",
   "id": "d921b839",
   "metadata": {
    "papermill": {
     "duration": 0.006104,
     "end_time": "2022-11-28T11:33:09.902952",
     "exception": false,
     "start_time": "2022-11-28T11:33:09.896848",
     "status": "completed"
    },
    "tags": []
   },
   "source": [
    "# Model Validation   <a id='validation'></a> "
   ]
  },
  {
   "cell_type": "markdown",
   "id": "ea15a745",
   "metadata": {
    "papermill": {
     "duration": 0.005981,
     "end_time": "2022-11-28T11:33:09.915136",
     "exception": false,
     "start_time": "2022-11-28T11:33:09.909155",
     "status": "completed"
    },
    "tags": []
   },
   "source": []
  },
  {
   "cell_type": "markdown",
   "id": "1d383417",
   "metadata": {
    "papermill": {
     "duration": 0.006138,
     "end_time": "2022-11-28T11:33:09.927521",
     "exception": false,
     "start_time": "2022-11-28T11:33:09.921383",
     "status": "completed"
    },
    "tags": []
   },
   "source": [
    "model validation content"
   ]
  },
  {
   "cell_type": "code",
   "execution_count": 10,
   "id": "62039a22",
   "metadata": {
    "execution": {
     "iopub.execute_input": "2022-11-28T11:33:09.942204Z",
     "iopub.status.busy": "2022-11-28T11:33:09.941818Z",
     "iopub.status.idle": "2022-11-28T11:33:09.946183Z",
     "shell.execute_reply": "2022-11-28T11:33:09.945025Z"
    },
    "papermill": {
     "duration": 0.014296,
     "end_time": "2022-11-28T11:33:09.948279",
     "exception": false,
     "start_time": "2022-11-28T11:33:09.933983",
     "status": "completed"
    },
    "tags": []
   },
   "outputs": [],
   "source": [
    "# Model validation code"
   ]
  },
  {
   "cell_type": "markdown",
   "id": "256d8e9a",
   "metadata": {
    "papermill": {
     "duration": 0.006219,
     "end_time": "2022-11-28T11:33:09.961079",
     "exception": false,
     "start_time": "2022-11-28T11:33:09.954860",
     "status": "completed"
    },
    "tags": []
   },
   "source": [
    "# Conclusion   <a id='conclusion'></a> "
   ]
  },
  {
   "cell_type": "markdown",
   "id": "1d66a37a",
   "metadata": {
    "papermill": {
     "duration": 0.006111,
     "end_time": "2022-11-28T11:33:09.973586",
     "exception": false,
     "start_time": "2022-11-28T11:33:09.967475",
     "status": "completed"
    },
    "tags": []
   },
   "source": [
    "Conclusion content"
   ]
  },
  {
   "cell_type": "markdown",
   "id": "4d35740c",
   "metadata": {
    "papermill": {
     "duration": 0.00619,
     "end_time": "2022-11-28T11:33:09.986139",
     "exception": false,
     "start_time": "2022-11-28T11:33:09.979949",
     "status": "completed"
    },
    "tags": []
   },
   "source": [
    "# References   <a id='references'></a>\n",
    "* [Machine Learning Specialization - Deeplearning.AI](https://www.deeplearning.ai/program/machine-learning-specialization/)\n",
    "* [Andrew Ng](https://en.wikipedia.org/wiki/Andrew_Ng)\n",
    "* [@Mohan S Acharya](https://www.kaggle.com/mohansacharya)\n",
    "* [10-simple-hacks-to-speed-up-your-data-analysis - Parul Pandey](https://www.kaggle.com/parulpandey/10-simple-hacks-to-speed-up-your-data-analysis)\n",
    "* [Univariate Linear Regression From Scratch - Kaggle](https://www.kaggle.com/code/erkanhatipoglu/univariate-linear-regression-from-scratch)\n",
    "* [Univariate Linear Regression From Scratch - Towards AI](https://pub.towardsai.net/univariate-linear-regression-from-scratch-68065fe8eb09)"
   ]
  }
 ],
 "metadata": {
  "kernelspec": {
   "display_name": "Python 3",
   "language": "python",
   "name": "python3"
  },
  "language_info": {
   "codemirror_mode": {
    "name": "ipython",
    "version": 3
   },
   "file_extension": ".py",
   "mimetype": "text/x-python",
   "name": "python",
   "nbconvert_exporter": "python",
   "pygments_lexer": "ipython3",
   "version": "3.7.12"
  },
  "papermill": {
   "default_parameters": {},
   "duration": 10.702459,
   "end_time": "2022-11-28T11:33:10.714702",
   "environment_variables": {},
   "exception": null,
   "input_path": "__notebook__.ipynb",
   "output_path": "__notebook__.ipynb",
   "parameters": {},
   "start_time": "2022-11-28T11:33:00.012243",
   "version": "2.3.4"
  }
 },
 "nbformat": 4,
 "nbformat_minor": 5
}
