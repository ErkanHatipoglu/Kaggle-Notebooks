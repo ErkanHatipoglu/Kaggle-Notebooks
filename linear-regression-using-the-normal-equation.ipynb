{
 "cells": [
  {
   "cell_type": "markdown",
   "id": "75be2e8d",
   "metadata": {
    "papermill": {
     "duration": 0.004034,
     "end_time": "2023-03-19T20:46:48.919970",
     "exception": false,
     "start_time": "2023-03-19T20:46:48.915936",
     "status": "completed"
    },
    "tags": []
   },
   "source": [
    "# Introduction  <a id='introduction'></a>\n",
    "\n",
    "Introduction Text!\n",
    "\n",
    "This notebook is greatly inspired by the famous Machine Learning course by [Andrew Ng](https://www.andrewng.org/). All the mistakes, if any, are made by me.\n",
    "\n",
    "Finally, thanks to [@Mohan S Acharya](https://www.kaggle.com/mohansacharya) for this dataset.\n",
    "\n",
    "\n",
    "# Table of Contents\n",
    "* [Introduction](#introduction)\n",
    "* [Helper functions](#functions)\n",
    "* [The Hypothesis](#hypothesis)\n",
    "* [The Cost Function](#cost)\n",
    "* [The Normal Equation](#normal)\n",
    "* [Loading Data](#getdata)\n",
    "* [Model Training](#training)\n",
    "* [Model Validation](#validation)\n",
    "* [Conclusion](#conclusion)\n",
    "* [References](#references)"
   ]
  },
  {
   "cell_type": "code",
   "execution_count": 1,
   "id": "f193f0fa",
   "metadata": {
    "_cell_guid": "b1076dfc-b9ad-4769-8c92-a6c4dae69d19",
    "_uuid": "8f2839f25d086af736a60e9eeb907d3b93b6e0e5",
    "execution": {
     "iopub.execute_input": "2023-03-19T20:46:48.929341Z",
     "iopub.status.busy": "2023-03-19T20:46:48.928594Z",
     "iopub.status.idle": "2023-03-19T20:46:49.062909Z",
     "shell.execute_reply": "2023-03-19T20:46:49.061383Z"
    },
    "papermill": {
     "duration": 0.142235,
     "end_time": "2023-03-19T20:46:49.065571",
     "exception": false,
     "start_time": "2023-03-19T20:46:48.923336",
     "status": "completed"
    },
    "tags": []
   },
   "outputs": [
    {
     "name": "stdout",
     "output_type": "stream",
     "text": [
      "/kaggle/input/graduate-admissions/Admission_Predict.csv\n",
      "/kaggle/input/graduate-admissions/Admission_Predict_Ver1.1.csv\n"
     ]
    }
   ],
   "source": [
    "# This Python 3 environment comes with many helpful analytics libraries installed\n",
    "# It is defined by the kaggle/python Docker image: https://github.com/kaggle/docker-python\n",
    "# For example, here's several helpful packages to load\n",
    "\n",
    "import numpy as np # linear algebra\n",
    "import pandas as pd # data processing, CSV file I/O (e.g. pd.read_csv)\n",
    "\n",
    "# Input data files are available in the read-only \"../input/\" directory\n",
    "# For example, running this (by clicking run or pressing Shift+Enter) will list all files under the input directory\n",
    "\n",
    "import os\n",
    "for dirname, _, filenames in os.walk('/kaggle/input'):\n",
    "    for filename in filenames:\n",
    "        print(os.path.join(dirname, filename))\n",
    "\n",
    "# You can write up to 20GB to the current directory (/kaggle/working/) that gets preserved as output when you create a version using \"Save & Run All\" \n",
    "# You can also write temporary files to /kaggle/temp/, but they won't be saved outside of the current session"
   ]
  },
  {
   "cell_type": "markdown",
   "id": "f5a1ba8a",
   "metadata": {
    "papermill": {
     "duration": 0.003293,
     "end_time": "2023-03-19T20:46:49.072652",
     "exception": false,
     "start_time": "2023-03-19T20:46:49.069359",
     "status": "completed"
    },
    "tags": []
   },
   "source": [
    "# Helper Functions   <a id='functions'></a>   "
   ]
  },
  {
   "cell_type": "markdown",
   "id": "f9a738d6",
   "metadata": {
    "papermill": {
     "duration": 0.003082,
     "end_time": "2023-03-19T20:46:49.079035",
     "exception": false,
     "start_time": "2023-03-19T20:46:49.075953",
     "status": "completed"
    },
    "tags": []
   },
   "source": [
    "<div class=\"alert alert-block alert-info\">\n",
    "<b>Tip:</b> We will use some helper functions throughout the notebook. Collecting them in one place is a good idea, making the code more organized. First, we will define and explain those functions and then use them in our code.\n",
    "</div>"
   ]
  },
  {
   "cell_type": "markdown",
   "id": "981bf4d9",
   "metadata": {
    "papermill": {
     "duration": 0.003123,
     "end_time": "2023-03-19T20:46:49.085421",
     "exception": false,
     "start_time": "2023-03-19T20:46:49.082298",
     "status": "completed"
    },
    "tags": []
   },
   "source": [
    "# The  Hypothesis   <a id='hypothesis'></a>   "
   ]
  },
  {
   "cell_type": "markdown",
   "id": "5dbe9002",
   "metadata": {
    "execution": {
     "iopub.execute_input": "2023-03-19T20:08:10.723871Z",
     "iopub.status.busy": "2023-03-19T20:08:10.723267Z",
     "iopub.status.idle": "2023-03-19T20:08:10.730032Z",
     "shell.execute_reply": "2023-03-19T20:08:10.728533Z",
     "shell.execute_reply.started": "2023-03-19T20:08:10.723828Z"
    },
    "papermill": {
     "duration": 0.003206,
     "end_time": "2023-03-19T20:46:49.092062",
     "exception": false,
     "start_time": "2023-03-19T20:46:49.088856",
     "status": "completed"
    },
    "tags": []
   },
   "source": [
    "The Hypothesis Text!"
   ]
  },
  {
   "cell_type": "markdown",
   "id": "426a6e7b",
   "metadata": {
    "papermill": {
     "duration": 0.003265,
     "end_time": "2023-03-19T20:46:49.098884",
     "exception": false,
     "start_time": "2023-03-19T20:46:49.095619",
     "status": "completed"
    },
    "tags": []
   },
   "source": [
    "# The  Cost Function   <a id='cost'></a> "
   ]
  },
  {
   "cell_type": "markdown",
   "id": "c81daa6c",
   "metadata": {
    "papermill": {
     "duration": 0.003156,
     "end_time": "2023-03-19T20:46:49.105575",
     "exception": false,
     "start_time": "2023-03-19T20:46:49.102419",
     "status": "completed"
    },
    "tags": []
   },
   "source": [
    "The cost Function Text!"
   ]
  },
  {
   "cell_type": "markdown",
   "id": "040bc609",
   "metadata": {
    "papermill": {
     "duration": 0.003168,
     "end_time": "2023-03-19T20:46:49.112226",
     "exception": false,
     "start_time": "2023-03-19T20:46:49.109058",
     "status": "completed"
    },
    "tags": []
   },
   "source": [
    "# The Normal Equation   <a id='normal'></a> "
   ]
  },
  {
   "cell_type": "markdown",
   "id": "9d242239",
   "metadata": {
    "papermill": {
     "duration": 0.003397,
     "end_time": "2023-03-19T20:46:49.119009",
     "exception": false,
     "start_time": "2023-03-19T20:46:49.115612",
     "status": "completed"
    },
    "tags": []
   },
   "source": [
    "The Normal Equation Text!"
   ]
  },
  {
   "cell_type": "markdown",
   "id": "1419c12c",
   "metadata": {
    "papermill": {
     "duration": 0.003048,
     "end_time": "2023-03-19T20:46:49.125423",
     "exception": false,
     "start_time": "2023-03-19T20:46:49.122375",
     "status": "completed"
    },
    "tags": []
   },
   "source": [
    "# Loading Data   <a id='getdata'></a> "
   ]
  },
  {
   "cell_type": "markdown",
   "id": "452ffc30",
   "metadata": {
    "papermill": {
     "duration": 0.003045,
     "end_time": "2023-03-19T20:46:49.131768",
     "exception": false,
     "start_time": "2023-03-19T20:46:49.128723",
     "status": "completed"
    },
    "tags": []
   },
   "source": [
    "Loading Data Text!"
   ]
  },
  {
   "cell_type": "markdown",
   "id": "396a7370",
   "metadata": {
    "papermill": {
     "duration": 0.002948,
     "end_time": "2023-03-19T20:46:49.138053",
     "exception": false,
     "start_time": "2023-03-19T20:46:49.135105",
     "status": "completed"
    },
    "tags": []
   },
   "source": [
    "# Model Training   <a id='training'></a> "
   ]
  },
  {
   "cell_type": "markdown",
   "id": "24c8a50b",
   "metadata": {
    "papermill": {
     "duration": 0.002968,
     "end_time": "2023-03-19T20:46:49.144139",
     "exception": false,
     "start_time": "2023-03-19T20:46:49.141171",
     "status": "completed"
    },
    "tags": []
   },
   "source": [
    "Model Training Text!"
   ]
  },
  {
   "cell_type": "markdown",
   "id": "9943cc68",
   "metadata": {
    "papermill": {
     "duration": 0.003154,
     "end_time": "2023-03-19T20:46:49.150598",
     "exception": false,
     "start_time": "2023-03-19T20:46:49.147444",
     "status": "completed"
    },
    "tags": []
   },
   "source": [
    "# Model Validation   <a id='validation'></a> "
   ]
  },
  {
   "cell_type": "markdown",
   "id": "8aa03a96",
   "metadata": {
    "papermill": {
     "duration": 0.003369,
     "end_time": "2023-03-19T20:46:49.157557",
     "exception": false,
     "start_time": "2023-03-19T20:46:49.154188",
     "status": "completed"
    },
    "tags": []
   },
   "source": [
    "Model Validation Text"
   ]
  },
  {
   "cell_type": "markdown",
   "id": "3804b514",
   "metadata": {
    "papermill": {
     "duration": 0.003199,
     "end_time": "2023-03-19T20:46:49.164291",
     "exception": false,
     "start_time": "2023-03-19T20:46:49.161092",
     "status": "completed"
    },
    "tags": []
   },
   "source": [
    "# Conclusion   <a id='conclusion'></a> "
   ]
  },
  {
   "cell_type": "markdown",
   "id": "d2ba883f",
   "metadata": {
    "papermill": {
     "duration": 0.003103,
     "end_time": "2023-03-19T20:46:49.170959",
     "exception": false,
     "start_time": "2023-03-19T20:46:49.167856",
     "status": "completed"
    },
    "tags": []
   },
   "source": [
    "Conclusion Text!"
   ]
  },
  {
   "cell_type": "markdown",
   "id": "af293d9d",
   "metadata": {
    "papermill": {
     "duration": 0.00326,
     "end_time": "2023-03-19T20:46:49.177651",
     "exception": false,
     "start_time": "2023-03-19T20:46:49.174391",
     "status": "completed"
    },
    "tags": []
   },
   "source": [
    "# References   <a id='references'></a>\n",
    "* [Machine Learning Specialization - Deeplearning.AI](https://www.deeplearning.ai/program/machine-learning-specialization/)\n",
    "* [Andrew Ng](https://en.wikipedia.org/wiki/Andrew_Ng)\n",
    "* [@Mohan S Acharya](https://www.kaggle.com/mohansacharya)\n",
    "* [10-simple-hacks-to-speed-up-your-data-analysis - Parul Pandey](https://www.kaggle.com/parulpandey/10-simple-hacks-to-speed-up-your-data-analysis)\n",
    "* [Univariate Linear Regression From Scratch - Kaggle](https://www.kaggle.com/code/erkanhatipoglu/univariate-linear-regression-from-scratch)\n",
    "* [Univariate Linear Regression From Scratch - Towards AI](https://pub.towardsai.net/univariate-linear-regression-from-scratch-68065fe8eb09)\n",
    "* [Towards AI](https://pub.towardsai.net/)"
   ]
  }
 ],
 "metadata": {
  "kernelspec": {
   "display_name": "Python 3",
   "language": "python",
   "name": "python3"
  },
  "language_info": {
   "codemirror_mode": {
    "name": "ipython",
    "version": 3
   },
   "file_extension": ".py",
   "mimetype": "text/x-python",
   "name": "python",
   "nbconvert_exporter": "python",
   "pygments_lexer": "ipython3",
   "version": "3.7.12"
  },
  "papermill": {
   "default_parameters": {},
   "duration": 10.321066,
   "end_time": "2023-03-19T20:46:49.803013",
   "environment_variables": {},
   "exception": null,
   "input_path": "__notebook__.ipynb",
   "output_path": "__notebook__.ipynb",
   "parameters": {},
   "start_time": "2023-03-19T20:46:39.481947",
   "version": "2.4.0"
  }
 },
 "nbformat": 4,
 "nbformat_minor": 5
}
