{
 "cells": [
  {
   "cell_type": "markdown",
   "id": "a0e7bea0",
   "metadata": {
    "papermill": {
     "duration": 0.007364,
     "end_time": "2022-11-20T07:55:30.516694",
     "exception": false,
     "start_time": "2022-11-20T07:55:30.509330",
     "status": "completed"
    },
    "tags": []
   },
   "source": [
    "# Introduction  <a id='introduction'></a>\n",
    "\n",
    "This notebook contains Python code for a multivariate linear regression task. Multivariate linear regression means linear regression with more than one variable. In addition to Python, we will also use Pandas, Numpy, and Matplotlib libraries. \n",
    "\n",
    "This notebook is greatly inspired by the famous Machine Learning course by [Andrew Ng](https://www.andrewng.org/). As always, all the mistakes, if any, are made by me.\n",
    "\n",
    "Finally, thanks to [@Mohan S Acharya](https://www.kaggle.com/mohansacharya) for this dataset.\n",
    "\n",
    "\n",
    "# Table of Contents\n",
    "* [Introduction](#introduction)\n",
    "* [Helper functios](#functions)\n",
    "* [The Hypothesis](#hypothesis)\n",
    "* [The Cost Function](#cost)\n",
    "* [Gradient Descent](#gradient)\n",
    "* [Loading Data](#getdata)\n",
    "* [Model Training](#training)\n",
    "* [Model Validation](#validation)\n",
    "* [Conclusion](#conclusion)\n",
    "* [References](#references)"
   ]
  },
  {
   "cell_type": "code",
   "execution_count": 1,
   "id": "5cdaf578",
   "metadata": {
    "_cell_guid": "b1076dfc-b9ad-4769-8c92-a6c4dae69d19",
    "_uuid": "8f2839f25d086af736a60e9eeb907d3b93b6e0e5",
    "execution": {
     "iopub.execute_input": "2022-11-20T07:55:30.532173Z",
     "iopub.status.busy": "2022-11-20T07:55:30.531320Z",
     "iopub.status.idle": "2022-11-20T07:55:31.762848Z",
     "shell.execute_reply": "2022-11-20T07:55:31.761595Z"
    },
    "papermill": {
     "duration": 1.242192,
     "end_time": "2022-11-20T07:55:31.766071",
     "exception": false,
     "start_time": "2022-11-20T07:55:30.523879",
     "status": "completed"
    },
    "tags": []
   },
   "outputs": [
    {
     "name": "stdout",
     "output_type": "stream",
     "text": [
      "/kaggle/input/graduate-admissions/Admission_Predict.csv\n",
      "/kaggle/input/graduate-admissions/Admission_Predict_Ver1.1.csv\n"
     ]
    }
   ],
   "source": [
    "# This Python 3 environment comes with many helpful analytics libraries installed\n",
    "# It is defined by the kaggle/python Docker image: https://github.com/kaggle/docker-python\n",
    "# For example, here's several helpful packages to load\n",
    "\n",
    "import numpy as np # linear algebra\n",
    "import pandas as pd # data processing, CSV file I/O (e.g. pd.read_csv)\n",
    "\n",
    "# Input data files are available in the read-only \"../input/\" directory\n",
    "# For example, running this (by clicking run or pressing Shift+Enter) will list all files under the input directory\n",
    "\n",
    "import os\n",
    "for dirname, _, filenames in os.walk('/kaggle/input'):\n",
    "    for filename in filenames:\n",
    "        print(os.path.join(dirname, filename))\n",
    "\n",
    "# You can write up to 20GB to the current directory (/kaggle/working/) that gets preserved as output when you create a version using \"Save & Run All\" \n",
    "# You can also write temporary files to /kaggle/temp/, but they won't be saved outside of the current session\n",
    "\n",
    "from sklearn.model_selection import train_test_split"
   ]
  },
  {
   "cell_type": "markdown",
   "id": "a1c09991",
   "metadata": {
    "papermill": {
     "duration": 0.006269,
     "end_time": "2022-11-20T07:55:31.778460",
     "exception": false,
     "start_time": "2022-11-20T07:55:31.772191",
     "status": "completed"
    },
    "tags": []
   },
   "source": [
    "# Helper Functions   <a id='functions'></a>   "
   ]
  },
  {
   "cell_type": "markdown",
   "id": "30e91d3c",
   "metadata": {
    "papermill": {
     "duration": 0.005683,
     "end_time": "2022-11-20T07:55:31.789975",
     "exception": false,
     "start_time": "2022-11-20T07:55:31.784292",
     "status": "completed"
    },
    "tags": []
   },
   "source": [
    "<div class=\"alert alert-block alert-info\">\n",
    "<b>Tip:</b> Tip: We will use some helper functions throughout the notebook. Collecting them in one place is a good idea, making the code more organized. First, we will define and explain those functions and then use them in our code.\n",
    "</div>"
   ]
  },
  {
   "cell_type": "markdown",
   "id": "f8d0259c",
   "metadata": {
    "papermill": {
     "duration": 0.005607,
     "end_time": "2022-11-20T07:55:31.801888",
     "exception": false,
     "start_time": "2022-11-20T07:55:31.796281",
     "status": "completed"
    },
    "tags": []
   },
   "source": [
    "# The  Hypothesis   <a id='hypothesis'></a>   "
   ]
  },
  {
   "cell_type": "markdown",
   "id": "8b33551b",
   "metadata": {
    "papermill": {
     "duration": 0.005443,
     "end_time": "2022-11-20T07:55:31.813284",
     "exception": false,
     "start_time": "2022-11-20T07:55:31.807841",
     "status": "completed"
    },
    "tags": []
   },
   "source": [
    "The Hypotehsis Content"
   ]
  },
  {
   "cell_type": "code",
   "execution_count": 2,
   "id": "d23acee2",
   "metadata": {
    "execution": {
     "iopub.execute_input": "2022-11-20T07:55:31.827108Z",
     "iopub.status.busy": "2022-11-20T07:55:31.826311Z",
     "iopub.status.idle": "2022-11-20T07:55:31.832252Z",
     "shell.execute_reply": "2022-11-20T07:55:31.831274Z"
    },
    "papermill": {
     "duration": 0.015631,
     "end_time": "2022-11-20T07:55:31.834644",
     "exception": false,
     "start_time": "2022-11-20T07:55:31.819013",
     "status": "completed"
    },
    "tags": []
   },
   "outputs": [],
   "source": [
    "# The hypothesis\n",
    "def h(x, theta):\n",
    "    \"\"\"\n",
    "    calculates the predicted values (or predicted targets) for a given set of input and theta vectors.\n",
    "    :param x: inputs (feature values) - data frame of floats \n",
    "    :param theta: weights of the hypotesis function - Numpy array of floats\n",
    "    :return: predicted targets - Numpy array of floats\n",
    "    \n",
    "    \"\"\"\n",
    "    return np.dot(x, theta)"
   ]
  },
  {
   "cell_type": "markdown",
   "id": "a936e0c5",
   "metadata": {
    "papermill": {
     "duration": 0.005499,
     "end_time": "2022-11-20T07:55:31.846082",
     "exception": false,
     "start_time": "2022-11-20T07:55:31.840583",
     "status": "completed"
    },
    "tags": []
   },
   "source": [
    "# The  Cost Function   <a id='cost'></a> "
   ]
  },
  {
   "cell_type": "markdown",
   "id": "9bac2166",
   "metadata": {
    "papermill": {
     "duration": 0.005375,
     "end_time": "2022-11-20T07:55:31.858814",
     "exception": false,
     "start_time": "2022-11-20T07:55:31.853439",
     "status": "completed"
    },
    "tags": []
   },
   "source": [
    "The Costy function Content"
   ]
  },
  {
   "cell_type": "code",
   "execution_count": 3,
   "id": "ac86efbf",
   "metadata": {
    "execution": {
     "iopub.execute_input": "2022-11-20T07:55:31.872519Z",
     "iopub.status.busy": "2022-11-20T07:55:31.871857Z",
     "iopub.status.idle": "2022-11-20T07:55:31.875796Z",
     "shell.execute_reply": "2022-11-20T07:55:31.875019Z"
    },
    "papermill": {
     "duration": 0.013566,
     "end_time": "2022-11-20T07:55:31.878121",
     "exception": false,
     "start_time": "2022-11-20T07:55:31.864555",
     "status": "completed"
    },
    "tags": []
   },
   "outputs": [],
   "source": [
    "# The cost function Code"
   ]
  },
  {
   "cell_type": "markdown",
   "id": "63b9d0cf",
   "metadata": {
    "papermill": {
     "duration": 0.005481,
     "end_time": "2022-11-20T07:55:31.889498",
     "exception": false,
     "start_time": "2022-11-20T07:55:31.884017",
     "status": "completed"
    },
    "tags": []
   },
   "source": [
    "# Gradient Descent   <a id='gradient'></a> "
   ]
  },
  {
   "cell_type": "markdown",
   "id": "cdd5ad07",
   "metadata": {
    "papermill": {
     "duration": 0.00555,
     "end_time": "2022-11-20T07:55:31.901355",
     "exception": false,
     "start_time": "2022-11-20T07:55:31.895805",
     "status": "completed"
    },
    "tags": []
   },
   "source": [
    "The gradient Descent content"
   ]
  },
  {
   "cell_type": "code",
   "execution_count": 4,
   "id": "cd3cf641",
   "metadata": {
    "execution": {
     "iopub.execute_input": "2022-11-20T07:55:31.915833Z",
     "iopub.status.busy": "2022-11-20T07:55:31.914636Z",
     "iopub.status.idle": "2022-11-20T07:55:31.919579Z",
     "shell.execute_reply": "2022-11-20T07:55:31.918326Z"
    },
    "papermill": {
     "duration": 0.015094,
     "end_time": "2022-11-20T07:55:31.922235",
     "exception": false,
     "start_time": "2022-11-20T07:55:31.907141",
     "status": "completed"
    },
    "tags": []
   },
   "outputs": [],
   "source": [
    "# the gradient descent code"
   ]
  },
  {
   "cell_type": "markdown",
   "id": "e6884089",
   "metadata": {
    "papermill": {
     "duration": 0.005324,
     "end_time": "2022-11-20T07:55:31.933385",
     "exception": false,
     "start_time": "2022-11-20T07:55:31.928061",
     "status": "completed"
    },
    "tags": []
   },
   "source": [
    "# Loading Data   <a id='getdata'></a> "
   ]
  },
  {
   "cell_type": "code",
   "execution_count": 5,
   "id": "0bf3511d",
   "metadata": {
    "execution": {
     "iopub.execute_input": "2022-11-20T07:55:31.946672Z",
     "iopub.status.busy": "2022-11-20T07:55:31.946281Z",
     "iopub.status.idle": "2022-11-20T07:55:31.994275Z",
     "shell.execute_reply": "2022-11-20T07:55:31.993034Z"
    },
    "papermill": {
     "duration": 0.057714,
     "end_time": "2022-11-20T07:55:31.996807",
     "exception": false,
     "start_time": "2022-11-20T07:55:31.939093",
     "status": "completed"
    },
    "tags": []
   },
   "outputs": [
    {
     "data": {
      "text/html": [
       "<div>\n",
       "<style scoped>\n",
       "    .dataframe tbody tr th:only-of-type {\n",
       "        vertical-align: middle;\n",
       "    }\n",
       "\n",
       "    .dataframe tbody tr th {\n",
       "        vertical-align: top;\n",
       "    }\n",
       "\n",
       "    .dataframe thead th {\n",
       "        text-align: right;\n",
       "    }\n",
       "</style>\n",
       "<table border=\"1\" class=\"dataframe\">\n",
       "  <thead>\n",
       "    <tr style=\"text-align: right;\">\n",
       "      <th></th>\n",
       "      <th>GRE Score</th>\n",
       "      <th>TOEFL Score</th>\n",
       "      <th>University Rating</th>\n",
       "      <th>SOP</th>\n",
       "      <th>LOR</th>\n",
       "      <th>CGPA</th>\n",
       "      <th>Research</th>\n",
       "    </tr>\n",
       "  </thead>\n",
       "  <tbody>\n",
       "    <tr>\n",
       "      <th>249</th>\n",
       "      <td>321</td>\n",
       "      <td>111</td>\n",
       "      <td>3</td>\n",
       "      <td>3.5</td>\n",
       "      <td>4.0</td>\n",
       "      <td>8.83</td>\n",
       "      <td>1</td>\n",
       "    </tr>\n",
       "    <tr>\n",
       "      <th>433</th>\n",
       "      <td>316</td>\n",
       "      <td>111</td>\n",
       "      <td>4</td>\n",
       "      <td>4.0</td>\n",
       "      <td>5.0</td>\n",
       "      <td>8.54</td>\n",
       "      <td>0</td>\n",
       "    </tr>\n",
       "    <tr>\n",
       "      <th>19</th>\n",
       "      <td>303</td>\n",
       "      <td>102</td>\n",
       "      <td>3</td>\n",
       "      <td>3.5</td>\n",
       "      <td>3.0</td>\n",
       "      <td>8.50</td>\n",
       "      <td>0</td>\n",
       "    </tr>\n",
       "    <tr>\n",
       "      <th>322</th>\n",
       "      <td>314</td>\n",
       "      <td>107</td>\n",
       "      <td>2</td>\n",
       "      <td>2.5</td>\n",
       "      <td>4.0</td>\n",
       "      <td>8.27</td>\n",
       "      <td>0</td>\n",
       "    </tr>\n",
       "    <tr>\n",
       "      <th>332</th>\n",
       "      <td>308</td>\n",
       "      <td>106</td>\n",
       "      <td>3</td>\n",
       "      <td>3.5</td>\n",
       "      <td>2.5</td>\n",
       "      <td>8.21</td>\n",
       "      <td>1</td>\n",
       "    </tr>\n",
       "  </tbody>\n",
       "</table>\n",
       "</div>"
      ],
      "text/plain": [
       "     GRE Score  TOEFL Score  University Rating  SOP  LOR   CGPA  Research\n",
       "249        321          111                  3  3.5   4.0  8.83         1\n",
       "433        316          111                  4  4.0   5.0  8.54         0\n",
       "19         303          102                  3  3.5   3.0  8.50         0\n",
       "322        314          107                  2  2.5   4.0  8.27         0\n",
       "332        308          106                  3  3.5   2.5  8.21         1"
      ]
     },
     "execution_count": 5,
     "metadata": {},
     "output_type": "execute_result"
    }
   ],
   "source": [
    "# Get the data. Note that there are two versions. We will use the one\n",
    "# with the most rows.\n",
    "\n",
    "train_data = pd.read_csv(\"/kaggle/input/graduate-admissions/Admission_Predict_Ver1.1.csv\")\n",
    "\n",
    "# Set y and X\n",
    "\n",
    "y = pd.DataFrame(data = train_data['Chance of Admit ']).to_numpy()\n",
    "X = train_data.drop(['Chance of Admit ', 'Serial No.'], axis=1) # Chance of Admit is the target variable and Serial No. is the order. So we drop them.\n",
    "\n",
    "# Break off validation set from training data\n",
    "X_train, X_valid, y_train, y_valid = train_test_split(X, y, train_size=0.8, test_size=0.2,\n",
    "                                                                random_state=42)\n",
    "\n",
    "X_train.head()"
   ]
  },
  {
   "cell_type": "code",
   "execution_count": 6,
   "id": "318d5a58",
   "metadata": {
    "execution": {
     "iopub.execute_input": "2022-11-20T07:55:32.010779Z",
     "iopub.status.busy": "2022-11-20T07:55:32.009961Z",
     "iopub.status.idle": "2022-11-20T07:55:32.017499Z",
     "shell.execute_reply": "2022-11-20T07:55:32.016018Z"
    },
    "papermill": {
     "duration": 0.01715,
     "end_time": "2022-11-20T07:55:32.019902",
     "exception": false,
     "start_time": "2022-11-20T07:55:32.002752",
     "status": "completed"
    },
    "tags": []
   },
   "outputs": [
    {
     "data": {
      "text/plain": [
       "(100, 7)"
      ]
     },
     "execution_count": 6,
     "metadata": {},
     "output_type": "execute_result"
    }
   ],
   "source": [
    "X_valid.shape"
   ]
  },
  {
   "cell_type": "code",
   "execution_count": 7,
   "id": "b6882f37",
   "metadata": {
    "execution": {
     "iopub.execute_input": "2022-11-20T07:55:32.034845Z",
     "iopub.status.busy": "2022-11-20T07:55:32.033837Z",
     "iopub.status.idle": "2022-11-20T07:55:32.047336Z",
     "shell.execute_reply": "2022-11-20T07:55:32.046504Z"
    },
    "papermill": {
     "duration": 0.023257,
     "end_time": "2022-11-20T07:55:32.049518",
     "exception": false,
     "start_time": "2022-11-20T07:55:32.026261",
     "status": "completed"
    },
    "tags": []
   },
   "outputs": [
    {
     "data": {
      "text/html": [
       "<div>\n",
       "<style scoped>\n",
       "    .dataframe tbody tr th:only-of-type {\n",
       "        vertical-align: middle;\n",
       "    }\n",
       "\n",
       "    .dataframe tbody tr th {\n",
       "        vertical-align: top;\n",
       "    }\n",
       "\n",
       "    .dataframe thead th {\n",
       "        text-align: right;\n",
       "    }\n",
       "</style>\n",
       "<table border=\"1\" class=\"dataframe\">\n",
       "  <thead>\n",
       "    <tr style=\"text-align: right;\">\n",
       "      <th></th>\n",
       "      <th>GRE Score</th>\n",
       "      <th>TOEFL Score</th>\n",
       "      <th>University Rating</th>\n",
       "      <th>SOP</th>\n",
       "      <th>LOR</th>\n",
       "      <th>CGPA</th>\n",
       "      <th>Research</th>\n",
       "    </tr>\n",
       "  </thead>\n",
       "  <tbody>\n",
       "    <tr>\n",
       "      <th>361</th>\n",
       "      <td>334</td>\n",
       "      <td>116</td>\n",
       "      <td>4</td>\n",
       "      <td>4.0</td>\n",
       "      <td>3.5</td>\n",
       "      <td>9.54</td>\n",
       "      <td>1</td>\n",
       "    </tr>\n",
       "    <tr>\n",
       "      <th>73</th>\n",
       "      <td>314</td>\n",
       "      <td>108</td>\n",
       "      <td>4</td>\n",
       "      <td>4.5</td>\n",
       "      <td>4.0</td>\n",
       "      <td>9.04</td>\n",
       "      <td>1</td>\n",
       "    </tr>\n",
       "    <tr>\n",
       "      <th>374</th>\n",
       "      <td>315</td>\n",
       "      <td>105</td>\n",
       "      <td>2</td>\n",
       "      <td>2.0</td>\n",
       "      <td>2.5</td>\n",
       "      <td>7.65</td>\n",
       "      <td>0</td>\n",
       "    </tr>\n",
       "    <tr>\n",
       "      <th>155</th>\n",
       "      <td>312</td>\n",
       "      <td>109</td>\n",
       "      <td>3</td>\n",
       "      <td>3.0</td>\n",
       "      <td>3.0</td>\n",
       "      <td>8.69</td>\n",
       "      <td>0</td>\n",
       "    </tr>\n",
       "    <tr>\n",
       "      <th>104</th>\n",
       "      <td>326</td>\n",
       "      <td>112</td>\n",
       "      <td>3</td>\n",
       "      <td>3.5</td>\n",
       "      <td>3.0</td>\n",
       "      <td>9.05</td>\n",
       "      <td>1</td>\n",
       "    </tr>\n",
       "  </tbody>\n",
       "</table>\n",
       "</div>"
      ],
      "text/plain": [
       "     GRE Score  TOEFL Score  University Rating  SOP  LOR   CGPA  Research\n",
       "361        334          116                  4  4.0   3.5  9.54         1\n",
       "73         314          108                  4  4.5   4.0  9.04         1\n",
       "374        315          105                  2  2.0   2.5  7.65         0\n",
       "155        312          109                  3  3.0   3.0  8.69         0\n",
       "104        326          112                  3  3.5   3.0  9.05         1"
      ]
     },
     "execution_count": 7,
     "metadata": {},
     "output_type": "execute_result"
    }
   ],
   "source": [
    "X_valid.head()"
   ]
  },
  {
   "cell_type": "markdown",
   "id": "1d0f6f51",
   "metadata": {
    "papermill": {
     "duration": 0.00588,
     "end_time": "2022-11-20T07:55:32.062218",
     "exception": false,
     "start_time": "2022-11-20T07:55:32.056338",
     "status": "completed"
    },
    "tags": []
   },
   "source": [
    "# Model Training   <a id='training'></a> "
   ]
  },
  {
   "cell_type": "markdown",
   "id": "10cac205",
   "metadata": {
    "papermill": {
     "duration": 0.005783,
     "end_time": "2022-11-20T07:55:32.074195",
     "exception": false,
     "start_time": "2022-11-20T07:55:32.068412",
     "status": "completed"
    },
    "tags": []
   },
   "source": [
    "Model training content"
   ]
  },
  {
   "cell_type": "code",
   "execution_count": 8,
   "id": "be2b9274",
   "metadata": {
    "execution": {
     "iopub.execute_input": "2022-11-20T07:55:32.088701Z",
     "iopub.status.busy": "2022-11-20T07:55:32.087656Z",
     "iopub.status.idle": "2022-11-20T07:55:32.092667Z",
     "shell.execute_reply": "2022-11-20T07:55:32.091531Z"
    },
    "papermill": {
     "duration": 0.015017,
     "end_time": "2022-11-20T07:55:32.095294",
     "exception": false,
     "start_time": "2022-11-20T07:55:32.080277",
     "status": "completed"
    },
    "tags": []
   },
   "outputs": [],
   "source": [
    "# Model training code"
   ]
  },
  {
   "cell_type": "markdown",
   "id": "0458a8c6",
   "metadata": {
    "papermill": {
     "duration": 0.006074,
     "end_time": "2022-11-20T07:55:32.107895",
     "exception": false,
     "start_time": "2022-11-20T07:55:32.101821",
     "status": "completed"
    },
    "tags": []
   },
   "source": [
    "# Model Validation   <a id='validation'></a> "
   ]
  },
  {
   "cell_type": "markdown",
   "id": "1356e88d",
   "metadata": {
    "papermill": {
     "duration": 0.005839,
     "end_time": "2022-11-20T07:55:32.119938",
     "exception": false,
     "start_time": "2022-11-20T07:55:32.114099",
     "status": "completed"
    },
    "tags": []
   },
   "source": []
  },
  {
   "cell_type": "markdown",
   "id": "71ca44c2",
   "metadata": {
    "papermill": {
     "duration": 0.005725,
     "end_time": "2022-11-20T07:55:32.131799",
     "exception": false,
     "start_time": "2022-11-20T07:55:32.126074",
     "status": "completed"
    },
    "tags": []
   },
   "source": [
    "model validation content"
   ]
  },
  {
   "cell_type": "code",
   "execution_count": 9,
   "id": "baedf26b",
   "metadata": {
    "execution": {
     "iopub.execute_input": "2022-11-20T07:55:32.145588Z",
     "iopub.status.busy": "2022-11-20T07:55:32.145164Z",
     "iopub.status.idle": "2022-11-20T07:55:32.150182Z",
     "shell.execute_reply": "2022-11-20T07:55:32.149095Z"
    },
    "papermill": {
     "duration": 0.01462,
     "end_time": "2022-11-20T07:55:32.152524",
     "exception": false,
     "start_time": "2022-11-20T07:55:32.137904",
     "status": "completed"
    },
    "tags": []
   },
   "outputs": [],
   "source": [
    "# Model validation code"
   ]
  },
  {
   "cell_type": "markdown",
   "id": "b3b346c7",
   "metadata": {
    "papermill": {
     "duration": 0.006266,
     "end_time": "2022-11-20T07:55:32.165085",
     "exception": false,
     "start_time": "2022-11-20T07:55:32.158819",
     "status": "completed"
    },
    "tags": []
   },
   "source": [
    "# Conclusion   <a id='conclusion'></a> "
   ]
  },
  {
   "cell_type": "markdown",
   "id": "925a0fc3",
   "metadata": {
    "papermill": {
     "duration": 0.005977,
     "end_time": "2022-11-20T07:55:32.177385",
     "exception": false,
     "start_time": "2022-11-20T07:55:32.171408",
     "status": "completed"
    },
    "tags": []
   },
   "source": [
    "Conclusion content"
   ]
  },
  {
   "cell_type": "markdown",
   "id": "d9705d54",
   "metadata": {
    "papermill": {
     "duration": 0.00582,
     "end_time": "2022-11-20T07:55:32.189334",
     "exception": false,
     "start_time": "2022-11-20T07:55:32.183514",
     "status": "completed"
    },
    "tags": []
   },
   "source": [
    "# References   <a id='references'></a>\n",
    "* [Machine Learning Specialization - Deeplearning.AI](https://www.deeplearning.ai/program/machine-learning-specialization/)\n",
    "* [Andrew Ng](https://en.wikipedia.org/wiki/Andrew_Ng)\n",
    "* [@Mohan S Acharya](https://www.kaggle.com/mohansacharya)\n",
    "* [10-simple-hacks-to-speed-up-your-data-analysis - Parul Pandey](https://www.kaggle.com/parulpandey/10-simple-hacks-to-speed-up-your-data-analysis)\n",
    "* [Univariate Linear Regression From Scratch - Kaggle](https://www.kaggle.com/code/erkanhatipoglu/univariate-linear-regression-from-scratch)\n",
    "* [Univariate Linear Regression From Scratch - Towards AI](https://pub.towardsai.net/univariate-linear-regression-from-scratch-68065fe8eb09)"
   ]
  }
 ],
 "metadata": {
  "kernelspec": {
   "display_name": "Python 3",
   "language": "python",
   "name": "python3"
  },
  "language_info": {
   "codemirror_mode": {
    "name": "ipython",
    "version": 3
   },
   "file_extension": ".py",
   "mimetype": "text/x-python",
   "name": "python",
   "nbconvert_exporter": "python",
   "pygments_lexer": "ipython3",
   "version": "3.7.12"
  },
  "papermill": {
   "default_parameters": {},
   "duration": 11.624345,
   "end_time": "2022-11-20T07:55:33.018615",
   "environment_variables": {},
   "exception": null,
   "input_path": "__notebook__.ipynb",
   "output_path": "__notebook__.ipynb",
   "parameters": {},
   "start_time": "2022-11-20T07:55:21.394270",
   "version": "2.3.4"
  }
 },
 "nbformat": 4,
 "nbformat_minor": 5
}
