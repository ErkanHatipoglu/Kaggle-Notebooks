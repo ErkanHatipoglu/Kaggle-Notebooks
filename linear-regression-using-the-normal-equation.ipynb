{
 "cells": [
  {
   "cell_type": "markdown",
   "id": "7992d3ad",
   "metadata": {
    "papermill": {
     "duration": 0.006067,
     "end_time": "2023-03-19T21:24:22.583035",
     "exception": false,
     "start_time": "2023-03-19T21:24:22.576968",
     "status": "completed"
    },
    "tags": []
   },
   "source": [
    "# Introduction  <a id='introduction'></a>\n",
    "\n",
    "Introduction Text!\n",
    "\n",
    "This notebook is greatly inspired by the famous Machine Learning course by [Andrew Ng](https://www.andrewng.org/). All the mistakes, if any, are made by me.\n",
    "\n",
    "Finally, thanks to [@Mohan S Acharya](https://www.kaggle.com/mohansacharya) for this dataset.\n",
    "\n",
    "\n",
    "# Table of Contents\n",
    "* [Introduction](#introduction)\n",
    "* [Helper functions](#functions)\n",
    "* [The Normal Equation](#normal)\n",
    "* [The Hypothesis](#hypothesis)\n",
    "* [The Cost Function](#cost)\n",
    "* [Loading Data](#getdata)\n",
    "* [Model Training](#training)\n",
    "* [Model Validation](#validation)\n",
    "* [Conclusion](#conclusion)\n",
    "* [References](#references)"
   ]
  },
  {
   "cell_type": "code",
   "execution_count": 1,
   "id": "94a2d018",
   "metadata": {
    "_cell_guid": "b1076dfc-b9ad-4769-8c92-a6c4dae69d19",
    "_uuid": "8f2839f25d086af736a60e9eeb907d3b93b6e0e5",
    "execution": {
     "iopub.execute_input": "2023-03-19T21:24:22.595343Z",
     "iopub.status.busy": "2023-03-19T21:24:22.594778Z",
     "iopub.status.idle": "2023-03-19T21:24:23.867406Z",
     "shell.execute_reply": "2023-03-19T21:24:23.865860Z"
    },
    "papermill": {
     "duration": 1.282814,
     "end_time": "2023-03-19T21:24:23.870880",
     "exception": false,
     "start_time": "2023-03-19T21:24:22.588066",
     "status": "completed"
    },
    "tags": []
   },
   "outputs": [
    {
     "name": "stdout",
     "output_type": "stream",
     "text": [
      "/kaggle/input/graduate-admissions/Admission_Predict.csv\n",
      "/kaggle/input/graduate-admissions/Admission_Predict_Ver1.1.csv\n"
     ]
    }
   ],
   "source": [
    "# This Python 3 environment comes with many helpful analytics libraries installed\n",
    "# It is defined by the kaggle/python Docker image: https://github.com/kaggle/docker-python\n",
    "# For example, here's several helpful packages to load\n",
    "\n",
    "import numpy as np # linear algebra\n",
    "import pandas as pd # data processing, CSV file I/O (e.g. pd.read_csv)\n",
    "\n",
    "# Input data files are available in the read-only \"../input/\" directory\n",
    "# For example, running this (by clicking run or pressing Shift+Enter) will list all files under the input directory\n",
    "\n",
    "import os\n",
    "for dirname, _, filenames in os.walk('/kaggle/input'):\n",
    "    for filename in filenames:\n",
    "        print(os.path.join(dirname, filename))\n",
    "\n",
    "# You can write up to 20GB to the current directory (/kaggle/working/) that gets preserved as output when you create a version using \"Save & Run All\" \n",
    "# You can also write temporary files to /kaggle/temp/, but they won't be saved outside of the current session\n",
    "\n",
    "from sklearn.model_selection import train_test_split"
   ]
  },
  {
   "cell_type": "markdown",
   "id": "b6fbfcc3",
   "metadata": {
    "papermill": {
     "duration": 0.004781,
     "end_time": "2023-03-19T21:24:23.881841",
     "exception": false,
     "start_time": "2023-03-19T21:24:23.877060",
     "status": "completed"
    },
    "tags": []
   },
   "source": [
    "# Helper Functions   <a id='functions'></a>   "
   ]
  },
  {
   "cell_type": "markdown",
   "id": "467db248",
   "metadata": {
    "papermill": {
     "duration": 0.007007,
     "end_time": "2023-03-19T21:24:23.895451",
     "exception": false,
     "start_time": "2023-03-19T21:24:23.888444",
     "status": "completed"
    },
    "tags": []
   },
   "source": [
    "<div class=\"alert alert-block alert-info\">\n",
    "<b>Tip:</b> We will use some helper functions throughout the notebook. Collecting them in one place is a good idea, making the code more organized. First, we will define and explain those functions and then use them in our code.\n",
    "</div>"
   ]
  },
  {
   "cell_type": "markdown",
   "id": "c88c2b38",
   "metadata": {
    "papermill": {
     "duration": 0.005582,
     "end_time": "2023-03-19T21:24:23.906438",
     "exception": false,
     "start_time": "2023-03-19T21:24:23.900856",
     "status": "completed"
    },
    "tags": []
   },
   "source": [
    "# The Normal Equation   <a id='normal'></a> "
   ]
  },
  {
   "cell_type": "markdown",
   "id": "2f60857c",
   "metadata": {
    "papermill": {
     "duration": 0.005476,
     "end_time": "2023-03-19T21:24:23.918874",
     "exception": false,
     "start_time": "2023-03-19T21:24:23.913398",
     "status": "completed"
    },
    "tags": []
   },
   "source": [
    "The Normal Equation Text!"
   ]
  },
  {
   "cell_type": "code",
   "execution_count": 2,
   "id": "3462301d",
   "metadata": {
    "execution": {
     "iopub.execute_input": "2023-03-19T21:24:23.933073Z",
     "iopub.status.busy": "2023-03-19T21:24:23.932461Z",
     "iopub.status.idle": "2023-03-19T21:24:23.942664Z",
     "shell.execute_reply": "2023-03-19T21:24:23.941135Z"
    },
    "papermill": {
     "duration": 0.020141,
     "end_time": "2023-03-19T21:24:23.945408",
     "exception": false,
     "start_time": "2023-03-19T21:24:23.925267",
     "status": "completed"
    },
    "tags": []
   },
   "outputs": [],
   "source": [
    "# The normal equation\n",
    "\n",
    "def calculate_theta(X,y):\n",
    "    \"\"\"\n",
    "     Calculates the theta vector using the normal equation.\n",
    "    \n",
    "    :param X: inputs (feature values) - data frame of floats\n",
    "    :param y: outputs (actual target values) - Numpy array of floats\n",
    "    \n",
    "    :return: new theta - Numpy array of floats\n",
    "    \n",
    "    \"\"\"\n",
    "    # Calculate transpose of X\n",
    "    X_transpose = X.transpose()\n",
    "    \n",
    "    # Calculate the dot product between X_transpose and X\n",
    "    temp_0 = np.dot(X_transpose, X)\n",
    "        \n",
    "    # Calculate the inverse of temp_0\n",
    "    temp_1 = np.linalg.inv(temp_0)\n",
    "\n",
    "    # Calculate the dot product between temp_1 and X_transpose\n",
    "    temp_2 = np.dot(temp_1, X_transpose)\n",
    "\n",
    "    # Calculate the dot product between temp_2 and y\n",
    "    theta = np.dot(temp_2, y) \n",
    "\n",
    "    return  theta.reshape(-1)"
   ]
  },
  {
   "cell_type": "markdown",
   "id": "27e4b11c",
   "metadata": {
    "papermill": {
     "duration": 0.004861,
     "end_time": "2023-03-19T21:24:23.955573",
     "exception": false,
     "start_time": "2023-03-19T21:24:23.950712",
     "status": "completed"
    },
    "tags": []
   },
   "source": [
    "# The  Hypothesis   <a id='hypothesis'></a>   "
   ]
  },
  {
   "cell_type": "markdown",
   "id": "78391272",
   "metadata": {
    "execution": {
     "iopub.execute_input": "2023-03-19T20:08:10.723871Z",
     "iopub.status.busy": "2023-03-19T20:08:10.723267Z",
     "iopub.status.idle": "2023-03-19T20:08:10.730032Z",
     "shell.execute_reply": "2023-03-19T20:08:10.728533Z",
     "shell.execute_reply.started": "2023-03-19T20:08:10.723828Z"
    },
    "papermill": {
     "duration": 0.004902,
     "end_time": "2023-03-19T21:24:23.965798",
     "exception": false,
     "start_time": "2023-03-19T21:24:23.960896",
     "status": "completed"
    },
    "tags": []
   },
   "source": [
    "The Hypothesis Text!"
   ]
  },
  {
   "cell_type": "code",
   "execution_count": 3,
   "id": "11124199",
   "metadata": {
    "execution": {
     "iopub.execute_input": "2023-03-19T21:24:23.979257Z",
     "iopub.status.busy": "2023-03-19T21:24:23.978100Z",
     "iopub.status.idle": "2023-03-19T21:24:23.985518Z",
     "shell.execute_reply": "2023-03-19T21:24:23.984270Z"
    },
    "papermill": {
     "duration": 0.017582,
     "end_time": "2023-03-19T21:24:23.988562",
     "exception": false,
     "start_time": "2023-03-19T21:24:23.970980",
     "status": "completed"
    },
    "tags": []
   },
   "outputs": [],
   "source": [
    "# The hypothesis\n",
    "def h(x, theta):\n",
    "    \"\"\"\n",
    "     Calculates the predicted values (or predicted targets) for a given set of input and theta vectors.\n",
    "    \n",
    "    :param x: inputs (feature values) - data frame of floats \n",
    "    :param theta: theta vector (weights) - Numpy array of floats\n",
    "    \n",
    "    :return: predicted targets - Numpy array of floats\n",
    "    \n",
    "    \"\"\"\n",
    "    # The hypothesis is a column vector of m x 1\n",
    "    return np.dot(x, theta)"
   ]
  },
  {
   "cell_type": "markdown",
   "id": "14a6c59f",
   "metadata": {
    "papermill": {
     "duration": 0.005428,
     "end_time": "2023-03-19T21:24:24.000810",
     "exception": false,
     "start_time": "2023-03-19T21:24:23.995382",
     "status": "completed"
    },
    "tags": []
   },
   "source": [
    "# The  Cost Function   <a id='cost'></a> "
   ]
  },
  {
   "cell_type": "markdown",
   "id": "4a2d784e",
   "metadata": {
    "papermill": {
     "duration": 0.004743,
     "end_time": "2023-03-19T21:24:24.010715",
     "exception": false,
     "start_time": "2023-03-19T21:24:24.005972",
     "status": "completed"
    },
    "tags": []
   },
   "source": [
    "The cost Function Text!"
   ]
  },
  {
   "cell_type": "code",
   "execution_count": 4,
   "id": "b84ddfd0",
   "metadata": {
    "execution": {
     "iopub.execute_input": "2023-03-19T21:24:24.023670Z",
     "iopub.status.busy": "2023-03-19T21:24:24.022805Z",
     "iopub.status.idle": "2023-03-19T21:24:24.031581Z",
     "shell.execute_reply": "2023-03-19T21:24:24.030418Z"
    },
    "papermill": {
     "duration": 0.01828,
     "end_time": "2023-03-19T21:24:24.034137",
     "exception": false,
     "start_time": "2023-03-19T21:24:24.015857",
     "status": "completed"
    },
    "tags": []
   },
   "outputs": [],
   "source": [
    "# The cost function\n",
    "\n",
    "def J(X,y,theta):\n",
    "    \"\"\"\n",
    "     Calculates the total error using squared error function.\n",
    "    \n",
    "    :param X: inputs (feature values) - data frame of floats\n",
    "    :param y: outputs (actual target values) - Numpy array of floats\n",
    "    :param theta: theta vector (weights) - Numpy array of floats\n",
    "    \n",
    "    :return: total error - float\n",
    "    \n",
    "    \"\"\"\n",
    "    # Calculate number of examples\n",
    "    m = len(X)\n",
    "    \n",
    "    # Calculate the constant\n",
    "    c = 1/(2 * m)\n",
    "       \n",
    "    # Calculate the array of errors\n",
    "    temp_0 = h(X, theta) - y.reshape(-1)\n",
    "\n",
    "    # Calculate the transpose of array of errors\n",
    "    temp_1 = temp_0.transpose()\n",
    "\n",
    "    # Calculate the dot product \n",
    "    temp_2 = np.dot(temp_1, temp_0) \n",
    "\n",
    "    return  c * temp_2"
   ]
  },
  {
   "cell_type": "markdown",
   "id": "609f6a3e",
   "metadata": {
    "papermill": {
     "duration": 0.004947,
     "end_time": "2023-03-19T21:24:24.044379",
     "exception": false,
     "start_time": "2023-03-19T21:24:24.039432",
     "status": "completed"
    },
    "tags": []
   },
   "source": [
    "# Loading Data   <a id='getdata'></a> "
   ]
  },
  {
   "cell_type": "markdown",
   "id": "9683ea68",
   "metadata": {
    "papermill": {
     "duration": 0.004835,
     "end_time": "2023-03-19T21:24:24.054402",
     "exception": false,
     "start_time": "2023-03-19T21:24:24.049567",
     "status": "completed"
    },
    "tags": []
   },
   "source": [
    "First of all, we will load the CSV file in this part. Since there are two different versions of the dataset, we will load the one with more data. We will then create our training DataFrame and target vector. Next, we will normalize some columns of the training DataFrame using min-max scaling. Finally, we will split our data into training and validation DataFrames so that we can validate the results."
   ]
  },
  {
   "cell_type": "code",
   "execution_count": 5,
   "id": "f08b017c",
   "metadata": {
    "execution": {
     "iopub.execute_input": "2023-03-19T21:24:24.068490Z",
     "iopub.status.busy": "2023-03-19T21:24:24.067480Z",
     "iopub.status.idle": "2023-03-19T21:24:24.131144Z",
     "shell.execute_reply": "2023-03-19T21:24:24.129681Z"
    },
    "papermill": {
     "duration": 0.073165,
     "end_time": "2023-03-19T21:24:24.133824",
     "exception": false,
     "start_time": "2023-03-19T21:24:24.060659",
     "status": "completed"
    },
    "tags": []
   },
   "outputs": [
    {
     "data": {
      "text/html": [
       "<div>\n",
       "<style scoped>\n",
       "    .dataframe tbody tr th:only-of-type {\n",
       "        vertical-align: middle;\n",
       "    }\n",
       "\n",
       "    .dataframe tbody tr th {\n",
       "        vertical-align: top;\n",
       "    }\n",
       "\n",
       "    .dataframe thead th {\n",
       "        text-align: right;\n",
       "    }\n",
       "</style>\n",
       "<table border=\"1\" class=\"dataframe\">\n",
       "  <thead>\n",
       "    <tr style=\"text-align: right;\">\n",
       "      <th></th>\n",
       "      <th>GRE Score</th>\n",
       "      <th>TOEFL Score</th>\n",
       "      <th>University Rating</th>\n",
       "      <th>SOP</th>\n",
       "      <th>LOR</th>\n",
       "      <th>CGPA</th>\n",
       "      <th>Research</th>\n",
       "    </tr>\n",
       "  </thead>\n",
       "  <tbody>\n",
       "    <tr>\n",
       "      <th>107</th>\n",
       "      <td>338</td>\n",
       "      <td>117</td>\n",
       "      <td>4</td>\n",
       "      <td>3.5</td>\n",
       "      <td>4.5</td>\n",
       "      <td>9.46</td>\n",
       "      <td>1</td>\n",
       "    </tr>\n",
       "    <tr>\n",
       "      <th>336</th>\n",
       "      <td>319</td>\n",
       "      <td>110</td>\n",
       "      <td>3</td>\n",
       "      <td>3.0</td>\n",
       "      <td>2.5</td>\n",
       "      <td>8.79</td>\n",
       "      <td>0</td>\n",
       "    </tr>\n",
       "    <tr>\n",
       "      <th>71</th>\n",
       "      <td>336</td>\n",
       "      <td>112</td>\n",
       "      <td>5</td>\n",
       "      <td>5.0</td>\n",
       "      <td>5.0</td>\n",
       "      <td>9.76</td>\n",
       "      <td>1</td>\n",
       "    </tr>\n",
       "    <tr>\n",
       "      <th>474</th>\n",
       "      <td>308</td>\n",
       "      <td>105</td>\n",
       "      <td>4</td>\n",
       "      <td>3.0</td>\n",
       "      <td>2.5</td>\n",
       "      <td>7.95</td>\n",
       "      <td>1</td>\n",
       "    </tr>\n",
       "    <tr>\n",
       "      <th>6</th>\n",
       "      <td>321</td>\n",
       "      <td>109</td>\n",
       "      <td>3</td>\n",
       "      <td>3.0</td>\n",
       "      <td>4.0</td>\n",
       "      <td>8.20</td>\n",
       "      <td>1</td>\n",
       "    </tr>\n",
       "  </tbody>\n",
       "</table>\n",
       "</div>"
      ],
      "text/plain": [
       "     GRE Score  TOEFL Score  University Rating  SOP  LOR   CGPA  Research\n",
       "107        338          117                  4  3.5   4.5  9.46         1\n",
       "336        319          110                  3  3.0   2.5  8.79         0\n",
       "71         336          112                  5  5.0   5.0  9.76         1\n",
       "474        308          105                  4  3.0   2.5  7.95         1\n",
       "6          321          109                  3  3.0   4.0  8.20         1"
      ]
     },
     "execution_count": 5,
     "metadata": {},
     "output_type": "execute_result"
    }
   ],
   "source": [
    "# Get the data. Note that there are two versions. We will use the one\n",
    "# with the most rows.\n",
    "\n",
    "train_data = pd.read_csv(\"/kaggle/input/graduate-admissions/Admission_Predict_Ver1.1.csv\")\n",
    "\n",
    "# Set X and y\n",
    "X = train_data.drop(['Chance of Admit ', 'Serial No.'], axis=1) # Chance of Admit is the target variable and Serial No. is the order. So we drop them.\n",
    "y = pd.DataFrame(data = train_data['Chance of Admit ']).to_numpy()\n",
    "\n",
    "# Instead of finding probabilities, we want to calculate the percentages.\n",
    "y = y * 100\n",
    "\n",
    "# Break off validation set from training data\n",
    "X_train, X_valid, y_train, y_valid = train_test_split(X, y, train_size=0.8, test_size=0.2, random_state = 0)\n",
    "\n",
    "X_train.head()"
   ]
  },
  {
   "cell_type": "markdown",
   "id": "09fa1c94",
   "metadata": {
    "papermill": {
     "duration": 0.005018,
     "end_time": "2023-03-19T21:24:24.144289",
     "exception": false,
     "start_time": "2023-03-19T21:24:24.139271",
     "status": "completed"
    },
    "tags": []
   },
   "source": [
    "# Model Training   <a id='training'></a> "
   ]
  },
  {
   "cell_type": "markdown",
   "id": "1a687b1a",
   "metadata": {
    "papermill": {
     "duration": 0.004963,
     "end_time": "2023-03-19T21:24:24.154475",
     "exception": false,
     "start_time": "2023-03-19T21:24:24.149512",
     "status": "completed"
    },
    "tags": []
   },
   "source": [
    "Model Training Text!"
   ]
  },
  {
   "cell_type": "markdown",
   "id": "eb09cc87",
   "metadata": {
    "papermill": {
     "duration": 0.004838,
     "end_time": "2023-03-19T21:24:24.164475",
     "exception": false,
     "start_time": "2023-03-19T21:24:24.159637",
     "status": "completed"
    },
    "tags": []
   },
   "source": [
    "# Model Validation   <a id='validation'></a> "
   ]
  },
  {
   "cell_type": "markdown",
   "id": "18354d1d",
   "metadata": {
    "papermill": {
     "duration": 0.004863,
     "end_time": "2023-03-19T21:24:24.174478",
     "exception": false,
     "start_time": "2023-03-19T21:24:24.169615",
     "status": "completed"
    },
    "tags": []
   },
   "source": [
    "Model Validation Text"
   ]
  },
  {
   "cell_type": "markdown",
   "id": "cabbb423",
   "metadata": {
    "papermill": {
     "duration": 0.005008,
     "end_time": "2023-03-19T21:24:24.184653",
     "exception": false,
     "start_time": "2023-03-19T21:24:24.179645",
     "status": "completed"
    },
    "tags": []
   },
   "source": [
    "# Conclusion   <a id='conclusion'></a> "
   ]
  },
  {
   "cell_type": "markdown",
   "id": "971365e9",
   "metadata": {
    "papermill": {
     "duration": 0.004982,
     "end_time": "2023-03-19T21:24:24.194983",
     "exception": false,
     "start_time": "2023-03-19T21:24:24.190001",
     "status": "completed"
    },
    "tags": []
   },
   "source": [
    "Conclusion Text!"
   ]
  },
  {
   "cell_type": "markdown",
   "id": "5a109342",
   "metadata": {
    "papermill": {
     "duration": 0.00492,
     "end_time": "2023-03-19T21:24:24.205175",
     "exception": false,
     "start_time": "2023-03-19T21:24:24.200255",
     "status": "completed"
    },
    "tags": []
   },
   "source": [
    "# References   <a id='references'></a>\n",
    "* [Machine Learning Specialization - Deeplearning.AI](https://www.deeplearning.ai/program/machine-learning-specialization/)\n",
    "* [Andrew Ng](https://en.wikipedia.org/wiki/Andrew_Ng)\n",
    "* [@Mohan S Acharya](https://www.kaggle.com/mohansacharya)\n",
    "* [Multivariate Linear Regression From Scratch - Kaggle](https://www.kaggle.com/code/erkanhatipoglu/multivariate-linear-regression-from-scratch)\n",
    "* [Univariate Linear Regression From Scratch - Kaggle](https://www.kaggle.com/code/erkanhatipoglu/univariate-linear-regression-from-scratch)\n",
    "* [Univariate Linear Regression From Scratch - Towards AI](https://pub.towardsai.net/univariate-linear-regression-from-scratch-68065fe8eb09)\n",
    "* [Towards AI](https://pub.towardsai.net/)"
   ]
  }
 ],
 "metadata": {
  "kernelspec": {
   "display_name": "Python 3",
   "language": "python",
   "name": "python3"
  },
  "language_info": {
   "codemirror_mode": {
    "name": "ipython",
    "version": 3
   },
   "file_extension": ".py",
   "mimetype": "text/x-python",
   "name": "python",
   "nbconvert_exporter": "python",
   "pygments_lexer": "ipython3",
   "version": "3.7.12"
  },
  "papermill": {
   "default_parameters": {},
   "duration": 13.393171,
   "end_time": "2023-03-19T21:24:25.033892",
   "environment_variables": {},
   "exception": null,
   "input_path": "__notebook__.ipynb",
   "output_path": "__notebook__.ipynb",
   "parameters": {},
   "start_time": "2023-03-19T21:24:11.640721",
   "version": "2.4.0"
  }
 },
 "nbformat": 4,
 "nbformat_minor": 5
}
