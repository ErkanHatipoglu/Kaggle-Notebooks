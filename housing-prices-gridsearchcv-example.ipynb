{
 "cells": [
  {
   "cell_type": "markdown",
   "metadata": {
    "papermill": {
     "duration": 0.020188,
     "end_time": "2023-03-24T19:58:21.372944",
     "exception": false,
     "start_time": "2023-03-24T19:58:21.352756",
     "status": "completed"
    },
    "tags": []
   },
   "source": [
    "# Introduction  <a id='introduction'></a>\n",
    "\n",
    "This is a starter code for those who want to work with sklearn grid search and pipelines. The score for this notebook is **13677.99**, which is within the top **2.5%** for this competition. However, the score may change in each version due to the indeterministic nature of the model. The reader may get a better score by performing EDA and feature engineering.   \n",
    "\n",
    "Kagglers who are interested in using early_stopping_rounds in pipelines may refer to a worsened version of this notebook [Housing Prices: Pipeline Starter Code](https://www.kaggle.com/erkanhatipoglu/housing-prices-pipeline-starter-code).\n",
    "\n",
    "Kagglers interested in more advanced subjects of sklearn pipelines may refer to my notebook [Introduction to Sklearn Pipelines with Titanic](https://www.kaggle.com/erkanhatipoglu/introduction-to-sklearn-pipelines-with-titanic). \n",
    "\n",
    "Thank you for reading.\n",
    "\n",
    "# Table of Contents\n",
    "* [Introduction](#introduction)\n",
    "* [Helper Functions](#functions)\n",
    "* [Preprocessing](#preprocessing) \n",
    "* [Using GridSearchCV](#gridsearch)\n",
    "* [Cross-validation](#cross-validation)    \n",
    "* [Prediction](#prediction) \n",
    "* [Saving and submission](#saving)  \n",
    "* [References](#references)"
   ]
  },
  {
   "cell_type": "code",
   "execution_count": 1,
   "metadata": {
    "_cell_guid": "b1076dfc-b9ad-4769-8c92-a6c4dae69d19",
    "_uuid": "8f2839f25d086af736a60e9eeb907d3b93b6e0e5",
    "execution": {
     "iopub.execute_input": "2023-03-24T19:58:21.425303Z",
     "iopub.status.busy": "2023-03-24T19:58:21.424270Z",
     "iopub.status.idle": "2023-03-24T19:58:23.614742Z",
     "shell.execute_reply": "2023-03-24T19:58:23.614091Z",
     "shell.execute_reply.started": "2022-09-27T10:28:19.552289Z"
    },
    "papermill": {
     "duration": 2.2148,
     "end_time": "2023-03-24T19:58:23.614873",
     "exception": false,
     "start_time": "2023-03-24T19:58:21.400073",
     "status": "completed"
    },
    "scrolled": true,
    "tags": []
   },
   "outputs": [
    {
     "name": "stdout",
     "output_type": "stream",
     "text": [
      "/kaggle/input/home-data-for-ml-course/sample_submission.csv\n",
      "/kaggle/input/home-data-for-ml-course/sample_submission.csv.gz\n",
      "/kaggle/input/home-data-for-ml-course/train.csv.gz\n",
      "/kaggle/input/home-data-for-ml-course/data_description.txt\n",
      "/kaggle/input/home-data-for-ml-course/test.csv.gz\n",
      "/kaggle/input/home-data-for-ml-course/train.csv\n",
      "/kaggle/input/home-data-for-ml-course/test.csv\n"
     ]
    }
   ],
   "source": [
    "# This Python 3 environment comes with many helpful analytics libraries installed\n",
    "# It is defined by the kaggle/python Docker image: https://github.com/kaggle/docker-python\n",
    "# For example, here's several helpful packages to load\n",
    "\n",
    "import numpy as np # linear algebra\n",
    "import pandas as pd # data processing, CSV file I/O (e.g. pd.read_csv)\n",
    "\n",
    "# Input data files are available in the read-only \"../input/\" directory\n",
    "# For example, running this (by clicking run or pressing Shift+Enter) will list all files under the input directory\n",
    "\n",
    "import os\n",
    "for dirname, _, filenames in os.walk('/kaggle/input'):\n",
    "    for filename in filenames:\n",
    "        print(os.path.join(dirname, filename))\n",
    "\n",
    "# You can write up to 5GB to the current directory (/kaggle/working/) that gets preserved as output when you create a version using \"Save & Run All\" \n",
    "# You can also write temporary files to /kaggle/temp/, but they won't be saved outside of the current session\n",
    "\n",
    "\n",
    "from sklearn.model_selection import train_test_split, GridSearchCV, cross_val_score\n",
    "from sklearn.metrics import mean_absolute_error\n",
    "from sklearn.impute import SimpleImputer\n",
    "from sklearn.preprocessing import StandardScaler,OneHotEncoder\n",
    "from sklearn.compose import ColumnTransformer\n",
    "from sklearn.pipeline import Pipeline\n",
    "import matplotlib.pyplot as plt\n",
    "%matplotlib inline\n",
    "from xgboost import XGBRegressor\n",
    "pd.set_option('display.max_columns', None)"
   ]
  },
  {
   "cell_type": "markdown",
   "metadata": {
    "papermill": {
     "duration": 0.018834,
     "end_time": "2023-03-24T19:58:23.653376",
     "exception": false,
     "start_time": "2023-03-24T19:58:23.634542",
     "status": "completed"
    },
    "tags": []
   },
   "source": [
    "# Helper functions   <a id='functions'></a>   "
   ]
  },
  {
   "cell_type": "markdown",
   "metadata": {
    "papermill": {
     "duration": 0.018367,
     "end_time": "2023-03-24T19:58:23.692306",
     "exception": false,
     "start_time": "2023-03-24T19:58:23.673939",
     "status": "completed"
    },
    "tags": []
   },
   "source": [
    "<div class=\"alert alert-block alert-info\">\n",
    "<b>Tip:</b> We will use some helper functions throughout the notebook. Collecting them in one place is a good idea, making the code more organized.\n",
    "</div>"
   ]
  },
  {
   "cell_type": "code",
   "execution_count": 2,
   "metadata": {
    "execution": {
     "iopub.execute_input": "2023-03-24T19:58:23.734785Z",
     "iopub.status.busy": "2023-03-24T19:58:23.733945Z",
     "iopub.status.idle": "2023-03-24T19:58:23.740551Z",
     "shell.execute_reply": "2023-03-24T19:58:23.739777Z",
     "shell.execute_reply.started": "2022-09-27T10:28:21.774334Z"
    },
    "papermill": {
     "duration": 0.030018,
     "end_time": "2023-03-24T19:58:23.740685",
     "exception": false,
     "start_time": "2023-03-24T19:58:23.710667",
     "status": "completed"
    },
    "scrolled": true,
    "tags": []
   },
   "outputs": [],
   "source": [
    "def save_file (predictions):\n",
    "    \"\"\"Save submission file.\"\"\"\n",
    "    # Save test predictions to file\n",
    "    output = pd.DataFrame({'Id': sample_submission_file.Id,\n",
    "                       'SalePrice': predictions})\n",
    "    output.to_csv('submission.csv', index=False)\n",
    "    print (\"Submission file is saved\")"
   ]
  },
  {
   "cell_type": "code",
   "execution_count": 3,
   "metadata": {
    "execution": {
     "iopub.execute_input": "2023-03-24T19:58:23.783766Z",
     "iopub.status.busy": "2023-03-24T19:58:23.782755Z",
     "iopub.status.idle": "2023-03-24T19:58:23.902595Z",
     "shell.execute_reply": "2023-03-24T19:58:23.903126Z",
     "shell.execute_reply.started": "2022-09-27T10:28:21.783386Z"
    },
    "papermill": {
     "duration": 0.142178,
     "end_time": "2023-03-24T19:58:23.903286",
     "exception": false,
     "start_time": "2023-03-24T19:58:23.761108",
     "status": "completed"
    },
    "scrolled": true,
    "tags": []
   },
   "outputs": [
    {
     "name": "stdout",
     "output_type": "stream",
     "text": [
      "Data is OK\n"
     ]
    }
   ],
   "source": [
    "# Read the data\n",
    "train_data = pd.read_csv('/kaggle/input/home-data-for-ml-course/train.csv', index_col='Id')\n",
    "X_test = pd.read_csv('/kaggle/input/home-data-for-ml-course/test.csv', index_col='Id')\n",
    "X = train_data.copy()\n",
    "\n",
    "# Remove rows with missing target, separate target from predictors\n",
    "X.dropna(axis=0, subset=['SalePrice'], inplace=True)\n",
    "y = X.SalePrice              \n",
    "X.drop(['SalePrice', 'Utilities'], axis=1, inplace=True)\n",
    "X_test.drop(['Utilities'], axis=1, inplace=True)\n",
    "\n",
    "# Break off validation set from training data\n",
    "X_train, X_valid, y_train, y_valid = train_test_split(X, y, train_size=0.8, test_size=0.2,\n",
    "                                                                random_state=0)\n",
    "\n",
    "sample_submission_file = pd.read_csv(\"/kaggle/input/home-data-for-ml-course/sample_submission.csv\")\n",
    "\n",
    "print('Data is OK')"
   ]
  },
  {
   "cell_type": "markdown",
   "metadata": {
    "papermill": {
     "duration": 0.018461,
     "end_time": "2023-03-24T19:58:23.941470",
     "exception": false,
     "start_time": "2023-03-24T19:58:23.923009",
     "status": "completed"
    },
    "tags": []
   },
   "source": [
    "# Preprocessing  <a id='preprocessing'></a>"
   ]
  },
  {
   "cell_type": "code",
   "execution_count": 4,
   "metadata": {
    "execution": {
     "iopub.execute_input": "2023-03-24T19:58:23.982462Z",
     "iopub.status.busy": "2023-03-24T19:58:23.981741Z",
     "iopub.status.idle": "2023-03-24T19:58:23.999386Z",
     "shell.execute_reply": "2023-03-24T19:58:23.998796Z",
     "shell.execute_reply.started": "2022-09-27T10:28:21.907629Z"
    },
    "papermill": {
     "duration": 0.039306,
     "end_time": "2023-03-24T19:58:23.999525",
     "exception": false,
     "start_time": "2023-03-24T19:58:23.960219",
     "status": "completed"
    },
    "scrolled": true,
    "tags": []
   },
   "outputs": [
    {
     "name": "stdout",
     "output_type": "stream",
     "text": [
      "Number of missing values in each column:\n",
      "LotFrontage      212\n",
      "Alley           1097\n",
      "MasVnrType         6\n",
      "MasVnrArea         6\n",
      "BsmtQual          28\n",
      "BsmtCond          28\n",
      "BsmtExposure      28\n",
      "BsmtFinType1      28\n",
      "BsmtFinType2      29\n",
      "Electrical         1\n",
      "FireplaceQu      551\n",
      "GarageType        58\n",
      "GarageYrBlt       58\n",
      "GarageFinish      58\n",
      "GarageQual        58\n",
      "GarageCond        58\n",
      "PoolQC          1164\n",
      "Fence            954\n",
      "MiscFeature     1119\n",
      "dtype: int64\n"
     ]
    }
   ],
   "source": [
    "# Select object columns\n",
    "categorical_cols = [cname for cname in X_train.columns if X_train[cname].dtype == \"object\"]\n",
    "\n",
    "# Select numeric columns\n",
    "numerical_cols = [cname for cname in X_train.columns if X_train[cname].dtype in ['int64', 'float64']]\n",
    "\n",
    "# Number of missing values in each column of training data\n",
    "missing_val_count_by_column_train = (X_train.isnull().sum())\n",
    "print(\"Number of missing values in each column:\")\n",
    "print(missing_val_count_by_column_train[missing_val_count_by_column_train > 0])"
   ]
  },
  {
   "cell_type": "code",
   "execution_count": 5,
   "metadata": {
    "execution": {
     "iopub.execute_input": "2023-03-24T19:58:24.048151Z",
     "iopub.status.busy": "2023-03-24T19:58:24.045963Z",
     "iopub.status.idle": "2023-03-24T19:58:24.052671Z",
     "shell.execute_reply": "2023-03-24T19:58:24.052083Z",
     "shell.execute_reply.started": "2022-09-27T10:28:21.926479Z"
    },
    "papermill": {
     "duration": 0.033925,
     "end_time": "2023-03-24T19:58:24.052796",
     "exception": false,
     "start_time": "2023-03-24T19:58:24.018871",
     "status": "completed"
    },
    "scrolled": true,
    "tags": []
   },
   "outputs": [
    {
     "name": "stdout",
     "output_type": "stream",
     "text": [
      "Number of missing values in numerical columns:\n",
      "LotFrontage    212\n",
      "MasVnrArea       6\n",
      "GarageYrBlt     58\n",
      "dtype: int64\n"
     ]
    }
   ],
   "source": [
    "# Number of missing values in numerical columns\n",
    "missing_val_count_by_column_numeric = (X_train[numerical_cols].isnull().sum())\n",
    "print(\"Number of missing values in numerical columns:\")\n",
    "print(missing_val_count_by_column_numeric[missing_val_count_by_column_numeric > 0])"
   ]
  },
  {
   "cell_type": "code",
   "execution_count": 6,
   "metadata": {
    "execution": {
     "iopub.execute_input": "2023-03-24T19:58:24.099551Z",
     "iopub.status.busy": "2023-03-24T19:58:24.098837Z",
     "iopub.status.idle": "2023-03-24T19:58:24.102727Z",
     "shell.execute_reply": "2023-03-24T19:58:24.102184Z",
     "shell.execute_reply.started": "2022-09-27T10:28:21.939134Z"
    },
    "papermill": {
     "duration": 0.030645,
     "end_time": "2023-03-24T19:58:24.102848",
     "exception": false,
     "start_time": "2023-03-24T19:58:24.072203",
     "status": "completed"
    },
    "scrolled": true,
    "tags": []
   },
   "outputs": [],
   "source": [
    "# Imputation lists\n",
    "\n",
    "# imputation to null values of these numerical columns need to be 'constant'\n",
    "constant_num_cols = ['GarageYrBlt', 'MasVnrArea']\n",
    "\n",
    "# imputation to null values of these numerical columns need to be 'mean'\n",
    "mean_num_cols = list(set(numerical_cols).difference(set(constant_num_cols)))\n",
    "\n",
    "# imputation to null values of these categorical columns need to be 'constant'\n",
    "constant_categorical_cols = ['Alley', 'MasVnrType', 'BsmtQual', 'BsmtCond', 'BsmtExposure', 'BsmtFinType1', 'BsmtFinType2', 'FireplaceQu',\n",
    "                             'GarageType', 'GarageFinish', 'GarageQual', 'GarageCond', 'PoolQC', 'Fence', 'MiscFeature']\n",
    "\n",
    "# imputation to null values of these categorical columns need to be 'most_frequent'\n",
    "mf_categorical_cols = list(set(categorical_cols).difference(set(constant_categorical_cols)))\n",
    "\n",
    "my_cols = constant_num_cols + mean_num_cols + constant_categorical_cols + mf_categorical_cols"
   ]
  },
  {
   "cell_type": "code",
   "execution_count": 7,
   "metadata": {
    "execution": {
     "iopub.execute_input": "2023-03-24T19:58:24.151522Z",
     "iopub.status.busy": "2023-03-24T19:58:24.150749Z",
     "iopub.status.idle": "2023-03-24T19:58:24.154737Z",
     "shell.execute_reply": "2023-03-24T19:58:24.154204Z",
     "shell.execute_reply.started": "2022-09-27T10:28:21.948027Z"
    },
    "papermill": {
     "duration": 0.03216,
     "end_time": "2023-03-24T19:58:24.154857",
     "exception": false,
     "start_time": "2023-03-24T19:58:24.122697",
     "status": "completed"
    },
    "scrolled": true,
    "tags": []
   },
   "outputs": [],
   "source": [
    "# Define transformers\n",
    "# Preprocessing for numerical data\n",
    "\n",
    "numerical_transformer_m = Pipeline(steps=[\n",
    "    ('imputer', SimpleImputer(strategy='mean')),\n",
    "    ('scaler', StandardScaler())])\n",
    "\n",
    "numerical_transformer_c = Pipeline(steps=[\n",
    "    ('imputer', SimpleImputer(strategy='constant', fill_value=0)),\n",
    "    ('scaler', StandardScaler())])\n",
    "\n",
    "\n",
    "# Preprocessing for categorical data for most frequent\n",
    "categorical_transformer_mf = Pipeline(steps=[\n",
    "    ('imputer', SimpleImputer(strategy='most_frequent')),\n",
    "    ('onehot', OneHotEncoder(handle_unknown = 'ignore', sparse = False))\n",
    "])\n",
    "\n",
    "# Preprocessing for categorical data for constant\n",
    "categorical_transformer_c = Pipeline(steps=[\n",
    "    ('imputer', SimpleImputer(strategy='constant', fill_value='NA')),\n",
    "    ('onehot', OneHotEncoder(handle_unknown = 'ignore', sparse = False))\n",
    "])\n",
    "\n",
    "\n",
    "# Bundle preprocessing for numerical and categorical data\n",
    "preprocessor = ColumnTransformer(\n",
    "    transformers=[\n",
    "        ('num_mean', numerical_transformer_m, mean_num_cols),\n",
    "        ('num_constant', numerical_transformer_c, constant_num_cols),\n",
    "        ('cat_mf', categorical_transformer_mf, mf_categorical_cols),\n",
    "        ('cat_c', categorical_transformer_c, constant_categorical_cols)\n",
    "    ])"
   ]
  },
  {
   "cell_type": "code",
   "execution_count": 8,
   "metadata": {
    "execution": {
     "iopub.execute_input": "2023-03-24T19:58:24.197369Z",
     "iopub.status.busy": "2023-03-24T19:58:24.196732Z",
     "iopub.status.idle": "2023-03-24T19:58:24.201761Z",
     "shell.execute_reply": "2023-03-24T19:58:24.202304Z",
     "shell.execute_reply.started": "2022-09-27T10:28:21.965133Z"
    },
    "papermill": {
     "duration": 0.028249,
     "end_time": "2023-03-24T19:58:24.202461",
     "exception": false,
     "start_time": "2023-03-24T19:58:24.174212",
     "status": "completed"
    },
    "scrolled": true,
    "tags": []
   },
   "outputs": [],
   "source": [
    "# Define Model\n",
    "model = XGBRegressor(learning_rate = 0.1,\n",
    "                            n_estimators=500,\n",
    "                            max_depth=5,\n",
    "                            min_child_weight=1,\n",
    "                            gamma=0,\n",
    "                            subsample=0.8,\n",
    "                            colsample_bytree=0.8,\n",
    "                            reg_alpha = 0,\n",
    "                            reg_lambda = 1,\n",
    "                            random_state=0)"
   ]
  },
  {
   "cell_type": "code",
   "execution_count": 9,
   "metadata": {
    "execution": {
     "iopub.execute_input": "2023-03-24T19:58:24.245067Z",
     "iopub.status.busy": "2023-03-24T19:58:24.244361Z",
     "iopub.status.idle": "2023-03-24T19:58:24.248728Z",
     "shell.execute_reply": "2023-03-24T19:58:24.248214Z",
     "shell.execute_reply.started": "2022-09-27T10:28:21.980819Z"
    },
    "papermill": {
     "duration": 0.026715,
     "end_time": "2023-03-24T19:58:24.248852",
     "exception": false,
     "start_time": "2023-03-24T19:58:24.222137",
     "status": "completed"
    },
    "scrolled": true,
    "tags": []
   },
   "outputs": [],
   "source": [
    "# Define XGBRegressor fitting parameters for the pipeline\n",
    "fit_params = {\"model__eval_metric\" : \"mae\"}"
   ]
  },
  {
   "cell_type": "code",
   "execution_count": 10,
   "metadata": {
    "execution": {
     "iopub.execute_input": "2023-03-24T19:58:24.301951Z",
     "iopub.status.busy": "2023-03-24T19:58:24.300629Z",
     "iopub.status.idle": "2023-03-24T19:58:24.304331Z",
     "shell.execute_reply": "2023-03-24T19:58:24.303305Z",
     "shell.execute_reply.started": "2022-09-27T10:28:21.993260Z"
    },
    "papermill": {
     "duration": 0.035015,
     "end_time": "2023-03-24T19:58:24.304546",
     "exception": false,
     "start_time": "2023-03-24T19:58:24.269531",
     "status": "completed"
    },
    "scrolled": true,
    "tags": []
   },
   "outputs": [],
   "source": [
    "# Create the Pipeline\n",
    "# Bundle preprocessing and modeling code in a pipeline\n",
    "my_pipeline = Pipeline(steps=[('preprocessor', preprocessor),\n",
    "                              ('model', model)\n",
    "                             ])"
   ]
  },
  {
   "cell_type": "code",
   "execution_count": 11,
   "metadata": {
    "execution": {
     "iopub.execute_input": "2023-03-24T19:58:24.357496Z",
     "iopub.status.busy": "2023-03-24T19:58:24.356769Z",
     "iopub.status.idle": "2023-03-24T19:58:24.366317Z",
     "shell.execute_reply": "2023-03-24T19:58:24.365741Z",
     "shell.execute_reply.started": "2022-09-27T10:28:22.003019Z"
    },
    "papermill": {
     "duration": 0.039513,
     "end_time": "2023-03-24T19:58:24.366462",
     "exception": false,
     "start_time": "2023-03-24T19:58:24.326949",
     "status": "completed"
    },
    "scrolled": true,
    "tags": []
   },
   "outputs": [],
   "source": [
    "# Preprocessing of training data\n",
    "X_cv = X[my_cols].copy()\n",
    "X_sub = X_test[my_cols].copy()"
   ]
  },
  {
   "cell_type": "markdown",
   "metadata": {
    "papermill": {
     "duration": 0.018988,
     "end_time": "2023-03-24T19:58:24.404948",
     "exception": false,
     "start_time": "2023-03-24T19:58:24.385960",
     "status": "completed"
    },
    "tags": []
   },
   "source": [
    "# Using GridSearchCV <a id='gridsearch'></a>"
   ]
  },
  {
   "cell_type": "markdown",
   "metadata": {
    "papermill": {
     "duration": 0.019341,
     "end_time": "2023-03-24T19:58:24.444097",
     "exception": false,
     "start_time": "2023-03-24T19:58:24.424756",
     "status": "completed"
    },
    "tags": []
   },
   "source": [
    "<div class=\"alert alert-block alert-info\">\n",
    "<b>Tip:</b> First, we need to define parameters for our model as a dictionary to make the grid search work.\n",
    "</div>"
   ]
  },
  {
   "cell_type": "code",
   "execution_count": 12,
   "metadata": {
    "execution": {
     "iopub.execute_input": "2023-03-24T19:58:24.490258Z",
     "iopub.status.busy": "2023-03-24T19:58:24.489554Z",
     "iopub.status.idle": "2023-03-24T19:58:24.493922Z",
     "shell.execute_reply": "2023-03-24T19:58:24.493338Z",
     "shell.execute_reply.started": "2022-09-27T10:28:22.021620Z"
    },
    "papermill": {
     "duration": 0.03056,
     "end_time": "2023-03-24T19:58:24.494084",
     "exception": false,
     "start_time": "2023-03-24T19:58:24.463524",
     "status": "completed"
    },
    "tags": []
   },
   "outputs": [],
   "source": [
    "# Define model parameters for grid search\n",
    "param_grid = {'model__learning_rate': [0.05],\n",
    "              'model__n_estimators': [500],\n",
    "              'model__max_depth': [5, 6, 7],\n",
    "              'model__min_child_weight': [1, 2],\n",
    "              'model__gamma': [0],\n",
    "              'model__subsample': [0.70, 0.80],\n",
    "              'model__colsample_bytree': [0.70, 0.80]}"
   ]
  },
  {
   "cell_type": "code",
   "execution_count": 13,
   "metadata": {
    "execution": {
     "iopub.execute_input": "2023-03-24T19:58:24.536414Z",
     "iopub.status.busy": "2023-03-24T19:58:24.535669Z",
     "iopub.status.idle": "2023-03-24T20:04:43.822254Z",
     "shell.execute_reply": "2023-03-24T20:04:43.822808Z",
     "shell.execute_reply.started": "2022-09-27T10:28:22.029035Z"
    },
    "papermill": {
     "duration": 379.309385,
     "end_time": "2023-03-24T20:04:43.823004",
     "exception": false,
     "start_time": "2023-03-24T19:58:24.513619",
     "status": "completed"
    },
    "tags": []
   },
   "outputs": [
    {
     "data": {
      "text/plain": [
       "GridSearchCV(cv=5,\n",
       "             estimator=Pipeline(steps=[('preprocessor',\n",
       "                                        ColumnTransformer(transformers=[('num_mean',\n",
       "                                                                         Pipeline(steps=[('imputer',\n",
       "                                                                                          SimpleImputer()),\n",
       "                                                                                         ('scaler',\n",
       "                                                                                          StandardScaler())]),\n",
       "                                                                         ['2ndFlrSF',\n",
       "                                                                          'OverallCond',\n",
       "                                                                          'GrLivArea',\n",
       "                                                                          'MiscVal',\n",
       "                                                                          'KitchenAbvGr',\n",
       "                                                                          'GarageArea',\n",
       "                                                                          'YrSold',\n",
       "                                                                          'YearRemodAdd',\n",
       "                                                                          'LowQualFinSF',\n",
       "                                                                          '1stFlrSF',\n",
       "                                                                          'YearBuilt',\n",
       "                                                                          'BsmtFullBath',\n",
       "                                                                          'MSSubClass',\n",
       "                                                                          'MoSol...\n",
       "                                                     scale_pos_weight=None,\n",
       "                                                     subsample=0.8,\n",
       "                                                     tree_method=None,\n",
       "                                                     validate_parameters=None,\n",
       "                                                     verbosity=None))]),\n",
       "             n_jobs=-1,\n",
       "             param_grid={'model__colsample_bytree': [0.7, 0.8],\n",
       "                         'model__gamma': [0], 'model__learning_rate': [0.05],\n",
       "                         'model__max_depth': [5, 6, 7],\n",
       "                         'model__min_child_weight': [1, 2],\n",
       "                         'model__n_estimators': [500],\n",
       "                         'model__subsample': [0.7, 0.8]},\n",
       "             scoring='neg_mean_absolute_error')"
      ]
     },
     "execution_count": 13,
     "metadata": {},
     "output_type": "execute_result"
    }
   ],
   "source": [
    "# Perform grid search\n",
    "# Use model parameters defined above.\n",
    "search = GridSearchCV(my_pipeline, param_grid, cv=5, n_jobs=-1,scoring='neg_mean_absolute_error')\n",
    "search.fit(X_cv, y)"
   ]
  },
  {
   "cell_type": "code",
   "execution_count": 14,
   "metadata": {
    "execution": {
     "iopub.execute_input": "2023-03-24T20:04:43.890364Z",
     "iopub.status.busy": "2023-03-24T20:04:43.885222Z",
     "iopub.status.idle": "2023-03-24T20:04:44.124371Z",
     "shell.execute_reply": "2023-03-24T20:04:44.123745Z",
     "shell.execute_reply.started": "2022-09-27T10:34:35.943074Z"
    },
    "papermill": {
     "duration": 0.281117,
     "end_time": "2023-03-24T20:04:44.124500",
     "exception": false,
     "start_time": "2023-03-24T20:04:43.843383",
     "status": "completed"
    },
    "tags": []
   },
   "outputs": [
    {
     "data": {
      "text/plain": [
       "Pipeline(steps=[('preprocessor',\n",
       "                 ColumnTransformer(transformers=[('num_mean',\n",
       "                                                  Pipeline(steps=[('imputer',\n",
       "                                                                   SimpleImputer()),\n",
       "                                                                  ('scaler',\n",
       "                                                                   StandardScaler())]),\n",
       "                                                  ['2ndFlrSF', 'OverallCond',\n",
       "                                                   'GrLivArea', 'MiscVal',\n",
       "                                                   'KitchenAbvGr', 'GarageArea',\n",
       "                                                   'YrSold', 'YearRemodAdd',\n",
       "                                                   'LowQualFinSF', '1stFlrSF',\n",
       "                                                   'YearBuilt', 'BsmtFullBath',\n",
       "                                                   'MSSubClass', 'MoSold',\n",
       "                                                   'BsmtHalfBath',\n",
       "                                                   'OpenPorch...\n",
       "                              colsample_bytree=0.8, gamma=0, gpu_id=-1,\n",
       "                              importance_type='gain',\n",
       "                              interaction_constraints='', learning_rate=0.05,\n",
       "                              max_delta_step=0, max_depth=5, min_child_weight=1,\n",
       "                              missing=nan, monotone_constraints='()',\n",
       "                              n_estimators=500, n_jobs=0, num_parallel_tree=1,\n",
       "                              random_state=0, reg_alpha=0, reg_lambda=1,\n",
       "                              scale_pos_weight=1, subsample=0.7,\n",
       "                              tree_method='exact', validate_parameters=1,\n",
       "                              verbosity=None))])"
      ]
     },
     "execution_count": 14,
     "metadata": {},
     "output_type": "execute_result"
    }
   ],
   "source": [
    "# Best estimator\n",
    "search.best_estimator_"
   ]
  },
  {
   "cell_type": "code",
   "execution_count": 15,
   "metadata": {
    "execution": {
     "iopub.execute_input": "2023-03-24T20:04:44.170977Z",
     "iopub.status.busy": "2023-03-24T20:04:44.169993Z",
     "iopub.status.idle": "2023-03-24T20:04:44.175242Z",
     "shell.execute_reply": "2023-03-24T20:04:44.174656Z",
     "shell.execute_reply.started": "2022-09-27T10:34:36.196334Z"
    },
    "papermill": {
     "duration": 0.030697,
     "end_time": "2023-03-24T20:04:44.175362",
     "exception": false,
     "start_time": "2023-03-24T20:04:44.144665",
     "status": "completed"
    },
    "tags": []
   },
   "outputs": [
    {
     "data": {
      "text/plain": [
       "{'model__colsample_bytree': 0.8,\n",
       " 'model__gamma': 0,\n",
       " 'model__learning_rate': 0.05,\n",
       " 'model__max_depth': 5,\n",
       " 'model__min_child_weight': 1,\n",
       " 'model__n_estimators': 500,\n",
       " 'model__subsample': 0.7}"
      ]
     },
     "execution_count": 15,
     "metadata": {},
     "output_type": "execute_result"
    }
   ],
   "source": [
    "# Best parameters\n",
    "search.best_params_"
   ]
  },
  {
   "cell_type": "markdown",
   "metadata": {
    "papermill": {
     "duration": 0.019964,
     "end_time": "2023-03-24T20:04:44.215731",
     "exception": false,
     "start_time": "2023-03-24T20:04:44.195767",
     "status": "completed"
    },
    "tags": []
   },
   "source": [
    "# Cross-validation <a id='cross-validation'></a>"
   ]
  },
  {
   "cell_type": "markdown",
   "metadata": {
    "papermill": {
     "duration": 0.020617,
     "end_time": "2023-03-24T20:04:44.256647",
     "exception": false,
     "start_time": "2023-03-24T20:04:44.236030",
     "status": "completed"
    },
    "tags": []
   },
   "source": [
    "<div class=\"alert alert-block alert-info\">\n",
    "<b>Tip:</b> Cross-validation is performed using the newly obtained model from grid search and the complete training set.\n",
    "</div>"
   ]
  },
  {
   "cell_type": "code",
   "execution_count": 16,
   "metadata": {
    "execution": {
     "iopub.execute_input": "2023-03-24T20:04:44.308654Z",
     "iopub.status.busy": "2023-03-24T20:04:44.307955Z",
     "iopub.status.idle": "2023-03-24T20:04:44.311148Z",
     "shell.execute_reply": "2023-03-24T20:04:44.310554Z",
     "shell.execute_reply.started": "2022-09-27T10:34:36.204305Z"
    },
    "papermill": {
     "duration": 0.031151,
     "end_time": "2023-03-24T20:04:44.311273",
     "exception": false,
     "start_time": "2023-03-24T20:04:44.280122",
     "status": "completed"
    },
    "tags": []
   },
   "outputs": [],
   "source": [
    "# Get the best parameters from the grid search\n",
    "\n",
    "# https://stackoverflow.com/questions/41475539/using-best-params-from-gridsearchcv\n",
    "# @Cybercop, @Oliver Dain, @T. Shiftlet \n",
    "parameters={x.replace(\"model__\", \"\"): v for x, v in search.best_params_.items()}\n",
    "\n",
    "# Update the model and the pipeline with the new set of parameters.\n",
    "model = XGBRegressor(**parameters)\n",
    "\n",
    "my_pipeline = Pipeline(steps=[('preprocessor', preprocessor),\n",
    "                              ('model', model)\n",
    "                             ])"
   ]
  },
  {
   "cell_type": "code",
   "execution_count": 17,
   "metadata": {
    "execution": {
     "iopub.execute_input": "2023-03-24T20:04:44.369565Z",
     "iopub.status.busy": "2023-03-24T20:04:44.363992Z",
     "iopub.status.idle": "2023-03-24T20:05:00.457327Z",
     "shell.execute_reply": "2023-03-24T20:05:00.458810Z",
     "shell.execute_reply.started": "2022-09-27T10:34:36.217564Z"
    },
    "papermill": {
     "duration": 16.127458,
     "end_time": "2023-03-24T20:05:00.459209",
     "exception": false,
     "start_time": "2023-03-24T20:04:44.331751",
     "status": "completed"
    },
    "tags": []
   },
   "outputs": [
    {
     "name": "stdout",
     "output_type": "stream",
     "text": [
      "MAE score:\n",
      " [13988.77418664 15567.83078714 15789.73743846 13408.0321463\n",
      " 15222.89600278]\n",
      "MAE mean: 14795.454112264555\n",
      "MAE std: 932.0454757639612\n"
     ]
    }
   ],
   "source": [
    "# Multiply by -1 since sklearn calculates *negative* MAE\n",
    "scores = -1 * cross_val_score(my_pipeline, X_cv, y,\n",
    "                              cv=5,\n",
    "                              scoring='neg_mean_absolute_error')\n",
    "\n",
    "print(\"MAE score:\\n\", scores)\n",
    "print(\"MAE mean: {}\".format(scores.mean()))\n",
    "print(\"MAE std: {}\".format(scores.std()))"
   ]
  },
  {
   "cell_type": "markdown",
   "metadata": {
    "papermill": {
     "duration": 0.027808,
     "end_time": "2023-03-24T20:05:00.515975",
     "exception": false,
     "start_time": "2023-03-24T20:05:00.488167",
     "status": "completed"
    },
    "tags": []
   },
   "source": [
    "# Prediction   <a id='prediction'></a>"
   ]
  },
  {
   "cell_type": "code",
   "execution_count": 18,
   "metadata": {
    "execution": {
     "iopub.execute_input": "2023-03-24T20:05:00.582863Z",
     "iopub.status.busy": "2023-03-24T20:05:00.581793Z",
     "iopub.status.idle": "2023-03-24T20:05:04.504370Z",
     "shell.execute_reply": "2023-03-24T20:05:04.505115Z",
     "shell.execute_reply.started": "2022-09-27T10:34:50.786848Z"
    },
    "papermill": {
     "duration": 3.960749,
     "end_time": "2023-03-24T20:05:04.505316",
     "exception": false,
     "start_time": "2023-03-24T20:05:00.544567",
     "status": "completed"
    },
    "scrolled": true,
    "tags": []
   },
   "outputs": [],
   "source": [
    "# Fit model\n",
    "my_pipeline.fit(X_cv, y)\n",
    "\n",
    "# Get predictions\n",
    "preds = my_pipeline.predict(X_sub)"
   ]
  },
  {
   "cell_type": "markdown",
   "metadata": {
    "papermill": {
     "duration": 0.027272,
     "end_time": "2023-03-24T20:05:04.559494",
     "exception": false,
     "start_time": "2023-03-24T20:05:04.532222",
     "status": "completed"
    },
    "tags": []
   },
   "source": [
    "# Saving and submission   <a id='saving'></a>"
   ]
  },
  {
   "cell_type": "code",
   "execution_count": 19,
   "metadata": {
    "execution": {
     "iopub.execute_input": "2023-03-24T20:05:04.622476Z",
     "iopub.status.busy": "2023-03-24T20:05:04.621432Z",
     "iopub.status.idle": "2023-03-24T20:05:04.905144Z",
     "shell.execute_reply": "2023-03-24T20:05:04.904458Z",
     "shell.execute_reply.started": "2022-09-27T10:34:54.299714Z"
    },
    "papermill": {
     "duration": 0.31693,
     "end_time": "2023-03-24T20:05:04.905281",
     "exception": false,
     "start_time": "2023-03-24T20:05:04.588351",
     "status": "completed"
    },
    "scrolled": true,
    "tags": []
   },
   "outputs": [
    {
     "name": "stdout",
     "output_type": "stream",
     "text": [
      "Submission file is saved\n"
     ]
    }
   ],
   "source": [
    "# Use predefined utility function\n",
    "save_file(preds)"
   ]
  },
  {
   "cell_type": "markdown",
   "metadata": {
    "papermill": {
     "duration": 0.020743,
     "end_time": "2023-03-24T20:05:04.947217",
     "exception": false,
     "start_time": "2023-03-24T20:05:04.926474",
     "status": "completed"
    },
    "tags": []
   },
   "source": [
    "# References   <a id='references'></a>\n",
    "* [10-simple-hacks-to-speed-up-your-data-analysis - Parul Pandey](https://www.kaggle.com/parulpandey/10-simple-hacks-to-speed-up-your-data-analysis)\n",
    "* [Tuning the Hyper-parameters of an Estimator](https://scikit-learn.org/stable/modules/grid_search.html)\n",
    "* [Intermediate Machine Learning Course - Pipelines](https://www.kaggle.com/alexisbcook/pipelines)\n",
    "* [Kaggle Learn](https://www.kaggle.com/learn/overview)\n",
    "* [Using the Best Parameters](https://stackoverflow.com/questions/41475539/using-best-params-from-gridsearchcv)"
   ]
  }
 ],
 "metadata": {
  "kernelspec": {
   "display_name": "Python 3",
   "language": "python",
   "name": "python3"
  },
  "language_info": {
   "codemirror_mode": {
    "name": "ipython",
    "version": 3
   },
   "file_extension": ".py",
   "mimetype": "text/x-python",
   "name": "python",
   "nbconvert_exporter": "python",
   "pygments_lexer": "ipython3",
   "version": "3.7.6"
  },
  "papermill": {
   "duration": 408.285684,
   "end_time": "2023-03-24T20:05:05.090297",
   "environment_variables": {},
   "exception": null,
   "input_path": "__notebook__.ipynb",
   "output_path": "__notebook__.ipynb",
   "parameters": {},
   "start_time": "2023-03-24T19:58:16.804613",
   "version": "2.1.0"
  }
 },
 "nbformat": 4,
 "nbformat_minor": 4
}
