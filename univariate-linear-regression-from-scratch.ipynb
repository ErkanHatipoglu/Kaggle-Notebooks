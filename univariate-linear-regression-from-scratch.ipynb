{
 "cells": [
  {
   "cell_type": "markdown",
   "id": "3e574929",
   "metadata": {
    "papermill": {
     "duration": 0.027999,
     "end_time": "2023-04-02T07:13:15.799767",
     "exception": false,
     "start_time": "2023-04-02T07:13:15.771768",
     "status": "completed"
    },
    "tags": []
   },
   "source": [
    "# Introduction  <a id='introduction'></a>\n",
    "\n",
    "This notebook contains Python code for a univariate linear regression task. Univariate linear regression means linear regression with one variable (feature). In addition to Python, we will also use Pandas, Numpy, and Matplotlib libraries. \n",
    "\n",
    "In this notebook, we will not dive into general concepts such as the definition of Machine Learning, unsupervised, or supervised learning. We will write Python code for the hypothesis, cost, and gradient descent functions. Next, we will train linear models with two different choices of $\\theta_i$, where $i = 0,1$. Finally, we will evaluate our model using the test dataset. You may refer to [my Medium post](https://pub.towardsai.net/univariate-linear-regression-from-scratch-68065fe8eb09) for a more detailed explanation of those concepts.You may also refer to my [Multivariate Linear Regression from Scratch](https://www.kaggle.com/code/erkanhatipoglu/multivariate-linear-regression-from-scratch) notebook for a multivariate linear regression task.\n",
    "\n",
    "This notebook is greatly inspired by the famous Machine Learning course by [Andrew Ng](https://www.andrewng.org/). As always, all the mistakes, if any, are made by me.\n",
    "\n",
    "Finally, thanks to [@andonians](https://www.kaggle.com/andonians) for this dataset. Unfortunately, he is not active recently.\n",
    "\n",
    "\n",
    "# Table of Contents\n",
    "* [Introduction](#introduction)\n",
    "* [Helper functions](#functions)\n",
    "* [The Hypothesis](#hypothesis)\n",
    "* [The Cost Function](#cost)\n",
    "* [Gradient Descent](#gradient)\n",
    "* [Loading Data](#getdata)\n",
    "* [Model Training](#training)\n",
    "* [Model Evaluation](#evaluation)\n",
    "* [Conclusion](#conclusion)\n",
    "* [References](#references)"
   ]
  },
  {
   "cell_type": "code",
   "execution_count": 1,
   "id": "f8e6d182",
   "metadata": {
    "_cell_guid": "b1076dfc-b9ad-4769-8c92-a6c4dae69d19",
    "_uuid": "8f2839f25d086af736a60e9eeb907d3b93b6e0e5",
    "execution": {
     "iopub.execute_input": "2023-04-02T07:13:15.855624Z",
     "iopub.status.busy": "2023-04-02T07:13:15.854369Z",
     "iopub.status.idle": "2023-04-02T07:13:15.875004Z",
     "shell.execute_reply": "2023-04-02T07:13:15.874263Z",
     "shell.execute_reply.started": "2023-01-18T18:18:12.925755Z"
    },
    "papermill": {
     "duration": 0.048456,
     "end_time": "2023-04-02T07:13:15.875194",
     "exception": false,
     "start_time": "2023-04-02T07:13:15.826738",
     "status": "completed"
    },
    "tags": []
   },
   "outputs": [
    {
     "name": "stdout",
     "output_type": "stream",
     "text": [
      "/kaggle/input/random-linear-regression/train.csv\n",
      "/kaggle/input/random-linear-regression/test.csv\n"
     ]
    }
   ],
   "source": [
    "# This Python 3 environment comes with many helpful analytics libraries installed\n",
    "# It is defined by the kaggle/python Docker image: https://github.com/kaggle/docker-python\n",
    "# For example, here's several helpful packages to load\n",
    "\n",
    "import numpy as np # linear algebra\n",
    "import pandas as pd # data processing, CSV file I/O (e.g. pd.read_csv)\n",
    "\n",
    "# Input data files are available in the read-only \"../input/\" directory\n",
    "# For example, running this (by clicking run or pressing Shift+Enter) will list all files under the input directory\n",
    "\n",
    "import os\n",
    "for dirname, _, filenames in os.walk('/kaggle/input'):\n",
    "    for filename in filenames:\n",
    "        print(os.path.join(dirname, filename))\n",
    "\n",
    "# You can write up to 20GB to the current directory (/kaggle/working/) that gets preserved as output when you create a version using \"Save & Run All\" \n",
    "# You can also write temporary files to /kaggle/temp/, but they won't be saved outside of the current session\n",
    "\n",
    "import matplotlib.pyplot as plt\n",
    "%matplotlib inline"
   ]
  },
  {
   "cell_type": "markdown",
   "id": "53562e76",
   "metadata": {
    "papermill": {
     "duration": 0.020943,
     "end_time": "2023-04-02T07:13:15.917625",
     "exception": false,
     "start_time": "2023-04-02T07:13:15.896682",
     "status": "completed"
    },
    "tags": []
   },
   "source": [
    "# Helper Functions   <a id='functions'></a>   "
   ]
  },
  {
   "cell_type": "markdown",
   "id": "010f69a8",
   "metadata": {
    "papermill": {
     "duration": 0.020671,
     "end_time": "2023-04-02T07:13:15.959298",
     "exception": false,
     "start_time": "2023-04-02T07:13:15.938627",
     "status": "completed"
    },
    "tags": []
   },
   "source": [
    "<div class=\"alert alert-block alert-info\">\n",
    "<b>Tip:</b> Tip: We will use some helper functions throughout the notebook. Collecting them in one place is a good idea, making the code more organized. First, we will define and explain those functions and then use them in our code.\n",
    "</div>"
   ]
  },
  {
   "cell_type": "markdown",
   "id": "99765ffb",
   "metadata": {
    "papermill": {
     "duration": 0.021798,
     "end_time": "2023-04-02T07:13:16.003383",
     "exception": false,
     "start_time": "2023-04-02T07:13:15.981585",
     "status": "completed"
    },
    "tags": []
   },
   "source": [
    "# The  Hypothesis   <a id='hypothesis'></a>   "
   ]
  },
  {
   "attachments": {
    "013b81e3-d2fe-4798-8fdd-e6fb38662c94.png": {
     "image/png": "[encoded data removed]"
    }
   },
   "cell_type": "markdown",
   "id": "74d66f86",
   "metadata": {
    "papermill": {
     "duration": 0.020708,
     "end_time": "2023-04-02T07:13:16.045999",
     "exception": false,
     "start_time": "2023-04-02T07:13:16.025291",
     "status": "completed"
    },
    "tags": []
   },
   "source": [
    "The hypothesis is a potential model for a machine learning system, as shown in the figure below ([What is a Hypothesis in Machine Learning?](https://machinelearningmastery.com/what-is-a-hypothesis-in-machine-learning/#:~:text=A%20statistical%20hypothesis%20is%20an,for%20mapping%20inputs%20to%20outputs.)).\n",
    "\n",
    "![hypothesis.png](attachment:013b81e3-d2fe-4798-8fdd-e6fb38662c94.png)\n",
    "\n",
    "For a univariate linear regression model, the hypothesis is a linear equation of the form (Slope-intercept form) below:\n",
    "\n",
    "$\\hat{y} = h(x) = \\theta_0 + \\theta_1 x$\n",
    "\n",
    "Where $\\theta_0$ is the intercept, and $\\theta_1$ is the slope. Our hypothesis function will calculate the predicted values (or targets) for a given set of inputs (features) and thetas ($\\theta_i$, where $i = 0,1$). "
   ]
  },
  {
   "cell_type": "code",
   "execution_count": 2,
   "id": "78cf1358",
   "metadata": {
    "execution": {
     "iopub.execute_input": "2023-04-02T07:13:16.093587Z",
     "iopub.status.busy": "2023-04-02T07:13:16.092847Z",
     "iopub.status.idle": "2023-04-02T07:13:16.095615Z",
     "shell.execute_reply": "2023-04-02T07:13:16.095060Z",
     "shell.execute_reply.started": "2023-01-18T18:18:12.980518Z"
    },
    "papermill": {
     "duration": 0.028467,
     "end_time": "2023-04-02T07:13:16.095760",
     "exception": false,
     "start_time": "2023-04-02T07:13:16.067293",
     "status": "completed"
    },
    "tags": []
   },
   "outputs": [],
   "source": [
    "# The hypothesis\n",
    "def h(x, theta_0 = 0, theta_1 = 0):\n",
    "    \"\"\"\n",
    "    calculates the predicted values (or predicted targets) for a given set of inputs and thetas.\n",
    "    :param x: inputs (feature values) - Numpy array of floats \n",
    "    :param theta_0: intercept - float\n",
    "    :param theta_1: slope - float\n",
    "    :return: predicted targets - Numpy array of floats\n",
    "    \n",
    "    \"\"\"\n",
    "    return theta_0 + (theta_1 * x)"
   ]
  },
  {
   "cell_type": "markdown",
   "id": "5770dd51",
   "metadata": {
    "papermill": {
     "duration": 0.020671,
     "end_time": "2023-04-02T07:13:16.137728",
     "exception": false,
     "start_time": "2023-04-02T07:13:16.117057",
     "status": "completed"
    },
    "tags": []
   },
   "source": [
    "# The  Cost Function   <a id='cost'></a> "
   ]
  },
  {
   "cell_type": "markdown",
   "id": "31836b7c",
   "metadata": {
    "papermill": {
     "duration": 0.020809,
     "end_time": "2023-04-02T07:13:16.179595",
     "exception": false,
     "start_time": "2023-04-02T07:13:16.158786",
     "status": "completed"
    },
    "tags": []
   },
   "source": [
    "The question is how to select the best possible line for our data. In other words, how to choose the best $\\theta_i$, where $i = 0,1$, that fit our data for a hypothesis of the form $h(x) = \\theta_0 + \\theta_1 x$?\n",
    "\n",
    "Note that each value of $\\theta_i$ corresponds to a different hypothesis.\n",
    "\n",
    "We can choose $\\theta_i$ such that $h(x)$ is close to $y$ for all training examples.\n",
    "\n",
    "One solution for this problem is to minimize $(\\hat{y_i}-y_i)^2$ or, more precisely,\n",
    "\n",
    "minimize $J(\\theta_0, \\theta_1) = \\frac{1}{2m}\\sum_{i=1}^{m} (h(x_i)-y_i)^2$, where $m$ is the number of training samples.\n",
    "\n",
    "$J(\\theta_0, \\theta_1)$ is called the cost function, and the right-hand side of the equation is called the squared error function.  "
   ]
  },
  {
   "cell_type": "code",
   "execution_count": 3,
   "id": "3f80a5ff",
   "metadata": {
    "execution": {
     "iopub.execute_input": "2023-04-02T07:13:16.227856Z",
     "iopub.status.busy": "2023-04-02T07:13:16.227113Z",
     "iopub.status.idle": "2023-04-02T07:13:16.229176Z",
     "shell.execute_reply": "2023-04-02T07:13:16.229715Z",
     "shell.execute_reply.started": "2023-01-18T18:18:12.988520Z"
    },
    "papermill": {
     "duration": 0.029345,
     "end_time": "2023-04-02T07:13:16.229883",
     "exception": false,
     "start_time": "2023-04-02T07:13:16.200538",
     "status": "completed"
    },
    "tags": []
   },
   "outputs": [],
   "source": [
    "# Cost function\n",
    "def J(theta_0, theta_1, X, y):\n",
    "    \"\"\"\n",
    "     calculates the total error for a given set of inputs and thetas.\n",
    "    :param theta_0: intercept - float\n",
    "    :param theta_1: slope - float\n",
    "    :param X: inputs (feature values) - Numpy array of floats\n",
    "    :param y: inputs (actual target values) - Numpy array of floats \n",
    "    :return: total error - floats\n",
    "    \n",
    "    \"\"\"\n",
    "    diff = (np.subtract(h(X, theta_0, theta_1),np.asarray(y)))\n",
    "    diff_squared = np.square(diff)\n",
    "    return (diff_squared.sum()/(len(X)*2))\n"
   ]
  },
  {
   "cell_type": "markdown",
   "id": "5578e23e",
   "metadata": {
    "papermill": {
     "duration": 0.022661,
     "end_time": "2023-04-02T07:13:16.273892",
     "exception": false,
     "start_time": "2023-04-02T07:13:16.251231",
     "status": "completed"
    },
    "tags": []
   },
   "source": [
    "# Gradient Descent   <a id='gradient'></a> "
   ]
  },
  {
   "cell_type": "markdown",
   "id": "7c6cf62b",
   "metadata": {
    "papermill": {
     "duration": 0.020958,
     "end_time": "2023-04-02T07:13:16.316130",
     "exception": false,
     "start_time": "2023-04-02T07:13:16.295172",
     "status": "completed"
    },
    "tags": []
   },
   "source": [
    "The next question is how to minimize the cost function $J(\\theta_0, \\theta_1)$. We can use the gradient descent function for this purpose. Just like a person at the top of a mountain finds her way to the hillside by selecting the steepest direction in small steps, we can go in the opposite direction of the gradient of $J(\\theta_0, \\theta_1)$.\n",
    "\n",
    "So the gradient descent algorithm for univariate linear regression is as follows:\n",
    "\n",
    "repeat until convergence:\n",
    "\n",
    "$\\theta_i := \\theta_i - \\alpha\\dfrac{\\partial}{\\partial\\theta_i}J(\\theta_0, \\theta_1)$, where $i = 0,1$\n",
    "\n",
    "and if we solve this equation for $\\theta_0$ and $\\theta_1$, we will find:\n",
    "\n",
    "repeat until convergence: {\n",
    "\n",
    "$\\theta_0 := \\theta_0 - \\alpha\\frac{1}{m}\\sum_{i=1}^{m} (h(x_i)-y_i)$\n",
    "\n",
    "$\\theta_1 := \\theta_1 - \\alpha\\frac{1}{m}\\sum_{i=1}^{m} ((h(x_i)-y_i)x_i)$\n",
    "\n",
    "}"
   ]
  },
  {
   "cell_type": "code",
   "execution_count": 4,
   "id": "5b33bac1",
   "metadata": {
    "execution": {
     "iopub.execute_input": "2023-04-02T07:13:16.361838Z",
     "iopub.status.busy": "2023-04-02T07:13:16.361113Z",
     "iopub.status.idle": "2023-04-02T07:13:16.366536Z",
     "shell.execute_reply": "2023-04-02T07:13:16.367053Z",
     "shell.execute_reply.started": "2023-01-18T18:18:13.003539Z"
    },
    "papermill": {
     "duration": 0.03005,
     "end_time": "2023-04-02T07:13:16.367252",
     "exception": false,
     "start_time": "2023-04-02T07:13:16.337202",
     "status": "completed"
    },
    "tags": []
   },
   "outputs": [],
   "source": [
    "# Gradient descent function\n",
    "def gradient(theta_0, theta_1, alpha, X, y):\n",
    "    \"\"\"\n",
    "     calculates the gradient descent for a given set of inputs and thetas.\n",
    "    :param theta_0: intercept - float\n",
    "    :param theta_1: slope - float\n",
    "    :param alpha: learning rate - float\n",
    "    :param X: inputs (feature values) - Numpy array of floats\n",
    "    :param y: inputs (actual target values) - Numpy array of floats \n",
    "    :return: calculated theta_0 and theta_1 - tuple of floats\n",
    "    \n",
    "    \"\"\"\n",
    "    my_array_0 = (np.subtract(h(X, theta_0, theta_1),np.asarray(y)))\n",
    "    my_array_1 = np.matmul(np.transpose(my_array_0), X)\n",
    "    \n",
    "    theta_0_temp = (alpha / len(X)) * my_array_0.sum()\n",
    "    theta_1_temp = (alpha / len(X)) * my_array_1.sum()\n",
    "    \n",
    "    new_theta_0 = theta_0-theta_0_temp\n",
    "    new_theta_1 = theta_1-theta_1_temp\n",
    "    \n",
    "    return (new_theta_0, new_theta_1)    "
   ]
  },
  {
   "cell_type": "markdown",
   "id": "ac0d7906",
   "metadata": {
    "papermill": {
     "duration": 0.021337,
     "end_time": "2023-04-02T07:13:16.410745",
     "exception": false,
     "start_time": "2023-04-02T07:13:16.389408",
     "status": "completed"
    },
    "tags": []
   },
   "source": [
    "# Loading Data   <a id='getdata'></a> "
   ]
  },
  {
   "cell_type": "markdown",
   "id": "06bdb410",
   "metadata": {
    "papermill": {
     "duration": 0.020693,
     "end_time": "2023-04-02T07:13:16.452480",
     "exception": false,
     "start_time": "2023-04-02T07:13:16.431787",
     "status": "completed"
    },
    "tags": []
   },
   "source": [
    "As promised, we can now train our models. But first, we must load the data and make some necessary modifications. "
   ]
  },
  {
   "cell_type": "code",
   "execution_count": 5,
   "id": "337b9113",
   "metadata": {
    "execution": {
     "iopub.execute_input": "2023-04-02T07:13:16.497785Z",
     "iopub.status.busy": "2023-04-02T07:13:16.497066Z",
     "iopub.status.idle": "2023-04-02T07:13:16.539355Z",
     "shell.execute_reply": "2023-04-02T07:13:16.538755Z",
     "shell.execute_reply.started": "2023-01-18T18:18:13.015360Z"
    },
    "papermill": {
     "duration": 0.065964,
     "end_time": "2023-04-02T07:13:16.539508",
     "exception": false,
     "start_time": "2023-04-02T07:13:16.473544",
     "status": "completed"
    },
    "tags": []
   },
   "outputs": [
    {
     "name": "stdout",
     "output_type": "stream",
     "text": [
      "      x\n",
      "0  24.0\n",
      "1  50.0\n",
      "2  15.0\n",
      "3  38.0\n",
      "4  87.0\n"
     ]
    }
   ],
   "source": [
    "# Get the data\n",
    "train_data = pd.read_csv('/kaggle/input/random-linear-regression/train.csv')\n",
    "test_data = pd.read_csv('/kaggle/input/random-linear-regression/test.csv')\n",
    "\n",
    "# Set X and y for training\n",
    "X_train = pd.DataFrame(data = train_data['x'])\n",
    "y = pd.DataFrame(data = train_data['y'])\n",
    "\n",
    "# Set X_test and y_test for evaluation\n",
    "X_test_data = pd.DataFrame(data = test_data['x'])\n",
    "y_test = pd.DataFrame(data = test_data['y'])\n",
    "\n",
    "# Row 213 of the training data has no y value; as a result, we will drop it.\n",
    "X_train.drop([213], inplace=True)\n",
    "y.drop([213], inplace=True)\n",
    "\n",
    "print(X_train.head())\n",
    "\n",
    "# Convert the dataframes to a numpy arrays\n",
    "X = X_train.to_numpy()\n",
    "X_test = X_test_data.to_numpy()"
   ]
  },
  {
   "cell_type": "markdown",
   "id": "cc753442",
   "metadata": {
    "papermill": {
     "duration": 0.021313,
     "end_time": "2023-04-02T07:13:16.582615",
     "exception": false,
     "start_time": "2023-04-02T07:13:16.561302",
     "status": "completed"
    },
    "tags": []
   },
   "source": [
    "# Model Training   <a id='training'></a> "
   ]
  },
  {
   "cell_type": "markdown",
   "id": "63c1f5bf",
   "metadata": {
    "papermill": {
     "duration": 0.021221,
     "end_time": "2023-04-02T07:13:16.625357",
     "exception": false,
     "start_time": "2023-04-02T07:13:16.604136",
     "status": "completed"
    },
    "tags": []
   },
   "source": [
    "Before the training, we need to initialize some variables. Those are the initial $\\theta_i$ and the learning rate. Generally, the $\\theta_i$ are selected as zero at the beginning. We will also choose different values for $\\theta_i$ to observe how the training is affected.\n",
    "\n",
    "We need to decide when the gradient descent converges. To do that, we will subtract consecutive cost values. If the difference is smaller than a certain threshold, we will conclude that the gradient descent converges."
   ]
  },
  {
   "cell_type": "code",
   "execution_count": 6,
   "id": "3c3ac1e6",
   "metadata": {
    "_kg_hide-output": false,
    "execution": {
     "iopub.execute_input": "2023-04-02T07:13:16.677409Z",
     "iopub.status.busy": "2023-04-02T07:13:16.676713Z",
     "iopub.status.idle": "2023-04-02T07:13:17.354114Z",
     "shell.execute_reply": "2023-04-02T07:13:17.354687Z",
     "shell.execute_reply.started": "2023-01-18T18:18:13.076494Z"
    },
    "papermill": {
     "duration": 0.707723,
     "end_time": "2023-04-02T07:13:17.354873",
     "exception": false,
     "start_time": "2023-04-02T07:13:16.647150",
     "status": "completed"
    },
    "tags": []
   },
   "outputs": [
    {
     "name": "stdout",
     "output_type": "stream",
     "text": [
      "initial Cost: 1670.0624130893364\n",
      "cost: 743.1010875141254\n",
      "\n",
      "Iteration: 1\n",
      "diff: 926.9613255752109\n",
      "theta 0: 0.004993986917045781\n",
      "theta 1: 0.33354245845185376\n",
      "cost: 331.86123601466835\n",
      "\n",
      "Iteration: 2\n",
      "diff: 411.2398514994571\n",
      "theta 0: 0.008319284972241516\n",
      "theta 1: 0.5557035214498387\n",
      "cost: 149.41757755535286\n",
      "\n",
      "Iteration: 3\n",
      "diff: 182.4436584593155\n",
      "theta 0: 0.010533127355656115\n",
      "theta 1: 0.7036773052035966\n",
      "cost: 68.47773575109734\n",
      "\n",
      "Iteration: 4\n",
      "diff: 80.93984180425552\n",
      "theta 0: 0.012006667742524593\n",
      "theta 1: 0.8022375187713469\n",
      "cost: 32.569345994371076\n",
      "\n",
      "Iteration: 5\n",
      "diff: 35.908389756726265\n",
      "theta 0: 0.012987118705779484\n",
      "theta 1: 0.8678850693676075\n",
      "cost: 16.63884219635945\n",
      "\n",
      "Iteration: 6\n",
      "diff: 15.930503798011625\n",
      "theta 0: 0.01363913995457535\n",
      "theta 1: 0.9116106382126296\n",
      "cost: 9.571386539860526\n",
      "\n",
      "Iteration: 7\n",
      "diff: 7.067455656498925\n",
      "theta 0: 0.01407240560255936\n",
      "theta 1: 0.9407347363616418\n",
      "cost: 6.435959653629739\n",
      "\n",
      "Iteration: 8\n",
      "diff: 3.1354268862307872\n",
      "theta 0: 0.014359965767857044\n",
      "theta 1: 0.9601333019877012\n",
      "cost: 5.044949586914292\n",
      "\n",
      "Iteration: 9\n",
      "diff: 1.391010066715447\n",
      "theta 0: 0.014550476597125748\n",
      "theta 1: 0.9730540281668935\n",
      "cost: 4.42783773356473\n",
      "\n",
      "Iteration: 10\n",
      "diff: 0.6171118533495621\n",
      "theta 0: 0.014676346259828754\n",
      "theta 1: 0.9816600904650488\n",
      "cost: 4.154060361947503\n",
      "\n",
      "Iteration: 11\n",
      "diff: 0.2737773716172267\n",
      "theta 0: 0.014759160712111483\n",
      "theta 1: 0.9873923049996323\n",
      "cost: 4.032600910583452\n",
      "\n",
      "Iteration: 12\n",
      "diff: 0.12145945136405167\n",
      "theta 0: 0.014813297609683026\n",
      "theta 1: 0.9912103493470457\n",
      "cost: 3.978716229786244\n",
      "\n",
      "Iteration: 13\n",
      "diff: 0.05388468079720754\n",
      "theta 0: 0.014848333409675602\n",
      "theta 1: 0.993753431411396\n",
      "cost: 3.9548106191456855\n",
      "\n",
      "Iteration: 14\n",
      "diff: 0.023905610640558628\n",
      "theta 0: 0.014870646657594662\n",
      "theta 1: 0.9954473053779638\n",
      "cost: 3.9442050114502574\n",
      "\n",
      "Iteration: 15\n",
      "diff: 0.010605607695428176\n",
      "theta 0: 0.014884485881074308\n",
      "theta 1: 0.9965755513231513\n",
      "cost: 3.939499856219159\n",
      "\n",
      "Iteration: 16\n",
      "diff: 0.004705155231098157\n",
      "theta 0: 0.01489268087681991\n",
      "theta 1: 0.9973270520871346\n",
      "cost: 3.937412395092854\n",
      "\n",
      "Iteration: 17\n",
      "diff: 0.00208746112630509\n",
      "theta 0: 0.014897116474137632\n",
      "theta 1: 0.9978276159698669\n",
      "cost: 3.9364862554882945\n",
      "\n",
      "Iteration: 18\n",
      "diff: 0.0009261396045596726\n",
      "theta 0: 0.01489904809236768\n",
      "theta 1: 0.9981610395106341\n",
      "cost: 3.9360753279851814\n",
      "\n",
      "Iteration: 19\n",
      "diff: 0.0004109275031130011\n",
      "theta 0: 0.014899311922731294\n",
      "theta 1: 0.9983831366740062\n",
      "cost: 3.935892970698156\n",
      "\n",
      "Iteration: 20\n",
      "diff: 0.0001823572870254253\n",
      "theta 0: 0.014898464923159441\n",
      "theta 1: 0.9985310832033687\n",
      "cost: 3.9358120169773207\n",
      "\n",
      "Iteration: 21\n",
      "diff: 8.095372083527508e-05\n",
      "theta 0: 0.014896878063986185\n",
      "theta 1: 0.9986296405702794\n",
      "cost: 3.935776050235738\n",
      "\n",
      "Iteration: 22\n",
      "diff: 3.596674158279356e-05\n",
      "theta 0: 0.01489479843566663\n",
      "theta 1: 0.9986953015309791\n",
      "cost: 3.9357600416526908\n",
      "\n",
      "Iteration: 23\n",
      "diff: 1.6008583047177893e-05\n",
      "theta 0: 0.014892390616570841\n",
      "theta 1: 0.9987390513376072\n",
      "cost: 3.9357528873684697\n",
      "\n",
      "Iteration: 24\n",
      "diff: 7.154284221044804e-06\n",
      "theta 0: 0.014889764226634685\n",
      "theta 1: 0.9987682068850972\n",
      "cost: 3.9357496612340626\n",
      "\n",
      "Iteration: 25\n",
      "diff: 3.2261344071748965e-06\n",
      "theta 0: 0.014886992279889703\n",
      "theta 1: 0.9987876417030486\n",
      "cost: 3.935748177798221\n",
      "\n",
      "Iteration: 26\n",
      "diff: 1.483435841720393e-06\n",
      "theta 0: 0.014884123408445894\n",
      "theta 1: 0.9988006018802705\n",
      "cost: 3.935747467500917\n",
      "\n",
      "Iteration: 27\n",
      "diff: 7.102973036410276e-07\n",
      "theta 0: 0.014881190004462095\n",
      "theta 1: 0.9988092495237824\n"
     ]
    },
    {
     "data": {
      "image/png": "[encoded data removed]",
      "text/plain": [
       "<Figure size 432x288 with 1 Axes>"
      ]
     },
     "metadata": {
      "needs_background": "light"
     },
     "output_type": "display_data"
    }
   ],
   "source": [
    "# Initialize theta_0, theta_1 and the learning rate \n",
    "alpha = 0.0001\n",
    "theta_0 = 0\n",
    "theta_1 = 0\n",
    "\n",
    "# Convergence threshold\n",
    "my_diff = 0.000001\n",
    "\n",
    "# Initial cost value\n",
    "diff = J(theta_0, theta_1, X, y)\n",
    "print(\"initial Cost: {}\".format(J(theta_0, theta_1, X, y)))\n",
    "\n",
    "# We will count the number of iterations\n",
    "my_iter = 0\n",
    "\n",
    "while diff >= my_diff:\n",
    "    # Draw the current hypothesis and the training \n",
    "    # set to the x-y plane.\n",
    "    # We will draw all the hypothesis lines so that\n",
    "    # the reader can see how the hypothesis changes\n",
    "    # with each iteration.\n",
    "    my_line = np.linspace(0,100)\n",
    "    z = theta_0 + theta_1 * (my_line)\n",
    "    plt.scatter(X,y)\n",
    "    plt.plot(my_line,z, 'r')\n",
    "    \n",
    "    # calculate initial cost value\n",
    "    initial_cost = J(theta_0, theta_1, X, y)\n",
    "    \n",
    "    # calculate and assign the new theta_0 and theta_1 values\n",
    "    theta_0, theta_1 = gradient(theta_0, theta_1, alpha, X, y)\n",
    "    \n",
    "    # calculate the consecutive cost value\n",
    "    new_cost = J(theta_0, theta_1, X, y)\n",
    "    print(\"cost: {}\".format(new_cost))\n",
    "    \n",
    "    # calculate the difference between the consecutive\n",
    "    # cost values\n",
    "    diff = initial_cost - new_cost\n",
    "    \n",
    "    my_iter += 1\n",
    "    \n",
    "    print()\n",
    "    print(\"Iteration: {}\".format(my_iter))\n",
    "    print(\"diff: {}\".format(diff))\n",
    "    print(\"theta 0: {}\".format(theta_0))\n",
    "    print(\"theta 1: {}\".format(theta_1))\n",
    "    \n",
    "plt.show()    "
   ]
  },
  {
   "cell_type": "code",
   "execution_count": null,
   "id": "6abe3a0b",
   "metadata": {
    "papermill": {
     "duration": 0.023505,
     "end_time": "2023-04-02T07:13:17.402306",
     "exception": false,
     "start_time": "2023-04-02T07:13:17.378801",
     "status": "completed"
    },
    "tags": []
   },
   "outputs": [],
   "source": []
  },
  {
   "cell_type": "markdown",
   "id": "7463e036",
   "metadata": {
    "papermill": {
     "duration": 0.023711,
     "end_time": "2023-04-02T07:13:17.449717",
     "exception": false,
     "start_time": "2023-04-02T07:13:17.426006",
     "status": "completed"
    },
    "tags": []
   },
   "source": [
    "As can be seen, if we choose $\\theta_i$ as zero initially, the number of iterations is 27. But (0,0) point is at the y = x line, which is the best estimate for this dataset. In the next cell, we will assign different $\\theta_i$ values to our initial guess and see how this choice affects the number of iterations."
   ]
  },
  {
   "cell_type": "code",
   "execution_count": 7,
   "id": "6ebf33d3",
   "metadata": {
    "execution": {
     "iopub.execute_input": "2023-04-02T07:13:17.510687Z",
     "iopub.status.busy": "2023-04-02T07:13:17.509643Z",
     "iopub.status.idle": "2023-04-02T07:13:26.955480Z",
     "shell.execute_reply": "2023-04-02T07:13:26.955974Z",
     "shell.execute_reply.started": "2023-01-18T18:18:13.874509Z"
    },
    "papermill": {
     "duration": 9.482659,
     "end_time": "2023-04-02T07:13:26.956178",
     "exception": false,
     "start_time": "2023-04-02T07:13:17.473519",
     "status": "completed"
    },
    "tags": []
   },
   "outputs": [
    {
     "name": "stdout",
     "output_type": "stream",
     "text": [
      "initial Cost: 207505.03742208227\n",
      "\n",
      "Iteration: 10000\n",
      "Cost: 11.116903205237131\n",
      "Diff: 0.0003601674161615165\n",
      "\n",
      "Iteration: 20000\n",
      "Cost: 8.284498617558627\n",
      "Diff: 0.00021814652931340106\n",
      "\n",
      "Iteration: 30000\n",
      "Cost: 6.568965222022944\n",
      "Diff: 0.00013212718895427855\n",
      "\n",
      "Iteration: 40000\n",
      "Cost: 5.529899389408219\n",
      "Diff: 8.002691638608894e-05\n",
      "\n",
      "Iteration: 50000\n",
      "Cost: 4.900557047651989\n",
      "Diff: 4.847077574865466e-05\n",
      "\n",
      "Iteration: 60000\n",
      "Cost: 4.51937640375524\n",
      "Diff: 2.935782369295481e-05\n",
      "\n",
      "Iteration: 70000\n",
      "Cost: 4.288502563491975\n",
      "Diff: 1.7781473444777873e-05\n",
      "\n",
      "Iteration: 80000\n",
      "Cost: 4.14866668522438\n",
      "Diff: 1.0769899064122512e-05\n",
      "\n",
      "Iteration: 90000\n",
      "Cost: 4.063970762860149\n",
      "Diff: 6.5231222912132125e-06\n",
      "\n",
      "Iteration: 100000\n",
      "Cost: 4.012672059308543\n",
      "Diff: 3.950930662632857e-06\n",
      "\n",
      "Iteration: 110000\n",
      "Cost: 3.981601413725882\n",
      "Diff: 2.3930032897467868e-06\n",
      "\n",
      "Iteration: 120000\n",
      "Cost: 3.9627825167541064\n",
      "Diff: 1.449396417108062e-06\n",
      "\n",
      "Final Cost: 3.9538191331407084\n",
      "Diff: 9.999593206799773e-07\n",
      "Theta 0: -0.5060916482754081\n",
      "Theta 1: 1.006631498606685\n",
      "Iteration: 127403\n",
      "\n"
     ]
    },
    {
     "data": {
      "image/png": "[encoded data removed]",
      "text/plain": [
       "<Figure size 432x288 with 1 Axes>"
      ]
     },
     "metadata": {
      "needs_background": "light"
     },
     "output_type": "display_data"
    }
   ],
   "source": [
    "# Initialize theta_0, theta_1 and the learning rate \n",
    "alpha = 0.0001\n",
    "theta_0 = -10\n",
    "theta_1 = -10\n",
    "\n",
    "# Convergence threshold\n",
    "my_diff = 0.000001\n",
    "\n",
    "# Initial cost value\n",
    "diff = J(theta_0, theta_1, X, y)\n",
    "\n",
    "# We will count the number of iterations\n",
    "my_iter = 0\n",
    "print(\"initial Cost: {}\".format(J(theta_0, theta_1, X, y)))\n",
    "\n",
    "while diff >= my_diff:\n",
    "    # calculate initial cost value\n",
    "    initial_cost = J(theta_0, theta_1, X, y)\n",
    "    \n",
    "    # calculate and assign the new theta_0 and theta_1 values\n",
    "    theta_0, theta_1 = gradient(theta_0, theta_1, alpha, X, y)\n",
    "    \n",
    "    # calculate the consecutive cost value\n",
    "    new_cost = J(theta_0, theta_1, X, y)\n",
    "    \n",
    "    # calculate the difference between the consecutive\n",
    "    # cost values\n",
    "    diff = initial_cost - new_cost\n",
    "    \n",
    "    # print for every 10000 iteration\n",
    "    my_iter += 1\n",
    "    if my_iter%10000 ==0:\n",
    "        print()\n",
    "        print(\"Iteration: {}\".format(my_iter))\n",
    "        print(\"Cost: {}\".format(new_cost))\n",
    "        print(\"Diff: {}\".format(diff))\n",
    "\n",
    "print()\n",
    "print(\"Final Cost: {}\".format(new_cost))\n",
    "print(\"Diff: {}\".format(diff))\n",
    "print(\"Theta 0: {}\".format(theta_0))\n",
    "print(\"Theta 1: {}\".format(theta_1))\n",
    "print(\"Iteration: {}\".format(my_iter))\n",
    "print()\n",
    "\n",
    "# Draw the final hypothesis and the training \n",
    "# set to the x-y plane.\n",
    "# We will not draw all the hypothesis lines \n",
    "# because of the high iteration count.\n",
    "my_line = np.linspace(0,100)\n",
    "z = theta_0 + theta_1 * (my_line)\n",
    "plt.scatter(X,y)\n",
    "plt.plot(my_line,z, 'r')\n",
    "plt.show()    "
   ]
  },
  {
   "cell_type": "markdown",
   "id": "d83b99f1",
   "metadata": {
    "papermill": {
     "duration": 0.030324,
     "end_time": "2023-04-02T07:13:27.016453",
     "exception": false,
     "start_time": "2023-04-02T07:13:26.986129",
     "status": "completed"
    },
    "tags": []
   },
   "source": [
    "# Model Evaluation   <a id='evaluation'></a> "
   ]
  },
  {
   "cell_type": "markdown",
   "id": "b023f636",
   "metadata": {
    "papermill": {
     "duration": 0.029925,
     "end_time": "2023-04-02T07:13:27.075905",
     "exception": false,
     "start_time": "2023-04-02T07:13:27.045980",
     "status": "completed"
    },
    "tags": []
   },
   "source": [
    "Finally, we can evaluate our model with the test set. We will use the following values for $\\theta_i$ since they are the last calculated values as seen at the output of the last cell.\n",
    "\n",
    "$\\theta_0: -0.5060916482754081$\n",
    "\n",
    "$\\theta_1: 1.006631498606685$"
   ]
  },
  {
   "cell_type": "code",
   "execution_count": 8,
   "id": "801de235",
   "metadata": {
    "execution": {
     "iopub.execute_input": "2023-04-02T07:13:27.151068Z",
     "iopub.status.busy": "2023-04-02T07:13:27.140845Z",
     "iopub.status.idle": "2023-04-02T07:13:27.312292Z",
     "shell.execute_reply": "2023-04-02T07:13:27.311633Z",
     "shell.execute_reply.started": "2023-01-18T18:18:24.369111Z"
    },
    "papermill": {
     "duration": 0.207067,
     "end_time": "2023-04-02T07:13:27.312442",
     "exception": false,
     "start_time": "2023-04-02T07:13:27.105375",
     "status": "completed"
    },
    "tags": []
   },
   "outputs": [
    {
     "name": "stdout",
     "output_type": "stream",
     "text": [
      "Cost of test data: 4.7015230120840545\n"
     ]
    },
    {
     "data": {
      "image/png": "[encoded data removed]",
      "text/plain": [
       "<Figure size 432x288 with 1 Axes>"
      ]
     },
     "metadata": {
      "needs_background": "light"
     },
     "output_type": "display_data"
    }
   ],
   "source": [
    "# calculate the cost value for the test set\n",
    "cost_test = J(theta_0, theta_1, X_test, y_test)\n",
    "print(\"Cost of test data: {}\".format(cost_test))\n",
    "\n",
    "# Draw the final hypothesis and the test \n",
    "# set to the x-y plane.\n",
    "my_line = np.linspace(0,100)\n",
    "z = theta_0 + theta_1 * (my_line)\n",
    "plt.scatter(X_test,y_test)\n",
    "plt.plot(my_line,z, 'r')\n",
    "plt.show()    "
   ]
  },
  {
   "cell_type": "markdown",
   "id": "e7833e15",
   "metadata": {
    "papermill": {
     "duration": 0.031167,
     "end_time": "2023-04-02T07:13:27.374534",
     "exception": false,
     "start_time": "2023-04-02T07:13:27.343367",
     "status": "completed"
    },
    "tags": []
   },
   "source": [
    "# Conclusion   <a id='conclusion'></a> "
   ]
  },
  {
   "cell_type": "markdown",
   "id": "1bb881ae",
   "metadata": {
    "papermill": {
     "duration": 0.030458,
     "end_time": "2023-04-02T07:13:27.436010",
     "exception": false,
     "start_time": "2023-04-02T07:13:27.405552",
     "status": "completed"
    },
    "tags": []
   },
   "source": [
    "In this notebook, we have written the hypothesis, cost function, and gradient descent algorithms in python. Moreover, we have trained two different models by changing model parameters $\\theta_0$ and $\\theta_1$. We have seen that choosing a point on the best fitting line may substantially decrease the number of iterations.\n",
    "\n",
    "In the preparation process of this notebook, [deeplearning.AI](https://www.deeplearning.ai/) has announced a new Machine Learning Specialization by [Andrew Ng](https://www.andrewng.org/) on Coursera. Unlike the previously mentioned Machine Learning Course, this Specialization's assignments are written in Python. Anyone interested may follow the link in the reference section.\n",
    "\n",
    "Please feel free to correct me if I've made mistakes, and also, if you face any problems or cannot implement the code, just let me know via the comments. I will try to answer as soon as possible.\n",
    "\n",
    "Thank you for reading!"
   ]
  },
  {
   "cell_type": "markdown",
   "id": "c8cf0ac7",
   "metadata": {
    "papermill": {
     "duration": 0.031227,
     "end_time": "2023-04-02T07:13:27.498329",
     "exception": false,
     "start_time": "2023-04-02T07:13:27.467102",
     "status": "completed"
    },
    "tags": []
   },
   "source": [
    "# References   <a id='references'></a>\n",
    "* [Machine Learning Specialization - Deeplearning.AI](https://www.deeplearning.ai/program/machine-learning-specialization/)\n",
    "* [Andrew Ng](https://en.wikipedia.org/wiki/Andrew_Ng)\n",
    "* [@andonians](https://www.kaggle.com/andonians)\n",
    "* [What is a Hypothesis in Machine Learning?](https://machinelearningmastery.com/what-is-a-hypothesis-in-machine-learning/#:~:text=A%20statistical%20hypothesis%20is%20an,for%20mapping%20inputs%20to%20outputs.)\n",
    "* [Linear Equations and Lines](http://www.math.utah.edu/~wortman/1060text-leal.pdf)\n",
    "* [10-simple-hacks-to-speed-up-your-data-analysis - Parul Pandey](https://www.kaggle.com/parulpandey/10-simple-hacks-to-speed-up-your-data-analysis)\n",
    "* [Univariate Linear Regression From Scratch - Towards AI](https://pub.towardsai.net/univariate-linear-regression-from-scratch-68065fe8eb09)"
   ]
  }
 ],
 "metadata": {
  "kernelspec": {
   "display_name": "Python 3",
   "language": "python",
   "name": "python3"
  },
  "language_info": {
   "codemirror_mode": {
    "name": "ipython",
    "version": 3
   },
   "file_extension": ".py",
   "mimetype": "text/x-python",
   "name": "python",
   "nbconvert_exporter": "python",
   "pygments_lexer": "ipython3",
   "version": "3.7.12"
  },
  "papermill": {
   "default_parameters": {},
   "duration": 21.692637,
   "end_time": "2023-04-02T07:13:28.139581",
   "environment_variables": {},
   "exception": null,
   "input_path": "__notebook__.ipynb",
   "output_path": "__notebook__.ipynb",
   "parameters": {},
   "start_time": "2023-04-02T07:13:06.446944",
   "version": "2.3.3"
  }
 },
 "nbformat": 4,
 "nbformat_minor": 5
}
