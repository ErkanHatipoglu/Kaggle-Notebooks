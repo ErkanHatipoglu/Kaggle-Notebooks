{
 "cells": [
  {
   "cell_type": "markdown",
   "id": "95ccaf90",
   "metadata": {
    "papermill": {
     "duration": 0.005029,
     "end_time": "2023-03-19T21:14:24.297227",
     "exception": false,
     "start_time": "2023-03-19T21:14:24.292198",
     "status": "completed"
    },
    "tags": []
   },
   "source": [
    "# Introduction  <a id='introduction'></a>\n",
    "\n",
    "Introduction Text!\n",
    "\n",
    "This notebook is greatly inspired by the famous Machine Learning course by [Andrew Ng](https://www.andrewng.org/). All the mistakes, if any, are made by me.\n",
    "\n",
    "Finally, thanks to [@Mohan S Acharya](https://www.kaggle.com/mohansacharya) for this dataset.\n",
    "\n",
    "\n",
    "# Table of Contents\n",
    "* [Introduction](#introduction)\n",
    "* [Helper functions](#functions)\n",
    "* [The Normal Equation](#normal)\n",
    "* [The Hypothesis](#hypothesis)\n",
    "* [The Cost Function](#cost)\n",
    "* [Loading Data](#getdata)\n",
    "* [Model Training](#training)\n",
    "* [Model Validation](#validation)\n",
    "* [Conclusion](#conclusion)\n",
    "* [References](#references)"
   ]
  },
  {
   "cell_type": "code",
   "execution_count": 1,
   "id": "48577232",
   "metadata": {
    "_cell_guid": "b1076dfc-b9ad-4769-8c92-a6c4dae69d19",
    "_uuid": "8f2839f25d086af736a60e9eeb907d3b93b6e0e5",
    "execution": {
     "iopub.execute_input": "2023-03-19T21:14:24.307753Z",
     "iopub.status.busy": "2023-03-19T21:14:24.306847Z",
     "iopub.status.idle": "2023-03-19T21:14:25.226431Z",
     "shell.execute_reply": "2023-03-19T21:14:25.225319Z"
    },
    "papermill": {
     "duration": 0.928371,
     "end_time": "2023-03-19T21:14:25.229482",
     "exception": false,
     "start_time": "2023-03-19T21:14:24.301111",
     "status": "completed"
    },
    "tags": []
   },
   "outputs": [
    {
     "name": "stdout",
     "output_type": "stream",
     "text": [
      "/kaggle/input/graduate-admissions/Admission_Predict.csv\n",
      "/kaggle/input/graduate-admissions/Admission_Predict_Ver1.1.csv\n"
     ]
    }
   ],
   "source": [
    "# This Python 3 environment comes with many helpful analytics libraries installed\n",
    "# It is defined by the kaggle/python Docker image: https://github.com/kaggle/docker-python\n",
    "# For example, here's several helpful packages to load\n",
    "\n",
    "import numpy as np # linear algebra\n",
    "import pandas as pd # data processing, CSV file I/O (e.g. pd.read_csv)\n",
    "\n",
    "# Input data files are available in the read-only \"../input/\" directory\n",
    "# For example, running this (by clicking run or pressing Shift+Enter) will list all files under the input directory\n",
    "\n",
    "import os\n",
    "for dirname, _, filenames in os.walk('/kaggle/input'):\n",
    "    for filename in filenames:\n",
    "        print(os.path.join(dirname, filename))\n",
    "\n",
    "# You can write up to 20GB to the current directory (/kaggle/working/) that gets preserved as output when you create a version using \"Save & Run All\" \n",
    "# You can also write temporary files to /kaggle/temp/, but they won't be saved outside of the current session\n",
    "\n",
    "from sklearn.model_selection import train_test_split"
   ]
  },
  {
   "cell_type": "markdown",
   "id": "6baf1c31",
   "metadata": {
    "papermill": {
     "duration": 0.00361,
     "end_time": "2023-03-19T21:14:25.237404",
     "exception": false,
     "start_time": "2023-03-19T21:14:25.233794",
     "status": "completed"
    },
    "tags": []
   },
   "source": [
    "# Helper Functions   <a id='functions'></a>   "
   ]
  },
  {
   "cell_type": "markdown",
   "id": "3ed2372c",
   "metadata": {
    "papermill": {
     "duration": 0.003719,
     "end_time": "2023-03-19T21:14:25.244819",
     "exception": false,
     "start_time": "2023-03-19T21:14:25.241100",
     "status": "completed"
    },
    "tags": []
   },
   "source": [
    "<div class=\"alert alert-block alert-info\">\n",
    "<b>Tip:</b> We will use some helper functions throughout the notebook. Collecting them in one place is a good idea, making the code more organized. First, we will define and explain those functions and then use them in our code.\n",
    "</div>"
   ]
  },
  {
   "cell_type": "markdown",
   "id": "0da26cf0",
   "metadata": {
    "papermill": {
     "duration": 0.003617,
     "end_time": "2023-03-19T21:14:25.252306",
     "exception": false,
     "start_time": "2023-03-19T21:14:25.248689",
     "status": "completed"
    },
    "tags": []
   },
   "source": [
    "# The Normal Equation   <a id='normal'></a> "
   ]
  },
  {
   "cell_type": "markdown",
   "id": "98651594",
   "metadata": {
    "papermill": {
     "duration": 0.003488,
     "end_time": "2023-03-19T21:14:25.259500",
     "exception": false,
     "start_time": "2023-03-19T21:14:25.256012",
     "status": "completed"
    },
    "tags": []
   },
   "source": [
    "The Normal Equation Text!"
   ]
  },
  {
   "cell_type": "markdown",
   "id": "375b5471",
   "metadata": {
    "papermill": {
     "duration": 0.00369,
     "end_time": "2023-03-19T21:14:25.267111",
     "exception": false,
     "start_time": "2023-03-19T21:14:25.263421",
     "status": "completed"
    },
    "tags": []
   },
   "source": [
    "# The  Hypothesis   <a id='hypothesis'></a>   "
   ]
  },
  {
   "cell_type": "markdown",
   "id": "f13d5be0",
   "metadata": {
    "execution": {
     "iopub.execute_input": "2023-03-19T20:08:10.723871Z",
     "iopub.status.busy": "2023-03-19T20:08:10.723267Z",
     "iopub.status.idle": "2023-03-19T20:08:10.730032Z",
     "shell.execute_reply": "2023-03-19T20:08:10.728533Z",
     "shell.execute_reply.started": "2023-03-19T20:08:10.723828Z"
    },
    "papermill": {
     "duration": 0.003748,
     "end_time": "2023-03-19T21:14:25.274601",
     "exception": false,
     "start_time": "2023-03-19T21:14:25.270853",
     "status": "completed"
    },
    "tags": []
   },
   "source": [
    "The Hypothesis Text!"
   ]
  },
  {
   "cell_type": "code",
   "execution_count": 2,
   "id": "cbcc46dc",
   "metadata": {
    "execution": {
     "iopub.execute_input": "2023-03-19T21:14:25.284050Z",
     "iopub.status.busy": "2023-03-19T21:14:25.283459Z",
     "iopub.status.idle": "2023-03-19T21:14:25.288451Z",
     "shell.execute_reply": "2023-03-19T21:14:25.287812Z"
    },
    "papermill": {
     "duration": 0.011982,
     "end_time": "2023-03-19T21:14:25.290321",
     "exception": false,
     "start_time": "2023-03-19T21:14:25.278339",
     "status": "completed"
    },
    "tags": []
   },
   "outputs": [],
   "source": [
    "# The hypothesis\n",
    "def h(x, theta):\n",
    "    \"\"\"\n",
    "     Calculates the predicted values (or predicted targets) for a given set of input and theta vectors.\n",
    "    \n",
    "    :param x: inputs (feature values) - data frame of floats \n",
    "    :param theta: theta vector (weights) - Numpy array of floats\n",
    "    \n",
    "    :return: predicted targets - Numpy array of floats\n",
    "    \n",
    "    \"\"\"\n",
    "    # The hypothesis is a column vector of m x 1\n",
    "    return np.dot(x, theta)"
   ]
  },
  {
   "cell_type": "markdown",
   "id": "46ed8447",
   "metadata": {
    "papermill": {
     "duration": 0.003545,
     "end_time": "2023-03-19T21:14:25.297782",
     "exception": false,
     "start_time": "2023-03-19T21:14:25.294237",
     "status": "completed"
    },
    "tags": []
   },
   "source": [
    "# The  Cost Function   <a id='cost'></a> "
   ]
  },
  {
   "cell_type": "markdown",
   "id": "07587daf",
   "metadata": {
    "papermill": {
     "duration": 0.003642,
     "end_time": "2023-03-19T21:14:25.305229",
     "exception": false,
     "start_time": "2023-03-19T21:14:25.301587",
     "status": "completed"
    },
    "tags": []
   },
   "source": [
    "The cost Function Text!"
   ]
  },
  {
   "cell_type": "code",
   "execution_count": 3,
   "id": "72e147fa",
   "metadata": {
    "execution": {
     "iopub.execute_input": "2023-03-19T21:14:25.314523Z",
     "iopub.status.busy": "2023-03-19T21:14:25.314036Z",
     "iopub.status.idle": "2023-03-19T21:14:25.319919Z",
     "shell.execute_reply": "2023-03-19T21:14:25.319242Z"
    },
    "papermill": {
     "duration": 0.012854,
     "end_time": "2023-03-19T21:14:25.321783",
     "exception": false,
     "start_time": "2023-03-19T21:14:25.308929",
     "status": "completed"
    },
    "tags": []
   },
   "outputs": [],
   "source": [
    "# The cost function\n",
    "\n",
    "def J(X,y,theta):\n",
    "    \"\"\"\n",
    "     Calculates the total error using squared error function.\n",
    "    \n",
    "    :param X: inputs (feature values) - data frame of floats\n",
    "    :param y: outputs (actual target values) - Numpy array of floats\n",
    "    :param theta: theta vector (weights) - Numpy array of floats\n",
    "    \n",
    "    :return: total error - float\n",
    "    \n",
    "    \"\"\"\n",
    "    # Calculate number of examples\n",
    "    m = len(X)\n",
    "    \n",
    "    # Calculate the constant\n",
    "    c = 1/(2 * m)\n",
    "       \n",
    "    # Calculate the array of errors\n",
    "    temp_0 = h(X, theta) - y.reshape(-1)\n",
    "\n",
    "    # Calculate the transpose of array of errors\n",
    "    temp_1 = temp_0.transpose()\n",
    "\n",
    "    # Calculate the dot product \n",
    "    temp_2 = np.dot(temp_1, temp_0) \n",
    "\n",
    "    return  c * temp_2"
   ]
  },
  {
   "cell_type": "markdown",
   "id": "c4b9da3b",
   "metadata": {
    "papermill": {
     "duration": 0.003676,
     "end_time": "2023-03-19T21:14:25.329429",
     "exception": false,
     "start_time": "2023-03-19T21:14:25.325753",
     "status": "completed"
    },
    "tags": []
   },
   "source": [
    "# Loading Data   <a id='getdata'></a> "
   ]
  },
  {
   "cell_type": "markdown",
   "id": "4748852a",
   "metadata": {
    "papermill": {
     "duration": 0.00348,
     "end_time": "2023-03-19T21:14:25.336736",
     "exception": false,
     "start_time": "2023-03-19T21:14:25.333256",
     "status": "completed"
    },
    "tags": []
   },
   "source": [
    "First of all, we will load the CSV file in this part. Since there are two different versions of the dataset, we will load the one with more data. We will then create our training DataFrame and target vector. Next, we will normalize some columns of the training DataFrame using min-max scaling. Finally, we will split our data into training and validation DataFrames so that we can validate the results."
   ]
  },
  {
   "cell_type": "code",
   "execution_count": 4,
   "id": "1a0c6ef4",
   "metadata": {
    "execution": {
     "iopub.execute_input": "2023-03-19T21:14:25.346037Z",
     "iopub.status.busy": "2023-03-19T21:14:25.345549Z",
     "iopub.status.idle": "2023-03-19T21:14:25.392322Z",
     "shell.execute_reply": "2023-03-19T21:14:25.391258Z"
    },
    "papermill": {
     "duration": 0.053783,
     "end_time": "2023-03-19T21:14:25.394404",
     "exception": false,
     "start_time": "2023-03-19T21:14:25.340621",
     "status": "completed"
    },
    "tags": []
   },
   "outputs": [
    {
     "data": {
      "text/html": [
       "<div>\n",
       "<style scoped>\n",
       "    .dataframe tbody tr th:only-of-type {\n",
       "        vertical-align: middle;\n",
       "    }\n",
       "\n",
       "    .dataframe tbody tr th {\n",
       "        vertical-align: top;\n",
       "    }\n",
       "\n",
       "    .dataframe thead th {\n",
       "        text-align: right;\n",
       "    }\n",
       "</style>\n",
       "<table border=\"1\" class=\"dataframe\">\n",
       "  <thead>\n",
       "    <tr style=\"text-align: right;\">\n",
       "      <th></th>\n",
       "      <th>GRE Score</th>\n",
       "      <th>TOEFL Score</th>\n",
       "      <th>University Rating</th>\n",
       "      <th>SOP</th>\n",
       "      <th>LOR</th>\n",
       "      <th>CGPA</th>\n",
       "      <th>Research</th>\n",
       "    </tr>\n",
       "  </thead>\n",
       "  <tbody>\n",
       "    <tr>\n",
       "      <th>107</th>\n",
       "      <td>338</td>\n",
       "      <td>117</td>\n",
       "      <td>4</td>\n",
       "      <td>3.5</td>\n",
       "      <td>4.5</td>\n",
       "      <td>9.46</td>\n",
       "      <td>1</td>\n",
       "    </tr>\n",
       "    <tr>\n",
       "      <th>336</th>\n",
       "      <td>319</td>\n",
       "      <td>110</td>\n",
       "      <td>3</td>\n",
       "      <td>3.0</td>\n",
       "      <td>2.5</td>\n",
       "      <td>8.79</td>\n",
       "      <td>0</td>\n",
       "    </tr>\n",
       "    <tr>\n",
       "      <th>71</th>\n",
       "      <td>336</td>\n",
       "      <td>112</td>\n",
       "      <td>5</td>\n",
       "      <td>5.0</td>\n",
       "      <td>5.0</td>\n",
       "      <td>9.76</td>\n",
       "      <td>1</td>\n",
       "    </tr>\n",
       "    <tr>\n",
       "      <th>474</th>\n",
       "      <td>308</td>\n",
       "      <td>105</td>\n",
       "      <td>4</td>\n",
       "      <td>3.0</td>\n",
       "      <td>2.5</td>\n",
       "      <td>7.95</td>\n",
       "      <td>1</td>\n",
       "    </tr>\n",
       "    <tr>\n",
       "      <th>6</th>\n",
       "      <td>321</td>\n",
       "      <td>109</td>\n",
       "      <td>3</td>\n",
       "      <td>3.0</td>\n",
       "      <td>4.0</td>\n",
       "      <td>8.20</td>\n",
       "      <td>1</td>\n",
       "    </tr>\n",
       "  </tbody>\n",
       "</table>\n",
       "</div>"
      ],
      "text/plain": [
       "     GRE Score  TOEFL Score  University Rating  SOP  LOR   CGPA  Research\n",
       "107        338          117                  4  3.5   4.5  9.46         1\n",
       "336        319          110                  3  3.0   2.5  8.79         0\n",
       "71         336          112                  5  5.0   5.0  9.76         1\n",
       "474        308          105                  4  3.0   2.5  7.95         1\n",
       "6          321          109                  3  3.0   4.0  8.20         1"
      ]
     },
     "execution_count": 4,
     "metadata": {},
     "output_type": "execute_result"
    }
   ],
   "source": [
    "# Get the data. Note that there are two versions. We will use the one\n",
    "# with the most rows.\n",
    "\n",
    "train_data = pd.read_csv(\"/kaggle/input/graduate-admissions/Admission_Predict_Ver1.1.csv\")\n",
    "\n",
    "# Set X and y\n",
    "X = train_data.drop(['Chance of Admit ', 'Serial No.'], axis=1) # Chance of Admit is the target variable and Serial No. is the order. So we drop them.\n",
    "y = pd.DataFrame(data = train_data['Chance of Admit ']).to_numpy()\n",
    "\n",
    "# Instead of finding probabilities, we want to calculate the percentages.\n",
    "y = y * 100\n",
    "\n",
    "# Break off validation set from training data\n",
    "X_train, X_valid, y_train, y_valid = train_test_split(X, y, train_size=0.8, test_size=0.2, random_state = 0)\n",
    "\n",
    "X_train.head()"
   ]
  },
  {
   "cell_type": "markdown",
   "id": "d74d66f6",
   "metadata": {
    "papermill": {
     "duration": 0.003933,
     "end_time": "2023-03-19T21:14:25.403268",
     "exception": false,
     "start_time": "2023-03-19T21:14:25.399335",
     "status": "completed"
    },
    "tags": []
   },
   "source": [
    "# Model Training   <a id='training'></a> "
   ]
  },
  {
   "cell_type": "markdown",
   "id": "ba4279f3",
   "metadata": {
    "papermill": {
     "duration": 0.003798,
     "end_time": "2023-03-19T21:14:25.410957",
     "exception": false,
     "start_time": "2023-03-19T21:14:25.407159",
     "status": "completed"
    },
    "tags": []
   },
   "source": [
    "Model Training Text!"
   ]
  },
  {
   "cell_type": "markdown",
   "id": "48305b6f",
   "metadata": {
    "papermill": {
     "duration": 0.003842,
     "end_time": "2023-03-19T21:14:25.418879",
     "exception": false,
     "start_time": "2023-03-19T21:14:25.415037",
     "status": "completed"
    },
    "tags": []
   },
   "source": [
    "# Model Validation   <a id='validation'></a> "
   ]
  },
  {
   "cell_type": "markdown",
   "id": "d05e6408",
   "metadata": {
    "papermill": {
     "duration": 0.003847,
     "end_time": "2023-03-19T21:14:25.426986",
     "exception": false,
     "start_time": "2023-03-19T21:14:25.423139",
     "status": "completed"
    },
    "tags": []
   },
   "source": [
    "Model Validation Text"
   ]
  },
  {
   "cell_type": "markdown",
   "id": "b61aef01",
   "metadata": {
    "papermill": {
     "duration": 0.004036,
     "end_time": "2023-03-19T21:14:25.435151",
     "exception": false,
     "start_time": "2023-03-19T21:14:25.431115",
     "status": "completed"
    },
    "tags": []
   },
   "source": [
    "# Conclusion   <a id='conclusion'></a> "
   ]
  },
  {
   "cell_type": "markdown",
   "id": "8f09a6c8",
   "metadata": {
    "papermill": {
     "duration": 0.004029,
     "end_time": "2023-03-19T21:14:25.443220",
     "exception": false,
     "start_time": "2023-03-19T21:14:25.439191",
     "status": "completed"
    },
    "tags": []
   },
   "source": [
    "Conclusion Text!"
   ]
  },
  {
   "cell_type": "markdown",
   "id": "f1c84cf4",
   "metadata": {
    "papermill": {
     "duration": 0.00425,
     "end_time": "2023-03-19T21:14:25.451803",
     "exception": false,
     "start_time": "2023-03-19T21:14:25.447553",
     "status": "completed"
    },
    "tags": []
   },
   "source": [
    "# References   <a id='references'></a>\n",
    "* [Machine Learning Specialization - Deeplearning.AI](https://www.deeplearning.ai/program/machine-learning-specialization/)\n",
    "* [Andrew Ng](https://en.wikipedia.org/wiki/Andrew_Ng)\n",
    "* [@Mohan S Acharya](https://www.kaggle.com/mohansacharya)\n",
    "* [Multivariate Linear Regression From Scratch - Kaggle](https://www.kaggle.com/code/erkanhatipoglu/multivariate-linear-regression-from-scratch)\n",
    "* [Univariate Linear Regression From Scratch - Kaggle](https://www.kaggle.com/code/erkanhatipoglu/univariate-linear-regression-from-scratch)\n",
    "* [Univariate Linear Regression From Scratch - Towards AI](https://pub.towardsai.net/univariate-linear-regression-from-scratch-68065fe8eb09)\n",
    "* [Towards AI](https://pub.towardsai.net/)"
   ]
  }
 ],
 "metadata": {
  "kernelspec": {
   "display_name": "Python 3",
   "language": "python",
   "name": "python3"
  },
  "language_info": {
   "codemirror_mode": {
    "name": "ipython",
    "version": 3
   },
   "file_extension": ".py",
   "mimetype": "text/x-python",
   "name": "python",
   "nbconvert_exporter": "python",
   "pygments_lexer": "ipython3",
   "version": "3.7.12"
  },
  "papermill": {
   "default_parameters": {},
   "duration": 11.444836,
   "end_time": "2023-03-19T21:14:26.074972",
   "environment_variables": {},
   "exception": null,
   "input_path": "__notebook__.ipynb",
   "output_path": "__notebook__.ipynb",
   "parameters": {},
   "start_time": "2023-03-19T21:14:14.630136",
   "version": "2.4.0"
  }
 },
 "nbformat": 4,
 "nbformat_minor": 5
}
