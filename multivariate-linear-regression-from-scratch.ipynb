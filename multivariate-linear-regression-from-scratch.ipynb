{
 "cells": [
  {
   "cell_type": "markdown",
   "id": "27057691",
   "metadata": {
    "papermill": {
     "duration": 0.008068,
     "end_time": "2022-12-10T22:23:46.477361",
     "exception": false,
     "start_time": "2022-12-10T22:23:46.469293",
     "status": "completed"
    },
    "tags": []
   },
   "source": [
    "# Introduction  <a id='introduction'></a>\n",
    "\n",
    "This notebook contains Python code for a multivariate linear regression task. Multivariate linear regression means linear regression with more than one variable. In addition to Python, we will also use Pandas, Numpy, and Matplotlib libraries. \n",
    "\n",
    "In my [Univariate Linear Regression from Scratch](https://www.kaggle.com/code/erkanhatipoglu/univariate-linear-regression-from-scratch) notebook, we have already seen basic Machine Learning concepts such as the hypothesis, cost function, and gradient descent. We will not explain those concepts in this notebook. Anyone interested may refer to my Kaggle notebook [Univariate Linear Regression from Scratch](https://www.kaggle.com/code/erkanhatipoglu/univariate-linear-regression-from-scratch) or my Medium blog post [Univariate Linear Regression from Scratch](https://medium.com/towards-artificial-intelligence/univariate-linear-regression-from-scratch-68065fe8eb09) published in [Towards AI](https://pub.towardsai.net/) for a more detailed explanation. We will use a gradient descent solution and not discuss the 'normal equation.'\n",
    "\n",
    "This notebook is greatly inspired by the famous Machine Learning course by [Andrew Ng](https://www.andrewng.org/). All the mistakes, if any, are made by me.\n",
    "\n",
    "Finally, thanks to [@Mohan S Acharya](https://www.kaggle.com/mohansacharya) for this dataset.\n",
    "\n",
    "\n",
    "# Table of Contents\n",
    "* [Introduction](#introduction)\n",
    "* [Vectorization](#vector)\n",
    "* [Helper functions](#functions)\n",
    "* [The Hypothesis](#hypothesis)\n",
    "* [The Cost Function](#cost)\n",
    "* [Gradient Descent](#gradient)\n",
    "* [Feature Normalization](#normalization)\n",
    "* [Loading Data](#getdata)\n",
    "* [Model Training](#training)\n",
    "* [Model Validation](#validation)\n",
    "* [Conclusion](#conclusion)\n",
    "* [References](#references)"
   ]
  },
  {
   "cell_type": "code",
   "execution_count": 1,
   "id": "ae8c1c13",
   "metadata": {
    "_cell_guid": "b1076dfc-b9ad-4769-8c92-a6c4dae69d19",
    "_uuid": "8f2839f25d086af736a60e9eeb907d3b93b6e0e5",
    "execution": {
     "iopub.execute_input": "2022-12-10T22:23:46.492619Z",
     "iopub.status.busy": "2022-12-10T22:23:46.492135Z",
     "iopub.status.idle": "2022-12-10T22:23:49.074195Z",
     "shell.execute_reply": "2022-12-10T22:23:49.070238Z"
    },
    "papermill": {
     "duration": 2.595921,
     "end_time": "2022-12-10T22:23:49.080112",
     "exception": false,
     "start_time": "2022-12-10T22:23:46.484191",
     "status": "completed"
    },
    "tags": []
   },
   "outputs": [
    {
     "name": "stdout",
     "output_type": "stream",
     "text": [
      "/kaggle/input/graduate-admissions/Admission_Predict.csv\n",
      "/kaggle/input/graduate-admissions/Admission_Predict_Ver1.1.csv\n"
     ]
    }
   ],
   "source": [
    "# This Python 3 environment comes with many helpful analytics libraries installed\n",
    "# It is defined by the kaggle/python Docker image: https://github.com/kaggle/docker-python\n",
    "# For example, here's several helpful packages to load\n",
    "\n",
    "import numpy as np # linear algebra\n",
    "import pandas as pd # data processing, CSV file I/O (e.g. pd.read_csv)\n",
    "\n",
    "# Input data files are available in the read-only \"../input/\" directory\n",
    "# For example, running this (by clicking run or pressing Shift+Enter) will list all files under the input directory\n",
    "\n",
    "import os\n",
    "for dirname, _, filenames in os.walk('/kaggle/input'):\n",
    "    for filename in filenames:\n",
    "        print(os.path.join(dirname, filename))\n",
    "\n",
    "# You can write up to 20GB to the current directory (/kaggle/working/) that gets preserved as output when you create a version using \"Save & Run All\" \n",
    "# You can also write temporary files to /kaggle/temp/, but they won't be saved outside of the current session\n",
    "\n",
    "from sklearn.model_selection import train_test_split\n",
    "import matplotlib.pyplot as plt"
   ]
  },
  {
   "cell_type": "markdown",
   "id": "915f4104",
   "metadata": {
    "papermill": {
     "duration": 0.005966,
     "end_time": "2022-12-10T22:23:49.096136",
     "exception": false,
     "start_time": "2022-12-10T22:23:49.090170",
     "status": "completed"
    },
    "tags": []
   },
   "source": [
    "# Vectorization   <a id='vector'></a>   "
   ]
  },
  {
   "cell_type": "markdown",
   "id": "620fc2ba",
   "metadata": {
    "papermill": {
     "duration": 0.019787,
     "end_time": "2022-12-10T22:23:49.135650",
     "exception": false,
     "start_time": "2022-12-10T22:23:49.115863",
     "status": "completed"
    },
    "tags": []
   },
   "source": [
    "<div class=\"alert alert-block alert-info\">\n",
    "<b>Tip:</b> Tip: Instead of using loops in our Machine Learning functions, we can take advantage of matrices and vectors found in linear algebra libraries that are either built-in to a programming language or easily accessible. This concept is called vectorization.\n",
    "\n",
    "Those linear algebra libraries are generally well-written and highly optimized. So, by using them, our code will be more efficient and more straightforward. In this notebook, we will use the [NumPy](https://numpy.org/) library in Python for this purpose.\n",
    "</div>\n",
    "\n"
   ]
  },
  {
   "cell_type": "markdown",
   "id": "057cbfcc",
   "metadata": {
    "papermill": {
     "duration": 0.016268,
     "end_time": "2022-12-10T22:23:49.168549",
     "exception": false,
     "start_time": "2022-12-10T22:23:49.152281",
     "status": "completed"
    },
    "tags": []
   },
   "source": [
    "# Helper Functions   <a id='functions'></a>   "
   ]
  },
  {
   "cell_type": "markdown",
   "id": "a05bdd59",
   "metadata": {
    "papermill": {
     "duration": 0.019182,
     "end_time": "2022-12-10T22:23:49.194782",
     "exception": false,
     "start_time": "2022-12-10T22:23:49.175600",
     "status": "completed"
    },
    "tags": []
   },
   "source": [
    "<div class=\"alert alert-block alert-info\">\n",
    "<b>Tip:</b> Tip: We will use some helper functions throughout the notebook. Collecting them in one place is a good idea, making the code more organized. First, we will define and explain those functions and then use them in our code.\n",
    "</div>"
   ]
  },
  {
   "cell_type": "markdown",
   "id": "014e1ade",
   "metadata": {
    "papermill": {
     "duration": 0.023488,
     "end_time": "2022-12-10T22:23:49.252531",
     "exception": false,
     "start_time": "2022-12-10T22:23:49.229043",
     "status": "completed"
    },
    "tags": []
   },
   "source": [
    "# The  Hypothesis   <a id='hypothesis'></a>   "
   ]
  },
  {
   "cell_type": "markdown",
   "id": "78bcce67",
   "metadata": {
    "papermill": {
     "duration": 0.015812,
     "end_time": "2022-12-10T22:23:49.293024",
     "exception": false,
     "start_time": "2022-12-10T22:23:49.277212",
     "status": "completed"
    },
    "tags": []
   },
   "source": [
    "The hypothesis for a linear regression task with multiple variables is of the form: \n",
    "\n",
    "\n",
    "$\\hat{y} = h_\\theta(x) = \\theta_0 + \\theta_1 x_1 + \\theta_2 x_2 + ... + \\theta_n x_n$\n",
    "\n",
    "\n",
    "Where $\\hat{y} = h_\\theta(x)$ is the predicted target. The hypothesis will calculate the predicted values (or predicted targets) for a given set of inputs and $\\theta$ values ($\\theta_i$, where $i = 0,1,2,...,n$). \n",
    "\n",
    "\n",
    "Using vector notation, this equation can be rewritten as: \n",
    "\n",
    "\n",
    "$ h_\\theta(x) = \\begin{bmatrix}\\theta_{0} & \\theta_{1} & \\cdots & \\theta_{n}\n",
    "\\end{bmatrix} \\begin{bmatrix}x_{0}\\\\\n",
    "x_{1}\\\\\n",
    "\\vdots\\\\\n",
    "x_{n}\n",
    "\\end{bmatrix}= \\boldsymbol{\\theta}^T\\boldsymbol{x}$\n",
    "\n",
    "assuming $ \\boldsymbol{\\theta}$ and $\\boldsymbol{x}$ are column vectors and $\\boldsymbol{x_0 = 1}$.\n",
    "\n",
    "Each row in our dataset represents a sample such that:\n",
    "\n",
    "$ \\boldsymbol{X} = \\begin{bmatrix}x_{0}^{(1)} & x_{1}^{(1)} & \\cdots  & x_{n}^{(1)} \\\\\n",
    "x_{0}^{(2)} & x_{1}^{(2)} & \\cdots  & x_{n}^{(2)}\\\\\n",
    "\\vdots & \\vdots & \\vdots  & \\vdots\\\\\n",
    "x_{0}^{(m)} & x_{1}^{(m)} & \\cdots  & x_{n}^{(m)}\n",
    "\\end{bmatrix} and;$ \n",
    "\n",
    "$ \\boldsymbol{\\theta} = \\begin{bmatrix}\\theta_{0} \\\\\n",
    "\\theta_{1}\\\\\n",
    "\\vdots \\\\\n",
    "\\theta_{n}\n",
    "\\end{bmatrix}$\n",
    "\n",
    "Where $ \\boldsymbol{X} $ is the training or test dataset, $ \\boldsymbol{\\theta} $ is the $ \\theta $ vector, m is the number of samples, and n is the number of features. As a result, we can calculate the hypothesis as a column vector of $ (m x 1) $ as follows: \n",
    "\n",
    "$ h_\\theta(x) = \\boldsymbol{X}\\boldsymbol{\\theta} $"
   ]
  },
  {
   "cell_type": "code",
   "execution_count": 2,
   "id": "95d098a9",
   "metadata": {
    "execution": {
     "iopub.execute_input": "2022-12-10T22:23:49.334774Z",
     "iopub.status.busy": "2022-12-10T22:23:49.334245Z",
     "iopub.status.idle": "2022-12-10T22:23:49.362592Z",
     "shell.execute_reply": "2022-12-10T22:23:49.356672Z"
    },
    "papermill": {
     "duration": 0.050905,
     "end_time": "2022-12-10T22:23:49.365840",
     "exception": false,
     "start_time": "2022-12-10T22:23:49.314935",
     "status": "completed"
    },
    "tags": []
   },
   "outputs": [],
   "source": [
    "# The hypothesis\n",
    "def h(x, theta):\n",
    "    \"\"\"\n",
    "    calculates the predicted values (or predicted targets) for a given set of input and theta vectors.\n",
    "    :param x: inputs (feature values) - data frame of floats \n",
    "    :param theta: theta vector (weights) - Numpy array of floats\n",
    "    :return: predicted targets - Numpy array of floats\n",
    "    \n",
    "    \"\"\"\n",
    "    # The hypothesis is a column vector of m x 1\n",
    "    return np.dot(x, theta)"
   ]
  },
  {
   "cell_type": "markdown",
   "id": "0cf44729",
   "metadata": {
    "papermill": {
     "duration": 0.01216,
     "end_time": "2022-12-10T22:23:49.394725",
     "exception": false,
     "start_time": "2022-12-10T22:23:49.382565",
     "status": "completed"
    },
    "tags": []
   },
   "source": [
    "# The  Cost Function   <a id='cost'></a> "
   ]
  },
  {
   "cell_type": "markdown",
   "id": "9953724c",
   "metadata": {
    "papermill": {
     "duration": 0.015189,
     "end_time": "2022-12-10T22:23:49.418305",
     "exception": false,
     "start_time": "2022-12-10T22:23:49.403116",
     "status": "completed"
    },
    "tags": []
   },
   "source": [
    "We will use the squared error cost function as in the univariate linear regression case. Therefore, the cost function is:\n",
    "\n",
    "$ J(\\theta) = \\frac{1}{2m}\\sum_{i=1}^{m} (h_{\\theta}(x^{(i)})-y^i)^2 $\n",
    "\n",
    "where $m$ is the number of examples, $h_\\theta()$ is the hypothesis function, $ x^i $ is the $i^{th}$ training example, and $y^i$ is the actual output of $i^{th}$ training example. And the vectorized form of the cost function is as follows:\n",
    "\n",
    "$ J(\\theta) = \\frac{1}{2m}( X\\theta - \\vec y)^T(X\\theta - \\vec y) $\n",
    "\n",
    "where $m$ is the number of examples, $X$ is the training or test dataset, $ \\boldsymbol{\\theta} $ is the $ \\theta $ vector, $\\vec y$ is the vector of corresponding $y$ values, and $()^T$ is the transpose of the matrix. "
   ]
  },
  {
   "cell_type": "code",
   "execution_count": 3,
   "id": "cdb864ea",
   "metadata": {
    "execution": {
     "iopub.execute_input": "2022-12-10T22:23:49.448768Z",
     "iopub.status.busy": "2022-12-10T22:23:49.446187Z",
     "iopub.status.idle": "2022-12-10T22:23:49.456263Z",
     "shell.execute_reply": "2022-12-10T22:23:49.454296Z"
    },
    "papermill": {
     "duration": 0.039717,
     "end_time": "2022-12-10T22:23:49.464511",
     "exception": false,
     "start_time": "2022-12-10T22:23:49.424794",
     "status": "completed"
    },
    "tags": []
   },
   "outputs": [],
   "source": [
    "# The cost function\n",
    "\n",
    "def J(X,y,theta):\n",
    "    \"\"\"\n",
    "     Calculates the total error using squared error function.\n",
    "    :param X: inputs (feature values) - data frame of floats\n",
    "    :param y: outputs (actual target values) - Numpy array of floats\n",
    "    :param theta: theta vector (weights) - Numpy array of floats\n",
    "    :return: total error - float\n",
    "    \n",
    "    \"\"\"\n",
    "    # Calculate number of examples\n",
    "    m = len(X)\n",
    "    \n",
    "    # Calculate the constant\n",
    "    c = 1/(2 * m)\n",
    "       \n",
    "    # Calculate the array of errors\n",
    "    temp_0 = h(X, theta) - y.reshape(-1)\n",
    "\n",
    "    # Calculate the transpose of array of errors\n",
    "    temp_1 = temp_0.transpose()\n",
    "\n",
    "    # Calculate the dot product \n",
    "    temp_2 = np.dot(temp_1, temp_0) \n",
    "\n",
    "    return  c * temp_2"
   ]
  },
  {
   "cell_type": "markdown",
   "id": "69408b31",
   "metadata": {
    "papermill": {
     "duration": 0.006544,
     "end_time": "2022-12-10T22:23:49.486373",
     "exception": false,
     "start_time": "2022-12-10T22:23:49.479829",
     "status": "completed"
    },
    "tags": []
   },
   "source": [
    "# Gradient Descent   <a id='gradient'></a> "
   ]
  },
  {
   "cell_type": "markdown",
   "id": "18e53739",
   "metadata": {
    "papermill": {
     "duration": 0.00592,
     "end_time": "2022-12-10T22:23:49.506694",
     "exception": false,
     "start_time": "2022-12-10T22:23:49.500774",
     "status": "completed"
    },
    "tags": []
   },
   "source": [
    "The gradient descent calculation is similar to what we have seen in the [univariate version](https://www.kaggle.com/code/erkanhatipoglu/univariate-linear-regression-from-scratch?kernelSessionId=106646889):\n",
    "\n",
    "$  \\text{repeat  until  convergence:  \\{} $\n",
    "\n",
    "$\\theta_0 := \\theta_0 - \\alpha\\frac{1}{m}\\sum_{i=1}^{m} (h_{\\theta}(x^{(i)})-y^{(i)}).x_0^{(i)}$\n",
    "\n",
    "$\\theta_1 := \\theta_1 - \\alpha\\frac{1}{m}\\sum_{i=1}^{m} (h_{\\theta}(x^{(i)})-y^{(i)}).x_1^{(i)}$\n",
    "\n",
    "$\\theta_2 := \\theta_2 - \\alpha\\frac{1}{m}\\sum_{i=1}^{m} (h_{\\theta}(x^{(i)})-y^{(i)}).x_2^{(i)}$\n",
    "\n",
    "$\\cdots $\n",
    "\n",
    "$\\theta_n := \\theta_n - \\alpha\\frac{1}{m}\\sum_{i=1}^{m} (h_{\\theta}(x^{(i)})-y^{(i)}).x_n^{(i)}$\n",
    "\n",
    "$  \\text{ \\}}$\n",
    "\n",
    "where\n",
    "\n",
    "$n$ is the number of features,\n",
    "\n",
    "$\\theta_j$ (for $j = 0,1,2,\\cdots,n$) is the corresponding weights for each feature, \n",
    "\n",
    "$\\alpha$ is the learning rate, \n",
    "\n",
    "$m$ is the number of examples, \n",
    "\n",
    "$h_{\\theta}(x^{(i)})$ is the result of the hypothesis function for the $i^{th}$ training example, \n",
    "\n",
    "$y^{(i)}$ is the actual value for the $i^{th}$ training example,\n",
    "\n",
    "and $x_k^{(i)}$ (for $k = 0,1,2,\\cdots,n$) is the value of the $k^{th}$ feature for the $i^{th}$ training example.\n"
   ]
  },
  {
   "cell_type": "markdown",
   "id": "f3ee950f",
   "metadata": {
    "papermill": {
     "duration": 0.006467,
     "end_time": "2022-12-10T22:23:49.527680",
     "exception": false,
     "start_time": "2022-12-10T22:23:49.521213",
     "status": "completed"
    },
    "tags": []
   },
   "source": [
    "\n",
    "Therefore, the vectorized form of the gradient descent is as follows: \n",
    "\n",
    "$ \\boldsymbol{\\theta} := \\boldsymbol{\\theta} - \\frac{\\alpha}{m} \\boldsymbol{X}^T (\\boldsymbol{X}\\boldsymbol{\\theta} - \\vec y) $\n",
    "\n",
    "where $ \\boldsymbol{\\theta} $ is the $ \\theta $ vector, $\\alpha$ is the learning rate, $m$ is the number of examples, $X$ is the training or test dataset, $()^T$ is the transpose of the matrix, and $\\vec y$ is the vector of corresponding $y$ values."
   ]
  },
  {
   "cell_type": "code",
   "execution_count": 4,
   "id": "96b5e1d6",
   "metadata": {
    "execution": {
     "iopub.execute_input": "2022-12-10T22:23:49.561923Z",
     "iopub.status.busy": "2022-12-10T22:23:49.559796Z",
     "iopub.status.idle": "2022-12-10T22:23:49.583739Z",
     "shell.execute_reply": "2022-12-10T22:23:49.576231Z"
    },
    "papermill": {
     "duration": 0.046469,
     "end_time": "2022-12-10T22:23:49.590777",
     "exception": false,
     "start_time": "2022-12-10T22:23:49.544308",
     "status": "completed"
    },
    "tags": []
   },
   "outputs": [],
   "source": [
    "# Gradient descent function\n",
    "def gradient(X, y, theta, alpha):\n",
    "    \"\"\"\n",
    "     calculates the gradient descent.\n",
    "    :param X: inputs (feature values) - data frame of floats\n",
    "    :param y: outputs (actual target values) - Numpy array of floats\n",
    "    :param theta: theta vector (weights) - Numpy array of floats\n",
    "    :param alpha: learning rate\n",
    "    :return: new theta - Numpy array of floats\n",
    "    \n",
    "    \"\"\"\n",
    "    # Calculate number of examples\n",
    "    m = len(X)\n",
    "    \n",
    "    # Calculate the constant\n",
    "    c =  alpha / m\n",
    "        \n",
    "    # calculate the transpose of X\n",
    "    temp_0 = X.transpose()\n",
    "        \n",
    "    # Calculate the array of errors\n",
    "    temp_1 = h(X, theta) - y.reshape(-1) \n",
    "        \n",
    "    # Calculate the dot product \n",
    "    temp_2 = np.dot(temp_0, temp_1)\n",
    "        \n",
    "    return theta - (c * temp_2)"
   ]
  },
  {
   "cell_type": "markdown",
   "id": "e09f772c",
   "metadata": {
    "papermill": {
     "duration": 0.012771,
     "end_time": "2022-12-10T22:23:49.614753",
     "exception": false,
     "start_time": "2022-12-10T22:23:49.601982",
     "status": "completed"
    },
    "tags": []
   },
   "source": [
    "# Feature Normalization  <a id='normalization'></a>"
   ]
  },
  {
   "cell_type": "markdown",
   "id": "df62b044",
   "metadata": {
    "papermill": {
     "duration": 0.008143,
     "end_time": "2022-12-10T22:23:49.634555",
     "exception": false,
     "start_time": "2022-12-10T22:23:49.626412",
     "status": "completed"
    },
    "tags": []
   },
   "source": [
    "<div class=\"alert alert-block alert-info\">\n",
    "<b>Tip:</b> Tip: Making the feature values approximately the same scale (i.e., a similar range of values) speeds up the gradient descent. Therefore in this notebook, we will scale some features in our dataset.\n",
    "</div>"
   ]
  },
  {
   "cell_type": "markdown",
   "id": "e4cd0ec3",
   "metadata": {
    "papermill": {
     "duration": 0.021125,
     "end_time": "2022-12-10T22:23:49.671841",
     "exception": false,
     "start_time": "2022-12-10T22:23:49.650716",
     "status": "completed"
    },
    "tags": []
   },
   "source": [
    "There are various techniques for normalization; we will present three of them:\n",
    "\n",
    "**Standardization:** $\\frac{X-X.mean}{X.std}$\n",
    "\n",
    "**Mean Normalization** $\\frac{X-X.mean}{X.max - X.min}$\n",
    "\n",
    "**Min-Max Scaling:** $\\frac{X-X.min}{X.max - X.min}$"
   ]
  },
  {
   "cell_type": "code",
   "execution_count": 5,
   "id": "c1a5c051",
   "metadata": {
    "execution": {
     "iopub.execute_input": "2022-12-10T22:23:49.704036Z",
     "iopub.status.busy": "2022-12-10T22:23:49.703139Z",
     "iopub.status.idle": "2022-12-10T22:23:49.720533Z",
     "shell.execute_reply": "2022-12-10T22:23:49.714118Z"
    },
    "papermill": {
     "duration": 0.041657,
     "end_time": "2022-12-10T22:23:49.730518",
     "exception": false,
     "start_time": "2022-12-10T22:23:49.688861",
     "status": "completed"
    },
    "tags": []
   },
   "outputs": [],
   "source": [
    "# Normalization and Standardization\n",
    "def normalize(X):\n",
    "    \"\"\"\n",
    "     Applies standardization to the dataframe.\n",
    "    :param X: unnormalized features - data frame of floats\n",
    "    :return: normalized features - data frame of floats\n",
    "    \n",
    "    \"\"\"\n",
    "    columns = ['GRE Score', 'TOEFL Score', 'CGPA']\n",
    "    for column in columns:\n",
    "        \n",
    "        # Use this if you want Z-Score Normalization (or Standardization).\n",
    "        # Note that you must play with the learning rate\n",
    "        # and convergence threshold for better results.        \n",
    "        # X[column] = (X[column] - X[column].mean()) / X[column].std()\n",
    "        \n",
    "        # Use this if you want Mean Normalization.\n",
    "        # Note that you must play with the learning rate\n",
    "        # and convergence threshold for better results.        \n",
    "        # X[column] = (X[column] - X[column].mean()) / (X[column].max() - X[column].min()) or\n",
    "                \n",
    "        # Use this if you want Min-Max Scaling (or Min-Max Normalization).\n",
    "        # Note that you must play with the learning rate\n",
    "        # and convergence threshold for better results.  \n",
    "        # X[column] = (X[column] - X[column].min()) / (X[column].max() - X[column].min())\n",
    "        \n",
    "        # We will use Min-Max Scaling.\n",
    "        X[column] = (X[column] - X[column].min()) / (X[column].max() - X[column].min())\n",
    "        \n",
    "    return X"
   ]
  },
  {
   "cell_type": "markdown",
   "id": "726cd680",
   "metadata": {
    "papermill": {
     "duration": 0.007191,
     "end_time": "2022-12-10T22:23:49.748023",
     "exception": false,
     "start_time": "2022-12-10T22:23:49.740832",
     "status": "completed"
    },
    "tags": []
   },
   "source": [
    "# Loading Data   <a id='getdata'></a> "
   ]
  },
  {
   "cell_type": "code",
   "execution_count": 6,
   "id": "328a7921",
   "metadata": {
    "execution": {
     "iopub.execute_input": "2022-12-10T22:23:49.783729Z",
     "iopub.status.busy": "2022-12-10T22:23:49.782815Z",
     "iopub.status.idle": "2022-12-10T22:23:49.910359Z",
     "shell.execute_reply": "2022-12-10T22:23:49.909635Z"
    },
    "papermill": {
     "duration": 0.147133,
     "end_time": "2022-12-10T22:23:49.912491",
     "exception": false,
     "start_time": "2022-12-10T22:23:49.765358",
     "status": "completed"
    },
    "tags": []
   },
   "outputs": [
    {
     "data": {
      "text/html": [
       "<div>\n",
       "<style scoped>\n",
       "    .dataframe tbody tr th:only-of-type {\n",
       "        vertical-align: middle;\n",
       "    }\n",
       "\n",
       "    .dataframe tbody tr th {\n",
       "        vertical-align: top;\n",
       "    }\n",
       "\n",
       "    .dataframe thead th {\n",
       "        text-align: right;\n",
       "    }\n",
       "</style>\n",
       "<table border=\"1\" class=\"dataframe\">\n",
       "  <thead>\n",
       "    <tr style=\"text-align: right;\">\n",
       "      <th></th>\n",
       "      <th>GRE Score</th>\n",
       "      <th>TOEFL Score</th>\n",
       "      <th>University Rating</th>\n",
       "      <th>SOP</th>\n",
       "      <th>LOR</th>\n",
       "      <th>CGPA</th>\n",
       "      <th>Research</th>\n",
       "    </tr>\n",
       "  </thead>\n",
       "  <tbody>\n",
       "    <tr>\n",
       "      <th>107</th>\n",
       "      <td>0.96</td>\n",
       "      <td>0.892857</td>\n",
       "      <td>4</td>\n",
       "      <td>3.5</td>\n",
       "      <td>4.5</td>\n",
       "      <td>0.852564</td>\n",
       "      <td>1</td>\n",
       "    </tr>\n",
       "    <tr>\n",
       "      <th>336</th>\n",
       "      <td>0.58</td>\n",
       "      <td>0.642857</td>\n",
       "      <td>3</td>\n",
       "      <td>3.0</td>\n",
       "      <td>2.5</td>\n",
       "      <td>0.637821</td>\n",
       "      <td>0</td>\n",
       "    </tr>\n",
       "    <tr>\n",
       "      <th>71</th>\n",
       "      <td>0.92</td>\n",
       "      <td>0.714286</td>\n",
       "      <td>5</td>\n",
       "      <td>5.0</td>\n",
       "      <td>5.0</td>\n",
       "      <td>0.948718</td>\n",
       "      <td>1</td>\n",
       "    </tr>\n",
       "    <tr>\n",
       "      <th>474</th>\n",
       "      <td>0.36</td>\n",
       "      <td>0.464286</td>\n",
       "      <td>4</td>\n",
       "      <td>3.0</td>\n",
       "      <td>2.5</td>\n",
       "      <td>0.368590</td>\n",
       "      <td>1</td>\n",
       "    </tr>\n",
       "    <tr>\n",
       "      <th>6</th>\n",
       "      <td>0.62</td>\n",
       "      <td>0.607143</td>\n",
       "      <td>3</td>\n",
       "      <td>3.0</td>\n",
       "      <td>4.0</td>\n",
       "      <td>0.448718</td>\n",
       "      <td>1</td>\n",
       "    </tr>\n",
       "  </tbody>\n",
       "</table>\n",
       "</div>"
      ],
      "text/plain": [
       "     GRE Score  TOEFL Score  University Rating  SOP  LOR       CGPA  Research\n",
       "107       0.96     0.892857                  4  3.5   4.5  0.852564         1\n",
       "336       0.58     0.642857                  3  3.0   2.5  0.637821         0\n",
       "71        0.92     0.714286                  5  5.0   5.0  0.948718         1\n",
       "474       0.36     0.464286                  4  3.0   2.5  0.368590         1\n",
       "6         0.62     0.607143                  3  3.0   4.0  0.448718         1"
      ]
     },
     "execution_count": 6,
     "metadata": {},
     "output_type": "execute_result"
    }
   ],
   "source": [
    "# Get the data. Note that there are two versions. We will use the one\n",
    "# with the most rows.\n",
    "\n",
    "train_data = pd.read_csv(\"/kaggle/input/graduate-admissions/Admission_Predict_Ver1.1.csv\")\n",
    "\n",
    "# Set X and y\n",
    "X = train_data.drop(['Chance of Admit ', 'Serial No.'], axis=1) # Chance of Admit is the target variable and Serial No. is the order. So we drop them.\n",
    "y = pd.DataFrame(data = train_data['Chance of Admit ']).to_numpy()\n",
    "\n",
    "# \n",
    "X = normalize(X)\n",
    "\n",
    "# Instead of finding probabilities, we want to calculate the percentages.\n",
    "y = y * 100\n",
    "\n",
    "# Break off validation set from training data\n",
    "X_train, X_valid, y_train, y_valid = train_test_split(X, y, train_size=0.8, test_size=0.2, random_state = 0)\n",
    "\n",
    "X_train.head()"
   ]
  },
  {
   "cell_type": "code",
   "execution_count": 7,
   "id": "268d8e6c",
   "metadata": {
    "execution": {
     "iopub.execute_input": "2022-12-10T22:23:49.936651Z",
     "iopub.status.busy": "2022-12-10T22:23:49.935509Z",
     "iopub.status.idle": "2022-12-10T22:23:49.978723Z",
     "shell.execute_reply": "2022-12-10T22:23:49.971218Z"
    },
    "papermill": {
     "duration": 0.066349,
     "end_time": "2022-12-10T22:23:49.986822",
     "exception": false,
     "start_time": "2022-12-10T22:23:49.920473",
     "status": "completed"
    },
    "tags": []
   },
   "outputs": [
    {
     "data": {
      "text/html": [
       "<div>\n",
       "<style scoped>\n",
       "    .dataframe tbody tr th:only-of-type {\n",
       "        vertical-align: middle;\n",
       "    }\n",
       "\n",
       "    .dataframe tbody tr th {\n",
       "        vertical-align: top;\n",
       "    }\n",
       "\n",
       "    .dataframe thead th {\n",
       "        text-align: right;\n",
       "    }\n",
       "</style>\n",
       "<table border=\"1\" class=\"dataframe\">\n",
       "  <thead>\n",
       "    <tr style=\"text-align: right;\">\n",
       "      <th></th>\n",
       "      <th>GRE Score</th>\n",
       "      <th>TOEFL Score</th>\n",
       "      <th>University Rating</th>\n",
       "      <th>SOP</th>\n",
       "      <th>LOR</th>\n",
       "      <th>CGPA</th>\n",
       "      <th>Research</th>\n",
       "    </tr>\n",
       "  </thead>\n",
       "  <tbody>\n",
       "    <tr>\n",
       "      <th>107</th>\n",
       "      <td>0.96</td>\n",
       "      <td>0.892857</td>\n",
       "      <td>4</td>\n",
       "      <td>3.5</td>\n",
       "      <td>4.5</td>\n",
       "      <td>0.852564</td>\n",
       "      <td>1</td>\n",
       "    </tr>\n",
       "    <tr>\n",
       "      <th>336</th>\n",
       "      <td>0.58</td>\n",
       "      <td>0.642857</td>\n",
       "      <td>3</td>\n",
       "      <td>3.0</td>\n",
       "      <td>2.5</td>\n",
       "      <td>0.637821</td>\n",
       "      <td>0</td>\n",
       "    </tr>\n",
       "    <tr>\n",
       "      <th>71</th>\n",
       "      <td>0.92</td>\n",
       "      <td>0.714286</td>\n",
       "      <td>5</td>\n",
       "      <td>5.0</td>\n",
       "      <td>5.0</td>\n",
       "      <td>0.948718</td>\n",
       "      <td>1</td>\n",
       "    </tr>\n",
       "    <tr>\n",
       "      <th>474</th>\n",
       "      <td>0.36</td>\n",
       "      <td>0.464286</td>\n",
       "      <td>4</td>\n",
       "      <td>3.0</td>\n",
       "      <td>2.5</td>\n",
       "      <td>0.368590</td>\n",
       "      <td>1</td>\n",
       "    </tr>\n",
       "    <tr>\n",
       "      <th>6</th>\n",
       "      <td>0.62</td>\n",
       "      <td>0.607143</td>\n",
       "      <td>3</td>\n",
       "      <td>3.0</td>\n",
       "      <td>4.0</td>\n",
       "      <td>0.448718</td>\n",
       "      <td>1</td>\n",
       "    </tr>\n",
       "  </tbody>\n",
       "</table>\n",
       "</div>"
      ],
      "text/plain": [
       "     GRE Score  TOEFL Score  University Rating  SOP  LOR       CGPA  Research\n",
       "107       0.96     0.892857                  4  3.5   4.5  0.852564         1\n",
       "336       0.58     0.642857                  3  3.0   2.5  0.637821         0\n",
       "71        0.92     0.714286                  5  5.0   5.0  0.948718         1\n",
       "474       0.36     0.464286                  4  3.0   2.5  0.368590         1\n",
       "6         0.62     0.607143                  3  3.0   4.0  0.448718         1"
      ]
     },
     "execution_count": 7,
     "metadata": {},
     "output_type": "execute_result"
    }
   ],
   "source": [
    "X_train.head()"
   ]
  },
  {
   "cell_type": "markdown",
   "id": "70bec91c",
   "metadata": {
    "papermill": {
     "duration": 0.007734,
     "end_time": "2022-12-10T22:23:50.006580",
     "exception": false,
     "start_time": "2022-12-10T22:23:49.998846",
     "status": "completed"
    },
    "tags": []
   },
   "source": [
    "# Model Training   <a id='training'></a> "
   ]
  },
  {
   "cell_type": "markdown",
   "id": "a3feb309",
   "metadata": {
    "papermill": {
     "duration": 0.012909,
     "end_time": "2022-12-10T22:23:50.034153",
     "exception": false,
     "start_time": "2022-12-10T22:23:50.021244",
     "status": "completed"
    },
    "tags": []
   },
   "source": [
    "Model training content"
   ]
  },
  {
   "cell_type": "code",
   "execution_count": 8,
   "id": "8850a91b",
   "metadata": {
    "execution": {
     "iopub.execute_input": "2022-12-10T22:23:50.069669Z",
     "iopub.status.busy": "2022-12-10T22:23:50.069277Z",
     "iopub.status.idle": "2022-12-10T22:23:50.172699Z",
     "shell.execute_reply": "2022-12-10T22:23:50.171041Z"
    },
    "papermill": {
     "duration": 0.128828,
     "end_time": "2022-12-10T22:23:50.175643",
     "exception": false,
     "start_time": "2022-12-10T22:23:50.046815",
     "status": "completed"
    },
    "tags": []
   },
   "outputs": [
    {
     "name": "stdout",
     "output_type": "stream",
     "text": [
      "initial Cost: 2741.2200000000003\n",
      "\n",
      "Iteration: 1\n",
      "Calculated cost: 1803.536465562745\n",
      "cost difference: 937.6835344372553\n",
      "\n",
      "Iteration: 2\n",
      "Calculated cost: 1194.666514354635\n",
      "cost difference: 608.86995120811\n",
      "\n",
      "Iteration: 3\n",
      "Calculated cost: 799.3013538757673\n",
      "cost difference: 395.36516047886767\n",
      "\n",
      "Iteration: 4\n",
      "Calculated cost: 542.5688457291143\n",
      "cost difference: 256.732508146653\n",
      "\n",
      "Iteration: 5\n",
      "Calculated cost: 375.85312124304767\n",
      "cost difference: 166.71572448606662\n",
      "\n",
      "Iteration: 6\n",
      "Calculated cost: 267.586994808255\n",
      "cost difference: 108.26612643479268\n",
      "\n",
      "Iteration: 7\n",
      "Calculated cost: 197.2733070302654\n",
      "cost difference: 70.31368777798957\n",
      "\n",
      "Iteration: 8\n",
      "Calculated cost: 151.6028719171572\n",
      "cost difference: 45.670435113108226\n",
      "\n",
      "Iteration: 9\n",
      "Calculated cost: 121.9337879653226\n",
      "cost difference: 29.669083951834594\n",
      "\n",
      "Iteration: 10\n",
      "Calculated cost: 102.65470808144767\n",
      "cost difference: 19.279079883874928\n",
      "\n",
      "Iteration: 11\n",
      "Calculated cost: 90.12208037681452\n",
      "cost difference: 12.532627704633143\n",
      "\n",
      "Iteration: 12\n",
      "Calculated cost: 81.97007889780986\n",
      "cost difference: 8.152001479004667\n",
      "\n",
      "Iteration: 13\n",
      "Calculated cost: 76.66252884647793\n",
      "cost difference: 5.30755005133193\n",
      "\n",
      "Iteration: 14\n",
      "Calculated cost: 73.20196331315147\n",
      "cost difference: 3.4605655333264593\n",
      "\n",
      "Iteration: 15\n",
      "Calculated cost: 70.94070841511464\n",
      "cost difference: 2.2612548980368246\n",
      "\n",
      "Iteration: 16\n",
      "Calculated cost: 69.45821737222248\n",
      "cost difference: 1.482491042892164\n",
      "\n",
      "Iteration: 17\n",
      "Calculated cost: 68.4814212463933\n",
      "cost difference: 0.976796125829182\n",
      "\n",
      "Iteration: 18\n",
      "Calculated cost: 67.83301119903675\n",
      "cost difference: 0.6484100473565491\n",
      "\n",
      "Iteration: 19\n",
      "Calculated cost: 67.39785720128711\n",
      "cost difference: 0.43515399774963726\n",
      "\n",
      "Iteration: 20\n",
      "Calculated cost: 67.10120307952614\n",
      "cost difference: 0.29665412176096595\n",
      "\n",
      "Iteration: 21\n",
      "Calculated cost: 66.89450815389439\n",
      "cost difference: 0.2066949256317514\n",
      "\n",
      "Iteration: 22\n",
      "Calculated cost: 66.7462539514959\n",
      "cost difference: 0.14825420239849052\n",
      "\n",
      "Iteration: 23\n",
      "Calculated cost: 66.63597483471817\n",
      "cost difference: 0.11027911677773261\n",
      "\n",
      "Iteration: 24\n",
      "Calculated cost: 66.55038197744864\n",
      "cost difference: 0.08559285726953192\n",
      "\n",
      " Calculated theta: [2.03692557 1.13926025 1.14289218 6.02902784 6.60181418 6.82324225\n",
      " 1.20521232 1.25048269]\n"
     ]
    }
   ],
   "source": [
    "# Initialize\n",
    "\n",
    "\n",
    "# Calculate the number of examles\n",
    "m_train = len(X_train)\n",
    "m_valid = len(X_valid)\n",
    "\n",
    "# Calculate the number of features\n",
    "# including X_0\n",
    "n = len(X_train.axes[1]) + 1\n",
    "\n",
    "# Make a list of ones\n",
    "ones_train = [1] * m_train\n",
    "ones_valid = [1] * m_valid\n",
    "\n",
    "# Insert ones to the fist column since\n",
    "# X_0 for all training examples should\n",
    "# be one.\n",
    "X_train.insert(0, \"X_0\", ones_train, True)\n",
    "X_valid.insert(0, \"X_0\", ones_valid, True)\n",
    "\n",
    "# Select zero vector for initial theta\n",
    "zero_list= [0] * n\n",
    "theta = np.asarray(zero_list)\n",
    "\n",
    "# set learning rate \n",
    "alpha = 0.005\n",
    "\n",
    "# Set convergence threshold\n",
    "threshold = 0.1\n",
    "\n",
    "# Initial cost value.\n",
    "# Will also be used in the first iteration\n",
    "# of the while loop. If the initial cost\n",
    "# is smaller then convergence threshold then\n",
    "# while loop will not be executed.\n",
    "cost_diff = J(X_train, y_train, theta)\n",
    "print(\"initial Cost: {}\".format(cost_diff))\n",
    "\n",
    "# We will count the number of iterations.\n",
    "my_iter = 0\n",
    "\n",
    "# Create a dictionary of cost values for debugging\n",
    "cost_dict = {} # will be used for storing the cost value of each iteration.\n",
    "\n",
    "# Add initial cost value to the dictionary\n",
    "my_key = \"I_\" + str(my_iter)\n",
    "cost_dict[my_key] = cost_diff\n",
    "\n",
    "# Start gradient descent\n",
    "while cost_diff >= threshold:\n",
    "    \n",
    "    # calculate initial cost value\n",
    "    initial_cost = J(X_train, y_train, theta)\n",
    "    \n",
    "    # calculate and assign the new theta values\n",
    "    theta = gradient(X_train, y_train, theta, alpha)\n",
    "    \n",
    "    # calculate the consecutive cost value\n",
    "    new_cost = J(X_train, y_train, theta)\n",
    "        \n",
    "    # calculate the difference between the consecutive\n",
    "    # cost values\n",
    "    cost_diff = initial_cost - new_cost\n",
    "    \n",
    "    # Update the dictionary\n",
    "    my_key = \"I_\" + str(my_iter)\n",
    "    cost_dict[my_key] = new_cost\n",
    "    \n",
    "    my_iter += 1\n",
    "    \n",
    "    print()\n",
    "    print(\"Iteration: {}\".format(my_iter))\n",
    "    print(\"Calculated cost: {}\".format(new_cost))\n",
    "    print(\"cost difference: {}\".format(cost_diff))\n",
    "\n",
    "print(\"\\n Calculated theta: {}\".format(theta))\n",
    "  \n"
   ]
  },
  {
   "cell_type": "code",
   "execution_count": 9,
   "id": "75dec78a",
   "metadata": {
    "execution": {
     "iopub.execute_input": "2022-12-10T22:23:50.205174Z",
     "iopub.status.busy": "2022-12-10T22:23:50.204797Z",
     "iopub.status.idle": "2022-12-10T22:23:50.873146Z",
     "shell.execute_reply": "2022-12-10T22:23:50.865865Z"
    },
    "papermill": {
     "duration": 0.692853,
     "end_time": "2022-12-10T22:23:50.880942",
     "exception": false,
     "start_time": "2022-12-10T22:23:50.188089",
     "status": "completed"
    },
    "tags": []
   },
   "outputs": [
    {
     "data": {
      "text/plain": [
       "[<matplotlib.lines.Line2D at 0x7fb82126fb50>]"
      ]
     },
     "execution_count": 9,
     "metadata": {},
     "output_type": "execute_result"
    },
    {
     "data": {
      "image/png": "[encoded data removed]",
      "text/plain": [
       "<Figure size 1440x720 with 1 Axes>"
      ]
     },
     "metadata": {
      "needs_background": "light"
     },
     "output_type": "display_data"
    }
   ],
   "source": [
    "# Plot Debugging Curve\n",
    "Y1=[x for x in cost_dict.values()]\n",
    "\n",
    "X1=[x for x in cost_dict.keys()]\n",
    "\n",
    "fig = plt.figure(figsize=[20, 10])\n",
    "plt.xlabel('Iterations')\n",
    "plt.ylabel('J(θ)')\n",
    "plt.title('Debugging Curve')\n",
    "plt.plot(X1,Y1, color='tab:blue')\n"
   ]
  },
  {
   "cell_type": "markdown",
   "id": "50c77785",
   "metadata": {
    "papermill": {
     "duration": 0.008008,
     "end_time": "2022-12-10T22:23:50.905689",
     "exception": false,
     "start_time": "2022-12-10T22:23:50.897681",
     "status": "completed"
    },
    "tags": []
   },
   "source": [
    "# Model Validation   <a id='validation'></a> "
   ]
  },
  {
   "cell_type": "markdown",
   "id": "714c2e3e",
   "metadata": {
    "papermill": {
     "duration": 0.01306,
     "end_time": "2022-12-10T22:23:50.934819",
     "exception": false,
     "start_time": "2022-12-10T22:23:50.921759",
     "status": "completed"
    },
    "tags": []
   },
   "source": [
    "model validation content"
   ]
  },
  {
   "cell_type": "code",
   "execution_count": 10,
   "id": "9972c8a4",
   "metadata": {
    "execution": {
     "iopub.execute_input": "2022-12-10T22:23:50.964495Z",
     "iopub.status.busy": "2022-12-10T22:23:50.964135Z",
     "iopub.status.idle": "2022-12-10T22:23:50.972580Z",
     "shell.execute_reply": "2022-12-10T22:23:50.970492Z"
    },
    "papermill": {
     "duration": 0.040474,
     "end_time": "2022-12-10T22:23:50.986086",
     "exception": false,
     "start_time": "2022-12-10T22:23:50.945612",
     "status": "completed"
    },
    "tags": []
   },
   "outputs": [
    {
     "name": "stdout",
     "output_type": "stream",
     "text": [
      "\n",
      " theta: [2.03692557 1.13926025 1.14289218 6.02902784 6.60181418 6.82324225\n",
      " 1.20521232 1.25048269]\n",
      "\n",
      "Cost of test data: 76.48149798139413\n"
     ]
    }
   ],
   "source": [
    "print(\"\\n theta: {}\\n\".format(theta))\n",
    "\n",
    "# calculate the cost value for the test set\n",
    "cost_test = J(X_valid, y_valid, theta)\n",
    "print(\"Cost of test data: {}\".format(cost_test))"
   ]
  },
  {
   "cell_type": "markdown",
   "id": "9c83dd8e",
   "metadata": {
    "papermill": {
     "duration": 0.011554,
     "end_time": "2022-12-10T22:23:51.023413",
     "exception": false,
     "start_time": "2022-12-10T22:23:51.011859",
     "status": "completed"
    },
    "tags": []
   },
   "source": [
    "# Conclusion   <a id='conclusion'></a> "
   ]
  },
  {
   "cell_type": "markdown",
   "id": "c18d8f91",
   "metadata": {
    "papermill": {
     "duration": 0.007811,
     "end_time": "2022-12-10T22:23:51.045282",
     "exception": false,
     "start_time": "2022-12-10T22:23:51.037471",
     "status": "completed"
    },
    "tags": []
   },
   "source": [
    "Conclusion content"
   ]
  },
  {
   "cell_type": "markdown",
   "id": "65daa673",
   "metadata": {
    "papermill": {
     "duration": 0.012045,
     "end_time": "2022-12-10T22:23:51.074052",
     "exception": false,
     "start_time": "2022-12-10T22:23:51.062007",
     "status": "completed"
    },
    "tags": []
   },
   "source": [
    "# References   <a id='references'></a>\n",
    "* [Machine Learning Specialization - Deeplearning.AI](https://www.deeplearning.ai/program/machine-learning-specialization/)\n",
    "* [Andrew Ng](https://en.wikipedia.org/wiki/Andrew_Ng)\n",
    "* [@Mohan S Acharya](https://www.kaggle.com/mohansacharya)\n",
    "* [10-simple-hacks-to-speed-up-your-data-analysis - Parul Pandey](https://www.kaggle.com/parulpandey/10-simple-hacks-to-speed-up-your-data-analysis)\n",
    "* [Univariate Linear Regression From Scratch - Kaggle](https://www.kaggle.com/code/erkanhatipoglu/univariate-linear-regression-from-scratch)\n",
    "* [Univariate Linear Regression From Scratch - Towards AI](https://pub.towardsai.net/univariate-linear-regression-from-scratch-68065fe8eb09)\n",
    "* [Towards AI](https://pub.towardsai.net/)"
   ]
  }
 ],
 "metadata": {
  "kernelspec": {
   "display_name": "Python 3",
   "language": "python",
   "name": "python3"
  },
  "language_info": {
   "codemirror_mode": {
    "name": "ipython",
    "version": 3
   },
   "file_extension": ".py",
   "mimetype": "text/x-python",
   "name": "python",
   "nbconvert_exporter": "python",
   "pygments_lexer": "ipython3",
   "version": "3.7.12"
  },
  "papermill": {
   "default_parameters": {},
   "duration": 19.906549,
   "end_time": "2022-12-10T22:23:53.626807",
   "environment_variables": {},
   "exception": null,
   "input_path": "__notebook__.ipynb",
   "output_path": "__notebook__.ipynb",
   "parameters": {},
   "start_time": "2022-12-10T22:23:33.720258",
   "version": "2.3.4"
  }
 },
 "nbformat": 4,
 "nbformat_minor": 5
}
