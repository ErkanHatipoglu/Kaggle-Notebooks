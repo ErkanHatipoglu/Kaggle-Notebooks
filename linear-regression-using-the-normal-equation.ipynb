{
 "cells": [
  {
   "cell_type": "markdown",
   "id": "3e04da21",
   "metadata": {
    "papermill": {
     "duration": 0.007381,
     "end_time": "2023-03-21T12:33:11.949290",
     "exception": false,
     "start_time": "2023-03-21T12:33:11.941909",
     "status": "completed"
    },
    "tags": []
   },
   "source": [
    "# Introduction  <a id='introduction'></a>\n",
    "\n",
    "In [Multivariate Linear Regression From Scratch](https://www.kaggle.com/code/erkanhatipoglu/multivariate-linear-regression-from-scratch) notebook, we have seen how to utilize the gradient descent algorithm to solve a multiple linear regression task. We have used the negative gradient of the cost function j(θ) and taken tiny steps to calculate the θ vector that minimizes j(θ) to find the best linear fit for our data. Yet, we may have an alternative analytical solution called the 'normal equation' for a linear regression task.\n",
    "\n",
    "We will first explain the 'normal equation' and compare it with gradient descent to identify the advantages and limitations. Then, we will use the dataset we used in the [Multivariate Linear Regression From Scratch](https://www.kaggle.com/code/erkanhatipoglu/multivariate-linear-regression-from-scratch) notebook to find the θ vector using the 'normal equation.' We will then validate our data with the same validation data we used earlier and compare the results. Interested Kagglers may refer to the [References](#references) section for my works on linear regression for more detailed explanations.  \n",
    "\n",
    "This notebook is greatly inspired by the famous Machine Learning course by [Andrew Ng](https://www.andrewng.org/). All the mistakes, if any, are made by me.\n",
    "\n",
    "Finally, thanks to [@Mohan S Acharya](https://www.kaggle.com/mohansacharya) for this dataset.\n",
    "\n",
    "\n",
    "# Table of Contents\n",
    "* [Introduction](#introduction)\n",
    "* [Helper functions](#functions)\n",
    "* [The Normal Equation](#normal)\n",
    "* [The Hypothesis](#hypothesis)\n",
    "* [The Cost Function](#cost)\n",
    "* [Loading Data](#getdata)\n",
    "* [Model Training](#training)\n",
    "* [Model Validation](#validation)\n",
    "* [Conclusion](#conclusion)\n",
    "* [References](#references)"
   ]
  },
  {
   "cell_type": "code",
   "execution_count": 1,
   "id": "a076acff",
   "metadata": {
    "_cell_guid": "b1076dfc-b9ad-4769-8c92-a6c4dae69d19",
    "_uuid": "8f2839f25d086af736a60e9eeb907d3b93b6e0e5",
    "execution": {
     "iopub.execute_input": "2023-03-21T12:33:11.964770Z",
     "iopub.status.busy": "2023-03-21T12:33:11.964240Z",
     "iopub.status.idle": "2023-03-21T12:33:13.064585Z",
     "shell.execute_reply": "2023-03-21T12:33:13.063314Z"
    },
    "papermill": {
     "duration": 1.111866,
     "end_time": "2023-03-21T12:33:13.067916",
     "exception": false,
     "start_time": "2023-03-21T12:33:11.956050",
     "status": "completed"
    },
    "tags": []
   },
   "outputs": [
    {
     "name": "stdout",
     "output_type": "stream",
     "text": [
      "/kaggle/input/graduate-admissions/Admission_Predict.csv\n",
      "/kaggle/input/graduate-admissions/Admission_Predict_Ver1.1.csv\n"
     ]
    }
   ],
   "source": [
    "# This Python 3 environment comes with many helpful analytics libraries installed\n",
    "# It is defined by the kaggle/python Docker image: https://github.com/kaggle/docker-python\n",
    "# For example, here's several helpful packages to load\n",
    "\n",
    "import numpy as np # linear algebra\n",
    "import pandas as pd # data processing, CSV file I/O (e.g. pd.read_csv)\n",
    "\n",
    "# Input data files are available in the read-only \"../input/\" directory\n",
    "# For example, running this (by clicking run or pressing Shift+Enter) will list all files under the input directory\n",
    "\n",
    "import os\n",
    "for dirname, _, filenames in os.walk('/kaggle/input'):\n",
    "    for filename in filenames:\n",
    "        print(os.path.join(dirname, filename))\n",
    "\n",
    "# You can write up to 20GB to the current directory (/kaggle/working/) that gets preserved as output when you create a version using \"Save & Run All\" \n",
    "# You can also write temporary files to /kaggle/temp/, but they won't be saved outside of the current session\n",
    "\n",
    "from sklearn.model_selection import train_test_split\n",
    "import matplotlib.pyplot as plt"
   ]
  },
  {
   "cell_type": "markdown",
   "id": "12f9269f",
   "metadata": {
    "papermill": {
     "duration": 0.006008,
     "end_time": "2023-03-21T12:33:13.080800",
     "exception": false,
     "start_time": "2023-03-21T12:33:13.074792",
     "status": "completed"
    },
    "tags": []
   },
   "source": [
    "# Helper Functions   <a id='functions'></a>   "
   ]
  },
  {
   "cell_type": "markdown",
   "id": "a84db3c6",
   "metadata": {
    "papermill": {
     "duration": 0.005804,
     "end_time": "2023-03-21T12:33:13.092889",
     "exception": false,
     "start_time": "2023-03-21T12:33:13.087085",
     "status": "completed"
    },
    "tags": []
   },
   "source": [
    "<div class=\"alert alert-block alert-info\">\n",
    "<b>Tip:</b> We will use some helper functions throughout the notebook. Collecting them in one place is a good idea, making the code more organized. First, we will define and explain those functions and then use them in our code.\n",
    "</div>"
   ]
  },
  {
   "cell_type": "markdown",
   "id": "cad394ca",
   "metadata": {
    "papermill": {
     "duration": 0.005814,
     "end_time": "2023-03-21T12:33:13.104916",
     "exception": false,
     "start_time": "2023-03-21T12:33:13.099102",
     "status": "completed"
    },
    "tags": []
   },
   "source": [
    "# The Normal Equation   <a id='normal'></a> "
   ]
  },
  {
   "cell_type": "markdown",
   "id": "9776cd33",
   "metadata": {
    "papermill": {
     "duration": 0.00603,
     "end_time": "2023-03-21T12:33:13.117160",
     "exception": false,
     "start_time": "2023-03-21T12:33:13.111130",
     "status": "completed"
    },
    "tags": []
   },
   "source": [
    "As we all know, gradient descent is an iterative algorithm that must be conducted repeatedly until convergence. Especially for a small number of features, alternatively, we may use a much faster method called the 'normal equation.' The idea is as follows:\n",
    "\n",
    "We know that for a function of f(θ), the θ values that make the derivative of f(θ) zero are the maximum or minimum point for f(θ). For our specific cost function, it turns out that this is the minimum point. We can understand this by the following figure:"
   ]
  },
  {
   "cell_type": "code",
   "execution_count": 2,
   "id": "8b10c81c",
   "metadata": {
    "_kg_hide-input": true,
    "execution": {
     "iopub.execute_input": "2023-03-21T12:33:13.132587Z",
     "iopub.status.busy": "2023-03-21T12:33:13.131513Z",
     "iopub.status.idle": "2023-03-21T12:33:13.597379Z",
     "shell.execute_reply": "2023-03-21T12:33:13.596130Z"
    },
    "papermill": {
     "duration": 0.476751,
     "end_time": "2023-03-21T12:33:13.600324",
     "exception": false,
     "start_time": "2023-03-21T12:33:13.123573",
     "status": "completed"
    },
    "tags": []
   },
   "outputs": [
    {
     "data": {
      "image/png": "[encoded data removed]",
      "text/plain": [
       "<Figure size 500x500 with 1 Axes>"
      ]
     },
     "metadata": {},
     "output_type": "display_data"
    }
   ],
   "source": [
    "x = np.arange(-20, 20, 0.25)\n",
    "y = (x-5)*(x-5)\n",
    "\n",
    "plt.figure(figsize=(5, 5))\n",
    "\n",
    "plt.xlabel(r'$\\theta_1$')\n",
    "plt.ylabel(r'$\\theta_2$')\n",
    "plt.title(r'j($\\theta$)')\n",
    "\n",
    "plt.xlim(0, 10)\n",
    "plt.ylim(-1, 10)\n",
    "\n",
    "plt.plot(x, y, label='f(θ)')\n",
    "\n",
    "p1 = [4.5, 5.5]\n",
    "p2 = [0, 0]\n",
    "\n",
    "plt.plot(p1, p2, label=r'$\\frac{\\partial f(θ)}{\\partial θ}$')\n",
    "\n",
    "plt.legend()\n",
    "\n",
    "plt.show()"
   ]
  },
  {
   "cell_type": "code",
   "execution_count": 3,
   "id": "41381aa6",
   "metadata": {
    "execution": {
     "iopub.execute_input": "2023-03-21T12:33:13.616154Z",
     "iopub.status.busy": "2023-03-21T12:33:13.615688Z",
     "iopub.status.idle": "2023-03-21T12:33:13.623138Z",
     "shell.execute_reply": "2023-03-21T12:33:13.621709Z"
    },
    "papermill": {
     "duration": 0.018353,
     "end_time": "2023-03-21T12:33:13.625580",
     "exception": false,
     "start_time": "2023-03-21T12:33:13.607227",
     "status": "completed"
    },
    "tags": []
   },
   "outputs": [],
   "source": [
    "# The normal equation\n",
    "\n",
    "def calculate_theta(X,y):\n",
    "    \"\"\"\n",
    "     Calculates the theta vector using the normal equation.\n",
    "    \n",
    "    :param X: inputs (feature values) - data frame of floats\n",
    "    :param y: outputs (actual target values) - Numpy array of floats\n",
    "    \n",
    "    :return: new theta - Numpy array of floats\n",
    "    \n",
    "    \"\"\"\n",
    "    # Calculate transpose of X\n",
    "    X_transpose = X.transpose()\n",
    "    \n",
    "    # Calculate the dot product between X_transpose and X\n",
    "    temp_0 = np.dot(X_transpose, X)\n",
    "        \n",
    "    # Calculate the inverse of temp_0\n",
    "    temp_1 = np.linalg.inv(temp_0)\n",
    "\n",
    "    # Calculate the dot product between temp_1 and X_transpose\n",
    "    temp_2 = np.dot(temp_1, X_transpose)\n",
    "\n",
    "    # Calculate the dot product between temp_2 and y\n",
    "    theta = np.dot(temp_2, y) \n",
    "\n",
    "    return  theta.reshape(-1)"
   ]
  },
  {
   "cell_type": "markdown",
   "id": "921f53c1",
   "metadata": {
    "papermill": {
     "duration": 0.006508,
     "end_time": "2023-03-21T12:33:13.638757",
     "exception": false,
     "start_time": "2023-03-21T12:33:13.632249",
     "status": "completed"
    },
    "tags": []
   },
   "source": [
    "# The  Hypothesis   <a id='hypothesis'></a>   "
   ]
  },
  {
   "cell_type": "markdown",
   "id": "724970df",
   "metadata": {
    "execution": {
     "iopub.execute_input": "2023-03-19T20:08:10.723871Z",
     "iopub.status.busy": "2023-03-19T20:08:10.723267Z",
     "iopub.status.idle": "2023-03-19T20:08:10.730032Z",
     "shell.execute_reply": "2023-03-19T20:08:10.728533Z",
     "shell.execute_reply.started": "2023-03-19T20:08:10.723828Z"
    },
    "papermill": {
     "duration": 0.00634,
     "end_time": "2023-03-21T12:33:13.651846",
     "exception": false,
     "start_time": "2023-03-21T12:33:13.645506",
     "status": "completed"
    },
    "tags": []
   },
   "source": [
    "The Hypothesis Text!"
   ]
  },
  {
   "cell_type": "code",
   "execution_count": 4,
   "id": "12c37c63",
   "metadata": {
    "execution": {
     "iopub.execute_input": "2023-03-21T12:33:13.667741Z",
     "iopub.status.busy": "2023-03-21T12:33:13.667052Z",
     "iopub.status.idle": "2023-03-21T12:33:13.672812Z",
     "shell.execute_reply": "2023-03-21T12:33:13.671860Z"
    },
    "papermill": {
     "duration": 0.016875,
     "end_time": "2023-03-21T12:33:13.675521",
     "exception": false,
     "start_time": "2023-03-21T12:33:13.658646",
     "status": "completed"
    },
    "tags": []
   },
   "outputs": [],
   "source": [
    "# The hypothesis\n",
    "def h(x, theta):\n",
    "    \"\"\"\n",
    "     Calculates the predicted values (or predicted targets) for a given set of input and theta vectors.\n",
    "    \n",
    "    :param x: inputs (feature values) - data frame of floats \n",
    "    :param theta: theta vector (weights) - Numpy array of floats\n",
    "    \n",
    "    :return: predicted targets - Numpy array of floats\n",
    "    \n",
    "    \"\"\"\n",
    "    # The hypothesis is a column vector of m x 1\n",
    "    return np.dot(x, theta)"
   ]
  },
  {
   "cell_type": "markdown",
   "id": "930c0818",
   "metadata": {
    "papermill": {
     "duration": 0.006746,
     "end_time": "2023-03-21T12:33:13.690159",
     "exception": false,
     "start_time": "2023-03-21T12:33:13.683413",
     "status": "completed"
    },
    "tags": []
   },
   "source": [
    "# The  Cost Function   <a id='cost'></a> "
   ]
  },
  {
   "cell_type": "markdown",
   "id": "d14a986c",
   "metadata": {
    "papermill": {
     "duration": 0.006297,
     "end_time": "2023-03-21T12:33:13.703078",
     "exception": false,
     "start_time": "2023-03-21T12:33:13.696781",
     "status": "completed"
    },
    "tags": []
   },
   "source": [
    "The cost Function Text!"
   ]
  },
  {
   "cell_type": "code",
   "execution_count": 5,
   "id": "6e812846",
   "metadata": {
    "execution": {
     "iopub.execute_input": "2023-03-21T12:33:13.718434Z",
     "iopub.status.busy": "2023-03-21T12:33:13.717978Z",
     "iopub.status.idle": "2023-03-21T12:33:13.726176Z",
     "shell.execute_reply": "2023-03-21T12:33:13.724326Z"
    },
    "papermill": {
     "duration": 0.019994,
     "end_time": "2023-03-21T12:33:13.729818",
     "exception": false,
     "start_time": "2023-03-21T12:33:13.709824",
     "status": "completed"
    },
    "tags": []
   },
   "outputs": [],
   "source": [
    "# The cost function\n",
    "\n",
    "def J(X,y,theta):\n",
    "    \"\"\"\n",
    "     Calculates the total error using squared error function.\n",
    "    \n",
    "    :param X: inputs (feature values) - data frame of floats\n",
    "    :param y: outputs (actual target values) - Numpy array of floats\n",
    "    :param theta: theta vector (weights) - Numpy array of floats\n",
    "    \n",
    "    :return: total error - float\n",
    "    \n",
    "    \"\"\"\n",
    "    # Calculate number of examples\n",
    "    m = len(X)\n",
    "    \n",
    "    # Calculate the constant\n",
    "    c = 1/(2 * m)\n",
    "       \n",
    "    # Calculate the array of errors\n",
    "    temp_0 = h(X, theta) - y.reshape(-1)\n",
    "\n",
    "    # Calculate the transpose of array of errors\n",
    "    temp_1 = temp_0.transpose()\n",
    "\n",
    "    # Calculate the dot product \n",
    "    temp_2 = np.dot(temp_1, temp_0) \n",
    "\n",
    "    return  c * temp_2"
   ]
  },
  {
   "cell_type": "markdown",
   "id": "082eee8d",
   "metadata": {
    "papermill": {
     "duration": 0.00698,
     "end_time": "2023-03-21T12:33:13.745682",
     "exception": false,
     "start_time": "2023-03-21T12:33:13.738702",
     "status": "completed"
    },
    "tags": []
   },
   "source": [
    "# Loading Data   <a id='getdata'></a> "
   ]
  },
  {
   "cell_type": "markdown",
   "id": "8155a4df",
   "metadata": {
    "papermill": {
     "duration": 0.0122,
     "end_time": "2023-03-21T12:33:13.768109",
     "exception": false,
     "start_time": "2023-03-21T12:33:13.755909",
     "status": "completed"
    },
    "tags": []
   },
   "source": [
    "First of all, we will load the CSV file in this part. Since there are two different versions of the dataset, we will load the one with more data. We will then create our training DataFrame and target vector. Next, we will normalize some columns of the training DataFrame using min-max scaling. Finally, we will split our data into training and validation DataFrames so that we can validate the results."
   ]
  },
  {
   "cell_type": "code",
   "execution_count": 6,
   "id": "9ee3a061",
   "metadata": {
    "execution": {
     "iopub.execute_input": "2023-03-21T12:33:13.785564Z",
     "iopub.status.busy": "2023-03-21T12:33:13.784985Z",
     "iopub.status.idle": "2023-03-21T12:33:13.840966Z",
     "shell.execute_reply": "2023-03-21T12:33:13.840079Z"
    },
    "papermill": {
     "duration": 0.067513,
     "end_time": "2023-03-21T12:33:13.843816",
     "exception": false,
     "start_time": "2023-03-21T12:33:13.776303",
     "status": "completed"
    },
    "tags": []
   },
   "outputs": [
    {
     "data": {
      "text/html": [
       "<div>\n",
       "<style scoped>\n",
       "    .dataframe tbody tr th:only-of-type {\n",
       "        vertical-align: middle;\n",
       "    }\n",
       "\n",
       "    .dataframe tbody tr th {\n",
       "        vertical-align: top;\n",
       "    }\n",
       "\n",
       "    .dataframe thead th {\n",
       "        text-align: right;\n",
       "    }\n",
       "</style>\n",
       "<table border=\"1\" class=\"dataframe\">\n",
       "  <thead>\n",
       "    <tr style=\"text-align: right;\">\n",
       "      <th></th>\n",
       "      <th>GRE Score</th>\n",
       "      <th>TOEFL Score</th>\n",
       "      <th>University Rating</th>\n",
       "      <th>SOP</th>\n",
       "      <th>LOR</th>\n",
       "      <th>CGPA</th>\n",
       "      <th>Research</th>\n",
       "    </tr>\n",
       "  </thead>\n",
       "  <tbody>\n",
       "    <tr>\n",
       "      <th>107</th>\n",
       "      <td>338</td>\n",
       "      <td>117</td>\n",
       "      <td>4</td>\n",
       "      <td>3.5</td>\n",
       "      <td>4.5</td>\n",
       "      <td>9.46</td>\n",
       "      <td>1</td>\n",
       "    </tr>\n",
       "    <tr>\n",
       "      <th>336</th>\n",
       "      <td>319</td>\n",
       "      <td>110</td>\n",
       "      <td>3</td>\n",
       "      <td>3.0</td>\n",
       "      <td>2.5</td>\n",
       "      <td>8.79</td>\n",
       "      <td>0</td>\n",
       "    </tr>\n",
       "    <tr>\n",
       "      <th>71</th>\n",
       "      <td>336</td>\n",
       "      <td>112</td>\n",
       "      <td>5</td>\n",
       "      <td>5.0</td>\n",
       "      <td>5.0</td>\n",
       "      <td>9.76</td>\n",
       "      <td>1</td>\n",
       "    </tr>\n",
       "    <tr>\n",
       "      <th>474</th>\n",
       "      <td>308</td>\n",
       "      <td>105</td>\n",
       "      <td>4</td>\n",
       "      <td>3.0</td>\n",
       "      <td>2.5</td>\n",
       "      <td>7.95</td>\n",
       "      <td>1</td>\n",
       "    </tr>\n",
       "    <tr>\n",
       "      <th>6</th>\n",
       "      <td>321</td>\n",
       "      <td>109</td>\n",
       "      <td>3</td>\n",
       "      <td>3.0</td>\n",
       "      <td>4.0</td>\n",
       "      <td>8.20</td>\n",
       "      <td>1</td>\n",
       "    </tr>\n",
       "  </tbody>\n",
       "</table>\n",
       "</div>"
      ],
      "text/plain": [
       "     GRE Score  TOEFL Score  University Rating  SOP  LOR   CGPA  Research\n",
       "107        338          117                  4  3.5   4.5  9.46         1\n",
       "336        319          110                  3  3.0   2.5  8.79         0\n",
       "71         336          112                  5  5.0   5.0  9.76         1\n",
       "474        308          105                  4  3.0   2.5  7.95         1\n",
       "6          321          109                  3  3.0   4.0  8.20         1"
      ]
     },
     "execution_count": 6,
     "metadata": {},
     "output_type": "execute_result"
    }
   ],
   "source": [
    "# Get the data. Note that there are two versions. We will use the one\n",
    "# with the most rows.\n",
    "\n",
    "train_data = pd.read_csv(\"/kaggle/input/graduate-admissions/Admission_Predict_Ver1.1.csv\")\n",
    "\n",
    "# Set X and y\n",
    "X = train_data.drop(['Chance of Admit ', 'Serial No.'], axis=1) # Chance of Admit is the target variable and Serial No. is the order. So we drop them.\n",
    "y = pd.DataFrame(data = train_data['Chance of Admit ']).to_numpy()\n",
    "\n",
    "# Instead of finding probabilities, we want to calculate the percentages.\n",
    "y = y * 100\n",
    "\n",
    "# Break off validation set from training data\n",
    "X_train, X_valid, y_train, y_valid = train_test_split(X, y, train_size=0.8, test_size=0.2, random_state = 0)\n",
    "\n",
    "X_train.head()"
   ]
  },
  {
   "cell_type": "markdown",
   "id": "8bb2f74d",
   "metadata": {
    "papermill": {
     "duration": 0.009195,
     "end_time": "2023-03-21T12:33:13.863282",
     "exception": false,
     "start_time": "2023-03-21T12:33:13.854087",
     "status": "completed"
    },
    "tags": []
   },
   "source": [
    "# Model Training   <a id='training'></a> "
   ]
  },
  {
   "cell_type": "markdown",
   "id": "acb37d48",
   "metadata": {
    "papermill": {
     "duration": 0.007451,
     "end_time": "2023-03-21T12:33:13.880521",
     "exception": false,
     "start_time": "2023-03-21T12:33:13.873070",
     "status": "completed"
    },
    "tags": []
   },
   "source": [
    "Model Training Text!"
   ]
  },
  {
   "cell_type": "code",
   "execution_count": 7,
   "id": "f95cc97d",
   "metadata": {
    "execution": {
     "iopub.execute_input": "2023-03-21T12:33:13.896671Z",
     "iopub.status.busy": "2023-03-21T12:33:13.896232Z",
     "iopub.status.idle": "2023-03-21T12:33:13.920630Z",
     "shell.execute_reply": "2023-03-21T12:33:13.918184Z"
    },
    "papermill": {
     "duration": 0.038433,
     "end_time": "2023-03-21T12:33:13.926168",
     "exception": false,
     "start_time": "2023-03-21T12:33:13.887735",
     "status": "completed"
    },
    "tags": []
   },
   "outputs": [
    {
     "name": "stdout",
     "output_type": "stream",
     "text": [
      "[-1.34416734e+02  2.14141419e-01  2.77038677e-01  5.55692827e-01\n",
      "  5.10313673e-02  2.04133847e+00  1.15053979e+01  2.41256700e+00]\n",
      "Cost_train: 17.100414719720018\n"
     ]
    }
   ],
   "source": [
    "# Initialize\n",
    "\n",
    "# Calculate the number of examles\n",
    "m_train = len(X_train)\n",
    "m_valid = len(X_valid)\n",
    "\n",
    "# Calculate the number of features\n",
    "# including X_0\n",
    "n = len(X_train.axes[1]) + 1\n",
    "\n",
    "# Create a list of ones\n",
    "ones_train = [1] * m_train\n",
    "ones_valid = [1] * m_valid\n",
    "\n",
    "# Insert ones to the fist column since\n",
    "# X_0 for all training examples should\n",
    "# be one.\n",
    "X_train.insert(0, \"X_0\", ones_train, True)\n",
    "X_valid.insert(0, \"X_0\", ones_valid, True)\n",
    "\n",
    "# Find the theta vector using the normal equation\n",
    "theta_train = calculate_theta(X_train,y_train)\n",
    "print(theta_train)\n",
    "\n",
    "# Calculate and display the cost value on the training dataset\n",
    "cost_train = J(X_train, y_train, theta_train)\n",
    "print(\"Cost_train: {}\".format(cost_train))"
   ]
  },
  {
   "cell_type": "markdown",
   "id": "341e1485",
   "metadata": {
    "papermill": {
     "duration": 0.031622,
     "end_time": "2023-03-21T12:33:13.996183",
     "exception": false,
     "start_time": "2023-03-21T12:33:13.964561",
     "status": "completed"
    },
    "tags": []
   },
   "source": [
    "# Model Validation   <a id='validation'></a> "
   ]
  },
  {
   "cell_type": "markdown",
   "id": "48366bab",
   "metadata": {
    "papermill": {
     "duration": 0.006695,
     "end_time": "2023-03-21T12:33:14.039042",
     "exception": false,
     "start_time": "2023-03-21T12:33:14.032347",
     "status": "completed"
    },
    "tags": []
   },
   "source": [
    "Model Validation Text"
   ]
  },
  {
   "cell_type": "code",
   "execution_count": 8,
   "id": "ad2d5fbe",
   "metadata": {
    "execution": {
     "iopub.execute_input": "2023-03-21T12:33:14.057949Z",
     "iopub.status.busy": "2023-03-21T12:33:14.057477Z",
     "iopub.status.idle": "2023-03-21T12:33:14.066033Z",
     "shell.execute_reply": "2023-03-21T12:33:14.064705Z"
    },
    "papermill": {
     "duration": 0.022535,
     "end_time": "2023-03-21T12:33:14.068969",
     "exception": false,
     "start_time": "2023-03-21T12:33:14.046434",
     "status": "completed"
    },
    "tags": []
   },
   "outputs": [
    {
     "name": "stdout",
     "output_type": "stream",
     "text": [
      "[-1.34416734e+02  2.14141419e-01  2.77038677e-01  5.55692827e-01\n",
      "  5.10313673e-02  2.04133847e+00  1.15053979e+01  2.41256700e+00]\n",
      "Cost_valid: 20.39840017300976\n"
     ]
    }
   ],
   "source": [
    "print(theta_train)\n",
    "cost_valid = J(X_valid, y_valid, theta_train)\n",
    "print(\"Cost_valid: {}\".format(cost_valid))"
   ]
  },
  {
   "cell_type": "markdown",
   "id": "4536f20a",
   "metadata": {
    "papermill": {
     "duration": 0.006764,
     "end_time": "2023-03-21T12:33:14.082835",
     "exception": false,
     "start_time": "2023-03-21T12:33:14.076071",
     "status": "completed"
    },
    "tags": []
   },
   "source": [
    "The cost of the validation dataset seems slightly bigger (worse) than the training dataset, which is expected. We can also see the validation results below:"
   ]
  },
  {
   "cell_type": "code",
   "execution_count": 9,
   "id": "40e204cd",
   "metadata": {
    "execution": {
     "iopub.execute_input": "2023-03-21T12:33:14.099478Z",
     "iopub.status.busy": "2023-03-21T12:33:14.098601Z",
     "iopub.status.idle": "2023-03-21T12:33:14.114096Z",
     "shell.execute_reply": "2023-03-21T12:33:14.112249Z"
    },
    "papermill": {
     "duration": 0.026921,
     "end_time": "2023-03-21T12:33:14.116807",
     "exception": false,
     "start_time": "2023-03-21T12:33:14.089886",
     "status": "completed"
    },
    "tags": []
   },
   "outputs": [
    {
     "data": {
      "text/html": [
       "<div>\n",
       "<style scoped>\n",
       "    .dataframe tbody tr th:only-of-type {\n",
       "        vertical-align: middle;\n",
       "    }\n",
       "\n",
       "    .dataframe tbody tr th {\n",
       "        vertical-align: top;\n",
       "    }\n",
       "\n",
       "    .dataframe thead th {\n",
       "        text-align: right;\n",
       "    }\n",
       "</style>\n",
       "<table border=\"1\" class=\"dataframe\">\n",
       "  <thead>\n",
       "    <tr style=\"text-align: right;\">\n",
       "      <th></th>\n",
       "      <th>Actual CoA</th>\n",
       "      <th>Predicted CoA</th>\n",
       "    </tr>\n",
       "  </thead>\n",
       "  <tbody>\n",
       "    <tr>\n",
       "      <th>90</th>\n",
       "      <td>64.0</td>\n",
       "      <td>66.062520</td>\n",
       "    </tr>\n",
       "    <tr>\n",
       "      <th>254</th>\n",
       "      <td>85.0</td>\n",
       "      <td>83.467888</td>\n",
       "    </tr>\n",
       "    <tr>\n",
       "      <th>283</th>\n",
       "      <td>80.0</td>\n",
       "      <td>77.803235</td>\n",
       "    </tr>\n",
       "    <tr>\n",
       "      <th>445</th>\n",
       "      <td>91.0</td>\n",
       "      <td>88.054515</td>\n",
       "    </tr>\n",
       "    <tr>\n",
       "      <th>461</th>\n",
       "      <td>68.0</td>\n",
       "      <td>60.126564</td>\n",
       "    </tr>\n",
       "  </tbody>\n",
       "</table>\n",
       "</div>"
      ],
      "text/plain": [
       "     Actual CoA  Predicted CoA\n",
       "90         64.0      66.062520\n",
       "254        85.0      83.467888\n",
       "283        80.0      77.803235\n",
       "445        91.0      88.054515\n",
       "461        68.0      60.126564"
      ]
     },
     "execution_count": 9,
     "metadata": {},
     "output_type": "execute_result"
    }
   ],
   "source": [
    "# Compare actual results with predicted results\n",
    "result = pd.DataFrame(index=X_valid.index)\n",
    "result['Actual CoA'] = y_valid\n",
    "result['Predicted CoA'] = h(X_valid, theta_train)\n",
    "result.head()"
   ]
  },
  {
   "cell_type": "markdown",
   "id": "a863b687",
   "metadata": {
    "papermill": {
     "duration": 0.007244,
     "end_time": "2023-03-21T12:33:14.131813",
     "exception": false,
     "start_time": "2023-03-21T12:33:14.124569",
     "status": "completed"
    },
    "tags": []
   },
   "source": [
    "# Conclusion   <a id='conclusion'></a> "
   ]
  },
  {
   "cell_type": "markdown",
   "id": "d02c0003",
   "metadata": {
    "papermill": {
     "duration": 0.006976,
     "end_time": "2023-03-21T12:33:14.146194",
     "exception": false,
     "start_time": "2023-03-21T12:33:14.139218",
     "status": "completed"
    },
    "tags": []
   },
   "source": [
    "Conclusion Text!"
   ]
  },
  {
   "cell_type": "markdown",
   "id": "b0d0b12b",
   "metadata": {
    "papermill": {
     "duration": 0.007203,
     "end_time": "2023-03-21T12:33:14.160689",
     "exception": false,
     "start_time": "2023-03-21T12:33:14.153486",
     "status": "completed"
    },
    "tags": []
   },
   "source": [
    "# References   <a id='references'></a>\n",
    "* [Machine Learning Specialization - Deeplearning.AI](https://www.deeplearning.ai/program/machine-learning-specialization/)\n",
    "* [Andrew Ng](https://en.wikipedia.org/wiki/Andrew_Ng)\n",
    "* [@Mohan S Acharya](https://www.kaggle.com/mohansacharya)\n",
    "* [Multivariate Linear Regression From Scratch - Kaggle](https://www.kaggle.com/code/erkanhatipoglu/multivariate-linear-regression-from-scratch)\n",
    "* [Univariate Linear Regression From Scratch - Kaggle](https://www.kaggle.com/code/erkanhatipoglu/univariate-linear-regression-from-scratch)\n",
    "* [Univariate Linear Regression From Scratch - Towards AI](https://pub.towardsai.net/univariate-linear-regression-from-scratch-68065fe8eb09)\n",
    "* [Towards AI](https://pub.towardsai.net/)"
   ]
  }
 ],
 "metadata": {
  "kernelspec": {
   "display_name": "Python 3",
   "language": "python",
   "name": "python3"
  },
  "language_info": {
   "codemirror_mode": {
    "name": "ipython",
    "version": 3
   },
   "file_extension": ".py",
   "mimetype": "text/x-python",
   "name": "python",
   "nbconvert_exporter": "python",
   "pygments_lexer": "ipython3",
   "version": "3.7.12"
  },
  "papermill": {
   "default_parameters": {},
   "duration": 13.670524,
   "end_time": "2023-03-21T12:33:14.994839",
   "environment_variables": {},
   "exception": null,
   "input_path": "__notebook__.ipynb",
   "output_path": "__notebook__.ipynb",
   "parameters": {},
   "start_time": "2023-03-21T12:33:01.324315",
   "version": "2.4.0"
  }
 },
 "nbformat": 4,
 "nbformat_minor": 5
}
