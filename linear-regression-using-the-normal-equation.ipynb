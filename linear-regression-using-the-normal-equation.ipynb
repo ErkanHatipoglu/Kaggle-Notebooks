{
 "cells": [
  {
   "cell_type": "markdown",
   "id": "2335360b",
   "metadata": {
    "papermill": {
     "duration": 0.004535,
     "end_time": "2023-03-19T21:11:14.952622",
     "exception": false,
     "start_time": "2023-03-19T21:11:14.948087",
     "status": "completed"
    },
    "tags": []
   },
   "source": [
    "# Introduction  <a id='introduction'></a>\n",
    "\n",
    "Introduction Text!\n",
    "\n",
    "This notebook is greatly inspired by the famous Machine Learning course by [Andrew Ng](https://www.andrewng.org/). All the mistakes, if any, are made by me.\n",
    "\n",
    "Finally, thanks to [@Mohan S Acharya](https://www.kaggle.com/mohansacharya) for this dataset.\n",
    "\n",
    "\n",
    "# Table of Contents\n",
    "* [Introduction](#introduction)\n",
    "* [Helper functions](#functions)\n",
    "* [The Normal Equation](#normal)\n",
    "* [The Hypothesis](#hypothesis)\n",
    "* [The Cost Function](#cost)\n",
    "* [Loading Data](#getdata)\n",
    "* [Model Training](#training)\n",
    "* [Model Validation](#validation)\n",
    "* [Conclusion](#conclusion)\n",
    "* [References](#references)"
   ]
  },
  {
   "cell_type": "code",
   "execution_count": 1,
   "id": "fd295c1b",
   "metadata": {
    "_cell_guid": "b1076dfc-b9ad-4769-8c92-a6c4dae69d19",
    "_uuid": "8f2839f25d086af736a60e9eeb907d3b93b6e0e5",
    "execution": {
     "iopub.execute_input": "2023-03-19T21:11:14.962021Z",
     "iopub.status.busy": "2023-03-19T21:11:14.961635Z",
     "iopub.status.idle": "2023-03-19T21:11:14.977951Z",
     "shell.execute_reply": "2023-03-19T21:11:14.976740Z"
    },
    "papermill": {
     "duration": 0.024223,
     "end_time": "2023-03-19T21:11:14.980710",
     "exception": false,
     "start_time": "2023-03-19T21:11:14.956487",
     "status": "completed"
    },
    "tags": []
   },
   "outputs": [
    {
     "name": "stdout",
     "output_type": "stream",
     "text": [
      "/kaggle/input/graduate-admissions/Admission_Predict.csv\n",
      "/kaggle/input/graduate-admissions/Admission_Predict_Ver1.1.csv\n"
     ]
    }
   ],
   "source": [
    "# This Python 3 environment comes with many helpful analytics libraries installed\n",
    "# It is defined by the kaggle/python Docker image: https://github.com/kaggle/docker-python\n",
    "# For example, here's several helpful packages to load\n",
    "\n",
    "import numpy as np # linear algebra\n",
    "import pandas as pd # data processing, CSV file I/O (e.g. pd.read_csv)\n",
    "\n",
    "# Input data files are available in the read-only \"../input/\" directory\n",
    "# For example, running this (by clicking run or pressing Shift+Enter) will list all files under the input directory\n",
    "\n",
    "import os\n",
    "for dirname, _, filenames in os.walk('/kaggle/input'):\n",
    "    for filename in filenames:\n",
    "        print(os.path.join(dirname, filename))\n",
    "\n",
    "# You can write up to 20GB to the current directory (/kaggle/working/) that gets preserved as output when you create a version using \"Save & Run All\" \n",
    "# You can also write temporary files to /kaggle/temp/, but they won't be saved outside of the current session"
   ]
  },
  {
   "cell_type": "markdown",
   "id": "46720526",
   "metadata": {
    "papermill": {
     "duration": 0.003606,
     "end_time": "2023-03-19T21:11:14.989383",
     "exception": false,
     "start_time": "2023-03-19T21:11:14.985777",
     "status": "completed"
    },
    "tags": []
   },
   "source": [
    "# Helper Functions   <a id='functions'></a>   "
   ]
  },
  {
   "cell_type": "markdown",
   "id": "d9a825cb",
   "metadata": {
    "papermill": {
     "duration": 0.003639,
     "end_time": "2023-03-19T21:11:14.996786",
     "exception": false,
     "start_time": "2023-03-19T21:11:14.993147",
     "status": "completed"
    },
    "tags": []
   },
   "source": [
    "<div class=\"alert alert-block alert-info\">\n",
    "<b>Tip:</b> We will use some helper functions throughout the notebook. Collecting them in one place is a good idea, making the code more organized. First, we will define and explain those functions and then use them in our code.\n",
    "</div>"
   ]
  },
  {
   "cell_type": "markdown",
   "id": "093bb5fa",
   "metadata": {
    "papermill": {
     "duration": 0.003495,
     "end_time": "2023-03-19T21:11:15.004237",
     "exception": false,
     "start_time": "2023-03-19T21:11:15.000742",
     "status": "completed"
    },
    "tags": []
   },
   "source": [
    "# The Normal Equation   <a id='normal'></a> "
   ]
  },
  {
   "cell_type": "markdown",
   "id": "7bdfc473",
   "metadata": {
    "papermill": {
     "duration": 0.003517,
     "end_time": "2023-03-19T21:11:15.011552",
     "exception": false,
     "start_time": "2023-03-19T21:11:15.008035",
     "status": "completed"
    },
    "tags": []
   },
   "source": [
    "The Normal Equation Text!"
   ]
  },
  {
   "cell_type": "markdown",
   "id": "e676864a",
   "metadata": {
    "papermill": {
     "duration": 0.003535,
     "end_time": "2023-03-19T21:11:15.018917",
     "exception": false,
     "start_time": "2023-03-19T21:11:15.015382",
     "status": "completed"
    },
    "tags": []
   },
   "source": [
    "# The  Hypothesis   <a id='hypothesis'></a>   "
   ]
  },
  {
   "cell_type": "markdown",
   "id": "7143466f",
   "metadata": {
    "execution": {
     "iopub.execute_input": "2023-03-19T20:08:10.723871Z",
     "iopub.status.busy": "2023-03-19T20:08:10.723267Z",
     "iopub.status.idle": "2023-03-19T20:08:10.730032Z",
     "shell.execute_reply": "2023-03-19T20:08:10.728533Z",
     "shell.execute_reply.started": "2023-03-19T20:08:10.723828Z"
    },
    "papermill": {
     "duration": 0.003501,
     "end_time": "2023-03-19T21:11:15.026260",
     "exception": false,
     "start_time": "2023-03-19T21:11:15.022759",
     "status": "completed"
    },
    "tags": []
   },
   "source": [
    "The Hypothesis Text!"
   ]
  },
  {
   "cell_type": "code",
   "execution_count": 2,
   "id": "7a0fdfc1",
   "metadata": {
    "execution": {
     "iopub.execute_input": "2023-03-19T21:11:15.036225Z",
     "iopub.status.busy": "2023-03-19T21:11:15.035250Z",
     "iopub.status.idle": "2023-03-19T21:11:15.041389Z",
     "shell.execute_reply": "2023-03-19T21:11:15.040238Z"
    },
    "papermill": {
     "duration": 0.01337,
     "end_time": "2023-03-19T21:11:15.043427",
     "exception": false,
     "start_time": "2023-03-19T21:11:15.030057",
     "status": "completed"
    },
    "tags": []
   },
   "outputs": [],
   "source": [
    "# The hypothesis\n",
    "def h(x, theta):\n",
    "    \"\"\"\n",
    "     Calculates the predicted values (or predicted targets) for a given set of input and theta vectors.\n",
    "    \n",
    "    :param x: inputs (feature values) - data frame of floats \n",
    "    :param theta: theta vector (weights) - Numpy array of floats\n",
    "    \n",
    "    :return: predicted targets - Numpy array of floats\n",
    "    \n",
    "    \"\"\"\n",
    "    # The hypothesis is a column vector of m x 1\n",
    "    return np.dot(x, theta)"
   ]
  },
  {
   "cell_type": "markdown",
   "id": "4331a858",
   "metadata": {
    "papermill": {
     "duration": 0.003615,
     "end_time": "2023-03-19T21:11:15.051088",
     "exception": false,
     "start_time": "2023-03-19T21:11:15.047473",
     "status": "completed"
    },
    "tags": []
   },
   "source": [
    "# The  Cost Function   <a id='cost'></a> "
   ]
  },
  {
   "cell_type": "markdown",
   "id": "acffd56f",
   "metadata": {
    "papermill": {
     "duration": 0.003554,
     "end_time": "2023-03-19T21:11:15.058592",
     "exception": false,
     "start_time": "2023-03-19T21:11:15.055038",
     "status": "completed"
    },
    "tags": []
   },
   "source": [
    "The cost Function Text!"
   ]
  },
  {
   "cell_type": "code",
   "execution_count": 3,
   "id": "a5aa6d5f",
   "metadata": {
    "execution": {
     "iopub.execute_input": "2023-03-19T21:11:15.068734Z",
     "iopub.status.busy": "2023-03-19T21:11:15.068151Z",
     "iopub.status.idle": "2023-03-19T21:11:15.074227Z",
     "shell.execute_reply": "2023-03-19T21:11:15.073223Z"
    },
    "papermill": {
     "duration": 0.013517,
     "end_time": "2023-03-19T21:11:15.076229",
     "exception": false,
     "start_time": "2023-03-19T21:11:15.062712",
     "status": "completed"
    },
    "tags": []
   },
   "outputs": [],
   "source": [
    "# The cost function\n",
    "\n",
    "def J(X,y,theta):\n",
    "    \"\"\"\n",
    "     Calculates the total error using squared error function.\n",
    "    \n",
    "    :param X: inputs (feature values) - data frame of floats\n",
    "    :param y: outputs (actual target values) - Numpy array of floats\n",
    "    :param theta: theta vector (weights) - Numpy array of floats\n",
    "    \n",
    "    :return: total error - float\n",
    "    \n",
    "    \"\"\"\n",
    "    # Calculate number of examples\n",
    "    m = len(X)\n",
    "    \n",
    "    # Calculate the constant\n",
    "    c = 1/(2 * m)\n",
    "       \n",
    "    # Calculate the array of errors\n",
    "    temp_0 = h(X, theta) - y.reshape(-1)\n",
    "\n",
    "    # Calculate the transpose of array of errors\n",
    "    temp_1 = temp_0.transpose()\n",
    "\n",
    "    # Calculate the dot product \n",
    "    temp_2 = np.dot(temp_1, temp_0) \n",
    "\n",
    "    return  c * temp_2"
   ]
  },
  {
   "cell_type": "markdown",
   "id": "9f2ba908",
   "metadata": {
    "papermill": {
     "duration": 0.00396,
     "end_time": "2023-03-19T21:11:15.085357",
     "exception": false,
     "start_time": "2023-03-19T21:11:15.081397",
     "status": "completed"
    },
    "tags": []
   },
   "source": [
    "# Loading Data   <a id='getdata'></a> "
   ]
  },
  {
   "cell_type": "markdown",
   "id": "3286f514",
   "metadata": {
    "papermill": {
     "duration": 0.004446,
     "end_time": "2023-03-19T21:11:15.094658",
     "exception": false,
     "start_time": "2023-03-19T21:11:15.090212",
     "status": "completed"
    },
    "tags": []
   },
   "source": [
    "Loading Data Text!"
   ]
  },
  {
   "cell_type": "markdown",
   "id": "a2c24999",
   "metadata": {
    "papermill": {
     "duration": 0.00524,
     "end_time": "2023-03-19T21:11:15.105821",
     "exception": false,
     "start_time": "2023-03-19T21:11:15.100581",
     "status": "completed"
    },
    "tags": []
   },
   "source": [
    "# Model Training   <a id='training'></a> "
   ]
  },
  {
   "cell_type": "markdown",
   "id": "dc333644",
   "metadata": {
    "papermill": {
     "duration": 0.004102,
     "end_time": "2023-03-19T21:11:15.114285",
     "exception": false,
     "start_time": "2023-03-19T21:11:15.110183",
     "status": "completed"
    },
    "tags": []
   },
   "source": [
    "Model Training Text!"
   ]
  },
  {
   "cell_type": "markdown",
   "id": "809fc714",
   "metadata": {
    "papermill": {
     "duration": 0.004178,
     "end_time": "2023-03-19T21:11:15.122490",
     "exception": false,
     "start_time": "2023-03-19T21:11:15.118312",
     "status": "completed"
    },
    "tags": []
   },
   "source": [
    "# Model Validation   <a id='validation'></a> "
   ]
  },
  {
   "cell_type": "markdown",
   "id": "eebd70a4",
   "metadata": {
    "papermill": {
     "duration": 0.004624,
     "end_time": "2023-03-19T21:11:15.132785",
     "exception": false,
     "start_time": "2023-03-19T21:11:15.128161",
     "status": "completed"
    },
    "tags": []
   },
   "source": [
    "Model Validation Text"
   ]
  },
  {
   "cell_type": "markdown",
   "id": "f70ca9ea",
   "metadata": {
    "papermill": {
     "duration": 0.003861,
     "end_time": "2023-03-19T21:11:15.142172",
     "exception": false,
     "start_time": "2023-03-19T21:11:15.138311",
     "status": "completed"
    },
    "tags": []
   },
   "source": [
    "# Conclusion   <a id='conclusion'></a> "
   ]
  },
  {
   "cell_type": "markdown",
   "id": "42b923ce",
   "metadata": {
    "papermill": {
     "duration": 0.003739,
     "end_time": "2023-03-19T21:11:15.149959",
     "exception": false,
     "start_time": "2023-03-19T21:11:15.146220",
     "status": "completed"
    },
    "tags": []
   },
   "source": [
    "Conclusion Text!"
   ]
  },
  {
   "cell_type": "markdown",
   "id": "cc78f535",
   "metadata": {
    "papermill": {
     "duration": 0.003683,
     "end_time": "2023-03-19T21:11:15.157721",
     "exception": false,
     "start_time": "2023-03-19T21:11:15.154038",
     "status": "completed"
    },
    "tags": []
   },
   "source": [
    "# References   <a id='references'></a>\n",
    "* [Machine Learning Specialization - Deeplearning.AI](https://www.deeplearning.ai/program/machine-learning-specialization/)\n",
    "* [Andrew Ng](https://en.wikipedia.org/wiki/Andrew_Ng)\n",
    "* [@Mohan S Acharya](https://www.kaggle.com/mohansacharya)\n",
    "* [Multivariate Linear Regression From Scratch - Kaggle](https://www.kaggle.com/code/erkanhatipoglu/multivariate-linear-regression-from-scratch)\n",
    "* [Univariate Linear Regression From Scratch - Kaggle](https://www.kaggle.com/code/erkanhatipoglu/univariate-linear-regression-from-scratch)\n",
    "* [Univariate Linear Regression From Scratch - Towards AI](https://pub.towardsai.net/univariate-linear-regression-from-scratch-68065fe8eb09)\n",
    "* [Towards AI](https://pub.towardsai.net/)"
   ]
  }
 ],
 "metadata": {
  "kernelspec": {
   "display_name": "Python 3",
   "language": "python",
   "name": "python3"
  },
  "language_info": {
   "codemirror_mode": {
    "name": "ipython",
    "version": 3
   },
   "file_extension": ".py",
   "mimetype": "text/x-python",
   "name": "python",
   "nbconvert_exporter": "python",
   "pygments_lexer": "ipython3",
   "version": "3.7.12"
  },
  "papermill": {
   "default_parameters": {},
   "duration": 9.666423,
   "end_time": "2023-03-19T21:11:15.782850",
   "environment_variables": {},
   "exception": null,
   "input_path": "__notebook__.ipynb",
   "output_path": "__notebook__.ipynb",
   "parameters": {},
   "start_time": "2023-03-19T21:11:06.116427",
   "version": "2.4.0"
  }
 },
 "nbformat": 4,
 "nbformat_minor": 5
}
