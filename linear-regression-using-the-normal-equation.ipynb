{
 "cells": [
  {
   "cell_type": "markdown",
   "id": "a9434862",
   "metadata": {
    "papermill": {
     "duration": 0.006972,
     "end_time": "2023-03-19T21:41:55.805111",
     "exception": false,
     "start_time": "2023-03-19T21:41:55.798139",
     "status": "completed"
    },
    "tags": []
   },
   "source": [
    "# Introduction  <a id='introduction'></a>\n",
    "\n",
    "Introduction Text!\n",
    "\n",
    "This notebook is greatly inspired by the famous Machine Learning course by [Andrew Ng](https://www.andrewng.org/). All the mistakes, if any, are made by me.\n",
    "\n",
    "Finally, thanks to [@Mohan S Acharya](https://www.kaggle.com/mohansacharya) for this dataset.\n",
    "\n",
    "\n",
    "# Table of Contents\n",
    "* [Introduction](#introduction)\n",
    "* [Helper functions](#functions)\n",
    "* [The Normal Equation](#normal)\n",
    "* [The Hypothesis](#hypothesis)\n",
    "* [The Cost Function](#cost)\n",
    "* [Loading Data](#getdata)\n",
    "* [Model Training](#training)\n",
    "* [Model Validation](#validation)\n",
    "* [Conclusion](#conclusion)\n",
    "* [References](#references)"
   ]
  },
  {
   "cell_type": "code",
   "execution_count": 1,
   "id": "902c59e6",
   "metadata": {
    "_cell_guid": "b1076dfc-b9ad-4769-8c92-a6c4dae69d19",
    "_uuid": "8f2839f25d086af736a60e9eeb907d3b93b6e0e5",
    "execution": {
     "iopub.execute_input": "2023-03-19T21:41:55.819603Z",
     "iopub.status.busy": "2023-03-19T21:41:55.818412Z",
     "iopub.status.idle": "2023-03-19T21:41:57.039345Z",
     "shell.execute_reply": "2023-03-19T21:41:57.038210Z"
    },
    "papermill": {
     "duration": 1.231376,
     "end_time": "2023-03-19T21:41:57.042276",
     "exception": false,
     "start_time": "2023-03-19T21:41:55.810900",
     "status": "completed"
    },
    "tags": []
   },
   "outputs": [
    {
     "name": "stdout",
     "output_type": "stream",
     "text": [
      "/kaggle/input/graduate-admissions/Admission_Predict.csv\n",
      "/kaggle/input/graduate-admissions/Admission_Predict_Ver1.1.csv\n"
     ]
    }
   ],
   "source": [
    "# This Python 3 environment comes with many helpful analytics libraries installed\n",
    "# It is defined by the kaggle/python Docker image: https://github.com/kaggle/docker-python\n",
    "# For example, here's several helpful packages to load\n",
    "\n",
    "import numpy as np # linear algebra\n",
    "import pandas as pd # data processing, CSV file I/O (e.g. pd.read_csv)\n",
    "\n",
    "# Input data files are available in the read-only \"../input/\" directory\n",
    "# For example, running this (by clicking run or pressing Shift+Enter) will list all files under the input directory\n",
    "\n",
    "import os\n",
    "for dirname, _, filenames in os.walk('/kaggle/input'):\n",
    "    for filename in filenames:\n",
    "        print(os.path.join(dirname, filename))\n",
    "\n",
    "# You can write up to 20GB to the current directory (/kaggle/working/) that gets preserved as output when you create a version using \"Save & Run All\" \n",
    "# You can also write temporary files to /kaggle/temp/, but they won't be saved outside of the current session\n",
    "\n",
    "from sklearn.model_selection import train_test_split"
   ]
  },
  {
   "cell_type": "markdown",
   "id": "ae10ddbf",
   "metadata": {
    "papermill": {
     "duration": 0.005389,
     "end_time": "2023-03-19T21:41:57.053643",
     "exception": false,
     "start_time": "2023-03-19T21:41:57.048254",
     "status": "completed"
    },
    "tags": []
   },
   "source": [
    "# Helper Functions   <a id='functions'></a>   "
   ]
  },
  {
   "cell_type": "markdown",
   "id": "3cb4b459",
   "metadata": {
    "papermill": {
     "duration": 0.005341,
     "end_time": "2023-03-19T21:41:57.064601",
     "exception": false,
     "start_time": "2023-03-19T21:41:57.059260",
     "status": "completed"
    },
    "tags": []
   },
   "source": [
    "<div class=\"alert alert-block alert-info\">\n",
    "<b>Tip:</b> We will use some helper functions throughout the notebook. Collecting them in one place is a good idea, making the code more organized. First, we will define and explain those functions and then use them in our code.\n",
    "</div>"
   ]
  },
  {
   "cell_type": "markdown",
   "id": "8c542caa",
   "metadata": {
    "papermill": {
     "duration": 0.005273,
     "end_time": "2023-03-19T21:41:57.075447",
     "exception": false,
     "start_time": "2023-03-19T21:41:57.070174",
     "status": "completed"
    },
    "tags": []
   },
   "source": [
    "# The Normal Equation   <a id='normal'></a> "
   ]
  },
  {
   "cell_type": "markdown",
   "id": "3a2d09b2",
   "metadata": {
    "papermill": {
     "duration": 0.005289,
     "end_time": "2023-03-19T21:41:57.086328",
     "exception": false,
     "start_time": "2023-03-19T21:41:57.081039",
     "status": "completed"
    },
    "tags": []
   },
   "source": [
    "The Normal Equation Text!"
   ]
  },
  {
   "cell_type": "code",
   "execution_count": 2,
   "id": "e53944ed",
   "metadata": {
    "execution": {
     "iopub.execute_input": "2023-03-19T21:41:57.099514Z",
     "iopub.status.busy": "2023-03-19T21:41:57.099100Z",
     "iopub.status.idle": "2023-03-19T21:41:57.106788Z",
     "shell.execute_reply": "2023-03-19T21:41:57.105567Z"
    },
    "papermill": {
     "duration": 0.017389,
     "end_time": "2023-03-19T21:41:57.109274",
     "exception": false,
     "start_time": "2023-03-19T21:41:57.091885",
     "status": "completed"
    },
    "tags": []
   },
   "outputs": [],
   "source": [
    "# The normal equation\n",
    "\n",
    "def calculate_theta(X,y):\n",
    "    \"\"\"\n",
    "     Calculates the theta vector using the normal equation.\n",
    "    \n",
    "    :param X: inputs (feature values) - data frame of floats\n",
    "    :param y: outputs (actual target values) - Numpy array of floats\n",
    "    \n",
    "    :return: new theta - Numpy array of floats\n",
    "    \n",
    "    \"\"\"\n",
    "    # Calculate transpose of X\n",
    "    X_transpose = X.transpose()\n",
    "    \n",
    "    # Calculate the dot product between X_transpose and X\n",
    "    temp_0 = np.dot(X_transpose, X)\n",
    "        \n",
    "    # Calculate the inverse of temp_0\n",
    "    temp_1 = np.linalg.inv(temp_0)\n",
    "\n",
    "    # Calculate the dot product between temp_1 and X_transpose\n",
    "    temp_2 = np.dot(temp_1, X_transpose)\n",
    "\n",
    "    # Calculate the dot product between temp_2 and y\n",
    "    theta = np.dot(temp_2, y) \n",
    "\n",
    "    return  theta.reshape(-1)"
   ]
  },
  {
   "cell_type": "markdown",
   "id": "4dc56acc",
   "metadata": {
    "papermill": {
     "duration": 0.005548,
     "end_time": "2023-03-19T21:41:57.120654",
     "exception": false,
     "start_time": "2023-03-19T21:41:57.115106",
     "status": "completed"
    },
    "tags": []
   },
   "source": [
    "# The  Hypothesis   <a id='hypothesis'></a>   "
   ]
  },
  {
   "cell_type": "markdown",
   "id": "6553cba9",
   "metadata": {
    "execution": {
     "iopub.execute_input": "2023-03-19T20:08:10.723871Z",
     "iopub.status.busy": "2023-03-19T20:08:10.723267Z",
     "iopub.status.idle": "2023-03-19T20:08:10.730032Z",
     "shell.execute_reply": "2023-03-19T20:08:10.728533Z",
     "shell.execute_reply.started": "2023-03-19T20:08:10.723828Z"
    },
    "papermill": {
     "duration": 0.005517,
     "end_time": "2023-03-19T21:41:57.132093",
     "exception": false,
     "start_time": "2023-03-19T21:41:57.126576",
     "status": "completed"
    },
    "tags": []
   },
   "source": [
    "The Hypothesis Text!"
   ]
  },
  {
   "cell_type": "code",
   "execution_count": 3,
   "id": "c1780341",
   "metadata": {
    "execution": {
     "iopub.execute_input": "2023-03-19T21:41:57.146097Z",
     "iopub.status.busy": "2023-03-19T21:41:57.145640Z",
     "iopub.status.idle": "2023-03-19T21:41:57.151269Z",
     "shell.execute_reply": "2023-03-19T21:41:57.150006Z"
    },
    "papermill": {
     "duration": 0.015425,
     "end_time": "2023-03-19T21:41:57.153647",
     "exception": false,
     "start_time": "2023-03-19T21:41:57.138222",
     "status": "completed"
    },
    "tags": []
   },
   "outputs": [],
   "source": [
    "# The hypothesis\n",
    "def h(x, theta):\n",
    "    \"\"\"\n",
    "     Calculates the predicted values (or predicted targets) for a given set of input and theta vectors.\n",
    "    \n",
    "    :param x: inputs (feature values) - data frame of floats \n",
    "    :param theta: theta vector (weights) - Numpy array of floats\n",
    "    \n",
    "    :return: predicted targets - Numpy array of floats\n",
    "    \n",
    "    \"\"\"\n",
    "    # The hypothesis is a column vector of m x 1\n",
    "    return np.dot(x, theta)"
   ]
  },
  {
   "cell_type": "markdown",
   "id": "5166f08c",
   "metadata": {
    "papermill": {
     "duration": 0.00544,
     "end_time": "2023-03-19T21:41:57.164906",
     "exception": false,
     "start_time": "2023-03-19T21:41:57.159466",
     "status": "completed"
    },
    "tags": []
   },
   "source": [
    "# The  Cost Function   <a id='cost'></a> "
   ]
  },
  {
   "cell_type": "markdown",
   "id": "96306473",
   "metadata": {
    "papermill": {
     "duration": 0.006442,
     "end_time": "2023-03-19T21:41:57.177107",
     "exception": false,
     "start_time": "2023-03-19T21:41:57.170665",
     "status": "completed"
    },
    "tags": []
   },
   "source": [
    "The cost Function Text!"
   ]
  },
  {
   "cell_type": "code",
   "execution_count": 4,
   "id": "81cf400c",
   "metadata": {
    "execution": {
     "iopub.execute_input": "2023-03-19T21:41:57.190267Z",
     "iopub.status.busy": "2023-03-19T21:41:57.189829Z",
     "iopub.status.idle": "2023-03-19T21:41:57.197159Z",
     "shell.execute_reply": "2023-03-19T21:41:57.195887Z"
    },
    "papermill": {
     "duration": 0.016727,
     "end_time": "2023-03-19T21:41:57.199494",
     "exception": false,
     "start_time": "2023-03-19T21:41:57.182767",
     "status": "completed"
    },
    "tags": []
   },
   "outputs": [],
   "source": [
    "# The cost function\n",
    "\n",
    "def J(X,y,theta):\n",
    "    \"\"\"\n",
    "     Calculates the total error using squared error function.\n",
    "    \n",
    "    :param X: inputs (feature values) - data frame of floats\n",
    "    :param y: outputs (actual target values) - Numpy array of floats\n",
    "    :param theta: theta vector (weights) - Numpy array of floats\n",
    "    \n",
    "    :return: total error - float\n",
    "    \n",
    "    \"\"\"\n",
    "    # Calculate number of examples\n",
    "    m = len(X)\n",
    "    \n",
    "    # Calculate the constant\n",
    "    c = 1/(2 * m)\n",
    "       \n",
    "    # Calculate the array of errors\n",
    "    temp_0 = h(X, theta) - y.reshape(-1)\n",
    "\n",
    "    # Calculate the transpose of array of errors\n",
    "    temp_1 = temp_0.transpose()\n",
    "\n",
    "    # Calculate the dot product \n",
    "    temp_2 = np.dot(temp_1, temp_0) \n",
    "\n",
    "    return  c * temp_2"
   ]
  },
  {
   "cell_type": "markdown",
   "id": "86bbc2f5",
   "metadata": {
    "papermill": {
     "duration": 0.005443,
     "end_time": "2023-03-19T21:41:57.210720",
     "exception": false,
     "start_time": "2023-03-19T21:41:57.205277",
     "status": "completed"
    },
    "tags": []
   },
   "source": [
    "# Loading Data   <a id='getdata'></a> "
   ]
  },
  {
   "cell_type": "markdown",
   "id": "49cbf135",
   "metadata": {
    "papermill": {
     "duration": 0.005443,
     "end_time": "2023-03-19T21:41:57.221961",
     "exception": false,
     "start_time": "2023-03-19T21:41:57.216518",
     "status": "completed"
    },
    "tags": []
   },
   "source": [
    "First of all, we will load the CSV file in this part. Since there are two different versions of the dataset, we will load the one with more data. We will then create our training DataFrame and target vector. Next, we will normalize some columns of the training DataFrame using min-max scaling. Finally, we will split our data into training and validation DataFrames so that we can validate the results."
   ]
  },
  {
   "cell_type": "code",
   "execution_count": 5,
   "id": "1cb364e6",
   "metadata": {
    "execution": {
     "iopub.execute_input": "2023-03-19T21:41:57.235536Z",
     "iopub.status.busy": "2023-03-19T21:41:57.235142Z",
     "iopub.status.idle": "2023-03-19T21:41:57.294102Z",
     "shell.execute_reply": "2023-03-19T21:41:57.292530Z"
    },
    "papermill": {
     "duration": 0.069176,
     "end_time": "2023-03-19T21:41:57.296824",
     "exception": false,
     "start_time": "2023-03-19T21:41:57.227648",
     "status": "completed"
    },
    "tags": []
   },
   "outputs": [
    {
     "data": {
      "text/html": [
       "<div>\n",
       "<style scoped>\n",
       "    .dataframe tbody tr th:only-of-type {\n",
       "        vertical-align: middle;\n",
       "    }\n",
       "\n",
       "    .dataframe tbody tr th {\n",
       "        vertical-align: top;\n",
       "    }\n",
       "\n",
       "    .dataframe thead th {\n",
       "        text-align: right;\n",
       "    }\n",
       "</style>\n",
       "<table border=\"1\" class=\"dataframe\">\n",
       "  <thead>\n",
       "    <tr style=\"text-align: right;\">\n",
       "      <th></th>\n",
       "      <th>GRE Score</th>\n",
       "      <th>TOEFL Score</th>\n",
       "      <th>University Rating</th>\n",
       "      <th>SOP</th>\n",
       "      <th>LOR</th>\n",
       "      <th>CGPA</th>\n",
       "      <th>Research</th>\n",
       "    </tr>\n",
       "  </thead>\n",
       "  <tbody>\n",
       "    <tr>\n",
       "      <th>107</th>\n",
       "      <td>338</td>\n",
       "      <td>117</td>\n",
       "      <td>4</td>\n",
       "      <td>3.5</td>\n",
       "      <td>4.5</td>\n",
       "      <td>9.46</td>\n",
       "      <td>1</td>\n",
       "    </tr>\n",
       "    <tr>\n",
       "      <th>336</th>\n",
       "      <td>319</td>\n",
       "      <td>110</td>\n",
       "      <td>3</td>\n",
       "      <td>3.0</td>\n",
       "      <td>2.5</td>\n",
       "      <td>8.79</td>\n",
       "      <td>0</td>\n",
       "    </tr>\n",
       "    <tr>\n",
       "      <th>71</th>\n",
       "      <td>336</td>\n",
       "      <td>112</td>\n",
       "      <td>5</td>\n",
       "      <td>5.0</td>\n",
       "      <td>5.0</td>\n",
       "      <td>9.76</td>\n",
       "      <td>1</td>\n",
       "    </tr>\n",
       "    <tr>\n",
       "      <th>474</th>\n",
       "      <td>308</td>\n",
       "      <td>105</td>\n",
       "      <td>4</td>\n",
       "      <td>3.0</td>\n",
       "      <td>2.5</td>\n",
       "      <td>7.95</td>\n",
       "      <td>1</td>\n",
       "    </tr>\n",
       "    <tr>\n",
       "      <th>6</th>\n",
       "      <td>321</td>\n",
       "      <td>109</td>\n",
       "      <td>3</td>\n",
       "      <td>3.0</td>\n",
       "      <td>4.0</td>\n",
       "      <td>8.20</td>\n",
       "      <td>1</td>\n",
       "    </tr>\n",
       "  </tbody>\n",
       "</table>\n",
       "</div>"
      ],
      "text/plain": [
       "     GRE Score  TOEFL Score  University Rating  SOP  LOR   CGPA  Research\n",
       "107        338          117                  4  3.5   4.5  9.46         1\n",
       "336        319          110                  3  3.0   2.5  8.79         0\n",
       "71         336          112                  5  5.0   5.0  9.76         1\n",
       "474        308          105                  4  3.0   2.5  7.95         1\n",
       "6          321          109                  3  3.0   4.0  8.20         1"
      ]
     },
     "execution_count": 5,
     "metadata": {},
     "output_type": "execute_result"
    }
   ],
   "source": [
    "# Get the data. Note that there are two versions. We will use the one\n",
    "# with the most rows.\n",
    "\n",
    "train_data = pd.read_csv(\"/kaggle/input/graduate-admissions/Admission_Predict_Ver1.1.csv\")\n",
    "\n",
    "# Set X and y\n",
    "X = train_data.drop(['Chance of Admit ', 'Serial No.'], axis=1) # Chance of Admit is the target variable and Serial No. is the order. So we drop them.\n",
    "y = pd.DataFrame(data = train_data['Chance of Admit ']).to_numpy()\n",
    "\n",
    "# Instead of finding probabilities, we want to calculate the percentages.\n",
    "y = y * 100\n",
    "\n",
    "# Break off validation set from training data\n",
    "X_train, X_valid, y_train, y_valid = train_test_split(X, y, train_size=0.8, test_size=0.2, random_state = 0)\n",
    "\n",
    "X_train.head()"
   ]
  },
  {
   "cell_type": "markdown",
   "id": "f41f94fa",
   "metadata": {
    "papermill": {
     "duration": 0.006011,
     "end_time": "2023-03-19T21:41:57.309067",
     "exception": false,
     "start_time": "2023-03-19T21:41:57.303056",
     "status": "completed"
    },
    "tags": []
   },
   "source": [
    "# Model Training   <a id='training'></a> "
   ]
  },
  {
   "cell_type": "markdown",
   "id": "414d15d2",
   "metadata": {
    "papermill": {
     "duration": 0.005775,
     "end_time": "2023-03-19T21:41:57.321012",
     "exception": false,
     "start_time": "2023-03-19T21:41:57.315237",
     "status": "completed"
    },
    "tags": []
   },
   "source": [
    "Model Training Text!"
   ]
  },
  {
   "cell_type": "code",
   "execution_count": 6,
   "id": "926ee258",
   "metadata": {
    "execution": {
     "iopub.execute_input": "2023-03-19T21:41:57.334741Z",
     "iopub.status.busy": "2023-03-19T21:41:57.334320Z",
     "iopub.status.idle": "2023-03-19T21:41:57.358281Z",
     "shell.execute_reply": "2023-03-19T21:41:57.356892Z"
    },
    "papermill": {
     "duration": 0.035508,
     "end_time": "2023-03-19T21:41:57.362407",
     "exception": false,
     "start_time": "2023-03-19T21:41:57.326899",
     "status": "completed"
    },
    "tags": []
   },
   "outputs": [
    {
     "name": "stdout",
     "output_type": "stream",
     "text": [
      "[-1.34416734e+02  2.14141419e-01  2.77038677e-01  5.55692827e-01\n",
      "  5.10313673e-02  2.04133847e+00  1.15053979e+01  2.41256700e+00]\n",
      "Cost_train: 17.100414719720018\n"
     ]
    }
   ],
   "source": [
    "# Initialize\n",
    "\n",
    "# Calculate the number of examles\n",
    "m_train = len(X_train)\n",
    "m_valid = len(X_valid)\n",
    "\n",
    "# Calculate the number of features\n",
    "# including X_0\n",
    "n = len(X_train.axes[1]) + 1\n",
    "\n",
    "# Create a list of ones\n",
    "ones_train = [1] * m_train\n",
    "ones_valid = [1] * m_valid\n",
    "\n",
    "# Insert ones to the fist column since\n",
    "# X_0 for all training examples should\n",
    "# be one.\n",
    "X_train.insert(0, \"X_0\", ones_train, True)\n",
    "X_valid.insert(0, \"X_0\", ones_valid, True)\n",
    "\n",
    "# Find the theta vector using the normal equation\n",
    "theta_train = calculate_theta(X_train,y_train)\n",
    "print(theta_train)\n",
    "\n",
    "# Calculate and display the cost value on the training dataset\n",
    "cost_train = J(X_train, y_train, theta_train)\n",
    "print(\"Cost_train: {}\".format(cost_train))"
   ]
  },
  {
   "cell_type": "markdown",
   "id": "706c5dd0",
   "metadata": {
    "papermill": {
     "duration": 0.014561,
     "end_time": "2023-03-19T21:41:57.392303",
     "exception": false,
     "start_time": "2023-03-19T21:41:57.377742",
     "status": "completed"
    },
    "tags": []
   },
   "source": [
    "# Model Validation   <a id='validation'></a> "
   ]
  },
  {
   "cell_type": "markdown",
   "id": "4ca0d20c",
   "metadata": {
    "papermill": {
     "duration": 0.014768,
     "end_time": "2023-03-19T21:41:57.422301",
     "exception": false,
     "start_time": "2023-03-19T21:41:57.407533",
     "status": "completed"
    },
    "tags": []
   },
   "source": [
    "Model Validation Text"
   ]
  },
  {
   "cell_type": "code",
   "execution_count": 7,
   "id": "6d712764",
   "metadata": {
    "execution": {
     "iopub.execute_input": "2023-03-19T21:41:57.456146Z",
     "iopub.status.busy": "2023-03-19T21:41:57.455452Z",
     "iopub.status.idle": "2023-03-19T21:41:57.466173Z",
     "shell.execute_reply": "2023-03-19T21:41:57.464971Z"
    },
    "papermill": {
     "duration": 0.032299,
     "end_time": "2023-03-19T21:41:57.470025",
     "exception": false,
     "start_time": "2023-03-19T21:41:57.437726",
     "status": "completed"
    },
    "tags": []
   },
   "outputs": [
    {
     "name": "stdout",
     "output_type": "stream",
     "text": [
      "[-1.34416734e+02  2.14141419e-01  2.77038677e-01  5.55692827e-01\n",
      "  5.10313673e-02  2.04133847e+00  1.15053979e+01  2.41256700e+00]\n",
      "Cost_valid: 20.39840017300976\n"
     ]
    }
   ],
   "source": [
    "print(theta_train)\n",
    "cost_valid = J(X_valid, y_valid, theta_train)\n",
    "print(\"Cost_valid: {}\".format(cost_valid))"
   ]
  },
  {
   "cell_type": "markdown",
   "id": "1a754ce8",
   "metadata": {
    "papermill": {
     "duration": 0.005794,
     "end_time": "2023-03-19T21:41:57.483712",
     "exception": false,
     "start_time": "2023-03-19T21:41:57.477918",
     "status": "completed"
    },
    "tags": []
   },
   "source": [
    "The cost of the validation dataset seems slightly bigger (worse) than the training dataset, which is expected. We can also see the validation results below:"
   ]
  },
  {
   "cell_type": "code",
   "execution_count": 8,
   "id": "bd574442",
   "metadata": {
    "execution": {
     "iopub.execute_input": "2023-03-19T21:41:57.498737Z",
     "iopub.status.busy": "2023-03-19T21:41:57.497867Z",
     "iopub.status.idle": "2023-03-19T21:41:57.511995Z",
     "shell.execute_reply": "2023-03-19T21:41:57.510823Z"
    },
    "papermill": {
     "duration": 0.024335,
     "end_time": "2023-03-19T21:41:57.514319",
     "exception": false,
     "start_time": "2023-03-19T21:41:57.489984",
     "status": "completed"
    },
    "tags": []
   },
   "outputs": [
    {
     "data": {
      "text/html": [
       "<div>\n",
       "<style scoped>\n",
       "    .dataframe tbody tr th:only-of-type {\n",
       "        vertical-align: middle;\n",
       "    }\n",
       "\n",
       "    .dataframe tbody tr th {\n",
       "        vertical-align: top;\n",
       "    }\n",
       "\n",
       "    .dataframe thead th {\n",
       "        text-align: right;\n",
       "    }\n",
       "</style>\n",
       "<table border=\"1\" class=\"dataframe\">\n",
       "  <thead>\n",
       "    <tr style=\"text-align: right;\">\n",
       "      <th></th>\n",
       "      <th>Actual CoA</th>\n",
       "      <th>Predicted CoA</th>\n",
       "    </tr>\n",
       "  </thead>\n",
       "  <tbody>\n",
       "    <tr>\n",
       "      <th>90</th>\n",
       "      <td>64.0</td>\n",
       "      <td>66.062520</td>\n",
       "    </tr>\n",
       "    <tr>\n",
       "      <th>254</th>\n",
       "      <td>85.0</td>\n",
       "      <td>83.467888</td>\n",
       "    </tr>\n",
       "    <tr>\n",
       "      <th>283</th>\n",
       "      <td>80.0</td>\n",
       "      <td>77.803235</td>\n",
       "    </tr>\n",
       "    <tr>\n",
       "      <th>445</th>\n",
       "      <td>91.0</td>\n",
       "      <td>88.054515</td>\n",
       "    </tr>\n",
       "    <tr>\n",
       "      <th>461</th>\n",
       "      <td>68.0</td>\n",
       "      <td>60.126564</td>\n",
       "    </tr>\n",
       "  </tbody>\n",
       "</table>\n",
       "</div>"
      ],
      "text/plain": [
       "     Actual CoA  Predicted CoA\n",
       "90         64.0      66.062520\n",
       "254        85.0      83.467888\n",
       "283        80.0      77.803235\n",
       "445        91.0      88.054515\n",
       "461        68.0      60.126564"
      ]
     },
     "execution_count": 8,
     "metadata": {},
     "output_type": "execute_result"
    }
   ],
   "source": [
    "# Compare actual results with predicted results\n",
    "result = pd.DataFrame(index=X_valid.index)\n",
    "result['Actual CoA'] = y_valid\n",
    "result['Predicted CoA'] = h(X_valid, theta_train)\n",
    "result.head()"
   ]
  },
  {
   "cell_type": "markdown",
   "id": "f3685850",
   "metadata": {
    "papermill": {
     "duration": 0.006013,
     "end_time": "2023-03-19T21:41:57.526675",
     "exception": false,
     "start_time": "2023-03-19T21:41:57.520662",
     "status": "completed"
    },
    "tags": []
   },
   "source": [
    "# Conclusion   <a id='conclusion'></a> "
   ]
  },
  {
   "cell_type": "markdown",
   "id": "5a8b27e0",
   "metadata": {
    "papermill": {
     "duration": 0.005857,
     "end_time": "2023-03-19T21:41:57.538730",
     "exception": false,
     "start_time": "2023-03-19T21:41:57.532873",
     "status": "completed"
    },
    "tags": []
   },
   "source": [
    "Conclusion Text!"
   ]
  },
  {
   "cell_type": "markdown",
   "id": "b96d5226",
   "metadata": {
    "papermill": {
     "duration": 0.006052,
     "end_time": "2023-03-19T21:41:57.551064",
     "exception": false,
     "start_time": "2023-03-19T21:41:57.545012",
     "status": "completed"
    },
    "tags": []
   },
   "source": [
    "# References   <a id='references'></a>\n",
    "* [Machine Learning Specialization - Deeplearning.AI](https://www.deeplearning.ai/program/machine-learning-specialization/)\n",
    "* [Andrew Ng](https://en.wikipedia.org/wiki/Andrew_Ng)\n",
    "* [@Mohan S Acharya](https://www.kaggle.com/mohansacharya)\n",
    "* [Multivariate Linear Regression From Scratch - Kaggle](https://www.kaggle.com/code/erkanhatipoglu/multivariate-linear-regression-from-scratch)\n",
    "* [Univariate Linear Regression From Scratch - Kaggle](https://www.kaggle.com/code/erkanhatipoglu/univariate-linear-regression-from-scratch)\n",
    "* [Univariate Linear Regression From Scratch - Towards AI](https://pub.towardsai.net/univariate-linear-regression-from-scratch-68065fe8eb09)\n",
    "* [Towards AI](https://pub.towardsai.net/)"
   ]
  }
 ],
 "metadata": {
  "kernelspec": {
   "display_name": "Python 3",
   "language": "python",
   "name": "python3"
  },
  "language_info": {
   "codemirror_mode": {
    "name": "ipython",
    "version": 3
   },
   "file_extension": ".py",
   "mimetype": "text/x-python",
   "name": "python",
   "nbconvert_exporter": "python",
   "pygments_lexer": "ipython3",
   "version": "3.7.12"
  },
  "papermill": {
   "default_parameters": {},
   "duration": 13.096291,
   "end_time": "2023-03-19T21:41:58.279055",
   "environment_variables": {},
   "exception": null,
   "input_path": "__notebook__.ipynb",
   "output_path": "__notebook__.ipynb",
   "parameters": {},
   "start_time": "2023-03-19T21:41:45.182764",
   "version": "2.4.0"
  }
 },
 "nbformat": 4,
 "nbformat_minor": 5
}
