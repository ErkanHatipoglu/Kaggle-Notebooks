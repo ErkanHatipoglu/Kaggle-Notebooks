{
 "cells": [
  {
   "cell_type": "markdown",
   "id": "84c580a3",
   "metadata": {
    "papermill": {
     "duration": 0.006433,
     "end_time": "2023-03-19T21:33:28.340483",
     "exception": false,
     "start_time": "2023-03-19T21:33:28.334050",
     "status": "completed"
    },
    "tags": []
   },
   "source": [
    "# Introduction  <a id='introduction'></a>\n",
    "\n",
    "Introduction Text!\n",
    "\n",
    "This notebook is greatly inspired by the famous Machine Learning course by [Andrew Ng](https://www.andrewng.org/). All the mistakes, if any, are made by me.\n",
    "\n",
    "Finally, thanks to [@Mohan S Acharya](https://www.kaggle.com/mohansacharya) for this dataset.\n",
    "\n",
    "\n",
    "# Table of Contents\n",
    "* [Introduction](#introduction)\n",
    "* [Helper functions](#functions)\n",
    "* [The Normal Equation](#normal)\n",
    "* [The Hypothesis](#hypothesis)\n",
    "* [The Cost Function](#cost)\n",
    "* [Loading Data](#getdata)\n",
    "* [Model Training](#training)\n",
    "* [Model Validation](#validation)\n",
    "* [Conclusion](#conclusion)\n",
    "* [References](#references)"
   ]
  },
  {
   "cell_type": "code",
   "execution_count": 1,
   "id": "57ae650b",
   "metadata": {
    "_cell_guid": "b1076dfc-b9ad-4769-8c92-a6c4dae69d19",
    "_uuid": "8f2839f25d086af736a60e9eeb907d3b93b6e0e5",
    "execution": {
     "iopub.execute_input": "2023-03-19T21:33:28.354069Z",
     "iopub.status.busy": "2023-03-19T21:33:28.352916Z",
     "iopub.status.idle": "2023-03-19T21:33:29.508222Z",
     "shell.execute_reply": "2023-03-19T21:33:29.506563Z"
    },
    "papermill": {
     "duration": 1.16517,
     "end_time": "2023-03-19T21:33:29.511204",
     "exception": false,
     "start_time": "2023-03-19T21:33:28.346034",
     "status": "completed"
    },
    "tags": []
   },
   "outputs": [
    {
     "name": "stdout",
     "output_type": "stream",
     "text": [
      "/kaggle/input/graduate-admissions/Admission_Predict.csv\n",
      "/kaggle/input/graduate-admissions/Admission_Predict_Ver1.1.csv\n"
     ]
    }
   ],
   "source": [
    "# This Python 3 environment comes with many helpful analytics libraries installed\n",
    "# It is defined by the kaggle/python Docker image: https://github.com/kaggle/docker-python\n",
    "# For example, here's several helpful packages to load\n",
    "\n",
    "import numpy as np # linear algebra\n",
    "import pandas as pd # data processing, CSV file I/O (e.g. pd.read_csv)\n",
    "\n",
    "# Input data files are available in the read-only \"../input/\" directory\n",
    "# For example, running this (by clicking run or pressing Shift+Enter) will list all files under the input directory\n",
    "\n",
    "import os\n",
    "for dirname, _, filenames in os.walk('/kaggle/input'):\n",
    "    for filename in filenames:\n",
    "        print(os.path.join(dirname, filename))\n",
    "\n",
    "# You can write up to 20GB to the current directory (/kaggle/working/) that gets preserved as output when you create a version using \"Save & Run All\" \n",
    "# You can also write temporary files to /kaggle/temp/, but they won't be saved outside of the current session\n",
    "\n",
    "from sklearn.model_selection import train_test_split"
   ]
  },
  {
   "cell_type": "markdown",
   "id": "eac81d31",
   "metadata": {
    "papermill": {
     "duration": 0.00515,
     "end_time": "2023-03-19T21:33:29.522067",
     "exception": false,
     "start_time": "2023-03-19T21:33:29.516917",
     "status": "completed"
    },
    "tags": []
   },
   "source": [
    "# Helper Functions   <a id='functions'></a>   "
   ]
  },
  {
   "cell_type": "markdown",
   "id": "cdfc8bc0",
   "metadata": {
    "papermill": {
     "duration": 0.00513,
     "end_time": "2023-03-19T21:33:29.532592",
     "exception": false,
     "start_time": "2023-03-19T21:33:29.527462",
     "status": "completed"
    },
    "tags": []
   },
   "source": [
    "<div class=\"alert alert-block alert-info\">\n",
    "<b>Tip:</b> We will use some helper functions throughout the notebook. Collecting them in one place is a good idea, making the code more organized. First, we will define and explain those functions and then use them in our code.\n",
    "</div>"
   ]
  },
  {
   "cell_type": "markdown",
   "id": "16181cdc",
   "metadata": {
    "papermill": {
     "duration": 0.005005,
     "end_time": "2023-03-19T21:33:29.542904",
     "exception": false,
     "start_time": "2023-03-19T21:33:29.537899",
     "status": "completed"
    },
    "tags": []
   },
   "source": [
    "# The Normal Equation   <a id='normal'></a> "
   ]
  },
  {
   "cell_type": "markdown",
   "id": "ca9469ae",
   "metadata": {
    "papermill": {
     "duration": 0.005047,
     "end_time": "2023-03-19T21:33:29.553438",
     "exception": false,
     "start_time": "2023-03-19T21:33:29.548391",
     "status": "completed"
    },
    "tags": []
   },
   "source": [
    "The Normal Equation Text!"
   ]
  },
  {
   "cell_type": "code",
   "execution_count": 2,
   "id": "f08c26bb",
   "metadata": {
    "execution": {
     "iopub.execute_input": "2023-03-19T21:33:29.566473Z",
     "iopub.status.busy": "2023-03-19T21:33:29.566030Z",
     "iopub.status.idle": "2023-03-19T21:33:29.573231Z",
     "shell.execute_reply": "2023-03-19T21:33:29.571835Z"
    },
    "papermill": {
     "duration": 0.01716,
     "end_time": "2023-03-19T21:33:29.575991",
     "exception": false,
     "start_time": "2023-03-19T21:33:29.558831",
     "status": "completed"
    },
    "tags": []
   },
   "outputs": [],
   "source": [
    "# The normal equation\n",
    "\n",
    "def calculate_theta(X,y):\n",
    "    \"\"\"\n",
    "     Calculates the theta vector using the normal equation.\n",
    "    \n",
    "    :param X: inputs (feature values) - data frame of floats\n",
    "    :param y: outputs (actual target values) - Numpy array of floats\n",
    "    \n",
    "    :return: new theta - Numpy array of floats\n",
    "    \n",
    "    \"\"\"\n",
    "    # Calculate transpose of X\n",
    "    X_transpose = X.transpose()\n",
    "    \n",
    "    # Calculate the dot product between X_transpose and X\n",
    "    temp_0 = np.dot(X_transpose, X)\n",
    "        \n",
    "    # Calculate the inverse of temp_0\n",
    "    temp_1 = np.linalg.inv(temp_0)\n",
    "\n",
    "    # Calculate the dot product between temp_1 and X_transpose\n",
    "    temp_2 = np.dot(temp_1, X_transpose)\n",
    "\n",
    "    # Calculate the dot product between temp_2 and y\n",
    "    theta = np.dot(temp_2, y) \n",
    "\n",
    "    return  theta.reshape(-1)"
   ]
  },
  {
   "cell_type": "markdown",
   "id": "10070d87",
   "metadata": {
    "papermill": {
     "duration": 0.005296,
     "end_time": "2023-03-19T21:33:29.586954",
     "exception": false,
     "start_time": "2023-03-19T21:33:29.581658",
     "status": "completed"
    },
    "tags": []
   },
   "source": [
    "# The  Hypothesis   <a id='hypothesis'></a>   "
   ]
  },
  {
   "cell_type": "markdown",
   "id": "5c793854",
   "metadata": {
    "execution": {
     "iopub.execute_input": "2023-03-19T20:08:10.723871Z",
     "iopub.status.busy": "2023-03-19T20:08:10.723267Z",
     "iopub.status.idle": "2023-03-19T20:08:10.730032Z",
     "shell.execute_reply": "2023-03-19T20:08:10.728533Z",
     "shell.execute_reply.started": "2023-03-19T20:08:10.723828Z"
    },
    "papermill": {
     "duration": 0.005225,
     "end_time": "2023-03-19T21:33:29.597748",
     "exception": false,
     "start_time": "2023-03-19T21:33:29.592523",
     "status": "completed"
    },
    "tags": []
   },
   "source": [
    "The Hypothesis Text!"
   ]
  },
  {
   "cell_type": "code",
   "execution_count": 3,
   "id": "979297bf",
   "metadata": {
    "execution": {
     "iopub.execute_input": "2023-03-19T21:33:29.610763Z",
     "iopub.status.busy": "2023-03-19T21:33:29.610329Z",
     "iopub.status.idle": "2023-03-19T21:33:29.616137Z",
     "shell.execute_reply": "2023-03-19T21:33:29.614742Z"
    },
    "papermill": {
     "duration": 0.015409,
     "end_time": "2023-03-19T21:33:29.618644",
     "exception": false,
     "start_time": "2023-03-19T21:33:29.603235",
     "status": "completed"
    },
    "tags": []
   },
   "outputs": [],
   "source": [
    "# The hypothesis\n",
    "def h(x, theta):\n",
    "    \"\"\"\n",
    "     Calculates the predicted values (or predicted targets) for a given set of input and theta vectors.\n",
    "    \n",
    "    :param x: inputs (feature values) - data frame of floats \n",
    "    :param theta: theta vector (weights) - Numpy array of floats\n",
    "    \n",
    "    :return: predicted targets - Numpy array of floats\n",
    "    \n",
    "    \"\"\"\n",
    "    # The hypothesis is a column vector of m x 1\n",
    "    return np.dot(x, theta)"
   ]
  },
  {
   "cell_type": "markdown",
   "id": "cbd3212f",
   "metadata": {
    "papermill": {
     "duration": 0.005172,
     "end_time": "2023-03-19T21:33:29.629398",
     "exception": false,
     "start_time": "2023-03-19T21:33:29.624226",
     "status": "completed"
    },
    "tags": []
   },
   "source": [
    "# The  Cost Function   <a id='cost'></a> "
   ]
  },
  {
   "cell_type": "markdown",
   "id": "75602cb7",
   "metadata": {
    "papermill": {
     "duration": 0.005111,
     "end_time": "2023-03-19T21:33:29.641007",
     "exception": false,
     "start_time": "2023-03-19T21:33:29.635896",
     "status": "completed"
    },
    "tags": []
   },
   "source": [
    "The cost Function Text!"
   ]
  },
  {
   "cell_type": "code",
   "execution_count": 4,
   "id": "407e48ad",
   "metadata": {
    "execution": {
     "iopub.execute_input": "2023-03-19T21:33:29.653778Z",
     "iopub.status.busy": "2023-03-19T21:33:29.653314Z",
     "iopub.status.idle": "2023-03-19T21:33:29.660405Z",
     "shell.execute_reply": "2023-03-19T21:33:29.659464Z"
    },
    "papermill": {
     "duration": 0.016284,
     "end_time": "2023-03-19T21:33:29.662677",
     "exception": false,
     "start_time": "2023-03-19T21:33:29.646393",
     "status": "completed"
    },
    "tags": []
   },
   "outputs": [],
   "source": [
    "# The cost function\n",
    "\n",
    "def J(X,y,theta):\n",
    "    \"\"\"\n",
    "     Calculates the total error using squared error function.\n",
    "    \n",
    "    :param X: inputs (feature values) - data frame of floats\n",
    "    :param y: outputs (actual target values) - Numpy array of floats\n",
    "    :param theta: theta vector (weights) - Numpy array of floats\n",
    "    \n",
    "    :return: total error - float\n",
    "    \n",
    "    \"\"\"\n",
    "    # Calculate number of examples\n",
    "    m = len(X)\n",
    "    \n",
    "    # Calculate the constant\n",
    "    c = 1/(2 * m)\n",
    "       \n",
    "    # Calculate the array of errors\n",
    "    temp_0 = h(X, theta) - y.reshape(-1)\n",
    "\n",
    "    # Calculate the transpose of array of errors\n",
    "    temp_1 = temp_0.transpose()\n",
    "\n",
    "    # Calculate the dot product \n",
    "    temp_2 = np.dot(temp_1, temp_0) \n",
    "\n",
    "    return  c * temp_2"
   ]
  },
  {
   "cell_type": "markdown",
   "id": "62a428d7",
   "metadata": {
    "papermill": {
     "duration": 0.005306,
     "end_time": "2023-03-19T21:33:29.673966",
     "exception": false,
     "start_time": "2023-03-19T21:33:29.668660",
     "status": "completed"
    },
    "tags": []
   },
   "source": [
    "# Loading Data   <a id='getdata'></a> "
   ]
  },
  {
   "cell_type": "markdown",
   "id": "4d5709bf",
   "metadata": {
    "papermill": {
     "duration": 0.005203,
     "end_time": "2023-03-19T21:33:29.684670",
     "exception": false,
     "start_time": "2023-03-19T21:33:29.679467",
     "status": "completed"
    },
    "tags": []
   },
   "source": [
    "First of all, we will load the CSV file in this part. Since there are two different versions of the dataset, we will load the one with more data. We will then create our training DataFrame and target vector. Next, we will normalize some columns of the training DataFrame using min-max scaling. Finally, we will split our data into training and validation DataFrames so that we can validate the results."
   ]
  },
  {
   "cell_type": "code",
   "execution_count": 5,
   "id": "6a4ca1ac",
   "metadata": {
    "execution": {
     "iopub.execute_input": "2023-03-19T21:33:29.697560Z",
     "iopub.status.busy": "2023-03-19T21:33:29.697080Z",
     "iopub.status.idle": "2023-03-19T21:33:29.757701Z",
     "shell.execute_reply": "2023-03-19T21:33:29.756274Z"
    },
    "papermill": {
     "duration": 0.070357,
     "end_time": "2023-03-19T21:33:29.760456",
     "exception": false,
     "start_time": "2023-03-19T21:33:29.690099",
     "status": "completed"
    },
    "tags": []
   },
   "outputs": [
    {
     "data": {
      "text/html": [
       "<div>\n",
       "<style scoped>\n",
       "    .dataframe tbody tr th:only-of-type {\n",
       "        vertical-align: middle;\n",
       "    }\n",
       "\n",
       "    .dataframe tbody tr th {\n",
       "        vertical-align: top;\n",
       "    }\n",
       "\n",
       "    .dataframe thead th {\n",
       "        text-align: right;\n",
       "    }\n",
       "</style>\n",
       "<table border=\"1\" class=\"dataframe\">\n",
       "  <thead>\n",
       "    <tr style=\"text-align: right;\">\n",
       "      <th></th>\n",
       "      <th>GRE Score</th>\n",
       "      <th>TOEFL Score</th>\n",
       "      <th>University Rating</th>\n",
       "      <th>SOP</th>\n",
       "      <th>LOR</th>\n",
       "      <th>CGPA</th>\n",
       "      <th>Research</th>\n",
       "    </tr>\n",
       "  </thead>\n",
       "  <tbody>\n",
       "    <tr>\n",
       "      <th>107</th>\n",
       "      <td>338</td>\n",
       "      <td>117</td>\n",
       "      <td>4</td>\n",
       "      <td>3.5</td>\n",
       "      <td>4.5</td>\n",
       "      <td>9.46</td>\n",
       "      <td>1</td>\n",
       "    </tr>\n",
       "    <tr>\n",
       "      <th>336</th>\n",
       "      <td>319</td>\n",
       "      <td>110</td>\n",
       "      <td>3</td>\n",
       "      <td>3.0</td>\n",
       "      <td>2.5</td>\n",
       "      <td>8.79</td>\n",
       "      <td>0</td>\n",
       "    </tr>\n",
       "    <tr>\n",
       "      <th>71</th>\n",
       "      <td>336</td>\n",
       "      <td>112</td>\n",
       "      <td>5</td>\n",
       "      <td>5.0</td>\n",
       "      <td>5.0</td>\n",
       "      <td>9.76</td>\n",
       "      <td>1</td>\n",
       "    </tr>\n",
       "    <tr>\n",
       "      <th>474</th>\n",
       "      <td>308</td>\n",
       "      <td>105</td>\n",
       "      <td>4</td>\n",
       "      <td>3.0</td>\n",
       "      <td>2.5</td>\n",
       "      <td>7.95</td>\n",
       "      <td>1</td>\n",
       "    </tr>\n",
       "    <tr>\n",
       "      <th>6</th>\n",
       "      <td>321</td>\n",
       "      <td>109</td>\n",
       "      <td>3</td>\n",
       "      <td>3.0</td>\n",
       "      <td>4.0</td>\n",
       "      <td>8.20</td>\n",
       "      <td>1</td>\n",
       "    </tr>\n",
       "  </tbody>\n",
       "</table>\n",
       "</div>"
      ],
      "text/plain": [
       "     GRE Score  TOEFL Score  University Rating  SOP  LOR   CGPA  Research\n",
       "107        338          117                  4  3.5   4.5  9.46         1\n",
       "336        319          110                  3  3.0   2.5  8.79         0\n",
       "71         336          112                  5  5.0   5.0  9.76         1\n",
       "474        308          105                  4  3.0   2.5  7.95         1\n",
       "6          321          109                  3  3.0   4.0  8.20         1"
      ]
     },
     "execution_count": 5,
     "metadata": {},
     "output_type": "execute_result"
    }
   ],
   "source": [
    "# Get the data. Note that there are two versions. We will use the one\n",
    "# with the most rows.\n",
    "\n",
    "train_data = pd.read_csv(\"/kaggle/input/graduate-admissions/Admission_Predict_Ver1.1.csv\")\n",
    "\n",
    "# Set X and y\n",
    "X = train_data.drop(['Chance of Admit ', 'Serial No.'], axis=1) # Chance of Admit is the target variable and Serial No. is the order. So we drop them.\n",
    "y = pd.DataFrame(data = train_data['Chance of Admit ']).to_numpy()\n",
    "\n",
    "# Instead of finding probabilities, we want to calculate the percentages.\n",
    "y = y * 100\n",
    "\n",
    "# Break off validation set from training data\n",
    "X_train, X_valid, y_train, y_valid = train_test_split(X, y, train_size=0.8, test_size=0.2, random_state = 0)\n",
    "\n",
    "X_train.head()"
   ]
  },
  {
   "cell_type": "markdown",
   "id": "b733aa73",
   "metadata": {
    "papermill": {
     "duration": 0.00599,
     "end_time": "2023-03-19T21:33:29.772458",
     "exception": false,
     "start_time": "2023-03-19T21:33:29.766468",
     "status": "completed"
    },
    "tags": []
   },
   "source": [
    "# Model Training   <a id='training'></a> "
   ]
  },
  {
   "cell_type": "markdown",
   "id": "4ee58774",
   "metadata": {
    "papermill": {
     "duration": 0.005577,
     "end_time": "2023-03-19T21:33:29.784043",
     "exception": false,
     "start_time": "2023-03-19T21:33:29.778466",
     "status": "completed"
    },
    "tags": []
   },
   "source": [
    "Model Training Text!"
   ]
  },
  {
   "cell_type": "code",
   "execution_count": 6,
   "id": "5a2709e7",
   "metadata": {
    "execution": {
     "iopub.execute_input": "2023-03-19T21:33:29.797820Z",
     "iopub.status.busy": "2023-03-19T21:33:29.797418Z",
     "iopub.status.idle": "2023-03-19T21:33:29.816569Z",
     "shell.execute_reply": "2023-03-19T21:33:29.814812Z"
    },
    "papermill": {
     "duration": 0.03172,
     "end_time": "2023-03-19T21:33:29.821477",
     "exception": false,
     "start_time": "2023-03-19T21:33:29.789757",
     "status": "completed"
    },
    "tags": []
   },
   "outputs": [
    {
     "name": "stdout",
     "output_type": "stream",
     "text": [
      "[-0.30622847  0.33000528  1.79903096  0.81915373  1.80119468 13.5125661\n",
      "  5.61217317]\n",
      "Cost_train: 23.023913187168564\n"
     ]
    }
   ],
   "source": [
    "# Find the theta vector using the normal equation\n",
    "theta_train = calculate_theta(X_train,y_train)\n",
    "print(theta_train)\n",
    "\n",
    "# Calculate and display the cost value on the training dataset\n",
    "cost_train = J(X_train, y_train, theta_train)\n",
    "print(\"Cost_train: {}\".format(cost_train))"
   ]
  },
  {
   "cell_type": "markdown",
   "id": "1bd7938a",
   "metadata": {
    "papermill": {
     "duration": 0.014064,
     "end_time": "2023-03-19T21:33:29.851151",
     "exception": false,
     "start_time": "2023-03-19T21:33:29.837087",
     "status": "completed"
    },
    "tags": []
   },
   "source": [
    "# Model Validation   <a id='validation'></a> "
   ]
  },
  {
   "cell_type": "markdown",
   "id": "329940c0",
   "metadata": {
    "papermill": {
     "duration": 0.014229,
     "end_time": "2023-03-19T21:33:29.880369",
     "exception": false,
     "start_time": "2023-03-19T21:33:29.866140",
     "status": "completed"
    },
    "tags": []
   },
   "source": [
    "Model Validation Text"
   ]
  },
  {
   "cell_type": "code",
   "execution_count": 7,
   "id": "554c2eb5",
   "metadata": {
    "execution": {
     "iopub.execute_input": "2023-03-19T21:33:29.913433Z",
     "iopub.status.busy": "2023-03-19T21:33:29.912693Z",
     "iopub.status.idle": "2023-03-19T21:33:29.925359Z",
     "shell.execute_reply": "2023-03-19T21:33:29.923618Z"
    },
    "papermill": {
     "duration": 0.034971,
     "end_time": "2023-03-19T21:33:29.930237",
     "exception": false,
     "start_time": "2023-03-19T21:33:29.895266",
     "status": "completed"
    },
    "tags": []
   },
   "outputs": [
    {
     "name": "stdout",
     "output_type": "stream",
     "text": [
      "[-0.30622847  0.33000528  1.79903096  0.81915373  1.80119468 13.5125661\n",
      "  5.61217317]\n",
      "Cost_valid: 23.510351106668427\n"
     ]
    }
   ],
   "source": [
    "print(theta_train)\n",
    "cost_valid = J(X_valid, y_valid, theta_train)\n",
    "print(\"Cost_valid: {}\".format(cost_valid))"
   ]
  },
  {
   "cell_type": "markdown",
   "id": "93609911",
   "metadata": {
    "papermill": {
     "duration": 0.00557,
     "end_time": "2023-03-19T21:33:29.941975",
     "exception": false,
     "start_time": "2023-03-19T21:33:29.936405",
     "status": "completed"
    },
    "tags": []
   },
   "source": [
    "# Conclusion   <a id='conclusion'></a> "
   ]
  },
  {
   "cell_type": "markdown",
   "id": "66e70bd3",
   "metadata": {
    "papermill": {
     "duration": 0.005577,
     "end_time": "2023-03-19T21:33:29.953420",
     "exception": false,
     "start_time": "2023-03-19T21:33:29.947843",
     "status": "completed"
    },
    "tags": []
   },
   "source": [
    "Conclusion Text!"
   ]
  },
  {
   "cell_type": "markdown",
   "id": "da218686",
   "metadata": {
    "papermill": {
     "duration": 0.005701,
     "end_time": "2023-03-19T21:33:29.965720",
     "exception": false,
     "start_time": "2023-03-19T21:33:29.960019",
     "status": "completed"
    },
    "tags": []
   },
   "source": [
    "# References   <a id='references'></a>\n",
    "* [Machine Learning Specialization - Deeplearning.AI](https://www.deeplearning.ai/program/machine-learning-specialization/)\n",
    "* [Andrew Ng](https://en.wikipedia.org/wiki/Andrew_Ng)\n",
    "* [@Mohan S Acharya](https://www.kaggle.com/mohansacharya)\n",
    "* [Multivariate Linear Regression From Scratch - Kaggle](https://www.kaggle.com/code/erkanhatipoglu/multivariate-linear-regression-from-scratch)\n",
    "* [Univariate Linear Regression From Scratch - Kaggle](https://www.kaggle.com/code/erkanhatipoglu/univariate-linear-regression-from-scratch)\n",
    "* [Univariate Linear Regression From Scratch - Towards AI](https://pub.towardsai.net/univariate-linear-regression-from-scratch-68065fe8eb09)\n",
    "* [Towards AI](https://pub.towardsai.net/)"
   ]
  }
 ],
 "metadata": {
  "kernelspec": {
   "display_name": "Python 3",
   "language": "python",
   "name": "python3"
  },
  "language_info": {
   "codemirror_mode": {
    "name": "ipython",
    "version": 3
   },
   "file_extension": ".py",
   "mimetype": "text/x-python",
   "name": "python",
   "nbconvert_exporter": "python",
   "pygments_lexer": "ipython3",
   "version": "3.7.12"
  },
  "papermill": {
   "default_parameters": {},
   "duration": 12.783368,
   "end_time": "2023-03-19T21:33:30.694546",
   "environment_variables": {},
   "exception": null,
   "input_path": "__notebook__.ipynb",
   "output_path": "__notebook__.ipynb",
   "parameters": {},
   "start_time": "2023-03-19T21:33:17.911178",
   "version": "2.4.0"
  }
 },
 "nbformat": 4,
 "nbformat_minor": 5
}
